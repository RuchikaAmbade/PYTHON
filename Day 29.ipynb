{
 "cells": [
  {
   "cell_type": "markdown",
   "id": "b8430a0b-7788-4fdf-87af-6a4af7f8b292",
   "metadata": {},
   "source": [
    "##### Pattern 1 : Floyd Triangle"
   ]
  },
  {
   "cell_type": "code",
   "execution_count": 5,
   "id": "e136cfd8-2a72-4963-93b7-b2e73dd62257",
   "metadata": {},
   "outputs": [
    {
     "name": "stdout",
     "output_type": "stream",
     "text": [
      "1 \n",
      "2 3 \n",
      "4 5 6 \n",
      "7 8 9 10 \n"
     ]
    }
   ],
   "source": [
    "n=4\n",
    "p=1\n",
    "for i in range(1,n+1):\n",
    "    for j in range(1,i+1):\n",
    "        print(p,end=' ')\n",
    "        p=p+1\n",
    "    print()"
   ]
  },
  {
   "cell_type": "markdown",
   "id": "7256403d-efe3-47ae-bec8-fdede8cb5b8a",
   "metadata": {},
   "source": [
    "##### 2 WAP to print A using '*'"
   ]
  },
  {
   "cell_type": "code",
   "execution_count": 1,
   "id": "10d37798-0203-49fc-8980-02e5617c7b17",
   "metadata": {},
   "outputs": [
    {
     "name": "stdout",
     "output_type": "stream",
     "text": [
      "  * * *   \n",
      "*       * \n",
      "*       * \n",
      "* * * * * \n",
      "*       * \n",
      "*       * \n",
      "*       * \n"
     ]
    }
   ],
   "source": [
    "for row in range(7):\n",
    "    for col in range(5):\n",
    "        if ((col==0 or col==4) and row!=0) or ((row==0 or row==3) and (col>0 and col<4)):\n",
    "            print('*',end=' ')\n",
    "        else:\n",
    "            print(' ',end=' ')\n",
    "    print()"
   ]
  },
  {
   "cell_type": "markdown",
   "id": "a61f9c3b-8f5b-49c3-a8db-556d5fab030a",
   "metadata": {},
   "source": [
    "##### 3 WAP to print B using '*'"
   ]
  },
  {
   "cell_type": "code",
   "execution_count": 3,
   "id": "93766882-e78f-4e45-a5ee-6a08b01078cd",
   "metadata": {},
   "outputs": [
    {
     "name": "stdout",
     "output_type": "stream",
     "text": [
      "* * * *   \n",
      "*       * \n",
      "*       * \n",
      "* * * * * \n",
      "*       * \n",
      "*       * \n",
      "* * * *   \n"
     ]
    }
   ],
   "source": [
    "for row in range(7):\n",
    "    for col in range(5):\n",
    "        if (col==0 or (col==4 and row!=0 and row!=6)) or ((row==0 or row==3 or row==6 ) and (col>0 and col<4)):\n",
    "            print('*',end=' ')\n",
    "        else:\n",
    "            print(' ',end=' ')\n",
    "    print()"
   ]
  },
  {
   "cell_type": "markdown",
   "id": "83a00535-61c8-4b59-bb09-8304a5609071",
   "metadata": {},
   "source": [
    "##### 4 WAP to print C using '*'"
   ]
  },
  {
   "cell_type": "code",
   "execution_count": 5,
   "id": "c842d5a3-f88d-4fa1-ac54-354023f05586",
   "metadata": {},
   "outputs": [
    {
     "name": "stdout",
     "output_type": "stream",
     "text": [
      "  * * * * \n",
      "*         \n",
      "*         \n",
      "*         \n",
      "*         \n",
      "*         \n",
      "  * * * * \n"
     ]
    }
   ],
   "source": [
    "for row in range(7):\n",
    "    for col in range(5):\n",
    "        if (col==0 and (row!=0 and row!=6)) or ((row==0 or row==6) and (col>0)):\n",
    "            print('*',end=' ')\n",
    "        else: print(' ',end=' ')\n",
    "    print()"
   ]
  },
  {
   "cell_type": "markdown",
   "id": "368eb9ea-7228-4bd1-95c9-4bd54bdeb44b",
   "metadata": {},
   "source": [
    "##### 5 WAP to print D using '*'"
   ]
  },
  {
   "cell_type": "code",
   "execution_count": 7,
   "id": "1c401145-1724-4e57-ab69-0f6c69b9b1cd",
   "metadata": {},
   "outputs": [
    {
     "name": "stdout",
     "output_type": "stream",
     "text": [
      "* * * *   \n",
      "*       * \n",
      "*       * \n",
      "*       * \n",
      "*       * \n",
      "*       * \n",
      "* * * *   \n"
     ]
    }
   ],
   "source": [
    "for row in range(7):\n",
    "    for col in range(5):\n",
    "        if (col==0) or (col==4 and (row!=0 and row!=6)) or ((row==0 or row==6) and (col!=0 and col!=4) ):\n",
    "            print('*',end=' ')\n",
    "        else:\n",
    "            print(' ',end=' ')\n",
    "    print()"
   ]
  },
  {
   "cell_type": "markdown",
   "id": "335a34d1-d147-4478-af9a-3da053fdcf87",
   "metadata": {},
   "source": [
    "##### 6 WAP to calculate factorial of a number using while loop"
   ]
  },
  {
   "cell_type": "code",
   "execution_count": 21,
   "id": "667d2fe7-bdb7-46bf-8e65-6948785f56de",
   "metadata": {},
   "outputs": [
    {
     "name": "stdout",
     "output_type": "stream",
     "text": [
      "5040\n"
     ]
    }
   ],
   "source": [
    "n=7\n",
    "fact=1\n",
    "while n>0:\n",
    "    fact=fact*n\n",
    "    n=n-1\n",
    "print(fact)"
   ]
  },
  {
   "cell_type": "markdown",
   "id": "90a75e52-fc15-459f-a5d4-2bad7658f717",
   "metadata": {},
   "source": [
    "##### 7 calculate the sum of numbers from 1 to 100 using a while loop"
   ]
  },
  {
   "cell_type": "code",
   "execution_count": 5,
   "id": "eb093d03-c635-496f-921c-ca210a723e59",
   "metadata": {},
   "outputs": [
    {
     "name": "stdout",
     "output_type": "stream",
     "text": [
      "5050\n"
     ]
    }
   ],
   "source": [
    "num=1\n",
    "sum=0\n",
    "while num<=100:\n",
    "    sum=sum+num\n",
    "    num+=1\n",
    "print(sum)"
   ]
  },
  {
   "cell_type": "markdown",
   "id": "415dc9e2-c756-440e-8cda-ebcab972c170",
   "metadata": {},
   "source": [
    "##### 8 WAP to find all the prime numbers between 1 and 50 using nested for and if"
   ]
  },
  {
   "cell_type": "code",
   "execution_count": 4,
   "id": "c546346f-b26f-43a6-90f3-55a96223b8f7",
   "metadata": {},
   "outputs": [
    {
     "name": "stdout",
     "output_type": "stream",
     "text": [
      "1\n",
      "2\n",
      "3\n",
      "5\n",
      "7\n",
      "11\n",
      "13\n",
      "17\n",
      "19\n",
      "23\n",
      "29\n",
      "31\n",
      "37\n",
      "41\n",
      "43\n",
      "47\n"
     ]
    }
   ],
   "source": [
    "for num in range(1,51):\n",
    "    for j in range(2,num):\n",
    "        if num%j==0:\n",
    "            break\n",
    "    else:\n",
    "        print(num)"
   ]
  },
  {
   "cell_type": "markdown",
   "id": "b92bae98-ec1b-430d-85bf-2aca80589966",
   "metadata": {},
   "source": [
    "##### 9 WAP to print numbers divisible by 3 or 5 from 1 to 20 using a for loop"
   ]
  },
  {
   "cell_type": "code",
   "execution_count": 10,
   "id": "520ceed8-487f-422c-9e32-5f9ad92b8fd1",
   "metadata": {},
   "outputs": [
    {
     "name": "stdout",
     "output_type": "stream",
     "text": [
      "3\n",
      "5\n",
      "6\n",
      "9\n",
      "10\n",
      "12\n",
      "15\n",
      "18\n",
      "20\n"
     ]
    }
   ],
   "source": [
    "for i in range(1,21):\n",
    "    if i%3==0 or i%5==0:\n",
    "        print(i)"
   ]
  },
  {
   "cell_type": "markdown",
   "id": "cc70cb71-2961-4e71-b131-385dbd524f9a",
   "metadata": {},
   "source": [
    "##### 10 WAP to print a list of numbers from 1 to 5 using a list comprehension"
   ]
  },
  {
   "cell_type": "code",
   "execution_count": 16,
   "id": "bc474a36-7f3a-4a66-bb3d-fce526bba7d5",
   "metadata": {},
   "outputs": [
    {
     "name": "stdout",
     "output_type": "stream",
     "text": [
      "[1, 4, 9, 16, 25]\n"
     ]
    }
   ],
   "source": [
    "sq=[num**2 for num in range(1,6)]\n",
    "print(sq)"
   ]
  },
  {
   "cell_type": "code",
   "execution_count": null,
   "id": "71770c5e-dcb7-4d6f-b2d0-60ddfea14557",
   "metadata": {},
   "outputs": [],
   "source": []
  }
 ],
 "metadata": {
  "kernelspec": {
   "display_name": "Python 3 (ipykernel)",
   "language": "python",
   "name": "python3"
  },
  "language_info": {
   "codemirror_mode": {
    "name": "ipython",
    "version": 3
   },
   "file_extension": ".py",
   "mimetype": "text/x-python",
   "name": "python",
   "nbconvert_exporter": "python",
   "pygments_lexer": "ipython3",
   "version": "3.12.4"
  }
 },
 "nbformat": 4,
 "nbformat_minor": 5
}
