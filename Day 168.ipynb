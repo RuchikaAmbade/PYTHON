{
 "cells": [
  {
   "cell_type": "markdown",
   "id": "92a60466-e7c8-49a8-b960-3ba9f30ca0e5",
   "metadata": {},
   "source": [
    "##### Create a 3x3 list of lists with random values and normalize it."
   ]
  },
  {
   "cell_type": "code",
   "execution_count": 2,
   "id": "69d17038-c578-4941-a00e-eb53fa3b25e5",
   "metadata": {},
   "outputs": [
    {
     "name": "stdout",
     "output_type": "stream",
     "text": [
      "[[-1.1047995234200398, 0.36357718219953444, -0.39877573699353647], [-0.45485431807730214, -0.28880651997012313, 0.4354494726332926], [2.24827831473928, 0.5037020242503839, -1.3037708953614886]]\n"
     ]
    }
   ],
   "source": [
    "import random\n",
    "matrix = [[random.random() for _ in range(3)] for _ in range(3)]\n",
    "mean = sum(sum(row) for row in matrix)/9\n",
    "std = (sum((x-mean)**2 for row in matrix for x in row)/9)**0.5\n",
    "normalized_matrix = [[(x-mean)/std for x in row] for row in matrix]\n",
    "print(normalized_matrix)"
   ]
  },
  {
   "cell_type": "code",
   "execution_count": null,
   "id": "fb2bef20-0828-4a56-910c-353c88df4c49",
   "metadata": {},
   "outputs": [],
   "source": []
  }
 ],
 "metadata": {
  "kernelspec": {
   "display_name": "Python 3 (ipykernel)",
   "language": "python",
   "name": "python3"
  },
  "language_info": {
   "codemirror_mode": {
    "name": "ipython",
    "version": 3
   },
   "file_extension": ".py",
   "mimetype": "text/x-python",
   "name": "python",
   "nbconvert_exporter": "python",
   "pygments_lexer": "ipython3",
   "version": "3.12.4"
  }
 },
 "nbformat": 4,
 "nbformat_minor": 5
}
