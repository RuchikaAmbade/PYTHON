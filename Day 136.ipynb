{
 "cells": [
  {
   "cell_type": "markdown",
   "id": "050a181a-12e7-481e-b22c-9ebbf6f63c6a",
   "metadata": {},
   "source": [
    "##### WAP to find the value of m^n , m and n are user defined number"
   ]
  },
  {
   "cell_type": "code",
   "execution_count": 7,
   "id": "e88f231a-a253-4076-ab5a-59ac09950d6d",
   "metadata": {},
   "outputs": [
    {
     "name": "stdin",
     "output_type": "stream",
     "text": [
      "Enter value of base 5\n",
      "Enter value of power 3\n"
     ]
    },
    {
     "name": "stdout",
     "output_type": "stream",
     "text": [
      "125\n"
     ]
    }
   ],
   "source": [
    "m = int(input('Enter value of base'))\n",
    "n = int(input('Enter value of power'))\n",
    "a=1\n",
    "res = 1\n",
    "while a<=n:\n",
    "    res = res * m\n",
    "    a = a+1\n",
    "print(res)"
   ]
  },
  {
   "cell_type": "markdown",
   "id": "dc3d8ecf-f126-41e3-beee-a90a7d2bb29e",
   "metadata": {},
   "source": [
    "##### WAP to check the given number is palindrome or not"
   ]
  },
  {
   "cell_type": "code",
   "execution_count": 7,
   "id": "1d63ceec-6b0a-4ff6-bcf0-750a27f16561",
   "metadata": {},
   "outputs": [
    {
     "name": "stdout",
     "output_type": "stream",
     "text": [
      "Entered number is palindrome.\n"
     ]
    }
   ],
   "source": [
    "n=12321\n",
    "rev = 0\n",
    "a=n\n",
    "while n>0:\n",
    "    rem = n%10\n",
    "    rev = rev * 10 +rem\n",
    "    n=n//10\n",
    "if a==rev:\n",
    "    print('Entered number is palindrome.')\n",
    "else:\n",
    "    print('Entered number is not palindrome')"
   ]
  },
  {
   "cell_type": "code",
   "execution_count": null,
   "id": "5a1ed9f7-0972-4666-b14b-e9f13dfc4a3d",
   "metadata": {},
   "outputs": [],
   "source": []
  }
 ],
 "metadata": {
  "kernelspec": {
   "display_name": "Python 3 (ipykernel)",
   "language": "python",
   "name": "python3"
  },
  "language_info": {
   "codemirror_mode": {
    "name": "ipython",
    "version": 3
   },
   "file_extension": ".py",
   "mimetype": "text/x-python",
   "name": "python",
   "nbconvert_exporter": "python",
   "pygments_lexer": "ipython3",
   "version": "3.12.4"
  }
 },
 "nbformat": 4,
 "nbformat_minor": 5
}
