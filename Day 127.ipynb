{
 "cells": [
  {
   "cell_type": "markdown",
   "id": "b8b33698-5779-424a-be47-577147692fa1",
   "metadata": {},
   "source": [
    "##### WAP to check if a given no. is even or odd. "
   ]
  },
  {
   "cell_type": "code",
   "execution_count": 1,
   "id": "69ba2795-e232-4b79-9c84-92ea55923e62",
   "metadata": {},
   "outputs": [
    {
     "name": "stdout",
     "output_type": "stream",
     "text": [
      "Even\n"
     ]
    }
   ],
   "source": [
    "x = 24\n",
    "if x%2 == 0:\n",
    "    print('Even')\n",
    "else:\n",
    "    print('Odd')"
   ]
  },
  {
   "cell_type": "markdown",
   "id": "dd7560a1-d136-4931-9761-4cf66cfd328d",
   "metadata": {},
   "source": [
    "##### WAP to find maximum of two numbers."
   ]
  },
  {
   "cell_type": "code",
   "execution_count": 4,
   "id": "d17c151d-9bfa-431f-9fa6-9db3ca5871d2",
   "metadata": {},
   "outputs": [
    {
     "name": "stdout",
     "output_type": "stream",
     "text": [
      "7\n"
     ]
    }
   ],
   "source": [
    "a = 7\n",
    "b = 3\n",
    "print(max(a,b))"
   ]
  },
  {
   "cell_type": "code",
   "execution_count": null,
   "id": "d651e6b7-e50e-4e8a-9cb3-bbacc2c09a5b",
   "metadata": {},
   "outputs": [],
   "source": []
  }
 ],
 "metadata": {
  "kernelspec": {
   "display_name": "Python 3 (ipykernel)",
   "language": "python",
   "name": "python3"
  },
  "language_info": {
   "codemirror_mode": {
    "name": "ipython",
    "version": 3
   },
   "file_extension": ".py",
   "mimetype": "text/x-python",
   "name": "python",
   "nbconvert_exporter": "python",
   "pygments_lexer": "ipython3",
   "version": "3.12.4"
  }
 },
 "nbformat": 4,
 "nbformat_minor": 5
}
