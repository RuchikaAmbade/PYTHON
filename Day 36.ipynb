{
 "cells": [
  {
   "cell_type": "markdown",
   "id": "3c6c0fdc-d645-4988-b0cd-7c9ba0e6816c",
   "metadata": {},
   "source": [
    "##### 1 WAP to calculate the number of days between the dates."
   ]
  },
  {
   "cell_type": "code",
   "execution_count": 5,
   "id": "3811b773-0f65-4ebf-a3a2-2cdf040c8677",
   "metadata": {},
   "outputs": [
    {
     "name": "stdout",
     "output_type": "stream",
     "text": [
      "9\n"
     ]
    }
   ],
   "source": [
    "from datetime import date\n",
    "f_date=date(2014,7,2)\n",
    "l_date=date(2014,7,11)\n",
    "no_of_days=l_date - f_date\n",
    "print(no_of_days.days)"
   ]
  },
  {
   "cell_type": "markdown",
   "id": "7cc23bea-99d3-43b2-a99b-55ac6d904ff0",
   "metadata": {},
   "source": [
    "##### 2 WAP to test whether a number is within 100 of 1000 or 2000 "
   ]
  },
  {
   "cell_type": "code",
   "execution_count": 15,
   "id": "b958a0c9-2e9e-434f-bebd-caf01db95d3d",
   "metadata": {},
   "outputs": [
    {
     "name": "stdout",
     "output_type": "stream",
     "text": [
      "True\n",
      "False\n"
     ]
    }
   ],
   "source": [
    "def near_thousand(n):\n",
    "    return((abs(1000-n)<=100)) or ((abs(2000-n)<=100))\n",
    "\n",
    "print(near_thousand(900))\n",
    "print(near_thousand(500))"
   ]
  },
  {
   "cell_type": "markdown",
   "id": "0b869e3c-b785-4854-b6bf-721cab1e8911",
   "metadata": {},
   "source": [
    "##### 3 WAP to get a newly-generated sring from a given string where 'Is' has been added to the front. Return the string unchanged\n",
    "##### if the given string already begins with 'Is'."
   ]
  },
  {
   "cell_type": "code",
   "execution_count": 23,
   "id": "8a23fd46-5b34-4d2a-bcce-1b25aa5d5c60",
   "metadata": {},
   "outputs": [
    {
     "name": "stdout",
     "output_type": "stream",
     "text": [
      "IsNull\n",
      "IsArray\n"
     ]
    }
   ],
   "source": [
    "def string(text):\n",
    "    if len(text)>=2 and text[:2]=='Is':\n",
    "        return text\n",
    "    else:\n",
    "        return 'Is'+text\n",
    "\n",
    "print(string('Null'))\n",
    "print(string('IsArray'))"
   ]
  },
  {
   "cell_type": "markdown",
   "id": "abc87531-a2c4-42bd-8b95-a8e88d071d23",
   "metadata": {},
   "source": [
    "##### 4 WAP that returns a string that is n copies of a given string."
   ]
  },
  {
   "cell_type": "code",
   "execution_count": 31,
   "id": "03e68ea8-a100-4303-a485-b5804c0805c1",
   "metadata": {},
   "outputs": [
    {
     "name": "stdout",
     "output_type": "stream",
     "text": [
      "abcabcabc\n"
     ]
    }
   ],
   "source": [
    "text='abc'\n",
    "n=3\n",
    "add=''\n",
    "for i in range(n):\n",
    "    add=add+text\n",
    "print(add)"
   ]
  },
  {
   "cell_type": "markdown",
   "id": "c238db34-82cf-4ed4-b43b-fbe86808b520",
   "metadata": {},
   "source": [
    "##### 5 WAP that determines whether a given no. is even or add, and prints an appropriate message to the user."
   ]
  },
  {
   "cell_type": "code",
   "execution_count": null,
   "id": "db2a4923-09e6-4b1e-849c-603516e49718",
   "metadata": {},
   "outputs": [],
   "source": [
    "n=int(input('Enter any number :'))\n",
    "if n%2==0:\n",
    "    print('Entered no. is even')\n",
    "else:\n",
    "    print('Entered no. is odd')"
   ]
  },
  {
   "cell_type": "markdown",
   "id": "a97d4d2f-57dc-41fa-a180-e85d4c904f1b",
   "metadata": {},
   "source": [
    "##### 6 WAP to count the number 4 in a given list"
   ]
  },
  {
   "cell_type": "code",
   "execution_count": 45,
   "id": "b7358a01-db6e-4e17-ab43-e4c39f6f6303",
   "metadata": {},
   "outputs": [
    {
     "name": "stdout",
     "output_type": "stream",
     "text": [
      "2\n"
     ]
    }
   ],
   "source": [
    "my_list=[3,8,4,7,1,4,2,5]\n",
    "count=0\n",
    "for i in my_list:\n",
    "    if i==4:\n",
    "        count=count+1\n",
    "print(count)"
   ]
  },
  {
   "cell_type": "code",
   "execution_count": 61,
   "id": "053a60c8-07da-4b19-9e9a-1f2432b07db2",
   "metadata": {},
   "outputs": [],
   "source": [
    "## or"
   ]
  },
  {
   "cell_type": "code",
   "execution_count": 59,
   "id": "be1be6c2-7b0b-4465-b6d3-79930ccbaf25",
   "metadata": {},
   "outputs": [
    {
     "name": "stdout",
     "output_type": "stream",
     "text": [
      "3\n"
     ]
    }
   ],
   "source": [
    "def my_list(num):\n",
    "    count=0\n",
    "    for i in num:\n",
    "        if i==4:\n",
    "            count=count+1\n",
    "    return count\n",
    "print(my_list([1,4,2,5,7,4,3,1,4]))"
   ]
  },
  {
   "cell_type": "markdown",
   "id": "85a4ea93-876e-4ad9-a445-9be043c75846",
   "metadata": {},
   "source": [
    "##### 7 WAP to test whether a passed letter is a vowel or not"
   ]
  },
  {
   "cell_type": "code",
   "execution_count": 145,
   "id": "5dc2c959-2fc6-40be-8b90-cb8ec8c21757",
   "metadata": {},
   "outputs": [
    {
     "name": "stdout",
     "output_type": "stream",
     "text": [
      "Entered letter is a vowel\n"
     ]
    }
   ],
   "source": [
    "letter='e'\n",
    "if letter in 'AEIOUaeiou' and len(letter)==1:\n",
    "    print('Entered letter is a vowel')\n",
    "else:\n",
    "    print('Entered letter is not a vowel')"
   ]
  },
  {
   "cell_type": "markdown",
   "id": "9295e797-eeb7-4219-b452-21d9851dacb5",
   "metadata": {},
   "source": [
    "##### 8 WAP that checks whether a specified value is contained within a group of values"
   ]
  },
  {
   "cell_type": "code",
   "execution_count": 153,
   "id": "096545ab-4396-4e33-acc4-6f1e78f4ff15",
   "metadata": {},
   "outputs": [
    {
     "name": "stdout",
     "output_type": "stream",
     "text": [
      "False\n"
     ]
    }
   ],
   "source": [
    "list1=[2,1,4,7,6,5,8]\n",
    "num=0\n",
    "if num in list1:\n",
    "    print(True)\n",
    "else:\n",
    "    print(False)"
   ]
  },
  {
   "cell_type": "markdown",
   "id": "17f394a7-9a7c-4500-8fe6-bfcdfbef1618",
   "metadata": {},
   "source": [
    "##### 9 WAP program that concatenates all elements in a list into a string and return it."
   ]
  },
  {
   "cell_type": "code",
   "execution_count": 181,
   "id": "a4fbbc70-32b0-4405-abe6-cf74dee95723",
   "metadata": {},
   "outputs": [
    {
     "name": "stdout",
     "output_type": "stream",
     "text": [
      "1245\n"
     ]
    }
   ],
   "source": [
    "list=[1,2,4,5]\n",
    "add=''\n",
    "for i in list:\n",
    "    add=add+str(i)\n",
    "print(add)"
   ]
  },
  {
   "cell_type": "markdown",
   "id": "2670fdce-1464-440a-8e3b-8061649274d1",
   "metadata": {},
   "source": [
    "##### 10 WAP that will accept the base and height of a triangle and compute it's area"
   ]
  },
  {
   "cell_type": "code",
   "execution_count": 187,
   "id": "9790d9b8-5342-4dac-8088-37199ca16e79",
   "metadata": {},
   "outputs": [
    {
     "name": "stdin",
     "output_type": "stream",
     "text": [
      "Enter value of base 20\n",
      "Enter value of height 40\n"
     ]
    },
    {
     "name": "stdout",
     "output_type": "stream",
     "text": [
      "Area of Triangle 400.0\n"
     ]
    }
   ],
   "source": [
    "b=int(input('Enter value of base'))\n",
    "h=int(input('Enter value of height'))\n",
    "area=(1/2)*b*h\n",
    "print('Area of Triangle',area)"
   ]
  },
  {
   "cell_type": "code",
   "execution_count": null,
   "id": "2a7074fe-7da2-4139-8d1e-a7f886ab78c8",
   "metadata": {},
   "outputs": [],
   "source": []
  }
 ],
 "metadata": {
  "kernelspec": {
   "display_name": "Python 3 (ipykernel)",
   "language": "python",
   "name": "python3"
  },
  "language_info": {
   "codemirror_mode": {
    "name": "ipython",
    "version": 3
   },
   "file_extension": ".py",
   "mimetype": "text/x-python",
   "name": "python",
   "nbconvert_exporter": "python",
   "pygments_lexer": "ipython3",
   "version": "3.12.4"
  }
 },
 "nbformat": 4,
 "nbformat_minor": 5
}
