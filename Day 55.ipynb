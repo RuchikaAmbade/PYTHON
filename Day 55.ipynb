{
 "cells": [
  {
   "cell_type": "markdown",
   "id": "3e143c88-6b07-4f44-864f-98ef73201b62",
   "metadata": {},
   "source": [
    "##### 1 WAP to find common between two numbers in a given pair."
   ]
  },
  {
   "cell_type": "code",
   "execution_count": 5,
   "id": "7e913c79-92d2-4e4a-823d-4994ceaf340e",
   "metadata": {},
   "outputs": [
    {
     "name": "stdout",
     "output_type": "stream",
     "text": [
      "Number of commondivisors : 2\n",
      "Number of commondivisors : 2\n",
      "Number of commondivisors : 6\n"
     ]
    }
   ],
   "source": [
    "def ngcd(x,y):\n",
    "    i=1\n",
    "    while(i <= x and i <=y):\n",
    "        if(x%i==0 and y%i==0):\n",
    "            gcd = i\n",
    "        i=i+1\n",
    "    return gcd\n",
    "\n",
    "def num_comm_div(x,y):\n",
    "    n=ngcd(x,y)\n",
    "    result=0\n",
    "    z=int(n**0.5)\n",
    "    i=1\n",
    "    while(i<=z):\n",
    "        if(n%i==0):\n",
    "            result +=2\n",
    "            if(i==n/i):\n",
    "                result -=1\n",
    "        i += 1\n",
    "    return result\n",
    "\n",
    "print('Number of commondivisors :',num_comm_div(2,4))\n",
    "print('Number of commondivisors :',num_comm_div(2,8))\n",
    "print('Number of commondivisors :',num_comm_div(12,24))"
   ]
  },
  {
   "cell_type": "markdown",
   "id": "fde13338-000f-42e5-98ac-478a36364976",
   "metadata": {},
   "source": [
    "##### 2 WAP to count the number of carry operations for each addition problem."
   ]
  },
  {
   "cell_type": "code",
   "execution_count": 12,
   "id": "64b8cf13-592d-42ad-9416-7ab6c87999a4",
   "metadata": {},
   "outputs": [
    {
     "name": "stdout",
     "output_type": "stream",
     "text": [
      "3\n",
      "1\n"
     ]
    }
   ],
   "source": [
    "def carry_number(x,y):\n",
    "    ctr = 0\n",
    "    if x==0 and y==0:\n",
    "        return 0\n",
    "    z = 0\n",
    "    for i in reversed(range(10)):\n",
    "        z = x%10 + y%10 + z\n",
    "        if z>9:\n",
    "            z=1\n",
    "        else:\n",
    "            z=0\n",
    "\n",
    "        ctr += z\n",
    "        x//=10\n",
    "        y//=10\n",
    "\n",
    "    if ctr == 0:\n",
    "        return \"No carry operation\"\n",
    "    elif ctr == 1:\n",
    "        return ctr\n",
    "    else:\n",
    "        return ctr\n",
    "\n",
    "print(carry_number(786,457))\n",
    "print(carry_number(19,5))"
   ]
  },
  {
   "cell_type": "markdown",
   "id": "ee6eb471-886b-4e1d-a573-1ec8b2c21a2a",
   "metadata": {},
   "source": [
    "##### 3 WAP to find the heights of the top three buildings in descending order from eight given buildings."
   ]
  },
  {
   "cell_type": "code",
   "execution_count": 17,
   "id": "510685c2-157b-4286-9fd7-b85f841c71dd",
   "metadata": {},
   "outputs": [
    {
     "name": "stdout",
     "output_type": "stream",
     "text": [
      "Input the heights of eight buildings:\n"
     ]
    },
    {
     "name": "stdin",
     "output_type": "stream",
     "text": [
      " 25\n",
      " 35\n",
      " 15\n",
      " 16\n",
      " 30\n",
      " 45\n",
      " 37\n",
      " 39\n"
     ]
    },
    {
     "name": "stdout",
     "output_type": "stream",
     "text": [
      "Heights of the top three buildings:\n",
      "45\n",
      "39\n",
      "37\n"
     ]
    }
   ],
   "source": [
    "print('Input the heights of eight buildings:')\n",
    "l=[int(input()) for i in range(8)]\n",
    "print('Heights of the top three buildings:')\n",
    "l = sorted(l)\n",
    "print(*l[:4:-1],sep='\\n')"
   ]
  },
  {
   "cell_type": "markdown",
   "id": "9b07811a-996a-4640-957f-f3898b224f74",
   "metadata": {},
   "source": [
    "##### 4 WAP to compute the digit number of the sum of teo given integers."
   ]
  },
  {
   "cell_type": "code",
   "execution_count": 32,
   "id": "cad00558-f1e2-424f-8b60-3bd747234852",
   "metadata": {},
   "outputs": [
    {
     "name": "stdout",
     "output_type": "stream",
     "text": [
      "Input two integers (a b):\n"
     ]
    },
    {
     "name": "stdin",
     "output_type": "stream",
     "text": [
      " 5 7\n"
     ]
    },
    {
     "name": "stdout",
     "output_type": "stream",
     "text": [
      "Number of digits of a and b:\n",
      "2\n"
     ]
    }
   ],
   "source": [
    "print('Input two integers (a b):')\n",
    "a,b = map(int, input().split(' '))\n",
    "print('Number of digits of a and b:')\n",
    "print(len(str(a+b)))"
   ]
  },
  {
   "cell_type": "markdown",
   "id": "4d0364b7-ab7c-415f-8b3f-1893b7864de0",
   "metadata": {},
   "source": [
    "##### 5 WAP to check whether three given lengths (integers) of three sides from a right triangle. Print 'Yes' if the given sides from a right triangle otherwise print 'No'"
   ]
  },
  {
   "cell_type": "code",
   "execution_count": 41,
   "id": "7c9f6fec-637c-4442-9641-d3c208aeea2b",
   "metadata": {},
   "outputs": [
    {
     "name": "stdout",
     "output_type": "stream",
     "text": [
      "Input three integers (sides of a triangle)\n"
     ]
    },
    {
     "name": "stdin",
     "output_type": "stream",
     "text": [
      " 8 6 7\n"
     ]
    },
    {
     "name": "stdout",
     "output_type": "stream",
     "text": [
      "No\n"
     ]
    }
   ],
   "source": [
    "print('Input three integers (sides of a triangle)')\n",
    "int_num = list(map(int, input().split()))\n",
    "x,y,z = sorted(int_num)\n",
    "\n",
    "if x**2 + y**2 == z**2:\n",
    "    print('Yes')\n",
    "else:\n",
    "    print('No')"
   ]
  },
  {
   "cell_type": "code",
   "execution_count": null,
   "id": "0337da57-f4fc-4e68-9a0c-6f5539f076ab",
   "metadata": {},
   "outputs": [],
   "source": []
  }
 ],
 "metadata": {
  "kernelspec": {
   "display_name": "Python 3 (ipykernel)",
   "language": "python",
   "name": "python3"
  },
  "language_info": {
   "codemirror_mode": {
    "name": "ipython",
    "version": 3
   },
   "file_extension": ".py",
   "mimetype": "text/x-python",
   "name": "python",
   "nbconvert_exporter": "python",
   "pygments_lexer": "ipython3",
   "version": "3.12.4"
  }
 },
 "nbformat": 4,
 "nbformat_minor": 5
}
