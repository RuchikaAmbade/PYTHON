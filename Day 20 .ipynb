{
 "cells": [
  {
   "cell_type": "markdown",
   "id": "4bba83c1-78b9-4b4a-8cd2-20e2e9aa7983",
   "metadata": {},
   "source": [
    "##### 1"
   ]
  },
  {
   "cell_type": "code",
   "execution_count": 1,
   "id": "35f39451-f36b-4781-b05d-e32967a93d46",
   "metadata": {},
   "outputs": [
    {
     "name": "stdout",
     "output_type": "stream",
     "text": [
      "E \n",
      "E D \n",
      "E D C \n",
      "E D C B \n",
      "E D C B A \n"
     ]
    }
   ],
   "source": [
    "n=5\n",
    "for i in range(1,n+1):\n",
    "    p=69\n",
    "    for j in range(1,i+1):\n",
    "        print(chr(p),end=\" \")\n",
    "        p=p-1\n",
    "    print()"
   ]
  },
  {
   "cell_type": "markdown",
   "id": "164cddfe-e6ea-4772-9d5b-454c953d4094",
   "metadata": {},
   "source": [
    "##### 2"
   ]
  },
  {
   "cell_type": "code",
   "execution_count": 45,
   "id": "ef6fecc9-1943-4caa-b491-c289952d822f",
   "metadata": {},
   "outputs": [
    {
     "name": "stdout",
     "output_type": "stream",
     "text": [
      "  E D C B A \n",
      "    D C B A \n",
      "      C B A \n",
      "        B A \n",
      "          A \n"
     ]
    }
   ],
   "source": [
    "n=5\n",
    "k=69\n",
    "for i in range(1,n+1):\n",
    "    p=k\n",
    "    for j in range(1,i+1):\n",
    "        print(\" \",end=\" \")\n",
    "    for j in range(i,n+1):\n",
    "        print(chr(p),end=\" \")\n",
    "        p=p-1\n",
    "    k=k-1\n",
    "    print()"
   ]
  },
  {
   "cell_type": "markdown",
   "id": "009e53f9-5dcd-4d5c-b19b-8bd0cca7ad0c",
   "metadata": {},
   "source": [
    "##### 3"
   ]
  },
  {
   "cell_type": "code",
   "execution_count": 17,
   "id": "f5f57167-3132-4f4b-91ca-6fcc82fabd4d",
   "metadata": {},
   "outputs": [
    {
     "name": "stdout",
     "output_type": "stream",
     "text": [
      "          A \n",
      "        A B A \n",
      "      A B C B A \n",
      "    A B C D C B A \n",
      "  A B C D E D C B A \n"
     ]
    }
   ],
   "source": [
    "n=5\n",
    "for i in range(1,n+1):\n",
    "    p=65\n",
    "    for j in range(i,n+1):\n",
    "        print(\" \",end=\" \")\n",
    "    for j in range(1,i):\n",
    "        print(chr(p),end=\" \")\n",
    "        p=p+1\n",
    "    for j in range(1,i+1):\n",
    "        print(chr(p),end=\" \")\n",
    "        p=p-1\n",
    "    print()"
   ]
  },
  {
   "cell_type": "markdown",
   "id": "7641b2cc-03ec-4aa2-b716-b40f9a9f6b65",
   "metadata": {},
   "source": [
    "##### Pattern with specific word"
   ]
  },
  {
   "cell_type": "markdown",
   "id": "d59d6051-9949-41d8-aac5-a6e8153e8831",
   "metadata": {},
   "source": [
    "##### 4"
   ]
  },
  {
   "cell_type": "code",
   "execution_count": 38,
   "id": "28a2386c-ca84-4d8a-b57a-35c5bcc2e688",
   "metadata": {},
   "outputs": [
    {
     "name": "stdout",
     "output_type": "stream",
     "text": [
      "C \n",
      "O O \n",
      "D D D \n",
      "E E E E \n",
      "R R R R R \n"
     ]
    }
   ],
   "source": [
    "word='CODER'\n",
    "n=len(word)\n",
    "p=0\n",
    "for i in range(1,n+1):\n",
    "    for j in range(1,i+1):\n",
    "        print(word[p],end=\" \")\n",
    "    p=p+1\n",
    "    print()        "
   ]
  },
  {
   "cell_type": "markdown",
   "id": "92af3e21-360c-44f6-a536-b6f6ece8acec",
   "metadata": {},
   "source": [
    "##### 5"
   ]
  },
  {
   "cell_type": "code",
   "execution_count": 42,
   "id": "3bb87d1a-34cd-43d3-b7cd-b3bbcd559588",
   "metadata": {},
   "outputs": [
    {
     "name": "stdout",
     "output_type": "stream",
     "text": [
      "R \n",
      "E E \n",
      "D D D \n",
      "O O O O \n",
      "C C C C C \n"
     ]
    }
   ],
   "source": [
    "word='CODER'\n",
    "n=len(word)\n",
    "p=n-1\n",
    "for i in range(1,n+1):\n",
    "    for j in range(1,i+1):\n",
    "        print(word[p],end=\" \")\n",
    "    p=p-1\n",
    "    print()        "
   ]
  },
  {
   "cell_type": "markdown",
   "id": "ac2be039-13a4-4897-ad74-0e74d58a556f",
   "metadata": {},
   "source": [
    "##### 6"
   ]
  },
  {
   "cell_type": "code",
   "execution_count": 63,
   "id": "c8307ffb-87c6-4205-a3a0-f0add4e09bc7",
   "metadata": {},
   "outputs": [
    {
     "name": "stdout",
     "output_type": "stream",
     "text": [
      "C \n",
      "C O \n",
      "C O D \n",
      "C O D E \n",
      "C O D E R \n"
     ]
    }
   ],
   "source": [
    "s='CODER'\n",
    "n=len(s)\n",
    "for i in range(1,n+1):\n",
    "    p=0\n",
    "    for j in range(1,i+1):\n",
    "        print(s[p],end=\" \")\n",
    "        p=p+1\n",
    "    print()"
   ]
  },
  {
   "cell_type": "markdown",
   "id": "e33b6d41-e59d-457b-9626-b20b1b87f7e1",
   "metadata": {},
   "source": [
    "##### 7 lambda function"
   ]
  },
  {
   "cell_type": "code",
   "execution_count": 67,
   "id": "044cde93-be85-498a-b7cf-dcf8ac5e3e4f",
   "metadata": {},
   "outputs": [
    {
     "data": {
      "text/plain": [
       "11"
      ]
     },
     "execution_count": 67,
     "metadata": {},
     "output_type": "execute_result"
    }
   ],
   "source": [
    "num = lambda a,b : a+b\n",
    "num(8,3)"
   ]
  },
  {
   "cell_type": "markdown",
   "id": "e09357f4-a175-4ba3-b4f5-385be6f9005b",
   "metadata": {},
   "source": [
    "##### 8 area of circle using lambda function"
   ]
  },
  {
   "cell_type": "code",
   "execution_count": 1,
   "id": "cf246982-f087-4fc0-b9ef-5da629dbbd85",
   "metadata": {},
   "outputs": [
    {
     "data": {
      "text/plain": [
       "28.26"
      ]
     },
     "execution_count": 1,
     "metadata": {},
     "output_type": "execute_result"
    }
   ],
   "source": [
    "area = lambda pi,r : pi*(r**2)\n",
    "area(3.14,3)"
   ]
  },
  {
   "cell_type": "markdown",
   "id": "332f69ce-e108-4b7b-b179-569c168b2e48",
   "metadata": {},
   "source": [
    "##### 9 WAP to check if a number is even or odd"
   ]
  },
  {
   "cell_type": "code",
   "execution_count": 5,
   "id": "2eee3a2d-f466-449d-8da0-598d4d0b9998",
   "metadata": {},
   "outputs": [
    {
     "data": {
      "text/plain": [
       "'Odd'"
      ]
     },
     "execution_count": 5,
     "metadata": {},
     "output_type": "execute_result"
    }
   ],
   "source": [
    "num = lambda a : 'Even' if a%2==0 else 'Odd'\n",
    "num(7)"
   ]
  },
  {
   "cell_type": "markdown",
   "id": "07fc15ec-9434-4b46-aff4-d6588d778544",
   "metadata": {},
   "source": [
    "##### 10 WAP to check if a number is greater than the other"
   ]
  },
  {
   "cell_type": "code",
   "execution_count": 12,
   "id": "e6cfd2c2-b000-4555-abb4-d6743e8edd19",
   "metadata": {},
   "outputs": [
    {
     "data": {
      "text/plain": [
       "'b is greater'"
      ]
     },
     "execution_count": 12,
     "metadata": {},
     "output_type": "execute_result"
    }
   ],
   "source": [
    "num = lambda a,b : 'a is greater' if a>b else 'b is greater'\n",
    "num(6,9)"
   ]
  },
  {
   "cell_type": "code",
   "execution_count": null,
   "id": "c69aabb6-c512-4b8e-87c7-918b4685aec4",
   "metadata": {},
   "outputs": [],
   "source": []
  }
 ],
 "metadata": {
  "kernelspec": {
   "display_name": "Python 3 (ipykernel)",
   "language": "python",
   "name": "python3"
  },
  "language_info": {
   "codemirror_mode": {
    "name": "ipython",
    "version": 3
   },
   "file_extension": ".py",
   "mimetype": "text/x-python",
   "name": "python",
   "nbconvert_exporter": "python",
   "pygments_lexer": "ipython3",
   "version": "3.12.4"
  }
 },
 "nbformat": 4,
 "nbformat_minor": 5
}
