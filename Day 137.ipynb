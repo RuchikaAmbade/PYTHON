{
 "cells": [
  {
   "cell_type": "markdown",
   "id": "f11ffb21-b585-43a7-b087-12a43a146ee4",
   "metadata": {},
   "source": [
    "##### WAP to check if a given number is positive , negative or neutral"
   ]
  },
  {
   "cell_type": "code",
   "execution_count": 4,
   "id": "2afba2f6-32b8-4698-bf76-a7988d64548b",
   "metadata": {},
   "outputs": [
    {
     "name": "stdin",
     "output_type": "stream",
     "text": [
      "Enter any number -87\n"
     ]
    },
    {
     "name": "stdout",
     "output_type": "stream",
     "text": [
      "Entered number is negative\n"
     ]
    }
   ],
   "source": [
    "num = int(input('Enter any number'))\n",
    "if num<0:\n",
    "    print('Entered number is negative')\n",
    "elif num == 0 :\n",
    "    print('Entered number is neutral')\n",
    "else:\n",
    "    print('Entered number is positive')"
   ]
  },
  {
   "cell_type": "markdown",
   "id": "82557da1-7814-4792-9a6e-2fff8f2a4a6c",
   "metadata": {},
   "source": [
    "##### WAP to check a given number is even or not"
   ]
  },
  {
   "cell_type": "code",
   "execution_count": 8,
   "id": "efc1d810-37ed-41b5-8da3-c3b600e0327f",
   "metadata": {},
   "outputs": [
    {
     "name": "stdin",
     "output_type": "stream",
     "text": [
      "Enter any number 266\n"
     ]
    },
    {
     "name": "stdout",
     "output_type": "stream",
     "text": [
      "Even Number\n"
     ]
    }
   ],
   "source": [
    "n = int(input('Enter any number'))\n",
    "if n%2==0:\n",
    "    print('Even Number')\n",
    "else:\n",
    "    print('Odd Number')"
   ]
  },
  {
   "cell_type": "code",
   "execution_count": null,
   "id": "614e8c1e-2592-4da1-b047-5df6113c3043",
   "metadata": {},
   "outputs": [],
   "source": []
  }
 ],
 "metadata": {
  "kernelspec": {
   "display_name": "Python 3 (ipykernel)",
   "language": "python",
   "name": "python3"
  },
  "language_info": {
   "codemirror_mode": {
    "name": "ipython",
    "version": 3
   },
   "file_extension": ".py",
   "mimetype": "text/x-python",
   "name": "python",
   "nbconvert_exporter": "python",
   "pygments_lexer": "ipython3",
   "version": "3.12.4"
  }
 },
 "nbformat": 4,
 "nbformat_minor": 5
}
