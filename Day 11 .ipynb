{
 "cells": [
  {
   "cell_type": "markdown",
   "id": "7e9f73ea-927b-4e44-a68c-7fc405730814",
   "metadata": {},
   "source": [
    "#### 1 WAP to print a simple number pattern"
   ]
  },
  {
   "cell_type": "code",
   "execution_count": 7,
   "id": "8531d5db-4b6f-49a6-a808-8ed2abc5aed6",
   "metadata": {},
   "outputs": [
    {
     "name": "stdout",
     "output_type": "stream",
     "text": [
      "1 \n",
      "2 2 \n",
      "3 3 3 \n",
      "4 4 4 4 \n",
      "5 5 5 5 5 \n"
     ]
    }
   ],
   "source": [
    "n=5\n",
    "for i in range(1,n+1):\n",
    "    for j in range(1,i+1):\n",
    "        print(i,end=\" \")\n",
    "    print()\n",
    "    "
   ]
  },
  {
   "cell_type": "markdown",
   "id": "52447360-3959-41ee-a4c1-53378c4bf311",
   "metadata": {},
   "source": [
    "#### 2 WAP to print half-pyramid pattern of numbers"
   ]
  },
  {
   "cell_type": "code",
   "execution_count": 21,
   "id": "a909afcd-b1a7-41d2-9d3c-a8f677a22f33",
   "metadata": {},
   "outputs": [
    {
     "name": "stdout",
     "output_type": "stream",
     "text": [
      "1 \n",
      "1 2 \n",
      "1 2 3 \n",
      "1 2 3 4 \n",
      "1 2 3 4 5 \n"
     ]
    }
   ],
   "source": [
    "n=5\n",
    "for i in range(1,n+1):\n",
    "    for j in range(1,i+1):\n",
    "        print(j,end=\" \")\n",
    "    print()"
   ]
  },
  {
   "cell_type": "markdown",
   "id": "b0a2b424-24ef-4321-8eb0-195339744ee2",
   "metadata": {},
   "source": [
    "#### 3 WAP to print inverted pyramid pattern of numbers"
   ]
  },
  {
   "cell_type": "code",
   "execution_count": 24,
   "id": "4b9212c1-dafd-4386-a33a-27228187b079",
   "metadata": {},
   "outputs": [
    {
     "name": "stdout",
     "output_type": "stream",
     "text": [
      "1 1 1 1 1 \n",
      "2 2 2 2 \n",
      "3 3 3 \n",
      "4 4 \n",
      "5 \n"
     ]
    }
   ],
   "source": [
    "n=5\n",
    "for i in range(1,n+1):\n",
    "    for j in range(i,n+1):\n",
    "        print(i,end=\" \")\n",
    "    print()"
   ]
  },
  {
   "cell_type": "markdown",
   "id": "4c5231b0-8c75-4123-abde-c14fede49282",
   "metadata": {},
   "source": [
    "#### 4 WAP to print inverted pyramid with tha same digit"
   ]
  },
  {
   "cell_type": "code",
   "execution_count": 27,
   "id": "57aaa65e-e2b0-44c0-a7f3-1f9406022339",
   "metadata": {},
   "outputs": [
    {
     "name": "stdout",
     "output_type": "stream",
     "text": [
      "5 5 5 5 5 \n",
      "5 5 5 5 \n",
      "5 5 5 \n",
      "5 5 \n",
      "5 \n"
     ]
    }
   ],
   "source": [
    "n=5\n",
    "for i in range(1,n+1):\n",
    "    for j in range(i,n+1):\n",
    "        print(n,end=\" \")\n",
    "    print()"
   ]
  },
  {
   "cell_type": "markdown",
   "id": "aefaabe0-4dbc-454a-8864-dbc4cd319089",
   "metadata": {},
   "source": [
    "#### 5 WAP to print inverted half pyramid of numbers"
   ]
  },
  {
   "cell_type": "code",
   "execution_count": 48,
   "id": "85bb195b-5c23-405b-af1e-7fd0f34ee33e",
   "metadata": {},
   "outputs": [
    {
     "name": "stdout",
     "output_type": "stream",
     "text": [
      "0 1 2 3 4 5 \n",
      "0 1 2 3 4 \n",
      "0 1 2 3 \n",
      "0 1 2 \n",
      "0 1 \n"
     ]
    }
   ],
   "source": [
    "n=5\n",
    "for i in range(5,0,-1):\n",
    "    for j in range(0,i+1):\n",
    "        print(j,end=\" \")\n",
    "    print()"
   ]
  },
  {
   "cell_type": "markdown",
   "id": "2374d10c-7f4b-4e11-9b57-ef9a6ad8477f",
   "metadata": {},
   "source": [
    "#### 6 WAP to print the number pattern (while loop) "
   ]
  },
  {
   "cell_type": "code",
   "execution_count": 51,
   "id": "15f13bb7-d7df-4b91-889d-563ac19bf10f",
   "metadata": {},
   "outputs": [
    {
     "name": "stdout",
     "output_type": "stream",
     "text": [
      "1 \n",
      "3 3 \n",
      "5 5 5 \n",
      "7 7 7 7 \n",
      "9 9 9 9 9 \n"
     ]
    }
   ],
   "source": [
    "n=5\n",
    "i=1\n",
    "while i<=n:\n",
    "    j=1\n",
    "    while j<=i:\n",
    "        print((i*2 - 1),end=\" \")\n",
    "        j=j+1\n",
    "    i=i+1\n",
    "    print()"
   ]
  },
  {
   "cell_type": "markdown",
   "id": "d57a3d50-0051-4f57-b9f8-5199b52cd039",
   "metadata": {},
   "source": [
    "#### 7 WAP to print reverse number pattern"
   ]
  },
  {
   "cell_type": "code",
   "execution_count": 85,
   "id": "503b5ac1-0301-4bf1-9025-18e652e4f45b",
   "metadata": {},
   "outputs": [
    {
     "name": "stdout",
     "output_type": "stream",
     "text": [
      "5 5 5 5 5 \n",
      "4 4 4 4 \n",
      "3 3 3 \n",
      "2 2 \n",
      "1 \n"
     ]
    }
   ],
   "source": [
    "n=5\n",
    "for i in range(0,n):\n",
    "    for j in range(i,n):\n",
    "        print(n-i,end=\" \")\n",
    "    print()"
   ]
  },
  {
   "cell_type": "markdown",
   "id": "8a8d4e6d-4b76-4087-82b9-621290f9c6df",
   "metadata": {},
   "source": [
    "#### 8 WAP to print reverse pyramid of numbers"
   ]
  },
  {
   "cell_type": "code",
   "execution_count": 110,
   "id": "4fbb9f20-070f-4ffc-80ba-3a4e18834ecb",
   "metadata": {},
   "outputs": [
    {
     "name": "stdout",
     "output_type": "stream",
     "text": [
      "1 \n",
      "2 1 \n",
      "3 2 1 \n",
      "4 3 2 1 \n",
      "5 4 3 2 1 \n"
     ]
    }
   ],
   "source": [
    "n=5\n",
    "for i in range(1,n+1):\n",
    "    for j in range(i,0,-1):\n",
    "        print(j,end=\" \")\n",
    "    print()"
   ]
  },
  {
   "cell_type": "markdown",
   "id": "30027db1-7f47-4e33-97d6-a005a1ce6217",
   "metadata": {},
   "source": [
    "#### 9 Reverse number pattern"
   ]
  },
  {
   "cell_type": "code",
   "execution_count": 129,
   "id": "9221b5b8-1078-41e7-892e-535f18651652",
   "metadata": {},
   "outputs": [
    {
     "name": "stdout",
     "output_type": "stream",
     "text": [
      "5 4 3 2 1 \n",
      "4 3 2 1 \n",
      "3 2 1 \n",
      "2 1 \n",
      "1 \n"
     ]
    }
   ],
   "source": [
    "n=5\n",
    "for i in range(1,n+1):\n",
    "    for j in range((n+1)-i,0,-1):\n",
    "        print(j,end=\" \")\n",
    "    print()"
   ]
  },
  {
   "cell_type": "markdown",
   "id": "a9d3a694-a01e-4ede-8160-819503db4207",
   "metadata": {},
   "source": [
    "#### 10 WAP to print reverse numbers from 1 to 10"
   ]
  },
  {
   "cell_type": "code",
   "execution_count": 150,
   "id": "0211018e-e7a5-4df7-9fb0-6d1f3122a789",
   "metadata": {},
   "outputs": [
    {
     "name": "stdout",
     "output_type": "stream",
     "text": [
      "          1 \n",
      "        1 2 \n",
      "      1 2 3 \n",
      "    1 2 3 4 \n",
      "  1 2 3 4 5 \n"
     ]
    }
   ],
   "source": [
    "n=5\n",
    "for i in range(1,n+1):\n",
    "    for j in range(i,n+1):\n",
    "        print(\" \",end=\" \")\n",
    "    for j in range(1,i+1):\n",
    "        print(j,end=\" \")\n",
    "    print()"
   ]
  },
  {
   "cell_type": "code",
   "execution_count": null,
   "id": "7094a6c8-051e-4b80-88ba-a128b7c39b81",
   "metadata": {},
   "outputs": [],
   "source": []
  }
 ],
 "metadata": {
  "kernelspec": {
   "display_name": "Python 3 (ipykernel)",
   "language": "python",
   "name": "python3"
  },
  "language_info": {
   "codemirror_mode": {
    "name": "ipython",
    "version": 3
   },
   "file_extension": ".py",
   "mimetype": "text/x-python",
   "name": "python",
   "nbconvert_exporter": "python",
   "pygments_lexer": "ipython3",
   "version": "3.12.4"
  }
 },
 "nbformat": 4,
 "nbformat_minor": 5
}
