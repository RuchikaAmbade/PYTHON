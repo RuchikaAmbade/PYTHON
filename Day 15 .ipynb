{
 "cells": [
  {
   "cell_type": "markdown",
   "id": "6c947392-f028-418c-8fb5-38b2bad50ac3",
   "metadata": {},
   "source": [
    "##### 1 WAP to sum all the items in a list"
   ]
  },
  {
   "cell_type": "code",
   "execution_count": 1,
   "id": "9d8bd352-f181-4dc9-a98c-40acdf2daf03",
   "metadata": {},
   "outputs": [
    {
     "name": "stdout",
     "output_type": "stream",
     "text": [
      "299\n"
     ]
    }
   ],
   "source": [
    "list1=[24,36,18,79,30,49,63]\n",
    "sum=0\n",
    "for i in list1:\n",
    "    sum=sum+i\n",
    "    i=i+1\n",
    "print(sum)"
   ]
  },
  {
   "cell_type": "markdown",
   "id": "68cc7724-c7e2-41c0-a1ce-c239428b1b87",
   "metadata": {},
   "source": [
    "##### 2 WAP to multiply all the items on a list"
   ]
  },
  {
   "cell_type": "code",
   "execution_count": 3,
   "id": "331d6fe1-4386-4c7a-a59f-d3df6ef16d80",
   "metadata": {},
   "outputs": [
    {
     "name": "stdout",
     "output_type": "stream",
     "text": [
      "51840\n"
     ]
    }
   ],
   "source": [
    "list2=[2,3,5,8,9,6,4]\n",
    "m=1\n",
    "for i in list2:\n",
    "    m=m*i\n",
    "    i=i+1\n",
    "print(m)"
   ]
  },
  {
   "cell_type": "markdown",
   "id": "deabb2f6-c305-47fd-8a35-508553927c02",
   "metadata": {},
   "source": [
    "##### 3 WAP to get the largest number from a list"
   ]
  },
  {
   "cell_type": "code",
   "execution_count": 26,
   "id": "624a6e14-ae7d-4e47-a74d-1b18bc4f6d08",
   "metadata": {},
   "outputs": [
    {
     "name": "stdout",
     "output_type": "stream",
     "text": [
      "89\n"
     ]
    }
   ],
   "source": [
    "my_list=[10,25,47,3,89,56]\n",
    "max_value=my_list[0]\n",
    "for num in my_list:\n",
    "    if num>max_value:\n",
    "        max_value=num\n",
    "print(max_value)"
   ]
  },
  {
   "cell_type": "markdown",
   "id": "255fd89b-71b5-4d93-a558-991259baa541",
   "metadata": {},
   "source": [
    "##### 4 WAP to get the smallest number from a list"
   ]
  },
  {
   "cell_type": "code",
   "execution_count": 15,
   "id": "dabc3d1a-1a4d-4ef2-a275-82720934b9b3",
   "metadata": {},
   "outputs": [
    {
     "name": "stdout",
     "output_type": "stream",
     "text": [
      "3\n"
     ]
    }
   ],
   "source": [
    "my_list=[10,25,47,3,89,56]\n",
    "min_value=my_list[0]\n",
    "for num in my_list:\n",
    "    if num<min_value:\n",
    "        min_value=num\n",
    "print(min_value)"
   ]
  },
  {
   "cell_type": "markdown",
   "id": "2bd51828-df7b-40d2-a11c-d8b7b03a4639",
   "metadata": {},
   "source": [
    "##### 5 WAP to count the number of strings from a given list of strings.The string length is 2 or more and the first and the last characters are \n",
    "#####    same. "
   ]
  },
  {
   "cell_type": "code",
   "execution_count": 19,
   "id": "38f0c4ae-2f92-4865-b854-5531452feda2",
   "metadata": {},
   "outputs": [
    {
     "name": "stdout",
     "output_type": "stream",
     "text": [
      "2\n"
     ]
    }
   ],
   "source": [
    "list_1=['abc','xyz','aba','1221']\n",
    "count=0\n",
    "for i in list_1:\n",
    "    if len(i)>=2 and i[0]==i[-1]:\n",
    "        count=count+1\n",
    "print(count)"
   ]
  },
  {
   "cell_type": "markdown",
   "id": "6de06c90-6a9c-4fe7-a2d4-9f263fd2e7f7",
   "metadata": {},
   "source": [
    "##### 6 WAP to remove duplicates from a list."
   ]
  },
  {
   "cell_type": "code",
   "execution_count": 15,
   "id": "81c73ad9-3c92-4320-a004-419d18d02398",
   "metadata": {},
   "outputs": [
    {
     "data": {
      "text/plain": [
       "[-27, 20, 45, -12, 60]"
      ]
     },
     "execution_count": 15,
     "metadata": {},
     "output_type": "execute_result"
    }
   ],
   "source": [
    "list1=[-12,20,-27,20,45,-12,60]\n",
    "for i in list1:\n",
    "    count1=list1.count(i)\n",
    "    if count1>1:\n",
    "        list1.remove(i)\n",
    "list1"
   ]
  },
  {
   "cell_type": "markdown",
   "id": "471f78c1-4b13-4912-9564-5bf8d3c9a4cb",
   "metadata": {},
   "source": [
    "##### 7 WAP to check if a list is empty or not."
   ]
  },
  {
   "cell_type": "code",
   "execution_count": 35,
   "id": "82fff56a-c20e-4928-b13f-4950aa0cb650",
   "metadata": {},
   "outputs": [
    {
     "name": "stdout",
     "output_type": "stream",
     "text": [
      "Empty list\n"
     ]
    }
   ],
   "source": [
    "list1=[]\n",
    "if not list1:\n",
    "    print(\"Empty list\")\n",
    "else:\n",
    "    print(\"Non empty list\")\n"
   ]
  },
  {
   "cell_type": "code",
   "execution_count": 41,
   "id": "f6bb0348-c8bb-4ad4-aabf-499b51d92305",
   "metadata": {},
   "outputs": [
    {
     "name": "stdout",
     "output_type": "stream",
     "text": [
      "Non empty list\n"
     ]
    }
   ],
   "source": [
    "#\n",
    "list1=[1,2,3]\n",
    "if not list1:\n",
    "    print(\"Empty list\")\n",
    "else:\n",
    "    print(\"Non empty list\")\n"
   ]
  },
  {
   "cell_type": "markdown",
   "id": "b50bc48b-cdcf-40c0-aee3-cd1ecc677160",
   "metadata": {},
   "source": [
    "##### 8 WAP to clone or copy a list"
   ]
  },
  {
   "cell_type": "code",
   "execution_count": 39,
   "id": "5f5e9334-fa31-43c4-b3f0-6615c5927575",
   "metadata": {},
   "outputs": [
    {
     "data": {
      "text/plain": [
       "['one', 'two', 'three', 'four']"
      ]
     },
     "execution_count": 39,
     "metadata": {},
     "output_type": "execute_result"
    }
   ],
   "source": [
    "list1=['one','two','three','four']\n",
    "list2=[]\n",
    "for i in list1:\n",
    "    list2.append(i)\n",
    "list2"
   ]
  },
  {
   "cell_type": "markdown",
   "id": "c13801a3-f381-4da5-ac01-30f8c6a47e38",
   "metadata": {},
   "source": [
    "##### 9 WAP to  find the list of words that are longer than n from a givin list of words."
   ]
  },
  {
   "cell_type": "code",
   "execution_count": 43,
   "id": "e6b8a4f1-4ec2-4257-bbc4-0e1f7017acb9",
   "metadata": {},
   "outputs": [
    {
     "data": {
      "text/plain": [
       "['quick', 'brown']"
      ]
     },
     "execution_count": 43,
     "metadata": {},
     "output_type": "execute_result"
    }
   ],
   "source": [
    "list1=[\"The\",\"quick\",\"brown\",\"fox\"]\n",
    "list2=[]\n",
    "n=3\n",
    "for i in list1:\n",
    "    if len(i)>n:\n",
    "        list2.append(i)\n",
    "list2"
   ]
  },
  {
   "cell_type": "markdown",
   "id": "9d5378ca-f621-4261-8d01-8a6338f7d5e0",
   "metadata": {},
   "source": [
    "##### 10 WAP that takes two lists and return true if they have at leat one common member."
   ]
  },
  {
   "cell_type": "code",
   "execution_count": 16,
   "id": "6eb2e3d1-51ef-4851-af4c-96a6d0397ad8",
   "metadata": {},
   "outputs": [
    {
     "name": "stdout",
     "output_type": "stream",
     "text": [
      "True\n",
      "common data [1, 2, 3, 4, 5] [6, 7, 8, 9]\n"
     ]
    }
   ],
   "source": [
    "list1=[1,2,3,4,5]\n",
    "list2=[5,6,7,8,9]\n",
    "for i in list1:\n",
    "    for j in list2:\n",
    "        if i==j:\n",
    "            print(True)\n",
    "            list2.remove(j)\n",
    "print(\"common data\",list1,list2)\n"
   ]
  },
  {
   "cell_type": "code",
   "execution_count": null,
   "id": "906a87f8-9aeb-4990-8174-6801b509dcbd",
   "metadata": {},
   "outputs": [],
   "source": []
  }
 ],
 "metadata": {
  "kernelspec": {
   "display_name": "Python 3 (ipykernel)",
   "language": "python",
   "name": "python3"
  },
  "language_info": {
   "codemirror_mode": {
    "name": "ipython",
    "version": 3
   },
   "file_extension": ".py",
   "mimetype": "text/x-python",
   "name": "python",
   "nbconvert_exporter": "python",
   "pygments_lexer": "ipython3",
   "version": "3.12.4"
  }
 },
 "nbformat": 4,
 "nbformat_minor": 5
}
