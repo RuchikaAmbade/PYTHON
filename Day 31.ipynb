{
 "cells": [
  {
   "cell_type": "markdown",
   "id": "dc14f6d4-0cff-43e4-9e81-47790e6b9da5",
   "metadata": {},
   "source": [
    "##### 1 WAP to print J using '*'"
   ]
  },
  {
   "cell_type": "code",
   "execution_count": 7,
   "id": "410e6b71-88eb-479c-8615-2216cadf6ac9",
   "metadata": {},
   "outputs": [
    {
     "name": "stdout",
     "output_type": "stream",
     "text": [
      "*****\n",
      "  *  \n",
      "  *  \n",
      "  *  \n",
      "  *  \n",
      "  *  \n",
      "***  \n"
     ]
    }
   ],
   "source": [
    "for row in range(7):\n",
    "    for col in range(5):\n",
    "        if col==2  or (row==0 and col!=2) or (row==6 and col<2):\n",
    "            print('*',end='')\n",
    "        else:\n",
    "            print(' ',end='')\n",
    "    print()"
   ]
  },
  {
   "cell_type": "markdown",
   "id": "7c19c0c7-8a38-411c-872a-48117ffae1ac",
   "metadata": {},
   "source": [
    "##### 2 WAP to print k using '*'"
   ]
  },
  {
   "cell_type": "code",
   "execution_count": 11,
   "id": "f876c97a-c2df-4ca4-8fe9-137af81938c0",
   "metadata": {},
   "outputs": [
    {
     "name": "stdout",
     "output_type": "stream",
     "text": [
      "*   *\n",
      "*  * \n",
      "* *  \n",
      "**   \n",
      "* *  \n",
      "*  * \n",
      "*   *\n"
     ]
    }
   ],
   "source": [
    "i=0\n",
    "j=4\n",
    "for row in range(7):\n",
    "    for col in range(5):\n",
    "        if col==0 or (row==col+2 and col>1):\n",
    "            print('*',end='')\n",
    "        elif (row==i and col==j):\n",
    "            print('*',end='')\n",
    "            i=i+1\n",
    "            j=j-1\n",
    "        else:\n",
    "            print(' ',end='')\n",
    "    print()"
   ]
  },
  {
   "cell_type": "markdown",
   "id": "c1712693-b272-4695-828d-5fb341f80e4f",
   "metadata": {},
   "source": [
    "##### 3 WAP to print L using '*'"
   ]
  },
  {
   "cell_type": "code",
   "execution_count": 19,
   "id": "6728b06b-9a4a-40a6-a08f-add35d9beb08",
   "metadata": {},
   "outputs": [
    {
     "name": "stdout",
     "output_type": "stream",
     "text": [
      "*    \n",
      "*    \n",
      "*    \n",
      "*    \n",
      "*    \n",
      "*    \n",
      "*****\n"
     ]
    }
   ],
   "source": [
    "for row in range(7):\n",
    "    for col in range(5):\n",
    "        if col==0 or (row==6 and col!=0):\n",
    "            print('*',end='')\n",
    "        else:\n",
    "            print(' ',end='')\n",
    "    print()"
   ]
  },
  {
   "cell_type": "markdown",
   "id": "0bc4c31b-9036-4e70-8ecf-0274e5886b6a",
   "metadata": {},
   "source": [
    "##### 4 WAP to print M using '*'"
   ]
  },
  {
   "cell_type": "code",
   "execution_count": 9,
   "id": "57c5f7b5-2253-4616-83e2-81ec201aea60",
   "metadata": {},
   "outputs": [
    {
     "name": "stdout",
     "output_type": "stream",
     "text": [
      "*     *\n",
      "**   **\n",
      "* * * *\n",
      "*  *  *\n",
      "*     *\n",
      "*     *\n",
      "*     *\n"
     ]
    }
   ],
   "source": [
    "for row in range(7):\n",
    "    for col in range(7):\n",
    "        if col==0 or col==6 or (row==col and (col>0 and col<4)) or (row==1 and col==5) or (row==2 and col==4):\n",
    "            print('*',end='')\n",
    "        else:\n",
    "            print(' ',end='')\n",
    "    print()"
   ]
  },
  {
   "cell_type": "markdown",
   "id": "b5463d52-e846-4bc4-951e-1d54e2c079eb",
   "metadata": {},
   "source": [
    "##### 5 WAP to print N using '*'"
   ]
  },
  {
   "cell_type": "code",
   "execution_count": 17,
   "id": "aa125926-c925-4239-91b5-ce52cf638ad1",
   "metadata": {},
   "outputs": [
    {
     "name": "stdout",
     "output_type": "stream",
     "text": [
      "*    *\n",
      "**   *\n",
      "* *  *\n",
      "*  * *\n",
      "*   **\n",
      "*    *\n"
     ]
    }
   ],
   "source": [
    "for row in range(6):\n",
    "    for col in range(6):\n",
    "        if col==0 or col==5 or (row==col and (col>0 and col<5)):\n",
    "            print('*',end='')\n",
    "        else:\n",
    "            print(' ',end='')\n",
    "    print()"
   ]
  },
  {
   "cell_type": "markdown",
   "id": "efbee9e4-3138-4de1-9da6-09d93f6278ba",
   "metadata": {},
   "source": [
    "##### 6 WAP to print O using '*'"
   ]
  },
  {
   "cell_type": "code",
   "execution_count": 23,
   "id": "d48dcff1-52be-49da-9aec-71afe3f17bfc",
   "metadata": {},
   "outputs": [
    {
     "name": "stdout",
     "output_type": "stream",
     "text": [
      " *** \n",
      "*   *\n",
      "*   *\n",
      "*   *\n",
      "*   *\n",
      "*   *\n",
      " *** \n"
     ]
    }
   ],
   "source": [
    "for row in range(7):\n",
    "    for col in range(5):\n",
    "        if ((col==0 or col==4) and (row!=0 and row!=6)) or ((row==0 or row==6) and (col!=0 and col!=4)):\n",
    "            print('*',end='')\n",
    "        else:\n",
    "            print(' ',end='')\n",
    "    print()"
   ]
  },
  {
   "cell_type": "markdown",
   "id": "296c10a7-0fea-478e-a3ca-94710c3844e5",
   "metadata": {},
   "source": [
    "##### 7 WAP to find out what version of python you are using"
   ]
  },
  {
   "cell_type": "code",
   "execution_count": 5,
   "id": "919c228c-9c5f-440a-97f2-e04fd5e49614",
   "metadata": {},
   "outputs": [
    {
     "name": "stdout",
     "output_type": "stream",
     "text": [
      "Python version\n",
      "3.12.4 | packaged by Anaconda, Inc. | (main, Jun 18 2024, 15:03:56) [MSC v.1929 64 bit (AMD64)]\n",
      "version info\n",
      "sys.version_info(major=3, minor=12, micro=4, releaselevel='final', serial=0)\n"
     ]
    }
   ],
   "source": [
    "import sys  # sys module to access system specific parameter and functions\n",
    "print('Python version')\n",
    "print(sys.version)\n",
    "print('version info')\n",
    "print(sys.version_info)"
   ]
  },
  {
   "cell_type": "markdown",
   "id": "6c4d5bd8-348c-440a-bcf2-10112a351b9b",
   "metadata": {},
   "source": [
    "##### 8 WAP to display the current date and time"
   ]
  },
  {
   "cell_type": "code",
   "execution_count": 19,
   "id": "6404dad8-f775-4af9-9f81-5e3e0e13b921",
   "metadata": {},
   "outputs": [
    {
     "name": "stdout",
     "output_type": "stream",
     "text": [
      "Current date time\n",
      "2024-09-10 17:07:10\n"
     ]
    }
   ],
   "source": [
    "import datetime\n",
    "now = datetime.datetime.now()\n",
    "print('Current date time')\n",
    "print(now.strftime('%Y-%m-%d %H:%M:%S'))"
   ]
  },
  {
   "cell_type": "markdown",
   "id": "56c26a13-bda2-4c77-880f-1097b4ab22b3",
   "metadata": {},
   "source": [
    "##### 9 WAP that calculates the area of a circle based on the radius entered by the user."
   ]
  },
  {
   "cell_type": "code",
   "execution_count": 33,
   "id": "e0eee1a6-1a71-455a-bbde-6226d9000962",
   "metadata": {},
   "outputs": [
    {
     "name": "stdin",
     "output_type": "stream",
     "text": [
      "Enter value of radius 1.1\n"
     ]
    },
    {
     "name": "stdout",
     "output_type": "stream",
     "text": [
      "Area of circle : 3.8013271108436504\n"
     ]
    }
   ],
   "source": [
    "from math import pi\n",
    "r=float(input('Enter value of radius'))\n",
    "area=pi*(r**2)\n",
    "print('Area of circle :',area)"
   ]
  },
  {
   "cell_type": "markdown",
   "id": "3d8ad1a1-7cc7-445c-8421-dabbbe9c23b4",
   "metadata": {},
   "source": [
    "##### 10 WAP that accepts the user's first and last name and prints them in a reverse order with a space between them"
   ]
  },
  {
   "cell_type": "code",
   "execution_count": 45,
   "id": "06ea010c-18ef-4af6-baa3-4e7ca6a4ff37",
   "metadata": {},
   "outputs": [
    {
     "name": "stdin",
     "output_type": "stream",
     "text": [
      "Enter your first name Ruchika\n",
      "Enter your last name Ambade\n"
     ]
    },
    {
     "name": "stdout",
     "output_type": "stream",
     "text": [
      "Hello Ambade Ruchika\n"
     ]
    }
   ],
   "source": [
    "s1=str(input('Enter your first name'))\n",
    "s2=str(input('Enter your last name'))\n",
    "print('Hello' ,s2 ,s1)"
   ]
  },
  {
   "cell_type": "code",
   "execution_count": null,
   "id": "fd26befc-f22e-4e7e-9b8d-08686a457902",
   "metadata": {},
   "outputs": [],
   "source": []
  }
 ],
 "metadata": {
  "kernelspec": {
   "display_name": "Python 3 (ipykernel)",
   "language": "python",
   "name": "python3"
  },
  "language_info": {
   "codemirror_mode": {
    "name": "ipython",
    "version": 3
   },
   "file_extension": ".py",
   "mimetype": "text/x-python",
   "name": "python",
   "nbconvert_exporter": "python",
   "pygments_lexer": "ipython3",
   "version": "3.12.4"
  }
 },
 "nbformat": 4,
 "nbformat_minor": 5
}
