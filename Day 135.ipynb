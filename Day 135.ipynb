{
 "cells": [
  {
   "cell_type": "markdown",
   "id": "0413eb08-c9c3-4aca-a19f-1eb5401f4f82",
   "metadata": {},
   "source": [
    "##### WAP to reverse the user defined number"
   ]
  },
  {
   "cell_type": "code",
   "execution_count": 5,
   "id": "4fee0602-7ce4-4564-afa9-a6ffb51f2284",
   "metadata": {},
   "outputs": [
    {
     "name": "stdin",
     "output_type": "stream",
     "text": [
      " 8745\n"
     ]
    },
    {
     "name": "stdout",
     "output_type": "stream",
     "text": [
      "5478"
     ]
    }
   ],
   "source": [
    "n=int(input())\n",
    "while n>0:\n",
    "    rem = n%10\n",
    "    print(rem,end='')\n",
    "    n = n//10"
   ]
  },
  {
   "cell_type": "markdown",
   "id": "fba936ab-175a-42a2-a8b1-5ddc6d02b550",
   "metadata": {},
   "source": [
    "##### WAP to check if given number is armstrong or not."
   ]
  },
  {
   "cell_type": "code",
   "execution_count": 14,
   "id": "a8248ad9-e8f5-4e13-8602-a8573547602d",
   "metadata": {},
   "outputs": [
    {
     "name": "stdout",
     "output_type": "stream",
     "text": [
      "153\n",
      "Entered number is an armstrong number\n"
     ]
    }
   ],
   "source": [
    "n=153\n",
    "a=n\n",
    "sum = 0\n",
    "while n>0:\n",
    "    rem = n%10\n",
    "    sum = sum+(rem**3)\n",
    "    n = n//10\n",
    "print(sum)\n",
    "if a==sum:\n",
    "    print('Entered number is an armstrong number')\n",
    "else:\n",
    "    print('Entered number is not an armstrong number')"
   ]
  },
  {
   "cell_type": "code",
   "execution_count": null,
   "id": "cc59c33d-55c0-4757-9a79-ab090172323f",
   "metadata": {},
   "outputs": [],
   "source": []
  }
 ],
 "metadata": {
  "kernelspec": {
   "display_name": "Python 3 (ipykernel)",
   "language": "python",
   "name": "python3"
  },
  "language_info": {
   "codemirror_mode": {
    "name": "ipython",
    "version": 3
   },
   "file_extension": ".py",
   "mimetype": "text/x-python",
   "name": "python",
   "nbconvert_exporter": "python",
   "pygments_lexer": "ipython3",
   "version": "3.12.4"
  }
 },
 "nbformat": 4,
 "nbformat_minor": 5
}
