{
 "cells": [
  {
   "cell_type": "markdown",
   "id": "45e51ccc-a578-42d6-bb5d-68fbb4e7c12b",
   "metadata": {},
   "source": [
    "##### WAP to check whether a number is a prime number or not."
   ]
  },
  {
   "cell_type": "code",
   "execution_count": 20,
   "id": "53644238-75cd-420c-a8d4-ef4821aad3e6",
   "metadata": {},
   "outputs": [
    {
     "name": "stdout",
     "output_type": "stream",
     "text": [
      "(num) is a prime number\n"
     ]
    }
   ],
   "source": [
    "num = 11\n",
    "if num>1:\n",
    "    for i in range(2,num):\n",
    "        if num%i==0:\n",
    "            print(f'(num) is not a prime number')\n",
    "            break\n",
    "    else:\n",
    "        print(f'(num) is a prime number')\n",
    "else:\n",
    "    print('f(num) is not prime number')"
   ]
  },
  {
   "cell_type": "markdown",
   "id": "a408ccc2-1970-459f-a545-bd6dda69bda0",
   "metadata": {},
   "source": [
    "##### WAP to check whether a character is a vowel or not."
   ]
  },
  {
   "cell_type": "code",
   "execution_count": 23,
   "id": "e3a4f075-2506-4543-a886-3a6cea7051bc",
   "metadata": {},
   "outputs": [
    {
     "name": "stdin",
     "output_type": "stream",
     "text": [
      "Enter any character r\n"
     ]
    },
    {
     "name": "stdout",
     "output_type": "stream",
     "text": [
      "Entered character is not a vowel\n"
     ]
    }
   ],
   "source": [
    "ch = str(input('Enter any character'))\n",
    "k='aeiouAEIOU'\n",
    "if ch in k:\n",
    "    print('Entered character is a vowel')\n",
    "else:\n",
    "    print('Entered character is not a vowel')"
   ]
  },
  {
   "cell_type": "code",
   "execution_count": null,
   "id": "12ca2778-833a-4718-8539-7e0844949a85",
   "metadata": {},
   "outputs": [],
   "source": []
  }
 ],
 "metadata": {
  "kernelspec": {
   "display_name": "Python 3 (ipykernel)",
   "language": "python",
   "name": "python3"
  },
  "language_info": {
   "codemirror_mode": {
    "name": "ipython",
    "version": 3
   },
   "file_extension": ".py",
   "mimetype": "text/x-python",
   "name": "python",
   "nbconvert_exporter": "python",
   "pygments_lexer": "ipython3",
   "version": "3.12.4"
  }
 },
 "nbformat": 4,
 "nbformat_minor": 5
}
