{
 "cells": [
  {
   "cell_type": "markdown",
   "id": "29d07427-b9f7-4085-b381-f0bce51b4842",
   "metadata": {},
   "source": [
    "##### 1 WAP to get all possible two digits letter combinations from a 1-9 digit string"
   ]
  },
  {
   "cell_type": "code",
   "execution_count": 9,
   "id": "d44f7ebc-ada9-49e6-bf20-3246c22401d1",
   "metadata": {},
   "outputs": [
    {
     "name": "stdout",
     "output_type": "stream",
     "text": [
      "['jt', 'ju', 'jv', 'kt', 'ku', 'kv', 'lt', 'lu', 'lv']\n",
      "['dw', 'dx', 'dy', 'ew', 'ex', 'ey', 'fw', 'fx', 'fy']\n"
     ]
    }
   ],
   "source": [
    "def letter_combinations(digits):\n",
    "    if digits == '':\n",
    "        return []\n",
    "\n",
    "    string_maps = {\n",
    "        '1':'abc',\n",
    "        '2':'def',\n",
    "        '3':'ghi',\n",
    "        '4':'jkl',\n",
    "        '5':'mno',\n",
    "        '6':'pqrs',\n",
    "        '7':'tuv',\n",
    "        '8':'wxy',\n",
    "        'h':'z'\n",
    "    }\n",
    "    result = ['']\n",
    "\n",
    "    for num in digits:\n",
    "        temp = []\n",
    "        for an in result:\n",
    "            for char in string_maps[num]:\n",
    "                temp.append(an + char)\n",
    "            result = temp\n",
    "    return result\n",
    "\n",
    "digit_string = '47'\n",
    "print(letter_combinations(digit_string))\n",
    "digit_string = '28'\n",
    "print(letter_combinations(digit_string))"
   ]
  },
  {
   "cell_type": "markdown",
   "id": "54ba2989-1f7c-4b2e-9a42-1991146d420d",
   "metadata": {},
   "source": [
    "##### 2 WAP to find the median among three given numbers."
   ]
  },
  {
   "cell_type": "code",
   "execution_count": 36,
   "id": "e45a2aa8-f800-4028-8442-85f645f1fc08",
   "metadata": {},
   "outputs": [
    {
     "name": "stdin",
     "output_type": "stream",
     "text": [
      "Input the first number : 25\n",
      "Input the second number : 15\n",
      "Input the third number : 35\n"
     ]
    },
    {
     "name": "stdout",
     "output_type": "stream",
     "text": [
      "Median of the above three numbers -\n",
      "25\n"
     ]
    }
   ],
   "source": [
    "x= input ('Input the first number :')\n",
    "y= input ('Input the second number :')\n",
    "z= input ('Input the third number :')\n",
    "print('Median of the above three numbers -')\n",
    "if y<x and x<z:\n",
    "    print(x)\n",
    "elif z<x and x<y:\n",
    "    print(x)\n",
    "elif z<y and y<x:\n",
    "    print(y)\n",
    "elif x<y and y<z:\n",
    "    print(y)\n",
    "elif y<z and z<x:\n",
    "    print(z)\n",
    "elif x<z and z<y:\n",
    "    print(z)"
   ]
  },
  {
   "cell_type": "markdown",
   "id": "3e312e14-41ed-40c3-8d31-9fa9e70c962e",
   "metadata": {},
   "source": [
    "##### 3 WAP that finds the value of n when n degrees of number 2 are written sequentially on a line without spaces between them."
   ]
  },
  {
   "cell_type": "code",
   "execution_count": 41,
   "id": "bd0d4f3d-b05d-4910-a872-913b6711f0ea",
   "metadata": {},
   "outputs": [
    {
     "name": "stdout",
     "output_type": "stream",
     "text": [
      "5\n",
      "6\n"
     ]
    }
   ],
   "source": [
    "def ndegrees(num):\n",
    "    ans=True\n",
    "    n, tempn ,i = 2,2,2\n",
    "\n",
    "    while ans:\n",
    "        if str(tempn) in num:\n",
    "            i+=1\n",
    "            tempn = pow(n,i)\n",
    "        else:\n",
    "            ans = False\n",
    "    return i-1\n",
    "\n",
    "print(ndegrees('2481632'))\n",
    "print(ndegrees('248163264'))"
   ]
  },
  {
   "cell_type": "markdown",
   "id": "9193217a-67f7-4c4c-9395-947cb7cb8b97",
   "metadata": {},
   "source": [
    "#### 4 WAP to find number of zeros at the end of a factorial of a given positive number."
   ]
  },
  {
   "cell_type": "code",
   "execution_count": 48,
   "id": "99c05376-b139-48a5-9a38-4063a3fe615d",
   "metadata": {},
   "outputs": [
    {
     "name": "stdout",
     "output_type": "stream",
     "text": [
      "1\n",
      "2\n",
      "24\n"
     ]
    }
   ],
   "source": [
    "def factendzero(n):\n",
    "    x=n//5\n",
    "    y=x\n",
    "    \n",
    "    while x>0:\n",
    "        x/=5\n",
    "        y+=int(x)\n",
    "    return y\n",
    "\n",
    "print(factendzero(5))\n",
    "print(factendzero(12))\n",
    "print(factendzero(100))"
   ]
  },
  {
   "cell_type": "markdown",
   "id": "09c497ef-5af7-4f06-b153-36258f5ccc8f",
   "metadata": {},
   "source": [
    "##### 5 WAP to find the number of notes against an amount."
   ]
  },
  {
   "cell_type": "code",
   "execution_count": 55,
   "id": "1425365d-0968-4fb3-bf21-6f0723d7668b",
   "metadata": {},
   "outputs": [
    {
     "name": "stdout",
     "output_type": "stream",
     "text": [
      "6\n",
      "2\n"
     ]
    }
   ],
   "source": [
    "def no_notes(a):\n",
    "    Q = [500,200,100,50,20,10]\n",
    "    x=0\n",
    "\n",
    "    for i in range(6):\n",
    "        q = Q[i]\n",
    "        x += int(a/q)\n",
    "        a = int(a % q)\n",
    "\n",
    "    if a > 0:\n",
    "        x=-1\n",
    "    return x\n",
    "\n",
    "print(no_notes(880))\n",
    "print(no_notes(1000))"
   ]
  },
  {
   "cell_type": "code",
   "execution_count": null,
   "id": "1e01f64a-1491-4c81-a93d-cd6ea901fe31",
   "metadata": {},
   "outputs": [],
   "source": []
  }
 ],
 "metadata": {
  "kernelspec": {
   "display_name": "Python 3 (ipykernel)",
   "language": "python",
   "name": "python3"
  },
  "language_info": {
   "codemirror_mode": {
    "name": "ipython",
    "version": 3
   },
   "file_extension": ".py",
   "mimetype": "text/x-python",
   "name": "python",
   "nbconvert_exporter": "python",
   "pygments_lexer": "ipython3",
   "version": "3.12.4"
  }
 },
 "nbformat": 4,
 "nbformat_minor": 5
}
