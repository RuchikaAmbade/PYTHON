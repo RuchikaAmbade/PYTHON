{
 "cells": [
  {
   "cell_type": "markdown",
   "id": "7778e632-4401-4780-bc3b-7eaf8ceda0d0",
   "metadata": {},
   "source": [
    "##### 1 WAP to print a simple number pattern."
   ]
  },
  {
   "cell_type": "code",
   "execution_count": 1,
   "id": "1da0f93b-8356-43e3-a09b-b20e21987ff7",
   "metadata": {},
   "outputs": [
    {
     "name": "stdout",
     "output_type": "stream",
     "text": [
      "1 \n",
      "2 2 \n",
      "3 3 3 \n",
      "4 4 4 4 \n",
      "5 5 5 5 5 \n"
     ]
    }
   ],
   "source": [
    "n=5\n",
    "for i in range(1,n+1):\n",
    "    for j in range(1,i+1):\n",
    "        print(i,end=\" \")\n",
    "    print()"
   ]
  },
  {
   "cell_type": "markdown",
   "id": "d8a5f8b8-b08a-4257-b29a-4f27714d3081",
   "metadata": {},
   "source": [
    "##### 2 WAP to print half-pyramid pattern of numbers (column wise increaing pattern)."
   ]
  },
  {
   "cell_type": "code",
   "execution_count": 6,
   "id": "db1d50a7-fe41-4c02-bc72-d77eca9b9b83",
   "metadata": {},
   "outputs": [
    {
     "name": "stdout",
     "output_type": "stream",
     "text": [
      "1 \n",
      "1 2 \n",
      "1 2 3 \n",
      "1 2 3 4 \n",
      "1 2 3 4 5 \n"
     ]
    }
   ],
   "source": [
    "n=5\n",
    "for i in range(1,n+1):\n",
    "    for j in range(1,i+1):\n",
    "        print(j,end=\" \")\n",
    "    print()"
   ]
  },
  {
   "cell_type": "markdown",
   "id": "c1001545-894f-4d60-9357-d23e6806a2ca",
   "metadata": {},
   "source": [
    "##### 3 WAP to print inverted pyramid pattern of numbers"
   ]
  },
  {
   "cell_type": "code",
   "execution_count": 9,
   "id": "f23fba5e-e656-4775-8447-71feb9a590bd",
   "metadata": {},
   "outputs": [
    {
     "name": "stdout",
     "output_type": "stream",
     "text": [
      "1 1 1 1 1 \n",
      "2 2 2 2 \n",
      "3 3 3 \n",
      "4 4 \n",
      "5 \n"
     ]
    }
   ],
   "source": [
    "n=5\n",
    "for i in range(1,n+1):\n",
    "    for j in range(i,n+1):\n",
    "        print(i,end=\" \")\n",
    "    print()"
   ]
  },
  {
   "cell_type": "markdown",
   "id": "dadfd2c9-8c77-40f0-9f93-fd202a5a63bc",
   "metadata": {},
   "source": [
    "##### 4 WAP to print inerted pyramid with the same digit."
   ]
  },
  {
   "cell_type": "code",
   "execution_count": 3,
   "id": "b3b81bf5-b6da-46b3-9168-428554962bb0",
   "metadata": {},
   "outputs": [
    {
     "name": "stdout",
     "output_type": "stream",
     "text": [
      "* * * * * \n",
      "* * * * \n",
      "* * * \n",
      "* * \n",
      "* \n"
     ]
    }
   ],
   "source": [
    "n=5\n",
    "for i in range(1,n+1):\n",
    "    for j in range(i,n+1):\n",
    "        print('*',end=' ')\n",
    "    print()"
   ]
  },
  {
   "cell_type": "markdown",
   "id": "56d2a418-b790-4cc7-a0fd-63170a20feb0",
   "metadata": {},
   "source": [
    "##### 5 WAP to print reverse number pattern"
   ]
  },
  {
   "cell_type": "code",
   "execution_count": 16,
   "id": "899e31e3-c9b7-4ca7-a4bc-78b396e1afc8",
   "metadata": {},
   "outputs": [
    {
     "name": "stdout",
     "output_type": "stream",
     "text": [
      "5 5 5 5 5 \n",
      "4 4 4 4 \n",
      "3 3 3 \n",
      "2 2 \n",
      "1 \n"
     ]
    }
   ],
   "source": [
    "n=5\n",
    "for i in range(0,n):\n",
    "    for j in range(i,n):\n",
    "        print(n-i,end=' ')\n",
    "    print()"
   ]
  },
  {
   "cell_type": "code",
   "execution_count": null,
   "id": "d76bd193-347e-474a-a195-2db3941a75a0",
   "metadata": {},
   "outputs": [],
   "source": []
  }
 ],
 "metadata": {
  "kernelspec": {
   "display_name": "Python 3 (ipykernel)",
   "language": "python",
   "name": "python3"
  },
  "language_info": {
   "codemirror_mode": {
    "name": "ipython",
    "version": 3
   },
   "file_extension": ".py",
   "mimetype": "text/x-python",
   "name": "python",
   "nbconvert_exporter": "python",
   "pygments_lexer": "ipython3",
   "version": "3.12.4"
  }
 },
 "nbformat": 4,
 "nbformat_minor": 5
}
