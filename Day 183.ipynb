{
 "cells": [
  {
   "cell_type": "markdown",
   "id": "6e103c23-44f5-4dc7-a61e-5d4dc9354fab",
   "metadata": {},
   "source": [
    "Python program to find largest number in a list"
   ]
  },
  {
   "cell_type": "code",
   "execution_count": 10,
   "id": "66a7050d-4dc7-4d86-8537-332f189e3f7e",
   "metadata": {},
   "outputs": [
    {
     "name": "stdout",
     "output_type": "stream",
     "text": [
      "Largest number in a given list is  99\n"
     ]
    }
   ],
   "source": [
    "list1 = [10, 20, 4, 45, 99]\n",
    "print('Largest number in a given list is ',max(list1))"
   ]
  },
  {
   "cell_type": "code",
   "execution_count": 14,
   "id": "33cdc3c2-dd00-4e7a-8ba2-6080bc3fd423",
   "metadata": {},
   "outputs": [
    {
     "name": "stdout",
     "output_type": "stream",
     "text": [
      "Largest number in a given list is  99\n"
     ]
    }
   ],
   "source": [
    "# or\n",
    "max_num = list1[0]\n",
    "for i in list1:\n",
    "    if i>max_num:\n",
    "        max_num = i\n",
    "\n",
    "print('Largest number in a given list is ',max_num)"
   ]
  },
  {
   "cell_type": "code",
   "execution_count": null,
   "id": "09dca0a7-9147-4671-ad6e-546b5d7a0556",
   "metadata": {},
   "outputs": [],
   "source": []
  },
  {
   "cell_type": "markdown",
   "id": "09263f59-a145-46ab-9104-e5a6b1b41b2c",
   "metadata": {},
   "source": [
    "Python program to print even numbers in a list"
   ]
  },
  {
   "cell_type": "code",
   "execution_count": 18,
   "id": "2e5288ad-d811-404e-b7de-d493af52b1f4",
   "metadata": {},
   "outputs": [
    {
     "name": "stdout",
     "output_type": "stream",
     "text": [
      "10 20 4 46 98 24 "
     ]
    }
   ],
   "source": [
    "list1 = [10, 20, 4, 45, 99 ,46, 98, 24]\n",
    "for i in list1:\n",
    "    if i%2==0:\n",
    "        print(i,end=' ')"
   ]
  },
  {
   "cell_type": "code",
   "execution_count": null,
   "id": "bac208d6-6ed4-4b20-a0f7-fc67bd6ef7bb",
   "metadata": {},
   "outputs": [],
   "source": []
  },
  {
   "cell_type": "markdown",
   "id": "24e92607-e5e3-4b32-a8e9-d960e4bbe813",
   "metadata": {},
   "source": [
    "Python program to print odd numbers in a List"
   ]
  },
  {
   "cell_type": "code",
   "execution_count": 20,
   "id": "f0124a97-aec2-43eb-97ff-eaaa79af7b3c",
   "metadata": {},
   "outputs": [
    {
     "name": "stdout",
     "output_type": "stream",
     "text": [
      "45 99 "
     ]
    }
   ],
   "source": [
    "list1 = [10, 20, 4, 45, 99 ,46, 98, 24]\n",
    "for i in list1:\n",
    "    if i%2!=0:\n",
    "        print(i,end=' ')"
   ]
  },
  {
   "cell_type": "code",
   "execution_count": null,
   "id": "1e7fe9bf-d845-45d3-a17b-cc6ce81d1285",
   "metadata": {},
   "outputs": [],
   "source": []
  },
  {
   "cell_type": "markdown",
   "id": "a86c4bd7-65bf-4370-8c25-c3364497294e",
   "metadata": {},
   "source": [
    "Program to print duplicates from a list of integers"
   ]
  },
  {
   "cell_type": "code",
   "execution_count": 71,
   "id": "ecd6f7cb-3968-40d4-9780-0b55dc154a95",
   "metadata": {},
   "outputs": [
    {
     "name": "stdout",
     "output_type": "stream",
     "text": [
      "[10, 24]\n"
     ]
    }
   ],
   "source": [
    "list1 = [10, 20, 4, 24, 45, 99 ,46, 10, 98, 24]\n",
    "duplicate_num = []\n",
    "for i in list1:\n",
    "    if list1.count(i)>1 and i not in duplicate_num:\n",
    "        duplicate_num.append(i)\n",
    "\n",
    "print(duplicate_num)"
   ]
  },
  {
   "cell_type": "code",
   "execution_count": null,
   "id": "de015f1d-e809-43a4-8d88-63af58bee546",
   "metadata": {},
   "outputs": [],
   "source": []
  },
  {
   "cell_type": "markdown",
   "id": "9d68164b-09ac-47d8-bcde-b729cc0452ec",
   "metadata": {},
   "source": [
    "Python program to count positive and negative numbers in a list"
   ]
  },
  {
   "cell_type": "code",
   "execution_count": 32,
   "id": "f7084def-2ade-4d86-b88a-88ea6209ae3b",
   "metadata": {},
   "outputs": [
    {
     "name": "stdout",
     "output_type": "stream",
     "text": [
      "Count of positive numbare in a given list : 4\n",
      "Count of negative numbers in a given list : 3\n"
     ]
    }
   ],
   "source": [
    "list1 = [10, -21, 4, -45, 66, -93, 1]\n",
    "count_p = 0\n",
    "count_n = 0\n",
    "for i in list1:\n",
    "    if i>=0:\n",
    "        count_p+=1\n",
    "    else:\n",
    "        count_n+=1\n",
    "print('Count of positive numbare in a given list :',count_p)\n",
    "print('Count of negative numbers in a given list :',count_n)"
   ]
  },
  {
   "cell_type": "code",
   "execution_count": null,
   "id": "47c229a5-f9e2-4988-9f90-86f793c235ca",
   "metadata": {},
   "outputs": [],
   "source": []
  },
  {
   "cell_type": "markdown",
   "id": "5515a9a9-7348-485b-b287-dcf2f3417f5b",
   "metadata": {},
   "source": [
    "Remove multiple elements of 2 from a list in Python"
   ]
  },
  {
   "cell_type": "code",
   "execution_count": 35,
   "id": "690abe7b-2cfa-4b4f-a42f-32df22f7435c",
   "metadata": {},
   "outputs": [
    {
     "name": "stdout",
     "output_type": "stream",
     "text": [
      "New list [11, 5, 17, 23]\n"
     ]
    }
   ],
   "source": [
    "list1 = [11, 5, 17, 18, 23, 50]\n",
    "for i in list1:\n",
    "    if i%2==0:\n",
    "        list1.remove(i)\n",
    "\n",
    "print('New list',list1)"
   ]
  },
  {
   "cell_type": "code",
   "execution_count": null,
   "id": "b947a59b-e2bc-46f3-ac7f-0d7544ce9404",
   "metadata": {},
   "outputs": [],
   "source": []
  },
  {
   "cell_type": "markdown",
   "id": "3d8e1890-2d0e-4198-b6ed-7dff7a3d64ef",
   "metadata": {},
   "source": [
    "Python program to print all Prime numbers in an Interval\n"
   ]
  },
  {
   "cell_type": "code",
   "execution_count": 53,
   "id": "b1de877f-1797-4862-a8b3-441e530992d3",
   "metadata": {},
   "outputs": [
    {
     "name": "stdout",
     "output_type": "stream",
     "text": [
      "1\n",
      "2\n",
      "3\n",
      "5\n",
      "7\n",
      "11\n",
      "13\n",
      "17\n",
      "19\n"
     ]
    }
   ],
   "source": [
    "for n in range(1,21):\n",
    "    for i in range(2,n):\n",
    "        if n%i==0:\n",
    "            break\n",
    "    else:\n",
    "        print(n)"
   ]
  },
  {
   "cell_type": "code",
   "execution_count": null,
   "id": "8416fd80-0422-4b48-ab34-6ddef1b9868d",
   "metadata": {},
   "outputs": [],
   "source": []
  },
  {
   "cell_type": "markdown",
   "id": "5aa7c7cc-cd3c-48ef-9ead-6d5ab51c8b7d",
   "metadata": {},
   "source": [
    "Python program to check whether a number is Prime or not"
   ]
  },
  {
   "cell_type": "code",
   "execution_count": 55,
   "id": "7cb62424-0bfc-4d99-a48f-c48d7df8dca8",
   "metadata": {},
   "outputs": [
    {
     "name": "stdout",
     "output_type": "stream",
     "text": [
      "19 is a prime number\n"
     ]
    }
   ],
   "source": [
    "n=19\n",
    "if n>1:\n",
    "    for i in range(2,n):\n",
    "        if n%i==0:\n",
    "            print(n,'is not a prome number.')\n",
    "            break\n",
    "    else:\n",
    "        print(n,'is a prime number')\n",
    "\n",
    "else:\n",
    "    print(n,'is not a prime number')"
   ]
  },
  {
   "cell_type": "code",
   "execution_count": null,
   "id": "eb5e81e3-8917-43ff-919d-68411ea379d3",
   "metadata": {},
   "outputs": [],
   "source": []
  },
  {
   "cell_type": "markdown",
   "id": "0f71ab8b-e939-4528-8d67-97869044eded",
   "metadata": {},
   "source": [
    "Python Program for n-th Fibonacci number"
   ]
  },
  {
   "cell_type": "code",
   "execution_count": 61,
   "id": "ce0401be-ff6d-4676-bf2a-07ccb4946c95",
   "metadata": {},
   "outputs": [
    {
     "name": "stdout",
     "output_type": "stream",
     "text": [
      "n1= 0\n",
      "n2= 1\n",
      "1\n",
      "2\n",
      "3\n",
      "5\n",
      "8\n",
      "13\n",
      "21\n",
      "34\n",
      "55\n",
      "89\n"
     ]
    }
   ],
   "source": [
    "n1=0\n",
    "n2=1\n",
    "print('n1=',n1)\n",
    "print('n2=',n2)\n",
    "for i in range(10):\n",
    "    n3=n1+n2\n",
    "    print(n3)\n",
    "    n1=n2\n",
    "    n2=n3"
   ]
  },
  {
   "cell_type": "code",
   "execution_count": null,
   "id": "28349ade-e251-4647-941d-18163287ade8",
   "metadata": {},
   "outputs": [],
   "source": []
  },
  {
   "cell_type": "markdown",
   "id": "e4e75d46-bc7f-48d2-bbe1-5d37a3321a82",
   "metadata": {},
   "source": [
    "Python Program for How to check if a given number is Fibonacci number?\n",
    "A number is Fibonacci if and only if one or both of (5n2 + 4) or (5n2 – 4) is a perfect square"
   ]
  },
  {
   "cell_type": "code",
   "execution_count": 12,
   "id": "5f70396f-cc98-4dab-8f84-a25135427717",
   "metadata": {},
   "outputs": [
    {
     "name": "stdout",
     "output_type": "stream",
     "text": [
      "1 is a Fibonacci number.\n",
      "2 is not a Fibonacci number.\n",
      "3 is a Fibonacci number.\n",
      "4 is not a Fibonacci number.\n",
      "5 is not a Fibonacci number.\n",
      "6 is not a Fibonacci number.\n",
      "7 is not a Fibonacci number.\n",
      "8 is a Fibonacci number.\n",
      "9 is not a Fibonacci number.\n",
      "10 is not a Fibonacci number.\n"
     ]
    }
   ],
   "source": [
    "from math import sqrt\n",
    "\n",
    "def isPerfectSquare(x):\n",
    "    s = int(sqrt(x))\n",
    "    return s*s==x\n",
    "    \n",
    "def isFibonacci(n):\n",
    "    return isPerfectSquare(5*n*n + 4) or (5*n*n - 4)\n",
    "\n",
    "for i in range(1,11):\n",
    "    if (isFibonacci(i)==True):\n",
    "        print(i,'is a Fibonacci number.')\n",
    "\n",
    "    else:\n",
    "        print(i,'is not a Fibonacci number.')\n"
   ]
  },
  {
   "cell_type": "code",
   "execution_count": null,
   "id": "4e72255f-a7d8-4f68-8f93-1820d7dd5577",
   "metadata": {},
   "outputs": [],
   "source": []
  }
 ],
 "metadata": {
  "kernelspec": {
   "display_name": "Python 3 (ipykernel)",
   "language": "python",
   "name": "python3"
  },
  "language_info": {
   "codemirror_mode": {
    "name": "ipython",
    "version": 3
   },
   "file_extension": ".py",
   "mimetype": "text/x-python",
   "name": "python",
   "nbconvert_exporter": "python",
   "pygments_lexer": "ipython3",
   "version": "3.12.4"
  }
 },
 "nbformat": 4,
 "nbformat_minor": 5
}
