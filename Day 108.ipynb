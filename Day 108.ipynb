{
 "cells": [
  {
   "cell_type": "code",
   "execution_count": 1,
   "id": "9a4b72a4-5314-46ae-8a9a-5063f2ce6f76",
   "metadata": {},
   "outputs": [
    {
     "name": "stdin",
     "output_type": "stream",
     "text": [
      "Enter any character r\n"
     ]
    },
    {
     "name": "stdout",
     "output_type": "stream",
     "text": [
      "Entered character is not a vowel\n"
     ]
    }
   ],
   "source": [
    "# WAP to check a character is vowel or not\n",
    "ch=str(input(\"Enter any character\"))\n",
    "k=\"aeiouAEIOU\"\n",
    "if ch in k:\n",
    "    print(\"Entered character is a vowel\")\n",
    "else:\n",
    "    print(\"Entered character is not a vowel\")"
   ]
  },
  {
   "cell_type": "code",
   "execution_count": 7,
   "id": "5c320214-ce5f-4423-8545-6ea701a10ff2",
   "metadata": {},
   "outputs": [
    {
     "name": "stdin",
     "output_type": "stream",
     "text": [
      "Enter market price 8000\n"
     ]
    },
    {
     "name": "stdout",
     "output_type": "stream",
     "text": [
      "Discount = 1200.0\n"
     ]
    }
   ],
   "source": [
    "# Accept the market price from the user and calculate the Net amount to pay according to following criteria:\n",
    "# >10000-20% , >7000 and <=10000 - 15% , <=7000 - 10%\n",
    "mp=int(input(\"Enter market price\"))\n",
    "if mp>10000:\n",
    "    D=20/100*mp\n",
    "    print(\"Discount =\",D)\n",
    "elif mp>7000 and mp<=10000:\n",
    "    D=(15/100)*mp\n",
    "    print(\"Discount =\",D)\n",
    "elif mp<=7000:\n",
    "    D=10/100*mp\n",
    "    print(\"Discount =\",D)"
   ]
  },
  {
   "cell_type": "code",
   "execution_count": null,
   "id": "fcd4e82d-07af-475d-a55c-ded454d69810",
   "metadata": {},
   "outputs": [],
   "source": []
  }
 ],
 "metadata": {
  "kernelspec": {
   "display_name": "Python 3 (ipykernel)",
   "language": "python",
   "name": "python3"
  },
  "language_info": {
   "codemirror_mode": {
    "name": "ipython",
    "version": 3
   },
   "file_extension": ".py",
   "mimetype": "text/x-python",
   "name": "python",
   "nbconvert_exporter": "python",
   "pygments_lexer": "ipython3",
   "version": "3.12.4"
  }
 },
 "nbformat": 4,
 "nbformat_minor": 5
}
