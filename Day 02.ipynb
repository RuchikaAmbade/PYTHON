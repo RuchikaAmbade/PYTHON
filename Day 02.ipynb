{
 "cells": [
  {
   "cell_type": "code",
   "execution_count": 3,
   "id": "56717d50-61f7-4dca-99a4-c35f49855314",
   "metadata": {},
   "outputs": [
    {
     "name": "stdin",
     "output_type": "stream",
     "text": [
      "enter value of radious 2.3\n"
     ]
    },
    {
     "name": "stdout",
     "output_type": "stream",
     "text": [
      "Area of circle is : 16.610599999999998\n"
     ]
    }
   ],
   "source": [
    "# 1 area of circle = 3.14*radious^2\n",
    "radious=float(input(\"enter value of radious\"))\n",
    "area=3.14*(radious**2)\n",
    "print(\"Area of circle is :\",area)"
   ]
  },
  {
   "cell_type": "code",
   "execution_count": 7,
   "id": "70fa5147-2678-446c-babf-2ce321d614b0",
   "metadata": {},
   "outputs": [
    {
     "name": "stdin",
     "output_type": "stream",
     "text": [
      "enter value of l 8\n",
      "enter value of b 6\n",
      "enter value of h 2\n"
     ]
    },
    {
     "name": "stdout",
     "output_type": "stream",
     "text": [
      "Total surface area of cuboid is : 152\n"
     ]
    }
   ],
   "source": [
    "# 2 Total surface area of cuboid = 2(lb+bh+lh)\n",
    "l=int(input(\"enter value of l\"))\n",
    "b=int(input(\"enter value of b\"))\n",
    "h=int(input(\"enter value of h\"))\n",
    "area=2*(l*b+b*h+l*h)\n",
    "print(\"Total surface area of cuboid is :\",area)\n"
   ]
  },
  {
   "cell_type": "code",
   "execution_count": 9,
   "id": "d9e2e49d-956e-4acc-97d1-f11847faad06",
   "metadata": {},
   "outputs": [
    {
     "name": "stdin",
     "output_type": "stream",
     "text": [
      " 6\n"
     ]
    },
    {
     "name": "stdout",
     "output_type": "stream",
     "text": [
      "TSA of cube is : 216\n"
     ]
    }
   ],
   "source": [
    "# 3 TSA of cube\n",
    "a=int(input())   # a= side of a cube\n",
    "area=6*a*a\n",
    "print(\"TSA of cube is :\",area)\n"
   ]
  },
  {
   "cell_type": "code",
   "execution_count": 13,
   "id": "8870321b-68a3-4a8f-8a5b-61631e9dffcb",
   "metadata": {},
   "outputs": [
    {
     "name": "stdin",
     "output_type": "stream",
     "text": [
      "Enter value of radious 5\n",
      "Enter value of height 8\n"
     ]
    },
    {
     "name": "stdout",
     "output_type": "stream",
     "text": [
      "TSA of cylinder is : 408.20000000000005\n"
     ]
    }
   ],
   "source": [
    "# 4 TSA of cylinder =2*3.14*r(r+h)\n",
    "r=int(input(\"Enter value of radious\"))   # radious of the base\n",
    "h=int(input(\"Enter value of height\"))    # height\n",
    "area=(2*3.14*r)*(r+h)\n",
    "print(\"TSA of cylinder is :\",area)\n"
   ]
  },
  {
   "cell_type": "code",
   "execution_count": 15,
   "id": "d2687fc3-f5d2-437b-a87f-a84b6c105686",
   "metadata": {},
   "outputs": [
    {
     "name": "stdin",
     "output_type": "stream",
     "text": [
      "Enter value of radious 3\n",
      "Enter value of height 7\n"
     ]
    },
    {
     "name": "stdout",
     "output_type": "stream",
     "text": [
      "TSA of cone is : 65.94\n"
     ]
    }
   ],
   "source": [
    "# 5 TSA of a  right circular cone =(1/3)*3.14*(r^2)*h\n",
    "r=int(input(\"Enter value of radious\"))    \n",
    "h=int(input(\"Enter value of height\")) \n",
    "area=(1/3)*3.14*(r**2)*h\n",
    "print(\"TSA of cone is :\",area)\n"
   ]
  },
  {
   "cell_type": "code",
   "execution_count": 19,
   "id": "4a95e26a-fce7-46c2-9cbc-15f588a20a39",
   "metadata": {},
   "outputs": [
    {
     "name": "stdin",
     "output_type": "stream",
     "text": [
      " 7\n",
      " 9\n"
     ]
    },
    {
     "name": "stdout",
     "output_type": "stream",
     "text": [
      "The value of (a+b)^2 is 256\n"
     ]
    }
   ],
   "source": [
    "# 6 (a+b)^2=(a**2)+(b**2)+2*a*b\n",
    "a=int(input())\n",
    "b=int(input())\n",
    "formula=(a**2)+(b**2)+2*a*b\n",
    "print(\"The value of (a+b)^2 is\",formula)"
   ]
  },
  {
   "cell_type": "code",
   "execution_count": 21,
   "id": "37a798a1-72e9-4fc4-be75-ab165e433fd4",
   "metadata": {},
   "outputs": [
    {
     "name": "stdin",
     "output_type": "stream",
     "text": [
      " 7\n",
      " 9\n"
     ]
    },
    {
     "name": "stdout",
     "output_type": "stream",
     "text": [
      "The value of (a-b)^2 is 4\n"
     ]
    }
   ],
   "source": [
    "# 7 (a-b)^2=(a**2)+(b**2)-2*a*b\n",
    "a=int(input())\n",
    "b=int(input())\n",
    "formula=(a**2)+(b**2)-2*a*b\n",
    "print(\"The value of (a-b)^2 is\",formula)"
   ]
  },
  {
   "cell_type": "code",
   "execution_count": 23,
   "id": "499c7002-aa7f-4d99-ae4d-27e6ce6f8d5f",
   "metadata": {},
   "outputs": [
    {
     "name": "stdin",
     "output_type": "stream",
     "text": [
      " 14\n",
      " 12\n"
     ]
    },
    {
     "name": "stdout",
     "output_type": "stream",
     "text": [
      "The value of (a+b) (a-b) is 52\n"
     ]
    }
   ],
   "source": [
    "# 8 (a-b)(a+b)=a^2 - b^2\n",
    "a=int(input())\n",
    "b=int(input())\n",
    "formula=(a**2)-(b**2)\n",
    "print(\"The value of (a+b) (a-b) is\",formula)"
   ]
  },
  {
   "cell_type": "code",
   "execution_count": 25,
   "id": "84d78048-38f7-4de9-a6f3-65603dd60d37",
   "metadata": {},
   "outputs": [
    {
     "name": "stdin",
     "output_type": "stream",
     "text": [
      " 2\n",
      " 4\n",
      " 6\n"
     ]
    },
    {
     "name": "stdout",
     "output_type": "stream",
     "text": [
      "The value of (a+b+c)^2 is 144\n"
     ]
    }
   ],
   "source": [
    "# 9 (a+b+c)^2 = a^2 + b^2 + c^2 + 2ab +2bc +2ca\n",
    "a=int(input())\n",
    "b=int(input())\n",
    "c=int(input())\n",
    "formula= (a**2) + (b**2) + (c**2) + (2*a*b) + (2*b*c) + (2*c*a)\n",
    "print(\"The value of (a+b+c)^2 is\",formula)"
   ]
  },
  {
   "cell_type": "code",
   "execution_count": null,
   "id": "6c234854-d2aa-40d5-936b-1a5a610cdea2",
   "metadata": {},
   "outputs": [],
   "source": [
    "# 10 (a-b-c)^2 = a^2 + b^2 + c^2 - 2ab + 2bc - 2ca\n",
    "a=int(input())\n",
    "b=int(input())\n",
    "c=int(input())\n",
    "formula= (a**2) + (b**2) + (c**2) - (2*a*b) + (2*b*c) - (2*c*a)\n",
    "print(\"The value of (a-b-c)^2 is\",formula)"
   ]
  },
  {
   "cell_type": "code",
   "execution_count": null,
   "id": "28dc160c-81af-4146-9e92-c09b0023756e",
   "metadata": {},
   "outputs": [],
   "source": []
  }
 ],
 "metadata": {
  "kernelspec": {
   "display_name": "Python 3 (ipykernel)",
   "language": "python",
   "name": "python3"
  },
  "language_info": {
   "codemirror_mode": {
    "name": "ipython",
    "version": 3
   },
   "file_extension": ".py",
   "mimetype": "text/x-python",
   "name": "python",
   "nbconvert_exporter": "python",
   "pygments_lexer": "ipython3",
   "version": "3.12.4"
  }
 },
 "nbformat": 4,
 "nbformat_minor": 5
}
