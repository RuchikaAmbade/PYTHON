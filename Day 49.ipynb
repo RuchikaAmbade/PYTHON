{
 "cells": [
  {
   "cell_type": "markdown",
   "id": "81d2f4ff-fa48-446b-b115-8244a58c2380",
   "metadata": {},
   "source": [
    "##### 1 WAP to validate an IP address"
   ]
  },
  {
   "cell_type": "code",
   "execution_count": 5,
   "id": "d8ea126d-cc1c-413d-826d-ef296acbf86d",
   "metadata": {},
   "outputs": [
    {
     "name": "stdout",
     "output_type": "stream",
     "text": [
      "Inavlid IP\n"
     ]
    }
   ],
   "source": [
    "import socket\n",
    "addr = '127.0.0.2561'\n",
    "try:\n",
    "    socket.inet_aton(addr)\n",
    "    print('Valid IP')\n",
    "\n",
    "except socket.error:\n",
    "    print('Inavlid IP')"
   ]
  },
  {
   "cell_type": "markdown",
   "id": "7d5feba1-2de9-487a-b423-89ad6d5ae645",
   "metadata": {},
   "source": [
    "##### 2 WAP program to convert an integer to binary that keeps leading zeros."
   ]
  },
  {
   "cell_type": "code",
   "execution_count": 12,
   "id": "feeb0baa-b902-4867-a1d4-63a410295147",
   "metadata": {},
   "outputs": [
    {
     "name": "stdout",
     "output_type": "stream",
     "text": [
      "00001100\n",
      "0000001100\n"
     ]
    }
   ],
   "source": [
    "x=12\n",
    "print(format(x,'08b'))\n",
    "print(format(x,'010b'))"
   ]
  },
  {
   "cell_type": "markdown",
   "id": "e7fc75f7-e02b-4a79-a0f8-453db8722610",
   "metadata": {},
   "source": [
    "##### 3 WAP to convert decimal to hexadecimal."
   ]
  },
  {
   "cell_type": "code",
   "execution_count": 19,
   "id": "7d6c5d66-6814-4dda-819d-a0182348bc39",
   "metadata": {},
   "outputs": [
    {
     "name": "stdout",
     "output_type": "stream",
     "text": [
      "1e\n",
      "04\n"
     ]
    }
   ],
   "source": [
    "x=30\n",
    "print(format(x,'02x'))\n",
    "\n",
    "x=4\n",
    "print(format(x,'02x'))"
   ]
  },
  {
   "cell_type": "markdown",
   "id": "bfa1cafa-5b86-4b24-9382-167d537d78a0",
   "metadata": {},
   "source": [
    "##### 4 WAP to determine if the python shell is executing in 32-bit or 64-bit mode on the operating system"
   ]
  },
  {
   "cell_type": "code",
   "execution_count": 26,
   "id": "66f99f6e-9183-4caa-b9b3-7a31641e4ccf",
   "metadata": {},
   "outputs": [
    {
     "name": "stdout",
     "output_type": "stream",
     "text": [
      "64\n"
     ]
    }
   ],
   "source": [
    "import struct\n",
    "print(struct.calcsize(\"P\")*8)"
   ]
  },
  {
   "cell_type": "markdown",
   "id": "fa0fa7ea-c05e-4573-862e-40959298b5fa",
   "metadata": {},
   "source": [
    "##### 5 WAP to check whether a variable is an integer or string."
   ]
  },
  {
   "cell_type": "code",
   "execution_count": 33,
   "id": "246bd7b5-bd3f-4178-ba43-35441e3679ba",
   "metadata": {},
   "outputs": [
    {
     "name": "stdout",
     "output_type": "stream",
     "text": [
      "True\n",
      "False\n",
      "True\n"
     ]
    }
   ],
   "source": [
    "print(isinstance(25,int) or isinstance(25,str))\n",
    "print(isinstance([25],int) or isinstance([25],str))\n",
    "print(isinstance(\"25\",int) or isinstance(\"25\",str))"
   ]
  },
  {
   "cell_type": "code",
   "execution_count": null,
   "id": "d72afc94-9bae-4f99-9472-17b1e87ae8aa",
   "metadata": {},
   "outputs": [],
   "source": []
  }
 ],
 "metadata": {
  "kernelspec": {
   "display_name": "Python 3 (ipykernel)",
   "language": "python",
   "name": "python3"
  },
  "language_info": {
   "codemirror_mode": {
    "name": "ipython",
    "version": 3
   },
   "file_extension": ".py",
   "mimetype": "text/x-python",
   "name": "python",
   "nbconvert_exporter": "python",
   "pygments_lexer": "ipython3",
   "version": "3.12.4"
  }
 },
 "nbformat": 4,
 "nbformat_minor": 5
}
