{
 "cells": [
  {
   "cell_type": "markdown",
   "id": "2ea3ba36-4e45-45ea-b8e3-79ddea9cba2c",
   "metadata": {},
   "source": [
    "##### 1 WAP which solve the equation ax+by = c , dx+ey = f.\n",
    "##### Print the values of x and y where a,b,c,d,e,f are given."
   ]
  },
  {
   "cell_type": "code",
   "execution_count": 5,
   "id": "7a4ea2ff-58e2-4d16-a351-728c86e223ed",
   "metadata": {},
   "outputs": [
    {
     "name": "stdout",
     "output_type": "stream",
     "text": [
      "Input the values of a,b,c,d,e,f:\n"
     ]
    },
    {
     "name": "stdin",
     "output_type": "stream",
     "text": [
      " 5 8 6 7 9 4\n"
     ]
    },
    {
     "name": "stdout",
     "output_type": "stream",
     "text": [
      "Values of x and y :\n",
      "-2.000 2.000\n"
     ]
    }
   ],
   "source": [
    "print('Input the values of a,b,c,d,e,f:')\n",
    "a,b,c,d,e,f = map(float, input().split())\n",
    "n= a*e - b * d\n",
    "print('Values of x and y :')\n",
    "\n",
    "if n != 0:\n",
    "    x = (c * e - b * f) / n\n",
    "    y = (a * f - c * d) / n\n",
    "\n",
    "    print('{:.3f} {:.3f}'.format(x + 0 , y + 0))"
   ]
  },
  {
   "cell_type": "markdown",
   "id": "26f9b132-f310-4dbd-bcb5-bc91f253a702",
   "metadata": {},
   "source": [
    "##### 2 WAP that reads an integer n and finds the number of combinations of a,b,c will be equal to n."
   ]
  },
  {
   "cell_type": "code",
   "execution_count": 8,
   "id": "208755d8-80ea-4abf-af20-833df6c80f80",
   "metadata": {},
   "outputs": [
    {
     "name": "stdout",
     "output_type": "stream",
     "text": [
      "Input the number(n):\n"
     ]
    },
    {
     "name": "stdin",
     "output_type": "stream",
     "text": [
      " 15\n"
     ]
    },
    {
     "name": "stdout",
     "output_type": "stream",
     "text": [
      "Number of combinations: 592\n"
     ]
    }
   ],
   "source": [
    "import itertools\n",
    "print('Input the number(n):')\n",
    "n = int(input())\n",
    "result = 0\n",
    "for (i,j,k) in itertools.product(range(10), range(10), range(10)):\n",
    "    result += (0 <= n - (i+j+k) <= 9)\n",
    "print('Number of combinations:',result)"
   ]
  },
  {
   "cell_type": "markdown",
   "id": "37a5fe93-dff6-491e-8140-dd74bb1e50f3",
   "metadata": {},
   "source": [
    "##### 3 WAP to print the number of prime numbers that are less than or equal to a given number."
   ]
  },
  {
   "cell_type": "code",
   "execution_count": 15,
   "id": "c29f6b34-29e8-48a3-8f05-5cd36444ee32",
   "metadata": {},
   "outputs": [
    {
     "name": "stdout",
     "output_type": "stream",
     "text": [
      "Input the number (n):\n"
     ]
    },
    {
     "name": "stdin",
     "output_type": "stream",
     "text": [
      " 35\n"
     ]
    },
    {
     "name": "stdout",
     "output_type": "stream",
     "text": [
      "Number of prime numbers which are less than or equal to n, : 11\n"
     ]
    }
   ],
   "source": [
    "primes = [1] * 500000\n",
    "primes[0] = 0\n",
    "\n",
    "for i in range(3,1000,2):\n",
    "    if primes[i // 2]:\n",
    "        primes[(i * i) // 2::i] = [0] * len(primes[(i * i) // 2::i])\n",
    "\n",
    "print('Input the number (n):')\n",
    "n=int(input())\n",
    "\n",
    "if n<4:\n",
    "    print('Number of prime numbers which are less than or equal to n. :',n-1)\n",
    "else:\n",
    "    print('Number of prime numbers which are less than or equal to n, :', sum(primes[:(n+1)//2]) + 1)"
   ]
  },
  {
   "cell_type": "markdown",
   "id": "a987d009-18c0-427d-a482-3c97b71aaa87",
   "metadata": {},
   "source": [
    "##### 4 WAP to compute the radius and the central coordinate (x,y) of a circle which is constructed from three given points on the plane surface."
   ]
  },
  {
   "cell_type": "code",
   "execution_count": 32,
   "id": "3d00ac10-6363-4394-a986-e5e9bffc8bc2",
   "metadata": {},
   "outputs": [
    {
     "name": "stdout",
     "output_type": "stream",
     "text": [
      "Input three coordinates of the circle:\n"
     ]
    },
    {
     "name": "stdin",
     "output_type": "stream",
     "text": [
      " 9 3 6 8 3 6\n"
     ]
    },
    {
     "name": "stdout",
     "output_type": "stream",
     "text": [
      "Radius of the said circle:\n",
      "3.358\n",
      "Central coordinates (x,y) of the circle:\n",
      "6.071 4.643\n"
     ]
    }
   ],
   "source": [
    "print('Input three coordinates of the circle:')\n",
    "x1,y1,x2,y2,x3,y3 = map(float,input().split())\n",
    "\n",
    "c = (x1-x2)**2 + (y1-y2)**2\n",
    "a = (x2-x3)**2 + (y2-y3)**2\n",
    "b = (x3-x1)**2 + (y3-y1)**2\n",
    "\n",
    "s = 2 * (a*b + b*c + c*a) - (a**2 + b**2 + c**2)\n",
    "px = (a * (b + c - a) * x1 + b * (c + a -b) * x2 + c * (a + b - c) * x3) / s\n",
    "py = (a * (b + c - a) * y1 + b * (c + a -b) * y2 + c * (a + b - c) * y3) / s\n",
    "\n",
    "ar = a**0.5\n",
    "br = b**0.5\n",
    "cr = c**0.5\n",
    "r = ar*br*cr / ((ar + br + cr) * (-ar + br + cr) * (ar - br + cr) * (ar + br - cr)) ** 0.5\n",
    "\n",
    "print ('Radius of the said circle:')\n",
    "print('{:>.3f}'.format(r))\n",
    "print('Central coordinates (x,y) of the circle:')\n",
    "print('{:>.3f}'.format(px), \"{:>.3f}\".format(py))"
   ]
  },
  {
   "cell_type": "markdown",
   "id": "024d4e5b-32f7-4ad8-9dfd-9a9c6bf7be54",
   "metadata": {},
   "source": [
    "##### 5 WAP to check if a point (x,y) is in a triangle or not.A triangle or not. A triangle is formed by three points."
   ]
  },
  {
   "cell_type": "code",
   "execution_count": 35,
   "id": "aeba53bd-25c1-423c-9eaa-5dfd26f64a1b",
   "metadata": {},
   "outputs": [
    {
     "name": "stdout",
     "output_type": "stream",
     "text": [
      "Input x1,y1,x2,y2,x3,y3,xp,yp:\n"
     ]
    },
    {
     "name": "stdin",
     "output_type": "stream",
     "text": [
      " 2 3 4 5 6 8 7 1\n"
     ]
    },
    {
     "name": "stdout",
     "output_type": "stream",
     "text": [
      "The point is outside the triangle.\n"
     ]
    }
   ],
   "source": [
    "print ('Input x1,y1,x2,y2,x3,y3,xp,yp:')\n",
    "x1,y1,x2,y2,x3,y3,xp,yp = map(float ,input().split())\n",
    "\n",
    "c1 = (x2 - x1) * (yp - y1) - (y2 - y1) * (xp - x1)\n",
    "c2 = (x3 - x2) * (yp - y2) - (y3 - y2) * (xp - x2)\n",
    "c3 = (x1 - x3) * (yp - y3) - (y1 - y3) * (xp - x3)\n",
    "if (c1 < 0 and c2 < 0 and c3 < 0) or (c1 >0 and c2 >0 and c3 > 0):\n",
    "    print(\"The point is in the triangle.\")\n",
    "else:\n",
    "    print('The point is outside the triangle.')"
   ]
  },
  {
   "cell_type": "code",
   "execution_count": null,
   "id": "2c2f7384-0df8-4bdd-96bc-4bc85f93e075",
   "metadata": {},
   "outputs": [],
   "source": []
  }
 ],
 "metadata": {
  "kernelspec": {
   "display_name": "Python 3 (ipykernel)",
   "language": "python",
   "name": "python3"
  },
  "language_info": {
   "codemirror_mode": {
    "name": "ipython",
    "version": 3
   },
   "file_extension": ".py",
   "mimetype": "text/x-python",
   "name": "python",
   "nbconvert_exporter": "python",
   "pygments_lexer": "ipython3",
   "version": "3.12.4"
  }
 },
 "nbformat": 4,
 "nbformat_minor": 5
}
