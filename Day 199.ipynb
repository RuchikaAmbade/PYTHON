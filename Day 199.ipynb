{
 "cells": [
  {
   "cell_type": "markdown",
   "id": "d99618df-e487-4971-b808-4a394ac5ea44",
   "metadata": {},
   "source": [
    "Write a program to check if each word in a string begins with a capital letter?"
   ]
  },
  {
   "cell_type": "code",
   "execution_count": 2,
   "id": "d01c1bea-7f92-4626-b587-80b35765da0f",
   "metadata": {},
   "outputs": [
    {
     "name": "stdout",
     "output_type": "stream",
     "text": [
      "True\n",
      "False\n",
      "False\n"
     ]
    }
   ],
   "source": [
    "print('The Hilton'.istitle())\n",
    "print('The dog'.istitle())\n",
    "print('sticky rice'.istitle())"
   ]
  },
  {
   "cell_type": "code",
   "execution_count": null,
   "id": "3e7478dd-9f1e-4788-9fd2-ed9fdac0f971",
   "metadata": {},
   "outputs": [],
   "source": []
  },
  {
   "cell_type": "markdown",
   "id": "f2a231f3-881a-459f-95c4-637247d2776d",
   "metadata": {},
   "source": [
    "Write a program to Check if a string contains a specific substring"
   ]
  },
  {
   "cell_type": "code",
   "execution_count": 5,
   "id": "b74a366b-3474-4f50-95c3-75a20fbd6391",
   "metadata": {},
   "outputs": [
    {
     "name": "stdout",
     "output_type": "stream",
     "text": [
      "True\n",
      "False\n"
     ]
    }
   ],
   "source": [
    "print('plane' in 'The world fastest plane')\n",
    "print('car' in 'The world fastest plane')"
   ]
  },
  {
   "cell_type": "code",
   "execution_count": null,
   "id": "edd1d96d-dd05-4fda-8f79-c031a1a51886",
   "metadata": {},
   "outputs": [],
   "source": []
  },
  {
   "cell_type": "markdown",
   "id": "f7a906fc-ebd4-43db-8ac1-c2a984e975bb",
   "metadata": {},
   "source": [
    "Capitalize the first character of a string"
   ]
  },
  {
   "cell_type": "code",
   "execution_count": 10,
   "id": "bc90691c-861a-425b-8614-e803821ee745",
   "metadata": {},
   "outputs": [
    {
     "data": {
      "text/plain": [
       "'Florida dolphins'"
      ]
     },
     "execution_count": 10,
     "metadata": {},
     "output_type": "execute_result"
    }
   ],
   "source": [
    "'florida dolphins'.capitalize()"
   ]
  },
  {
   "cell_type": "code",
   "execution_count": null,
   "id": "929ed859-42a5-4590-a193-e03e3e4fad95",
   "metadata": {},
   "outputs": [],
   "source": []
  },
  {
   "cell_type": "markdown",
   "id": "6cc1244f-6040-427d-928c-a154584109c4",
   "metadata": {},
   "source": [
    "Reverse the string “hello world”"
   ]
  },
  {
   "cell_type": "code",
   "execution_count": 15,
   "id": "6e552d01-3d40-40be-b034-0e6b73a2ab76",
   "metadata": {},
   "outputs": [
    {
     "name": "stdout",
     "output_type": "stream",
     "text": [
      "dlrow olleh\n"
     ]
    }
   ],
   "source": [
    "print(''.join(reversed('hello world')))"
   ]
  },
  {
   "cell_type": "code",
   "execution_count": null,
   "id": "c6a5d86a-b0f0-424f-82c0-5be09f51a446",
   "metadata": {},
   "outputs": [],
   "source": []
  },
  {
   "cell_type": "markdown",
   "id": "bceb573d-2f0e-4801-8e57-664022227abe",
   "metadata": {},
   "source": [
    "Remove vowels from a string"
   ]
  },
  {
   "cell_type": "code",
   "execution_count": 45,
   "id": "ecd56150-0891-4e72-b505-ff2d320380e2",
   "metadata": {},
   "outputs": [
    {
     "name": "stdout",
     "output_type": "stream",
     "text": [
      "Hll 1 wrld 2\n"
     ]
    }
   ],
   "source": [
    "string = 'Hello 1 world 2'\n",
    "new_str=''\n",
    "vowels = ['a','e','i','o','u','A','E','I','O','U']\n",
    "for i in string:\n",
    "    if i not in vowels:\n",
    "        new_str+=i\n",
    "print(new_str)"
   ]
  },
  {
   "cell_type": "code",
   "execution_count": null,
   "id": "736bdb65-9bec-45bb-b062-648b315fd4af",
   "metadata": {},
   "outputs": [],
   "source": []
  }
 ],
 "metadata": {
  "kernelspec": {
   "display_name": "Python 3 (ipykernel)",
   "language": "python",
   "name": "python3"
  },
  "language_info": {
   "codemirror_mode": {
    "name": "ipython",
    "version": 3
   },
   "file_extension": ".py",
   "mimetype": "text/x-python",
   "name": "python",
   "nbconvert_exporter": "python",
   "pygments_lexer": "ipython3",
   "version": "3.12.4"
  }
 },
 "nbformat": 4,
 "nbformat_minor": 5
}
