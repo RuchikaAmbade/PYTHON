{
 "cells": [
  {
   "cell_type": "markdown",
   "id": "c5afc7c2-a044-46d7-98c3-c9fc8065506d",
   "metadata": {},
   "source": [
    "##### WAP to print alphabet 'R' using '*"
   ]
  },
  {
   "cell_type": "code",
   "execution_count": 6,
   "id": "a975efb7-565a-460c-8eb2-a6fdd297554e",
   "metadata": {},
   "outputs": [
    {
     "name": "stdout",
     "output_type": "stream",
     "text": [
      "* * * *   \n",
      "*       * \n",
      "*       * \n",
      "* * * *   \n",
      "*       * \n",
      "*       * \n",
      "*       * \n"
     ]
    }
   ],
   "source": [
    "for row in range(7):\n",
    "    for col in range(5):\n",
    "        if (col==0 or (col==4 and row!=0 and row!=3)) or ((row==0 or row==3) and (col>0 and col<4)):\n",
    "            print('*',end=' ')\n",
    "        else:\n",
    "            print(' ',end=' ')\n",
    "    print()"
   ]
  },
  {
   "cell_type": "markdown",
   "id": "33bbb926-69be-4724-a136-ca4d8bf9120a",
   "metadata": {},
   "source": [
    "##### WAP to print alphabet 'S' using '*"
   ]
  },
  {
   "cell_type": "code",
   "execution_count": 17,
   "id": "acbbddf3-3d5d-4370-9008-557755b7392d",
   "metadata": {},
   "outputs": [
    {
     "name": "stdout",
     "output_type": "stream",
     "text": [
      "  * * *   \n",
      "*         \n",
      "*         \n",
      "  * * *   \n",
      "        * \n",
      "        * \n",
      "  * * *   \n"
     ]
    }
   ],
   "source": [
    "for row in range(7):\n",
    "    for col in range(5):\n",
    "        if (col==0 and (row==1 or row==2)) or (col==4 and (row==4 or row==5)) or ((row==0 or row==3 or row==6) and (col>0 and col<4)):\n",
    "            print('*',end=' ')\n",
    "        else:\n",
    "            print(' ',end=' ')\n",
    "    print()"
   ]
  },
  {
   "cell_type": "code",
   "execution_count": null,
   "id": "786981f3-9603-441d-9d53-b747b3eb9faa",
   "metadata": {},
   "outputs": [],
   "source": []
  }
 ],
 "metadata": {
  "kernelspec": {
   "display_name": "Python 3 (ipykernel)",
   "language": "python",
   "name": "python3"
  },
  "language_info": {
   "codemirror_mode": {
    "name": "ipython",
    "version": 3
   },
   "file_extension": ".py",
   "mimetype": "text/x-python",
   "name": "python",
   "nbconvert_exporter": "python",
   "pygments_lexer": "ipython3",
   "version": "3.12.4"
  }
 },
 "nbformat": 4,
 "nbformat_minor": 5
}
