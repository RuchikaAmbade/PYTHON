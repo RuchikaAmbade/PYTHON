{
 "cells": [
  {
   "cell_type": "markdown",
   "id": "f0a4aa3e-0bf5-490a-9477-f304c4af6ea4",
   "metadata": {},
   "source": [
    "##### 1 Butterfly pattern"
   ]
  },
  {
   "cell_type": "code",
   "execution_count": 53,
   "id": "3ad0e504-c64a-4e43-81d2-61ae274146c2",
   "metadata": {},
   "outputs": [
    {
     "name": "stdout",
     "output_type": "stream",
     "text": [
      "*               * \n",
      "* *           * * \n",
      "* * *       * * * \n",
      "* * * *   * * * * \n",
      "* * * * * * * * * \n",
      "* * * *   * * * * \n",
      "* * *       * * * \n",
      "* *           * * \n",
      "*               * \n"
     ]
    }
   ],
   "source": [
    "n=5\n",
    "for i in range(1,n+1):\n",
    "    for j in range(1,i+1):\n",
    "        if i==5 and j==5:\n",
    "            break\n",
    "        print(\"*\",end=\" \")\n",
    "    for j in range(i,n):\n",
    "        print(\" \",end=\" \")\n",
    "    for j in range(i+1,n):\n",
    "        print(\" \",end=\" \")\n",
    "    for j in range(1,i+1):\n",
    "        print(\"*\",end=\" \")\n",
    "    print()\n",
    "for i in range(2,n+1):\n",
    "    for j in range(i,n+1):\n",
    "        print(\"*\",end=\" \")\n",
    "    for j in range(1,i):\n",
    "        print(\" \",end=\" \")\n",
    "    for j in range(2,i):\n",
    "        print(\" \",end=\" \")\n",
    "    for j in range(i,n+1):\n",
    "        print(\"*\",end=\" \")\n",
    "    print()"
   ]
  },
  {
   "cell_type": "markdown",
   "id": "b3418bd9-c756-4c9f-aa20-1c70ceb587ba",
   "metadata": {},
   "source": [
    "##### 2 Double hill"
   ]
  },
  {
   "cell_type": "code",
   "execution_count": 69,
   "id": "8804b424-d81f-4f55-9754-91bd4c6d5447",
   "metadata": {},
   "outputs": [
    {
     "name": "stdout",
     "output_type": "stream",
     "text": [
      "     *       * \n",
      "    * *     * * \n",
      "   * * *   * * * \n",
      "  * * * * * * * * \n",
      " * * * * * * * * * \n"
     ]
    }
   ],
   "source": [
    "n=5\n",
    "for i in range(1,n+1):\n",
    "    for j in range(i,n+1):\n",
    "        print(' ',end='')\n",
    "    for j in range(1,i+1):\n",
    "        print('*',end=\" \")\n",
    "        \n",
    "    for j in range(i+1,n):\n",
    "        print(' ',end=' ')\n",
    "    for j in range(1,i+1):\n",
    "        if i==5 and j==5:\n",
    "            break\n",
    "        print('*',end=\" \")\n",
    "    print()"
   ]
  },
  {
   "cell_type": "markdown",
   "id": "a7d54b32-16c5-4618-a0cd-f634a8070036",
   "metadata": {},
   "source": [
    "##### 3 WAP to convert binary to decimal"
   ]
  },
  {
   "cell_type": "code",
   "execution_count": 1,
   "id": "6b8e3168-f3a3-4c3e-b30b-83e664ccf185",
   "metadata": {},
   "outputs": [
    {
     "name": "stdout",
     "output_type": "stream",
     "text": [
      "1\n",
      "1\n",
      "0\n",
      "0\n",
      "0\n",
      "1\n",
      "0\n"
     ]
    }
   ],
   "source": [
    "n=98\n",
    "rem = 0\n",
    "list1=[]\n",
    "while n>0:\n",
    "    rem=n%2\n",
    "    list1.append(rem)\n",
    "    n=n//2\n",
    "list1\n",
    "rev=list1[::-1]\n",
    "rev\n",
    "for i in rev:\n",
    "    print(i)"
   ]
  },
  {
   "cell_type": "markdown",
   "id": "b0e9f407-71fb-4187-a7ac-ee16b61c5632",
   "metadata": {},
   "source": [
    "##### 4 WAP to convert degrees to radian"
   ]
  },
  {
   "cell_type": "code",
   "execution_count": 10,
   "id": "e690469a-e0ab-4d3a-b62f-5b84e1060755",
   "metadata": {},
   "outputs": [
    {
     "name": "stdout",
     "output_type": "stream",
     "text": [
      "Radian : 0.7853981633974483\n"
     ]
    }
   ],
   "source": [
    "from math import pi;\n",
    "degree = 45\n",
    "radian = degree*(pi/180)\n",
    "print(\"Radian :\",radian)"
   ]
  },
  {
   "cell_type": "markdown",
   "id": "3da9bf0a-0e42-4d74-97a3-d3069179beda",
   "metadata": {},
   "source": [
    "##### 5 WAP to convert radian to degree"
   ]
  },
  {
   "cell_type": "code",
   "execution_count": 16,
   "id": "e70121ce-b765-4086-8c6e-f711a4778833",
   "metadata": {},
   "outputs": [
    {
     "name": "stdout",
     "output_type": "stream",
     "text": [
      "Degree : 36.17655518456018\n"
     ]
    }
   ],
   "source": [
    "from math import pi;\n",
    "radian = 0.6314\n",
    "degree=radian*(180/pi)\n",
    "print(\"Degree :\",degree)"
   ]
  }
 ],
 "metadata": {
  "kernelspec": {
   "display_name": "Python 3 (ipykernel)",
   "language": "python",
   "name": "python3"
  },
  "language_info": {
   "codemirror_mode": {
    "name": "ipython",
    "version": 3
   },
   "file_extension": ".py",
   "mimetype": "text/x-python",
   "name": "python",
   "nbconvert_exporter": "python",
   "pygments_lexer": "ipython3",
   "version": "3.12.4"
  }
 },
 "nbformat": 4,
 "nbformat_minor": 5
}
