{
 "cells": [
  {
   "cell_type": "markdown",
   "id": "1d9f6d3f-de7e-4ef4-81fd-14c9b071aa69",
   "metadata": {},
   "source": [
    "##### Pattern 1"
   ]
  },
  {
   "cell_type": "code",
   "execution_count": 6,
   "id": "6a277c8c-1379-47b9-9311-3e948bbeccf5",
   "metadata": {},
   "outputs": [
    {
     "name": "stdout",
     "output_type": "stream",
     "text": [
      "$ \n",
      "# # \n",
      "$ $ $ \n",
      "# # # # \n",
      "$ $ $ $ $ \n"
     ]
    }
   ],
   "source": [
    "n=5\n",
    "for i in range(1,n+1):\n",
    "    for j in range(1,i+1):\n",
    "        if i%2==0:\n",
    "            print(\"#\",end=\" \")\n",
    "        else:\n",
    "            print(\"$\",end=\" \")\n",
    "    print()"
   ]
  },
  {
   "cell_type": "markdown",
   "id": "988e8119-733b-4a4a-a1d0-2207fd4f0b75",
   "metadata": {},
   "source": [
    "##### Pattern 2  Right side triangle (Upward)"
   ]
  },
  {
   "cell_type": "code",
   "execution_count": 20,
   "id": "54d823ff-79b5-4fae-873c-78dfc28e596d",
   "metadata": {},
   "outputs": [
    {
     "name": "stdout",
     "output_type": "stream",
     "text": [
      "          * \n",
      "        * * \n",
      "      * * * \n",
      "    * * * * \n",
      "  * * * * * \n"
     ]
    }
   ],
   "source": [
    "n=5\n",
    "for i in range(1,n+1):\n",
    "    for j in range(i,n+1):\n",
    "        print(\" \",end=\" \")\n",
    "    for j in range(1,i+1):\n",
    "        print(\"*\",end=\" \")\n",
    "    print()"
   ]
  },
  {
   "cell_type": "markdown",
   "id": "d083b282-209b-4f9b-8cb3-c0676ba40132",
   "metadata": {},
   "source": [
    "##### Pattern 3  Right side triangle (downward)"
   ]
  },
  {
   "cell_type": "code",
   "execution_count": 18,
   "id": "f35d16ef-21f4-45a4-ab13-11a1df1f9743",
   "metadata": {},
   "outputs": [
    {
     "name": "stdout",
     "output_type": "stream",
     "text": [
      "  * * * * * \n",
      "    * * * * \n",
      "      * * * \n",
      "        * * \n",
      "          * \n"
     ]
    }
   ],
   "source": [
    "n=5\n",
    "for i in range(1,n+1):\n",
    "    for j in range(1,i+1):\n",
    "        print(\" \",end=\" \")\n",
    "    for j in range(i,n+1):\n",
    "        print(\"*\",end=\" \")\n",
    "    print()"
   ]
  },
  {
   "cell_type": "markdown",
   "id": "a6761b97-656a-4b68-bc63-bf4177350dd9",
   "metadata": {},
   "source": [
    "##### Pattern 4  Pyramid"
   ]
  },
  {
   "cell_type": "code",
   "execution_count": 27,
   "id": "7338d2de-e9c5-44fc-8637-8f99fdf71702",
   "metadata": {},
   "outputs": [
    {
     "name": "stdout",
     "output_type": "stream",
     "text": [
      "     * \n",
      "    * * \n",
      "   * * * \n",
      "  * * * * \n",
      " * * * * * \n"
     ]
    }
   ],
   "source": [
    "n=5\n",
    "for i in range(1,n+1):\n",
    "    for j in range(i,n+1):\n",
    "        print(\" \",end=\"\")\n",
    "    for j in range(1,i+1):\n",
    "        print(\"*\",end=\" \")\n",
    "    print()"
   ]
  },
  {
   "cell_type": "markdown",
   "id": "dbff5256-1326-49f2-af52-0af3372e1125",
   "metadata": {},
   "source": [
    "##### Pateern 5  Reverse Pyramid"
   ]
  },
  {
   "cell_type": "code",
   "execution_count": 30,
   "id": "f1f68fda-ccbd-46e6-9e42-4ddcf60e17e0",
   "metadata": {},
   "outputs": [
    {
     "name": "stdout",
     "output_type": "stream",
     "text": [
      " * * * * * \n",
      "  * * * * \n",
      "   * * * \n",
      "    * * \n",
      "     * \n"
     ]
    }
   ],
   "source": [
    "n=5\n",
    "for i in range(1,n+1):\n",
    "    for j in range(1,i+1):\n",
    "        print(\" \",end=\"\")\n",
    "    for j in range(i,n+1):\n",
    "        print(\"*\",end=\" \")\n",
    "    print()"
   ]
  },
  {
   "cell_type": "code",
   "execution_count": null,
   "id": "f122b0aa-fc0c-4f49-8197-6f492d5925d8",
   "metadata": {},
   "outputs": [],
   "source": []
  }
 ],
 "metadata": {
  "kernelspec": {
   "display_name": "Python 3 (ipykernel)",
   "language": "python",
   "name": "python3"
  },
  "language_info": {
   "codemirror_mode": {
    "name": "ipython",
    "version": 3
   },
   "file_extension": ".py",
   "mimetype": "text/x-python",
   "name": "python",
   "nbconvert_exporter": "python",
   "pygments_lexer": "ipython3",
   "version": "3.12.4"
  }
 },
 "nbformat": 4,
 "nbformat_minor": 5
}
