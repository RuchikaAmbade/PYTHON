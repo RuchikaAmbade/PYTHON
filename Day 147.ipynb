{
 "cells": [
  {
   "cell_type": "markdown",
   "id": "3c68e87b-cee9-4251-926e-8638fcab2df3",
   "metadata": {},
   "source": [
    "##### WAP to find the largest no. out of three numbers expected from user"
   ]
  },
  {
   "cell_type": "code",
   "execution_count": 2,
   "id": "d2e0a6d6-2974-458b-baef-88441722070c",
   "metadata": {},
   "outputs": [
    {
     "name": "stdin",
     "output_type": "stream",
     "text": [
      "Enter number a 78\n",
      "Enter number b 96\n",
      "Enter number c 45\n"
     ]
    },
    {
     "name": "stdout",
     "output_type": "stream",
     "text": [
      "b is largest among a,b and c\n"
     ]
    }
   ],
   "source": [
    "a = int(input('Enter number a'))\n",
    "b = int(input('Enter number b'))\n",
    "c = int(input('Enter number c'))\n",
    "if a>b and a>c:\n",
    "    print('a is largest among a,b and c')\n",
    "elif b>c and b>a:\n",
    "    print('b is largest among a,b and c')\n",
    "elif c>a and c>b:\n",
    "    print('c is largest among a,b and c')"
   ]
  },
  {
   "cell_type": "markdown",
   "id": "8b4d520c-94e7-41cf-8036-3a2674f3d6c4",
   "metadata": {},
   "source": [
    "##### Accept the temperatures in degree celsius of water and check whether it is boiling or not"
   ]
  },
  {
   "cell_type": "code",
   "execution_count": 6,
   "id": "ad6c68d4-da92-4685-b62e-3c96c6e9333c",
   "metadata": {},
   "outputs": [
    {
     "name": "stdin",
     "output_type": "stream",
     "text": [
      "Enter temperature 111\n"
     ]
    },
    {
     "name": "stdout",
     "output_type": "stream",
     "text": [
      "Water is boiling.\n"
     ]
    }
   ],
   "source": [
    "temp = int(input('Enter temperature'))\n",
    "if temp >=100:\n",
    "    print('Water is boiling.')\n",
    "else:\n",
    "    print('Water is not boiling.')"
   ]
  },
  {
   "cell_type": "code",
   "execution_count": null,
   "id": "04166c3a-8e1d-4df0-b8fa-bc2c248bdc65",
   "metadata": {},
   "outputs": [],
   "source": []
  }
 ],
 "metadata": {
  "kernelspec": {
   "display_name": "Python 3 (ipykernel)",
   "language": "python",
   "name": "python3"
  },
  "language_info": {
   "codemirror_mode": {
    "name": "ipython",
    "version": 3
   },
   "file_extension": ".py",
   "mimetype": "text/x-python",
   "name": "python",
   "nbconvert_exporter": "python",
   "pygments_lexer": "ipython3",
   "version": "3.12.4"
  }
 },
 "nbformat": 4,
 "nbformat_minor": 5
}
