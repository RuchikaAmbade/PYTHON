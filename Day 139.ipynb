{
 "cells": [
  {
   "cell_type": "markdown",
   "id": "88ea0a55-eb52-44fb-b264-bb294fe85d52",
   "metadata": {},
   "source": [
    "##### WAP to display 'Hello' if a number entered by the user is multiple of 5, o.w. print 'Bye'"
   ]
  },
  {
   "cell_type": "code",
   "execution_count": 1,
   "id": "bf43924f-e51a-4be4-b006-1ed87b986a68",
   "metadata": {},
   "outputs": [
    {
     "name": "stdin",
     "output_type": "stream",
     "text": [
      "Enter a number 24\n"
     ]
    },
    {
     "name": "stdout",
     "output_type": "stream",
     "text": [
      "Bye\n"
     ]
    }
   ],
   "source": [
    "n=int(input('Enter a number'))\n",
    "if n%5==0:\n",
    "    print('Hello')\n",
    "else:\n",
    "    print('Bye')"
   ]
  },
  {
   "cell_type": "markdown",
   "id": "1c5a2eee-e6bd-46d8-a291-b54614e35c55",
   "metadata": {},
   "source": [
    "#####  WAP to calculate the electricity bill according to the following criteria\n",
    "##### first 100 units - no charge\n",
    "##### next 100 units  - Rs 5 per unit\n",
    "##### After 200 units - Rs 10 per unit"
   ]
  },
  {
   "cell_type": "code",
   "execution_count": 7,
   "id": "3b9d2e59-92f2-443a-b5ff-575a77365587",
   "metadata": {},
   "outputs": [
    {
     "name": "stdin",
     "output_type": "stream",
     "text": [
      "Entered number of units 350\n"
     ]
    },
    {
     "name": "stdout",
     "output_type": "stream",
     "text": [
      "Amt. to pay :  2000\n"
     ]
    }
   ],
   "source": [
    "n = int(input('Entered number of units'))\n",
    "if n<=100:\n",
    "    print('Amt. to pay : 0')\n",
    "if n>100 and n<=200:\n",
    "        print('Amt. to pay :',(n-100)*5)\n",
    "else:\n",
    "        print('Amt. to pay : ',500+(n-200)*10 )"
   ]
  },
  {
   "cell_type": "code",
   "execution_count": null,
   "id": "084ca469-bd67-4049-89f4-f7fb63a48a1f",
   "metadata": {},
   "outputs": [],
   "source": []
  }
 ],
 "metadata": {
  "kernelspec": {
   "display_name": "Python 3 (ipykernel)",
   "language": "python",
   "name": "python3"
  },
  "language_info": {
   "codemirror_mode": {
    "name": "ipython",
    "version": 3
   },
   "file_extension": ".py",
   "mimetype": "text/x-python",
   "name": "python",
   "nbconvert_exporter": "python",
   "pygments_lexer": "ipython3",
   "version": "3.12.4"
  }
 },
 "nbformat": 4,
 "nbformat_minor": 5
}
