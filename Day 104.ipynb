{
 "cells": [
  {
   "cell_type": "markdown",
   "id": "7c32597e-0b34-453e-9bbb-017a5f6e31b1",
   "metadata": {},
   "source": [
    "##### WAP to print 'A' using '*'"
   ]
  },
  {
   "cell_type": "code",
   "execution_count": 13,
   "id": "6e8275a6-3c72-4fc4-a7d3-dfbf5f50a553",
   "metadata": {},
   "outputs": [
    {
     "name": "stdout",
     "output_type": "stream",
     "text": [
      "  * * *   \n",
      "*       * \n",
      "*       * \n",
      "* * * * * \n",
      "*       * \n",
      "*       * \n",
      "*       * \n"
     ]
    }
   ],
   "source": [
    "for row in range(7):\n",
    "    for col in range(5):\n",
    "        if ((col==0 or col==4) and row!=0) or ((row==0 or row==3) and (col!=0 and col!=4)):\n",
    "            print('*',end=' ')\n",
    "        else:\n",
    "            print(' ',end=' ')\n",
    "    print()"
   ]
  },
  {
   "cell_type": "markdown",
   "id": "072a3612-3dc3-413a-a6bd-b135ca98b188",
   "metadata": {},
   "source": [
    "##### WAP to print 'B' using '*'"
   ]
  },
  {
   "cell_type": "code",
   "execution_count": 24,
   "id": "870826a8-3b3b-46b8-8f0b-ce6294cb1630",
   "metadata": {},
   "outputs": [
    {
     "name": "stdout",
     "output_type": "stream",
     "text": [
      "* * * *   \n",
      "*       * \n",
      "*       * \n",
      "* * * *   \n",
      "*       * \n",
      "*       * \n",
      "* * * *   \n"
     ]
    }
   ],
   "source": [
    "for row in range(7):\n",
    "    for col in range(5):\n",
    "        if ((col==0) or (col==4 and (row!=0 and row!=3 and row!=6))) or ((row==0 or row==3 or row==6) and (col!=0 and col!=4)):\n",
    "            print('*',end=' ')\n",
    "        else:\n",
    "            print(' ',end=' ')\n",
    "    print()"
   ]
  },
  {
   "cell_type": "markdown",
   "id": "846a08a2-0752-49d9-b55a-c7447c5e007a",
   "metadata": {},
   "source": [
    "##### WAP to print 'C' uuing '*'"
   ]
  },
  {
   "cell_type": "code",
   "execution_count": 41,
   "id": "f19022ac-baec-4806-a792-7ea8fe8e795d",
   "metadata": {},
   "outputs": [
    {
     "name": "stdout",
     "output_type": "stream",
     "text": [
      "  * * * * \n",
      "*         \n",
      "*         \n",
      "*         \n",
      "*         \n",
      "*         \n",
      "  * * * * \n"
     ]
    }
   ],
   "source": [
    "for row in range(7):\n",
    "    for col in range(5):\n",
    "        if (col == 0 and (row!=0 and row!=6) ) or ((row == 0 or row == 6) and col>0 ):\n",
    "            print('*',end=' ')\n",
    "        else:\n",
    "            print(' ',end=' ')\n",
    "    print()"
   ]
  },
  {
   "cell_type": "code",
   "execution_count": null,
   "id": "e8e051d8-32fb-4566-a9ca-b11285c9634b",
   "metadata": {},
   "outputs": [],
   "source": []
  }
 ],
 "metadata": {
  "kernelspec": {
   "display_name": "Python 3 (ipykernel)",
   "language": "python",
   "name": "python3"
  },
  "language_info": {
   "codemirror_mode": {
    "name": "ipython",
    "version": 3
   },
   "file_extension": ".py",
   "mimetype": "text/x-python",
   "name": "python",
   "nbconvert_exporter": "python",
   "pygments_lexer": "ipython3",
   "version": "3.12.4"
  }
 },
 "nbformat": 4,
 "nbformat_minor": 5
}
