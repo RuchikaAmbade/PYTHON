{
 "cells": [
  {
   "cell_type": "markdown",
   "id": "fe30e152-4666-45a2-aa3a-22430ab42a98",
   "metadata": {},
   "source": [
    "##### 1 WAP to display letter of the word"
   ]
  },
  {
   "cell_type": "code",
   "execution_count": 7,
   "id": "b9c9c2bc-7d23-440b-8985-953be0a8f419",
   "metadata": {},
   "outputs": [
    {
     "name": "stdout",
     "output_type": "stream",
     "text": [
      "C\n",
      "Co\n",
      "Cod\n",
      "Code\n",
      "Coder\n"
     ]
    }
   ],
   "source": [
    "word='Coder'\n",
    "new = ''\n",
    "for i in word:\n",
    "    new=new+i\n",
    "    print(new)"
   ]
  },
  {
   "cell_type": "markdown",
   "id": "4b39f4bc-a99b-4f34-804b-dd99f4056171",
   "metadata": {},
   "source": [
    "##### 2 K-pattern "
   ]
  },
  {
   "cell_type": "code",
   "execution_count": 16,
   "id": "b0670aa3-0855-4dfe-ae8c-a3e00516b699",
   "metadata": {},
   "outputs": [
    {
     "name": "stdout",
     "output_type": "stream",
     "text": [
      "* * * * \n",
      "* * * \n",
      "* * \n",
      "* \n",
      "* * \n",
      "* * * \n",
      "* * * * \n"
     ]
    }
   ],
   "source": [
    "n=4\n",
    "for i in range(1,n+1):\n",
    "    for j in range(i,n+1):\n",
    "        print('*',end=' ')\n",
    "    print()\n",
    "\n",
    "for i in range(2,n+1):\n",
    "    for j in range(1,i+1):\n",
    "        print('*',end=' ')\n",
    "    print()"
   ]
  },
  {
   "cell_type": "markdown",
   "id": "ca2b5dfe-7c50-4a74-a606-a063bee293be",
   "metadata": {},
   "source": [
    "##### 3 WAP to create a tuple."
   ]
  },
  {
   "cell_type": "code",
   "execution_count": 5,
   "id": "83047faa-89b3-4cd5-9045-cd273acde248",
   "metadata": {},
   "outputs": [
    {
     "name": "stdout",
     "output_type": "stream",
     "text": [
      "<class 'tuple'>\n"
     ]
    }
   ],
   "source": [
    "t1=(7,5,48,6,32,1)\n",
    "print(type(t1))"
   ]
  },
  {
   "cell_type": "markdown",
   "id": "a1c5554e-1843-4cec-aaeb-4edf65c52932",
   "metadata": {},
   "source": [
    "##### 4 WAP to create a tuple with different data types."
   ]
  },
  {
   "cell_type": "code",
   "execution_count": 11,
   "id": "8b5066e1-3908-4415-843a-695dd9091bb9",
   "metadata": {},
   "outputs": [
    {
     "name": "stdout",
     "output_type": "stream",
     "text": [
      "('Tuple', 34, 88.41, True)\n",
      "<class 'tuple'>\n"
     ]
    }
   ],
   "source": [
    "t1=(\"Tuple\",34,88.41,True)\n",
    "print(t1)\n",
    "print(type(t1))"
   ]
  },
  {
   "cell_type": "markdown",
   "id": "80e8aeff-9cbd-429e-b9ca-d6f79e9302fd",
   "metadata": {},
   "source": [
    "##### 5 WAP to add an item into a tuple."
   ]
  },
  {
   "cell_type": "code",
   "execution_count": 17,
   "id": "a1ba2cde-a081-4f9f-baea-1f290b401031",
   "metadata": {},
   "outputs": [
    {
     "data": {
      "text/plain": [
       "(78, 32, 14, 65, 91, 20, 37)"
      ]
     },
     "execution_count": 17,
     "metadata": {},
     "output_type": "execute_result"
    }
   ],
   "source": [
    "t1=(78,32,14,65,91,20)\n",
    "t1=t1+(37,)\n",
    "t1"
   ]
  },
  {
   "cell_type": "code",
   "execution_count": null,
   "id": "aa81ce27-b5af-4616-ba5b-81b8d8dadb79",
   "metadata": {},
   "outputs": [],
   "source": []
  }
 ],
 "metadata": {
  "kernelspec": {
   "display_name": "Python 3 (ipykernel)",
   "language": "python",
   "name": "python3"
  },
  "language_info": {
   "codemirror_mode": {
    "name": "ipython",
    "version": 3
   },
   "file_extension": ".py",
   "mimetype": "text/x-python",
   "name": "python",
   "nbconvert_exporter": "python",
   "pygments_lexer": "ipython3",
   "version": "3.12.4"
  }
 },
 "nbformat": 4,
 "nbformat_minor": 5
}
