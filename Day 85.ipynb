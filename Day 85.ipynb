{
 "cells": [
  {
   "cell_type": "markdown",
   "id": "02480b4a-6ec6-4e14-96c3-99124745da97",
   "metadata": {},
   "source": [
    "##### 1 WAP that accepts a sequence of comma-separated numbers from the user and generates a list and tuple of those numbers."
   ]
  },
  {
   "cell_type": "code",
   "execution_count": 11,
   "id": "2ef4b36e-5daa-4dd0-9074-a89ee5af7922",
   "metadata": {},
   "outputs": [
    {
     "name": "stdin",
     "output_type": "stream",
     "text": [
      "Input some comma-separated numbers 1,2,4,8\n"
     ]
    },
    {
     "name": "stdout",
     "output_type": "stream",
     "text": [
      "List ['1', '2', '4', '8']\n",
      "Tuple ('1', '2', '4', '8')\n"
     ]
    }
   ],
   "source": [
    "values = input('Input some comma-separated numbers')\n",
    "list=values.split(',')\n",
    "tuple = tuple(list)\n",
    "print(\"List\", list)\n",
    "print('Tuple',tuple)"
   ]
  },
  {
   "cell_type": "markdown",
   "id": "129fbac8-39c0-4730-942d-fc1ddd662aa1",
   "metadata": {},
   "source": [
    "##### 2 WAP to display the first and last colors from the given list."
   ]
  },
  {
   "cell_type": "code",
   "execution_count": 16,
   "id": "3bd2d6dd-e5fd-4943-9012-1f19cd6d4fc5",
   "metadata": {},
   "outputs": [
    {
     "name": "stdout",
     "output_type": "stream",
     "text": [
      "Red Black\n"
     ]
    }
   ],
   "source": [
    "color_list = ['Red','Green','White','Black']\n",
    "print(color_list[0],color_list[-1])"
   ]
  },
  {
   "cell_type": "markdown",
   "id": "0e9db22b-c7d4-4a4f-b59f-41f14b7dced7",
   "metadata": {},
   "source": [
    "##### 3 WAP to display the examination schedule.(extract the date from exam_st_date)"
   ]
  },
  {
   "cell_type": "code",
   "execution_count": 18,
   "id": "aadc64fb-23ee-47b9-97a5-15d7ea8d5be6",
   "metadata": {},
   "outputs": [
    {
     "name": "stdout",
     "output_type": "stream",
     "text": [
      "The examination will start from :11 /12 /2014\n"
     ]
    }
   ],
   "source": [
    "exam_st_date = (11,12,2014)\n",
    "print('The examination will start from :%i /%i /%i' % exam_st_date)"
   ]
  },
  {
   "cell_type": "markdown",
   "id": "05b52447-cc4a-402f-b2e3-c402353f6b14",
   "metadata": {},
   "source": [
    "##### 4 WAP that accepts an integer (n) and computes the value of n+nn+nnn."
   ]
  },
  {
   "cell_type": "code",
   "execution_count": 23,
   "id": "5dbc84dd-c4b7-4b05-a558-85fa872e63c8",
   "metadata": {},
   "outputs": [
    {
     "name": "stdin",
     "output_type": "stream",
     "text": [
      "Input an integer : 5\n"
     ]
    },
    {
     "name": "stdout",
     "output_type": "stream",
     "text": [
      "615\n"
     ]
    }
   ],
   "source": [
    "a=int(input('Input an integer :'))\n",
    "n1=int('%s'% a )\n",
    "n2=int('%s%s'% (a,a))\n",
    "n3=int('%s%s%s' % (a,a,a))\n",
    "print(n1+n2+n3)"
   ]
  },
  {
   "cell_type": "code",
   "execution_count": null,
   "id": "e54019c5-a4ad-4fac-ac95-4df1f4e00884",
   "metadata": {},
   "outputs": [],
   "source": []
  }
 ],
 "metadata": {
  "kernelspec": {
   "display_name": "Python 3 (ipykernel)",
   "language": "python",
   "name": "python3"
  },
  "language_info": {
   "codemirror_mode": {
    "name": "ipython",
    "version": 3
   },
   "file_extension": ".py",
   "mimetype": "text/x-python",
   "name": "python",
   "nbconvert_exporter": "python",
   "pygments_lexer": "ipython3",
   "version": "3.12.4"
  }
 },
 "nbformat": 4,
 "nbformat_minor": 5
}
