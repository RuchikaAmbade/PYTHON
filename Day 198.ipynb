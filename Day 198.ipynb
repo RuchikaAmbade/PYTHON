{
 "cells": [
  {
   "cell_type": "markdown",
   "id": "bb70badb-75a6-43f0-84fa-97205f8a8fe9",
   "metadata": {},
   "source": [
    "Python program for removing i-th character from a string"
   ]
  },
  {
   "cell_type": "code",
   "execution_count": 1,
   "id": "43fcab43-fdf4-4cec-9dd9-0f3e7187b0eb",
   "metadata": {},
   "outputs": [
    {
     "name": "stdout",
     "output_type": "stream",
     "text": [
      "Data s i vital\n"
     ]
    }
   ],
   "source": [
    "def remove(string, i): \n",
    "  \n",
    "    for j in range(len(string)):\n",
    "        if j == i:\n",
    "            string = string.replace(string[i], \"\", 1)\n",
    "    return string\n",
    "      \n",
    "      \n",
    "string = \"Data is i vital\"\n",
    "      \n",
    "# Remove nth index eleme\n",
    "    \n",
    "    \n",
    "# Print the new string\n",
    "print(remove(string, 8))"
   ]
  },
  {
   "cell_type": "code",
   "execution_count": null,
   "id": "fe905ab0-0499-4284-903f-fe3ef9f28274",
   "metadata": {},
   "outputs": [],
   "source": []
  }
 ],
 "metadata": {
  "kernelspec": {
   "display_name": "Python 3 (ipykernel)",
   "language": "python",
   "name": "python3"
  },
  "language_info": {
   "codemirror_mode": {
    "name": "ipython",
    "version": 3
   },
   "file_extension": ".py",
   "mimetype": "text/x-python",
   "name": "python",
   "nbconvert_exporter": "python",
   "pygments_lexer": "ipython3",
   "version": "3.12.4"
  }
 },
 "nbformat": 4,
 "nbformat_minor": 5
}
