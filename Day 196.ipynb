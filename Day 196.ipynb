{
 "cells": [
  {
   "cell_type": "markdown",
   "id": "72e7d26d-8115-45a2-819a-836c51d40b83",
   "metadata": {},
   "source": [
    "The Fibonacci Sequence is a series of numbers. The next number is found by adding up the two numbers before it. The first two numbers are 0 and 1.\n",
    "For example, 0, 1, 1, 2, 3, 5,8,13. The next number in this series above is 8+13 = 21 Print first 9 terms of the Fibonacci series."
   ]
  },
  {
   "cell_type": "code",
   "execution_count": 2,
   "id": "d698d7a6-45a1-4fcd-b0d6-eba12e51f1e9",
   "metadata": {},
   "outputs": [
    {
     "name": "stdout",
     "output_type": "stream",
     "text": [
      "0\n",
      "1\n",
      "1\n",
      "2\n",
      "3\n",
      "5\n",
      "8\n",
      "13\n",
      "21\n",
      "34\n",
      "55\n"
     ]
    }
   ],
   "source": [
    "n1=0\n",
    "n2=1\n",
    "print(n1)\n",
    "print(n2)\n",
    "for i in range(1,10):\n",
    "    n3=n1+n2\n",
    "    print(n3)\n",
    "    n1=n2\n",
    "    n2=n3\n"
   ]
  },
  {
   "cell_type": "code",
   "execution_count": null,
   "id": "5a19cb30-30b5-45be-b0e7-935db1793532",
   "metadata": {},
   "outputs": [],
   "source": []
  },
  {
   "cell_type": "markdown",
   "id": "662cee8e-18fc-4d34-a9a3-ae03771f8a46",
   "metadata": {},
   "source": [
    "Write a python code to convert celsius to farenheit scale."
   ]
  },
  {
   "cell_type": "code",
   "execution_count": 7,
   "id": "44a9eeb4-12cd-4076-af69-d982bd9d1dd5",
   "metadata": {},
   "outputs": [
    {
     "name": "stdin",
     "output_type": "stream",
     "text": [
      "Temperature value in degree celcius 32\n"
     ]
    },
    {
     "name": "stdout",
     "output_type": "stream",
     "text": [
      "32.0 in fahrenheit is 89.6\n"
     ]
    }
   ],
   "source": [
    "celcius = float(input('Temperature value in degree celcius'))\n",
    "Fahrenheit = celcius*(9/5)+32\n",
    "print(celcius,'in fahrenheit is', Fahrenheit)"
   ]
  },
  {
   "cell_type": "code",
   "execution_count": null,
   "id": "6f0d34af-a388-4043-bbc9-7bb718de5fd6",
   "metadata": {},
   "outputs": [],
   "source": []
  },
  {
   "cell_type": "markdown",
   "id": "243f2293-c52e-4ec8-bba5-5d261b85b278",
   "metadata": {},
   "source": [
    "Write a program to find distance between 2 points (x1,y1) and (x2,y2)"
   ]
  },
  {
   "cell_type": "code",
   "execution_count": 20,
   "id": "daf0bae0-9189-40d2-9091-c93052bcc720",
   "metadata": {},
   "outputs": [
    {
     "data": {
      "text/plain": [
       "5.0"
      ]
     },
     "execution_count": 20,
     "metadata": {},
     "output_type": "execute_result"
    }
   ],
   "source": [
    "m = [6,7]\n",
    "n = [3,11]\n",
    "distance = (((m[0]-n[0])**2) + ((m[1]-n[1])**2))**0.5\n",
    "distance"
   ]
  },
  {
   "cell_type": "markdown",
   "id": "09475b7d-3c94-4ef8-a4e4-e29f49b2c10b",
   "metadata": {},
   "source": [
    "Given is a nested tuple. Write a program to modify the first item (30) of a list inside the following tuple to 300."
   ]
  },
  {
   "cell_type": "code",
   "execution_count": 25,
   "id": "e6eb041a-990c-4299-a828-0cc709aa2f7b",
   "metadata": {},
   "outputs": [
    {
     "data": {
      "text/plain": [
       "(11, [300, 33], 44, 55)"
      ]
     },
     "execution_count": 25,
     "metadata": {},
     "output_type": "execute_result"
    }
   ],
   "source": [
    "tuple1 = (11, [30, 33], 44, 55)\n",
    "tuple1[1][0]=300\n",
    "tuple1"
   ]
  },
  {
   "cell_type": "code",
   "execution_count": null,
   "id": "c51ac849-b237-47a1-9332-00b364e4fc0f",
   "metadata": {},
   "outputs": [],
   "source": []
  }
 ],
 "metadata": {
  "kernelspec": {
   "display_name": "Python 3 (ipykernel)",
   "language": "python",
   "name": "python3"
  },
  "language_info": {
   "codemirror_mode": {
    "name": "ipython",
    "version": 3
   },
   "file_extension": ".py",
   "mimetype": "text/x-python",
   "name": "python",
   "nbconvert_exporter": "python",
   "pygments_lexer": "ipython3",
   "version": "3.12.4"
  }
 },
 "nbformat": 4,
 "nbformat_minor": 5
}
