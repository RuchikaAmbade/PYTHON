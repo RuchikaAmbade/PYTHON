{
 "cells": [
  {
   "cell_type": "markdown",
   "id": "f96741c3-d9c2-4848-addc-9158b1a86184",
   "metadata": {},
   "source": [
    "##### 1 WAP to sum all the items in a list"
   ]
  },
  {
   "cell_type": "code",
   "execution_count": 4,
   "id": "2a9678e4-b152-47de-bd28-0b24023022f0",
   "metadata": {},
   "outputs": [
    {
     "name": "stdout",
     "output_type": "stream",
     "text": [
      "379\n"
     ]
    }
   ],
   "source": [
    "list1=[135,48,72,10,65,49]\n",
    "sum=0\n",
    "for i in list1:\n",
    "    sum+=i\n",
    "\n",
    "print(sum)"
   ]
  },
  {
   "cell_type": "markdown",
   "id": "72296f08-d7b0-4961-b2a7-48ce8d093948",
   "metadata": {},
   "source": [
    "##### 2 WAP to multiply all the items on a list"
   ]
  },
  {
   "cell_type": "code",
   "execution_count": 3,
   "id": "e48ede32-ac6a-4f87-b445-3f41d90d8044",
   "metadata": {},
   "outputs": [
    {
     "name": "stdout",
     "output_type": "stream",
     "text": [
      "145152\n"
     ]
    }
   ],
   "source": [
    "list1=[4,2,9,3,1,8,7,2,6]\n",
    "product=1\n",
    "for i in list1:\n",
    "    product*=i\n",
    "print(product)"
   ]
  },
  {
   "cell_type": "markdown",
   "id": "ba1395ad-04be-450b-adbb-88616d2bca7f",
   "metadata": {},
   "source": [
    "##### 3 WAP to get the largest number from a list"
   ]
  },
  {
   "cell_type": "code",
   "execution_count": 10,
   "id": "51b17b2b-dfa6-4556-9cb8-a7ad6227526a",
   "metadata": {},
   "outputs": [
    {
     "name": "stdout",
     "output_type": "stream",
     "text": [
      "148\n"
     ]
    }
   ],
   "source": [
    "list1=[72,10,135,65,49,148]\n",
    "max_value=list1[0]\n",
    "for num in list1:\n",
    "    if num>max_value:\n",
    "        max_value=num\n",
    "print(max_value)"
   ]
  },
  {
   "cell_type": "markdown",
   "id": "2fd21052-8624-4732-acfb-20ab17c34d88",
   "metadata": {},
   "source": [
    "##### 4 WAP to get the samllest number from a list"
   ]
  },
  {
   "cell_type": "code",
   "execution_count": 13,
   "id": "c9d7591c-284c-488f-a63b-0097fc1f5a05",
   "metadata": {},
   "outputs": [
    {
     "name": "stdout",
     "output_type": "stream",
     "text": [
      "5\n"
     ]
    }
   ],
   "source": [
    "list1=[72,10,135,65,49,5,148]\n",
    "min_value = list1[0]\n",
    "for num in list1:\n",
    "    if num<min_value:\n",
    "        min_value=num\n",
    "print(min_value)"
   ]
  },
  {
   "cell_type": "markdown",
   "id": "30c75f72-6045-4137-9d0c-d053faf52417",
   "metadata": {},
   "source": [
    "##### 5 WAP to count the number of strings from a given list of strings.\n",
    "#####   The string length is 2 or more and the first and the last characters are same."
   ]
  },
  {
   "cell_type": "code",
   "execution_count": 18,
   "id": "d1c0bd7f-c632-49c9-85b7-a695ad2a2df5",
   "metadata": {},
   "outputs": [
    {
     "name": "stdout",
     "output_type": "stream",
     "text": [
      "2\n"
     ]
    }
   ],
   "source": [
    "list_1=['abc','xyz','aba','1221']\n",
    "count=0\n",
    "for i in list_1:\n",
    "    if len(i)>=2 and i[0]==i[-1]:\n",
    "        count+=1\n",
    "print(count)"
   ]
  },
  {
   "cell_type": "code",
   "execution_count": null,
   "id": "2c9a641d-aa66-4715-907c-667261089100",
   "metadata": {},
   "outputs": [],
   "source": []
  }
 ],
 "metadata": {
  "kernelspec": {
   "display_name": "Python 3 (ipykernel)",
   "language": "python",
   "name": "python3"
  },
  "language_info": {
   "codemirror_mode": {
    "name": "ipython",
    "version": 3
   },
   "file_extension": ".py",
   "mimetype": "text/x-python",
   "name": "python",
   "nbconvert_exporter": "python",
   "pygments_lexer": "ipython3",
   "version": "3.12.4"
  }
 },
 "nbformat": 4,
 "nbformat_minor": 5
}
