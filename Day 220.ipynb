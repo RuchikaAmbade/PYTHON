{
 "cells": [
  {
   "cell_type": "markdown",
   "id": "ef6c7f4e-9d85-4c26-8622-3ae31be0ddbe",
   "metadata": {},
   "source": [
    "1. Print the following pattern for 8 lines.\n",
    "\n",
    "![image.png](data:image/png;base64,iVBORw0KGgoAAAANSUhEUgAAAO4AAAC1CAYAAABYp8MWAAAAAXNSR0IArs4c6QAAAARnQU1BAACxjwv8YQUAAAAJcEhZcwAAEnQAABJ0Ad5mH3gAAAUpSURBVHhe7d0xiFRnFIbhk5SLiBiMhcUGQkJSBLQyaISkWsHeYgWbRQVDQAuroIViZRFBFEywEbRIv+DWGsHKgARCQsApDBgxiMi2ydzZu7vT7uz8xcc8TzNckfFH7jtn5jbnvS8Pf/1fAVHe71+BIMKFQMKFQMKFQMKFQMKFQMKFQMKFQMKFQMKFQMKFQMKFQMKFQMKFQMKFQMKFQMKFQMKFQMKFQMKFQMKFQMKFQMKFQMKFQMKFQMKFQMKFQI3DPV5X796oC4f7yyk5dP5G3btyvL+aksVLde/WuTrUX07Hwbpw605dXewvp6XJWUnSINzuZr1Um/fqq3rxy/Dl8Ln6aTs32/Bm/en8wf6iavXfweh18co2wujONP4B8Prvejx86T4Yxv+trVq8Mv5htVpvRkftPsTG/1+2qNFZydQg3PnatWO+jt0dC6qbEGe+qLkdO+uj/o+26tDePTV34PRo0qy9x/xomh2br/pw74Q37vzOmptfqHtjQXUfBN8emKu53cM3nsjB2vfBXO0/c2cYVP8e88Po7i4Mz72n9k367aPJWUnVbs1mNyG6WEcXq/Xr7e/qWjd5t6m7WbtYRwYrdeLiz/3F5Lqp1QUw8u5Z3Tx7fTTNtqebsF2sa54/WKrv7/cX29DmrKTxcAoCNZi4m5Pm+YOVqqOf1W8Pqo4d7cbkoJZPXq5JBs/GpBlOmeU/P65v6mH98clC7d8xnOdPf6xTPzzp/+YWdF/h18/VnfHz32u5FtYm+sTTvPuNf7o/18rwjEeqHv1Vnx7tvn1s45tHk7OSqsHEHdSbd12gY18N71+uE7ef1eq7t/W8/6Otevzy1SjQE8OvhmvvMahrZ5dqeVD1z8sJou0M3tZqd9OPfZjcv7hUN5+ubjz82ron9eJ1F+jS8MOkf4/B9Tp1cmV47v5B3SSanJVU7X7jjnTT90i9mdLv23Wj6bv74XSnTDfRvno75d+Ma9N316Pp/L7d0OSsJGkcLtCCh1MQSLgQSLgQSLgQSLgQSLgQSLgQSLgQSLgQSLgQSLgQSLgQSLgQSLgQSLgQSLgQSLgQSLgQSLgQSLgQqHG4ln41WfrFzGsQrqVfTZZ+wZgG4Vr61WTpF4yx9GuozSKtNku/oOPhFASy9Ctl6ReMaTBxLf1qsvQLxlj6ta7JIq1GS7+YeZZ+QSAPpyCQcCGQcCGQcCGQcCGQcCGQcCGQcCGQcCGQcCGQcCGQcCGQcCGQcCGQcCGQcCGQcCGQcCGQcCGQcCFQ43BnfekXtNEgXEu/oLUG4c760i9oz9KvoTZLv6AdD6cgkKVfU1/6Be01mLizvvQL2rP0a12TpV/QhqVfEMjDKQgkXAgkXAgkXAgkXAgkXAgkXAgkXAgkXAgkXAgkXAgkXAgkXAgkXAgkXAgkXAgkXAgkXAgkXAgkXAjUONygpV8QpEG4QUu/IFSDcIOWfkEoS78gkIdTEGi2l35BqAYTN2jpF4Sy9AsCWfoFgTycgkDChUDChUDChUDChUDChUDChUDChUDChUDChUDChUDChUDChUDChUDChUDChUDChUDChUDChUDChUCNw22z9AtmXYNwGy39AjY0CLfN0i9gU9zSL8DDKYgUs/QL2NRg4rZZ+gVsilz6BbPO0i8I5OEUBBIuBBIuBBIuBBIuBBIuBBIuBBIuBBIuBBIuBBIuBBIuBBIuBBIuBBIuBBIuBBIuBBIuBBIuBBIuBBIuBBIuBBIuBBIuBBIuBBIuBBIuBBIuxKn6Hw4QCYbV15veAAAAAElFTkSuQmCC)"
   ]
  },
  {
   "cell_type": "code",
   "execution_count": 1,
   "id": "aa1eb543-46bc-47af-b1e6-3a1e5784f7bb",
   "metadata": {},
   "outputs": [
    {
     "name": "stdout",
     "output_type": "stream",
     "text": [
      "* * * * * \n",
      "* * * * \n",
      "* * * \n",
      "* * \n",
      "* \n"
     ]
    }
   ],
   "source": [
    "n = 5\n",
    "for i in range(1,n+1):\n",
    "    for j in range(i,n+1):\n",
    "        print('*',end=' ')\n",
    "    print()"
   ]
  },
  {
   "cell_type": "markdown",
   "id": "9511b846-941d-4f75-9b61-91ca249f51d1",
   "metadata": {},
   "source": [
    "2. Write a Python program to convert them into a dictionary in a way that item from list1 is the key and item from list2 is the value.\n",
    "\n",
    "list1 = ['India', 'USA', 'China']\n",
    "\n",
    "list2 = [1, 2, 3]"
   ]
  },
  {
   "cell_type": "code",
   "execution_count": 11,
   "id": "02a68d2f-9030-4f1a-b161-5c3f3db602c7",
   "metadata": {},
   "outputs": [
    {
     "data": {
      "text/plain": [
       "{'India': 1, 'USA': 2, 'China': 3}"
      ]
     },
     "execution_count": 11,
     "metadata": {},
     "output_type": "execute_result"
    }
   ],
   "source": [
    "list1 = ['India', 'USA', 'China']\n",
    "list2 = [1, 2, 3]\n",
    "new_dict = dict(zip(list1,list2))\n",
    "new_dict"
   ]
  },
  {
   "cell_type": "markdown",
   "id": "8f90017e-c643-408f-8512-ea628a27fd96",
   "metadata": {},
   "source": [
    "3. Merge 2 dictionaries into 1.\n",
    "- dict1 = {'India': 1, 'USA': 2, 'China': 3}\n",
    "- dict2 = {'UK': 4, 'Japan': 5, 'Russia': 6}"
   ]
  },
  {
   "cell_type": "code",
   "execution_count": 1,
   "id": "736fc7f7-7c21-46fa-bc25-5da0db028a60",
   "metadata": {},
   "outputs": [
    {
     "data": {
      "text/plain": [
       "{'India': 1, 'USA': 2, 'China': 3, 'UK': 4, 'Japan': 5, 'Russia': 6}"
      ]
     },
     "execution_count": 1,
     "metadata": {},
     "output_type": "execute_result"
    }
   ],
   "source": [
    "dict1 = {'India': 1, 'USA': 2, 'China': 3}\n",
    "dict2 = {'UK': 4, 'Japan': 5, 'Russia': 6}\n",
    "merge_dict = dict1|dict2\n",
    "merge_dict"
   ]
  },
  {
   "cell_type": "code",
   "execution_count": 5,
   "id": "b0d2c0ef-2088-4680-bdd4-f4bdedb36a62",
   "metadata": {},
   "outputs": [
    {
     "name": "stdout",
     "output_type": "stream",
     "text": [
      "{'India': 1, 'USA': 2, 'China': 3, 'UK': 4, 'Japan': 5, 'Russia': 6}\n"
     ]
    }
   ],
   "source": [
    "dict1 = {'India': 1, 'USA': 2, 'China': 3}\n",
    "dict2 = {'UK': 4, 'Japan': 5, 'Russia': 6}\n",
    "merge_dict = dict1.copy()\n",
    "merge_dict.update(dict2)\n",
    "print(merge_dict)"
   ]
  },
  {
   "cell_type": "code",
   "execution_count": 7,
   "id": "c2138bdd-7230-4237-af3b-acfad2dda8a3",
   "metadata": {},
   "outputs": [
    {
     "name": "stdout",
     "output_type": "stream",
     "text": [
      "{'India': 1, 'USA': 2, 'China': 3, 'UK': 4, 'Japan': 5, 'Russia': 6}\n"
     ]
    }
   ],
   "source": [
    "dict1 = {'India': 1, 'USA': 2, 'China': 3}\n",
    "dict2 = {'UK': 4, 'Japan': 5, 'Russia': 6}\n",
    "merge_dict = {**dict1,**dict2}\n",
    "print(merge_dict)"
   ]
  },
  {
   "cell_type": "markdown",
   "id": "1596af99-a105-4fe7-9dbe-fa646a060e8d",
   "metadata": {},
   "source": [
    "4. Check if a value exists in a dictionary or not.\n",
    "- sample_dict = {'India': 1, 'USA': 2, 'China': 3}\n",
    "- check if 2 exists in the dictionary or not and print \"2 present in dictionary\" if it exists."
   ]
  },
  {
   "cell_type": "code",
   "execution_count": 9,
   "id": "a9d25966-cb8f-469f-916e-cef500b90624",
   "metadata": {},
   "outputs": [
    {
     "name": "stdout",
     "output_type": "stream",
     "text": [
      "2 is present in dictionary.\n"
     ]
    }
   ],
   "source": [
    "sample_dict = {'India': 1, 'USA': 2, 'China': 3}\n",
    "if 2 in sample_dict.values():\n",
    "    print('2 is present in dictionary.')"
   ]
  },
  {
   "cell_type": "markdown",
   "id": "a0a047fb-3c78-42aa-909b-00c50f86551a",
   "metadata": {},
   "source": [
    "5. Get the key of a minimum value from the following dictionary.\n",
    " - sample_dict = {'India': 19, 'USA': 27, 'China': 76}"
   ]
  },
  {
   "cell_type": "code",
   "execution_count": 13,
   "id": "2738ab83-066b-4d17-b59a-a613a3d2ceda",
   "metadata": {},
   "outputs": [
    {
     "name": "stdout",
     "output_type": "stream",
     "text": [
      "India\n"
     ]
    }
   ],
   "source": [
    "sample_dict = {'India': 19, 'USA': 27, 'China': 76}\n",
    "print(min(sample_dict,key = sample_dict.get))"
   ]
  },
  {
   "cell_type": "markdown",
   "id": "fdbc10fd-fa9e-4004-9a04-1ba3baac2c75",
   "metadata": {},
   "source": [
    "6. Check if two sets have any elements in common. If yes, display the common elements\n",
    "- set1 = {10, 20, 30, 40, 50}\n",
    "- set2 = {60, 70, 80, 90, 10}"
   ]
  },
  {
   "cell_type": "code",
   "execution_count": 19,
   "id": "f2691306-847e-4d3b-ad31-fe4d2635f84c",
   "metadata": {},
   "outputs": [
    {
     "name": "stdout",
     "output_type": "stream",
     "text": [
      "Common element : {10}\n"
     ]
    }
   ],
   "source": [
    "set1 = {10, 20, 30, 40, 50}\n",
    "set2 = {60, 70, 80, 90, 10}\n",
    "comm_ele = set1.intersection(set2)\n",
    "if comm_ele:\n",
    "    print('Common element :',comm_ele)\n",
    "else:\n",
    "    print('No common element')"
   ]
  },
  {
   "cell_type": "markdown",
   "id": "f3ec59ed-402c-4781-972e-c2e4d5241c1c",
   "metadata": {},
   "source": [
    "7. Remove items from set1 that are not common to both set1 and set2\n",
    "- set1 = {10, 20, 30, 40, 50}\n",
    "- set2 = {60, 70, 80, 90, 10}"
   ]
  },
  {
   "cell_type": "code",
   "execution_count": 23,
   "id": "32b89dd4-1b8a-41f5-b9e1-b6b7c5f491c1",
   "metadata": {},
   "outputs": [
    {
     "data": {
      "text/plain": [
       "{10}"
      ]
     },
     "execution_count": 23,
     "metadata": {},
     "output_type": "execute_result"
    }
   ],
   "source": [
    "set1 = {10, 20, 30, 40, 50}\n",
    "set2 = {60, 70, 80, 90, 10}\n",
    "set1.intersection_update(set2)\n",
    "set1"
   ]
  },
  {
   "cell_type": "markdown",
   "id": "333e07f9-5b5c-4668-99e3-db1dd7bfb143",
   "metadata": {},
   "source": [
    "8. Turn every item of a list into its square."
   ]
  },
  {
   "cell_type": "code",
   "execution_count": 29,
   "id": "87121c52-f527-4567-aa3a-e1e18a33148f",
   "metadata": {},
   "outputs": [
    {
     "name": "stdout",
     "output_type": "stream",
     "text": [
      "[1, 4, 9, 16, 25, 36, 49, 64, 81, 100]\n"
     ]
    }
   ],
   "source": [
    "numbers = [1, 2, 3, 4, 5, 6, 7,8,9,10]\n",
    "sq_list = []\n",
    "for i in numbers:\n",
    "    sq_list.append(i**2)\n",
    "\n",
    "print(sq_list)"
   ]
  },
  {
   "cell_type": "markdown",
   "id": "dac0f5a5-3a2d-474c-8e69-44c180edb792",
   "metadata": {},
   "source": [
    "9. Write a program that takes a number and checks whether it is a palindrome or not."
   ]
  },
  {
   "cell_type": "code",
   "execution_count": 25,
   "id": "6920dad9-c381-4da0-a99b-a53944f5a70b",
   "metadata": {},
   "outputs": [
    {
     "name": "stdout",
     "output_type": "stream",
     "text": [
      "12321 is palindrome\n"
     ]
    }
   ],
   "source": [
    "n = 12321\n",
    "a=n\n",
    "rem=0\n",
    "res=0\n",
    "while n>0:\n",
    "    rem = n%10\n",
    "    res = res*10+rem\n",
    "    n=n//10\n",
    "\n",
    "if res==a:\n",
    "    print(a,'is palindrome')\n",
    "else:\n",
    "    print(a,'is not a palindrome')"
   ]
  },
  {
   "cell_type": "markdown",
   "id": "b4948018-fa3a-4077-b608-74ecc07ffe32",
   "metadata": {},
   "source": [
    "10. A positive 3-digit integer is called an Armstrong number if sum of cubes of all digits of the number = the number. e.g: 153 = 1^3 + 5^3 + 3^3. \n",
    "Write a program to check if a 3-digit number is an Armstrong Number."
   ]
  },
  {
   "cell_type": "code",
   "execution_count": 21,
   "id": "44eb211e-e673-455f-8711-01b68674f178",
   "metadata": {},
   "outputs": [
    {
     "name": "stdout",
     "output_type": "stream",
     "text": [
      "153 is an armstrong num\n"
     ]
    }
   ],
   "source": [
    "n = 153\n",
    "a=n\n",
    "rem=0\n",
    "sum = 0\n",
    "while n>0:\n",
    "    rem = n%10\n",
    "    sum = sum + (rem**3)\n",
    "    n=n//10\n",
    "\n",
    "if a==sum:\n",
    "    print(a,'is an armstrong num')\n",
    "else:\n",
    "    print(a,'is not an armstrong num')"
   ]
  },
  {
   "cell_type": "markdown",
   "id": "51399fa2-2a7c-41e9-b30a-8fe56f4a29ca",
   "metadata": {},
   "source": [
    "#### "
   ]
  }
 ],
 "metadata": {
  "kernelspec": {
   "display_name": "Python 3 (ipykernel)",
   "language": "python",
   "name": "python3"
  },
  "language_info": {
   "codemirror_mode": {
    "name": "ipython",
    "version": 3
   },
   "file_extension": ".py",
   "mimetype": "text/x-python",
   "name": "python",
   "nbconvert_exporter": "python",
   "pygments_lexer": "ipython3",
   "version": "3.12.4"
  }
 },
 "nbformat": 4,
 "nbformat_minor": 5
}
