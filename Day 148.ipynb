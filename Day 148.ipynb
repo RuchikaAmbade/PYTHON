{
 "cells": [
  {
   "cell_type": "markdown",
   "id": "40ff61ba-411e-4eb0-bf26-1a8f6f5e6626",
   "metadata": {},
   "source": [
    "##### Aceept the age of four people and display the youngest one"
   ]
  },
  {
   "cell_type": "code",
   "execution_count": 2,
   "id": "c7d1b314-dcde-4b60-b69d-f958a3b2e235",
   "metadata": {},
   "outputs": [
    {
     "name": "stdin",
     "output_type": "stream",
     "text": [
      "Enter age of a 54\n",
      "Enter age of b 49\n",
      "Enter age of c 22\n",
      "Enter age of d 19\n"
     ]
    },
    {
     "name": "stdout",
     "output_type": "stream",
     "text": [
      "d is the youngest one\n"
     ]
    }
   ],
   "source": [
    "a=int(input('Enter age of a'))\n",
    "b=int(input('Enter age of b'))\n",
    "c=int(input('Enter age of c'))\n",
    "d=int(input('Enter age of d'))\n",
    "if a<b and a<c and a<d:\n",
    "    print('a is the youngest one')\n",
    "elif b<c and b<d and b<a:\n",
    "    print('b is the youngest one')\n",
    "elif c<d and c<a and c<b:\n",
    "    print('c is the youngest one')\n",
    "elif d<a and d<b and d<c:\n",
    "    print('d is the youngest one')\n",
    "else:\n",
    "    print('Bye')"
   ]
  },
  {
   "cell_type": "markdown",
   "id": "c0fb7023-5cad-4570-b83b-83ee0dbd79f1",
   "metadata": {},
   "source": [
    "##### Accept the age of four people and display the oldest one"
   ]
  },
  {
   "cell_type": "code",
   "execution_count": 7,
   "id": "d7937feb-8e1b-424c-940a-733be7cfc534",
   "metadata": {},
   "outputs": [
    {
     "name": "stdin",
     "output_type": "stream",
     "text": [
      "Enter age of a 54\n",
      "Enter age of b 49\n",
      "Enter age of c 22\n",
      "Enter age of d 19\n"
     ]
    },
    {
     "name": "stdout",
     "output_type": "stream",
     "text": [
      "a is the oldest one\n"
     ]
    }
   ],
   "source": [
    "a=int(input('Enter age of a'))\n",
    "b=int(input('Enter age of b'))\n",
    "c=int(input('Enter age of c'))\n",
    "d=int(input('Enter age of d'))\n",
    "if a>b and a>c and a>d:\n",
    "    print('a is the oldest one')\n",
    "elif b>c and b>d and b>a:\n",
    "    print('b is the oldest one')\n",
    "elif c>d and c>a and c>b:\n",
    "    print('c is the oldest one')\n",
    "elif d>a and d>b and d>c:\n",
    "    print('d is the oldest one')\n",
    "else:\n",
    "    print('Bye')"
   ]
  },
  {
   "cell_type": "code",
   "execution_count": null,
   "id": "ba57ca43-c05e-4471-a259-621e8ed2771d",
   "metadata": {},
   "outputs": [],
   "source": []
  }
 ],
 "metadata": {
  "kernelspec": {
   "display_name": "Python 3 (ipykernel)",
   "language": "python",
   "name": "python3"
  },
  "language_info": {
   "codemirror_mode": {
    "name": "ipython",
    "version": 3
   },
   "file_extension": ".py",
   "mimetype": "text/x-python",
   "name": "python",
   "nbconvert_exporter": "python",
   "pygments_lexer": "ipython3",
   "version": "3.12.4"
  }
 },
 "nbformat": 4,
 "nbformat_minor": 5
}
