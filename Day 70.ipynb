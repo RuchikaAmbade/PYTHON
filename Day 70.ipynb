{
 "cells": [
  {
   "cell_type": "markdown",
   "id": "14b9e0cd-f4e5-4f7d-bbf3-d32acd23757a",
   "metadata": {},
   "source": [
    "##### Pattern 1 Right pascal"
   ]
  },
  {
   "cell_type": "code",
   "execution_count": 2,
   "id": "201dec31-6dab-46a5-9fab-4dc5b066ec1c",
   "metadata": {},
   "outputs": [
    {
     "name": "stdout",
     "output_type": "stream",
     "text": [
      "          * \n",
      "        * * \n",
      "      * * * \n",
      "    * * * * \n",
      "  * * * * * \n",
      "    * * * * \n",
      "      * * * \n",
      "        * * \n",
      "          * \n"
     ]
    }
   ],
   "source": [
    "n=5\n",
    "for i in range(1,n+1):\n",
    "    for j in range(i,n+1):\n",
    "        print(\" \",end=\" \")\n",
    "    for j in range(1,i+1):\n",
    "        print(\"*\",end=\" \")\n",
    "    print()\n",
    "\n",
    "for i in range(2,n+1):\n",
    "    for j in range(1,i+1):\n",
    "        print(\" \",end=\" \")\n",
    "    for j in range(i,n+1):\n",
    "        print(\"*\",end=\" \")\n",
    "    print()"
   ]
  },
  {
   "cell_type": "markdown",
   "id": "ca1a41a2-431d-4294-883a-a9b282bdacf5",
   "metadata": {},
   "source": [
    "##### Pattern 2    Sandglass"
   ]
  },
  {
   "cell_type": "code",
   "execution_count": 10,
   "id": "067efe93-98a8-41f0-99bf-efbd03b318da",
   "metadata": {},
   "outputs": [
    {
     "name": "stdout",
     "output_type": "stream",
     "text": [
      " * * * * * \n",
      "  * * * * \n",
      "   * * * \n",
      "    * * \n",
      "     * \n",
      "    * * \n",
      "   * * * \n",
      "  * * * * \n",
      " * * * * * \n"
     ]
    }
   ],
   "source": [
    "n=5\n",
    "for i in range(1,n+1):\n",
    "    for j in range(1,i+1):\n",
    "        print(\" \",end=\"\")\n",
    "    for j in range(i,n+1):\n",
    "        print(\"*\",end=\" \")\n",
    "    print()\n",
    "for i in range(2,n+1):\n",
    "    for j in range(i,n+1):\n",
    "        print(\" \",end=\"\")\n",
    "    for j in range(1,i+1):\n",
    "        print(\"*\",end=\" \")\n",
    "    print()"
   ]
  },
  {
   "cell_type": "markdown",
   "id": "92019829-ebc1-4e1e-9043-f4185f855e7a",
   "metadata": {},
   "source": [
    "##### Pattern 3 Hollow square"
   ]
  },
  {
   "cell_type": "code",
   "execution_count": 15,
   "id": "dc5486bf-575b-4540-95c6-99c4962f4a11",
   "metadata": {},
   "outputs": [
    {
     "name": "stdout",
     "output_type": "stream",
     "text": [
      "* * * * * \n",
      "*       * \n",
      "*       * \n",
      "*       * \n",
      "* * * * * \n"
     ]
    }
   ],
   "source": [
    "n=5\n",
    "for row in range(n):\n",
    "    for col in range(n):\n",
    "        if row==0 or row==4 or col==0 or col==4:\n",
    "            print(\"*\",end=\" \")\n",
    "        else:\n",
    "            print(\" \",end=\" \")\n",
    "    print()\n",
    "    "
   ]
  },
  {
   "cell_type": "markdown",
   "id": "5008c02d-0f83-4978-b3ad-8579713c9862",
   "metadata": {},
   "source": [
    "#### 4 WAP to print first 10 natural numbers."
   ]
  },
  {
   "cell_type": "code",
   "execution_count": 20,
   "id": "cb3d0445-2b1c-413f-848a-18054d427fa3",
   "metadata": {},
   "outputs": [
    {
     "name": "stdout",
     "output_type": "stream",
     "text": [
      "0\n",
      "1\n",
      "2\n",
      "3\n",
      "4\n",
      "5\n",
      "6\n",
      "7\n",
      "8\n",
      "9\n",
      "10\n"
     ]
    }
   ],
   "source": [
    "for i in range(0,11):\n",
    "    print(i)"
   ]
  },
  {
   "cell_type": "markdown",
   "id": "63b4a606-43a7-4378-9972-5701618a07a7",
   "metadata": {},
   "source": [
    "##### 5 WAP to print all the even numbers within the given range"
   ]
  },
  {
   "cell_type": "code",
   "execution_count": 24,
   "id": "08aec39f-509e-4d73-9e25-d225cd8664e2",
   "metadata": {},
   "outputs": [
    {
     "name": "stdout",
     "output_type": "stream",
     "text": [
      "2\n",
      "4\n",
      "6\n",
      "8\n",
      "10\n",
      "12\n",
      "14\n",
      "16\n",
      "18\n",
      "20\n",
      "22\n",
      "24\n"
     ]
    }
   ],
   "source": [
    "for i in range(1,25):\n",
    "    if i%2==0:\n",
    "        print(i)"
   ]
  },
  {
   "cell_type": "code",
   "execution_count": null,
   "id": "03e978c2-a60d-4aa3-9f67-dd3f1673b606",
   "metadata": {},
   "outputs": [],
   "source": []
  }
 ],
 "metadata": {
  "kernelspec": {
   "display_name": "Python 3 (ipykernel)",
   "language": "python",
   "name": "python3"
  },
  "language_info": {
   "codemirror_mode": {
    "name": "ipython",
    "version": 3
   },
   "file_extension": ".py",
   "mimetype": "text/x-python",
   "name": "python",
   "nbconvert_exporter": "python",
   "pygments_lexer": "ipython3",
   "version": "3.12.4"
  }
 },
 "nbformat": 4,
 "nbformat_minor": 5
}
