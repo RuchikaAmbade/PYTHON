{
 "cells": [
  {
   "cell_type": "markdown",
   "id": "1d4a8355-96a6-40b3-9ee2-e877ecd9408a",
   "metadata": {},
   "source": [
    "##### WAP to print alphabet 'N' using '*'"
   ]
  },
  {
   "cell_type": "code",
   "execution_count": 4,
   "id": "009373e2-a2ca-480f-a548-aecc7f01b3bd",
   "metadata": {},
   "outputs": [
    {
     "name": "stdout",
     "output_type": "stream",
     "text": [
      "*         * \n",
      "* *       * \n",
      "*   *     * \n",
      "*     *   * \n",
      "*       * * \n",
      "*         * \n"
     ]
    }
   ],
   "source": [
    "for row in range(6):\n",
    "    for col in range(6):\n",
    "        if (col==0 or col==5) or row==col:\n",
    "            print('*',end=' ')\n",
    "        else:\n",
    "            print(' ',end=' ')\n",
    "    print()"
   ]
  },
  {
   "cell_type": "markdown",
   "id": "88ce76ac-38f1-43af-9371-58b079407271",
   "metadata": {},
   "source": [
    "##### WAP to print alphabet 'O' using '*'"
   ]
  },
  {
   "cell_type": "code",
   "execution_count": 9,
   "id": "b57d1940-e884-48f4-9743-573c8ed141a5",
   "metadata": {},
   "outputs": [
    {
     "name": "stdout",
     "output_type": "stream",
     "text": [
      "  * * *   \n",
      "*       * \n",
      "*       * \n",
      "*       * \n",
      "*       * \n",
      "*       * \n",
      "  * * *   \n"
     ]
    }
   ],
   "source": [
    "for row in range(7):\n",
    "    for col in range(5):\n",
    "        if ((col==0 or col==4) and (row!=0 and row!=6)) or ((row==0 or row==6) and (col!=0 and col!=4)):\n",
    "            print('*',end=' ')\n",
    "        else:\n",
    "            print(' ',end=' ')\n",
    "    print()"
   ]
  },
  {
   "cell_type": "code",
   "execution_count": null,
   "id": "6f7517fb-2c16-4ef7-921f-6dce32dce91e",
   "metadata": {},
   "outputs": [],
   "source": []
  }
 ],
 "metadata": {
  "kernelspec": {
   "display_name": "Python 3 (ipykernel)",
   "language": "python",
   "name": "python3"
  },
  "language_info": {
   "codemirror_mode": {
    "name": "ipython",
    "version": 3
   },
   "file_extension": ".py",
   "mimetype": "text/x-python",
   "name": "python",
   "nbconvert_exporter": "python",
   "pygments_lexer": "ipython3",
   "version": "3.12.4"
  }
 },
 "nbformat": 4,
 "nbformat_minor": 5
}
