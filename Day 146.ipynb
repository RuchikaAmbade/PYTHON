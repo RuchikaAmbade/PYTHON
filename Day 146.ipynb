{
 "cells": [
  {
   "cell_type": "markdown",
   "id": "f153534f-fce6-4886-a96b-e439ca78c783",
   "metadata": {},
   "source": [
    "##### WAP to find the largest number out of two numbers"
   ]
  },
  {
   "cell_type": "code",
   "execution_count": 2,
   "id": "e31c4fe6-42bf-4992-9bdf-ad5cbb1b0848",
   "metadata": {},
   "outputs": [
    {
     "name": "stdin",
     "output_type": "stream",
     "text": [
      "Enter number a : 24\n",
      "Enter number b : 26\n"
     ]
    },
    {
     "name": "stdout",
     "output_type": "stream",
     "text": [
      "b is greater number\n"
     ]
    }
   ],
   "source": [
    "a = int(input('Enter number a :'))\n",
    "b = int(input('Enter number b :'))\n",
    "if a > b:\n",
    "    print('a is greater number')\n",
    "elif b>a:\n",
    "    print('b is greater number')\n",
    "else:\n",
    "    print('a and b are same')"
   ]
  },
  {
   "cell_type": "markdown",
   "id": "3407e5e4-babe-404d-b1ed-cb417135daa6",
   "metadata": {},
   "source": [
    "##### WAP to find whether a number is divisible by 2 and 3 both"
   ]
  },
  {
   "cell_type": "code",
   "execution_count": 4,
   "id": "473a21fc-f8f2-47fb-8c62-faf33ee7b20c",
   "metadata": {},
   "outputs": [
    {
     "name": "stdin",
     "output_type": "stream",
     "text": [
      "Enter a number 6\n"
     ]
    },
    {
     "name": "stdout",
     "output_type": "stream",
     "text": [
      "Entered number is divisibel by both 2 and 3\n"
     ]
    }
   ],
   "source": [
    "n= int (input('Enter a number'))\n",
    "if n%2==0 and n%3==0:\n",
    "    print('Entered number is divisibel by both 2 and 3')\n",
    "else:\n",
    "    print('Entered number is not divisible by 2 and 3')"
   ]
  },
  {
   "cell_type": "code",
   "execution_count": null,
   "id": "25ad3895-942c-4060-8cb5-c385a5355886",
   "metadata": {},
   "outputs": [],
   "source": []
  }
 ],
 "metadata": {
  "kernelspec": {
   "display_name": "Python 3 (ipykernel)",
   "language": "python",
   "name": "python3"
  },
  "language_info": {
   "codemirror_mode": {
    "name": "ipython",
    "version": 3
   },
   "file_extension": ".py",
   "mimetype": "text/x-python",
   "name": "python",
   "nbconvert_exporter": "python",
   "pygments_lexer": "ipython3",
   "version": "3.12.4"
  }
 },
 "nbformat": 4,
 "nbformat_minor": 5
}
