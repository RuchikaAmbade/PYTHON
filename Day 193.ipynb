{
 "cells": [
  {
   "cell_type": "markdown",
   "id": "d3025811-4248-4562-be52-a326e2ed310a",
   "metadata": {},
   "source": [
    "Python program to split a given string on hyphens and display each substring"
   ]
  },
  {
   "cell_type": "code",
   "execution_count": 22,
   "id": "fa7c9d03-ae47-4bf5-b8ed-867ae78873ab",
   "metadata": {},
   "outputs": [
    {
     "name": "stdout",
     "output_type": "stream",
     "text": [
      "Original string is : Emma-is-a-data-scientist\n",
      "Displaying each substring :\n",
      "Emma\n",
      "is\n",
      "a\n",
      "data\n",
      "scientist\n"
     ]
    }
   ],
   "source": [
    "str1 = \"Emma-is-a-data-scientist\"\n",
    "print('Original string is :',str1)\n",
    "\n",
    "sub_strings = str1.split('-')\n",
    "print('Displaying each substring :')\n",
    "for sub in sub_strings:\n",
    "    print(sub)\n"
   ]
  },
  {
   "cell_type": "code",
   "execution_count": null,
   "id": "9ea14a60-8eb4-449e-8f52-b0459f894c7a",
   "metadata": {},
   "outputs": [],
   "source": []
  },
  {
   "cell_type": "markdown",
   "id": "5849152a-6d9f-4df3-8660-1db69127b7b1",
   "metadata": {},
   "source": [
    "Remove empty strings from a list of strings"
   ]
  },
  {
   "cell_type": "code",
   "execution_count": 28,
   "id": "20239d36-4677-4f4c-8d6f-ec46afde4a00",
   "metadata": {},
   "outputs": [
    {
     "name": "stdout",
     "output_type": "stream",
     "text": [
      "['Emma', 'Jon', 'Kelly', 'Eric']\n"
     ]
    }
   ],
   "source": [
    "str_list = [\"Emma\", \"Jon\", \"\", \"Kelly\", None, \"Eric\", \"\"]\n",
    "res_list=[]\n",
    "for s in str_list:\n",
    "    if s:\n",
    "        res_list.append(s)\n",
    "\n",
    "print(res_list)"
   ]
  },
  {
   "cell_type": "code",
   "execution_count": null,
   "id": "6a38089c-3b06-421f-9872-a7df5e174b6f",
   "metadata": {},
   "outputs": [],
   "source": []
  },
  {
   "cell_type": "markdown",
   "id": "d99064eb-ee7e-49d0-af4d-bcd043dd4704",
   "metadata": {},
   "source": [
    "Find words with both alphabets and numbers"
   ]
  },
  {
   "cell_type": "code",
   "execution_count": 38,
   "id": "68a5ed56-5d0c-44f5-bd74-614d640427b7",
   "metadata": {},
   "outputs": [
    {
     "name": "stdout",
     "output_type": "stream",
     "text": [
      "Emma25\n",
      "scientist50\n"
     ]
    }
   ],
   "source": [
    "str1 = \"Emma25 is Data scientist50 and AI Expert\"\n",
    "res = []\n",
    "temp = str1.split()\n",
    "for item in temp:\n",
    "    if any(char.isalpha() for char in item) and any(char.isdigit() for char in item):\n",
    "        res.append(item)\n",
    "\n",
    "for i in res:\n",
    "    print(i)"
   ]
  },
  {
   "cell_type": "code",
   "execution_count": null,
   "id": "94a1c6d8-8113-48e2-9720-fc3c22875458",
   "metadata": {},
   "outputs": [],
   "source": []
  },
  {
   "cell_type": "markdown",
   "id": "dc20a85a-3f06-4888-a167-f82468c9c866",
   "metadata": {},
   "source": [
    "Python program to print a calendar for a given month (Jan 2008)"
   ]
  },
  {
   "cell_type": "code",
   "execution_count": 42,
   "id": "f7b64dea-bca3-4a1c-839c-3b7178e72476",
   "metadata": {},
   "outputs": [
    {
     "name": "stdout",
     "output_type": "stream",
     "text": [
      "Here is the calendar :\n",
      "\n",
      "\n",
      "    January 2008\n",
      "Mo Tu We Th Fr Sa Su\n",
      "    1  2  3  4  5  6\n",
      " 7  8  9 10 11 12 13\n",
      "14 15 16 17 18 19 20\n",
      "21 22 23 24 25 26 27\n",
      "28 29 30 31\n",
      "\n"
     ]
    }
   ],
   "source": [
    "import calendar\n",
    "\n",
    "cal = calendar.month(2008,1)\n",
    "print('Here is the calendar :')\n",
    "print('\\n')\n",
    "print(cal)"
   ]
  },
  {
   "cell_type": "code",
   "execution_count": 44,
   "id": "eb90e46f-f760-42aa-a2f9-531239ebe0d7",
   "metadata": {},
   "outputs": [
    {
     "name": "stdout",
     "output_type": "stream",
     "text": [
      "                                  2025\n",
      "\n",
      "      January                   February                   March\n",
      "Mo Tu We Th Fr Sa Su      Mo Tu We Th Fr Sa Su      Mo Tu We Th Fr Sa Su\n",
      "       1  2  3  4  5                      1  2                      1  2\n",
      " 6  7  8  9 10 11 12       3  4  5  6  7  8  9       3  4  5  6  7  8  9\n",
      "13 14 15 16 17 18 19      10 11 12 13 14 15 16      10 11 12 13 14 15 16\n",
      "20 21 22 23 24 25 26      17 18 19 20 21 22 23      17 18 19 20 21 22 23\n",
      "27 28 29 30 31            24 25 26 27 28            24 25 26 27 28 29 30\n",
      "                                                    31\n",
      "\n",
      "       April                      May                       June\n",
      "Mo Tu We Th Fr Sa Su      Mo Tu We Th Fr Sa Su      Mo Tu We Th Fr Sa Su\n",
      "    1  2  3  4  5  6                1  2  3  4                         1\n",
      " 7  8  9 10 11 12 13       5  6  7  8  9 10 11       2  3  4  5  6  7  8\n",
      "14 15 16 17 18 19 20      12 13 14 15 16 17 18       9 10 11 12 13 14 15\n",
      "21 22 23 24 25 26 27      19 20 21 22 23 24 25      16 17 18 19 20 21 22\n",
      "28 29 30                  26 27 28 29 30 31         23 24 25 26 27 28 29\n",
      "                                                    30\n",
      "\n",
      "        July                     August                  September\n",
      "Mo Tu We Th Fr Sa Su      Mo Tu We Th Fr Sa Su      Mo Tu We Th Fr Sa Su\n",
      "    1  2  3  4  5  6                   1  2  3       1  2  3  4  5  6  7\n",
      " 7  8  9 10 11 12 13       4  5  6  7  8  9 10       8  9 10 11 12 13 14\n",
      "14 15 16 17 18 19 20      11 12 13 14 15 16 17      15 16 17 18 19 20 21\n",
      "21 22 23 24 25 26 27      18 19 20 21 22 23 24      22 23 24 25 26 27 28\n",
      "28 29 30 31               25 26 27 28 29 30 31      29 30\n",
      "\n",
      "      October                   November                  December\n",
      "Mo Tu We Th Fr Sa Su      Mo Tu We Th Fr Sa Su      Mo Tu We Th Fr Sa Su\n",
      "       1  2  3  4  5                      1  2       1  2  3  4  5  6  7\n",
      " 6  7  8  9 10 11 12       3  4  5  6  7  8  9       8  9 10 11 12 13 14\n",
      "13 14 15 16 17 18 19      10 11 12 13 14 15 16      15 16 17 18 19 20 21\n",
      "20 21 22 23 24 25 26      17 18 19 20 21 22 23      22 23 24 25 26 27 28\n",
      "27 28 29 30 31            24 25 26 27 28 29 30      29 30 31\n",
      "\n"
     ]
    }
   ],
   "source": [
    "year = 2025\n",
    "cal1 = calendar.TextCalendar().formatyear(year)\n",
    "print(cal1)"
   ]
  },
  {
   "cell_type": "code",
   "execution_count": null,
   "id": "dd521329-5be4-49ac-9cde-8415a306c035",
   "metadata": {},
   "outputs": [],
   "source": []
  }
 ],
 "metadata": {
  "kernelspec": {
   "display_name": "Python 3 (ipykernel)",
   "language": "python",
   "name": "python3"
  },
  "language_info": {
   "codemirror_mode": {
    "name": "ipython",
    "version": 3
   },
   "file_extension": ".py",
   "mimetype": "text/x-python",
   "name": "python",
   "nbconvert_exporter": "python",
   "pygments_lexer": "ipython3",
   "version": "3.12.4"
  }
 },
 "nbformat": 4,
 "nbformat_minor": 5
}
