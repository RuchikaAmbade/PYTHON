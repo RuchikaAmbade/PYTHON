{
 "cells": [
  {
   "cell_type": "markdown",
   "id": "ae82ba38-8235-4136-8dc3-3a4e73ca797e",
   "metadata": {},
   "source": [
    "##### 1 WAP to calculate the time runs(difference between start and and current time of a program."
   ]
  },
  {
   "cell_type": "code",
   "execution_count": 7,
   "id": "a291f631-18ce-4bea-87f2-b0961fa34696",
   "metadata": {},
   "outputs": [
    {
     "name": "stdout",
     "output_type": "stream",
     "text": [
      "0\n",
      "1\n",
      "2\n",
      "3\n",
      "4\n",
      "0.0003893999382853508\n",
      "0\n",
      "1\n",
      "2\n",
      "3\n",
      "4\n",
      "5\n",
      "6\n",
      "7\n",
      "8\n",
      "9\n",
      "10\n",
      "11\n",
      "12\n",
      "13\n",
      "14\n",
      "0.0002071999479085207\n"
     ]
    }
   ],
   "source": [
    "from timeit import default_timer\n",
    "def timer(n):\n",
    "    start=default_timer()\n",
    "    for row in range(0,n):\n",
    "        print(row)\n",
    "    print(default_timer()-start)\n",
    "timer(5)\n",
    "timer(15)"
   ]
  },
  {
   "cell_type": "markdown",
   "id": "d007f8b2-78d8-4ef7-97a1-b9e94e2b491c",
   "metadata": {},
   "source": [
    "##### 2 WAP to input into two integers on a single line"
   ]
  },
  {
   "cell_type": "code",
   "execution_count": 8,
   "id": "8737abe9-6185-4b15-9eb1-cc9727647b2e",
   "metadata": {},
   "outputs": [
    {
     "name": "stdout",
     "output_type": "stream",
     "text": [
      "Input the values of x and y\n"
     ]
    },
    {
     "name": "stdin",
     "output_type": "stream",
     "text": [
      " 2 4\n"
     ]
    },
    {
     "name": "stdout",
     "output_type": "stream",
     "text": [
      "The values of x and y are: 2 4\n"
     ]
    }
   ],
   "source": [
    "print('Input the values of x and y')\n",
    "x,y = map(int,input().split())\n",
    "print('The values of x and y are:',x,y)"
   ]
  },
  {
   "cell_type": "markdown",
   "id": "49bfe5f1-aed3-4100-8527-9274ac2bd907",
   "metadata": {},
   "source": [
    "##### 3 WAP to print a variable without spaces between values"
   ]
  },
  {
   "cell_type": "code",
   "execution_count": 15,
   "id": "f6112c00-d0b6-4e50-ad6a-602be45dd778",
   "metadata": {},
   "outputs": [
    {
     "name": "stdout",
     "output_type": "stream",
     "text": [
      "Value of x is 30\n"
     ]
    }
   ],
   "source": [
    "x=30\n",
    "formatted_string = 'Value of x is {}'.format(x)\n",
    "print(formatted_string)"
   ]
  },
  {
   "cell_type": "markdown",
   "id": "0733cb9b-a2be-498e-8e5e-ce58c1731453",
   "metadata": {},
   "source": [
    "##### 4 WAP to extract a single key-value pair from a dictionary into variables"
   ]
  },
  {
   "cell_type": "code",
   "execution_count": 26,
   "id": "cf3a150c-0d94-4a4b-8985-44bf9fac6a15",
   "metadata": {},
   "outputs": [
    {
     "name": "stdout",
     "output_type": "stream",
     "text": [
      "Red\n",
      "Green\n"
     ]
    }
   ],
   "source": [
    "d={'Red':'Green'}\n",
    "(c1,c2), = d.items()\n",
    "print(c1)\n",
    "print(c2)"
   ]
  },
  {
   "cell_type": "markdown",
   "id": "a21886f4-79b0-404b-b411-4c6dc4aebfd9",
   "metadata": {},
   "source": [
    "##### 5 WAP to convert true to 1 and false to 0."
   ]
  },
  {
   "cell_type": "code",
   "execution_count": 35,
   "id": "bebb1751-7c77-426c-a518-7697dbb67801",
   "metadata": {},
   "outputs": [
    {
     "name": "stdout",
     "output_type": "stream",
     "text": [
      "1\n",
      "0\n"
     ]
    }
   ],
   "source": [
    "x='true'\n",
    "x=int(x=='true')\n",
    "print(x)\n",
    "\n",
    "x='abcd'\n",
    "x=int(x=='true')\n",
    "print(x)"
   ]
  },
  {
   "cell_type": "code",
   "execution_count": null,
   "id": "a28543ae-635b-4491-b29e-39720f5179d1",
   "metadata": {},
   "outputs": [],
   "source": []
  }
 ],
 "metadata": {
  "kernelspec": {
   "display_name": "Python 3 (ipykernel)",
   "language": "python",
   "name": "python3"
  },
  "language_info": {
   "codemirror_mode": {
    "name": "ipython",
    "version": 3
   },
   "file_extension": ".py",
   "mimetype": "text/x-python",
   "name": "python",
   "nbconvert_exporter": "python",
   "pygments_lexer": "ipython3",
   "version": "3.12.4"
  }
 },
 "nbformat": 4,
 "nbformat_minor": 5
}
