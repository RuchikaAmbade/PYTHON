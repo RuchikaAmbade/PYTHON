{
 "cells": [
  {
   "cell_type": "markdown",
   "id": "c5d21e2d-57f9-4248-bc99-86de3583f137",
   "metadata": {},
   "source": [
    "##### 1 WAP to compute and print the sum of two given integers (greater or equal to zero). In the event that given integers or the sum exceed 80 digits,print 'overflow'."
   ]
  },
  {
   "cell_type": "code",
   "execution_count": 1,
   "id": "d3e909a1-0822-4326-96a8-c7d6fd3a436b",
   "metadata": {},
   "outputs": [
    {
     "name": "stdout",
     "output_type": "stream",
     "text": [
      "Input first integer:\n"
     ]
    },
    {
     "name": "stdin",
     "output_type": "stream",
     "text": [
      " 25\n"
     ]
    },
    {
     "name": "stdout",
     "output_type": "stream",
     "text": [
      "Input second integer:\n"
     ]
    },
    {
     "name": "stdin",
     "output_type": "stream",
     "text": [
      " 22\n"
     ]
    },
    {
     "name": "stdout",
     "output_type": "stream",
     "text": [
      "Sum of the two integers: 47\n"
     ]
    }
   ],
   "source": [
    "print('Input first integer:')\n",
    "x = int(input())\n",
    "print(\"Input second integer:\")\n",
    "y=int(input())\n",
    "\n",
    "if x >= 10 ** 80 or y >= 10 ** 80 or x+y >= 10 ** 80:\n",
    "    print('Overflow')\n",
    "else:\n",
    "    print('Sum of the two integers:', x+y)"
   ]
  },
  {
   "cell_type": "markdown",
   "id": "6e6dce7c-1525-45d0-9249-1331a8a9d305",
   "metadata": {},
   "source": [
    "##### 2 WAP that accepts six numbers as input and sorts them in descending order."
   ]
  },
  {
   "cell_type": "code",
   "execution_count": 6,
   "id": "45297a69-5a8c-44b0-833c-e6346704bce8",
   "metadata": {},
   "outputs": [
    {
     "name": "stdout",
     "output_type": "stream",
     "text": [
      "Input six integers:\n"
     ]
    },
    {
     "name": "stdin",
     "output_type": "stream",
     "text": [
      " 15 30 25 14 35 40\n"
     ]
    },
    {
     "name": "stdout",
     "output_type": "stream",
     "text": [
      "After sorting the said integers:\n",
      "40 35 30 25 15 14\n"
     ]
    }
   ],
   "source": [
    "print('Input six integers:')\n",
    "nums = list(map(int,input().split()))\n",
    "nums.sort()\n",
    "nums.reverse()\n",
    "print('After sorting the said integers:')\n",
    "print(*nums)"
   ]
  },
  {
   "cell_type": "markdown",
   "id": "1bf94c17-a5f3-4aad-ac6f-865a35c86ef8",
   "metadata": {},
   "source": [
    "##### 3 WAP to test whether two lines PQ and RS are parallel.The four points are P(x1,y1),Q(x2,y2),R(x3,y3),S(x4,y4)."
   ]
  },
  {
   "cell_type": "code",
   "execution_count": 9,
   "id": "990c0485-a8eb-4310-9916-ce334f9c62f0",
   "metadata": {},
   "outputs": [
    {
     "name": "stdout",
     "output_type": "stream",
     "text": [
      "Input x1,y1,x2,y2,x3,y3,x4,y4:\n"
     ]
    },
    {
     "name": "stdin",
     "output_type": "stream",
     "text": [
      " 2 5 6 4 8 3 9 7\n"
     ]
    },
    {
     "name": "stdout",
     "output_type": "stream",
     "text": [
      "PQ and RS are not parallel\n"
     ]
    }
   ],
   "source": [
    "print('Input x1,y1,x2,y2,x3,y3,x4,y4:')\n",
    "x1,y1,x2,y2,x3,y3,x4,y4 = map(float, input().split())\n",
    "print('PQ and RS  are parallel.' if abs((x2-x1)*(y4-y3)-(x4-x3)*(y2-y1)) < 1e-10 else 'PQ and RS are not parallel')"
   ]
  },
  {
   "cell_type": "markdown",
   "id": "6125798b-d125-417a-b431-b5495b774f28",
   "metadata": {},
   "source": [
    "##### 4 WAP to find the maximum sum of a contiguous subsequence from a given sequence of numbers a1,a2,a3,....,an. A subsequence of one element is also a continuous subsequence."
   ]
  },
  {
   "cell_type": "code",
   "execution_count": 20,
   "id": "7983c2ed-cb57-4738-b340-c2a57016388a",
   "metadata": {},
   "outputs": [
    {
     "name": "stdout",
     "output_type": "stream",
     "text": [
      "Input number of sequence of numbers you wanr to input (0 to exit):\n"
     ]
    },
    {
     "name": "stdin",
     "output_type": "stream",
     "text": [
      " 3\n"
     ]
    },
    {
     "name": "stdout",
     "output_type": "stream",
     "text": [
      "Input numbers:\n"
     ]
    },
    {
     "name": "stdin",
     "output_type": "stream",
     "text": [
      " 2\n",
      " 4\n",
      " 6\n"
     ]
    },
    {
     "name": "stdout",
     "output_type": "stream",
     "text": [
      "Maximum sum of the said contiguous subsequence:\n",
      "12\n",
      "Input number of sequence of numbers you wanr to input (0 to exit):\n"
     ]
    },
    {
     "name": "stdin",
     "output_type": "stream",
     "text": [
      " 0\n"
     ]
    }
   ],
   "source": [
    "while True:\n",
    "    print('Input number of sequence of numbers you wanr to input (0 to exit):')\n",
    "    n=int(input())\n",
    "    if n==0:\n",
    "        break\n",
    "    else:\n",
    "        A=[]\n",
    "        Sum=[]\n",
    "\n",
    "        print('Input numbers:')\n",
    "        for i in range(n):\n",
    "            A.append(int(input()))\n",
    "\n",
    "        Wa=0\n",
    "        for i in range(0,n):\n",
    "            Wa += A[i]\n",
    "            Sum.append(Wa)\n",
    "            \n",
    "        for i in range(0,n):\n",
    "            for j in range(0,i):\n",
    "                Num = Sum[i]-Sum[j]\n",
    "                Sum.append(Num)\n",
    "\n",
    "        print('Maximum sum of the said contiguous subsequence:')\n",
    "        print(max(Sum))"
   ]
  },
  {
   "cell_type": "markdown",
   "id": "95b2ba2f-8279-4465-9032-a27739e3b93e",
   "metadata": {},
   "source": [
    "##### 5 "
   ]
  },
  {
   "cell_type": "markdown",
   "id": "fcdd92fa-df38-4fc6-aae0-43f396bbad06",
   "metadata": {},
   "source": [
    "There are two circles C1 with radius r1, central coordinate (x1, y1) and C2 with radius r2 and central coordinate (x2, y2)\n",
    "\n",
    "Write a  Python program to test the followings -\n",
    "\"C2 is in C1\" if C2 is in C1\n",
    "\"C1 is in C2\" if C1 is in C2\n",
    "\"Circumference of C1 and C2 intersect\" if circumference of C1 and C2 intersect\n",
    "\"C1 and C2 do not overlap\" if C1 and C2 do not overlap and\n",
    "\"Circumference of C1 and C2 will touch\" if C1 and C2 touch"
   ]
  },
  {
   "cell_type": "code",
   "execution_count": 31,
   "id": "89101f07-5c35-4e87-8d43-bbd72103a162",
   "metadata": {},
   "outputs": [
    {
     "name": "stdout",
     "output_type": "stream",
     "text": [
      "Input x1,y1,r1,x2,y2,r2 :\n"
     ]
    },
    {
     "name": "stdin",
     "output_type": "stream",
     "text": [
      " 5 4 2 3 9 2\n"
     ]
    },
    {
     "name": "stdout",
     "output_type": "stream",
     "text": [
      "C1 and C2 do not overlap\n"
     ]
    }
   ],
   "source": [
    "import math\n",
    "print('Input x1,y1,r1,x2,y2,r2 :')\n",
    "x1,y1,r1,x2,y2,r2 = [float(i) for i in input().split()]\n",
    "d = math.sqrt((x1-x2)**2 + (y1-y2)**2)\n",
    "\n",
    "if d <= r1 - r2:\n",
    "    print('C2 is in C1')\n",
    "elif d <= r2 - r1:\n",
    "    print('C1 is in C2')\n",
    "elif d < r1 + r2:\n",
    "    print('Circumference of C1 and C2 intersect')\n",
    "elif d == r1 + r2:\n",
    "    print('Circumference of C1 and C2 will touch')\n",
    "else:\n",
    "    print('C1 and C2 do not overlap')"
   ]
  },
  {
   "cell_type": "code",
   "execution_count": null,
   "id": "978836d5-3f93-4ddb-9e42-cae2ad29a87b",
   "metadata": {},
   "outputs": [],
   "source": []
  }
 ],
 "metadata": {
  "kernelspec": {
   "display_name": "Python 3 (ipykernel)",
   "language": "python",
   "name": "python3"
  },
  "language_info": {
   "codemirror_mode": {
    "name": "ipython",
    "version": 3
   },
   "file_extension": ".py",
   "mimetype": "text/x-python",
   "name": "python",
   "nbconvert_exporter": "python",
   "pygments_lexer": "ipython3",
   "version": "3.12.4"
  }
 },
 "nbformat": 4,
 "nbformat_minor": 5
}
