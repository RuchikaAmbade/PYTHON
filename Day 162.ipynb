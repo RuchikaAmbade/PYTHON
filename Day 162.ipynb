{
 "cells": [
  {
   "cell_type": "markdown",
   "id": "0122720f-3afc-4b6c-a31c-ce9730110a02",
   "metadata": {},
   "source": [
    "1 Write a python code to take in an integer input and store it in a variable a."
   ]
  },
  {
   "cell_type": "code",
   "execution_count": 3,
   "id": "1c3211b8-4f21-436c-8a9a-861589fd6cfc",
   "metadata": {},
   "outputs": [
    {
     "name": "stdin",
     "output_type": "stream",
     "text": [
      " 7\n"
     ]
    }
   ],
   "source": [
    "a = int(input())"
   ]
  },
  {
   "cell_type": "markdown",
   "id": "57fdcfb7-7a58-4963-9467-49aa63f3fae2",
   "metadata": {},
   "source": [
    "2 Display a's typecast"
   ]
  },
  {
   "cell_type": "code",
   "execution_count": 9,
   "id": "d73a34a4-0326-412c-a9e2-177feb8ac650",
   "metadata": {},
   "outputs": [
    {
     "name": "stdout",
     "output_type": "stream",
     "text": [
      "<class 'int'>\n"
     ]
    }
   ],
   "source": [
    "print(type(a))"
   ]
  },
  {
   "cell_type": "markdown",
   "id": "80a42314-8fa8-4f2c-8728-2ce19153f593",
   "metadata": {},
   "source": [
    "3 Print 'True' if a is greater than or equal to 5, 'False' otherwise."
   ]
  },
  {
   "cell_type": "code",
   "execution_count": 15,
   "id": "8c842725-9884-4b3d-958a-f0fe4308d949",
   "metadata": {},
   "outputs": [
    {
     "name": "stdout",
     "output_type": "stream",
     "text": [
      "True\n"
     ]
    }
   ],
   "source": [
    "if a>=5:\n",
    "    print('True')\n",
    "else:\n",
    "    print('False')"
   ]
  },
  {
   "cell_type": "markdown",
   "id": "326afd4b-fd6d-4cb3-a02a-42f5c0b5b3ac",
   "metadata": {},
   "source": [
    "4 Take a string input of your name and store it as a list of separate letters. e.g. if your name is Rahul, take input of your name and store it in a list containing ['R','a','h','u','l']. Name the list as 'l'. Print 'l'."
   ]
  },
  {
   "cell_type": "code",
   "execution_count": 30,
   "id": "b3901ee4-3fe1-493f-bf55-917c92a9eee1",
   "metadata": {},
   "outputs": [
    {
     "name": "stdout",
     "output_type": "stream",
     "text": [
      "['S', 'e', 'e', 'm', 'a']\n"
     ]
    }
   ],
   "source": [
    "name = 'Seema'\n",
    "na = list(name)\n",
    "print(na)"
   ]
  },
  {
   "cell_type": "markdown",
   "id": "9bcfa5a8-3178-4a8d-a99a-3031e199384e",
   "metadata": {},
   "source": [
    "5 Take a string input and print all the unique letters of the string.(pass in your string as all lowercase) e.g: string: 'india', output: {'i','n','d','a'}"
   ]
  },
  {
   "cell_type": "code",
   "execution_count": 34,
   "id": "375b5109-3bd0-4446-af68-dd8419e32b99",
   "metadata": {},
   "outputs": [
    {
     "name": "stdout",
     "output_type": "stream",
     "text": [
      "{'n', 'i', 'a', 'd'}\n"
     ]
    }
   ],
   "source": [
    "name = 'india'\n",
    "na= set(name)\n",
    "print(na)"
   ]
  },
  {
   "cell_type": "markdown",
   "id": "8fafe826-6d57-4c50-8cc1-609b6fd66df4",
   "metadata": {},
   "source": [
    "6 Print the sum of numbers from 1 to n where n is the input by the user."
   ]
  },
  {
   "cell_type": "code",
   "execution_count": 43,
   "id": "71995aed-2e8a-4e8f-aee9-2a7c9d275180",
   "metadata": {},
   "outputs": [
    {
     "name": "stdin",
     "output_type": "stream",
     "text": [
      " 10\n"
     ]
    },
    {
     "name": "stdout",
     "output_type": "stream",
     "text": [
      "55\n"
     ]
    }
   ],
   "source": [
    "n = int(input())\n",
    "for i in range(1,n):\n",
    "    n=n+i\n",
    "print(n)"
   ]
  },
  {
   "cell_type": "code",
   "execution_count": 45,
   "id": "35e40439-97e2-4392-9f49-4bd50addc2e2",
   "metadata": {},
   "outputs": [
    {
     "name": "stdin",
     "output_type": "stream",
     "text": [
      " 10\n"
     ]
    },
    {
     "name": "stdout",
     "output_type": "stream",
     "text": [
      "55\n"
     ]
    }
   ],
   "source": [
    "# OR\n",
    "n = int(input())\n",
    "sum = 0\n",
    "for i in range(1,n+1):\n",
    "    sum = sum + i\n",
    "print(sum)"
   ]
  },
  {
   "cell_type": "markdown",
   "id": "dae740d2-632b-4a2e-8386-99487b0c72c4",
   "metadata": {},
   "source": [
    "7 Print all the even numbers between 1 to n where n is the input given by user."
   ]
  },
  {
   "cell_type": "code",
   "execution_count": 50,
   "id": "94a654b7-df03-4744-b743-c25065dd1577",
   "metadata": {},
   "outputs": [
    {
     "name": "stdin",
     "output_type": "stream",
     "text": [
      " 10\n"
     ]
    },
    {
     "name": "stdout",
     "output_type": "stream",
     "text": [
      "0\n",
      "2\n",
      "4\n",
      "6\n",
      "8\n",
      "10\n"
     ]
    }
   ],
   "source": [
    "n = int(input())\n",
    "for i in range(0,n+1,2):\n",
    "    print(i)"
   ]
  },
  {
   "cell_type": "code",
   "execution_count": 52,
   "id": "cf9828c8-5161-49c3-b600-300acfa837ea",
   "metadata": {},
   "outputs": [
    {
     "name": "stdin",
     "output_type": "stream",
     "text": [
      " 10\n"
     ]
    },
    {
     "name": "stdout",
     "output_type": "stream",
     "text": [
      "2\n",
      "4\n",
      "6\n",
      "8\n",
      "10\n"
     ]
    }
   ],
   "source": [
    "# OR\n",
    "n = int(input())\n",
    "for i in range(1,n+1):\n",
    "    if i%2 == 0:\n",
    "        print(i)"
   ]
  },
  {
   "cell_type": "markdown",
   "id": "9451022e-6804-4a47-8b6d-c84374ffde1b",
   "metadata": {},
   "source": [
    "8 \n",
    "Print all the numbers from n to 1 in reverse order. e.g.: let n = 10, output = 10 9 8 7      6 5 4 3 2 1"
   ]
  },
  {
   "cell_type": "code",
   "execution_count": 57,
   "id": "3725bb75-e4ad-4007-baf3-e7a668ac45e1",
   "metadata": {},
   "outputs": [
    {
     "name": "stdin",
     "output_type": "stream",
     "text": [
      " 10\n"
     ]
    },
    {
     "name": "stdout",
     "output_type": "stream",
     "text": [
      "10\n",
      "9\n",
      "8\n",
      "7\n",
      "6\n",
      "5\n",
      "4\n",
      "3\n",
      "2\n",
      "1\n"
     ]
    }
   ],
   "source": [
    "n = int(input())\n",
    "for i in range(n,0,-1):\n",
    "    print(i)"
   ]
  },
  {
   "cell_type": "markdown",
   "id": "6b591670-13d4-4a39-90fd-6cea98c9e660",
   "metadata": {},
   "source": [
    "9 A factorial of a number is defined as n! = n*(n-1)(n-2)(n-3)*....*1. Write a python code to display factorial of a number n."
   ]
  },
  {
   "cell_type": "code",
   "execution_count": 86,
   "id": "4c2de13f-cc22-4a35-acdb-5326ffc1299e",
   "metadata": {},
   "outputs": [
    {
     "name": "stdin",
     "output_type": "stream",
     "text": [
      " 5\n"
     ]
    },
    {
     "name": "stdout",
     "output_type": "stream",
     "text": [
      "120\n"
     ]
    }
   ],
   "source": [
    "n= int(input())\n",
    "sum = 1\n",
    "for i in range(n,0,-1):\n",
    "    sum = sum*i\n",
    "print(sum)"
   ]
  },
  {
   "cell_type": "markdown",
   "id": "0aaf910e-000d-420f-88d5-bf06c89a3263",
   "metadata": {},
   "source": [
    "10 Print multiplication table of an integer n.\n",
    "* n x 1 = n\n",
    "* n x 2 = 2n\n",
    "* so on... till 10.\n"
   ]
  },
  {
   "cell_type": "code",
   "execution_count": 99,
   "id": "b00f9b0d-791e-44d4-8b5d-0deb60d63f32",
   "metadata": {},
   "outputs": [
    {
     "name": "stdin",
     "output_type": "stream",
     "text": [
      " 2\n"
     ]
    },
    {
     "name": "stdout",
     "output_type": "stream",
     "text": [
      "2\n",
      "4\n",
      "6\n",
      "8\n",
      "10\n",
      "12\n",
      "14\n",
      "16\n",
      "18\n",
      "20\n"
     ]
    }
   ],
   "source": [
    "n=int(input())\n",
    "\n",
    "for i in range(1,11):\n",
    "    print(n*i)"
   ]
  },
  {
   "cell_type": "code",
   "execution_count": null,
   "id": "988b1b62-9c8e-4903-b7e7-19f0ac2d2352",
   "metadata": {},
   "outputs": [],
   "source": []
  }
 ],
 "metadata": {
  "kernelspec": {
   "display_name": "Python 3 (ipykernel)",
   "language": "python",
   "name": "python3"
  },
  "language_info": {
   "codemirror_mode": {
    "name": "ipython",
    "version": 3
   },
   "file_extension": ".py",
   "mimetype": "text/x-python",
   "name": "python",
   "nbconvert_exporter": "python",
   "pygments_lexer": "ipython3",
   "version": "3.12.4"
  }
 },
 "nbformat": 4,
 "nbformat_minor": 5
}
