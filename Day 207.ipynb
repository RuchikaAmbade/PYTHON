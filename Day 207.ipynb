{
 "cells": [
  {
   "cell_type": "markdown",
   "id": "fd1e35cd-e5ff-4b44-8b0e-b6e96b346463",
   "metadata": {},
   "source": [
    "1. Write a python code to take in an integer input and store it in a variable a."
   ]
  },
  {
   "cell_type": "code",
   "execution_count": 11,
   "id": "2836c8ee-32af-45f8-8c13-0ec8dfc07fd6",
   "metadata": {},
   "outputs": [
    {
     "name": "stdin",
     "output_type": "stream",
     "text": [
      "Enter a number : 24\n"
     ]
    }
   ],
   "source": [
    "a=int(input('Enter a number :'))"
   ]
  },
  {
   "cell_type": "markdown",
   "id": "9180d241-4455-4d74-b94d-3986f3efb71d",
   "metadata": {},
   "source": [
    "2. Display a's typecast."
   ]
  },
  {
   "cell_type": "code",
   "execution_count": 13,
   "id": "aadba505-fe8d-437c-a172-90fab58a1795",
   "metadata": {},
   "outputs": [
    {
     "name": "stdout",
     "output_type": "stream",
     "text": [
      "<class 'int'>\n"
     ]
    }
   ],
   "source": [
    "print(type(a))"
   ]
  },
  {
   "cell_type": "markdown",
   "id": "c4502347-1eec-4b72-b30c-ab0a2145e10f",
   "metadata": {},
   "source": [
    "3. Print 'True' if a is greater than or equal to 5, 'False' otherwise."
   ]
  },
  {
   "cell_type": "code",
   "execution_count": 15,
   "id": "678eaa68-32e3-4ef7-bd58-2552ebd70b8e",
   "metadata": {},
   "outputs": [
    {
     "name": "stdout",
     "output_type": "stream",
     "text": [
      "Ture\n"
     ]
    }
   ],
   "source": [
    "if a>=5:\n",
    "    print('Ture')\n",
    "else:\n",
    "    print('False')"
   ]
  },
  {
   "cell_type": "markdown",
   "id": "e620aeec-3d73-43b2-973a-bd7720230227",
   "metadata": {},
   "source": [
    "4. Take a string input of your name and store it as a list of separate letters.\n",
    " e.g. if your name is Rahul, take input of your name and store it in a list containing ['R','a','h','u','l']. Name the list as 'l'. Print 'l'."
   ]
  },
  {
   "cell_type": "code",
   "execution_count": 11,
   "id": "1867e412-1a47-4406-80c2-eafebf71ec9c",
   "metadata": {},
   "outputs": [
    {
     "name": "stdin",
     "output_type": "stream",
     "text": [
      "Enter your name : Ruchika\n"
     ]
    },
    {
     "name": "stdout",
     "output_type": "stream",
     "text": [
      "['R', 'u', 'c', 'h', 'i', 'k', 'a']\n"
     ]
    }
   ],
   "source": [
    "name = input('Enter your name :')\n",
    "list1=[]\n",
    "for i in name:\n",
    "    list1.append(i)\n",
    "\n",
    "print(list1)"
   ]
  },
  {
   "cell_type": "markdown",
   "id": "3c403f56-0dd9-4384-aef7-431cf819aa15",
   "metadata": {},
   "source": [
    "5. Take a string input and print all the unique letters of the string.(pass in your string as all lowercase) e.g: string: 'india', output: {'i','n','d','a'}"
   ]
  },
  {
   "cell_type": "code",
   "execution_count": 17,
   "id": "6d1a1c42-edf8-48ff-b368-b1db1ed350bb",
   "metadata": {},
   "outputs": [
    {
     "data": {
      "text/plain": [
       "{'I', 'a', 'd', 'i', 'n'}"
      ]
     },
     "execution_count": 17,
     "metadata": {},
     "output_type": "execute_result"
    }
   ],
   "source": [
    "str = 'India'\n",
    "uniq = set(str)\n",
    "uniq"
   ]
  },
  {
   "cell_type": "markdown",
   "id": "ef8b8850-1bfd-46b4-bad3-72d65bafbf9b",
   "metadata": {},
   "source": [
    "6. Print the sum of numbers from 1 to n where n is the input by the user."
   ]
  },
  {
   "cell_type": "code",
   "execution_count": 19,
   "id": "c1bdaef7-e28a-426f-b4e5-28cc8591c622",
   "metadata": {},
   "outputs": [
    {
     "name": "stdin",
     "output_type": "stream",
     "text": [
      " 11\n"
     ]
    },
    {
     "name": "stdout",
     "output_type": "stream",
     "text": [
      "55\n"
     ]
    }
   ],
   "source": [
    "n=int(input())\n",
    "sum=0\n",
    "for i in range(1,n):\n",
    "    sum=sum+i\n",
    "\n",
    "print(sum)"
   ]
  },
  {
   "cell_type": "markdown",
   "id": "7b7562eb-8751-48ba-8682-731b0f31c67f",
   "metadata": {},
   "source": [
    "7. Print all the even numbers between 1 to n where n is the input given by user."
   ]
  },
  {
   "cell_type": "code",
   "execution_count": 21,
   "id": "80c8ea9d-0050-43e4-8f97-28422d04361c",
   "metadata": {},
   "outputs": [
    {
     "name": "stdin",
     "output_type": "stream",
     "text": [
      " 10\n"
     ]
    },
    {
     "name": "stdout",
     "output_type": "stream",
     "text": [
      "2\n",
      "4\n",
      "6\n",
      "8\n"
     ]
    }
   ],
   "source": [
    "n=int(input())\n",
    "for i in range(1,n):\n",
    "    if i%2==0:\n",
    "        print(i)"
   ]
  },
  {
   "cell_type": "markdown",
   "id": "d9fd08b5-432a-4ca3-9a97-548041e9bb62",
   "metadata": {},
   "source": [
    "8. Print all the numbers from n to 1 in reverse order. e.g.: let n = 10, output = 10 9 8 7 6 5 4 3 2 1 "
   ]
  },
  {
   "cell_type": "code",
   "execution_count": 23,
   "id": "3f70456b-f608-477e-82c4-0f443072bbeb",
   "metadata": {},
   "outputs": [
    {
     "name": "stdout",
     "output_type": "stream",
     "text": [
      "10\n",
      "9\n",
      "8\n",
      "7\n",
      "6\n",
      "5\n",
      "4\n",
      "3\n",
      "2\n",
      "1\n"
     ]
    }
   ],
   "source": [
    "n=10\n",
    "for i in range(n,0,-1):\n",
    "    print(i)"
   ]
  },
  {
   "cell_type": "markdown",
   "id": "1dc3fc28-2eb5-4453-9ec9-9a875d921e1c",
   "metadata": {},
   "source": [
    "9. A factorial of a number is defined as n! = n*(n-1)*(n-2)*(n-3)*....*1. Write a python code to display factorial of a number n."
   ]
  },
  {
   "cell_type": "code",
   "execution_count": 25,
   "id": "c79dabe6-6e85-4b91-87fa-6ec73f15c741",
   "metadata": {},
   "outputs": [
    {
     "name": "stdin",
     "output_type": "stream",
     "text": [
      " 5\n"
     ]
    },
    {
     "name": "stdout",
     "output_type": "stream",
     "text": [
      "120\n"
     ]
    }
   ],
   "source": [
    "n=int(input())\n",
    "a=1\n",
    "for i in range(n,0,-1):\n",
    "    a=a*i\n",
    "\n",
    "print(a)"
   ]
  },
  {
   "cell_type": "markdown",
   "id": "6bf1db82-b4b9-4cf0-92d3-005cca819c63",
   "metadata": {},
   "source": [
    "10. Print multiplication table of an integer n. \n",
    "- n x 1 = n\n",
    "- n x 2 = 2n\n",
    "- \n",
    "- \n",
    "- so on... till 10."
   ]
  },
  {
   "cell_type": "code",
   "execution_count": 27,
   "id": "5b6f96ca-315e-408d-93c1-ef6f5f805502",
   "metadata": {},
   "outputs": [
    {
     "name": "stdin",
     "output_type": "stream",
     "text": [
      " 5\n"
     ]
    },
    {
     "name": "stdout",
     "output_type": "stream",
     "text": [
      "5\n",
      "10\n",
      "15\n",
      "20\n",
      "25\n",
      "30\n",
      "35\n",
      "40\n",
      "45\n",
      "50\n"
     ]
    }
   ],
   "source": [
    "n=int(input())\n",
    "for i in range(1,11):\n",
    "    print(n*i)"
   ]
  },
  {
   "cell_type": "code",
   "execution_count": null,
   "id": "8ef3eb26-7f6f-4bda-b0a2-3392784678f5",
   "metadata": {},
   "outputs": [],
   "source": []
  },
  {
   "cell_type": "code",
   "execution_count": null,
   "id": "ae9c480a-93ac-4e4b-9518-6b25449cbb93",
   "metadata": {},
   "outputs": [],
   "source": []
  }
 ],
 "metadata": {
  "kernelspec": {
   "display_name": "Python 3 (ipykernel)",
   "language": "python",
   "name": "python3"
  },
  "language_info": {
   "codemirror_mode": {
    "name": "ipython",
    "version": 3
   },
   "file_extension": ".py",
   "mimetype": "text/x-python",
   "name": "python",
   "nbconvert_exporter": "python",
   "pygments_lexer": "ipython3",
   "version": "3.12.4"
  }
 },
 "nbformat": 4,
 "nbformat_minor": 5
}
