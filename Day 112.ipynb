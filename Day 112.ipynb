{
 "cells": [
  {
   "cell_type": "markdown",
   "id": "1b8cddb6-0e86-4781-b4e2-e318f4875c10",
   "metadata": {},
   "source": [
    "##### WAP to print alphabet 'G' using '*'"
   ]
  },
  {
   "cell_type": "code",
   "execution_count": 11,
   "id": "d9f04b5c-9059-4c18-9d21-c06a4bd1e71b",
   "metadata": {},
   "outputs": [
    {
     "name": "stdout",
     "output_type": "stream",
     "text": [
      "* * * * *   \n",
      "*           \n",
      "*           \n",
      "*     * * * \n",
      "*       *   \n",
      "*       *   \n",
      "* * * * *   \n"
     ]
    }
   ],
   "source": [
    "for row in range(7):\n",
    "    for col in range(6):\n",
    "        if (col==0 or (col==4 and (row!=1 and row!=2))) or ((row==0 or row==6) and (col!=5)) or (row==3 and (col==3 or col==4 or col==5)):\n",
    "            print('*',end=' ')\n",
    "        else:\n",
    "            print(' ',end=' ')\n",
    "    print()"
   ]
  },
  {
   "cell_type": "markdown",
   "id": "e7ff8d87-2cfc-46ec-9ad7-43ed15098cec",
   "metadata": {},
   "source": [
    "##### WAP to print alphabet 'H' using '*'"
   ]
  },
  {
   "cell_type": "code",
   "execution_count": 14,
   "id": "34f96aa7-f91e-4879-80f2-ca66f2cec64a",
   "metadata": {},
   "outputs": [
    {
     "name": "stdout",
     "output_type": "stream",
     "text": [
      "*       * \n",
      "*       * \n",
      "*       * \n",
      "* * * * * \n",
      "*       * \n",
      "*       * \n",
      "*       * \n"
     ]
    }
   ],
   "source": [
    "for row in range(7):\n",
    "    for col in range(5):\n",
    "        if (col==0 or col==4) or row==3:\n",
    "            print('*',end=' ')\n",
    "        else:\n",
    "            print(' ',end=' ')\n",
    "    print()"
   ]
  },
  {
   "cell_type": "markdown",
   "id": "4864024a-88f2-48a0-ba63-dccbe6b37398",
   "metadata": {},
   "source": [
    "##### WAP to print alphabet 'I' using '*'"
   ]
  },
  {
   "cell_type": "code",
   "execution_count": 18,
   "id": "c6005f63-f9e4-4341-a49c-da5e72faf3df",
   "metadata": {},
   "outputs": [
    {
     "name": "stdout",
     "output_type": "stream",
     "text": [
      "* * * * * \n",
      "    *     \n",
      "    *     \n",
      "    *     \n",
      "    *     \n",
      "    *     \n",
      "* * * * * \n"
     ]
    }
   ],
   "source": [
    "for row in range(7):\n",
    "    for col in range(5):\n",
    "        if col==2 or (row==0 or row==6):\n",
    "            print('*',end=' ')\n",
    "        else:\n",
    "            print(' ',end=' ')\n",
    "    print()"
   ]
  },
  {
   "cell_type": "code",
   "execution_count": null,
   "id": "5036b911-5fff-475e-a864-fb4fd21b0658",
   "metadata": {},
   "outputs": [],
   "source": []
  }
 ],
 "metadata": {
  "kernelspec": {
   "display_name": "Python 3 (ipykernel)",
   "language": "python",
   "name": "python3"
  },
  "language_info": {
   "codemirror_mode": {
    "name": "ipython",
    "version": 3
   },
   "file_extension": ".py",
   "mimetype": "text/x-python",
   "name": "python",
   "nbconvert_exporter": "python",
   "pygments_lexer": "ipython3",
   "version": "3.12.4"
  }
 },
 "nbformat": 4,
 "nbformat_minor": 5
}
