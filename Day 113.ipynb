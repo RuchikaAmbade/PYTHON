{
 "cells": [
  {
   "cell_type": "markdown",
   "id": "82bf39bf-fc38-4d01-aef1-bdb0f5623292",
   "metadata": {},
   "source": [
    "##### WAP to print alphabet 'J' using '*'"
   ]
  },
  {
   "cell_type": "code",
   "execution_count": 2,
   "id": "296fb38f-fbd0-41a6-b7a1-213ab439a42a",
   "metadata": {},
   "outputs": [
    {
     "name": "stdout",
     "output_type": "stream",
     "text": [
      "* * * * * \n",
      "    *     \n",
      "    *     \n",
      "    *     \n",
      "    *     \n",
      "    *     \n",
      "* * *     \n"
     ]
    }
   ],
   "source": [
    "for row in range(7):\n",
    "    for col in range(5):\n",
    "        if (col==2) or (row==0 or (row==6 and (col!=3 and col!=4))):\n",
    "            print('*',end=' ')\n",
    "        else:\n",
    "            print(' ',end=' ')\n",
    "    print()"
   ]
  },
  {
   "cell_type": "markdown",
   "id": "49ae2aa0-714c-457e-9040-00875c98b208",
   "metadata": {},
   "source": [
    "##### WAP to print alphabet 'K' using '*'"
   ]
  },
  {
   "cell_type": "code",
   "execution_count": 13,
   "id": "02f955bd-b498-47a5-a539-b26a581e4a38",
   "metadata": {},
   "outputs": [
    {
     "name": "stdout",
     "output_type": "stream",
     "text": [
      "*       * \n",
      "*     *   \n",
      "*   *     \n",
      "* *       \n",
      "*   *     \n",
      "*     *   \n",
      "*       * \n"
     ]
    }
   ],
   "source": [
    "i=0\n",
    "j=4\n",
    "for row in range(7):\n",
    "    for col in range(5):\n",
    "        if col==0 or (row==col+2 and col>1):\n",
    "            print('*',end=' ')\n",
    "        elif (row==i and col==j):\n",
    "            print('*',end=' ')\n",
    "            i=i+1\n",
    "            j=j-1\n",
    "        else:\n",
    "            print(' ',end=' ')\n",
    "    print()"
   ]
  },
  {
   "cell_type": "code",
   "execution_count": null,
   "id": "eb622eae-4b5e-4c79-91c7-f7ddbc30c1b4",
   "metadata": {},
   "outputs": [],
   "source": []
  }
 ],
 "metadata": {
  "kernelspec": {
   "display_name": "Python 3 (ipykernel)",
   "language": "python",
   "name": "python3"
  },
  "language_info": {
   "codemirror_mode": {
    "name": "ipython",
    "version": 3
   },
   "file_extension": ".py",
   "mimetype": "text/x-python",
   "name": "python",
   "nbconvert_exporter": "python",
   "pygments_lexer": "ipython3",
   "version": "3.12.4"
  }
 },
 "nbformat": 4,
 "nbformat_minor": 5
}
