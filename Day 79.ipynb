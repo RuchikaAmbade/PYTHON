{
 "cells": [
  {
   "cell_type": "markdown",
   "id": "3c48d3ca-2a28-446a-a90b-8d77b37d7926",
   "metadata": {},
   "source": [
    "#### 1 Right triangle character pattern."
   ]
  },
  {
   "cell_type": "code",
   "execution_count": 2,
   "id": "628e5dcb-a92d-4c61-971a-552754e7a3bb",
   "metadata": {},
   "outputs": [
    {
     "name": "stdout",
     "output_type": "stream",
     "text": [
      "A \n",
      "A A \n",
      "A A A \n",
      "A A A A \n",
      "A A A A A \n"
     ]
    }
   ],
   "source": [
    "n=5\n",
    "for i in range(1,n+1):\n",
    "    for j in range(1,i+1):\n",
    "        print('A',end=' ')\n",
    "    print()"
   ]
  },
  {
   "cell_type": "markdown",
   "id": "b2e12c3f-34cd-48e4-93ea-1ed27e6821a6",
   "metadata": {},
   "source": [
    "#### 2 Increasing character pattern."
   ]
  },
  {
   "cell_type": "code",
   "execution_count": 7,
   "id": "e870c27d-26b7-4dda-9351-b5807035f016",
   "metadata": {},
   "outputs": [
    {
     "name": "stdout",
     "output_type": "stream",
     "text": [
      "A \n",
      "B B \n",
      "C C C \n",
      "D D D D \n",
      "E E E E E \n"
     ]
    }
   ],
   "source": [
    "n=5\n",
    "p=65\n",
    "for i in range(1,n+1):\n",
    "    for j in range(1,i+1):\n",
    "        print(chr(p),end=' ')\n",
    "    p=p+1\n",
    "    print()"
   ]
  },
  {
   "cell_type": "markdown",
   "id": "d7afd940-990b-4d09-bfeb-22e0b6cf5b6d",
   "metadata": {},
   "source": [
    "##### 3 "
   ]
  },
  {
   "cell_type": "code",
   "execution_count": 12,
   "id": "8c5e0800-3ac3-4f38-b7e1-d23d21b79835",
   "metadata": {},
   "outputs": [
    {
     "name": "stdout",
     "output_type": "stream",
     "text": [
      "A \n",
      "C C \n",
      "E E E \n",
      "G G G G \n",
      "I I I I I \n"
     ]
    }
   ],
   "source": [
    "n=5\n",
    "p=65\n",
    "for i in range(1,n+1):\n",
    "    for j in range(1,i+1):\n",
    "        print(chr(p),end=' ')\n",
    "    p=p+2\n",
    "    print()"
   ]
  },
  {
   "cell_type": "markdown",
   "id": "12fe10ca-c632-40ae-b3ac-bce017720496",
   "metadata": {},
   "source": [
    "#### 4 Decreasing character pattern."
   ]
  },
  {
   "cell_type": "code",
   "execution_count": 17,
   "id": "06a4d703-a78d-404c-9a64-c65367e919d7",
   "metadata": {},
   "outputs": [
    {
     "name": "stdout",
     "output_type": "stream",
     "text": [
      "E \n",
      "D D \n",
      "C C C \n",
      "B B B B \n",
      "A A A A A \n"
     ]
    }
   ],
   "source": [
    "n=5\n",
    "p=69\n",
    "for i in range(1,n+1):\n",
    "    for j in range(1,i+1):\n",
    "        print(chr(p),end=' ')\n",
    "    p=p-1\n",
    "    print()"
   ]
  },
  {
   "cell_type": "markdown",
   "id": "50f81190-8840-48a8-bd00-ca1c3da05535",
   "metadata": {},
   "source": [
    "#### 5 Alternate character"
   ]
  },
  {
   "cell_type": "code",
   "execution_count": 20,
   "id": "37d4fc4f-2efe-4a0a-b974-8913d3eef64f",
   "metadata": {},
   "outputs": [
    {
     "name": "stdout",
     "output_type": "stream",
     "text": [
      "A \n",
      "B B \n",
      "A A A \n",
      "B B B B \n",
      "A A A A A \n"
     ]
    }
   ],
   "source": [
    "n=5\n",
    "for i in range(1,n+1):\n",
    "    for j in range(1,i+1):\n",
    "        if i%2==0:\n",
    "            print('B',end=' ')\n",
    "        else:\n",
    "            print('A',end=' ')\n",
    "    print()"
   ]
  },
  {
   "cell_type": "code",
   "execution_count": null,
   "id": "dfaaa1cb-9782-4e5f-9e29-5787c46b2c7d",
   "metadata": {},
   "outputs": [],
   "source": []
  }
 ],
 "metadata": {
  "kernelspec": {
   "display_name": "Python 3 (ipykernel)",
   "language": "python",
   "name": "python3"
  },
  "language_info": {
   "codemirror_mode": {
    "name": "ipython",
    "version": 3
   },
   "file_extension": ".py",
   "mimetype": "text/x-python",
   "name": "python",
   "nbconvert_exporter": "python",
   "pygments_lexer": "ipython3",
   "version": "3.12.4"
  }
 },
 "nbformat": 4,
 "nbformat_minor": 5
}
