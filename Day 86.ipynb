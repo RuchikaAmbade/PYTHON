{
 "cells": [
  {
   "cell_type": "markdown",
   "id": "e7a1d9a0-cdaa-47d2-bcdc-0fa5feaed9c1",
   "metadata": {},
   "source": [
    "##### 1 WAP that prints the calender fro a given month and year."
   ]
  },
  {
   "cell_type": "code",
   "execution_count": 5,
   "id": "4907649b-0aa1-4f5b-9eb1-c72035d0bc1f",
   "metadata": {},
   "outputs": [
    {
     "name": "stdin",
     "output_type": "stream",
     "text": [
      "Input the year : 2002\n",
      "Input the month : 3\n"
     ]
    },
    {
     "name": "stdout",
     "output_type": "stream",
     "text": [
      "     March 2002\n",
      "Mo Tu We Th Fr Sa Su\n",
      "             1  2  3\n",
      " 4  5  6  7  8  9 10\n",
      "11 12 13 14 15 16 17\n",
      "18 19 20 21 22 23 24\n",
      "25 26 27 28 29 30 31\n",
      "\n"
     ]
    }
   ],
   "source": [
    "import calendar\n",
    "y = int(input('Input the year :'))\n",
    "m = int(input('Input the month :'))\n",
    "print(calendar.month(y,m))"
   ]
  },
  {
   "cell_type": "markdown",
   "id": "8d4f4e5d-ea2d-4a51-8678-865c6eaf3ad3",
   "metadata": {},
   "source": [
    "##### 2 WAP a python program to calculate the number of days between two dates."
   ]
  },
  {
   "cell_type": "code",
   "execution_count": 11,
   "id": "5b8410a1-5bf8-404c-978f-f9ff97bc4005",
   "metadata": {},
   "outputs": [
    {
     "name": "stdout",
     "output_type": "stream",
     "text": [
      "11\n"
     ]
    }
   ],
   "source": [
    "from datetime import date\n",
    "f_date = date(2002,3,13)\n",
    "l_date = date(2002,3,24)\n",
    "diff = l_date - f_date\n",
    "print(diff.days)"
   ]
  },
  {
   "cell_type": "markdown",
   "id": "ce8488e7-411b-456d-b4e6-5d9274d54a1c",
   "metadata": {},
   "source": [
    "##### 3 WAP to get the volume of the sphere with radius six."
   ]
  },
  {
   "cell_type": "code",
   "execution_count": 16,
   "id": "7d768d08-a025-4a4a-8816-9f94a27581ea",
   "metadata": {},
   "outputs": [
    {
     "name": "stdout",
     "output_type": "stream",
     "text": [
      "The volume of the sphere is : 904.7786842338603\n"
     ]
    }
   ],
   "source": [
    "from math import pi\n",
    "r=6   # radius\n",
    "V=(4/3)*pi*(r**3)\n",
    "print('The volume of the sphere is :',V)"
   ]
  },
  {
   "cell_type": "markdown",
   "id": "1cf4abbd-8531-4f75-829f-bad702379f2c",
   "metadata": {},
   "source": [
    "##### 4 WAP to calculate the difference between  a given number and 17. If the number is greater than 17,return twice the absolute difference."
   ]
  },
  {
   "cell_type": "code",
   "execution_count": 19,
   "id": "d2abe96f-71e9-44a9-b527-96f8e36bd808",
   "metadata": {},
   "outputs": [
    {
     "name": "stdout",
     "output_type": "stream",
     "text": [
      "10\n"
     ]
    }
   ],
   "source": [
    "def difference(n):\n",
    "    if n<=17:\n",
    "        return 17-n\n",
    "    else:\n",
    "        return(n-17)*2\n",
    "\n",
    "print(difference(22))"
   ]
  },
  {
   "cell_type": "markdown",
   "id": "afe820cc-0d29-4366-94e5-d7c6e8b8fcdc",
   "metadata": {},
   "source": [
    "##### 5 WAP to test whether a number is within 100 of 1000 or 2000."
   ]
  },
  {
   "cell_type": "code",
   "execution_count": 26,
   "id": "cb47d2d7-c09a-41f1-b806-bdde4ff860f1",
   "metadata": {},
   "outputs": [
    {
     "name": "stdout",
     "output_type": "stream",
     "text": [
      "True\n",
      "True\n",
      "False\n",
      "False\n"
     ]
    }
   ],
   "source": [
    "def near_thousand(n):\n",
    "    return((abs(1000-n)<=100) or abs(2000-n)<=100)\n",
    "\n",
    "print(near_thousand(1000))\n",
    "print(near_thousand(900))\n",
    "print(near_thousand(800))\n",
    "print(near_thousand(2200))"
   ]
  },
  {
   "cell_type": "code",
   "execution_count": null,
   "id": "8fcd4698-1b68-4608-a377-a53cd7ffbb22",
   "metadata": {},
   "outputs": [],
   "source": []
  }
 ],
 "metadata": {
  "kernelspec": {
   "display_name": "Python 3 (ipykernel)",
   "language": "python",
   "name": "python3"
  },
  "language_info": {
   "codemirror_mode": {
    "name": "ipython",
    "version": 3
   },
   "file_extension": ".py",
   "mimetype": "text/x-python",
   "name": "python",
   "nbconvert_exporter": "python",
   "pygments_lexer": "ipython3",
   "version": "3.12.4"
  }
 },
 "nbformat": 4,
 "nbformat_minor": 5
}
