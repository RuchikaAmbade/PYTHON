{
 "cells": [
  {
   "cell_type": "markdown",
   "id": "11872e42-640b-47d7-941c-9446e4342b55",
   "metadata": {},
   "source": [
    "##### 1 WAP to convert the bytes in a given string to a list of integers."
   ]
  },
  {
   "cell_type": "code",
   "execution_count": 1,
   "id": "53f0f1d3-2ed7-4ee5-812d-044a044c6929",
   "metadata": {},
   "outputs": [
    {
     "name": "stdout",
     "output_type": "stream",
     "text": [
      "Convert bytes of the said string to a list of integers:\n",
      "[65, 98, 99]\n",
      "\n"
     ]
    }
   ],
   "source": [
    "x=b'Abc'\n",
    "print('Convert bytes of the said string to a list of integers:')\n",
    "print(list(x))\n",
    "print()"
   ]
  },
  {
   "cell_type": "markdown",
   "id": "b63bcf1c-896b-448e-8917-ce523f83463b",
   "metadata": {},
   "source": [
    "##### 2 WAP to check whether a string is numeric."
   ]
  },
  {
   "cell_type": "code",
   "execution_count": 9,
   "id": "eff24614-bbf6-4da2-9742-79f847f32a96",
   "metadata": {},
   "outputs": [
    {
     "name": "stdout",
     "output_type": "stream",
     "text": [
      "\n",
      "Not numeric\n",
      "\n"
     ]
    }
   ],
   "source": [
    "str = 'a123'\n",
    "try:\n",
    "    i=float(str)\n",
    "except(ValueError,TypeError):\n",
    "    print('\\nNot numeric')\n",
    "print()"
   ]
  },
  {
   "cell_type": "markdown",
   "id": "36243c25-1667-4f86-8d0a-951bd5ae00f6",
   "metadata": {},
   "source": [
    "##### 3 WAP to get system time"
   ]
  },
  {
   "cell_type": "code",
   "execution_count": 22,
   "id": "c79e9b56-5538-437f-a764-282cbae456d5",
   "metadata": {},
   "outputs": [
    {
     "name": "stdout",
     "output_type": "stream",
     "text": [
      "Mon Sep 23 19:01:07 2024\n",
      "\n"
     ]
    }
   ],
   "source": [
    "import time\n",
    "print(time.ctime())\n",
    "print()"
   ]
  },
  {
   "cell_type": "markdown",
   "id": "9d480da9-10b3-4b19-94ac-0ffc6ca9eae7",
   "metadata": {},
   "source": [
    "##### 4 WAP to get the name of the host on which the routine is running"
   ]
  },
  {
   "cell_type": "code",
   "execution_count": 27,
   "id": "5620ca49-e2f3-4f2c-b9f6-5c2bb78ae6e1",
   "metadata": {},
   "outputs": [
    {
     "name": "stdout",
     "output_type": "stream",
     "text": [
      "Host name: LAPTOP-C7TONQ38\n"
     ]
    }
   ],
   "source": [
    "import socket\n",
    "host_name = socket.gethostname()\n",
    "print('Host name:',host_name)"
   ]
  },
  {
   "cell_type": "markdown",
   "id": "8ee0ac3f-9b24-4966-91b5-2a80ee96559f",
   "metadata": {},
   "source": [
    "##### 5 WAP to get number divisible by fifteen from a list using an anonymous function"
   ]
  },
  {
   "cell_type": "code",
   "execution_count": 1,
   "id": "18ecd779-8aba-435f-a11d-57d32cfc9c5e",
   "metadata": {},
   "outputs": [
    {
     "name": "stdout",
     "output_type": "stream",
     "text": [
      "[45, 60, 105]\n"
     ]
    }
   ],
   "source": [
    "num_list = [45,55,60,37,100,105,220]\n",
    "list1=[]\n",
    "for i in num_list:\n",
    "    if i%15==0:\n",
    "        list1.append(i)\n",
    "\n",
    "print(list1)"
   ]
  },
  {
   "cell_type": "code",
   "execution_count": null,
   "id": "09f32733-5cdd-4d33-b91e-c548ad918f23",
   "metadata": {},
   "outputs": [],
   "source": []
  }
 ],
 "metadata": {
  "kernelspec": {
   "display_name": "Python 3 (ipykernel)",
   "language": "python",
   "name": "python3"
  },
  "language_info": {
   "codemirror_mode": {
    "name": "ipython",
    "version": 3
   },
   "file_extension": ".py",
   "mimetype": "text/x-python",
   "name": "python",
   "nbconvert_exporter": "python",
   "pygments_lexer": "ipython3",
   "version": "3.12.4"
  }
 },
 "nbformat": 4,
 "nbformat_minor": 5
}
