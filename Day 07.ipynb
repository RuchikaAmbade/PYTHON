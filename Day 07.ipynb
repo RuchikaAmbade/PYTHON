{
 "cells": [
  {
   "cell_type": "code",
   "execution_count": 21,
   "id": "6b043c0c-fc36-4c13-91c2-b82785f18c92",
   "metadata": {},
   "outputs": [
    {
     "name": "stdin",
     "output_type": "stream",
     "text": [
      "Enter your age 22\n",
      "Enter your gender (M or F) : F\n"
     ]
    },
    {
     "name": "stdout",
     "output_type": "stream",
     "text": [
      "wage=750\n"
     ]
    }
   ],
   "source": [
    "# 1 Accept the age,sex\n",
    "age=int(input(\"Enter your age\"))\n",
    "sex=str(input(\"Enter your gender (M or F) :\"))\n",
    "if age>=18 and age<30:\n",
    "    if sex==\"M\":\n",
    "        print(\"wage=700\")\n",
    "    else:\n",
    "        print(\"wage=750\")\n",
    "elif age>=30 and age<=40:\n",
    "    if sex==\"M\":\n",
    "        print(\"wage=800\")\n",
    "    else:\n",
    "        print(\"wage=850\")\n",
    "else:\n",
    "    print(\"Enter appropriate age\")"
   ]
  },
  {
   "cell_type": "code",
   "execution_count": 33,
   "id": "df7c85f5-9c0b-4e28-b14e-7e5e0e599f85",
   "metadata": {},
   "outputs": [
    {
     "name": "stdin",
     "output_type": "stream",
     "text": [
      "Enter first number 85\n",
      "Enter second number 67\n",
      "Enter third number 10\n"
     ]
    },
    {
     "name": "stdout",
     "output_type": "stream",
     "text": [
      "b is second largest number\n"
     ]
    }
   ],
   "source": [
    "# 2  \n",
    "a=int(input(\"Enter first number\"))\n",
    "b=int(input(\"Enter second number\"))\n",
    "c=int(input(\"Enter third number\"))\n",
    "if (a>b and a<c) or (a<b and a>c):\n",
    "    print(\"a is second largest number\")\n",
    "elif (b>a and b<c) or (b<a and b>c):\n",
    "    print(\"b is second largest number\")\n",
    "elif (c>a and c<b) or (c<a and c>b):\n",
    "    print(\"c is second largest number\")"
   ]
  },
  {
   "cell_type": "code",
   "execution_count": 37,
   "id": "3d9f31f4-279f-4311-9a32-0cdcdda1f25e",
   "metadata": {},
   "outputs": [
    {
     "name": "stdin",
     "output_type": "stream",
     "text": [
      "Enter value for side 1 : 5\n",
      "Enter value for side 2 : 2\n",
      "Enter value for side 3 : 3\n"
     ]
    },
    {
     "name": "stdout",
     "output_type": "stream",
     "text": [
      "Triangle is possible\n"
     ]
    }
   ],
   "source": [
    "# 3 triangle is possible or not (triangle is possible only when sum of any two sides is greater than 3rd side)\n",
    "s1=int(input(\"Enter value for side 1 :\"))\n",
    "s2=int(input(\"Enter value for side 2 :\"))\n",
    "s3=int(input(\"Enter value for side 3 :\"))\n",
    "if s1+s2==s3 or s1+s3==s2 or s2+s3==s1:\n",
    "    print(\"Triangle is possible\")\n",
    "else:\n",
    "    print(\"Triangle is not possible\")"
   ]
  },
  {
   "cell_type": "code",
   "execution_count": 39,
   "id": "516568cc-33cd-4216-ba9a-82487563de6b",
   "metadata": {},
   "outputs": [
    {
     "name": "stdout",
     "output_type": "stream",
     "text": [
      "* * * * * \n",
      "* * * * * \n",
      "* * * * * \n",
      "* * * * * \n",
      "* * * * * \n"
     ]
    }
   ],
   "source": [
    "# 4\n",
    "n=5\n",
    "for i in range(1,n+1):\n",
    "    for j in range(1,n+1):\n",
    "        print(\"*\",end=\" \")\n",
    "    print()"
   ]
  },
  {
   "cell_type": "code",
   "execution_count": 1,
   "id": "4e52662a-cc8b-4eb0-934c-85f472081298",
   "metadata": {},
   "outputs": [
    {
     "name": "stdout",
     "output_type": "stream",
     "text": [
      "* \n",
      "* * \n",
      "* * * \n",
      "* * * * \n",
      "* * * * * \n"
     ]
    }
   ],
   "source": [
    "# 5 Right triangle  (Upward)\n",
    "n=5\n",
    "for i in range(1,n+1):\n",
    "    for j in range(1,i+1):\n",
    "        print(\"*\",end=\" \")\n",
    "    print()"
   ]
  },
  {
   "cell_type": "code",
   "execution_count": 3,
   "id": "4f5444a3-2e2f-49e6-8fd2-25f9b40c3c92",
   "metadata": {},
   "outputs": [
    {
     "name": "stdout",
     "output_type": "stream",
     "text": [
      "* * * * * \n",
      "* * * * \n",
      "* * * \n",
      "* * \n",
      "* \n"
     ]
    }
   ],
   "source": [
    "# 6 Reverse rigth triangle (Downward)\n",
    "n=5\n",
    "for i in range(1,n+1):\n",
    "    for j in range(i,n+1):\n",
    "        print(\"*\",end=\" \")\n",
    "    print()"
   ]
  },
  {
   "cell_type": "code",
   "execution_count": 53,
   "id": "b4f26ea0-ee7b-4df3-8614-77849d9ef0e3",
   "metadata": {},
   "outputs": [
    {
     "name": "stdout",
     "output_type": "stream",
     "text": [
      "& \n",
      "# # \n",
      "& & & \n",
      "# # # # \n"
     ]
    }
   ],
   "source": [
    "# 7\n",
    "n=4\n",
    "for i in range(1,n+1):\n",
    "    for j in range(1,i+1):\n",
    "        if i%2==0:\n",
    "            print(\"#\",end=\" \")\n",
    "        else:\n",
    "            print(\"&\",end=\" \")\n",
    "    print()   "
   ]
  },
  {
   "cell_type": "code",
   "execution_count": 63,
   "id": "07421f8e-9efa-45f8-acc5-c86b94b99134",
   "metadata": {},
   "outputs": [
    {
     "name": "stdout",
     "output_type": "stream",
     "text": [
      "&\n",
      "##\n",
      "&&&\n",
      "####\n"
     ]
    }
   ],
   "source": [
    "# 8 method 2\n",
    "n=4\n",
    "for i in range(1,n+1):\n",
    "    if i%2==0:\n",
    "        print(\"#\"*i)\n",
    "    else:\n",
    "        print(\"&\"*i)\n"
   ]
  },
  {
   "cell_type": "code",
   "execution_count": 67,
   "id": "e69f37be-abbb-4357-b862-1b2f5a8a747a",
   "metadata": {},
   "outputs": [
    {
     "name": "stdout",
     "output_type": "stream",
     "text": [
      "        * \n",
      "      * * \n",
      "    * * * \n",
      "  * * * * \n",
      "* * * * * \n"
     ]
    }
   ],
   "source": [
    "# 9 Right side triangle\n",
    "n=5\n",
    "for i in range(1,n+1):\n",
    "    for j in range(i+1,n+1):\n",
    "        print(\" \",end=\" \")\n",
    "    for j in range(1,i+1):\n",
    "        print(\"*\",end=\" \")\n",
    "    print()"
   ]
  },
  {
   "cell_type": "code",
   "execution_count": 3,
   "id": "3def7610-0017-497c-8391-aade3b8c1ee5",
   "metadata": {},
   "outputs": [
    {
     "name": "stdout",
     "output_type": "stream",
     "text": [
      "  * * * * * \n",
      "    * * * * \n",
      "      * * * \n",
      "        * * \n",
      "          * \n"
     ]
    }
   ],
   "source": [
    "# 10  Downward triangle \n",
    "n=5\n",
    "for i in range(1,n+1):\n",
    "    for j in range(1,i+1):\n",
    "        print(\" \",end=\" \")\n",
    "    for j in range(i,n+1):\n",
    "        print(\"*\",end=\" \")\n",
    "    print()"
   ]
  },
  {
   "cell_type": "code",
   "execution_count": null,
   "id": "08dd6591-23ce-4b9a-a754-9eb2463bb8a9",
   "metadata": {},
   "outputs": [],
   "source": []
  }
 ],
 "metadata": {
  "kernelspec": {
   "display_name": "Python 3 (ipykernel)",
   "language": "python",
   "name": "python3"
  },
  "language_info": {
   "codemirror_mode": {
    "name": "ipython",
    "version": 3
   },
   "file_extension": ".py",
   "mimetype": "text/x-python",
   "name": "python",
   "nbconvert_exporter": "python",
   "pygments_lexer": "ipython3",
   "version": "3.12.4"
  }
 },
 "nbformat": 4,
 "nbformat_minor": 5
}
