{
 "cells": [
  {
   "cell_type": "markdown",
   "id": "811a4e2d-e35b-4b98-99a7-930eea442269",
   "metadata": {},
   "source": [
    "##### Butterfly Pattern"
   ]
  },
  {
   "cell_type": "code",
   "execution_count": 35,
   "id": "c91cba35-84f6-441c-acd8-5a320e861244",
   "metadata": {},
   "outputs": [
    {
     "name": "stdout",
     "output_type": "stream",
     "text": [
      "*               * \n",
      "* *           * * \n",
      "* * *       * * * \n",
      "* * * *   * * * * \n",
      "* * * * * * * * * \n",
      "* * * *   * * * * \n",
      "* * *       * * * \n",
      "* *           * * \n",
      "*               * \n"
     ]
    }
   ],
   "source": [
    "n=5\n",
    "for i in range(1,n+1):\n",
    "    for j in range(1,i+1):\n",
    "        if i==5 and j==5:\n",
    "            break\n",
    "        print('*',end=' ')\n",
    "    for j in range(i,n):\n",
    "        print(' ',end=' ')\n",
    "    for j in range(i+1,n):\n",
    "        print(' ',end=' ')\n",
    "    for j in range(1,i+1):\n",
    "        print('*',end=' ')\n",
    "    print()\n",
    "for i in range(2,n+1):\n",
    "    for j in range(i,n+1):\n",
    "        print('*',end=' ')\n",
    "    for j in range(1,i):\n",
    "        print(' ',end=' ')\n",
    "    for j in range(2,i):\n",
    "        print(' ',end=' ')\n",
    "    for j in range(i,n+1):\n",
    "        print('*',end=' ')\n",
    "    print()"
   ]
  },
  {
   "cell_type": "markdown",
   "id": "7ca5fa71-3c10-43ab-8331-bcccfb3905c7",
   "metadata": {},
   "source": [
    "##### Double hill pattern"
   ]
  },
  {
   "cell_type": "code",
   "execution_count": 48,
   "id": "d8a82bd2-f002-4f52-9ecc-5414f241fbe3",
   "metadata": {},
   "outputs": [
    {
     "name": "stdout",
     "output_type": "stream",
     "text": [
      "     *       * \n",
      "    * *     * * \n",
      "   * * *   * * * \n",
      "  * * * * * * * * \n",
      " * * * * * * * * * \n"
     ]
    }
   ],
   "source": [
    "n=5\n",
    "for i in range(1,n+1):\n",
    "    for j in range(i,n+1):\n",
    "        print(' ',end='')\n",
    "    for j in range(1,i+1):\n",
    "        print('*',end=' ')\n",
    "        \n",
    "    for j in range(i+1,n):\n",
    "        print(' ',end=' ')\n",
    "    for j in range(1,i+1):\n",
    "        if i==5 and j==5:\n",
    "            break\n",
    "        print('*',end=' ')\n",
    "    \n",
    "    print()"
   ]
  },
  {
   "cell_type": "markdown",
   "id": "66ea6f84-47be-4095-908f-d1caa85cb739",
   "metadata": {},
   "source": [
    "##### Howllow inverted half pyramid"
   ]
  },
  {
   "cell_type": "code",
   "execution_count": 62,
   "id": "367862ec-770f-4be3-a3c3-bf18f5e852fa",
   "metadata": {},
   "outputs": [
    {
     "name": "stdout",
     "output_type": "stream",
     "text": [
      "  * * * * * \n",
      "    *     * \n",
      "      *   * \n",
      "        * * \n",
      "          * \n"
     ]
    }
   ],
   "source": [
    "n=5\n",
    "for i in range(1,n+1):\n",
    "    for j in range(1,i+1):\n",
    "        print(' ',end=' ')\n",
    "    for j in range(i,n+1):\n",
    "        if i==1 or i==n+1 or j==i or j==n:\n",
    "            print('*',end=' ')\n",
    "        else:\n",
    "            print(' ',end=' ')\n",
    "    print()"
   ]
  },
  {
   "cell_type": "code",
   "execution_count": null,
   "id": "13b5fbc0-e38f-4eae-93b3-8965ca7f9db1",
   "metadata": {},
   "outputs": [],
   "source": []
  }
 ],
 "metadata": {
  "kernelspec": {
   "display_name": "Python 3 (ipykernel)",
   "language": "python",
   "name": "python3"
  },
  "language_info": {
   "codemirror_mode": {
    "name": "ipython",
    "version": 3
   },
   "file_extension": ".py",
   "mimetype": "text/x-python",
   "name": "python",
   "nbconvert_exporter": "python",
   "pygments_lexer": "ipython3",
   "version": "3.12.4"
  }
 },
 "nbformat": 4,
 "nbformat_minor": 5
}
