{
 "cells": [
  {
   "cell_type": "markdown",
   "id": "26962312-f3a3-4582-9207-7fafa85f521c",
   "metadata": {},
   "source": [
    "1. Write a python code to take in an integer input and store it in a variable a."
   ]
  },
  {
   "cell_type": "code",
   "execution_count": 2,
   "id": "13373d83-2251-44d0-bef2-75f9e3196968",
   "metadata": {},
   "outputs": [
    {
     "name": "stdin",
     "output_type": "stream",
     "text": [
      " 24\n"
     ]
    }
   ],
   "source": [
    "a = int(input())"
   ]
  },
  {
   "cell_type": "markdown",
   "id": "777825a7-4074-4611-b3b7-af7fd1b8bb50",
   "metadata": {},
   "source": [
    "2. Display a's typecast."
   ]
  },
  {
   "cell_type": "code",
   "execution_count": 4,
   "id": "69102bc8-6ec0-4594-bb28-2403a31d7aff",
   "metadata": {},
   "outputs": [
    {
     "name": "stdout",
     "output_type": "stream",
     "text": [
      "<class 'int'>\n"
     ]
    }
   ],
   "source": [
    "print(type(a))"
   ]
  },
  {
   "cell_type": "markdown",
   "id": "aed9046f-dc75-476f-a5b6-490eea9c31fa",
   "metadata": {},
   "source": [
    "3. Print 'True' if a is greater than or equal to 5, 'False' otherwise."
   ]
  },
  {
   "cell_type": "code",
   "execution_count": 6,
   "id": "3e20e27c-3327-4009-a076-c2361c3a5653",
   "metadata": {},
   "outputs": [
    {
     "name": "stdout",
     "output_type": "stream",
     "text": [
      "True\n"
     ]
    }
   ],
   "source": [
    "if a>5:\n",
    "    print('True')\n",
    "else:\n",
    "    print('False')"
   ]
  },
  {
   "cell_type": "markdown",
   "id": "c3e54f57-d1c6-4e95-ace1-537d27409714",
   "metadata": {},
   "source": [
    "4. Take a string input of your name and store it as a list of separate letters. e.g. if your name is Rahul, take input of your name and store it in a list containing ['R','a','h','u','l']. Name the list as 'l'. Print 'l'."
   ]
  },
  {
   "cell_type": "code",
   "execution_count": 8,
   "id": "9eae2cae-9e58-4bc1-b9e3-775032d4bb38",
   "metadata": {},
   "outputs": [
    {
     "name": "stdin",
     "output_type": "stream",
     "text": [
      "Enter your name : Ruchika\n"
     ]
    },
    {
     "name": "stdout",
     "output_type": "stream",
     "text": [
      "['R', 'u', 'c', 'h', 'i', 'k', 'a']\n"
     ]
    }
   ],
   "source": [
    "name = input('Enter your name :')\n",
    "list_letters = [i for i in name]\n",
    "print(list_letters)"
   ]
  },
  {
   "cell_type": "markdown",
   "id": "d26f4fe5-95e1-4719-bc09-7f5d580ed721",
   "metadata": {},
   "source": [
    "5. Take a string input and print all the unique letters of the string.(pass in your string as all lowercase) e.g: string: 'india', output: {'i','n','d','a'}"
   ]
  },
  {
   "cell_type": "code",
   "execution_count": 14,
   "id": "1c6292e3-3dfd-4e72-a7bd-60d0ff7fea26",
   "metadata": {},
   "outputs": [
    {
     "name": "stdin",
     "output_type": "stream",
     "text": [
      "Enter any word in small letters: india\n"
     ]
    },
    {
     "name": "stdout",
     "output_type": "stream",
     "text": [
      "{'a', 'n', 'i', 'd'}\n"
     ]
    }
   ],
   "source": [
    "string = input('Enter any word in small letters:')\n",
    "uniq_letter = {i for i in string}\n",
    "print(uniq_letter)"
   ]
  },
  {
   "cell_type": "markdown",
   "id": "2d6bfdad-e879-4de4-a5fd-46050cd6dc36",
   "metadata": {},
   "source": [
    "6. Print the sum of numbers from 1 to n where n is the input by the user."
   ]
  },
  {
   "cell_type": "code",
   "execution_count": 18,
   "id": "12d8a1b6-b472-401c-a618-1f7a55ccadc9",
   "metadata": {},
   "outputs": [
    {
     "name": "stdin",
     "output_type": "stream",
     "text": [
      "Enter a number here: 10\n"
     ]
    },
    {
     "name": "stdout",
     "output_type": "stream",
     "text": [
      "55\n"
     ]
    }
   ],
   "source": [
    "n = int(input('Enter a number here:'))\n",
    "sum = 0\n",
    "for i in range(1,n+1):\n",
    "    sum+=i\n",
    "print(sum)"
   ]
  },
  {
   "cell_type": "markdown",
   "id": "f8f96a45-7cca-4cd1-82e0-38e74015be71",
   "metadata": {},
   "source": [
    "7. Print all the even numbers between 1 to n where n is the input given by user."
   ]
  },
  {
   "cell_type": "code",
   "execution_count": 20,
   "id": "e7ae81f5-6abc-4fed-9143-34a3aee19e82",
   "metadata": {},
   "outputs": [
    {
     "name": "stdin",
     "output_type": "stream",
     "text": [
      "Enter a numbere : 10\n"
     ]
    },
    {
     "name": "stdout",
     "output_type": "stream",
     "text": [
      "2\n",
      "4\n",
      "6\n",
      "8\n",
      "10\n"
     ]
    }
   ],
   "source": [
    "n = int(input('Enter a numbere :'))\n",
    "for i in range(1,n+1):\n",
    "    if i%2==0:\n",
    "        print(i)"
   ]
  },
  {
   "cell_type": "markdown",
   "id": "e406a810-0524-4e67-bbc2-70bfda76b5d8",
   "metadata": {},
   "source": [
    "8. Print all the numbers from n to 1 in reverse order. e.g.: let n = 10, output = 10 9 8 7 6 5 4 3 2 1 "
   ]
  },
  {
   "cell_type": "code",
   "execution_count": 22,
   "id": "3d9c4fe9-f8a2-4739-a860-eef960d3121e",
   "metadata": {},
   "outputs": [
    {
     "name": "stdout",
     "output_type": "stream",
     "text": [
      "10\n",
      "9\n",
      "8\n",
      "7\n",
      "6\n",
      "5\n",
      "4\n",
      "3\n",
      "2\n",
      "1\n"
     ]
    }
   ],
   "source": [
    "n = 10\n",
    "for i in range(n,0,-1):\n",
    "    print(i)"
   ]
  },
  {
   "cell_type": "markdown",
   "id": "fb06fb2e-5c33-46d8-a274-dbe4d6ef4267",
   "metadata": {},
   "source": [
    "9. A factorial of a number is defined as n! = n*(n-1)*(n-2)*(n-3)*....*1. Write a python code to display factorial of a number n."
   ]
  },
  {
   "cell_type": "code",
   "execution_count": 24,
   "id": "44485655-026d-4feb-8756-d566b616d0e5",
   "metadata": {},
   "outputs": [
    {
     "name": "stdout",
     "output_type": "stream",
     "text": [
      "120\n"
     ]
    }
   ],
   "source": [
    "n = 5\n",
    "fact = 1\n",
    "for i in range(n,0,-1):\n",
    "    fact=fact*i\n",
    "\n",
    "print(fact)"
   ]
  },
  {
   "cell_type": "markdown",
   "id": "d702bc0b-9c88-4f32-a19c-26d5384a78c1",
   "metadata": {},
   "source": [
    "10. Print multiplication table of an integer n. \n",
    "- n x 1 = n\n",
    "- n x 2 = 2n\n",
    "- \n",
    "- \n",
    "- so on... till 10."
   ]
  },
  {
   "cell_type": "code",
   "execution_count": 26,
   "id": "5263a3d5-1285-4291-82c0-5e1573898bc9",
   "metadata": {},
   "outputs": [
    {
     "name": "stdout",
     "output_type": "stream",
     "text": [
      "12\n",
      "24\n",
      "36\n",
      "48\n",
      "60\n",
      "72\n",
      "84\n",
      "96\n",
      "108\n",
      "120\n"
     ]
    }
   ],
   "source": [
    "n = 12\n",
    "for i in range(1,11):\n",
    "    print(i*n)"
   ]
  },
  {
   "cell_type": "code",
   "execution_count": null,
   "id": "2ff44ea0-e057-4b18-98cf-abba0c18d6e6",
   "metadata": {},
   "outputs": [],
   "source": []
  }
 ],
 "metadata": {
  "kernelspec": {
   "display_name": "Python 3 (ipykernel)",
   "language": "python",
   "name": "python3"
  },
  "language_info": {
   "codemirror_mode": {
    "name": "ipython",
    "version": 3
   },
   "file_extension": ".py",
   "mimetype": "text/x-python",
   "name": "python",
   "nbconvert_exporter": "python",
   "pygments_lexer": "ipython3",
   "version": "3.12.4"
  }
 },
 "nbformat": 4,
 "nbformat_minor": 5
}
