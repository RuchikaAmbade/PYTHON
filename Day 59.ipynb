{
 "cells": [
  {
   "cell_type": "markdown",
   "id": "73bdfc16-38cd-4776-98b2-b9b79bb8d854",
   "metadata": {},
   "source": [
    "##### 1 WAP that determines the difference between the largest and smallest integers created by 8 numbers from 0 to 9. The number that can be rearranged \n",
    "##### shall start with 0 as in 00135668."
   ]
  },
  {
   "cell_type": "code",
   "execution_count": 11,
   "id": "0696f1a1-cf2a-4161-8fa8-e572a64d3f98",
   "metadata": {},
   "outputs": [
    {
     "name": "stdout",
     "output_type": "stream",
     "text": [
      "Input an integer created by 8 numbers from 0 to 9 :\n"
     ]
    },
    {
     "name": "stdin",
     "output_type": "stream",
     "text": [
      " 35478126\n"
     ]
    },
    {
     "name": "stdout",
     "output_type": "stream",
     "text": [
      "Difference between the largest and the smallest integer from the given integer :\n",
      "75308643\n"
     ]
    }
   ],
   "source": [
    "print ('Input an integer created by 8 numbers from 0 to 9 :')\n",
    "num = list(input())\n",
    "print('Difference between the largest and the smallest integer from the given integer :')\n",
    "print(int(''.join(sorted(num,reverse = True))) - int(\"\".join (sorted(num))))"
   ]
  },
  {
   "cell_type": "markdown",
   "id": "0d8e5119-3f12-4a24-8ff2-ca65168e4ba4",
   "metadata": {},
   "source": [
    "##### 2 WAP to create a maximum no. of regions obtained by drawing n given straight lines."
   ]
  },
  {
   "cell_type": "code",
   "execution_count": 13,
   "id": "958b06f6-32e2-4693-8b8f-14c3fd3588b1",
   "metadata": {},
   "outputs": [
    {
     "name": "stdout",
     "output_type": "stream",
     "text": [
      "Input number of straight lines (0 to exit):\n"
     ]
    },
    {
     "name": "stdin",
     "output_type": "stream",
     "text": [
      " 25\n"
     ]
    },
    {
     "name": "stdout",
     "output_type": "stream",
     "text": [
      "Number of regions:\n",
      "326\n",
      "Input number of straight lines (0 to exit):\n"
     ]
    },
    {
     "name": "stdin",
     "output_type": "stream",
     "text": [
      " 0\n"
     ]
    }
   ],
   "source": [
    "while True:\n",
    "    print(\"Input number of straight lines (0 to exit):\")\n",
    "    n=int(input())\n",
    "    if n<=0:\n",
    "        break\n",
    "\n",
    "    print(\"Number of regions:\")\n",
    "    print((n*n + n + 2)//2)"
   ]
  },
  {
   "cell_type": "markdown",
   "id": "e5ddc3e6-db6a-46ad-9968-2fcbcee2ce2a",
   "metadata": {},
   "source": [
    "##### 3 WAP to sum all numerical values (positive integers) embedded in a sentence."
   ]
  },
  {
   "cell_type": "code",
   "execution_count": 3,
   "id": "acc1d397-c154-4c8a-b88a-b1e366bb3a02",
   "metadata": {},
   "outputs": [
    {
     "name": "stdout",
     "output_type": "stream",
     "text": [
      "Input some text and numeric values (to exit):\n",
      "Sum of the numeric values: 80\n",
      "None\n",
      "Input some text and numeric values (to exit):\n",
      "Sum of the numeric values: 17\n",
      "None\n",
      "Input some text and numeric values (to exit):\n",
      "Sum of the numeric values: 10\n",
      "None\n"
     ]
    }
   ],
   "source": [
    "import sys\n",
    "import re\n",
    "\n",
    "def test(stri):\n",
    "    print(\"Input some text and numeric values (to exit):\")\n",
    "    numeric_sum = sum(map(int,re.findall(r\"[0-9]{1,5}\" , stri)))\n",
    "    print(\"Sum of the numeric values:\",numeric_sum)\n",
    "\n",
    "print(test(\"sd1fds23 dssd56\"))\n",
    "print(test(\"15apple2banana\"))\n",
    "print(test(\"flowers5fruit5\"))"
   ]
  },
  {
   "cell_type": "markdown",
   "id": "756d128e-5828-4c8f-9f0a-cb5b826a4868",
   "metadata": {},
   "source": [
    "##### 4 Given a list of numbers and a number k, WAP to check whether the sum of any two numbers from the list is equal to k or not."
   ]
  },
  {
   "cell_type": "code",
   "execution_count": 8,
   "id": "c8d45926-9ceb-4073-83a4-2b176976a15b",
   "metadata": {},
   "outputs": [
    {
     "name": "stdout",
     "output_type": "stream",
     "text": [
      "True\n",
      "False\n"
     ]
    }
   ],
   "source": [
    "def check_sum(nums,k):\n",
    "    for i in range(len(nums)):\n",
    "        for j in range(i+1,len(nums)):\n",
    "            if nums[i] + nums[j] == k:\n",
    "                return True\n",
    "    return False\n",
    "\n",
    "print(check_sum([12,5,0,5],10))\n",
    "print(check_sum([1,1,0],0))"
   ]
  },
  {
   "cell_type": "code",
   "execution_count": null,
   "id": "99f414c3-722f-4b2e-935d-0c7c6f732c75",
   "metadata": {},
   "outputs": [],
   "source": []
  }
 ],
 "metadata": {
  "kernelspec": {
   "display_name": "Python 3 (ipykernel)",
   "language": "python",
   "name": "python3"
  },
  "language_info": {
   "codemirror_mode": {
    "name": "ipython",
    "version": 3
   },
   "file_extension": ".py",
   "mimetype": "text/x-python",
   "name": "python",
   "nbconvert_exporter": "python",
   "pygments_lexer": "ipython3",
   "version": "3.12.4"
  }
 },
 "nbformat": 4,
 "nbformat_minor": 5
}
