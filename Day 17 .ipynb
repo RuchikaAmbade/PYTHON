{
 "cells": [
  {
   "cell_type": "markdown",
   "id": "c1467903-f61e-45dd-921a-c835ef16a675",
   "metadata": {},
   "source": [
    "##### 1 Right triangle character pattern "
   ]
  },
  {
   "cell_type": "code",
   "execution_count": 1,
   "id": "7c85300f-f084-427a-b4e2-69751a788e85",
   "metadata": {},
   "outputs": [
    {
     "name": "stdout",
     "output_type": "stream",
     "text": [
      "A \n",
      "A A \n",
      "A A A \n",
      "A A A A \n",
      "A A A A A \n"
     ]
    }
   ],
   "source": [
    "n=5\n",
    "for i in range(1,n+1):\n",
    "    for j in range(1,i+1):\n",
    "        print(\"A\",end=\" \")\n",
    "    print()"
   ]
  },
  {
   "cell_type": "markdown",
   "id": "9fd5c898-01a3-406e-9cd9-2981d49b84ec",
   "metadata": {},
   "source": [
    "##### 2 Incerasing character pattern"
   ]
  },
  {
   "cell_type": "code",
   "execution_count": 11,
   "id": "58186942-7d14-45b0-bba7-361e3fb50f39",
   "metadata": {},
   "outputs": [
    {
     "name": "stdout",
     "output_type": "stream",
     "text": [
      "A \n",
      "B B \n",
      "C C C \n",
      "D D D D \n",
      "E E E E E \n"
     ]
    }
   ],
   "source": [
    "n=5\n",
    "p=65\n",
    "for i in range(1,n+1):\n",
    "    for j in range(1,i+1):\n",
    "        print(chr(p),end=\" \")\n",
    "    p=p+1\n",
    "    print()"
   ]
  },
  {
   "cell_type": "markdown",
   "id": "7382a58e-71b8-4be8-a6c6-652e7f300e56",
   "metadata": {},
   "source": [
    "##### 3"
   ]
  },
  {
   "cell_type": "code",
   "execution_count": 15,
   "id": "e7291d4c-7d4d-4e27-ac68-cf080e789dd7",
   "metadata": {},
   "outputs": [
    {
     "name": "stdout",
     "output_type": "stream",
     "text": [
      "A \n",
      "C C \n",
      "E E E \n",
      "G G G G \n",
      "I I I I I \n"
     ]
    }
   ],
   "source": [
    "n=5\n",
    "p=65\n",
    "for i in range(1,n+1):\n",
    "    for j in range(1,i+1):\n",
    "        print(chr(p),end=\" \")\n",
    "    p+=2\n",
    "    print()"
   ]
  },
  {
   "cell_type": "markdown",
   "id": "9b08335b-4353-438c-a764-01e0abd9a157",
   "metadata": {},
   "source": [
    "##### 4  Decreasing character pattern"
   ]
  },
  {
   "cell_type": "code",
   "execution_count": 19,
   "id": "750f470a-f4b7-498d-945e-679f8a0b9975",
   "metadata": {},
   "outputs": [
    {
     "name": "stdout",
     "output_type": "stream",
     "text": [
      "E \n",
      "D D \n",
      "C C C \n",
      "B B B B \n",
      "A A A A A \n"
     ]
    }
   ],
   "source": [
    "n=5\n",
    "p=69\n",
    "for i in range(1,n+1):\n",
    "    for j in range(1,i+1):\n",
    "        print(chr(p),end=\" \")\n",
    "    p=p-1\n",
    "    print()"
   ]
  },
  {
   "cell_type": "markdown",
   "id": "aafdb7bd-d31a-44fe-98d3-39c2fd3da2cf",
   "metadata": {},
   "source": [
    "##### 5 Alternate character"
   ]
  },
  {
   "cell_type": "code",
   "execution_count": 27,
   "id": "e4810b38-1a5d-4a84-b12c-1998539f7c50",
   "metadata": {},
   "outputs": [
    {
     "name": "stdout",
     "output_type": "stream",
     "text": [
      "A \n",
      "B B \n",
      "A A A \n",
      "B B B B \n",
      "A A A A A \n"
     ]
    }
   ],
   "source": [
    "n=5\n",
    "for i in range(1,n+1):\n",
    "    for j in range(1,i+1):\n",
    "        if i%2==0:\n",
    "            print('B',end=' ')\n",
    "        else:\n",
    "            print('A',end=' ')\n",
    "    print()"
   ]
  },
  {
   "cell_type": "markdown",
   "id": "e9ec6921-3de4-416a-af9b-4b1de7eefac7",
   "metadata": {},
   "source": [
    "##### 6 Left triangle"
   ]
  },
  {
   "cell_type": "code",
   "execution_count": 33,
   "id": "4270d76e-e826-46d3-aed3-7241ed99d6b6",
   "metadata": {},
   "outputs": [
    {
     "name": "stdout",
     "output_type": "stream",
     "text": [
      "  z z z z z \n",
      "    0 0 0 0 \n",
      "      z z z \n",
      "        0 0 \n",
      "          z \n"
     ]
    }
   ],
   "source": [
    "n=5\n",
    "for i in range(1,n+1):\n",
    "    for j in range(1,i+1):\n",
    "        print(\" \",end=\" \")\n",
    "    for j in range(i,n+1):\n",
    "        if i%2==0:\n",
    "            print(\"0\",end=\" \")\n",
    "        else:\n",
    "            print(\"z\",end=\" \")\n",
    "    print()"
   ]
  },
  {
   "cell_type": "markdown",
   "id": "4f0bcbcc-67c5-422f-a13e-9bd9c7fac74d",
   "metadata": {},
   "source": [
    "##### 7 WAP to find out if the given number is abundant.\n",
    "#####   an abundunt number or excessive number is a number for which the sum of its proper divisior is greater than the number itsself"
   ]
  },
  {
   "cell_type": "code",
   "execution_count": 23,
   "id": "22ff1a52-cdc0-4f24-9280-c40e2195abf4",
   "metadata": {},
   "outputs": [
    {
     "name": "stdin",
     "output_type": "stream",
     "text": [
      "Enter any number : 12\n"
     ]
    },
    {
     "name": "stdout",
     "output_type": "stream",
     "text": [
      "12 is an abundant number\n"
     ]
    }
   ],
   "source": [
    "n=int(input(\"Enter any number :\"))\n",
    "divisor_sum=0\n",
    "if n>0:\n",
    "    for i in range(1,n):\n",
    "        if n%i==0:\n",
    "            divisor_sum=divisor_sum+i\n",
    "    if divisor_sum > n:\n",
    "        print(f'{n} is an abundant number')\n",
    "    else:\n",
    "        print(f'{n} is not an abundant number')\n",
    "\n",
    "else:\n",
    "    print('Please enter positive integer')"
   ]
  },
  {
   "cell_type": "markdown",
   "id": "9ea35866-9157-4d24-a2f0-4c8d4cdeb442",
   "metadata": {},
   "source": [
    "##### 8  Write a  Python program to find out if the given number is amicable.\n",
    "##### Amicable numbers are two different numbers so related that the sum of the proper divisors of each is equal to the other number"
   ]
  },
  {
   "cell_type": "code",
   "execution_count": 46,
   "id": "002dd798-462d-47ad-ae1d-dfda6e940d45",
   "metadata": {},
   "outputs": [
    {
     "name": "stdin",
     "output_type": "stream",
     "text": [
      "Enter number n1 : 220\n",
      "Enter number n2 : 284\n"
     ]
    },
    {
     "name": "stdout",
     "output_type": "stream",
     "text": [
      "sum1= 284\n",
      "sum2= 220\n",
      "220,284 are amicable numbers\n"
     ]
    }
   ],
   "source": [
    "n1=int(input('Enter number n1 :'))\n",
    "n2=int(input('Enter number n2 :'))\n",
    "sum1=0\n",
    "sum2=0\n",
    "for i in range(1,n1):\n",
    "    if n1%i==0:\n",
    "       sum1+=i\n",
    "    if n2%i==0:\n",
    "        sum2+=i\n",
    "print('sum1=',sum1)\n",
    "print('sum2=',sum2)\n",
    "if sum1==n2 and sum2==n1:\n",
    "    print(f'{n1},{n2} are amicable numbers')\n",
    "else:\n",
    "    print(f'{n1},{n2} are not amicable numbers')"
   ]
  },
  {
   "cell_type": "markdown",
   "id": "32435024-0812-4e06-9131-20c0bffd5d49",
   "metadata": {},
   "source": [
    "##### 9 Write a Python program to return the sum of all divisors of a number."
   ]
  },
  {
   "cell_type": "code",
   "execution_count": 54,
   "id": "33e462fd-43a0-470f-b27d-2479f6654eae",
   "metadata": {},
   "outputs": [
    {
     "name": "stdin",
     "output_type": "stream",
     "text": [
      "Enter any number : 12\n"
     ]
    },
    {
     "name": "stdout",
     "output_type": "stream",
     "text": [
      "16\n"
     ]
    }
   ],
   "source": [
    "n=int(input('Enter any number :'))\n",
    "sum=0\n",
    "for i in range(1,n):\n",
    "    if n%i==0:\n",
    "        sum=sum+i\n",
    "print(sum)"
   ]
  },
  {
   "cell_type": "markdown",
   "id": "e45f9c7d-e4bb-48f4-a4c5-67b86882e466",
   "metadata": {},
   "source": [
    "##### 10 WAP to calculate the difference between the two lists."
   ]
  },
  {
   "cell_type": "code",
   "execution_count": 15,
   "id": "4ad8de32-5244-461f-8352-944f4806224e",
   "metadata": {},
   "outputs": [
    {
     "name": "stdout",
     "output_type": "stream",
     "text": [
      "[3, 4, 5]\n",
      "[9, 20]\n"
     ]
    },
    {
     "data": {
      "text/plain": [
       "[3, 4, 5, 9, 20]"
      ]
     },
     "execution_count": 15,
     "metadata": {},
     "output_type": "execute_result"
    }
   ],
   "source": [
    "list1=[8,4,6,5,3,1]\n",
    "list2=[8,20,1,9,8,6]\n",
    "diff1=list(set(list1) - set(list2))\n",
    "print(diff1)\n",
    "diff2=list(set(list2) - set(list1))\n",
    "print(diff2)\n",
    "diff = diff1 + diff2\n",
    "diff"
   ]
  },
  {
   "cell_type": "code",
   "execution_count": null,
   "id": "02999f27-7a8f-437d-9187-439eb3ae7750",
   "metadata": {},
   "outputs": [],
   "source": []
  }
 ],
 "metadata": {
  "kernelspec": {
   "display_name": "Python 3 (ipykernel)",
   "language": "python",
   "name": "python3"
  },
  "language_info": {
   "codemirror_mode": {
    "name": "ipython",
    "version": 3
   },
   "file_extension": ".py",
   "mimetype": "text/x-python",
   "name": "python",
   "nbconvert_exporter": "python",
   "pygments_lexer": "ipython3",
   "version": "3.12.4"
  }
 },
 "nbformat": 4,
 "nbformat_minor": 5
}
