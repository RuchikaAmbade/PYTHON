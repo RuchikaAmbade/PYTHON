{
 "cells": [
  {
   "cell_type": "markdown",
   "id": "20095d43-e79b-409c-82b6-419e5d0c6b20",
   "metadata": {},
   "source": [
    "##### 1 WAP that reads a date (from 2016/1/1 to 2016/12/31) and prints the day of the date. Jan. 1, 2016, is Friday.Note that 2016 is a leap year."
   ]
  },
  {
   "cell_type": "code",
   "execution_count": 1,
   "id": "8a05ec43-f4d2-471d-a4be-67f0c65479ae",
   "metadata": {},
   "outputs": [
    {
     "name": "stdout",
     "output_type": "stream",
     "text": [
      "Input month and date (Separated by a single space):\n"
     ]
    },
    {
     "name": "stdin",
     "output_type": "stream",
     "text": [
      " 5 15\n"
     ]
    },
    {
     "name": "stdout",
     "output_type": "stream",
     "text": [
      "Name of the date: Sunday\n"
     ]
    }
   ],
   "source": [
    "from datetime import date\n",
    "print('Input month and date (Separated by a single space):')\n",
    "m,d = map(int,input().split())\n",
    "weeks = {1: 'Monday',2: 'Tuesday',3: 'Wednesday',4: 'Thursday',5: 'Friday',6: 'Saturday',7:'Sunday'}\n",
    "w = date.isoweekday(date(2016,m,d))\n",
    "print('Name of the date:', weeks[w])"
   ]
  },
  {
   "cell_type": "markdown",
   "id": "a11c9949-7897-480b-8634-293189f2e66c",
   "metadata": {},
   "source": [
    "##### 2 WAP that reads text (only alphabetical characters and spaces) and prints two words. The first word is the one that appers most often.\n",
    "#####   The second is the word with the most letters."
   ]
  },
  {
   "cell_type": "code",
   "execution_count": 6,
   "id": "ebac470b-4fae-40eb-8d7e-ef9dbc0d5120",
   "metadata": {},
   "outputs": [
    {
     "name": "stdout",
     "output_type": "stream",
     "text": [
      "Input a text in a line.\n"
     ]
    },
    {
     "name": "stdin",
     "output_type": "stream",
     "text": [
      " Thank you for your comment and your participation.\n"
     ]
    },
    {
     "name": "stdout",
     "output_type": "stream",
     "text": [
      "\n",
      "Most frequent text and the word which has the maximum number of letters.\n",
      "your participation.\n"
     ]
    }
   ],
   "source": [
    "import collections\n",
    "print('Input a text in a line.')\n",
    "text_list = list(map(str,input().split()))\n",
    "sc = collections.Counter(text_list)\n",
    "common_word = sc.most_common()[0][0]\n",
    "max_char = \"\"\n",
    "\n",
    "for s in text_list:\n",
    "    if len(max_char) < len(s):\n",
    "        max_char = s\n",
    "\n",
    "print(\"\\nMost frequent text and the word which has the maximum number of letters.\")\n",
    "print(common_word,max_char)"
   ]
  },
  {
   "cell_type": "markdown",
   "id": "f56af947-6224-4f9a-8d31-5f300b260513",
   "metadata": {},
   "source": [
    "##### 3 WAP that reads n digits chosen from 0 to 9 and prints the number of combinations where the sum of the digits equals anothergiven number (s)\n",
    "##### Do not use the same digits in a combination."
   ]
  },
  {
   "cell_type": "code",
   "execution_count": 8,
   "id": "948bd49d-9001-41dc-9d1a-32e8ef961641",
   "metadata": {},
   "outputs": [
    {
     "name": "stdout",
     "output_type": "stream",
     "text": [
      "Input number of combinations and sum, input 0 0 to exit:\n"
     ]
    },
    {
     "name": "stdin",
     "output_type": "stream",
     "text": [
      " 5 6 \n",
      " 2 4 \n",
      " 0 0\n"
     ]
    },
    {
     "name": "stdout",
     "output_type": "stream",
     "text": [
      "2\n"
     ]
    }
   ],
   "source": [
    "import itertools\n",
    "print('Input number of combinations and sum, input 0 0 to exit:')\n",
    "while True:\n",
    "    x,y = map(int, input().split())\n",
    "    if x==0 and y==0:\n",
    "        break\n",
    "\n",
    "    s = list(itertools.combinations(range(10),x))\n",
    "    ctr = 0\n",
    "\n",
    "    for i in s:\n",
    "        if sum(i) == y:\n",
    "            ctr += 1\n",
    "\n",
    "print(ctr)"
   ]
  },
  {
   "cell_type": "markdown",
   "id": "e537ab29-f251-4cd1-a45e-acd085709873",
   "metadata": {},
   "source": [
    "##### 4 WAP that reads the two adjoining sides and the diagonal of a parallelogram and checks whether the parallelogram is a rectangle or a rhombus."
   ]
  },
  {
   "cell_type": "code",
   "execution_count": 17,
   "id": "2ea2f769-14dc-4a9e-b849-07233227bb4c",
   "metadata": {},
   "outputs": [
    {
     "name": "stdout",
     "output_type": "stream",
     "text": [
      "Input two adjoined sides and the diagonal of a parallelogram (comma seperated):\n"
     ]
    },
    {
     "name": "stdin",
     "output_type": "stream",
     "text": [
      " 3,4,5\n"
     ]
    },
    {
     "name": "stdout",
     "output_type": "stream",
     "text": [
      "This is a rectangle.\n"
     ]
    }
   ],
   "source": [
    "print('Input two adjoined sides and the diagonal of a parallelogram (comma seperated):')\n",
    "a,b,c = map(int , input().split(\",\"))\n",
    "if c**2 == a**2 + b**2:\n",
    "    print('This is a rectangle.')\n",
    "\n",
    "if a==b:\n",
    "    print('This ia a rhombus.')"
   ]
  },
  {
   "cell_type": "markdown",
   "id": "b756e989-7688-4ea3-86ff-419cf3ed4609",
   "metadata": {},
   "source": [
    "##### 5 WAP to replace a string \"Python\" with \"Java\" and \"Java\" with \"Python\" in a given string."
   ]
  },
  {
   "cell_type": "code",
   "execution_count": 7,
   "id": "c84e8ada-1dd5-4d58-b4aa-fd5596577ee5",
   "metadata": {},
   "outputs": [
    {
     "name": "stdout",
     "output_type": "stream",
     "text": [
      "Input a text with two words 'Python' and 'Java'\n"
     ]
    },
    {
     "name": "stdin",
     "output_type": "stream",
     "text": [
      " Python is popular than Java\n"
     ]
    },
    {
     "name": "stdout",
     "output_type": "stream",
     "text": [
      "Java is popular than Python\n"
     ]
    }
   ],
   "source": [
    "print(\"Input a text with two words 'Python' and 'Java'\")\n",
    "\n",
    "text = input().split()\n",
    "\n",
    "for i in range(len(text)):\n",
    "    if \"Python\" in text[i]:\n",
    "        n = text[i].index('Python')\n",
    "        text[i] = text[i][:n] + \"Java\" + text[i][n+6:]\n",
    "\n",
    "    elif 'Java' in text[i]:\n",
    "        n=text[i].index(\"Java\")\n",
    "        text[i] = text[i][:n] + \"Python\" + text[i][n+4:]\n",
    "\n",
    "print(*text)"
   ]
  },
  {
   "cell_type": "code",
   "execution_count": null,
   "id": "339728d9-ac65-4877-867e-0356c9e40992",
   "metadata": {},
   "outputs": [],
   "source": []
  }
 ],
 "metadata": {
  "kernelspec": {
   "display_name": "Python 3 (ipykernel)",
   "language": "python",
   "name": "python3"
  },
  "language_info": {
   "codemirror_mode": {
    "name": "ipython",
    "version": 3
   },
   "file_extension": ".py",
   "mimetype": "text/x-python",
   "name": "python",
   "nbconvert_exporter": "python",
   "pygments_lexer": "ipython3",
   "version": "3.12.4"
  }
 },
 "nbformat": 4,
 "nbformat_minor": 5
}
