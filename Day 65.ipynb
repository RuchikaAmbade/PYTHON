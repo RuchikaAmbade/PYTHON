{
 "cells": [
  {
   "cell_type": "markdown",
   "id": "6440a4fe-a52e-44ce-a36f-1a9eabf2b2a3",
   "metadata": {},
   "source": [
    "##### 1 Accept the age of four people and display the youngest one."
   ]
  },
  {
   "cell_type": "code",
   "execution_count": 4,
   "id": "e9f9f451-9aef-442c-b3ee-ca8ae4f9b55f",
   "metadata": {},
   "outputs": [
    {
     "name": "stdin",
     "output_type": "stream",
     "text": [
      "Enter age of 1st person 54\n",
      "Enter age of 2nd person 30\n",
      "Enter age of 3rd person 79\n",
      "Enter age of 4th person 81\n"
     ]
    },
    {
     "name": "stdout",
     "output_type": "stream",
     "text": [
      "b is the youngest one\n"
     ]
    }
   ],
   "source": [
    "a=int(input(\"Enter age of 1st person\"))\n",
    "b=int(input(\"Enter age of 2nd person\"))\n",
    "c=int(input(\"Enter age of 3rd person\"))\n",
    "d=int(input(\"Enter age of 4th person\"))\n",
    "if a<b and a<c and a<d:\n",
    "    print(\"a is the youngest one\")\n",
    "elif b<a and b<c and b<d:\n",
    "    print(\"b is the youngest one\")\n",
    "elif c<a and c<b and c<d:\n",
    "    print(\"c is the youngest one\")\n",
    "elif d<a and d<b and d<c:\n",
    "    print(\"d is the youngest one\")"
   ]
  },
  {
   "cell_type": "markdown",
   "id": "5732ded9-3c99-4729-8744-4b6b7f6a373c",
   "metadata": {},
   "source": [
    "##### 2 Accept the age of four people and display the oldest one"
   ]
  },
  {
   "cell_type": "code",
   "execution_count": 8,
   "id": "d4058d92-0459-4c88-882d-89f92645e5ca",
   "metadata": {},
   "outputs": [
    {
     "name": "stdin",
     "output_type": "stream",
     "text": [
      "Enter age of 1st person 30\n",
      "Enter age of 2nd person 45\n",
      "Enter age of 3rd person 78\n",
      "Enter age of 4th person 91\n"
     ]
    },
    {
     "name": "stdout",
     "output_type": "stream",
     "text": [
      "d is the oldest one\n"
     ]
    }
   ],
   "source": [
    "a=int(input(\"Enter age of 1st person\"))\n",
    "b=int(input(\"Enter age of 2nd person\"))\n",
    "c=int(input(\"Enter age of 3rd person\"))\n",
    "d=int(input(\"Enter age of 4th person\"))\n",
    "if a>b and a>c and a>d:\n",
    "    print(\"a is the oldest one\")\n",
    "elif b>a and b>c and b>d:\n",
    "    print(\"b is the oldest one\")\n",
    "elif c>a and c>b and c>d:\n",
    "    print(\"c is the oldest one\")\n",
    "elif d>a and d>b and d>c:\n",
    "    print(\"d is the oldest one\")"
   ]
  },
  {
   "cell_type": "markdown",
   "id": "34c9b2e0-94cc-4705-a78f-2a84ca0d0b10",
   "metadata": {},
   "source": [
    "##### 3 WAP to check a character is vowel or not."
   ]
  },
  {
   "cell_type": "code",
   "execution_count": 13,
   "id": "dd87f3d1-b67d-4485-af0a-5c9cc455f018",
   "metadata": {},
   "outputs": [
    {
     "name": "stdin",
     "output_type": "stream",
     "text": [
      "Enter any character u\n"
     ]
    },
    {
     "name": "stdout",
     "output_type": "stream",
     "text": [
      "Entered character is a vowel.\n"
     ]
    }
   ],
   "source": [
    "ch = str(input(\"Enter any character\"))\n",
    "k=\"aeiouAEIOU\"\n",
    "if ch in k:\n",
    "    print(\"Entered character is a vowel.\")\n",
    "else:\n",
    "    Print(\"Entered character is not a vowel.\")"
   ]
  },
  {
   "cell_type": "markdown",
   "id": "3fbd9a2d-2520-474d-b534-a9b369d86d73",
   "metadata": {},
   "source": [
    "##### 4 Accept the following from the user and calculate the percentage of class attended:\n",
    "##### a-Total no. of working days\n",
    "##### b-Total no. of days for absent\n",
    "##### After calculating percentage show that,if the percentage is < 75, than student will not be able to sit in the exam"
   ]
  },
  {
   "cell_type": "code",
   "execution_count": 18,
   "id": "0b61694f-cf3c-4b29-9b64-cbb504475cca",
   "metadata": {},
   "outputs": [
    {
     "name": "stdin",
     "output_type": "stream",
     "text": [
      "Enter total number of working days. 30\n",
      "Enter total number of absent days. 4\n"
     ]
    },
    {
     "name": "stdout",
     "output_type": "stream",
     "text": [
      "Able to sit in the exam.\n"
     ]
    }
   ],
   "source": [
    "wd = int(input(\"Enter total number of working days.\"))\n",
    "ad = int(input(\"Enter total number of absent days.\"))\n",
    "per = ((wd-ad)/wd)*100\n",
    "if per > 75:\n",
    "    print(\"Able to sit in the exam.\")\n",
    "else:\n",
    "    print(\"Not able to sit the exam\")"
   ]
  },
  {
   "cell_type": "markdown",
   "id": "8189a528-d372-464d-ae8d-820752529446",
   "metadata": {},
   "source": [
    "##### 5 WAP to print prime numbers for a given number."
   ]
  },
  {
   "cell_type": "code",
   "execution_count": 5,
   "id": "d55013d4-2a2a-4229-80c4-6ef41f006293",
   "metadata": {},
   "outputs": [
    {
     "name": "stdin",
     "output_type": "stream",
     "text": [
      "Enter any number 4\n"
     ]
    }
   ],
   "source": [
    "num = int(input(\"Enter any number\"))\n",
    "for i in range(2,num):\n",
    "    if num%i==0:\n",
    "        break\n",
    "else:\n",
    "    print(num)"
   ]
  },
  {
   "cell_type": "code",
   "execution_count": 24,
   "id": "85a761fe-b8e4-4512-84f6-468e834bff70",
   "metadata": {},
   "outputs": [
    {
     "name": "stdout",
     "output_type": "stream",
     "text": [
      "1\n",
      "2\n",
      "3\n",
      "5\n",
      "7\n",
      "11\n",
      "13\n",
      "17\n",
      "19\n",
      "23\n",
      "29\n",
      "31\n",
      "37\n",
      "41\n",
      "43\n",
      "47\n",
      "53\n",
      "59\n",
      "61\n",
      "67\n",
      "71\n",
      "73\n",
      "79\n",
      "83\n",
      "89\n",
      "97\n"
     ]
    }
   ],
   "source": [
    "for num in range(1,101):\n",
    "    for i in range(2,num):\n",
    "        if num%i==0:\n",
    "            break\n",
    "    else:\n",
    "        print(num)"
   ]
  },
  {
   "cell_type": "code",
   "execution_count": null,
   "id": "31d10f47-524b-48a2-bbd0-902816098d90",
   "metadata": {},
   "outputs": [],
   "source": []
  }
 ],
 "metadata": {
  "kernelspec": {
   "display_name": "Python 3 (ipykernel)",
   "language": "python",
   "name": "python3"
  },
  "language_info": {
   "codemirror_mode": {
    "name": "ipython",
    "version": 3
   },
   "file_extension": ".py",
   "mimetype": "text/x-python",
   "name": "python",
   "nbconvert_exporter": "python",
   "pygments_lexer": "ipython3",
   "version": "3.12.4"
  }
 },
 "nbformat": 4,
 "nbformat_minor": 5
}
