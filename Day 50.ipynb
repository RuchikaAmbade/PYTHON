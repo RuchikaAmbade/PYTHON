{
 "cells": [
  {
   "cell_type": "markdown",
   "id": "60109004-c7c9-4109-a2f1-300d0fabf7c5",
   "metadata": {},
   "source": [
    "##### 1 WAP to test if a variable is a list,tuple or set"
   ]
  },
  {
   "cell_type": "code",
   "execution_count": 11,
   "id": "528bb56e-b6bf-4fca-aa9a-255bd92e3600",
   "metadata": {},
   "outputs": [
    {
     "name": "stdout",
     "output_type": "stream",
     "text": [
      "x is a tuple\n"
     ]
    }
   ],
   "source": [
    "x=('tuple',False,3.2,1)\n",
    "if type(x) is list:\n",
    "    print('x is a list')\n",
    "elif type(x) is set:\n",
    "    print('x is a set')\n",
    "elif type(x) is tuple:\n",
    "    print('x is a tuple')\n",
    "else:\n",
    "    print('Neither a list or a set nor a tuple')"
   ]
  },
  {
   "cell_type": "markdown",
   "id": "a391dc4b-8e4e-40f2-aa3e-f12fea7929fa",
   "metadata": {},
   "source": [
    "##### 2 WAP to check whether a number is divisible by another number.Accept two interger values from the user"
   ]
  },
  {
   "cell_type": "code",
   "execution_count": 16,
   "id": "693361b1-b16e-4945-bbcc-4de9a6807f0f",
   "metadata": {},
   "outputs": [
    {
     "name": "stdout",
     "output_type": "stream",
     "text": [
      "True\n",
      "False\n"
     ]
    }
   ],
   "source": [
    "def multiple(m,n):\n",
    "    return True if m%n==0 else False\n",
    "\n",
    "print(multiple(30,5))\n",
    "print(multiple(7,2))"
   ]
  },
  {
   "cell_type": "markdown",
   "id": "ef4d156f-ded3-417f-9adc-0bd565982003",
   "metadata": {},
   "source": [
    "##### 3. WAP to find the maximum and minimum numbers from a sequence of numbers"
   ]
  },
  {
   "cell_type": "code",
   "execution_count": 27,
   "id": "4f13b9c9-2c50-4e48-b370-455218155b49",
   "metadata": {},
   "outputs": [
    {
     "name": "stdout",
     "output_type": "stream",
     "text": [
      "(75, -5)\n"
     ]
    }
   ],
   "source": [
    "def max_min(data):\n",
    "    l=data[0]\n",
    "    s=data[0]\n",
    "\n",
    "    for num in data:\n",
    "        if num >l:\n",
    "            l=num\n",
    "        elif num<s:\n",
    "            s=num\n",
    "    return l,s\n",
    "\n",
    "print(max_min([0,10,15,40,-5,42,17,28,75]))"
   ]
  },
  {
   "cell_type": "markdown",
   "id": "8b5f3abd-4a35-42de-91d6-22567defcd4f",
   "metadata": {},
   "source": [
    "##### 4 WAP that takes a positive integer and return the sum of the cube of all positive integers smaller than the specified number"
   ]
  },
  {
   "cell_type": "code",
   "execution_count": 38,
   "id": "e99e3654-b91d-4a0c-9601-b1f26ad4a368",
   "metadata": {},
   "outputs": [
    {
     "name": "stdout",
     "output_type": "stream",
     "text": [
      "784\n"
     ]
    }
   ],
   "source": [
    "num = 8\n",
    "sum=0\n",
    "for i in range(1,8):\n",
    "    sum=sum + i**3\n",
    "    \n",
    "print(sum)"
   ]
  },
  {
   "cell_type": "markdown",
   "id": "f9979b18-51a2-494f-abc7-74b972c270c0",
   "metadata": {},
   "source": [
    "##### 5 WAP to check whether a distinct pair of numbers whose product is odd is present in a sequence of integer value"
   ]
  },
  {
   "cell_type": "code",
   "execution_count": 53,
   "id": "29f90509-89e5-4e65-b37b-d8e9d4d9171d",
   "metadata": {},
   "outputs": [
    {
     "name": "stdout",
     "output_type": "stream",
     "text": [
      "False\n"
     ]
    }
   ],
   "source": [
    "nums = [2,4,6,8]\n",
    "p=1\n",
    "for i in range(len(nums)):\n",
    "    for j in range(len(nums)):\n",
    "        if i != j:\n",
    "            p=nums[i]*nums[j]\n",
    "            if p & 1:\n",
    "                print(True)\n",
    "else:\n",
    "    print(False)\n",
    "\n"
   ]
  },
  {
   "cell_type": "code",
   "execution_count": null,
   "id": "e42a1edb-a1d3-4275-8658-4b62497c55bc",
   "metadata": {},
   "outputs": [],
   "source": []
  }
 ],
 "metadata": {
  "kernelspec": {
   "display_name": "Python 3 (ipykernel)",
   "language": "python",
   "name": "python3"
  },
  "language_info": {
   "codemirror_mode": {
    "name": "ipython",
    "version": 3
   },
   "file_extension": ".py",
   "mimetype": "text/x-python",
   "name": "python",
   "nbconvert_exporter": "python",
   "pygments_lexer": "ipython3",
   "version": "3.12.4"
  }
 },
 "nbformat": 4,
 "nbformat_minor": 5
}
