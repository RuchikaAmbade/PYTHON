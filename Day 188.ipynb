{
 "cells": [
  {
   "cell_type": "markdown",
   "id": "8448aaba-0585-4fda-ab74-6b6b3533b6fb",
   "metadata": {},
   "source": [
    "Python Program for cube sum of first n natural numbers"
   ]
  },
  {
   "cell_type": "code",
   "execution_count": 2,
   "id": "89c31e0a-785e-4a94-9fc7-c18dd186ad72",
   "metadata": {},
   "outputs": [
    {
     "name": "stdout",
     "output_type": "stream",
     "text": [
      "3025\n"
     ]
    }
   ],
   "source": [
    "n=10\n",
    "sum=0\n",
    "for i in range(1,n+1):\n",
    "    sum=sum+(i**3)\n",
    "\n",
    "print(sum)"
   ]
  },
  {
   "cell_type": "code",
   "execution_count": null,
   "id": "6a783728-53cf-49ec-afee-e10fc92f3412",
   "metadata": {},
   "outputs": [],
   "source": []
  },
  {
   "cell_type": "markdown",
   "id": "6555cb38-2126-4845-925f-20ba4d0acb57",
   "metadata": {},
   "source": [
    "Python Program for Sum of squares of first n natural numbersaa"
   ]
  },
  {
   "cell_type": "code",
   "execution_count": 4,
   "id": "2560f2bd-77e3-47ef-9bbf-2b1bad71fd62",
   "metadata": {},
   "outputs": [
    {
     "name": "stdout",
     "output_type": "stream",
     "text": [
      "285\n"
     ]
    }
   ],
   "source": [
    "n=10\n",
    "sum=0\n",
    "for i in range(1,n):\n",
    "    sum+=i**2\n",
    "\n",
    "print(sum)"
   ]
  },
  {
   "cell_type": "code",
   "execution_count": null,
   "id": "f3e119a7-8280-4ea8-a361-13e2393ed019",
   "metadata": {},
   "outputs": [],
   "source": []
  },
  {
   "cell_type": "markdown",
   "id": "2259c74c-1d03-4e14-98f9-2f89a72ad51b",
   "metadata": {},
   "source": [
    "Python program to check if a string is palindrome or not\n"
   ]
  },
  {
   "cell_type": "code",
   "execution_count": 8,
   "id": "9d7cd94b-a27d-46f1-9a2e-6c9e31026677",
   "metadata": {},
   "outputs": [
    {
     "name": "stdin",
     "output_type": "stream",
     "text": [
      " MOM\n"
     ]
    },
    {
     "name": "stdout",
     "output_type": "stream",
     "text": [
      "String is palindrome.\n"
     ]
    }
   ],
   "source": [
    "str =str(input())\n",
    "rev_str = str[::-1]\n",
    "if str==rev_str:\n",
    "    print('String is palindrome.')\n",
    "else:\n",
    "    print('String is not a palindrome.')"
   ]
  },
  {
   "cell_type": "code",
   "execution_count": null,
   "id": "fa5a219e-1904-4994-b34b-4751de95bced",
   "metadata": {},
   "outputs": [],
   "source": []
  },
  {
   "cell_type": "markdown",
   "id": "e8fc00da-12a9-4044-be6d-1be6fe659eae",
   "metadata": {},
   "source": [
    "Python program to check whether the string is Symmetrical or Palindrome"
   ]
  },
  {
   "cell_type": "code",
   "execution_count": 24,
   "id": "2d9d5f1f-102a-4ff9-a7c1-d32f6e23e67f",
   "metadata": {},
   "outputs": [
    {
     "name": "stdin",
     "output_type": "stream",
     "text": [
      "Enter a string:  mommom\n"
     ]
    },
    {
     "name": "stdout",
     "output_type": "stream",
     "text": [
      "The string 'mommom' is Symmetrical.\n"
     ]
    }
   ],
   "source": [
    "# Input string\n",
    "string = input(\"Enter a string: \")\n",
    "\n",
    "# Find the length of the string\n",
    "n = len(string)\n",
    "\n",
    "# Find the middle index\n",
    "mid = n // 2\n",
    "\n",
    "# Check for symmetry\n",
    "if n % 2 == 0:  # Even length\n",
    "    if string[:mid] == string[mid:]:\n",
    "        print(f\"The string '{string}' is Symmetrical.\")\n",
    "    else:\n",
    "        print(f\"The string '{string}' is NOT Symmetrical.\")\n",
    "else:  # Odd length\n",
    "    if string[:mid] == string[mid+1:]:\n",
    "        print(f\"The string '{string}' is Symmetrical.\")\n",
    "    else:\n",
    "        print(f\"The string '{string}' is NOT Symmetrical.\")"
   ]
  },
  {
   "cell_type": "code",
   "execution_count": null,
   "id": "06cf526c-6817-483e-bc2e-be866ec61bdd",
   "metadata": {},
   "outputs": [],
   "source": []
  },
  {
   "cell_type": "markdown",
   "id": "53be3f63-a3fd-4d11-86b0-039e91eca91d",
   "metadata": {},
   "source": [
    "How to remove i’th character from string in Python"
   ]
  },
  {
   "cell_type": "code",
   "execution_count": 20,
   "id": "ded0089b-906e-4a1c-bf34-7348eba3c9ae",
   "metadata": {},
   "outputs": [
    {
     "name": "stdout",
     "output_type": "stream",
     "text": [
      "The original string is : Data is Vital\n",
      "The string after removal of ith character Daa is Vital\n"
     ]
    }
   ],
   "source": [
    "test_str = \"Data is Vital\"\n",
    "i=2  # index of the character to be removed\n",
    "new_str = test_str[:i]+test_str[i+1:]\n",
    "print('The original string is :',test_str)\n",
    "print('The string after removal of ith character',new_str)"
   ]
  },
  {
   "cell_type": "code",
   "execution_count": null,
   "id": "281b6085-49d8-4730-bf1b-db2897183660",
   "metadata": {},
   "outputs": [],
   "source": []
  },
  {
   "cell_type": "markdown",
   "id": "521104ea-af60-4276-b464-38fa62634591",
   "metadata": {},
   "source": [
    "Write code to Check if a Substring is Present in a Given String"
   ]
  },
  {
   "cell_type": "code",
   "execution_count": 12,
   "id": "45c23c3b-7bc7-4083-8a4f-6444daf6fd8e",
   "metadata": {},
   "outputs": [
    {
     "name": "stdout",
     "output_type": "stream",
     "text": [
      "Substring is present in a string.\n"
     ]
    }
   ],
   "source": [
    "str = 'Data is vital in DataScience.'\n",
    "sub_str = 'vital'\n",
    "if sub_str in str:\n",
    "    print('Substring is present in a string.')\n",
    "else:\n",
    "    print('Substring is not present in a string.')"
   ]
  },
  {
   "cell_type": "code",
   "execution_count": null,
   "id": "d316ebbc-c40f-4e4c-b1c4-54f4bfef9ce0",
   "metadata": {},
   "outputs": [],
   "source": []
  },
  {
   "cell_type": "markdown",
   "id": "9701534c-6d9c-45d6-95e4-fd03a56b87f0",
   "metadata": {},
   "source": [
    "Convert Snake case to Pascal case\n",
    "\n",
    "example :\n",
    "\n",
    "* Input--> data_is_vital\n",
    "\n",
    "* Output-> DataIsVital\n",
    "\n",
    "title()\n",
    "\n",
    "* : Used to convert the first character in each word to Uppercase and remaining characters to Lowercase in the string and returns a new string."
   ]
  },
  {
   "cell_type": "code",
   "execution_count": 26,
   "id": "8c414868-5919-423d-b25d-325b467157a6",
   "metadata": {},
   "outputs": [
    {
     "name": "stdout",
     "output_type": "stream",
     "text": [
      "DataIsVital\n"
     ]
    }
   ],
   "source": [
    "# Input string in Snake case\n",
    "snake_case = \"data_is_vital\"\n",
    "\n",
    "# Split the string by underscores, capitalize each word using title(), and join them\n",
    "pascal_case = ''.join(word.title() for word in snake_case.split('_'))\n",
    "\n",
    "# Output the result\n",
    "print(pascal_case)"
   ]
  },
  {
   "cell_type": "code",
   "execution_count": null,
   "id": "f6156280-5144-4f17-9c31-5aba578a1054",
   "metadata": {},
   "outputs": [],
   "source": []
  },
  {
   "cell_type": "markdown",
   "id": "5b659a3e-1bf5-483b-9abb-170198d28da6",
   "metadata": {},
   "source": [
    "Find length of a string"
   ]
  },
  {
   "cell_type": "code",
   "execution_count": 10,
   "id": "90767168-d290-4cb5-8b43-c01bfe2d5d26",
   "metadata": {},
   "outputs": [
    {
     "name": "stdout",
     "output_type": "stream",
     "text": [
      "The length of a given string is : 11\n"
     ]
    }
   ],
   "source": [
    "str = 'DataScience'\n",
    "print('The length of a given string is :',len(str))"
   ]
  },
  {
   "cell_type": "code",
   "execution_count": null,
   "id": "bba8c2ac-5b11-4a7b-af44-eba1e4d29e86",
   "metadata": {},
   "outputs": [],
   "source": []
  },
  {
   "cell_type": "markdown",
   "id": "0ff14314-2ee7-48f4-ad93-556e760cc58a",
   "metadata": {},
   "source": [
    "Python program to print even length words in a string\n",
    "\n",
    "* Input: s = \"This is a python language\"\n",
    "\n",
    "* Output: This is python language\n"
   ]
  },
  {
   "cell_type": "code",
   "execution_count": 22,
   "id": "374247a0-5590-4aff-b8a1-71f072c6bcef",
   "metadata": {},
   "outputs": [
    {
     "name": "stdout",
     "output_type": "stream",
     "text": [
      "This\n",
      "is\n",
      "python\n",
      "language\n"
     ]
    }
   ],
   "source": [
    "# Function to print even length words\n",
    "def print_even_words(sentence):\n",
    "    # Split the sentence into words\n",
    "    for word in sentence.split():\n",
    "        # Print the word if its length is even\n",
    "        if len(word) % 2 == 0:\n",
    "            print(word)\n",
    "\n",
    "# Input string\n",
    "s = \"This is a python language\"\n",
    "\n",
    "# Call the function\n",
    "print_even_words(s)"
   ]
  },
  {
   "cell_type": "code",
   "execution_count": null,
   "id": "91db6bc8-dbd1-4438-a92f-020374044fb0",
   "metadata": {},
   "outputs": [],
   "source": []
  },
  {
   "cell_type": "markdown",
   "id": "92b2094b-fcc5-4154-834a-0eb94f1d6326",
   "metadata": {},
   "source": [
    "Python code to remove all duplicates from a given string in Python"
   ]
  },
  {
   "cell_type": "code",
   "execution_count": 11,
   "id": "8e95df3b-063f-4a40-b3cd-1a6e1f55a59b",
   "metadata": {},
   "outputs": [
    {
     "name": "stdout",
     "output_type": "stream",
     "text": [
      "Datisvl\n"
     ]
    }
   ],
   "source": [
    "str = \"Dataisvital\"\n",
    "new_str = \"\"\n",
    "for i in str:\n",
    "    if i not in new_str:\n",
    "        new_str=new_str+i\n",
    "\n",
    "print(new_str)"
   ]
  },
  {
   "cell_type": "code",
   "execution_count": null,
   "id": "9b998ab5-122f-481d-913e-32b339ef6d13",
   "metadata": {},
   "outputs": [],
   "source": []
  }
 ],
 "metadata": {
  "kernelspec": {
   "display_name": "Python 3 (ipykernel)",
   "language": "python",
   "name": "python3"
  },
  "language_info": {
   "codemirror_mode": {
    "name": "ipython",
    "version": 3
   },
   "file_extension": ".py",
   "mimetype": "text/x-python",
   "name": "python",
   "nbconvert_exporter": "python",
   "pygments_lexer": "ipython3",
   "version": "3.12.4"
  }
 },
 "nbformat": 4,
 "nbformat_minor": 5
}
