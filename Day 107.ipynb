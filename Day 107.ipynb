{
 "cells": [
  {
   "cell_type": "code",
   "execution_count": 1,
   "id": "be6f1a99-a3c5-4d40-a22f-b6d786191bcc",
   "metadata": {},
   "outputs": [
    {
     "name": "stdin",
     "output_type": "stream",
     "text": [
      "Enter any number 80\n"
     ]
    },
    {
     "name": "stdout",
     "output_type": "stream",
     "text": [
      "Number is not divisible by 7\n"
     ]
    }
   ],
   "source": [
    "# WAP to check whether a number is divisible by 7 or not\n",
    "\n",
    "num=int(input(\"Enter any number\"))\n",
    "if num%7==0:\n",
    "    print(\"Number is divisible by 7\")\n",
    "else:\n",
    "    print(\"Number is not divisible by 7\")"
   ]
  },
  {
   "cell_type": "code",
   "execution_count": 9,
   "id": "d12cc63a-81b4-45f9-b899-edfce18765e4",
   "metadata": {},
   "outputs": [
    {
     "name": "stdin",
     "output_type": "stream",
     "text": [
      "Enter any number 90\n"
     ]
    },
    {
     "name": "stdout",
     "output_type": "stream",
     "text": [
      "Hello\n"
     ]
    }
   ],
   "source": [
    "# WAP to display \"Hello\" if a number entered by user is a multiple of 5, o.w. print \"Bye\"\n",
    "\n",
    "n=int(input(\"Enter any number\"))\n",
    "if n%5==0:\n",
    "    print(\"Hello\")\n",
    "else:\n",
    "    print(\"Bye\")"
   ]
  },
  {
   "cell_type": "code",
   "execution_count": 13,
   "id": "6eb56161-8e00-4450-9016-31d2328f9918",
   "metadata": {},
   "outputs": [
    {
     "name": "stdin",
     "output_type": "stream",
     "text": [
      "Enter year 2002\n"
     ]
    },
    {
     "name": "stdout",
     "output_type": "stream",
     "text": [
      "Entered year is not leap year\n"
     ]
    }
   ],
   "source": [
    "# WAP to check whether an year is leap year or not\n",
    "\n",
    "yr=int(input(\"Enter year\"))\n",
    "if yr%400==0:\n",
    "    if yr%100==0:\n",
    "        print(\"Entered year is leap year\")\n",
    "    else:\n",
    "        print(\"Entered year is not leap year\")\n",
    "else:\n",
    "    if yr%4==0:\n",
    "        print(\"Entered year ia leap year\")\n",
    "    else:\n",
    "        print(\"Entered year is not leap year\")"
   ]
  },
  {
   "cell_type": "code",
   "execution_count": null,
   "id": "84dbf1c0-53ca-48be-8f32-e716524bae47",
   "metadata": {},
   "outputs": [],
   "source": []
  }
 ],
 "metadata": {
  "kernelspec": {
   "display_name": "Python 3 (ipykernel)",
   "language": "python",
   "name": "python3"
  },
  "language_info": {
   "codemirror_mode": {
    "name": "ipython",
    "version": 3
   },
   "file_extension": ".py",
   "mimetype": "text/x-python",
   "name": "python",
   "nbconvert_exporter": "python",
   "pygments_lexer": "ipython3",
   "version": "3.12.4"
  }
 },
 "nbformat": 4,
 "nbformat_minor": 5
}
