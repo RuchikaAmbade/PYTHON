{
 "cells": [
  {
   "cell_type": "markdown",
   "id": "e4876fe2-6c72-4b13-9fa3-6b20bbd2b8dd",
   "metadata": {},
   "source": [
    "##### WAP to print a string 'NO' using '*'"
   ]
  },
  {
   "cell_type": "code",
   "execution_count": 1,
   "id": "e6c804aa-2a09-409e-885d-6f556d4d8f6b",
   "metadata": {},
   "outputs": [
    {
     "name": "stdout",
     "output_type": "stream",
     "text": [
      "*    * **** \n",
      "**   **    *\n",
      "* *  **    *\n",
      "*  * **    *\n",
      "*   ***    *\n",
      "*    * **** \n"
     ]
    }
   ],
   "source": [
    "str1 = 'NO'\n",
    "print_N = [[\" \" for i in range(6)] for j in range(6)]\n",
    "print_O = [[\" \" for i in range(6)] for j in range(6)]\n",
    "\n",
    "# code for N\n",
    "for row in range(6):\n",
    "    for col in range(6):\n",
    "        if col==0 or col==5 or row==col:\n",
    "            print_N[row][col] = '*'\n",
    "\n",
    "# code for O\n",
    "for row in range(6):\n",
    "    for col in range(6):\n",
    "        if ((row==0 or row==5) and (col!=0 and col!=5)) or (col==0 or col==5) and (row!=0 and row!=5):\n",
    "            print_O[row][col] = '*'\n",
    "\n",
    "for i in range(6):\n",
    "    for j in range(6):\n",
    "        print(print_N[i][j],end = '')\n",
    "    for j in range(6):\n",
    "        print(print_O[i][j],end = '')\n",
    "    print()"
   ]
  },
  {
   "cell_type": "code",
   "execution_count": null,
   "id": "89609aa0-e35f-42c0-be29-280daa09c8be",
   "metadata": {},
   "outputs": [],
   "source": []
  }
 ],
 "metadata": {
  "kernelspec": {
   "display_name": "Python 3 (ipykernel)",
   "language": "python",
   "name": "python3"
  },
  "language_info": {
   "codemirror_mode": {
    "name": "ipython",
    "version": 3
   },
   "file_extension": ".py",
   "mimetype": "text/x-python",
   "name": "python",
   "nbconvert_exporter": "python",
   "pygments_lexer": "ipython3",
   "version": "3.12.4"
  }
 },
 "nbformat": 4,
 "nbformat_minor": 5
}
