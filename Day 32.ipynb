{
 "cells": [
  {
   "cell_type": "markdown",
   "id": "046b7889-ce3b-449e-be7a-1b47869d4ed9",
   "metadata": {},
   "source": [
    "##### 1 WAP to print P using '*'"
   ]
  },
  {
   "cell_type": "code",
   "execution_count": 53,
   "id": "4f532b53-eade-49b8-a65c-4c8cc1d4f5ea",
   "metadata": {},
   "outputs": [
    {
     "name": "stdout",
     "output_type": "stream",
     "text": [
      "* * * *   \n",
      "*       * \n",
      "*       * \n",
      "* * * *   \n",
      "*         \n",
      "*         \n",
      "*         \n"
     ]
    }
   ],
   "source": [
    "for row in range(7):\n",
    "    for col in range(5):\n",
    "        if col==0 or (col==4 and (row==1 or row==2)) or ((row==0 or row==3) and (col>0 and col<4)):\n",
    "            print('*',end=' ')\n",
    "        else:\n",
    "            print(' ',end=' ')\n",
    "    print()"
   ]
  },
  {
   "cell_type": "markdown",
   "id": "c638f8a5-849a-4825-a95d-0c1beec2e4d2",
   "metadata": {},
   "source": [
    "##### 2 WAP to print Q using '*'"
   ]
  },
  {
   "cell_type": "code",
   "execution_count": 51,
   "id": "e59ca478-beea-42ae-94b3-151cd8c5c4e6",
   "metadata": {},
   "outputs": [
    {
     "name": "stdout",
     "output_type": "stream",
     "text": [
      "  * * *   \n",
      "*       * \n",
      "*       * \n",
      "*       * \n",
      "*       * \n",
      "* *     * \n",
      "  * * *   \n",
      "      *   \n"
     ]
    }
   ],
   "source": [
    "for row in range(8):\n",
    "    for col in range(5):\n",
    "        if ((col==0 or col==4) and (row>0 and row<6)) or ((row==0 or row==6) and (col>0 and col<4)) or (row==5 and col==1) or (row==7 and col==3):\n",
    "            print('*',end=' ')\n",
    "        else:\n",
    "            print(' ',end=' ')\n",
    "    print()"
   ]
  },
  {
   "cell_type": "markdown",
   "id": "2f5540e6-e658-438a-bbde-91081d6bc72a",
   "metadata": {},
   "source": [
    "##### 3 WAP to print R using '*'"
   ]
  },
  {
   "cell_type": "code",
   "execution_count": 49,
   "id": "be3a5399-dccd-4a9e-a6a5-6e2fe977ce66",
   "metadata": {},
   "outputs": [
    {
     "name": "stdout",
     "output_type": "stream",
     "text": [
      "* * * *   \n",
      "*       * \n",
      "*       * \n",
      "* * * *   \n",
      "*       * \n",
      "*       * \n",
      "*       * \n"
     ]
    }
   ],
   "source": [
    "for row in range(7):\n",
    "    for col in range(5):\n",
    "        if col==0 or (col==4 and (row!=0 and row!=3)) or ((row==0 or row==3) and (col>0 and col<4)):\n",
    "            print('*',end=' ')\n",
    "        else:\n",
    "            print(' ',end=' ')\n",
    "    print()"
   ]
  },
  {
   "cell_type": "markdown",
   "id": "262e0e23-d938-4f60-bff0-ddf3ebdc6903",
   "metadata": {},
   "source": [
    "##### 4 WAP to print S using '*'"
   ]
  },
  {
   "cell_type": "code",
   "execution_count": 45,
   "id": "00b6abed-3fd0-4621-bf8b-130c315ea8b9",
   "metadata": {},
   "outputs": [
    {
     "name": "stdout",
     "output_type": "stream",
     "text": [
      "  * * *   \n",
      "*         \n",
      "*         \n",
      "  * * *   \n",
      "        * \n",
      "        * \n",
      "  * * *   \n"
     ]
    }
   ],
   "source": [
    "for row in range(7):\n",
    "    for col in range(5):\n",
    "        if (col==0 and (row==1 or row==2)) or (col==4 and (row==4 or row==5)) or ((row==0 or row==3 or row==6) and (col>0 and col<4)):\n",
    "            print('*',end=' ')\n",
    "        else:\n",
    "            print(' ',end=' ')\n",
    "    print()"
   ]
  },
  {
   "cell_type": "markdown",
   "id": "d2ff46e9-eff0-4baa-8865-e71ecb9fb646",
   "metadata": {},
   "source": [
    "##### 5 WAP to print T using '*'"
   ]
  },
  {
   "cell_type": "code",
   "execution_count": 41,
   "id": "e385146b-2a03-4e89-b264-b2c8b7776e25",
   "metadata": {},
   "outputs": [
    {
     "name": "stdout",
     "output_type": "stream",
     "text": [
      "* * * * * \n",
      "    *     \n",
      "    *     \n",
      "    *     \n",
      "    *     \n",
      "    *     \n",
      "    *     \n"
     ]
    }
   ],
   "source": [
    "for row in range(7):\n",
    "    for col in range(5):\n",
    "        if col==2 or row==0:\n",
    "            print('*',end=' ')\n",
    "        else:\n",
    "            print(' ',end=' ')\n",
    "    print()"
   ]
  },
  {
   "cell_type": "markdown",
   "id": "b150513c-079e-469e-aced-2569b335f191",
   "metadata": {},
   "source": [
    "##### 6 WAP to generate a list and tuple with comma seperated numbers"
   ]
  },
  {
   "cell_type": "code",
   "execution_count": 3,
   "id": "256cf382-ac2e-47e0-8032-11ab98f5b418",
   "metadata": {},
   "outputs": [
    {
     "name": "stdin",
     "output_type": "stream",
     "text": [
      "Enter numbers :  4,2,5,7,6,3\n"
     ]
    },
    {
     "name": "stdout",
     "output_type": "stream",
     "text": [
      "List : ['4', '2', '5', '7', '6', '3']\n",
      "Tuple : ('4', '2', '5', '7', '6', '3')\n"
     ]
    }
   ],
   "source": [
    "num=input('Enter numbers : ')\n",
    "list1=num.split(\",\")\n",
    "tuple1=tuple(list1)\n",
    "print('List :',list1)\n",
    "print('Tuple :',tuple1)"
   ]
  },
  {
   "cell_type": "markdown",
   "id": "b63db66e-8121-485a-babe-96c505334cb5",
   "metadata": {},
   "source": [
    "##### 7 WAP that accepts a filename from the user and prints the extension of the file"
   ]
  },
  {
   "cell_type": "code",
   "execution_count": 7,
   "id": "5156979a-51bb-4092-98f9-665948ab77c5",
   "metadata": {},
   "outputs": [
    {
     "name": "stdin",
     "output_type": "stream",
     "text": [
      "Enter file name abc.java\n"
     ]
    },
    {
     "name": "stdout",
     "output_type": "stream",
     "text": [
      "The extension of file name is : java\n"
     ]
    }
   ],
   "source": [
    "file=input('Enter file name')\n",
    "extn = file.split(\".\")\n",
    "print('The extension of file name is :',extn[-1])"
   ]
  },
  {
   "cell_type": "markdown",
   "id": "9866bfef-09b0-4b1e-aafc-f3d19913f7bc",
   "metadata": {},
   "source": [
    "##### 8 WAP to display the first and last color for the given list"
   ]
  },
  {
   "cell_type": "code",
   "execution_count": 19,
   "id": "abc200c5-45d9-4a4f-8051-59e8aa9481d0",
   "metadata": {},
   "outputs": [
    {
     "name": "stdout",
     "output_type": "stream",
     "text": [
      "Red\n",
      "Black\n"
     ]
    }
   ],
   "source": [
    "color_list=['Red','Green','White','Black']\n",
    "print(color_list[0])\n",
    "print(color_list[-1])"
   ]
  },
  {
   "cell_type": "markdown",
   "id": "d5c9b93a-5909-45c7-9a84-228e8f9c8e7c",
   "metadata": {},
   "source": [
    "##### 9 WAP to display the examination schedule"
   ]
  },
  {
   "cell_type": "code",
   "execution_count": 25,
   "id": "864c4c92-7354-4c1c-9c3d-d4cbd9e91107",
   "metadata": {},
   "outputs": [
    {
     "name": "stdout",
     "output_type": "stream",
     "text": [
      " The exam will starts from : 14 /9 /2024\n"
     ]
    }
   ],
   "source": [
    "exam_date=(14,9,2024)\n",
    "print(\" The exam will starts from : %i /%i /%i\" %  exam_date )"
   ]
  },
  {
   "cell_type": "markdown",
   "id": "c81d868d-ecc2-4130-af15-c7d1a588453d",
   "metadata": {},
   "source": [
    "##### 10 WAP that accepts an integer(n) and computes the value of n+nn+nnn"
   ]
  },
  {
   "cell_type": "code",
   "execution_count": 39,
   "id": "833bba26-5918-4089-b08f-b013335e0d24",
   "metadata": {},
   "outputs": [
    {
     "name": "stdin",
     "output_type": "stream",
     "text": [
      "Enter any number : 5\n"
     ]
    },
    {
     "name": "stdout",
     "output_type": "stream",
     "text": [
      "615\n"
     ]
    }
   ],
   "source": [
    "a=int(input('Enter any number :'))\n",
    "n1=int('%s' % a)\n",
    "n2=int('%s%s' % (a,a))\n",
    "n3=int('%s%s%s' % (a,a,a))\n",
    "print(n1+n2+n3)"
   ]
  },
  {
   "cell_type": "code",
   "execution_count": null,
   "id": "492d0cf2-8bc0-4887-9651-3bb1660d81e6",
   "metadata": {},
   "outputs": [],
   "source": []
  }
 ],
 "metadata": {
  "kernelspec": {
   "display_name": "Python 3 (ipykernel)",
   "language": "python",
   "name": "python3"
  },
  "language_info": {
   "codemirror_mode": {
    "name": "ipython",
    "version": 3
   },
   "file_extension": ".py",
   "mimetype": "text/x-python",
   "name": "python",
   "nbconvert_exporter": "python",
   "pygments_lexer": "ipython3",
   "version": "3.12.4"
  }
 },
 "nbformat": 4,
 "nbformat_minor": 5
}
