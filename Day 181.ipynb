{
 "cells": [
  {
   "cell_type": "markdown",
   "id": "7a575fc8-daa2-4a8c-bb42-7bebcb900675",
   "metadata": {},
   "source": [
    "Python program to convert the temperature in degree centigrade to Fahrenheit"
   ]
  },
  {
   "cell_type": "code",
   "execution_count": 5,
   "id": "a13a4820-c33e-4a38-8722-45b9b5539ab3",
   "metadata": {},
   "outputs": [
    {
     "name": "stdin",
     "output_type": "stream",
     "text": [
      "Enter temperature in centigrade: 45\n"
     ]
    },
    {
     "name": "stdout",
     "output_type": "stream",
     "text": [
      "Temperature in Fahrenheit is: 113.0\n"
     ]
    }
   ],
   "source": [
    "c = input('Enter temperature in centigrade:')\n",
    "f = (int(c)*(9/5))+32\n",
    "print('Temperature in Fahrenheit is:',f)"
   ]
  },
  {
   "cell_type": "markdown",
   "id": "f5cb0249-132b-4e14-b433-ea5c4e07c448",
   "metadata": {},
   "source": [
    "Python program to find the area of a triangle whose sides are given"
   ]
  },
  {
   "cell_type": "code",
   "execution_count": 7,
   "id": "6f9fca3e-1cbc-4942-81a0-0aa21cd530a4",
   "metadata": {},
   "outputs": [
    {
     "name": "stdin",
     "output_type": "stream",
     "text": [
      "Enter the length of side a : 3\n",
      "Enter the length of side b : 4\n",
      "Enter the length of side c : 5\n"
     ]
    },
    {
     "name": "stdout",
     "output_type": "stream",
     "text": [
      "Area of triangle is  6.0\n"
     ]
    }
   ],
   "source": [
    "from math import sqrt\n",
    "a = float(input('Enter the length of side a :'))\n",
    "b = float(input('Enter the length of side b :'))\n",
    "c = float(input('Enter the length of side c :'))\n",
    "s = (a+b+c)/2   # s is semi parameter of the triangle\n",
    "area = sqrt(s*(s-a)*(s-b)*(s-c))\n",
    "print('Area of triangle is ',area)"
   ]
  },
  {
   "cell_type": "markdown",
   "id": "ea04c496-837f-47c4-9dfc-995cb62a1b8b",
   "metadata": {},
   "source": [
    "Python program to check whether the given integer is a multiple of 5"
   ]
  },
  {
   "cell_type": "code",
   "execution_count": 13,
   "id": "635ac39c-292b-4a34-a8ec-0ab4b877ccd1",
   "metadata": {},
   "outputs": [
    {
     "name": "stdin",
     "output_type": "stream",
     "text": [
      " 35\n"
     ]
    },
    {
     "name": "stdout",
     "output_type": "stream",
     "text": [
      "35 is divisible by 5.\n"
     ]
    }
   ],
   "source": [
    "n=int(input())\n",
    "if n%5==0:\n",
    "    print(n,'is divisible by 5.')\n",
    "else:\n",
    "    print(n,'is not divisible by 5.')"
   ]
  },
  {
   "cell_type": "markdown",
   "id": "6835c580-3a2a-43a6-9e27-cfc4098f786f",
   "metadata": {},
   "source": [
    "Python program to check whether the given integer is a multiple of both 5 and 7"
   ]
  },
  {
   "cell_type": "code",
   "execution_count": 11,
   "id": "2fc830f9-2d7e-4f90-870b-a09718e17e75",
   "metadata": {},
   "outputs": [
    {
     "name": "stdin",
     "output_type": "stream",
     "text": [
      "Enter any integer: 35\n"
     ]
    },
    {
     "name": "stdout",
     "output_type": "stream",
     "text": [
      "Number is divisible by both 5 and 7.\n"
     ]
    }
   ],
   "source": [
    "n=int(input('Enter any integer:'))\n",
    "if (n%7==0 and n%5==0):\n",
    "    print('Number is divisible by both 5 and 7.')\n",
    "else:\n",
    "    print('Number is not divisible by both 5 and 7.')"
   ]
  },
  {
   "cell_type": "markdown",
   "id": "037069f0-ba7c-4631-892c-20e1d908224d",
   "metadata": {},
   "source": [
    "Python program to display the given integer in reverse manner"
   ]
  },
  {
   "cell_type": "code",
   "execution_count": 5,
   "id": "7cd9a6e9-4b55-4b80-92f4-d49225f9ff9e",
   "metadata": {},
   "outputs": [
    {
     "name": "stdout",
     "output_type": "stream",
     "text": [
      "321\n"
     ]
    }
   ],
   "source": [
    "n=123\n",
    "rem=0\n",
    "res=0\n",
    "while n!=0:\n",
    "    rem=n%10\n",
    "    res=(res*10)+rem\n",
    "    n=n//10\n",
    "print(res)"
   ]
  },
  {
   "cell_type": "markdown",
   "id": "9886780b-98af-43ed-b981-cdcc42f4d3f0",
   "metadata": {},
   "source": [
    " Python program to find the sum of the digits of an integer using while loop"
   ]
  },
  {
   "cell_type": "code",
   "execution_count": 3,
   "id": "d89a1601-d181-416c-adbf-e8fb21655a86",
   "metadata": {},
   "outputs": [
    {
     "name": "stdout",
     "output_type": "stream",
     "text": [
      "6\n"
     ]
    }
   ],
   "source": [
    "n=123\n",
    "rem=0\n",
    "sum=0\n",
    "while n!=0:\n",
    "    rem=n%10\n",
    "    sum=sum+rem\n",
    "    n=n//10\n",
    "print(sum)"
   ]
  },
  {
   "cell_type": "markdown",
   "id": "10475f2d-bbbd-4ee0-b195-a12f1af1baa7",
   "metadata": {},
   "source": [
    "Python program to display all the multiples of 3 within the range 10 to 50"
   ]
  },
  {
   "cell_type": "code",
   "execution_count": 23,
   "id": "8221746c-2610-4889-91f8-2e67dfec6a35",
   "metadata": {},
   "outputs": [
    {
     "name": "stdout",
     "output_type": "stream",
     "text": [
      "12\n",
      "15\n",
      "18\n",
      "21\n",
      "24\n",
      "27\n",
      "30\n",
      "33\n",
      "36\n",
      "39\n",
      "42\n",
      "45\n",
      "48\n"
     ]
    }
   ],
   "source": [
    "for i in range(10,50):\n",
    "    if i%3==0:\n",
    "        print(i)"
   ]
  },
  {
   "cell_type": "markdown",
   "id": "70b0c958-d18e-4db1-bb88-b99e74c19acd",
   "metadata": {},
   "source": [
    "Python program to display all integers within the range 100-200 whose sum of digits is an even number"
   ]
  },
  {
   "cell_type": "code",
   "execution_count": 19,
   "id": "d383cea8-cf5c-4001-814a-fd773714f9a8",
   "metadata": {},
   "outputs": [
    {
     "name": "stdout",
     "output_type": "stream",
     "text": [
      "101\n",
      "103\n",
      "105\n",
      "107\n",
      "109\n",
      "110\n",
      "112\n",
      "114\n",
      "116\n",
      "118\n",
      "121\n",
      "123\n",
      "125\n",
      "127\n",
      "129\n",
      "130\n",
      "132\n",
      "134\n",
      "136\n",
      "138\n",
      "141\n",
      "143\n",
      "145\n",
      "147\n",
      "149\n",
      "150\n",
      "152\n",
      "154\n",
      "156\n",
      "158\n",
      "161\n",
      "163\n",
      "165\n",
      "167\n",
      "169\n",
      "170\n",
      "172\n",
      "174\n",
      "176\n",
      "178\n",
      "181\n",
      "183\n",
      "185\n",
      "187\n",
      "189\n",
      "190\n",
      "192\n",
      "194\n",
      "196\n",
      "198\n"
     ]
    }
   ],
   "source": [
    "for i in range(100,200):\n",
    "    n=i\n",
    "    rem=0\n",
    "    sum=0\n",
    "    while n!=0:\n",
    "        rem=n%10\n",
    "        sum=sum+rem\n",
    "        n=n//10\n",
    "    if sum%2==0:\n",
    "        print(i)"
   ]
  },
  {
   "cell_type": "code",
   "execution_count": null,
   "id": "771585c3-c977-47ab-8dcd-c45eb82770b7",
   "metadata": {},
   "outputs": [],
   "source": []
  }
 ],
 "metadata": {
  "kernelspec": {
   "display_name": "Python 3 (ipykernel)",
   "language": "python",
   "name": "python3"
  },
  "language_info": {
   "codemirror_mode": {
    "name": "ipython",
    "version": 3
   },
   "file_extension": ".py",
   "mimetype": "text/x-python",
   "name": "python",
   "nbconvert_exporter": "python",
   "pygments_lexer": "ipython3",
   "version": "3.12.4"
  }
 },
 "nbformat": 4,
 "nbformat_minor": 5
}
