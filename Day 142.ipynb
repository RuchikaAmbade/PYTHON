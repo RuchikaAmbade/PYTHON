{
 "cells": [
  {
   "cell_type": "markdown",
   "id": "61e73a23-0c11-4959-9fa3-9b6f1e796a8e",
   "metadata": {},
   "source": [
    "##### WAP to check whether an year is leap year or not"
   ]
  },
  {
   "cell_type": "code",
   "execution_count": 2,
   "id": "ff8e8276-e9d5-47b9-a901-ceb8c275dfa0",
   "metadata": {},
   "outputs": [
    {
     "name": "stdin",
     "output_type": "stream",
     "text": [
      "Enter year 2004\n"
     ]
    },
    {
     "name": "stdout",
     "output_type": "stream",
     "text": [
      "Entered year ia leap year\n"
     ]
    }
   ],
   "source": [
    "yr=int(input(\"Enter year\"))\n",
    "if yr%400==0:\n",
    "    if yr%100==0:\n",
    "        print(\"Entered year is leap year\")\n",
    "    else:\n",
    "        print(\"Entered year is not leap year\")\n",
    "else:\n",
    "    if yr%4==0:\n",
    "        print(\"Entered year ia leap year\")\n",
    "    else:\n",
    "        print(\"Entered year is not leap year\")"
   ]
  },
  {
   "cell_type": "code",
   "execution_count": null,
   "id": "eaefb244-b27e-4a9f-8790-32aa2a04496d",
   "metadata": {},
   "outputs": [],
   "source": [
    "##### WAP to accept a number from 1 to 7 and display the name of the day like 1 for sunday, 2 for monday"
   ]
  },
  {
   "cell_type": "code",
   "execution_count": 4,
   "id": "0648a08c-e8d7-4d00-9233-bdef3afc5cc8",
   "metadata": {},
   "outputs": [
    {
     "name": "stdin",
     "output_type": "stream",
     "text": [
      "Enter any number from 1 to 7 7\n"
     ]
    },
    {
     "name": "stdout",
     "output_type": "stream",
     "text": [
      "Saturday\n"
     ]
    }
   ],
   "source": [
    "n=int(input(\"Enter any number from 1 to 7\"))\n",
    "if n==1:\n",
    "    print(\"Sunday\")\n",
    "elif n==2:\n",
    "    print(\"Monday\")\n",
    "elif n==3:\n",
    "    print(\"Tuesnday\")\n",
    "elif n==4:\n",
    "    print(\"Wednesday\")\n",
    "elif n==5:\n",
    "    print(\"Thursday\")\n",
    "elif n==6:\n",
    "    print(\"Friday\")\n",
    "elif n==7:\n",
    "    print(\"Saturday\")\n",
    "else:\n",
    "    print(\"Wrong input\")"
   ]
  },
  {
   "cell_type": "code",
   "execution_count": null,
   "id": "d0dd142a-b106-4b0e-9b9f-3d47f2952f1d",
   "metadata": {},
   "outputs": [],
   "source": []
  }
 ],
 "metadata": {
  "kernelspec": {
   "display_name": "Python 3 (ipykernel)",
   "language": "python",
   "name": "python3"
  },
  "language_info": {
   "codemirror_mode": {
    "name": "ipython",
    "version": 3
   },
   "file_extension": ".py",
   "mimetype": "text/x-python",
   "name": "python",
   "nbconvert_exporter": "python",
   "pygments_lexer": "ipython3",
   "version": "3.12.4"
  }
 },
 "nbformat": 4,
 "nbformat_minor": 5
}
