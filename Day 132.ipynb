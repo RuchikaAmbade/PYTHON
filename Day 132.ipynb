{
 "cells": [
  {
   "cell_type": "markdown",
   "id": "d04e54dd-786f-48a9-8d06-8c9ab71b3b98",
   "metadata": {},
   "source": [
    "##### WAP to calculate the length of a string"
   ]
  },
  {
   "cell_type": "code",
   "execution_count": 2,
   "id": "1f6548b5-980f-42b8-83c2-2a554a304e25",
   "metadata": {},
   "outputs": [
    {
     "name": "stdout",
     "output_type": "stream",
     "text": [
      "6\n"
     ]
    }
   ],
   "source": [
    "def string_length(str1):\n",
    "    count = 0\n",
    "\n",
    "    for char in str1:\n",
    "        count += 1\n",
    "\n",
    "    return count\n",
    "\n",
    "print(string_length('python'))"
   ]
  }
 ],
 "metadata": {
  "kernelspec": {
   "display_name": "Python 3 (ipykernel)",
   "language": "python",
   "name": "python3"
  },
  "language_info": {
   "codemirror_mode": {
    "name": "ipython",
    "version": 3
   },
   "file_extension": ".py",
   "mimetype": "text/x-python",
   "name": "python",
   "nbconvert_exporter": "python",
   "pygments_lexer": "ipython3",
   "version": "3.12.4"
  }
 },
 "nbformat": 4,
 "nbformat_minor": 5
}
