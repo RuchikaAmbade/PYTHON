{
 "cells": [
  {
   "cell_type": "markdown",
   "id": "f619ce23-fc3f-4226-99ab-d9b72bfa9cc7",
   "metadata": {},
   "source": [
    "##### 1"
   ]
  },
  {
   "cell_type": "code",
   "execution_count": 1,
   "id": "d32c38fb-5fa8-4f29-addd-63cc1f330ece",
   "metadata": {},
   "outputs": [
    {
     "data": {
      "text/plain": [
       "23"
      ]
     },
     "execution_count": 1,
     "metadata": {},
     "output_type": "execute_result"
    }
   ],
   "source": [
    "def add(a,b):\n",
    "    res=a+b\n",
    "    return res\n",
    "\n",
    "add(9,14)"
   ]
  },
  {
   "cell_type": "markdown",
   "id": "efbdb682-3bd2-43f4-87eb-6c278fe7ea5a",
   "metadata": {},
   "source": [
    "##### 2"
   ]
  },
  {
   "cell_type": "code",
   "execution_count": 3,
   "id": "381d2c9d-1a78-4232-a82b-712d88010513",
   "metadata": {},
   "outputs": [
    {
     "name": "stdout",
     "output_type": "stream",
     "text": [
      "Multiplication of 'a' and 'b' is : 56\n"
     ]
    }
   ],
   "source": [
    "def multiply(a,b):\n",
    "    res=a*b\n",
    "    print(\"Multiplication of 'a' and 'b' is :\",res)\n",
    "\n",
    "multiply(8,7)"
   ]
  },
  {
   "cell_type": "markdown",
   "id": "0f7a0352-3043-4d01-9dbb-1930f9f86f7f",
   "metadata": {},
   "source": [
    "##### 3"
   ]
  },
  {
   "cell_type": "code",
   "execution_count": 5,
   "id": "61efc96f-6e03-447e-ac62-e25e58f586a8",
   "metadata": {},
   "outputs": [
    {
     "data": {
      "text/plain": [
       "3.0"
      ]
     },
     "execution_count": 5,
     "metadata": {},
     "output_type": "execute_result"
    }
   ],
   "source": [
    "def divide():\n",
    "    a=6\n",
    "    b=2\n",
    "    c=a/b\n",
    "    return c\n",
    "\n",
    "divide()"
   ]
  },
  {
   "cell_type": "markdown",
   "id": "9549abcb-abd3-4768-866c-15c849c4363b",
   "metadata": {},
   "source": [
    "##### 4"
   ]
  },
  {
   "cell_type": "code",
   "execution_count": 7,
   "id": "618d2e2d-c311-47a3-97fc-1cd6e1677edf",
   "metadata": {},
   "outputs": [
    {
     "name": "stdout",
     "output_type": "stream",
     "text": [
      "Subraction of 'a' and 'b' : 82\n"
     ]
    }
   ],
   "source": [
    "def subtract():\n",
    "    a=89\n",
    "    b=7\n",
    "    c=a-b\n",
    "    print(\"Subraction of 'a' and 'b' :\",c)\n",
    "\n",
    "subtract()"
   ]
  },
  {
   "cell_type": "markdown",
   "id": "67a7e8cf-8466-4d59-b3cc-845543974d09",
   "metadata": {},
   "source": [
    "##### 5"
   ]
  },
  {
   "cell_type": "code",
   "execution_count": 9,
   "id": "f321748f-0c9e-4eba-8bc0-2a507dad1946",
   "metadata": {},
   "outputs": [
    {
     "data": {
      "text/plain": [
       "64"
      ]
     },
     "execution_count": 9,
     "metadata": {},
     "output_type": "execute_result"
    }
   ],
   "source": [
    "# area of square\n",
    "def area_of_square(s):\n",
    "    area=s**2\n",
    "    return area\n",
    "\n",
    "area_of_square(8)"
   ]
  },
  {
   "cell_type": "code",
   "execution_count": null,
   "id": "e608a1d3-7296-494e-af41-ffc9b0b06bef",
   "metadata": {},
   "outputs": [],
   "source": []
  }
 ],
 "metadata": {
  "kernelspec": {
   "display_name": "Python 3 (ipykernel)",
   "language": "python",
   "name": "python3"
  },
  "language_info": {
   "codemirror_mode": {
    "name": "ipython",
    "version": 3
   },
   "file_extension": ".py",
   "mimetype": "text/x-python",
   "name": "python",
   "nbconvert_exporter": "python",
   "pygments_lexer": "ipython3",
   "version": "3.12.4"
  }
 },
 "nbformat": 4,
 "nbformat_minor": 5
}
