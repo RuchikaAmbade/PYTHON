{
 "cells": [
  {
   "cell_type": "markdown",
   "id": "98b49def-f236-4cd1-98e6-dc6e792cf725",
   "metadata": {},
   "source": [
    "##### WAP to display the first and last color for the given list"
   ]
  },
  {
   "cell_type": "code",
   "execution_count": 2,
   "id": "0d204ea2-2c5c-4e44-87af-f6d04231f5c0",
   "metadata": {},
   "outputs": [
    {
     "name": "stdout",
     "output_type": "stream",
     "text": [
      "Red\n",
      "Black\n"
     ]
    }
   ],
   "source": [
    "color_list=['Red','Green','White','Black']\n",
    "print(color_list[0])\n",
    "print(color_list[-1])"
   ]
  },
  {
   "cell_type": "markdown",
   "id": "20880852-7f20-4b1f-853d-7783160fc5f2",
   "metadata": {},
   "source": [
    "##### WAP to display the examination schedule"
   ]
  },
  {
   "cell_type": "code",
   "execution_count": 5,
   "id": "a9b383ed-0f6f-4256-8666-5b88b5b0ca70",
   "metadata": {},
   "outputs": [
    {
     "name": "stdout",
     "output_type": "stream",
     "text": [
      " The exam will starts from : 14 /9 /2024\n"
     ]
    }
   ],
   "source": [
    "exam_date=(14,9,2024)\n",
    "print(\" The exam will starts from : %i /%i /%i\" %  exam_date )"
   ]
  },
  {
   "cell_type": "code",
   "execution_count": null,
   "id": "aa9eb3b4-8f04-4784-8306-8110cfa4521c",
   "metadata": {},
   "outputs": [],
   "source": []
  }
 ],
 "metadata": {
  "kernelspec": {
   "display_name": "Python 3 (ipykernel)",
   "language": "python",
   "name": "python3"
  },
  "language_info": {
   "codemirror_mode": {
    "name": "ipython",
    "version": 3
   },
   "file_extension": ".py",
   "mimetype": "text/x-python",
   "name": "python",
   "nbconvert_exporter": "python",
   "pygments_lexer": "ipython3",
   "version": "3.12.4"
  }
 },
 "nbformat": 4,
 "nbformat_minor": 5
}
