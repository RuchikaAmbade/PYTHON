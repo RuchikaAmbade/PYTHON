{
 "cells": [
  {
   "cell_type": "code",
   "execution_count": 5,
   "id": "a9815887-829c-4079-9a8f-50ffc9d434e3",
   "metadata": {},
   "outputs": [
    {
     "name": "stdin",
     "output_type": "stream",
     "text": [
      " 478\n"
     ]
    },
    {
     "name": "stdout",
     "output_type": "stream",
     "text": [
      "874"
     ]
    }
   ],
   "source": [
    "# 1  WAP to reverse the usre defined number\n",
    "n=int(input())\n",
    "while (n>0):\n",
    "    rem=n%10\n",
    "    print(rem,end=\"\")\n",
    "    n=n//10\n",
    "    "
   ]
  },
  {
   "cell_type": "code",
   "execution_count": 16,
   "id": "0acc1af0-02a3-4582-b64e-f47c2c981ac5",
   "metadata": {},
   "outputs": [
    {
     "name": "stdin",
     "output_type": "stream",
     "text": [
      " 123\n"
     ]
    },
    {
     "name": "stdout",
     "output_type": "stream",
     "text": [
      "36\n",
      "The given number is not armstrong\n"
     ]
    }
   ],
   "source": [
    "# 2  WAP to check given number is armstrong or not\n",
    "n=int(input())\n",
    "a=n\n",
    "sum=0\n",
    "while (a>0):\n",
    "    rem=a%10\n",
    "    sum=sum+(rem**3)\n",
    "    a=a//10\n",
    "print(sum)\n",
    "if sum==n:\n",
    "    print(\"The given number is armstrong\")\n",
    "else:\n",
    "    print(\"The given number is not armstrong\")"
   ]
  },
  {
   "cell_type": "code",
   "execution_count": 5,
   "id": "3cde0f9f-4356-4c32-ab08-6058293815fc",
   "metadata": {},
   "outputs": [
    {
     "name": "stdin",
     "output_type": "stream",
     "text": [
      "Enter value of base 5\n",
      "Enter value of power 3\n"
     ]
    },
    {
     "name": "stdout",
     "output_type": "stream",
     "text": [
      "125\n"
     ]
    }
   ],
   "source": [
    "# 3  WAP to find out the value of m^n , m and n are user defined number\n",
    "m=int(input(\"Enter value of base\"))\n",
    "n=int(input(\"Enter value of power\"))\n",
    "a=1\n",
    "res=1\n",
    "while (a<=n):\n",
    "    res=res*m\n",
    "    a=a+1\n",
    "print(res)\n",
    "    "
   ]
  },
  {
   "cell_type": "code",
   "execution_count": 5,
   "id": "79ad544a-5e7b-4524-90db-963585b94b25",
   "metadata": {},
   "outputs": [
    {
     "name": "stdin",
     "output_type": "stream",
     "text": [
      " 12321\n"
     ]
    },
    {
     "name": "stdout",
     "output_type": "stream",
     "text": [
      "The given number is pallindome\n"
     ]
    }
   ],
   "source": [
    "# 4 WAP to check the given number is palindrome or not\n",
    "n=int(input())\n",
    "temp=n\n",
    "rev=0\n",
    "while (n>0):\n",
    "    rem=n%10\n",
    "    rev=rev*10+rem\n",
    "    n=n//10\n",
    "    \n",
    "if (temp==rev):\n",
    "    print(\"The given number is pallindome\")\n",
    "else:\n",
    "    print(\"The given number is not pallindrome\")"
   ]
  },
  {
   "cell_type": "code",
   "execution_count": 15,
   "id": "1d38dede-122b-401d-985f-6707ebe5557c",
   "metadata": {},
   "outputs": [
    {
     "name": "stdin",
     "output_type": "stream",
     "text": [
      "Enter any number: -78\n"
     ]
    },
    {
     "name": "stdout",
     "output_type": "stream",
     "text": [
      "The given number is negative\n"
     ]
    }
   ],
   "source": [
    "# 5 WAP to check if a given number is positive , negative , or neutral.\n",
    "num=int(input(\"Enter any number:\"))\n",
    "if num==0:\n",
    "    print(\"The given number is neutral\")\n",
    "elif num>0:\n",
    "    print(\"The given number is positive\")\n",
    "else:\n",
    "    print(\"The given number is negative\")"
   ]
  },
  {
   "cell_type": "code",
   "execution_count": 21,
   "id": "8289f5da-f682-4963-916d-56718411f391",
   "metadata": {},
   "outputs": [
    {
     "name": "stdin",
     "output_type": "stream",
     "text": [
      "Enter any number 8749\n"
     ]
    },
    {
     "name": "stdout",
     "output_type": "stream",
     "text": [
      "The given number is odd\n"
     ]
    }
   ],
   "source": [
    "# 6 WAP to check a given number is even or not\n",
    "num=int(input(\"Enter any number\"))\n",
    "if num%2==0:\n",
    "    print(\"The given number is enen\")\n",
    "else:\n",
    "    print(\"The given number is odd\")"
   ]
  },
  {
   "cell_type": "code",
   "execution_count": 23,
   "id": "83092e07-9ca2-4321-9476-c470579a104b",
   "metadata": {},
   "outputs": [
    {
     "name": "stdin",
     "output_type": "stream",
     "text": [
      "Enter value of a 7\n",
      "Eneter value of b 6\n"
     ]
    },
    {
     "name": "stdout",
     "output_type": "stream",
     "text": [
      "The value for (a+b)^3 is : 2197\n"
     ]
    }
   ],
   "source": [
    "# 7 formulae\n",
    "# (a+b)^3=a^3 + b^3 + 3ab(a+b)\n",
    "a=int(input(\"Enter value of a\"))\n",
    "b=int(input(\"Eneter value of b\"))\n",
    "formula=(a**3) + (b**3) + 3*a*b*(a+b)\n",
    "print(\"The value for (a+b)^3 is :\",formula)"
   ]
  },
  {
   "cell_type": "code",
   "execution_count": 31,
   "id": "72d07397-cc98-466d-be27-b2a6ecbf9661",
   "metadata": {},
   "outputs": [
    {
     "name": "stdin",
     "output_type": "stream",
     "text": [
      "Enter value of a 45\n",
      "Eneter value of b 31\n"
     ]
    },
    {
     "name": "stdout",
     "output_type": "stream",
     "text": [
      "The value for (a-b)^3 is : 2744\n"
     ]
    }
   ],
   "source": [
    "# 8 (a-b)^3=a^3 - b^3 - 3ab(a-b)\n",
    "a=int(input(\"Enter value of a\"))\n",
    "b=int(input(\"Eneter value of b\"))\n",
    "formula=(a**3) - (b**3) - 3*a*b*(a-b)\n",
    "print(\"The value for (a-b)^3 is :\",formula)"
   ]
  },
  {
   "cell_type": "code",
   "execution_count": 33,
   "id": "c8bb7ea6-7005-4690-b373-1958fc30992c",
   "metadata": {},
   "outputs": [
    {
     "name": "stdin",
     "output_type": "stream",
     "text": [
      "Enter value of a 8\n",
      "Eneter value of b 12\n"
     ]
    },
    {
     "name": "stdout",
     "output_type": "stream",
     "text": [
      "The value for a^3+b^3 is : 2240\n"
     ]
    }
   ],
   "source": [
    "# 9 a^3+b^3=(a+b)(a^2-ab+b^2)\n",
    "a=int(input(\"Enter value of a\"))\n",
    "b=int(input(\"Eneter value of b\"))\n",
    "formula=(a+b)*((a**2)-a*b+(b**2))\n",
    "print(\"The value for a^3+b^3 is :\",formula)"
   ]
  },
  {
   "cell_type": "code",
   "execution_count": 35,
   "id": "9962a081-82c2-46e7-b346-3bdce93a537a",
   "metadata": {},
   "outputs": [
    {
     "name": "stdin",
     "output_type": "stream",
     "text": [
      "Enter value of a 20\n",
      "Eneter value of b 16\n"
     ]
    },
    {
     "name": "stdout",
     "output_type": "stream",
     "text": [
      "The value for a^3-b^3 is : 3904\n"
     ]
    }
   ],
   "source": [
    "# 10 a^3-b^3=(a-b)(a^2+ab+b^2)\n",
    "a=int(input(\"Enter value of a\"))\n",
    "b=int(input(\"Eneter value of b\"))\n",
    "formula=(a-b)*((a**2)+a*b+(b**2))\n",
    "print(\"The value for a^3-b^3 is :\",formula)"
   ]
  },
  {
   "cell_type": "code",
   "execution_count": null,
   "id": "3073756c-c95f-41c3-84ce-d4673d9ac9c4",
   "metadata": {},
   "outputs": [],
   "source": []
  }
 ],
 "metadata": {
  "kernelspec": {
   "display_name": "Python 3 (ipykernel)",
   "language": "python",
   "name": "python3"
  },
  "language_info": {
   "codemirror_mode": {
    "name": "ipython",
    "version": 3
   },
   "file_extension": ".py",
   "mimetype": "text/x-python",
   "name": "python",
   "nbconvert_exporter": "python",
   "pygments_lexer": "ipython3",
   "version": "3.12.4"
  }
 },
 "nbformat": 4,
 "nbformat_minor": 5
}
