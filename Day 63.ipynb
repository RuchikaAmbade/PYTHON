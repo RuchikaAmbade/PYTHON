{
 "cells": [
  {
   "cell_type": "markdown",
   "id": "1a77de85-4aa2-48e2-bb80-90fcfee4edbb",
   "metadata": {},
   "source": [
    "##### 1 WAP to accept a number from 1 to 7 and display the name of the day like 1 for sunday, 2 for monday"
   ]
  },
  {
   "cell_type": "code",
   "execution_count": 5,
   "id": "dba10b52-ce42-44a4-8046-34c9e3121027",
   "metadata": {},
   "outputs": [
    {
     "name": "stdin",
     "output_type": "stream",
     "text": [
      "Enter number between 1 to 7 5\n"
     ]
    },
    {
     "name": "stdout",
     "output_type": "stream",
     "text": [
      "Thursday\n"
     ]
    }
   ],
   "source": [
    "n = int(input(\"Enter number between 1 to 7\"))\n",
    "if n==1:\n",
    "    print(\"Sunday\")\n",
    "elif n==2:\n",
    "    print(\"Monday\")\n",
    "elif n==3:\n",
    "    print(\"Tuesday\")\n",
    "elif n==4:\n",
    "    print(\"Wednesday\")\n",
    "elif n==5:\n",
    "    print(\"Thursday\")\n",
    "elif n==6:\n",
    "    print(\"Friday\")\n",
    "elif n==7:\n",
    "    print(\"Saturday\")\n",
    "else:\n",
    "    print(\"Wrong input\")"
   ]
  },
  {
   "cell_type": "markdown",
   "id": "4df83e6b-74cc-4522-b4ee-78134bc21db7",
   "metadata": {},
   "source": [
    "##### 2 Accept any city from the user and display monument of that city."
   ]
  },
  {
   "cell_type": "code",
   "execution_count": 10,
   "id": "4cc9b44c-7cb7-49ff-9ba3-44fd4b336cab",
   "metadata": {},
   "outputs": [
    {
     "name": "stdin",
     "output_type": "stream",
     "text": [
      "Enter name of city : Agra\n"
     ]
    },
    {
     "name": "stdout",
     "output_type": "stream",
     "text": [
      "Taj Mahal\n"
     ]
    }
   ],
   "source": [
    "city = str(input(\"Enter name of city :\"))\n",
    "if city == \"Delhi\" :\n",
    "    print(\"Red fort\")\n",
    "elif city == \"Agra\" :\n",
    "    print(\"Taj Mahal\")\n",
    "elif city == \"Jaipur\" :\n",
    "    print(\"Jal Mahal\")\n",
    "else:\n",
    "    print(\"Invalid input : Enter correct name of city\")"
   ]
  },
  {
   "cell_type": "markdown",
   "id": "f25bc53b-8475-4484-ae1a-33947ce06fa3",
   "metadata": {},
   "source": [
    "##### 3 WAP to print \"Hello\" if a>5 and a<or=10 ortherwise print \"Bye\". Accept input from user"
   ]
  },
  {
   "cell_type": "code",
   "execution_count": 13,
   "id": "9beb43de-58b4-413c-8302-65cf3b5a1b42",
   "metadata": {},
   "outputs": [
    {
     "name": "stdin",
     "output_type": "stream",
     "text": [
      "Enter a number : 9\n"
     ]
    },
    {
     "name": "stdout",
     "output_type": "stream",
     "text": [
      "Hello\n"
     ]
    }
   ],
   "source": [
    "a=int(input(\"Enter a number :\"))\n",
    "if a > 5 and a <= 10:\n",
    "    print(\"Hello\")\n",
    "else:\n",
    "    print(\"Bye\")"
   ]
  },
  {
   "cell_type": "markdown",
   "id": "85bb66c4-c6b8-4f54-9d92-cced97dee915",
   "metadata": {},
   "source": [
    "##### 4 WAP to check whether a number is three digit number or not."
   ]
  },
  {
   "cell_type": "code",
   "execution_count": 20,
   "id": "cc5700f3-210d-462f-8680-9f57f3dbc7e2",
   "metadata": {},
   "outputs": [
    {
     "name": "stdin",
     "output_type": "stream",
     "text": [
      "Enter any number : 3256\n"
     ]
    },
    {
     "name": "stdout",
     "output_type": "stream",
     "text": [
      "Entered number is not a three digit number.\n"
     ]
    }
   ],
   "source": [
    "n=str(input(\"Enter any number :\"))\n",
    "length=len(n)\n",
    "if length==3:\n",
    "    print(\"Entered number is a three digit number.\")\n",
    "else:\n",
    "    print(\"Entered number is not a three digit number.\")"
   ]
  },
  {
   "cell_type": "markdown",
   "id": "08ae29f7-12b7-425c-ab85-97d5611437ec",
   "metadata": {},
   "source": [
    "##### 5 WAP to chcek whether a person is senior citizen or not"
   ]
  },
  {
   "cell_type": "code",
   "execution_count": 27,
   "id": "165e0b9b-db79-420f-b61e-a1bcdbf04539",
   "metadata": {},
   "outputs": [
    {
     "name": "stdin",
     "output_type": "stream",
     "text": [
      "Enter your age 74\n"
     ]
    },
    {
     "name": "stdout",
     "output_type": "stream",
     "text": [
      "Serior citizen\n"
     ]
    }
   ],
   "source": [
    "age = int(input(\"Enter your age\"))\n",
    "if age >= 60:\n",
    "    print(\"Serior citizen\")\n",
    "else:\n",
    "    print(\"Not a senior citizen\")"
   ]
  },
  {
   "cell_type": "code",
   "execution_count": null,
   "id": "02c6ff5e-0e2d-463f-a52f-4aaeecc4d12e",
   "metadata": {},
   "outputs": [],
   "source": []
  }
 ],
 "metadata": {
  "kernelspec": {
   "display_name": "Python 3 (ipykernel)",
   "language": "python",
   "name": "python3"
  },
  "language_info": {
   "codemirror_mode": {
    "name": "ipython",
    "version": 3
   },
   "file_extension": ".py",
   "mimetype": "text/x-python",
   "name": "python",
   "nbconvert_exporter": "python",
   "pygments_lexer": "ipython3",
   "version": "3.12.4"
  }
 },
 "nbformat": 4,
 "nbformat_minor": 5
}
