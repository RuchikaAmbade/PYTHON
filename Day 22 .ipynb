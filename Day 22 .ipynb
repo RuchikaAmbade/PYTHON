{
 "cells": [
  {
   "cell_type": "markdown",
   "id": "1fa22dac-3d31-4bca-92db-39c7bae1f9fb",
   "metadata": {},
   "source": [
    "##### 1 "
   ]
  },
  {
   "cell_type": "code",
   "execution_count": 3,
   "id": "a6a20b3f-9fbc-4952-87bf-6dd393d89257",
   "metadata": {},
   "outputs": [
    {
     "name": "stdout",
     "output_type": "stream",
     "text": [
      "R \n",
      "R E \n",
      "R E D \n",
      "R E D O \n",
      "R E D O C \n"
     ]
    }
   ],
   "source": [
    "s='CODER'\n",
    "n=len(s)\n",
    "for i in range(1,n+1):\n",
    "    p=n-1\n",
    "    for j in range(1,i+1):\n",
    "        print(s[p],end=\" \")\n",
    "        p=p-1\n",
    "    print()"
   ]
  },
  {
   "cell_type": "markdown",
   "id": "968eed0d-dbe4-4f48-8d3b-af135dfd421a",
   "metadata": {},
   "source": [
    "##### 2 "
   ]
  },
  {
   "cell_type": "code",
   "execution_count": 41,
   "id": "7740f893-2aec-4d04-92b3-c3fac1c9ae12",
   "metadata": {},
   "outputs": [
    {
     "name": "stdout",
     "output_type": "stream",
     "text": [
      "  R E D O C \n",
      "    E D O C \n",
      "      D O C \n",
      "        O C \n",
      "          C \n"
     ]
    }
   ],
   "source": [
    "s='CODER'\n",
    "n=len(s)\n",
    "for i in range(1,n+1):\n",
    "    p=n-i\n",
    "    for j in range(1,i+1):\n",
    "        print(' ',end=' ')\n",
    "    for j in range(i,n+1):\n",
    "        print(s[p],end=' ')\n",
    "        p=p-1\n",
    "    print()"
   ]
  },
  {
   "cell_type": "markdown",
   "id": "1d06c76b-8e23-4002-9d7c-148e0a80496d",
   "metadata": {},
   "source": [
    "##### 3 WAP to calculate the length of a string"
   ]
  },
  {
   "cell_type": "code",
   "execution_count": 45,
   "id": "e43610a1-30ad-442e-b256-e285143ba447",
   "metadata": {},
   "outputs": [
    {
     "data": {
      "text/plain": [
       "6"
      ]
     },
     "execution_count": 45,
     "metadata": {},
     "output_type": "execute_result"
    }
   ],
   "source": [
    "s1='Google'\n",
    "len(s1)"
   ]
  },
  {
   "cell_type": "markdown",
   "id": "5c92a5a3-5777-43ff-9624-2a34a919a8e8",
   "metadata": {},
   "source": [
    "##### 4 WAP to count the number of characters in a string."
   ]
  },
  {
   "cell_type": "code",
   "execution_count": 3,
   "id": "30378dd1-7eb8-43d8-a0d2-707e4ca08662",
   "metadata": {},
   "outputs": [
    {
     "name": "stdout",
     "output_type": "stream",
     "text": [
      "{'g': 2, 'o': 2, 'l': 1, 'e': 1}\n"
     ]
    }
   ],
   "source": [
    "s1=\"google\"\n",
    "d1={}\n",
    "for ch in s1:\n",
    "    if ch in d1:\n",
    "        d1[ch]=d1[ch]+1\n",
    "    else:\n",
    "        d1[ch]=1\n",
    "print(d1)"
   ]
  },
  {
   "cell_type": "markdown",
   "id": "739486fb-18fb-434f-a05a-4c6c49a8f0d3",
   "metadata": {},
   "source": [
    "##### 5 WAP to get a string made of the first 2 and last 2 characters of a given string. if the string is less than 2 , return the empty string instead."
   ]
  },
  {
   "cell_type": "code",
   "execution_count": 29,
   "id": "05e619dd-99a9-4863-8286-bc3ba80722cd",
   "metadata": {},
   "outputs": [
    {
     "name": "stdout",
     "output_type": "stream",
     "text": [
      "weer\n"
     ]
    }
   ],
   "source": [
    "s1='weather'\n",
    "s2=''\n",
    "if len(s1)>=2:\n",
    "    for i in range(2):\n",
    "        s2=s2+s1[i]\n",
    "    for i in range(-2,0):\n",
    "        s2=s2+s1[i]\n",
    "    print(s2)\n",
    "else:\n",
    "    print(\" \")"
   ]
  },
  {
   "cell_type": "markdown",
   "id": "ef31e65b-3b25-425c-a2ea-1d89c0a73649",
   "metadata": {},
   "source": [
    "##### 6 WAP to access the index of a list"
   ]
  },
  {
   "cell_type": "code",
   "execution_count": 99,
   "id": "2b233c5f-6fe1-4099-b804-4bd82650837f",
   "metadata": {},
   "outputs": [
    {
     "name": "stdout",
     "output_type": "stream",
     "text": [
      "index :0 , value :12\n",
      "index :1 , value :4\n",
      "index :2 , value :3\n",
      "index :3 , value :6\n",
      "index :4 , value :8\n",
      "index :5 , value :23\n"
     ]
    }
   ],
   "source": [
    "l1=[12,4,3,6,8,23]\n",
    "for i,num in enumerate(l1):    # enumerate provides both the index and the value of each element in a list\n",
    "    print(f'index :{i} , value :{num}')"
   ]
  },
  {
   "cell_type": "markdown",
   "id": "611ff510-cbbe-4773-9bac-39cf6264bd7f",
   "metadata": {},
   "source": [
    "##### 7 WAP to flatten a shallow list"
   ]
  },
  {
   "cell_type": "code",
   "execution_count": 121,
   "id": "da63348f-2336-4d9c-a4ce-c34007ee07f0",
   "metadata": {},
   "outputs": [
    {
     "name": "stdout",
     "output_type": "stream",
     "text": [
      "[1, 2, 3, 4, 5, 6, 7, 8, 9]\n"
     ]
    }
   ],
   "source": [
    "l1=[[1,2,3],[4,5],[6,7,8,9]]\n",
    "l2=[]\n",
    "for i in l1:\n",
    "    for j in i:\n",
    "        l2.append(j)\n",
    "print(l2)"
   ]
  },
  {
   "cell_type": "markdown",
   "id": "1e276095-8fb0-4a62-87de-47ab0f9ade59",
   "metadata": {},
   "source": [
    "##### 8 WAP to append a list to the second list"
   ]
  },
  {
   "cell_type": "code",
   "execution_count": 5,
   "id": "63d646ab-1c76-42a1-9163-038b3a7479db",
   "metadata": {},
   "outputs": [
    {
     "name": "stdout",
     "output_type": "stream",
     "text": [
      "['Name', 'Age', 'DOB', 'Gender']\n"
     ]
    }
   ],
   "source": [
    "l1=['Name','Age','DOB','Gender']\n",
    "l2=[]\n",
    "for i in l1:\n",
    "    l2.append(i)\n",
    "print(l2)"
   ]
  },
  {
   "cell_type": "markdown",
   "id": "d3ccda28-96b2-4d37-8d4b-10d2c7257bd0",
   "metadata": {},
   "source": [
    "##### 9 WAP to select an item randomly from a list"
   ]
  },
  {
   "cell_type": "code",
   "execution_count": 13,
   "id": "2e023da8-d3c6-401d-8aab-f1966c8e86aa",
   "metadata": {},
   "outputs": [
    {
     "name": "stdout",
     "output_type": "stream",
     "text": [
      "Gender\n"
     ]
    }
   ],
   "source": [
    "l1=['Name','Age','DOB','Gender']\n",
    "import random\n",
    "print(random.choice(l1))"
   ]
  },
  {
   "cell_type": "code",
   "execution_count": 15,
   "id": "ecf92874-842a-4e18-99db-4abdff181df1",
   "metadata": {},
   "outputs": [
    {
     "name": "stdout",
     "output_type": "stream",
     "text": [
      "DOB\n"
     ]
    }
   ],
   "source": [
    "l1=['Name','Age','DOB','Gender']\n",
    "import random\n",
    "print(random.choice(l1))"
   ]
  },
  {
   "cell_type": "markdown",
   "id": "37b29066-c2b1-43bc-8b3d-6d4d0905115b",
   "metadata": {},
   "source": [
    "##### 10 WAP to get unique values from a list"
   ]
  },
  {
   "cell_type": "code",
   "execution_count": 27,
   "id": "77fe6a5a-8360-4cb7-a1f8-abe87682da2d",
   "metadata": {},
   "outputs": [
    {
     "name": "stdout",
     "output_type": "stream",
     "text": [
      "[40, 10, 50, 20, 60, 30]\n"
     ]
    }
   ],
   "source": [
    "l1=[10,20,30,40,20,50,60,40]\n",
    "l2=list(set(l1))\n",
    "print(l2)"
   ]
  },
  {
   "cell_type": "code",
   "execution_count": null,
   "id": "c18e03ed-748d-4aae-b85d-f8a245ef5af8",
   "metadata": {},
   "outputs": [],
   "source": []
  }
 ],
 "metadata": {
  "kernelspec": {
   "display_name": "Python 3 (ipykernel)",
   "language": "python",
   "name": "python3"
  },
  "language_info": {
   "codemirror_mode": {
    "name": "ipython",
    "version": 3
   },
   "file_extension": ".py",
   "mimetype": "text/x-python",
   "name": "python",
   "nbconvert_exporter": "python",
   "pygments_lexer": "ipython3",
   "version": "3.12.4"
  }
 },
 "nbformat": 4,
 "nbformat_minor": 5
}
