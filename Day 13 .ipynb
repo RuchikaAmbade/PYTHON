{
 "cells": [
  {
   "cell_type": "code",
   "execution_count": null,
   "id": "4ac47487-8894-4eb9-8aea-f1dcf75627d7",
   "metadata": {},
   "outputs": [],
   "source": [
    "# Volume fomulaes"
   ]
  },
  {
   "cell_type": "code",
   "execution_count": 11,
   "id": "f6d3f405-be9d-4564-a6e2-adeb0ef00224",
   "metadata": {},
   "outputs": [
    {
     "name": "stdin",
     "output_type": "stream",
     "text": [
      "Enter value of side of a cube: 4\n"
     ]
    },
    {
     "name": "stdout",
     "output_type": "stream",
     "text": [
      "Volume of a cube is : 64\n"
     ]
    }
   ],
   "source": [
    "# 1 Sphere \n",
    "a=int(input(\"Enter value of side of a cube:\"))\n",
    "v=a*a*a\n",
    "print(\"Volume of a cube is :\",v)"
   ]
  },
  {
   "cell_type": "code",
   "execution_count": 9,
   "id": "d7b41696-5e1a-48d5-a0c9-2abdfdd4e011",
   "metadata": {},
   "outputs": [
    {
     "name": "stdin",
     "output_type": "stream",
     "text": [
      "Enter value of length: 12\n",
      "Enter value of breadth: 6\n",
      "Enter value of heighth: 5\n"
     ]
    },
    {
     "name": "stdout",
     "output_type": "stream",
     "text": [
      "Volume of cuboid is : 360\n"
     ]
    }
   ],
   "source": [
    "# 2 Cuboid\n",
    "l=int(input(\"Enter value of length:\"))\n",
    "b=int(input(\"Enter value of breadth:\"))\n",
    "h=int(input(\"Enter value of heighth:\"))\n",
    "v=l*b*h\n",
    "print(\"Volume of cuboid is :\",v)"
   ]
  },
  {
   "cell_type": "code",
   "execution_count": 7,
   "id": "b6cf9719-79af-43f0-b07c-96e1a73179d9",
   "metadata": {},
   "outputs": [
    {
     "name": "stdin",
     "output_type": "stream",
     "text": [
      "Enter value of height: 15\n",
      "Enter value of slant height: 10\n",
      "Enter value of radius of the base: 3\n"
     ]
    },
    {
     "name": "stdout",
     "output_type": "stream",
     "text": [
      "Volume of cone : 141.29999999999998\n"
     ]
    }
   ],
   "source": [
    "# 3 Cone\n",
    "h=int(input(\"Enter value of height:\"))\n",
    "l=int(input(\"Enter value of slant height:\"))\n",
    "r=int(input(\"Enter value of radius of the base:\"))\n",
    "v=(1/3)*3.14*r*r*h\n",
    "print(\"Volume of cone :\",v)"
   ]
  },
  {
   "cell_type": "code",
   "execution_count": 5,
   "id": "6d387c6e-8be3-49f0-903a-c1c0105e5f96",
   "metadata": {},
   "outputs": [
    {
     "name": "stdin",
     "output_type": "stream",
     "text": [
      "Enter value of radius of base: 3.5\n",
      "Enter value of height: 6\n"
     ]
    },
    {
     "name": "stdout",
     "output_type": "stream",
     "text": [
      "Volume of cylinder : 230.79000000000002\n"
     ]
    }
   ],
   "source": [
    "# 4 Cylinder\n",
    "r=float(input(\"Enter value of radius of base:\"))\n",
    "h=int(input(\"Enter value of height:\"))\n",
    "v=3.14*(r**2)*h\n",
    "print(\"Volume of cylinder :\",v)"
   ]
  },
  {
   "cell_type": "code",
   "execution_count": 15,
   "id": "3cfc3c23-6c03-4d56-95cc-79b64c350fb9",
   "metadata": {},
   "outputs": [
    {
     "name": "stdin",
     "output_type": "stream",
     "text": [
      "Enter value of radius 2.6\n"
     ]
    },
    {
     "name": "stdout",
     "output_type": "stream",
     "text": [
      "Volume of sphere : 73.58485333333333\n"
     ]
    }
   ],
   "source": [
    "# 5 sphere\n",
    "r=float(input(\"Enter value of radius\"))\n",
    "v=(4/3)*3.14*(r**3)\n",
    "print(\"Volume of sphere :\",v)"
   ]
  },
  {
   "cell_type": "code",
   "execution_count": 17,
   "id": "f76bb7d0-55f1-4dcd-8e0a-839225c1c06f",
   "metadata": {},
   "outputs": [
    {
     "name": "stdin",
     "output_type": "stream",
     "text": [
      "Enter value of radius 2.6\n"
     ]
    },
    {
     "name": "stdout",
     "output_type": "stream",
     "text": [
      "Volume of sphere : 36.792426666666664\n"
     ]
    }
   ],
   "source": [
    "# 6 hemisphere\n",
    "r=float(input(\"Enter value of radius\"))\n",
    "v=(2/3)*3.14*(r**3)\n",
    "print(\"Volume of sphere :\",v)"
   ]
  },
  {
   "cell_type": "code",
   "execution_count": 21,
   "id": "a2493985-a6fa-432b-b176-0a6555e71d6f",
   "metadata": {},
   "outputs": [
    {
     "name": "stdin",
     "output_type": "stream",
     "text": [
      "Enter value of height: 15\n",
      "Enter value of area of base 26.14\n"
     ]
    },
    {
     "name": "stdout",
     "output_type": "stream",
     "text": [
      "Volume of sphere : 130.7\n"
     ]
    }
   ],
   "source": [
    "# 7 Pyramid\n",
    "h=int(input(\"Enter value of height:\"))\n",
    "ab=float(input(\"Enter value of area of base\"))\n",
    "v=(1/3)*ab*h\n",
    "print(\"Volume of sphere :\",v)"
   ]
  },
  {
   "cell_type": "code",
   "execution_count": 25,
   "id": "89c133e7-a59b-4ae8-81fb-9e97c046efcb",
   "metadata": {},
   "outputs": [
    {
     "name": "stdin",
     "output_type": "stream",
     "text": [
      "Enter value of height: 18\n",
      "Enter value of area of base 46.5\n"
     ]
    },
    {
     "name": "stdout",
     "output_type": "stream",
     "text": [
      "Volume of prism : 837.0\n"
     ]
    }
   ],
   "source": [
    "# 8 Prism\n",
    "h=int(input(\"Enter value of height:\"))\n",
    "ab=float(input(\"Enter value of area of base\"))\n",
    "v=h*ab\n",
    "print(\"Volume of prism :\",v)"
   ]
  },
  {
   "cell_type": "markdown",
   "id": "76e40bbf-5add-4658-a268-85b936c95ccd",
   "metadata": {},
   "source": [
    "##### 9 WAP to convert degrees to radian"
   ]
  },
  {
   "cell_type": "code",
   "execution_count": 29,
   "id": "dd2c1b00-b69f-4ce9-a390-3a9904a62fec",
   "metadata": {},
   "outputs": [
    {
     "name": "stdout",
     "output_type": "stream",
     "text": [
      "Radian : 0.2616666666666667\n"
     ]
    }
   ],
   "source": [
    "degree=15\n",
    "radian=degree*(3.14/180)\n",
    "print(\"Radian :\",radian)"
   ]
  },
  {
   "cell_type": "markdown",
   "id": "a3fd2b52-e8d0-4a91-b46a-eb89b7c79436",
   "metadata": {},
   "source": [
    "##### 10 WAP to convert radian to degree"
   ]
  },
  {
   "cell_type": "code",
   "execution_count": 43,
   "id": "6b77207f-d6e5-463c-a589-a7da72b63227",
   "metadata": {},
   "outputs": [
    {
     "name": "stdout",
     "output_type": "stream",
     "text": [
      "Degree : 573.248407643312\n"
     ]
    }
   ],
   "source": [
    "radian=10\n",
    "degree=radian*(180/3.14)\n",
    "print(\"Degree :\",degree)"
   ]
  },
  {
   "cell_type": "code",
   "execution_count": null,
   "id": "7a981b72-b154-4c99-9ecb-7b355ed00258",
   "metadata": {},
   "outputs": [],
   "source": []
  }
 ],
 "metadata": {
  "kernelspec": {
   "display_name": "Python 3 (ipykernel)",
   "language": "python",
   "name": "python3"
  },
  "language_info": {
   "codemirror_mode": {
    "name": "ipython",
    "version": 3
   },
   "file_extension": ".py",
   "mimetype": "text/x-python",
   "name": "python",
   "nbconvert_exporter": "python",
   "pygments_lexer": "ipython3",
   "version": "3.12.4"
  }
 },
 "nbformat": 4,
 "nbformat_minor": 5
}
