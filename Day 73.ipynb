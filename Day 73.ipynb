{
 "cells": [
  {
   "cell_type": "markdown",
   "id": "71419318-3fc4-40d0-8aa1-a40fc5c2ac0d",
   "metadata": {},
   "source": [
    "##### 1 Accept the kilometers covered and calculate the bill according to the following criteria\n",
    "#####   First 10 km : Rs 11/km\n",
    "#####   next 90km : Rs 10/km\n",
    "#####   After that : Rs 9/km"
   ]
  },
  {
   "cell_type": "code",
   "execution_count": 6,
   "id": "6a1bbafe-3715-4121-b919-8d1c383e942c",
   "metadata": {},
   "outputs": [
    {
     "name": "stdin",
     "output_type": "stream",
     "text": [
      "Enter distance covered in km : 80\n"
     ]
    },
    {
     "name": "stdout",
     "output_type": "stream",
     "text": [
      "Total bill to pay : 810\n"
     ]
    }
   ],
   "source": [
    "km = int(input(\"Enter distance covered in km :\"))\n",
    "if km <= 10:\n",
    "    charge = km * 11\n",
    "elif km > 10 and km <= 100:\n",
    "    charge = (10*11)+ (km - 10)*10\n",
    "elif km > 100:\n",
    "    charge = (10*11)+(90*10)+(km - 100)*9\n",
    "\n",
    "print(\"Total bill to pay :\",charge)"
   ]
  },
  {
   "cell_type": "markdown",
   "id": "35818fb1-b79e-4aa3-9a9a-d993b895b9f1",
   "metadata": {},
   "source": [
    "##### 2 Acceptthe marks of English, Math and Science , Social Studies Subject and diplay the stream allotted according to following\n",
    "#####   All subjects more than 80marks - Science stream\n",
    "#####   English>80and Math , Social Studies above 50 - Commerce stream\n",
    "#####   English>80 and , Social studies >80 - Humanities"
   ]
  },
  {
   "cell_type": "code",
   "execution_count": 11,
   "id": "5ff6d5c0-8ab8-4db3-a34f-0cdf37a9f256",
   "metadata": {},
   "outputs": [
    {
     "name": "stdin",
     "output_type": "stream",
     "text": [
      "Enter marks of English: 87\n",
      "Enter marks of Math: 90\n",
      "Enter marks of Science: 85\n",
      "Enter marks of Social Studies: 94\n"
     ]
    },
    {
     "name": "stdout",
     "output_type": "stream",
     "text": [
      "Science stream\n"
     ]
    }
   ],
   "source": [
    "s1=int(input(\"Enter marks of English:\"))\n",
    "s2=int(input(\"Enter marks of Math:\"))\n",
    "s3=int(input(\"Enter marks of Science:\"))\n",
    "s4=int(input(\"Enter marks of Social Studies:\"))\n",
    "if s1>80 and s2>80 and s3>80 and s4>80:\n",
    "    print(\"Science stream\")\n",
    "elif s1>80 and s2>50 and s4>50:\n",
    "    print(\"Commerce stream\")\n",
    "elif s1>80 and s4>80:\n",
    "    print(\"Humanities\")"
   ]
  },
  {
   "cell_type": "markdown",
   "id": "6754fba7-26de-4a89-8550-61007c01eee3",
   "metadata": {},
   "source": [
    "##### 3 WAP to find the factorial of a given number."
   ]
  },
  {
   "cell_type": "code",
   "execution_count": 7,
   "id": "c35c1014-8107-4e6e-b268-eb442973af55",
   "metadata": {},
   "outputs": [
    {
     "name": "stdout",
     "output_type": "stream",
     "text": [
      "40320\n"
     ]
    }
   ],
   "source": [
    "num=8\n",
    "fact=1\n",
    "for i in range(1,num+1):\n",
    "    fact=fact*i\n",
    "    i=i+1\n",
    "\n",
    "print(fact)"
   ]
  },
  {
   "cell_type": "markdown",
   "id": "9a3383af-5b9c-480e-a39e-35a0a0ed5b5b",
   "metadata": {},
   "source": [
    "##### 4 WAP to get the faboncci series between 0 to 10."
   ]
  },
  {
   "cell_type": "code",
   "execution_count": 13,
   "id": "59075d3f-1c40-4172-8826-2688a3820650",
   "metadata": {},
   "outputs": [
    {
     "name": "stdout",
     "output_type": "stream",
     "text": [
      "1\n",
      "2\n",
      "3\n",
      "5\n",
      "8\n",
      "13\n",
      "21\n",
      "34\n",
      "55\n",
      "89\n"
     ]
    }
   ],
   "source": [
    "n1=0\n",
    "n2=1\n",
    "for i in range(0,10):\n",
    "    n3=n1+n2\n",
    "    n1=n2\n",
    "    n2=n3\n",
    "    print(n3)"
   ]
  },
  {
   "cell_type": "markdown",
   "id": "4e63edae-6af1-46c8-90d2-f2586b4f47c6",
   "metadata": {},
   "source": [
    "##### 5 WAP to check if a given number is Armstrong number or not."
   ]
  },
  {
   "cell_type": "code",
   "execution_count": 15,
   "id": "9e1f3234-c1ec-4f5e-bfbc-8eb653c492a4",
   "metadata": {},
   "outputs": [
    {
     "name": "stdout",
     "output_type": "stream",
     "text": [
      "153\n",
      "Given number is Armstrong number.\n"
     ]
    }
   ],
   "source": [
    "num=153\n",
    "a=str(num)\n",
    "sum=0\n",
    "for i in a:\n",
    "    sum=sum+int(i)**3\n",
    "print(sum)\n",
    "if sum==num:\n",
    "    print(\"Given number is Armstrong number.\")\n",
    "else:\n",
    "    print(\"Given number is not an Armstrong number\")"
   ]
  },
  {
   "cell_type": "code",
   "execution_count": null,
   "id": "fd5f4877-10a2-492b-af37-4dd57bb8c9ca",
   "metadata": {},
   "outputs": [],
   "source": []
  }
 ],
 "metadata": {
  "kernelspec": {
   "display_name": "Python 3 (ipykernel)",
   "language": "python",
   "name": "python3"
  },
  "language_info": {
   "codemirror_mode": {
    "name": "ipython",
    "version": 3
   },
   "file_extension": ".py",
   "mimetype": "text/x-python",
   "name": "python",
   "nbconvert_exporter": "python",
   "pygments_lexer": "ipython3",
   "version": "3.12.4"
  }
 },
 "nbformat": 4,
 "nbformat_minor": 5
}
