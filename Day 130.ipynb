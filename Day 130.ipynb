{
 "cells": [
  {
   "cell_type": "markdown",
   "id": "e75b987b-8ab7-49e5-a382-90e9c4c3ea0e",
   "metadata": {},
   "source": [
    "##### WAP to extract odd numbers from a list of integers."
   ]
  },
  {
   "cell_type": "code",
   "execution_count": 2,
   "id": "b5e3bc80-2f50-474c-add4-fd58bcff0a0d",
   "metadata": {},
   "outputs": [
    {
     "data": {
      "text/plain": [
       "[1, 3, 5, 7, 9]"
      ]
     },
     "execution_count": 2,
     "metadata": {},
     "output_type": "execute_result"
    }
   ],
   "source": [
    "lst = [1,2,3,4,5,6,7,8,9,10]\n",
    "odd_numbers = [x for x in lst if x%2 != 0]\n",
    "odd_numbers"
   ]
  },
  {
   "cell_type": "markdown",
   "id": "e806b7bc-6390-4361-aaed-2b450e1f70d9",
   "metadata": {},
   "source": [
    "##### WAP to replace all odd numbers in a list with -1."
   ]
  },
  {
   "cell_type": "code",
   "execution_count": 5,
   "id": "839bc887-f81a-48cc-a43f-aae57f935495",
   "metadata": {},
   "outputs": [
    {
     "name": "stdout",
     "output_type": "stream",
     "text": [
      "[-1, 2, -1, 4, -1, 6, -1, 8, -1, 10]\n"
     ]
    }
   ],
   "source": [
    "lst = [1,2,3,4,5,6,7,8,9,10]\n",
    "replaced_list = [-1 if x %2 != 0 else x for x in lst]\n",
    "print(replaced_list)"
   ]
  },
  {
   "cell_type": "code",
   "execution_count": null,
   "id": "1c87b199-c7c7-4a02-95f7-aaac3f5e409e",
   "metadata": {},
   "outputs": [],
   "source": []
  }
 ],
 "metadata": {
  "kernelspec": {
   "display_name": "Python 3 (ipykernel)",
   "language": "python",
   "name": "python3"
  },
  "language_info": {
   "codemirror_mode": {
    "name": "ipython",
    "version": 3
   },
   "file_extension": ".py",
   "mimetype": "text/x-python",
   "name": "python",
   "nbconvert_exporter": "python",
   "pygments_lexer": "ipython3",
   "version": "3.12.4"
  }
 },
 "nbformat": 4,
 "nbformat_minor": 5
}
