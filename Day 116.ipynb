{
 "cells": [
  {
   "cell_type": "markdown",
   "id": "b08f25f4-9237-4ce7-81bf-5cbab8f9d588",
   "metadata": {},
   "source": [
    "##### WAP to print alphabet 'P' using '*'"
   ]
  },
  {
   "cell_type": "code",
   "execution_count": 5,
   "id": "de434854-310c-4edd-b834-f94dfe211b6e",
   "metadata": {},
   "outputs": [
    {
     "name": "stdout",
     "output_type": "stream",
     "text": [
      "* * * *   \n",
      "*       * \n",
      "*       * \n",
      "* * * *   \n",
      "*         \n",
      "*         \n",
      "*         \n"
     ]
    }
   ],
   "source": [
    "for row in range(7):\n",
    "    for col in range(5):\n",
    "        if ((col==0) or (col==4 and (row==1 or row==2))) or ((row==0 or row==3) and col!=4):\n",
    "            print('*',end = ' ')\n",
    "        else:\n",
    "            print(' ',end=' ')\n",
    "    print()"
   ]
  },
  {
   "cell_type": "markdown",
   "id": "987be415-882a-4b03-b283-b602850e665e",
   "metadata": {},
   "source": [
    "##### WAP to print alphabet 'Q' using '*'"
   ]
  },
  {
   "cell_type": "code",
   "execution_count": 16,
   "id": "b570fca3-584b-472b-928f-a07b47dbbb78",
   "metadata": {},
   "outputs": [
    {
     "name": "stdout",
     "output_type": "stream",
     "text": [
      "  * * *   \n",
      "*       * \n",
      "*       * \n",
      "*       * \n",
      "*       * \n",
      "* *     * \n",
      "  * * *   \n",
      "      *   \n"
     ]
    }
   ],
   "source": [
    "for row in range(8):\n",
    "    for col in range(5):\n",
    "        if ((col==0 or col==4) and (row>0 and row<6)) or ((row==0 or row==6) and (col!=0 and col!=4)) or (row==5 and col==1) or (row==7 and col==3):\n",
    "            print('*',end=' ')\n",
    "        else:\n",
    "            print(' ',end=' ')\n",
    "    print()"
   ]
  },
  {
   "cell_type": "code",
   "execution_count": null,
   "id": "f229588f-f067-4022-8d86-d5402935c7f4",
   "metadata": {},
   "outputs": [],
   "source": []
  }
 ],
 "metadata": {
  "kernelspec": {
   "display_name": "Python 3 (ipykernel)",
   "language": "python",
   "name": "python3"
  },
  "language_info": {
   "codemirror_mode": {
    "name": "ipython",
    "version": 3
   },
   "file_extension": ".py",
   "mimetype": "text/x-python",
   "name": "python",
   "nbconvert_exporter": "python",
   "pygments_lexer": "ipython3",
   "version": "3.12.4"
  }
 },
 "nbformat": 4,
 "nbformat_minor": 5
}
