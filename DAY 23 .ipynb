{
 "cells": [
  {
   "cell_type": "markdown",
   "id": "272f5c0a-8fff-4b0d-ba3c-d1a1a056143d",
   "metadata": {},
   "source": [
    "##### 1 WAP to convert a list into a tuple"
   ]
  },
  {
   "cell_type": "code",
   "execution_count": 7,
   "id": "b4552403-adf9-4a16-987d-3d28ad0c31ee",
   "metadata": {},
   "outputs": [
    {
     "data": {
      "text/plain": [
       "(1, 2, 4, 5, 6)"
      ]
     },
     "execution_count": 7,
     "metadata": {},
     "output_type": "execute_result"
    }
   ],
   "source": [
    "l1=[1,2,4,5,6]\n",
    "t1=tuple(l1)\n",
    "t1"
   ]
  },
  {
   "cell_type": "markdown",
   "id": "d9998955-4f3f-4980-8eef-0f25e08eb5a8",
   "metadata": {},
   "source": [
    "##### 2 WAP to remove an item from a tuple"
   ]
  },
  {
   "cell_type": "code",
   "execution_count": 25,
   "id": "e6f45a13-b71c-4d31-9b35-cfed1659b165",
   "metadata": {},
   "outputs": [
    {
     "name": "stdout",
     "output_type": "stream",
     "text": [
      "[24, 14, 12]\n"
     ]
    }
   ],
   "source": [
    "t1=(24,14,12,27)\n",
    "l1=list(t1)\n",
    "num=24\n",
    "if num in l1:\n",
    "    l1.remove(i)\n",
    "print(l1)"
   ]
  },
  {
   "cell_type": "markdown",
   "id": "c76027b6-6435-4356-ade4-a158ced74ee3",
   "metadata": {},
   "source": [
    "##### 3 WAP to slice a tuple"
   ]
  },
  {
   "cell_type": "code",
   "execution_count": 31,
   "id": "1d57beef-f0e2-400f-b6aa-4a36f82518bc",
   "metadata": {},
   "outputs": [
    {
     "name": "stdout",
     "output_type": "stream",
     "text": [
      "('a', 'i', 'n', 'b')\n",
      "('b', 'o')\n"
     ]
    }
   ],
   "source": [
    "t1=('r','a','i','n','b','o','w')\n",
    "print(t1[1:5])\n",
    "print(t1[-3:-1])"
   ]
  },
  {
   "cell_type": "markdown",
   "id": "a77a3d1a-a780-47e6-ab7d-922f8badebb3",
   "metadata": {},
   "source": [
    "##### 4 WAP to find the index of an item in a tuple"
   ]
  },
  {
   "cell_type": "code",
   "execution_count": 35,
   "id": "f41e8798-872b-4f17-8f68-fad98a731fa7",
   "metadata": {},
   "outputs": [
    {
     "data": {
      "text/plain": [
       "3"
      ]
     },
     "execution_count": 35,
     "metadata": {},
     "output_type": "execute_result"
    }
   ],
   "source": [
    "t2=(2,4,'a','b','c')\n",
    "t2.index('b')"
   ]
  },
  {
   "cell_type": "markdown",
   "id": "cc9f78c9-7097-4e55-96d2-ec1e716b9678",
   "metadata": {},
   "source": [
    "##### 5 WAP to find the length of a tuple"
   ]
  },
  {
   "cell_type": "code",
   "execution_count": 41,
   "id": "48e877f4-334f-4a80-837a-b534e08c2def",
   "metadata": {},
   "outputs": [
    {
     "name": "stdout",
     "output_type": "stream",
     "text": [
      "length of tuple t2 is: 5\n"
     ]
    }
   ],
   "source": [
    "t2=(2,4,'a','b','c')\n",
    "print(f'length of tuple t2 is: {len(t2)}')\n"
   ]
  },
  {
   "cell_type": "markdown",
   "id": "53da092f-0aa3-4860-adbc-1e3a24bd11f4",
   "metadata": {},
   "source": [
    "##### 6 WAP to convert a tuple into a dictionary"
   ]
  },
  {
   "cell_type": "code",
   "execution_count": 8,
   "id": "1acc8516-058c-42a8-923e-8e8032462938",
   "metadata": {},
   "outputs": [
    {
     "name": "stdout",
     "output_type": "stream",
     "text": [
      "{'colour': 'blue', 'weather': 'rain'}\n"
     ]
    }
   ],
   "source": [
    "t1=(('colour','blue'),('weather','rain'))\n",
    "dictionary=dict((x,y) for x,y in t1 )\n",
    "print(dictionary)"
   ]
  },
  {
   "cell_type": "markdown",
   "id": "87f9a5c7-de20-41f3-9cad-5d3380682181",
   "metadata": {},
   "source": [
    "##### 7 WAP to reverse a tuple"
   ]
  },
  {
   "cell_type": "code",
   "execution_count": 19,
   "id": "a880d20f-3e93-4ebc-b011-d55836a8fa52",
   "metadata": {},
   "outputs": [
    {
     "name": "stdout",
     "output_type": "stream",
     "text": [
      "(5, 6, 7, 8, 2, 4)\n"
     ]
    }
   ],
   "source": [
    "t1=(4,2,8,7,6,5)\n",
    "t2=reversed(t1)\n",
    "print(tuple(t2))"
   ]
  },
  {
   "cell_type": "code",
   "execution_count": 1,
   "id": "31927540-6d02-458c-90c5-ddefcd2503e1",
   "metadata": {},
   "outputs": [
    {
     "name": "stdout",
     "output_type": "stream",
     "text": [
      "  A A A A A \n",
      "    A A A A \n",
      "      A A A \n",
      "        A A \n",
      "          A \n"
     ]
    }
   ],
   "source": [
    "## 8\n",
    "n=5\n",
    "p=65\n",
    "for i in range(1,n+1):\n",
    "    for j in range(1,i+1):\n",
    "        print(' ',end=' ')\n",
    "    for j in range(i,n+1):\n",
    "        print(chr(p),end=' ')\n",
    "    print()"
   ]
  },
  {
   "cell_type": "code",
   "execution_count": 5,
   "id": "4c05cb08-9f51-4574-a7fb-39d510155a61",
   "metadata": {},
   "outputs": [
    {
     "name": "stdout",
     "output_type": "stream",
     "text": [
      "          A \n",
      "        A A A \n",
      "      A A A A A \n",
      "    A A A A A A A \n",
      "  A A A A A A A A A \n"
     ]
    }
   ],
   "source": [
    "## 9\n",
    "n=5\n",
    "for i in range(1,n+1):\n",
    "    for j in range(i,n+1):\n",
    "        print(' ',end=' ')\n",
    "    for j in range(1,i+1):\n",
    "        print('A',end=' ')\n",
    "    for j in range(2,i+1):\n",
    "        print('A',end=' ')\n",
    "    print()"
   ]
  },
  {
   "cell_type": "code",
   "execution_count": 7,
   "id": "0d3f41bb-6ae2-4b99-b0a2-9161938787c8",
   "metadata": {},
   "outputs": [
    {
     "name": "stdout",
     "output_type": "stream",
     "text": [
      "  R R R R R R R R R \n",
      "    R R R R R R R \n",
      "      R R R R R \n",
      "        R R R \n",
      "          R \n"
     ]
    }
   ],
   "source": [
    "## 10\n",
    "n=5\n",
    "for i in range(1,n+1):\n",
    "    for j in range(1,i+1):\n",
    "        print(' ',end=' ')\n",
    "    for j in range(i,n+1):\n",
    "        print('R',end=' ')\n",
    "    for j in range(i+1,n+1):\n",
    "        print('R',end=' ')\n",
    "    print()"
   ]
  },
  {
   "cell_type": "code",
   "execution_count": null,
   "id": "ff5d0dea-85af-47bf-bfa4-1f72375be306",
   "metadata": {},
   "outputs": [],
   "source": []
  }
 ],
 "metadata": {
  "kernelspec": {
   "display_name": "Python 3 (ipykernel)",
   "language": "python",
   "name": "python3"
  },
  "language_info": {
   "codemirror_mode": {
    "name": "ipython",
    "version": 3
   },
   "file_extension": ".py",
   "mimetype": "text/x-python",
   "name": "python",
   "nbconvert_exporter": "python",
   "pygments_lexer": "ipython3",
   "version": "3.12.4"
  }
 },
 "nbformat": 4,
 "nbformat_minor": 5
}
