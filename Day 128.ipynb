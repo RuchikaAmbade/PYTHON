{
 "cells": [
  {
   "cell_type": "markdown",
   "id": "91c09a12-a768-48a6-b908-2a21e59deab1",
   "metadata": {},
   "source": [
    "##### WAP to convert a list of integers to a list of booleans where all non-zero values become True"
   ]
  },
  {
   "cell_type": "code",
   "execution_count": 1,
   "id": "3408140d-f52b-4eb8-9b7e-4c77922ad938",
   "metadata": {},
   "outputs": [
    {
     "name": "stdout",
     "output_type": "stream",
     "text": [
      "[True, True, False, True, True]\n"
     ]
    }
   ],
   "source": [
    "lst =[-2,-1,0,1,2]\n",
    "boolean_lst = [bool(x) for x in lst]\n",
    "print(boolean_lst)"
   ]
  },
  {
   "cell_type": "markdown",
   "id": "b92d86f4-84d4-4823-9ff4-f3c87d4461dc",
   "metadata": {},
   "source": [
    "##### Create a 3x3 list of lists with random values and normalize it."
   ]
  },
  {
   "cell_type": "code",
   "execution_count": 4,
   "id": "86f3c372-d028-489b-aaa0-1fc3f6bf8613",
   "metadata": {},
   "outputs": [
    {
     "name": "stdout",
     "output_type": "stream",
     "text": [
      "[[-1.1008357788639427, -1.132330441638884, 1.4944409026677958], [1.5287791306116754, 0.14394323036516476, 0.04453373785094165], [0.46258319753081584, -0.14593613792161353, -1.2951778406019525]]\n"
     ]
    }
   ],
   "source": [
    "import random\n",
    "matrix = [[random.random() for _ in range(3)] for _ in range(3)]\n",
    "mean = sum(sum(row) for row in matrix)/9\n",
    "std = (sum((x-mean)**2 for row in matrix for x in row)/9)**0.5\n",
    "normalized_matrix = [[(x-mean)/std for x in row] for row in matrix]\n",
    "print(normalized_matrix)"
   ]
  },
  {
   "cell_type": "code",
   "execution_count": null,
   "id": "cb7cf69f-bf34-424a-94b8-dee724045d80",
   "metadata": {},
   "outputs": [],
   "source": []
  }
 ],
 "metadata": {
  "kernelspec": {
   "display_name": "Python 3 (ipykernel)",
   "language": "python",
   "name": "python3"
  },
  "language_info": {
   "codemirror_mode": {
    "name": "ipython",
    "version": 3
   },
   "file_extension": ".py",
   "mimetype": "text/x-python",
   "name": "python",
   "nbconvert_exporter": "python",
   "pygments_lexer": "ipython3",
   "version": "3.12.4"
  }
 },
 "nbformat": 4,
 "nbformat_minor": 5
}
