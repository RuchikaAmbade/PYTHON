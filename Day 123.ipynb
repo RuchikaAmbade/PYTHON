{
 "cells": [
  {
   "cell_type": "markdown",
   "id": "519b2e85-c435-4ee6-a1a9-8a119dc6d9a8",
   "metadata": {},
   "source": [
    "##### WAP to import a built-in array module and display the namespace of the said module."
   ]
  },
  {
   "cell_type": "code",
   "execution_count": 3,
   "id": "b50fd2dd-5ae4-4050-ae93-56173a70b3a6",
   "metadata": {},
   "outputs": [
    {
     "name": "stdout",
     "output_type": "stream",
     "text": [
      "__name__\n",
      "__doc__\n",
      "__package__\n",
      "__loader__\n",
      "__spec__\n",
      "_array_reconstructor\n",
      "ArrayType\n",
      "array\n",
      "typecodes\n"
     ]
    }
   ],
   "source": [
    "import array\n",
    "for name in array.__dict__:\n",
    "    print(name)"
   ]
  },
  {
   "cell_type": "markdown",
   "id": "2a2f9d4d-0372-43c1-bccb-40173a2907a6",
   "metadata": {},
   "source": [
    "##### WAP to create a class and display the namespace of that class."
   ]
  },
  {
   "cell_type": "code",
   "execution_count": 7,
   "id": "154dabef-dc7f-434c-b004-d97a833f7d07",
   "metadata": {},
   "outputs": [
    {
     "name": "stdout",
     "output_type": "stream",
     "text": [
      "__module__\n",
      "sub_sets\n",
      "subsetsRecur\n",
      "__dict__\n",
      "__weakref__\n",
      "__doc__\n"
     ]
    }
   ],
   "source": [
    "class py_solution:\n",
    "    def sub_sets(self,sset):\n",
    "        return self.subsetsRecur([],sorted(sset))\n",
    "    def subsetsRecur(self,current,sset):\n",
    "        if sset:\n",
    "            return self.subsetsRecur(Current , sset[1:]) +self.subsetsRecur(current + [sset[0]] , sset[1:])\n",
    "        return [current]\n",
    "for name in py_solution.__dict__:\n",
    "    print(name)"
   ]
  },
  {
   "cell_type": "code",
   "execution_count": null,
   "id": "c868e42c-936a-4696-b958-2836837d551c",
   "metadata": {},
   "outputs": [],
   "source": []
  }
 ],
 "metadata": {
  "kernelspec": {
   "display_name": "Python 3 (ipykernel)",
   "language": "python",
   "name": "python3"
  },
  "language_info": {
   "codemirror_mode": {
    "name": "ipython",
    "version": 3
   },
   "file_extension": ".py",
   "mimetype": "text/x-python",
   "name": "python",
   "nbconvert_exporter": "python",
   "pygments_lexer": "ipython3",
   "version": "3.12.4"
  }
 },
 "nbformat": 4,
 "nbformat_minor": 5
}
