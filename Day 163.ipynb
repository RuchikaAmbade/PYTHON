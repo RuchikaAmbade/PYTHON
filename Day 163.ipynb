{
 "cells": [
  {
   "cell_type": "markdown",
   "id": "99f03695-b963-4a28-89d2-102ca1ef0b56",
   "metadata": {},
   "source": [
    "Simple interest formula is given by: Simple Interest = (P x T x R)/100\n",
    "Write a python code to take in input of P, T and R and calculate the Simple Interest by defining a function sint"
   ]
  },
  {
   "cell_type": "code",
   "execution_count": 5,
   "id": "5826a580-49d2-4da8-807d-73932e7b40a0",
   "metadata": {},
   "outputs": [
    {
     "name": "stdin",
     "output_type": "stream",
     "text": [
      "Principal : 8\n",
      "Total : 6\n",
      "Rate of interest : 8\n"
     ]
    },
    {
     "name": "stdout",
     "output_type": "stream",
     "text": [
      "The simple interest is 3.84\n"
     ]
    }
   ],
   "source": [
    "p=int(input('Principal :'))\n",
    "t=int(input('Total :'))\n",
    "r=int(input('Rate of interest :'))\n",
    "\n",
    "def sint(p,t,r):\n",
    "    si = (p*t*r)/100\n",
    "    print('The simple interest is {}'.format(si))\n",
    "\n",
    "sint(p,t,r)"
   ]
  },
  {
   "cell_type": "markdown",
   "id": "80306385-c756-4ca6-a6bc-acd9fbd60dc1",
   "metadata": {},
   "source": [
    "Find out if the number n is prime or not."
   ]
  },
  {
   "cell_type": "code",
   "execution_count": 18,
   "id": "ffb0e4d8-878f-424e-a087-a1ea5170fc0c",
   "metadata": {},
   "outputs": [
    {
     "name": "stdin",
     "output_type": "stream",
     "text": [
      " 7\n"
     ]
    },
    {
     "name": "stdout",
     "output_type": "stream",
     "text": [
      "7 is a prime number\n"
     ]
    }
   ],
   "source": [
    "num = int(input())\n",
    "for i in range(2,num):\n",
    "    if num%2==0:\n",
    "        break\n",
    "else:\n",
    "    print(num,'is a prime number')"
   ]
  },
  {
   "cell_type": "code",
   "execution_count": null,
   "id": "2a619267-48e2-4618-b8b2-cbb9734a4397",
   "metadata": {},
   "outputs": [],
   "source": []
  }
 ],
 "metadata": {
  "kernelspec": {
   "display_name": "Python 3 (ipykernel)",
   "language": "python",
   "name": "python3"
  },
  "language_info": {
   "codemirror_mode": {
    "name": "ipython",
    "version": 3
   },
   "file_extension": ".py",
   "mimetype": "text/x-python",
   "name": "python",
   "nbconvert_exporter": "python",
   "pygments_lexer": "ipython3",
   "version": "3.12.4"
  }
 },
 "nbformat": 4,
 "nbformat_minor": 5
}
