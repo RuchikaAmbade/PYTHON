{
 "cells": [
  {
   "cell_type": "markdown",
   "id": "086e652a-1060-40ce-89ad-149eb47b9c8f",
   "metadata": {},
   "source": [
    "##### 1 WAP to calculate the difference between the squared sum of the first n natural numbers and the sum of squared first n natural numbers."
   ]
  },
  {
   "cell_type": "code",
   "execution_count": 9,
   "id": "43d8447e-caae-475f-8d59-57cfb8f20469",
   "metadata": {},
   "outputs": [
    {
     "name": "stdout",
     "output_type": "stream",
     "text": [
      "170\n"
     ]
    }
   ],
   "source": [
    "n=5\n",
    "sum_of_squares=0\n",
    "square_of_sum=0\n",
    "for i in range(1,n+1):\n",
    "    sum_of_squares=sum_of_squares+(i*i)\n",
    "    square_of_sum=square_of_sum+i\n",
    "square_of_sum=square_of_sum**2\n",
    "d=square_of_sum-sum_of_squares\n",
    "print(d)"
   ]
  },
  {
   "cell_type": "markdown",
   "id": "35addb99-657b-4d0a-b90a-6dd11c93ca33",
   "metadata": {},
   "source": [
    "##### 2 WAP to calculate sum of all digits of the base to the specified power."
   ]
  },
  {
   "cell_type": "code",
   "execution_count": 35,
   "id": "a549b19c-8cf1-4d35-951d-cb0823491eed",
   "metadata": {},
   "outputs": [
    {
     "name": "stdin",
     "output_type": "stream",
     "text": [
      "Enter value of base 2\n",
      "Enter value of power 100\n"
     ]
    },
    {
     "name": "stdout",
     "output_type": "stream",
     "text": [
      "1267650600228229401496703205376\n",
      "115\n"
     ]
    }
   ],
   "source": [
    "b=int(input(\"Enter value of base\"))\n",
    "p=int(input(\"Enter value of power\"))\n",
    "res=b**p\n",
    "print(res)\n",
    "x=str(res)\n",
    "sum=0\n",
    "for i in x:\n",
    "    sum=sum+int(i)\n",
    "print(sum)"
   ]
  },
  {
   "cell_type": "markdown",
   "id": "13267019-888f-4b45-8863-edbc14db17d6",
   "metadata": {},
   "source": [
    "##### 3 Pattern to display letter of the word"
   ]
  },
  {
   "cell_type": "code",
   "execution_count": 7,
   "id": "1818a2d4-715a-4143-9890-fbc132755920",
   "metadata": {},
   "outputs": [
    {
     "name": "stdout",
     "output_type": "stream",
     "text": [
      "P\n",
      "Py\n",
      "Pyt\n",
      "Pyth\n",
      "Pytho\n",
      "Python\n"
     ]
    }
   ],
   "source": [
    "word='Python'\n",
    "a=''\n",
    "for i in word:\n",
    "    a=a+i\n",
    "    print(a)\n",
    "    "
   ]
  },
  {
   "cell_type": "markdown",
   "id": "bff5c811-d060-472c-abdf-c4b2a2063f39",
   "metadata": {},
   "source": [
    "##### 4 Pyramid of horizontal number table"
   ]
  },
  {
   "cell_type": "code",
   "execution_count": 9,
   "id": "0d2abda8-2d8e-480f-a20d-782b09a723c0",
   "metadata": {},
   "outputs": [
    {
     "name": "stdout",
     "output_type": "stream",
     "text": [
      "1 \n",
      "2 4 \n",
      "3 6 9 \n",
      "4 8 12 16 \n",
      "5 10 15 20 25 \n",
      "6 12 18 24 30 36 \n",
      "7 14 21 28 35 42 49 \n",
      "8 16 24 32 40 48 56 64 \n",
      "9 18 27 36 45 54 63 72 81 \n",
      "10 20 30 40 50 60 70 80 90 100 \n"
     ]
    }
   ],
   "source": [
    "n=10\n",
    "for i in range(1,n+1):\n",
    "    for j in range(1,i+1):\n",
    "        print(i*j,end=\" \")\n",
    "    print()"
   ]
  },
  {
   "cell_type": "markdown",
   "id": "7b1de450-17bf-4f58-8fc4-03f1e5988fa8",
   "metadata": {},
   "source": [
    "##### 5 K-pattern"
   ]
  },
  {
   "cell_type": "code",
   "execution_count": 15,
   "id": "2005fb89-dbb8-4bb2-8598-010cdfe844cf",
   "metadata": {},
   "outputs": [
    {
     "name": "stdout",
     "output_type": "stream",
     "text": [
      "* * * * \n",
      "* * * \n",
      "* * \n",
      "* \n",
      "* \n",
      "* * \n",
      "* * * \n",
      "* * * * \n"
     ]
    }
   ],
   "source": [
    "n=4\n",
    "for i in range(1,n+1):\n",
    "    for j in range(i,n+1):\n",
    "        print(\"*\",end=\" \")\n",
    "    print()\n",
    "for i in range(1,n+1):\n",
    "    for j in range(1,i+1):\n",
    "        print(\"*\",end=\" \")\n",
    "    print()"
   ]
  },
  {
   "cell_type": "markdown",
   "id": "5f2f092b-572e-4e37-a15b-3f59af3365a4",
   "metadata": {},
   "source": [
    "##### 6 WAP to print a specified list after removing the 0th,4th and 5th element"
   ]
  },
  {
   "cell_type": "code",
   "execution_count": 92,
   "id": "018286b4-564d-4c52-9e72-2da26de31288",
   "metadata": {},
   "outputs": [
    {
     "name": "stdout",
     "output_type": "stream",
     "text": [
      "['Green', 'White', 'Black']\n"
     ]
    }
   ],
   "source": [
    "list1=['Red','Green','White','Black','Pink','Yellow']\n",
    "indices=[0,4,5]\n",
    "list2=[]\n",
    "for i in range(len(list1)):\n",
    "    if i not in indices:\n",
    "        list2.append(list1[i])\n",
    "\n",
    "print(list2)"
   ]
  },
  {
   "cell_type": "markdown",
   "id": "a459ec4a-4d6a-4852-8ede-b9a9fb439c3c",
   "metadata": {},
   "source": [
    "##### 7 WAP to print the numbers of a specified list after removing even numbers from it."
   ]
  },
  {
   "cell_type": "code",
   "execution_count": 94,
   "id": "46b8c3f7-875b-4411-add6-490bfb348c72",
   "metadata": {},
   "outputs": [
    {
     "name": "stdout",
     "output_type": "stream",
     "text": [
      "[1, 3, 5, 7, 9]\n"
     ]
    }
   ],
   "source": [
    "list1=[1,2,3,4,5,6,7,8,9,10]\n",
    "list2=[]\n",
    "for i in list1:\n",
    "    if i%2==1:\n",
    "        list2.append(i)\n",
    "\n",
    "print(list2)"
   ]
  },
  {
   "cell_type": "markdown",
   "id": "30b972e4-c544-4f7b-850d-97124d953437",
   "metadata": {},
   "source": [
    "##### 8 WAP to shuffle and print a specified list."
   ]
  },
  {
   "cell_type": "code",
   "execution_count": 22,
   "id": "a3216fc7-6d7e-41a0-9a3c-b050053eecad",
   "metadata": {},
   "outputs": [
    {
     "name": "stdout",
     "output_type": "stream",
     "text": [
      "['Pink', 'Black', 'Red', 'Green', 'White', 'Yellow']\n"
     ]
    }
   ],
   "source": [
    "from random import shuffle   #shuffle function is imported from the random module which is used for shuffling the elements in a list\n",
    "list1=['Red','Green','White','Black','Pink','Yellow']\n",
    "shuffle(list1)\n",
    "print(list1)"
   ]
  },
  {
   "cell_type": "markdown",
   "id": "35cab856-ebd0-4357-919a-b6f82fcbedd4",
   "metadata": {},
   "source": [
    "##### 9 Addition using define function"
   ]
  },
  {
   "cell_type": "code",
   "execution_count": 5,
   "id": "e09c48fd-630a-4338-ae22-f9953aaa598b",
   "metadata": {},
   "outputs": [
    {
     "data": {
      "text/plain": [
       "143"
      ]
     },
     "execution_count": 5,
     "metadata": {},
     "output_type": "execute_result"
    }
   ],
   "source": [
    "def addition(a,b):\n",
    "    c=a+b\n",
    "    return c\n",
    "    \n",
    "addition(80,63)"
   ]
  },
  {
   "cell_type": "markdown",
   "id": "ff741784-8ccc-4506-a3fc-1d1add3b05c5",
   "metadata": {},
   "source": [
    "##### 10 Area of circle"
   ]
  },
  {
   "cell_type": "code",
   "execution_count": 15,
   "id": "177d16d1-e7b9-4ebe-95cd-ee997d091fd8",
   "metadata": {},
   "outputs": [
    {
     "data": {
      "text/plain": [
       "28.26"
      ]
     },
     "execution_count": 15,
     "metadata": {},
     "output_type": "execute_result"
    }
   ],
   "source": [
    "def area(pi,r):\n",
    "    result=pi*(r**2)\n",
    "    return result\n",
    "\n",
    "area(3.14,3)"
   ]
  },
  {
   "cell_type": "code",
   "execution_count": null,
   "id": "1f4ea454-b226-4750-b317-a1f8f4a529a2",
   "metadata": {},
   "outputs": [],
   "source": []
  }
 ],
 "metadata": {
  "kernelspec": {
   "display_name": "Python 3 (ipykernel)",
   "language": "python",
   "name": "python3"
  },
  "language_info": {
   "codemirror_mode": {
    "name": "ipython",
    "version": 3
   },
   "file_extension": ".py",
   "mimetype": "text/x-python",
   "name": "python",
   "nbconvert_exporter": "python",
   "pygments_lexer": "ipython3",
   "version": "3.12.4"
  }
 },
 "nbformat": 4,
 "nbformat_minor": 5
}
