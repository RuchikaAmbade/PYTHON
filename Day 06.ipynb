{
 "cells": [
  {
   "cell_type": "code",
   "execution_count": 1,
   "id": "ab3d4418-e41b-405a-b8f3-3cc214591d24",
   "metadata": {},
   "outputs": [
    {
     "name": "stdin",
     "output_type": "stream",
     "text": [
      "Enter age of 1st person 48\n",
      "Enter age of 2nd person 67\n",
      "Enter age of 3rd person 93\n",
      "Enter age of 4th person 15\n"
     ]
    },
    {
     "name": "stdout",
     "output_type": "stream",
     "text": [
      "d is the youngest one\n"
     ]
    }
   ],
   "source": [
    "# 1 Accept the age of four people and display the youngest one\n",
    "a=int(input(\"Enter age of 1st person\"))\n",
    "b=int(input(\"Enter age of 2nd person\"))\n",
    "c=int(input(\"Enter age of 3rd person\"))\n",
    "d=int(input(\"Enter age of 4th person\"))\n",
    "if a<b and a<c and a<d:\n",
    "    print(\"a is the youngest one\")\n",
    "elif b<a and b<c and b<d:\n",
    "    print(\"b is the youngest one\")\n",
    "elif c<a and c<b and c<d:\n",
    "    print(\"c is the youngest one\")\n",
    "else:\n",
    "    print(\"d is the youngest one\")"
   ]
  },
  {
   "cell_type": "code",
   "execution_count": 5,
   "id": "7742be05-a4ca-4d58-9daa-33b403f8d5a1",
   "metadata": {},
   "outputs": [
    {
     "name": "stdin",
     "output_type": "stream",
     "text": [
      "Enter age of 1st person 35\n",
      "Enter age of 2nd person 98\n",
      "Enter age of 3rd person 36\n",
      "Enter age of 4th person 15\n"
     ]
    },
    {
     "name": "stdout",
     "output_type": "stream",
     "text": [
      "b is the oldest one\n"
     ]
    }
   ],
   "source": [
    "# 2 Accept the age of four people and display the oldest one\n",
    "a=int(input(\"Enter age of 1st person\"))\n",
    "b=int(input(\"Enter age of 2nd person\"))\n",
    "c=int(input(\"Enter age of 3rd person\"))\n",
    "d=int(input(\"Enter age of 4th person\"))\n",
    "if a>b and a>c and a>d:\n",
    "    print(\"a is the oldest one\")\n",
    "elif b>a and b>c and b>d:\n",
    "    print(\"b is the oldest one\")\n",
    "elif c>a and c>b and c>d:\n",
    "    print(\"c is the oldest one\")\n",
    "else:\n",
    "    print(\"d is the oldest one\")"
   ]
  },
  {
   "cell_type": "code",
   "execution_count": 21,
   "id": "49b1b255-6ef9-459c-962c-2a2a699587fc",
   "metadata": {},
   "outputs": [
    {
     "name": "stdin",
     "output_type": "stream",
     "text": [
      "Enter any number 6\n"
     ]
    },
    {
     "name": "stdout",
     "output_type": "stream",
     "text": [
      "Entered number is prime\n"
     ]
    }
   ],
   "source": [
    "# 3 WAP to check whether a number is a prime number or not\n",
    "n=int(input(\"Enter any number\"))\n",
    "if n%1==0 and n%n==0:\n",
    "    print(\"Entered number is prime\")\n",
    "else:\n",
    "    print(\"Entered number is not prime\")"
   ]
  },
  {
   "cell_type": "code",
   "execution_count": 27,
   "id": "a955ec0d-f660-4f1a-8d69-e467923a541b",
   "metadata": {},
   "outputs": [
    {
     "name": "stdin",
     "output_type": "stream",
     "text": [
      "Enter any character i\n"
     ]
    },
    {
     "name": "stdout",
     "output_type": "stream",
     "text": [
      "Entered character is a vowel\n"
     ]
    }
   ],
   "source": [
    "# 4 WAP to check a character is vowel or not\n",
    "ch=str(input(\"Enter any character\"))\n",
    "k=\"aeiouAEIOU\"\n",
    "if ch in k:\n",
    "    print(\"Entered character is a vowel\")\n",
    "else:\n",
    "    print(\"Entered character is not a vowel\")"
   ]
  },
  {
   "cell_type": "code",
   "execution_count": 31,
   "id": "c7e40da6-0bd4-46a8-ba01-392521a9849b",
   "metadata": {},
   "outputs": [
    {
     "name": "stdin",
     "output_type": "stream",
     "text": [
      "Enter total no. of working days : 30\n",
      "Enter total no. of days for absent : 4\n"
     ]
    },
    {
     "name": "stdout",
     "output_type": "stream",
     "text": [
      "You are able to sit in exam\n"
     ]
    }
   ],
   "source": [
    "# 5 Accept the following from the user and calculate the percentage of class attended:\n",
    "# a-Total no. of working days\n",
    "# b-Total no. of days for absent\n",
    "# After calculating percentage show that,if the percentage is < 75, than student will not be able to sit in the exam\n",
    "wd=int(input(\"Enter total no. of working days :\"))\n",
    "ad=int(input(\"Enter total no. of days for absent :\"))\n",
    "per=((wd-ad)/wd)*100\n",
    "if per<75:\n",
    "    print(\"You are not able to sit in exam\")\n",
    "else:\n",
    "    print(\"You are able to sit in exam\")"
   ]
  },
  {
   "cell_type": "code",
   "execution_count": 11,
   "id": "5278f6c0-3505-4e59-9238-5cab2072a7ac",
   "metadata": {},
   "outputs": [
    {
     "name": "stdin",
     "output_type": "stream",
     "text": [
      "Enter your percentage 76\n"
     ]
    },
    {
     "name": "stdout",
     "output_type": "stream",
     "text": [
      "Grade - A\n"
     ]
    }
   ],
   "source": [
    "# 6 Accept the percentage from the user and and display the grade according to the followinfg criteria:\n",
    "# below 25-D , 25-45 -C , 45-50 -B , 50-60 -B+ , 60-80 -A , above 80-A+\n",
    "per=int(input(\"Enter your percentage\"))\n",
    "if per<25:\n",
    "    print(\"Grade - D\")\n",
    "elif per>=25 and per<45:\n",
    "    print(\"Grade - C\")\n",
    "elif per>=45 and per<50:\n",
    "    print(\"Grade - B\")\n",
    "elif per>=50 and per<60:\n",
    "    print(\"Grade - B+\")\n",
    "elif per>=60 and per<80:\n",
    "    print(\"Grade - A\")\n",
    "else:\n",
    "    print(\"Grade - A+\")"
   ]
  },
  {
   "cell_type": "code",
   "execution_count": 23,
   "id": "2516b294-c962-4fd6-be35-7a26b15bc826",
   "metadata": {},
   "outputs": [
    {
     "name": "stdin",
     "output_type": "stream",
     "text": [
      "Enter your salary : 50000\n",
      "Enter time perriod of service 12\n"
     ]
    },
    {
     "name": "stdout",
     "output_type": "stream",
     "text": [
      "Bonus 5000.0\n"
     ]
    }
   ],
   "source": [
    "# 7 A company decided to give bonus to employee according to following criteria:\n",
    "#Time period of service , Bonus\n",
    "#more tha 10 years - 10%,>=6 and <=10 - 8% , less than 6 years - 5%\n",
    "sal=int(input(\"Enter your salary :\"))\n",
    "yr= int(input(\"Enter time perriod of service\"))\n",
    "if yr>10:\n",
    "    B=10/100*sal\n",
    "    print(\"Bonus\",B)\n",
    "elif yr>=6 and yr<=10:\n",
    "    B=8/100*sal\n",
    "    print(\"Bonus\",B)\n",
    "elif yr<6:\n",
    "    B=5/100*sal\n",
    "    print(\"Bonus\",B)\n",
    "    "
   ]
  },
  {
   "cell_type": "code",
   "execution_count": 35,
   "id": "b076c09c-7921-4bac-b0c0-298505d774de",
   "metadata": {},
   "outputs": [
    {
     "name": "stdin",
     "output_type": "stream",
     "text": [
      "Enter market price 8000\n"
     ]
    },
    {
     "name": "stdout",
     "output_type": "stream",
     "text": [
      "Discount = 1200.0\n"
     ]
    }
   ],
   "source": [
    "# 8 Accept the market price from the user and calculate the Net amount to pay accprding to following criteria:\n",
    "# >10000-20% , >7000 and <=10000 - 15% , <=7000 - 10%\n",
    "mp=int(input(\"Enter market price\"))\n",
    "if mp>10000:\n",
    "    D=20/100*mp\n",
    "    print(\"Discount =\",D)\n",
    "elif mp>7000 and mp<=10000:\n",
    "    D=(15/100)*mp\n",
    "    print(\"Discount =\",D)\n",
    "elif mp<=7000:\n",
    "    D=10/100*mp\n",
    "    print(\"Discount =\",D)"
   ]
  },
  {
   "cell_type": "code",
   "execution_count": 55,
   "id": "269e080c-5e31-40f4-81b8-28567c1df7b0",
   "metadata": {},
   "outputs": [
    {
     "name": "stdin",
     "output_type": "stream",
     "text": [
      "Enter your percentage 78\n"
     ]
    },
    {
     "name": "stdout",
     "output_type": "stream",
     "text": [
      "Excellent\n"
     ]
    }
   ],
   "source": [
    "# 9 WAP to accept % and display the category according to the following criteria :\n",
    "# <40-failed , >=40 & <55-fair , >=55 & <65- good , >=65-excellent\n",
    "per=int(input(\"Enter your percentage\"))\n",
    "if per<40:\n",
    "    print(\"Failed\")\n",
    "elif per>=40 and per<55:\n",
    "    print(\"Fair\")\n",
    "elif per>=55 and per<65:\n",
    "    print(\"Good\")\n",
    "elif per>=65:\n",
    "    print(\"Excellent\")"
   ]
  },
  {
   "cell_type": "code",
   "execution_count": 67,
   "id": "9044c140-ed85-4819-94e5-e12e59ed0b25",
   "metadata": {},
   "outputs": [
    {
     "name": "stdin",
     "output_type": "stream",
     "text": [
      "Enter value of first side : 3\n",
      "Enter value of second side : 4\n",
      "Enter value of third side : 5\n"
     ]
    },
    {
     "name": "stdout",
     "output_type": "stream",
     "text": [
      "Scalene triangle\n"
     ]
    }
   ],
   "source": [
    "# 10 Accept the three sides of a triangle and chcek whether it is an equilateral, isosceles or scalene triangle\n",
    "s1=int(input(\"Enter value of first side :\"))\n",
    "s2=int(input(\"Enter value of second side :\"))\n",
    "s3=int(input(\"Enter value of third side :\"))\n",
    "if s1==s2 and s2==s3:\n",
    "    print(\"Equilateral triangle\")\n",
    "elif (s1==s2 and s2!=s3) or (s1==s3 and s3!=s2) or (s2==s3 and s3!=s1):\n",
    "    print(\"Isosceles triangle\")\n",
    "elif s1!=s2!=s3:\n",
    "    print(\"Scalene triangle\")"
   ]
  },
  {
   "cell_type": "code",
   "execution_count": null,
   "id": "b54d8620-b69c-4ab7-9cd1-fc920e46122d",
   "metadata": {},
   "outputs": [],
   "source": []
  }
 ],
 "metadata": {
  "kernelspec": {
   "display_name": "Python 3 (ipykernel)",
   "language": "python",
   "name": "python3"
  },
  "language_info": {
   "codemirror_mode": {
    "name": "ipython",
    "version": 3
   },
   "file_extension": ".py",
   "mimetype": "text/x-python",
   "name": "python",
   "nbconvert_exporter": "python",
   "pygments_lexer": "ipython3",
   "version": "3.12.4"
  }
 },
 "nbformat": 4,
 "nbformat_minor": 5
}
