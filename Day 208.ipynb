{
 "cells": [
  {
   "cell_type": "code",
   "execution_count": null,
   "id": "fc018d9c-062e-4545-910c-560a6e054c47",
   "metadata": {},
   "outputs": [],
   "source": [
    "1. Write a Python program to print the following string in a specific format (see the output).\n",
    "Sample String : \"Twinkle, twinkle, little star, How I wonder what you are! Up above the world so high, Like a diamond in the sky. Twinkle, twinkle, little star, How I wonder what you are\" Output :\n",
    "\n",
    "Twinkle, twinkle, little star,\n",
    "\tHow I wonder what you are! \n",
    "\t\tUp above the world so high,   \t\t\n",
    "\t\tLike a diamond in the sky. \n",
    "Twinkle, twinkle, little star, \n",
    "\tHow I wonder what you areb"
   ]
  },
  {
   "cell_type": "code",
   "execution_count": 57,
   "id": "36c712d1-8718-4042-9e89-af297f0076dc",
   "metadata": {},
   "outputs": [
    {
     "name": "stdout",
     "output_type": "stream",
     "text": [
      "Twinkle, twinkle, little star,\n",
      "\tHow I wonder what you are!\n",
      "\t\tUp above the world so high,\n",
      "\t\tLike a diamond in the sky.\n",
      "Twinkle, twinkle, little star,\n",
      "\tHow I wonder what you are\n"
     ]
    }
   ],
   "source": [
    "print(\"Twinkle, twinkle, little star,\\n\\tHow I wonder what you are!\\n\\t\\tUp above the world so high,\\n\\t\\tLike a diamond in the sky.\\nTwinkle, twinkle, little star,\\n\\tHow I wonder what you are\")"
   ]
  },
  {
   "cell_type": "markdown",
   "id": "53159e30-1a15-4e57-9ce6-ae41c7a4d406",
   "metadata": {},
   "source": [
    "2. Write a Python program to get the Python version you are using"
   ]
  },
  {
   "cell_type": "code",
   "execution_count": 55,
   "id": "d46a3759-19f2-41cb-92a0-cf13ce608897",
   "metadata": {},
   "outputs": [
    {
     "name": "stdout",
     "output_type": "stream",
     "text": [
      "Version 3.12.4 | packaged by Anaconda, Inc. | (main, Jun 18 2024, 15:03:56) [MSC v.1929 64 bit (AMD64)]\n",
      "Version_info sys.version_info(major=3, minor=12, micro=4, releaselevel='final', serial=0)\n"
     ]
    }
   ],
   "source": [
    "import sys\n",
    "version = sys.version\n",
    "version_info = sys.version_info\n",
    "print('Version',version)\n",
    "print('Version_info',version_info)"
   ]
  },
  {
   "cell_type": "markdown",
   "id": "e3f896f1-1131-435e-988a-97bd4f842188",
   "metadata": {},
   "source": [
    "3. Write a Python program to display the current date and time."
   ]
  },
  {
   "cell_type": "code",
   "execution_count": 49,
   "id": "412cf703-ff92-4f40-950f-f4e337b892e0",
   "metadata": {},
   "outputs": [
    {
     "name": "stdout",
     "output_type": "stream",
     "text": [
      "Current date and time : 2025-04-17 16:45:32.035679\n"
     ]
    }
   ],
   "source": [
    "import datetime\n",
    "now = datetime.datetime.now()\n",
    "print('Current date and time :', now)"
   ]
  },
  {
   "cell_type": "markdown",
   "id": "16689376-79fc-40c1-8e33-663e802c567b",
   "metadata": {},
   "source": [
    "4. Write a Python program which accepts the radius of a circle from the user and compute the area"
   ]
  },
  {
   "cell_type": "code",
   "execution_count": 46,
   "id": "50692ca8-7d5b-4694-aa99-688d40be6379",
   "metadata": {},
   "outputs": [
    {
     "name": "stdin",
     "output_type": "stream",
     "text": [
      "Enter radius of a circle: 3.12\n"
     ]
    },
    {
     "name": "stdout",
     "output_type": "stream",
     "text": [
      "Area of a circle is : 30.581519527104483\n"
     ]
    }
   ],
   "source": [
    "import numpy as np\n",
    "radius = float(input('Enter radius of a circle:'))\n",
    "area = np.pi*radius*radius\n",
    "print('Area of a circle is :',area)"
   ]
  },
  {
   "cell_type": "markdown",
   "id": "e207ce5d-76d3-4a0c-ac53-47fc19f84721",
   "metadata": {},
   "source": [
    "5. Write a Python program which accepts the user's first and last name and print them in reverse order with a space between them."
   ]
  },
  {
   "cell_type": "code",
   "execution_count": 44,
   "id": "a843b2a6-0cc0-45a8-91e8-a48aef5f54fb",
   "metadata": {},
   "outputs": [
    {
     "name": "stdin",
     "output_type": "stream",
     "text": [
      "Enter your fisrt name: Ruchika\n",
      "Enter your last_name: Ambade\n"
     ]
    },
    {
     "name": "stdout",
     "output_type": "stream",
     "text": [
      "Hello  Ambade Ruchika\n",
      "akihcuR edabmA\n"
     ]
    }
   ],
   "source": [
    "first_name = input('Enter your fisrt name:')\n",
    "last_name = input('Enter your last_name:')\n",
    "print('Hello ',last_name,first_name)\n",
    "print(first_name[::-1],last_name[::-1])"
   ]
  },
  {
   "cell_type": "markdown",
   "id": "30d88fb3-5ba6-4320-836e-cbe7616df567",
   "metadata": {},
   "source": [
    "6. Write a Python program which accepts a sequence of comma-separated numbers from user and generate a list  with those numbers"
   ]
  },
  {
   "cell_type": "code",
   "execution_count": 38,
   "id": "679cd232-491b-4b8d-bab9-909cbabda7d7",
   "metadata": {},
   "outputs": [
    {
     "name": "stdin",
     "output_type": "stream",
     "text": [
      "Enter comma separated numbers : 1,2,3\n"
     ]
    },
    {
     "data": {
      "text/plain": [
       "[1, 2, 3]"
      ]
     },
     "execution_count": 38,
     "metadata": {},
     "output_type": "execute_result"
    }
   ],
   "source": [
    "num = (input('Enter comma separated numbers :'))\n",
    "list1 = num.split(',')\n",
    "new_list = [int(i) for i in list1]\n",
    "new_list"
   ]
  },
  {
   "cell_type": "markdown",
   "id": "d54aa4e3-97e6-43c5-b3ab-262bfda40898",
   "metadata": {},
   "source": [
    "7. Write a Python program to accept a filename from the user and print the extension of that"
   ]
  },
  {
   "cell_type": "code",
   "execution_count": 28,
   "id": "1f5dc8ff-3697-4720-9471-dab6198db568",
   "metadata": {},
   "outputs": [
    {
     "name": "stdout",
     "output_type": "stream",
     "text": [
      "txt\n"
     ]
    }
   ],
   "source": [
    "file_name = 'abc.txt'\n",
    "ext = file_name.split('.')\n",
    "print(ext[-1])"
   ]
  },
  {
   "cell_type": "markdown",
   "id": "ec05b81d-740d-4621-96b1-d293762e9295",
   "metadata": {},
   "source": [
    "8. Write a Python program to display the first and last colors from the following list\n",
    "color_list = [\"yellow\",\"Green\",\"grey\" ,\"orange\"]"
   ]
  },
  {
   "cell_type": "code",
   "execution_count": 18,
   "id": "27a0483c-bf67-4f4a-a5ca-19359d161021",
   "metadata": {},
   "outputs": [
    {
     "name": "stdout",
     "output_type": "stream",
     "text": [
      "yellow\n",
      "orange\n"
     ]
    }
   ],
   "source": [
    "col_list = [\"yellow\",\"Green\",\"grey\" ,\"orange\"]\n",
    "print(col_list[0])\n",
    "print(col_list[-1])"
   ]
  },
  {
   "cell_type": "markdown",
   "id": "d7475bd4-31e5-493f-95a5-c7eb64b6dc57",
   "metadata": {},
   "source": [
    "9. Write a Python program that accepts an integer (n) and computes the value of n+nn+nnn"
   ]
  },
  {
   "cell_type": "code",
   "execution_count": 14,
   "id": "878e9432-669c-41fc-87c4-654c185b454a",
   "metadata": {},
   "outputs": [
    {
     "name": "stdin",
     "output_type": "stream",
     "text": [
      " 12\n"
     ]
    },
    {
     "name": "stdout",
     "output_type": "stream",
     "text": [
      "122436\n"
     ]
    }
   ],
   "source": [
    "x = int(input())\n",
    "n = int('%s' % x)\n",
    "nn = int('%s%s' % (x,x))\n",
    "nnn = int('%s%s%s' % (x,x,x))\n",
    "value = n+nn+nnn\n",
    "print(value)"
   ]
  },
  {
   "cell_type": "markdown",
   "id": "1552c458-32ea-4643-b774-2f8caa848e06",
   "metadata": {},
   "source": [
    "10.Write a program to demonstrate different number data types in Python."
   ]
  },
  {
   "cell_type": "code",
   "execution_count": 10,
   "id": "b7a93703-1826-4890-9fcb-c83b385a1d9e",
   "metadata": {},
   "outputs": [
    {
     "name": "stdout",
     "output_type": "stream",
     "text": [
      "The datatype of a is : <class 'int'>\n",
      "The datatype of b is : <class 'str'>\n",
      "The datatype of c is : <class 'float'>\n",
      "The datatype of d is : <class 'bool'>\n"
     ]
    }
   ],
   "source": [
    "a = 24\n",
    "b = 'March'\n",
    "c = 40.50\n",
    "d = True\n",
    "\n",
    "print('The datatype of a is :',type(a))\n",
    "print('The datatype of b is :',type(b))\n",
    "print('The datatype of c is :',type(c))\n",
    "print('The datatype of d is :',type(d))\n"
   ]
  },
  {
   "cell_type": "code",
   "execution_count": null,
   "id": "0f2e9ce2-b8aa-471f-839c-95f6dabde5ef",
   "metadata": {},
   "outputs": [],
   "source": []
  }
 ],
 "metadata": {
  "kernelspec": {
   "display_name": "Python 3 (ipykernel)",
   "language": "python",
   "name": "python3"
  },
  "language_info": {
   "codemirror_mode": {
    "name": "ipython",
    "version": 3
   },
   "file_extension": ".py",
   "mimetype": "text/x-python",
   "name": "python",
   "nbconvert_exporter": "python",
   "pygments_lexer": "ipython3",
   "version": "3.12.4"
  }
 },
 "nbformat": 4,
 "nbformat_minor": 5
}
