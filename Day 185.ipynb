{
 "cells": [
  {
   "cell_type": "markdown",
   "id": "faa836a3-1b78-4656-9e53-46bed3f060c8",
   "metadata": {},
   "source": [
    "Python Program to find sum of array"
   ]
  },
  {
   "cell_type": "code",
   "execution_count": 19,
   "id": "8b49ac34-4603-4b7d-893d-c0b470a3de44",
   "metadata": {},
   "outputs": [
    {
     "name": "stdout",
     "output_type": "stream",
     "text": [
      "10\n"
     ]
    }
   ],
   "source": [
    "import numpy as np\n",
    "a=np.array([1,2,3,4])\n",
    "sum=0\n",
    "for i in a:\n",
    "    sum=sum+i\n",
    "\n",
    "print(sum)"
   ]
  },
  {
   "cell_type": "code",
   "execution_count": null,
   "id": "67182830-fdae-491e-be09-7f30ff4338be",
   "metadata": {},
   "outputs": [],
   "source": []
  },
  {
   "cell_type": "markdown",
   "id": "84dda515-8414-44a0-87a7-9cba3f20584c",
   "metadata": {},
   "source": [
    "Write a program to create, concatenate and print a string and accessing sub-string from a given string"
   ]
  },
  {
   "cell_type": "code",
   "execution_count": 23,
   "id": "e72715b7-b95d-4c97-9d52-a00a96b2956a",
   "metadata": {},
   "outputs": [
    {
     "name": "stdin",
     "output_type": "stream",
     "text": [
      "Enter the first string  Shubhangi\n",
      "Enter the second string  Sakarkar\n"
     ]
    },
    {
     "name": "stdout",
     "output_type": "stream",
     "text": [
      "The first string entered is Shubhangi\n",
      "The second string entered is Sakarkar\n",
      "Concatination of two different strings : ShubhangiSakarkar\n",
      "Substring of s1 hu\n",
      "Substring of s2 k\n"
     ]
    }
   ],
   "source": [
    "s1=input('Enter the first string ')\n",
    "s2=input('Enter the second string ')\n",
    "print('The first string entered is',s1)\n",
    "print('The second string entered is',s2)\n",
    "print('Concatination of two different strings :',s1+s2)\n",
    "print('Substring of s1',s1[1:3])\n",
    "print('Substring of s2',s2[2:3])"
   ]
  },
  {
   "cell_type": "code",
   "execution_count": null,
   "id": "02aee5e2-a499-4faa-9826-9e0397c3fb2f",
   "metadata": {},
   "outputs": [],
   "source": []
  },
  {
   "cell_type": "markdown",
   "id": "65ba2fb1-c28d-475c-9eb2-c330034c3b58",
   "metadata": {},
   "source": [
    "Write a python program to find largest of three numbers."
   ]
  },
  {
   "cell_type": "code",
   "execution_count": 25,
   "id": "cca84957-9ada-49e5-bccc-138f3ce4b8fc",
   "metadata": {},
   "outputs": [
    {
     "name": "stdin",
     "output_type": "stream",
     "text": [
      "Enter first number : 24.26\n",
      "Enter seconnd number : 14.39\n",
      "Enter third number : 12\n"
     ]
    },
    {
     "name": "stdout",
     "output_type": "stream",
     "text": [
      "The highest number is  24.26\n"
     ]
    }
   ],
   "source": [
    "n1=float(input('Enter first number :'))\n",
    "n2=float(input('Enter seconnd number :'))\n",
    "n3=float(input('Enter third number :'))\n",
    "\n",
    "if n1>n2 and n1>n3:\n",
    "    print('The highest number is ',n1)\n",
    "elif n2>n1 and n2>n3:\n",
    "    print('The highest number is ',n2)\n",
    "else:\n",
    "    print('The highest number is ',n3)"
   ]
  },
  {
   "cell_type": "code",
   "execution_count": null,
   "id": "c932c628-bee5-4e31-b4a1-95bf16325746",
   "metadata": {},
   "outputs": [],
   "source": []
  },
  {
   "cell_type": "markdown",
   "id": "2720b478-ab93-4ec3-9708-a45de5a340f9",
   "metadata": {},
   "source": [
    "Write a Python program to convert temperatures to and from Celsius, Fahrenheit. [ Formula: c = (f-32)(5/9)]"
   ]
  },
  {
   "cell_type": "code",
   "execution_count": 31,
   "id": "005b1893-75da-4a26-b574-c5dd2cc7b668",
   "metadata": {},
   "outputs": [
    {
     "name": "stdin",
     "output_type": "stream",
     "text": [
      "Enter temperature : 15\n",
      "Enter unit c\n"
     ]
    },
    {
     "name": "stdout",
     "output_type": "stream",
     "text": [
      "Temperature in ferenhite is 59.0\n"
     ]
    }
   ],
   "source": [
    "temp = float(input('Enter temperature :'))\n",
    "unit = input('Enter unit')\n",
    "if unit=='C' or unit=='c':\n",
    "    new_temp = temp*(9/5) + 32\n",
    "    print('Temperature in ferenhite is',new_temp)\n",
    "elif unit=='F' or unit=='f':\n",
    "    new_temp = tem*(5/9) - 32\n",
    "    print('Temperature in celsius is',new_temp)\n",
    "else:\n",
    "    print('Unknown unit passed')"
   ]
  },
  {
   "cell_type": "code",
   "execution_count": null,
   "id": "623648ea-1a7e-4fb8-860f-a3c4d052a878",
   "metadata": {},
   "outputs": [],
   "source": []
  },
  {
   "cell_type": "markdown",
   "id": "b0905e26-10f1-4851-aeeb-208dd025201f",
   "metadata": {},
   "source": [
    " Write a Python program to construct the following pattern, using a\n",
    " nested for loop"
   ]
  },
  {
   "cell_type": "markdown",
   "id": "56a2d761-1ede-4583-b264-dc5b7187370e",
   "metadata": {},
   "source": [
    "\n",
    "*\n",
    "* *\n",
    "* * *\n",
    "* * * *\n",
    "* * * * *\n",
    "* * * *\n",
    "* * *\n",
    "* *\n",
    "*"
   ]
  },
  {
   "cell_type": "code",
   "execution_count": 10,
   "id": "553ab2ce-3ee3-43bb-b6fa-1249e93e1b9e",
   "metadata": {},
   "outputs": [
    {
     "name": "stdout",
     "output_type": "stream",
     "text": [
      "* \n",
      "* * \n",
      "* * * \n",
      "* * * * \n",
      "* * * * * \n",
      "* * * * \n",
      "* * * \n",
      "* * \n",
      "* \n"
     ]
    }
   ],
   "source": [
    "n=5\n",
    "for i in range(1,n+1):\n",
    "    for j in range(1,i+1):\n",
    "        print('*',end=' ')\n",
    "    print()\n",
    "for i in range(2,n+1):\n",
    "    for j in range(i,n+1):\n",
    "        print('*',end=' ')\n",
    "    print()"
   ]
  },
  {
   "cell_type": "code",
   "execution_count": null,
   "id": "84224308-9ce5-44a8-9d4a-3ef0489c6581",
   "metadata": {},
   "outputs": [],
   "source": []
  },
  {
   "cell_type": "markdown",
   "id": "af104e7e-c82a-439d-8318-d55afa75abcf",
   "metadata": {},
   "source": [
    ".Write a program that accepts the lengths of three sides of a triangle as inputs. The program output should indicate whether or not the triangle is a right triangle (Recall from the Pythagorean Theorem that in a right triangle, the square of one side equals the sum of the squares of the other two sides).\n",
    "\n"
   ]
  },
  {
   "cell_type": "code",
   "execution_count": 14,
   "id": "4e9285ee-5b4a-40ca-ba52-7f25542a58e2",
   "metadata": {},
   "outputs": [
    {
     "name": "stdin",
     "output_type": "stream",
     "text": [
      "Enter length of hypoteneous : 5\n",
      "Enter length of base : 3\n",
      "Enter length of height : 4\n"
     ]
    },
    {
     "name": "stdout",
     "output_type": "stream",
     "text": [
      "The triangle ia s right angle triangle.\n"
     ]
    }
   ],
   "source": [
    "hypo=float(input('Enter length of hypoteneous :'))\n",
    "base=float(input('Enter length of base :'))\n",
    "height=float(input('Enter length of height :'))5\n",
    "if hypo**2 == (base**2)+(height**2):\n",
    "    print('The triangle ia s right angle triangle.')\n",
    "else:\n",
    "    print('The triangle is not a right angle triangle.')"
   ]
  },
  {
   "cell_type": "code",
   "execution_count": null,
   "id": "57d014a4-c0ba-43a4-ab54-3baafb866ffd",
   "metadata": {},
   "outputs": [],
   "source": []
  },
  {
   "cell_type": "markdown",
   "id": "ecdf0acc-1d28-40a5-bfc1-351111ef2ccf",
   "metadata": {},
   "source": [
    "Given a range of the first 10 numbers, Iterate from the start number to the end number, and In each iteration print the sum of the current number and previous number\n"
   ]
  },
  {
   "cell_type": "code",
   "execution_count": 52,
   "id": "0b19bd96-b0e7-4728-9aae-8ef4ddbd012d",
   "metadata": {},
   "outputs": [
    {
     "name": "stdout",
     "output_type": "stream",
     "text": [
      "Current Number : 0,Previous Number = 0,Sum = 0\n",
      "Current Number : 1,Previous Number = 0,Sum = 1\n",
      "Current Number : 2,Previous Number = 1,Sum = 3\n",
      "Current Number : 3,Previous Number = 2,Sum = 5\n",
      "Current Number : 4,Previous Number = 3,Sum = 7\n",
      "Current Number : 5,Previous Number = 4,Sum = 9\n",
      "Current Number : 6,Previous Number = 5,Sum = 11\n",
      "Current Number : 7,Previous Number = 6,Sum = 13\n",
      "Current Number : 8,Previous Number = 7,Sum = 15\n",
      "Current Number : 9,Previous Number = 8,Sum = 17\n"
     ]
    }
   ],
   "source": [
    "num = 10\n",
    "previous_num=0\n",
    "for curr_num in range(num):\n",
    "    sum_num=previous_num + curr_num\n",
    "    print(f'Current Number : {curr_num},Previous Number = {previous_num},Sum = {sum_num}')\n",
    "    previous_num = curr_num"
   ]
  },
  {
   "cell_type": "code",
   "execution_count": null,
   "id": "be16e7a6-05df-4eb6-b000-ab694b845237",
   "metadata": {},
   "outputs": [],
   "source": []
  },
  {
   "cell_type": "markdown",
   "id": "81c3c43d-ff9b-4034-91c5-e010566cd9d4",
   "metadata": {},
   "source": [
    "Given a string, display only those characters which are present at an even index number.\n",
    "\n"
   ]
  },
  {
   "cell_type": "code",
   "execution_count": 44,
   "id": "8866d79c-7ec1-4fd6-9363-b60a2749e353",
   "metadata": {},
   "outputs": [
    {
     "name": "stdout",
     "output_type": "stream",
     "text": [
      "0 S\n",
      "2 u\n",
      "4 h\n",
      "6 n\n",
      "8 i\n"
     ]
    }
   ],
   "source": [
    "string = 'Shubhangi'\n",
    "for i in range(0,len(string)):\n",
    "    if i%2==0:\n",
    "        print(i,string[i])"
   ]
  },
  {
   "cell_type": "code",
   "execution_count": null,
   "id": "6479db6c-f8de-4f2f-8e79-3177e974ddad",
   "metadata": {},
   "outputs": [],
   "source": []
  },
  {
   "cell_type": "markdown",
   "id": "a88d44c3-e7b8-45ad-9be6-dd1bf44795aa",
   "metadata": {},
   "source": [
    "Return the count of sub-string “Shubhangi” appears in the given string\n",
    "\n"
   ]
  },
  {
   "cell_type": "code",
   "execution_count": 26,
   "id": "0c5761da-3523-4300-9fa6-9c99ebfa25bc",
   "metadata": {},
   "outputs": [
    {
     "name": "stdout",
     "output_type": "stream",
     "text": [
      "2\n"
     ]
    }
   ],
   "source": [
    "str = \"Shubhangi is good developer. Shubhangi is a Data Scientist\"\n",
    "count = str.count('Shubhangi')\n",
    "print(count)"
   ]
  },
  {
   "cell_type": "code",
   "execution_count": null,
   "id": "fd8c0908-34e1-4a85-bf32-e5ff849a4314",
   "metadata": {},
   "outputs": [],
   "source": []
  },
  {
   "cell_type": "code",
   "execution_count": null,
   "id": "92d5cf43-120d-41d1-aef8-df86d6c5efa6",
   "metadata": {},
   "outputs": [],
   "source": []
  }
 ],
 "metadata": {
  "kernelspec": {
   "display_name": "Python 3 (ipykernel)",
   "language": "python",
   "name": "python3"
  },
  "language_info": {
   "codemirror_mode": {
    "name": "ipython",
    "version": 3
   },
   "file_extension": ".py",
   "mimetype": "text/x-python",
   "name": "python",
   "nbconvert_exporter": "python",
   "pygments_lexer": "ipython3",
   "version": "3.12.4"
  }
 },
 "nbformat": 4,
 "nbformat_minor": 5
}
