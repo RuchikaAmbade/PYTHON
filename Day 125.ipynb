{
 "cells": [
  {
   "cell_type": "markdown",
   "id": "85f4717c-b62a-4d66-931a-8dd33ac81056",
   "metadata": {},
   "source": [
    "#####  WAP to calculate the number of days between the dates."
   ]
  },
  {
   "cell_type": "code",
   "execution_count": 2,
   "id": "e40cc1c2-6f33-444b-a372-c668d3891707",
   "metadata": {},
   "outputs": [
    {
     "name": "stdout",
     "output_type": "stream",
     "text": [
      "9\n"
     ]
    }
   ],
   "source": [
    "from datetime import date\n",
    "f_date=date(2014,7,2)\n",
    "l_date=date(2014,7,11)\n",
    "no_of_days=l_date - f_date\n",
    "print(no_of_days.days)"
   ]
  },
  {
   "cell_type": "markdown",
   "id": "055cb3ce-071d-4409-abc5-7b458a5d872f",
   "metadata": {},
   "source": [
    "##### WAP to get a newly-generated sring from a given string where 'Is' has been added to the front. Return the string unchange if the given string already begins with 'Is'."
   ]
  },
  {
   "cell_type": "code",
   "execution_count": 6,
   "id": "37c29ca9-765c-472b-8c05-7576e8200ea8",
   "metadata": {},
   "outputs": [
    {
     "name": "stdout",
     "output_type": "stream",
     "text": [
      "IsNull\n",
      "IsArray\n"
     ]
    }
   ],
   "source": [
    "def string(text):\n",
    "    if len(text)>=2 and text[:2]=='Is':\n",
    "        return text\n",
    "    else:\n",
    "        return 'Is'+text\n",
    "\n",
    "print(string('Null'))\n",
    "print(string('IsArray'))"
   ]
  },
  {
   "cell_type": "code",
   "execution_count": null,
   "id": "ea5ca13e-39a6-48eb-85de-51e8075426a2",
   "metadata": {},
   "outputs": [],
   "source": []
  }
 ],
 "metadata": {
  "kernelspec": {
   "display_name": "Python 3 (ipykernel)",
   "language": "python",
   "name": "python3"
  },
  "language_info": {
   "codemirror_mode": {
    "name": "ipython",
    "version": 3
   },
   "file_extension": ".py",
   "mimetype": "text/x-python",
   "name": "python",
   "nbconvert_exporter": "python",
   "pygments_lexer": "ipython3",
   "version": "3.12.4"
  }
 },
 "nbformat": 4,
 "nbformat_minor": 5
}
