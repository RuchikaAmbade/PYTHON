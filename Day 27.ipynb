{
 "cells": [
  {
   "cell_type": "markdown",
   "id": "5646c5ba-7634-4a17-83f6-d4147c20531f",
   "metadata": {},
   "source": [
    "##### 1 WAP to caculate the sum of numbers from 1 to 10 using for loop"
   ]
  },
  {
   "cell_type": "code",
   "execution_count": 3,
   "id": "cc6e104a-d714-4212-8e76-c87ae866edfa",
   "metadata": {},
   "outputs": [
    {
     "name": "stdout",
     "output_type": "stream",
     "text": [
      "55\n"
     ]
    }
   ],
   "source": [
    "sum=0\n",
    "for i in range(1,11):\n",
    "    sum=sum+i\n",
    "    i=i+1\n",
    "print(sum)"
   ]
  },
  {
   "cell_type": "markdown",
   "id": "a601c285-dacd-4ca6-a11f-652020326906",
   "metadata": {},
   "source": [
    "##### 2 WAP to print the elements of a list "
   ]
  },
  {
   "cell_type": "code",
   "execution_count": 6,
   "id": "9ed64073-7437-4bf9-b001-314ea56c172e",
   "metadata": {},
   "outputs": [
    {
     "name": "stdout",
     "output_type": "stream",
     "text": [
      "2\n",
      "4\n",
      "0\n",
      "3\n",
      "5\n"
     ]
    }
   ],
   "source": [
    "list1=[2,4,0,3,5]\n",
    "for i in list1:\n",
    "    print(i)"
   ]
  },
  {
   "cell_type": "markdown",
   "id": "29957b74-44d2-4499-8536-a22d7629b7d8",
   "metadata": {},
   "source": [
    "##### 3 WAP to calculate the product of elements in a list"
   ]
  },
  {
   "cell_type": "code",
   "execution_count": 11,
   "id": "1feb1322-fc58-4a15-8fb4-5aaf084399d9",
   "metadata": {},
   "outputs": [
    {
     "name": "stdout",
     "output_type": "stream",
     "text": [
      "120\n"
     ]
    }
   ],
   "source": [
    "list1=[2,4,1,3,5]\n",
    "product=1\n",
    "for i in list1:\n",
    "    product*=i\n",
    "    i=i+1\n",
    "print(product)"
   ]
  },
  {
   "cell_type": "markdown",
   "id": "3ad72459-9b11-4e98-9a45-c2cfa5ac60e8",
   "metadata": {},
   "source": [
    "##### 4 WAP to print even numbers from 1 to 10"
   ]
  },
  {
   "cell_type": "code",
   "execution_count": 14,
   "id": "7c4d89cf-8161-4336-a0be-7abd1d6d64ca",
   "metadata": {},
   "outputs": [
    {
     "name": "stdout",
     "output_type": "stream",
     "text": [
      "2\n",
      "4\n",
      "6\n",
      "8\n",
      "10\n"
     ]
    }
   ],
   "source": [
    "for i in range(1,11):\n",
    "    if i%2==0:\n",
    "        print(i)"
   ]
  },
  {
   "cell_type": "markdown",
   "id": "24bb0b8e-71f1-47bd-b937-6f4e0f8fc2ca",
   "metadata": {},
   "source": [
    "##### 5 WAP to print numbers in reverse from 10 to 1"
   ]
  },
  {
   "cell_type": "code",
   "execution_count": 26,
   "id": "07ec29e7-f3db-42c0-af5e-0ef908b636a0",
   "metadata": {},
   "outputs": [
    {
     "name": "stdout",
     "output_type": "stream",
     "text": [
      "10\n",
      "9\n",
      "8\n",
      "7\n",
      "6\n",
      "5\n",
      "4\n",
      "3\n",
      "2\n",
      "1\n"
     ]
    }
   ],
   "source": [
    "for i in range(10,0,-1):\n",
    "    print(i)"
   ]
  },
  {
   "cell_type": "markdown",
   "id": "40de868b-af6d-4e8e-a161-8b2756ca1a60",
   "metadata": {},
   "source": [
    "##### Pattern 1"
   ]
  },
  {
   "cell_type": "code",
   "execution_count": 5,
   "id": "c9c0c1d4-4772-4a88-86a7-5916f7ab80b6",
   "metadata": {},
   "outputs": [
    {
     "name": "stdout",
     "output_type": "stream",
     "text": [
      "          a \n",
      "        b b b \n",
      "      a a a a a \n",
      "    b b b b b b b \n",
      "  a a a a a a a a a \n"
     ]
    }
   ],
   "source": [
    "n=5\n",
    "for i in range(1,n+1):\n",
    "    for j in range(i,n+1):\n",
    "        print(' ',end=' ')\n",
    "    for j in range(1,i+1):\n",
    "        if i%2==0:\n",
    "            print('b',end=' ')\n",
    "        else:\n",
    "            print('a',end=' ')\n",
    "    for j in range(2,i+1):\n",
    "        if i%2==0:\n",
    "            print('b',end=' ')\n",
    "        else:\n",
    "            print('a',end=' ')\n",
    "    print()"
   ]
  },
  {
   "cell_type": "markdown",
   "id": "1378ce7f-742f-48b8-92ba-f87d73302748",
   "metadata": {},
   "source": [
    "##### Pattern 2"
   ]
  },
  {
   "cell_type": "code",
   "execution_count": 1,
   "id": "26cb89e9-0dbf-4337-8da7-80b562b40e91",
   "metadata": {},
   "outputs": [
    {
     "name": "stdout",
     "output_type": "stream",
     "text": [
      "  1 1 1 1 1 1 1 1 1 \n",
      "    0 0 0 0 0 0 0 \n",
      "      1 1 1 1 1 \n",
      "        0 0 0 \n",
      "          1 \n"
     ]
    }
   ],
   "source": [
    "n=5\n",
    "for i in range(1,n+1):\n",
    "    for j in range(1,i+1):\n",
    "        print(' ',end=' ')\n",
    "    for j in range(i,n+1):\n",
    "        if i%2==0:\n",
    "            print(0,end=' ')\n",
    "        else:\n",
    "            print(1,end=' ')\n",
    "    for j in range(i+1,n+1):\n",
    "        if i%2==0:\n",
    "            print(0,end=' ')\n",
    "        else:\n",
    "            print(1,end=' ')\n",
    "    print()"
   ]
  },
  {
   "cell_type": "markdown",
   "id": "56d887e2-7a59-4e17-abcf-229dec7a03d3",
   "metadata": {},
   "source": [
    "##### Pattern 3"
   ]
  },
  {
   "cell_type": "code",
   "execution_count": 15,
   "id": "56294bd7-2f1d-478d-aa2e-d4c0b8af3bd2",
   "metadata": {},
   "outputs": [
    {
     "name": "stdout",
     "output_type": "stream",
     "text": [
      "          1 \n",
      "        2 2 2 \n",
      "      3 3 3 3 3 \n",
      "    4 4 4 4 4 4 4 \n",
      "  5 5 5 5 5 5 5 5 5 \n",
      "    6 6 6 6 6 6 6 \n",
      "      7 7 7 7 7 \n",
      "        8 8 8 \n",
      "          9 \n"
     ]
    }
   ],
   "source": [
    "n=5\n",
    "p=1\n",
    "for i in range(1,n+1):\n",
    "    for j in range(i,n+1):\n",
    "        print(' ',end=' ')\n",
    "    for j in range(1,i+1):\n",
    "        print(p,end=' ')\n",
    "    for j in range(2,i+1):\n",
    "        print(p,end=' ')\n",
    "    p=p+1\n",
    "    print()\n",
    "\n",
    "for i in range(2,n+1):\n",
    "    for j in range(1,i+1):\n",
    "        print(' ',end=' ')\n",
    "    for j in range(i,n+1):\n",
    "        print(p,end=' ')\n",
    "    for j in range(i+1,n+1):\n",
    "        print(p,end=' ')\n",
    "    p=p+1``\n",
    "    print()"
   ]
  },
  {
   "cell_type": "markdown",
   "id": "9a2ea826-a73e-4111-a02b-bdf8a8c01568",
   "metadata": {},
   "source": [
    "##### Pattern 4"
   ]
  },
  {
   "cell_type": "code",
   "execution_count": 7,
   "id": "816b0b5a-8275-40db-8793-d9e9e3b323d9",
   "metadata": {},
   "outputs": [
    {
     "name": "stdout",
     "output_type": "stream",
     "text": [
      "          1 \n",
      "        2 2 2 \n",
      "      3 3 3 3 3 \n",
      "    4 4 4 4 4 4 4 \n",
      "  5 5 5 5 5 5 5 5 5 \n",
      "    4 4 4 4 4 4 4 \n",
      "      3 3 3 3 3 \n",
      "        2 2 2 \n",
      "          1 \n"
     ]
    }
   ],
   "source": [
    "n=5\n",
    "p=1\n",
    "for i in range(1,n+1):\n",
    "    for j in range(i,n+1):\n",
    "        print(' ',end=' ')\n",
    "    for j in range(1,i+1):\n",
    "        print(p,end=' ')\n",
    "    for j in range(2,i+1):\n",
    "        print(p,end=' ')\n",
    "    p=p+1\n",
    "    print()\n",
    "k=4\n",
    "for i in range(2,n+1):\n",
    "    for j in range(1,i+1):\n",
    "        print(' ',end=' ')\n",
    "    for j in range(i,n+1):\n",
    "        print(k,end=' ')\n",
    "    for j in range(i+1,n+1):\n",
    "        print(k,end=' ')\n",
    "    k=k-1\n",
    "    print()"
   ]
  },
  {
   "cell_type": "markdown",
   "id": "8522150d-1caf-4e4a-8f38-93713fc9b1c6",
   "metadata": {},
   "source": [
    "##### Pattern 5"
   ]
  },
  {
   "cell_type": "code",
   "execution_count": 11,
   "id": "610993c0-10ab-4097-aa4d-832ba09bdab5",
   "metadata": {},
   "outputs": [
    {
     "name": "stdout",
     "output_type": "stream",
     "text": [
      "1 \n",
      "1 2 \n",
      "1 2 3 \n",
      "1 2 3 4 \n",
      "1 2 3 4 5 \n"
     ]
    }
   ],
   "source": [
    "n=5\n",
    "for i in range(1,n+1):\n",
    "    p=1\n",
    "    for j in range(1,i+1):\n",
    "        print(p,end=' ')\n",
    "        p=p+1\n",
    "    print()"
   ]
  },
  {
   "cell_type": "code",
   "execution_count": null,
   "id": "3b16426b-f8d3-45b4-a9b2-7b3eafc67ed8",
   "metadata": {},
   "outputs": [],
   "source": []
  }
 ],
 "metadata": {
  "kernelspec": {
   "display_name": "Python 3 (ipykernel)",
   "language": "python",
   "name": "python3"
  },
  "language_info": {
   "codemirror_mode": {
    "name": "ipython",
    "version": 3
   },
   "file_extension": ".py",
   "mimetype": "text/x-python",
   "name": "python",
   "nbconvert_exporter": "python",
   "pygments_lexer": "ipython3",
   "version": "3.12.4"
  }
 },
 "nbformat": 4,
 "nbformat_minor": 5
}
