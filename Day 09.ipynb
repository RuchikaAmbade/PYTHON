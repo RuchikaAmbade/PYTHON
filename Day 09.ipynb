{
 "cells": [
  {
   "cell_type": "markdown",
   "id": "4c534974-eb53-49a2-b429-0d2b1d608f1b",
   "metadata": {},
   "source": [
    "### 1 WAP to print first 10 Natural numbers"
   ]
  },
  {
   "cell_type": "code",
   "execution_count": 5,
   "id": "baec8009-9a63-4e1b-8acc-aa1db21b3215",
   "metadata": {
    "scrolled": true
   },
   "outputs": [
    {
     "name": "stdout",
     "output_type": "stream",
     "text": [
      "0\n",
      "1\n",
      "2\n",
      "3\n",
      "4\n",
      "5\n",
      "6\n",
      "7\n",
      "8\n",
      "9\n",
      "10\n"
     ]
    }
   ],
   "source": [
    "for i in range(0,11):\n",
    "    print(i)"
   ]
  },
  {
   "cell_type": "markdown",
   "id": "26f8f55e-f822-4722-aea4-7a1c4bd6a5ea",
   "metadata": {},
   "source": [
    "### 2 WAP to print all the even numbers within the given range"
   ]
  },
  {
   "cell_type": "code",
   "execution_count": 9,
   "id": "c3bfa2b0-f73a-477d-a684-0e6ccc852f26",
   "metadata": {},
   "outputs": [
    {
     "name": "stdout",
     "output_type": "stream",
     "text": [
      "2\n",
      "4\n",
      "6\n",
      "8\n",
      "10\n"
     ]
    }
   ],
   "source": [
    "for i in range(1,11):\n",
    "    if i%2==0:\n",
    "        print(i)"
   ]
  },
  {
   "cell_type": "markdown",
   "id": "cc353d3c-cc25-4df3-adf5-e24c8f9c7330",
   "metadata": {},
   "source": [
    "### 3 WAP to caculate the sum of all numbers from 1 to a given number"
   ]
  },
  {
   "cell_type": "code",
   "execution_count": 1,
   "id": "0bbdb26c-0c89-46e1-8c88-b16d9e6d3b6c",
   "metadata": {},
   "outputs": [
    {
     "name": "stdout",
     "output_type": "stream",
     "text": [
      "1\n",
      "3\n",
      "6\n",
      "10\n",
      "15\n",
      "21\n",
      "28\n",
      "36\n",
      "45\n",
      "55\n"
     ]
    }
   ],
   "source": [
    "a=0\n",
    "for i in range(1,11):\n",
    "    a=a+i\n",
    "    print(a)"
   ]
  },
  {
   "cell_type": "markdown",
   "id": "4f9f0b55-9851-44cf-a85b-b59a01e48fcb",
   "metadata": {},
   "source": [
    "### 4 WAP to calculate the sum of all the odd numbers within the given range"
   ]
  },
  {
   "cell_type": "code",
   "execution_count": 5,
   "id": "974324c4-2172-4f95-b853-61b4787b63f1",
   "metadata": {},
   "outputs": [
    {
     "name": "stdout",
     "output_type": "stream",
     "text": [
      "1\n",
      "4\n",
      "9\n",
      "16\n",
      "25\n",
      "36\n",
      "49\n",
      "64\n",
      "81\n",
      "100\n"
     ]
    }
   ],
   "source": [
    "sum=0\n",
    "for i in range(1,20):\n",
    "    if i%2!=0:\n",
    "        sum=sum+i\n",
    "        print(sum)"
   ]
  },
  {
   "cell_type": "markdown",
   "id": "592bbfd0-9d48-4f5b-9f91-d487f26bf47c",
   "metadata": {},
   "source": [
    "### 5 WAP to print multiplication table of a given number"
   ]
  },
  {
   "cell_type": "code",
   "execution_count": 10,
   "id": "4118935e-ed90-4c34-81c5-3cd1e5af543f",
   "metadata": {},
   "outputs": [
    {
     "name": "stdin",
     "output_type": "stream",
     "text": [
      "Enter any number 5\n"
     ]
    },
    {
     "name": "stdout",
     "output_type": "stream",
     "text": [
      "5\n",
      "10\n",
      "15\n",
      "20\n",
      "25\n",
      "30\n",
      "35\n",
      "40\n",
      "45\n",
      "50\n"
     ]
    }
   ],
   "source": [
    "n=int(input(\"Enter any number\"))\n",
    "for i in range(1,11):\n",
    "    print(i*n)"
   ]
  },
  {
   "cell_type": "markdown",
   "id": "8c2abead-cc7f-494c-9222-bf638ce888fd",
   "metadata": {},
   "source": [
    "### 6 WAP to to display numbers from a list using a for loop"
   ]
  },
  {
   "cell_type": "code",
   "execution_count": 20,
   "id": "2135715e-d4e5-4614-b1df-b97373fd6f08",
   "metadata": {},
   "outputs": [
    {
     "name": "stdout",
     "output_type": "stream",
     "text": [
      "1\n",
      "2\n",
      "3\n",
      "4\n",
      "5\n",
      "6\n",
      "7\n",
      "8\n",
      "9\n",
      "10\n"
     ]
    }
   ],
   "source": [
    "list1=[1,2,3,4,5,6,7,8,9,10]\n",
    "for i in list1:\n",
    "    print(i)"
   ]
  },
  {
   "cell_type": "markdown",
   "id": "47d5681d-5a75-474b-bbf8-1e2b1defe389",
   "metadata": {},
   "source": [
    "### 7 WAP to count the total no. of digits in a number"
   ]
  },
  {
   "cell_type": "code",
   "execution_count": 36,
   "id": "a635ac98-dc44-4873-9727-165fcb9d2d1e",
   "metadata": {},
   "outputs": [
    {
     "name": "stdout",
     "output_type": "stream",
     "text": [
      "4\n"
     ]
    }
   ],
   "source": [
    "n=4587\n",
    "m=str(n)\n",
    "count=0\n",
    "for i in m:\n",
    "    count=count+1\n",
    "print(count)\n",
    "    "
   ]
  },
  {
   "cell_type": "markdown",
   "id": "a04223ae-8451-4824-923f-e2a19a3399b9",
   "metadata": {},
   "source": [
    "### 8 WAP to check if the given string is a palindrome"
   ]
  },
  {
   "cell_type": "code",
   "execution_count": 53,
   "id": "08328d57-9d9c-4e57-82b2-c49524a93b36",
   "metadata": {},
   "outputs": [
    {
     "name": "stdin",
     "output_type": "stream",
     "text": [
      "Enter any string mom\n"
     ]
    },
    {
     "name": "stdout",
     "output_type": "stream",
     "text": [
      "mom\n",
      "Entered string is a palindrome\n"
     ]
    }
   ],
   "source": [
    "string=str(input(\"Enter any string\"))\n",
    "reverse=\"\"\n",
    "for i in string:\n",
    "    reverse=i+reverse\n",
    "print(reverse)\n",
    "if string==reverse:\n",
    "    print(\"Entered string is a palindrome\")\n",
    "else:\n",
    "    print(\"Entered string is not a palindrome\")"
   ]
  },
  {
   "cell_type": "markdown",
   "id": "48676a55-3dfc-4e07-80c8-86f1e9af173f",
   "metadata": {},
   "source": [
    "### 9 WAP to accept a word from the user and reverse it"
   ]
  },
  {
   "cell_type": "code",
   "execution_count": 57,
   "id": "a049257b-9f58-48e5-87cd-d66e23219314",
   "metadata": {},
   "outputs": [
    {
     "name": "stdin",
     "output_type": "stream",
     "text": [
      "Enter any word google\n"
     ]
    },
    {
     "name": "stdout",
     "output_type": "stream",
     "text": [
      "elgoog\n"
     ]
    }
   ],
   "source": [
    "word=str(input(\"Enter any word\"))\n",
    "reverse=\"\"\n",
    "for i in word:\n",
    "    reverse=i+reverse\n",
    "print(reverse)"
   ]
  },
  {
   "cell_type": "markdown",
   "id": "1d24a8b0-2c9e-44f0-8617-f82a042d06fe",
   "metadata": {},
   "source": [
    "### 10 WAP to count number of even and odd numbers from a series of numbers"
   ]
  },
  {
   "cell_type": "code",
   "execution_count": 75,
   "id": "e96abbad-c2b1-42b2-a5bc-02b06b96a341",
   "metadata": {},
   "outputs": [
    {
     "name": "stdout",
     "output_type": "stream",
     "text": [
      "7\n",
      "8\n"
     ]
    }
   ],
   "source": [
    "count1=0\n",
    "count2=0\n",
    "for i in range(1,16):\n",
    "    if i%2==0:\n",
    "        count1=count1+1\n",
    "    elif i%2!=0:\n",
    "        count2=count2+1\n",
    "print(count1)\n",
    "print(count2)"
   ]
  },
  {
   "cell_type": "code",
   "execution_count": null,
   "id": "3416c1ba-7971-4d40-ac79-1f792336bdb8",
   "metadata": {},
   "outputs": [],
   "source": []
  }
 ],
 "metadata": {
  "kernelspec": {
   "display_name": "Python 3 (ipykernel)",
   "language": "python",
   "name": "python3"
  },
  "language_info": {
   "codemirror_mode": {
    "name": "ipython",
    "version": 3
   },
   "file_extension": ".py",
   "mimetype": "text/x-python",
   "name": "python",
   "nbconvert_exporter": "python",
   "pygments_lexer": "ipython3",
   "version": "3.12.4"
  }
 },
 "nbformat": 4,
 "nbformat_minor": 5
}
