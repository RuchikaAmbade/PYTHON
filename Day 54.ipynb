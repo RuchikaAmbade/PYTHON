{
 "cells": [
  {
   "cell_type": "markdown",
   "id": "277302c5-1527-4480-a37a-388f89c80635",
   "metadata": {},
   "source": [
    "##### 1 WAP that accepts a positive no. and subtracts from it the sum of its digits ans so on.Continue this operation until the number is positive.."
   ]
  },
  {
   "cell_type": "code",
   "execution_count": 3,
   "id": "0401ace7-cf56-47f7-acc3-13acb7a1b06b",
   "metadata": {},
   "outputs": [
    {
     "name": "stdout",
     "output_type": "stream",
     "text": [
      "0\n",
      "0\n",
      "0\n",
      "0\n"
     ]
    }
   ],
   "source": [
    "def repeat_times(n):\n",
    "    n_str = str(n)\n",
    "\n",
    "    while n>0:\n",
    "        n -= sum([int(i) for i in list(n_str)])\n",
    "        n_str = list(str(n))\n",
    "\n",
    "    return n\n",
    "\n",
    "print(repeat_times(9))\n",
    "print(repeat_times(20))\n",
    "print(repeat_times(110))\n",
    "print(repeat_times(5674))"
   ]
  },
  {
   "cell_type": "markdown",
   "id": "d668f6f2-c405-4aa2-bb53-391cab8a84a2",
   "metadata": {},
   "source": [
    "##### 2 WAP to find the total number of even or odd divisors of a given integer."
   ]
  },
  {
   "cell_type": "code",
   "execution_count": 10,
   "id": "57351203-7f2a-4e7e-ade5-50988d65702c",
   "metadata": {},
   "outputs": [
    {
     "name": "stdout",
     "output_type": "stream",
     "text": [
      "4\n",
      "6\n",
      "3\n",
      "4\n",
      "2\n"
     ]
    }
   ],
   "source": [
    "def divisor(n):\n",
    "    x = len([i for i in range(1, n+1) if not n%i])\n",
    "    return x\n",
    "\n",
    "print(divisor(15))\n",
    "print(divisor(12))\n",
    "print(divisor(9))\n",
    "print(divisor(6))\n",
    "print(divisor(3))"
   ]
  },
  {
   "cell_type": "markdown",
   "id": "2fdeacd5-3431-4ff2-8b9a-a2cb8a7d54a9",
   "metadata": {},
   "source": [
    "##### 3 WAP to find the digits that are missing from a given mobile number."
   ]
  },
  {
   "cell_type": "code",
   "execution_count": 17,
   "id": "f89eb0ad-e9b7-4804-bdc2-d126325f2689",
   "metadata": {},
   "outputs": [
    {
     "name": "stdout",
     "output_type": "stream",
     "text": [
      "[1, 4, 5]\n"
     ]
    }
   ],
   "source": [
    "def absent_digits(n):\n",
    "    all_nums = set([0,1,2,3,4,5,6,7,8,9])\n",
    "    n=set([int(i) for i in n])\n",
    "    n=n.symmetric_difference(all_nums)\n",
    "    n=sorted(n)\n",
    "    return n\n",
    "\n",
    "print(absent_digits([9,8,3,2,2,0,9,7,6,3]))"
   ]
  },
  {
   "cell_type": "markdown",
   "id": "dc248f0d-77ee-4f45-bf87-891b466e3729",
   "metadata": {},
   "source": [
    "#### 4 WAP to compute the summation of the absolute difference of all distinct pairs in a given array."
   ]
  },
  {
   "cell_type": "code",
   "execution_count": 22,
   "id": "23a8b900-ba44-44c3-b1a7-0a2dda3ddd98",
   "metadata": {},
   "outputs": [
    {
     "name": "stdout",
     "output_type": "stream",
     "text": [
      "4\n",
      "8\n"
     ]
    }
   ],
   "source": [
    "def sum_distinct_pairs(arr):\n",
    "    result = 0\n",
    "    i=0\n",
    "    while i < len(arr):\n",
    "        result += i * arr[i] - (len(arr) - i - 1) * arr[i]\n",
    "        i+=1\n",
    "    return result\n",
    "\n",
    "print(sum_distinct_pairs([1,2,3]))\n",
    "print(sum_distinct_pairs([1,4,5]))"
   ]
  },
  {
   "cell_type": "markdown",
   "id": "5e0e211e-076a-4041-9fb9-a0271abf94f5",
   "metadata": {},
   "source": [
    "##### 5 WAP to reverse the digits of a given number and add them to the original. Repeat this procedure if the sum is not a palindrome."
   ]
  },
  {
   "cell_type": "code",
   "execution_count": 27,
   "id": "5fdd8d84-efee-41c0-96be-b62aa34e40ec",
   "metadata": {},
   "outputs": [
    {
     "name": "stdout",
     "output_type": "stream",
     "text": [
      "5555\n",
      "9339\n"
     ]
    }
   ],
   "source": [
    "def rev_number(n):\n",
    "    s = 0\n",
    "    while True:\n",
    "        k=str(n)\n",
    "        if k==k[::-1]:\n",
    "            break\n",
    "        else:\n",
    "            m = int(k[::-1])\n",
    "            n += m\n",
    "            s += 1\n",
    "    return n\n",
    "\n",
    "print(rev_number(1234))\n",
    "print(rev_number(1473))"
   ]
  },
  {
   "cell_type": "code",
   "execution_count": null,
   "id": "438b81c3-ed4f-47b1-acfa-be40c264c50c",
   "metadata": {},
   "outputs": [],
   "source": []
  }
 ],
 "metadata": {
  "kernelspec": {
   "display_name": "Python 3 (ipykernel)",
   "language": "python",
   "name": "python3"
  },
  "language_info": {
   "codemirror_mode": {
    "name": "ipython",
    "version": 3
   },
   "file_extension": ".py",
   "mimetype": "text/x-python",
   "name": "python",
   "nbconvert_exporter": "python",
   "pygments_lexer": "ipython3",
   "version": "3.12.4"
  }
 },
 "nbformat": 4,
 "nbformat_minor": 5
}
