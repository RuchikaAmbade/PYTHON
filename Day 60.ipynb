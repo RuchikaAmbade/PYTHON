{
 "cells": [
  {
   "cell_type": "markdown",
   "id": "7bdcfb68-a4c0-4872-ab98-8c926b1312f6",
   "metadata": {},
   "source": [
    "##### 1 WAP to reverse the user defined number."
   ]
  },
  {
   "cell_type": "code",
   "execution_count": 3,
   "id": "498b9c6f-de7f-4c9d-900c-067b36ec1106",
   "metadata": {},
   "outputs": [
    {
     "name": "stdin",
     "output_type": "stream",
     "text": [
      " 123\n"
     ]
    },
    {
     "name": "stdout",
     "output_type": "stream",
     "text": [
      "321"
     ]
    }
   ],
   "source": [
    "n=int(input())\n",
    "while n>0:\n",
    "    rem=n%10\n",
    "    print(rem,end=\"\")\n",
    "    n=n//10"
   ]
  },
  {
   "cell_type": "markdown",
   "id": "87bc0af3-db6a-476f-8221-9566a3f46f83",
   "metadata": {},
   "source": [
    "##### 2 WAP to check given number is armstrong or not."
   ]
  },
  {
   "cell_type": "code",
   "execution_count": 10,
   "id": "6e860ba8-2793-4078-bc00-3c955e22754a",
   "metadata": {},
   "outputs": [
    {
     "name": "stdin",
     "output_type": "stream",
     "text": [
      " 153\n"
     ]
    },
    {
     "name": "stdout",
     "output_type": "stream",
     "text": [
      "Entered number is armstring number\n"
     ]
    }
   ],
   "source": [
    "n=int(input())\n",
    "a=n\n",
    "sum=0\n",
    "while a>0:\n",
    "    rem=a%10\n",
    "    sum=sum+(rem**3)\n",
    "    a=a//10\n",
    "\n",
    "if n==sum:\n",
    "    print(\"Entered number is armstring number\")\n",
    "else:\n",
    "    print(\"Entered number is not armstring number\")"
   ]
  },
  {
   "cell_type": "markdown",
   "id": "815affae-b2e5-4695-b82e-0b60d2a36ace",
   "metadata": {},
   "source": [
    "##### 3 WAP to find the value of m^n , m and n are user defined numbers."
   ]
  },
  {
   "cell_type": "code",
   "execution_count": 15,
   "id": "41ee71a7-337a-4db3-9b97-3d3648161ef3",
   "metadata": {},
   "outputs": [
    {
     "name": "stdin",
     "output_type": "stream",
     "text": [
      "Enter value of base : 8\n",
      "Enter value of power : 3\n"
     ]
    },
    {
     "name": "stdout",
     "output_type": "stream",
     "text": [
      "512\n"
     ]
    }
   ],
   "source": [
    "m=int(input(\"Enter value of base :\"))\n",
    "n=int(input(\"Enter value of power :\"))\n",
    "a=1\n",
    "res=1\n",
    "while a<=n:\n",
    "    res=res*m\n",
    "    a+=1\n",
    "\n",
    "print(res)"
   ]
  },
  {
   "cell_type": "markdown",
   "id": "0e22c706-f98e-4dd2-bbb4-57ac7f27bdd4",
   "metadata": {},
   "source": [
    "##### 4 WAP to check the given number is pallindrome or not."
   ]
  },
  {
   "cell_type": "code",
   "execution_count": 1,
   "id": "1d377b08-ec62-48be-8b39-ce6b2ca43679",
   "metadata": {},
   "outputs": [
    {
     "name": "stdin",
     "output_type": "stream",
     "text": [
      " 12321\n"
     ]
    },
    {
     "name": "stdout",
     "output_type": "stream",
     "text": [
      "The given number is pallindome\n"
     ]
    }
   ],
   "source": [
    "n=int(input())\n",
    "temp=n\n",
    "rev=0\n",
    "while (n>0):\n",
    "    rem=n%10\n",
    "    rev=rev*10+rem\n",
    "    n=n//10\n",
    "    \n",
    "if (temp==rev):\n",
    "    print(\"The given number is pallindome\")\n",
    "else:\n",
    "    print(\"The given number is not pallindrome\")"
   ]
  },
  {
   "cell_type": "markdown",
   "id": "7b3875ec-8101-4c5f-9a90-8baec611325d",
   "metadata": {},
   "source": [
    "##### 5 WAP to check if a given number is positive , negative or neutral."
   ]
  },
  {
   "cell_type": "code",
   "execution_count": 6,
   "id": "77239696-f709-4b1d-9275-c6ab8d872ea2",
   "metadata": {},
   "outputs": [
    {
     "name": "stdin",
     "output_type": "stream",
     "text": [
      "Enter any number : -8\n"
     ]
    },
    {
     "name": "stdout",
     "output_type": "stream",
     "text": [
      "Entered number is negative.\n"
     ]
    }
   ],
   "source": [
    "num=int(input(\"Enter any number :\"))\n",
    "if num>0:\n",
    "    print(\"Entered number is positive.\")\n",
    "elif num<0:\n",
    "    print(\"Entered number is negative.\")\n",
    "else:\n",
    "    print(\"Entered number is neutral.\")\n"
   ]
  },
  {
   "cell_type": "code",
   "execution_count": null,
   "id": "6c60c395-d8cb-4ace-a951-01c0ee9d084c",
   "metadata": {},
   "outputs": [],
   "source": []
  }
 ],
 "metadata": {
  "kernelspec": {
   "display_name": "Python 3 (ipykernel)",
   "language": "python",
   "name": "python3"
  },
  "language_info": {
   "codemirror_mode": {
    "name": "ipython",
    "version": 3
   },
   "file_extension": ".py",
   "mimetype": "text/x-python",
   "name": "python",
   "nbconvert_exporter": "python",
   "pygments_lexer": "ipython3",
   "version": "3.12.4"
  }
 },
 "nbformat": 4,
 "nbformat_minor": 5
}
