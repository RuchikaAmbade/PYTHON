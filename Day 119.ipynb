{
 "cells": [
  {
   "cell_type": "markdown",
   "id": "aa10df09-e9ec-4ba3-a1ec-eb2b2f0b6743",
   "metadata": {},
   "source": [
    "##### WAP to print alphabet 'V' using '*"
   ]
  },
  {
   "cell_type": "code",
   "execution_count": 6,
   "id": "325424ba-c2d9-4017-ae34-ce70a7bb3206",
   "metadata": {},
   "outputs": [
    {
     "name": "stdout",
     "output_type": "stream",
     "text": [
      "*           * \n",
      "  *       *   \n",
      "    *   *     \n",
      "      *       \n"
     ]
    }
   ],
   "source": [
    "i=0 \n",
    "j=6\n",
    "for row in range(4):\n",
    "    for col in range(7):\n",
    "        if row==col:\n",
    "            print('*',end=' ')\n",
    "        elif row==i and col==j:\n",
    "            print('*',end=' ')\n",
    "            i=i+1\n",
    "            j=j-1\n",
    "        else:\n",
    "            print(' ',end=' ')\n",
    "    print()"
   ]
  },
  {
   "cell_type": "markdown",
   "id": "85727d23-b6f0-47a7-9359-9327363bfcc7",
   "metadata": {},
   "source": [
    "##### WAP to print alphabet 'W' using '*"
   ]
  },
  {
   "cell_type": "code",
   "execution_count": 13,
   "id": "7628e0bf-673a-4999-ae70-9ab74944c627",
   "metadata": {},
   "outputs": [
    {
     "name": "stdout",
     "output_type": "stream",
     "text": [
      "*     *     * \n",
      "*   *   *   * \n",
      "* *       * * \n",
      "*           * \n"
     ]
    }
   ],
   "source": [
    "i=0\n",
    "j=3\n",
    "for row in range(4):\n",
    "    for col in range(7):\n",
    "        if col==0 or col==6 or (col==5 and row==2) or (col==4 and row==1):\n",
    "            print('*',end=' ')\n",
    "        elif row==i and col==j:\n",
    "            print('*',end=' ')\n",
    "            i+=1\n",
    "            j-=1\n",
    "        else:\n",
    "            print(' ',end=' ')\n",
    "    print()"
   ]
  },
  {
   "cell_type": "code",
   "execution_count": null,
   "id": "f8a89e72-bb5e-40bc-b851-a864e6fa2b87",
   "metadata": {},
   "outputs": [],
   "source": []
  }
 ],
 "metadata": {
  "kernelspec": {
   "display_name": "Python 3 (ipykernel)",
   "language": "python",
   "name": "python3"
  },
  "language_info": {
   "codemirror_mode": {
    "name": "ipython",
    "version": 3
   },
   "file_extension": ".py",
   "mimetype": "text/x-python",
   "name": "python",
   "nbconvert_exporter": "python",
   "pygments_lexer": "ipython3",
   "version": "3.12.4"
  }
 },
 "nbformat": 4,
 "nbformat_minor": 5
}
