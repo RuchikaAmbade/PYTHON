{
 "cells": [
  {
   "cell_type": "markdown",
   "id": "8459dab4-e79b-4725-9c9f-7160342aab5b",
   "metadata": {},
   "source": [
    "1. Write a Python program to print the following string in a specific format (see the output).\n",
    "Sample String : \"Twinkle, twinkle, little star, How I wonder what you are! Up above the world so high, Like a diamond in the sky. Twinkle, twinkle, little star, How I wonder what you are\" Output :\n",
    "\n",
    "Twinkle, twinkle, little star,\n",
    "\tHow I wonder what you are! \n",
    "\t\tUp above the world so high,   \t\t\n",
    "\t\tLike a diamond in the sky. \n",
    "Twinkle, twinkle, little star, \n",
    "\tHow I wonder what you are"
   ]
  },
  {
   "cell_type": "code",
   "execution_count": 21,
   "id": "8e9b2f78-3f22-4299-b064-af0cf82c144a",
   "metadata": {},
   "outputs": [
    {
     "name": "stdout",
     "output_type": "stream",
     "text": [
      "Twinkle, twinkle, little star,\n",
      "\tHow I wonder what you are!\n",
      "\t\tUp above the world so high,\n",
      "\t\tLike a diamond in the sky.\n",
      "Twinkle, twinkle, little star,\n",
      "\tHow I wonder what you are\n"
     ]
    }
   ],
   "source": [
    "print(\"Twinkle, twinkle, little star,\\n\\tHow I wonder what you are!\\n\\t\\tUp above the world so high,\\n\\t\\tLike a diamond in the sky.\\nTwinkle, twinkle, little star,\\n\\tHow I wonder what you are\")"
   ]
  },
  {
   "cell_type": "markdown",
   "id": "26de7eae-022b-430c-a92e-e2469c66e0f7",
   "metadata": {},
   "source": [
    "2. Write a Python program to get the Python version you are using"
   ]
  },
  {
   "cell_type": "code",
   "execution_count": 25,
   "id": "855d5d4b-babb-44e2-9601-df3703c8d366",
   "metadata": {},
   "outputs": [
    {
     "name": "stdout",
     "output_type": "stream",
     "text": [
      "Python version\n",
      "3.12.4 | packaged by Anaconda, Inc. | (main, Jun 18 2024, 15:03:56) [MSC v.1929 64 bit (AMD64)]\n",
      "Version info\n",
      "sys.version_info(major=3, minor=12, micro=4, releaselevel='final', serial=0)\n"
     ]
    }
   ],
   "source": [
    "import sys\n",
    "print('Python version')\n",
    "print(sys.version)\n",
    "print('Version info')\n",
    "print(sys.version_info)\n"
   ]
  },
  {
   "cell_type": "markdown",
   "id": "1d6b0ffc-23c9-4324-8d5c-092734a53064",
   "metadata": {},
   "source": [
    "3. Write a Python program to display the current date and time."
   ]
  },
  {
   "cell_type": "code",
   "execution_count": 31,
   "id": "fa626f61-e5a1-4622-9e24-5defbc1baeeb",
   "metadata": {},
   "outputs": [
    {
     "name": "stdout",
     "output_type": "stream",
     "text": [
      "Current date and time is : 2025-03-02 19:45:40.350643\n"
     ]
    }
   ],
   "source": [
    "import datetime\n",
    "now = datetime.datetime.now()\n",
    "print('Current date and time is :',now)"
   ]
  },
  {
   "cell_type": "markdown",
   "id": "91990553-399a-4909-8182-e725ac0c6727",
   "metadata": {},
   "source": [
    "4. Write a Python program which accepts the radius of a circle from the user and compute the area"
   ]
  },
  {
   "cell_type": "code",
   "execution_count": 35,
   "id": "31ca30f8-c1ee-4182-8266-3f03d1032444",
   "metadata": {},
   "outputs": [
    {
     "name": "stdin",
     "output_type": "stream",
     "text": [
      "Enter radius of circle 3.12\n"
     ]
    },
    {
     "name": "stdout",
     "output_type": "stream",
     "text": [
      "Area of a circle is : 30.581519527104483\n"
     ]
    }
   ],
   "source": [
    "import numpy as np\n",
    "radius = float(input('Enter radius of circle'))\n",
    "area = np.pi*radius*radius\n",
    "print('Area of a circle is :',area)"
   ]
  },
  {
   "cell_type": "markdown",
   "id": "c67a3be2-77c0-4f86-86fb-cda56f8fc643",
   "metadata": {},
   "source": [
    "5. Write a Python program which accepts the user's first and last name and print them in reverse order with a space between them."
   ]
  },
  {
   "cell_type": "code",
   "execution_count": 41,
   "id": "2b510bf0-806c-4422-bb65-dc678f191d29",
   "metadata": {},
   "outputs": [
    {
     "name": "stdin",
     "output_type": "stream",
     "text": [
      "Enter your first name : Ruchika\n",
      "Enter your last name : Ambade\n"
     ]
    },
    {
     "name": "stdout",
     "output_type": "stream",
     "text": [
      "Hello Ambade Ruchika\n"
     ]
    }
   ],
   "source": [
    "first_name = str(input('Enter your first name :'))\n",
    "last_name = str(input('Enter your last name :'))\n",
    "print('Hello',last_name,first_name)"
   ]
  },
  {
   "cell_type": "code",
   "execution_count": 45,
   "id": "cedf2272-5623-486c-bd9e-5ab54c1679cd",
   "metadata": {},
   "outputs": [
    {
     "name": "stdin",
     "output_type": "stream",
     "text": [
      "Enter your first name : Ruchika\n",
      "Enter your last name : Ambade\n"
     ]
    },
    {
     "name": "stdout",
     "output_type": "stream",
     "text": [
      "akihcuR edabmA\n"
     ]
    }
   ],
   "source": [
    "# OR\n",
    "first_name = str(input('Enter your first name :'))\n",
    "last_name = str(input('Enter your last name :'))\n",
    "print(first_name[::-1],last_name[::-1])"
   ]
  },
  {
   "cell_type": "markdown",
   "id": "873cfa1f-02ee-4eeb-97c7-6aa5572e8abe",
   "metadata": {},
   "source": [
    "6. Write a Python program which accepts a sequence of comma-separated numbers from user and generate a list  with those numbers"
   ]
  },
  {
   "cell_type": "code",
   "execution_count": 67,
   "id": "b7bd635d-df80-46ae-9435-9d0b98dae4fd",
   "metadata": {},
   "outputs": [
    {
     "name": "stdin",
     "output_type": "stream",
     "text": [
      "Input some comma separated number 1,2,3,4\n"
     ]
    },
    {
     "name": "stdout",
     "output_type": "stream",
     "text": [
      "[1, 2, 3, 4]\n"
     ]
    }
   ],
   "source": [
    "num = (input('Input some comma separated number'))\n",
    "list1 = num.split(\",\")\n",
    "list1 = [int(i) for i in list1]\n",
    "print(list1)"
   ]
  },
  {
   "cell_type": "markdown",
   "id": "107f47e2-29bf-4ca2-b36a-319051b4fb15",
   "metadata": {},
   "source": [
    "7. Write a Python program to accept a filename from the user and print the extension of that"
   ]
  },
  {
   "cell_type": "code",
   "execution_count": 55,
   "id": "f44e39db-3a7b-4082-94df-cd5a3445f2c1",
   "metadata": {},
   "outputs": [
    {
     "name": "stdin",
     "output_type": "stream",
     "text": [
      "Enter any file name students_details.text\n"
     ]
    },
    {
     "name": "stdout",
     "output_type": "stream",
     "text": [
      "text\n"
     ]
    }
   ],
   "source": [
    "file_name = str(input('Enter any file name'))\n",
    "ext = file_name.split('.')\n",
    "print(ext[1])"
   ]
  },
  {
   "cell_type": "markdown",
   "id": "b94e0c14-b4a0-44b6-92bd-b6b6c7c46cab",
   "metadata": {},
   "source": [
    "8. Write a Python program to display the first and last colors from the following list\n",
    "color_list = [\"yellow\",\"Green\",\"grey\" ,\"orange\"]"
   ]
  },
  {
   "cell_type": "code",
   "execution_count": 61,
   "id": "3815801a-1037-4a33-a7ae-40353df1ef46",
   "metadata": {},
   "outputs": [
    {
     "name": "stdout",
     "output_type": "stream",
     "text": [
      "yellow\n",
      "orange\n"
     ]
    }
   ],
   "source": [
    "color_list = [\"yellow\",\"Green\",\"grey\" ,\"orange\"]\n",
    "print(color_list[0])\n",
    "print(color_list[-1])"
   ]
  },
  {
   "cell_type": "markdown",
   "id": "329d143c-6959-4239-b960-9e500a595e2f",
   "metadata": {},
   "source": [
    "9. Write a Python program that accepts an integer (n) and computes the value of n+nn+nnn"
   ]
  },
  {
   "cell_type": "code",
   "execution_count": 63,
   "id": "e17b2369-1fa5-4468-aaa4-4d5a016a41d2",
   "metadata": {},
   "outputs": [
    {
     "name": "stdin",
     "output_type": "stream",
     "text": [
      " 12\n"
     ]
    },
    {
     "name": "stdout",
     "output_type": "stream",
     "text": [
      "122436\n"
     ]
    }
   ],
   "source": [
    "x = int(input())\n",
    "n1 = int('%s' % x)\n",
    "n2 = int('%s%s' % (x,x))\n",
    "n3 = int('%s%s%s' % (x,x,x))\n",
    "print(n1+n2+n3)"
   ]
  },
  {
   "cell_type": "markdown",
   "id": "ea274e68-af9f-4b5d-9b76-f8c34d5280aa",
   "metadata": {},
   "source": [
    "10.Write a program to demonstrate different number data types in Python."
   ]
  },
  {
   "cell_type": "code",
   "execution_count": 65,
   "id": "2b7473c0-b323-424c-b6b8-2f2479489f3c",
   "metadata": {},
   "outputs": [
    {
     "name": "stdout",
     "output_type": "stream",
     "text": [
      "The datatype of a is: <class 'int'>\n",
      "The datatype of b is: <class 'str'>\n",
      "The datatype of c is: <class 'float'>\n",
      "The datatype of d is: <class 'bool'>\n"
     ]
    }
   ],
   "source": [
    "a = 12\n",
    "b = 'Name'\n",
    "c = 4.11\n",
    "d = True\n",
    "print('The datatype of a is:',type(a))\n",
    "print('The datatype of b is:',type(b))\n",
    "print('The datatype of c is:',type(c))\n",
    "print('The datatype of d is:',type(d))\n"
   ]
  },
  {
   "cell_type": "code",
   "execution_count": null,
   "id": "abf141f6-7c53-4a44-9ede-dfe844694e1c",
   "metadata": {},
   "outputs": [],
   "source": []
  }
 ],
 "metadata": {
  "kernelspec": {
   "display_name": "Python 3 (ipykernel)",
   "language": "python",
   "name": "python3"
  },
  "language_info": {
   "codemirror_mode": {
    "name": "ipython",
    "version": 3
   },
   "file_extension": ".py",
   "mimetype": "text/x-python",
   "name": "python",
   "nbconvert_exporter": "python",
   "pygments_lexer": "ipython3",
   "version": "3.12.4"
  }
 },
 "nbformat": 4,
 "nbformat_minor": 5
}
