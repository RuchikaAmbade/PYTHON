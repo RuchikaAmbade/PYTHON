{
 "cells": [
  {
   "cell_type": "markdown",
   "id": "6c8e128a-cd0b-4609-b2d8-b381379e5fa9",
   "metadata": {},
   "source": [
    " Print the following pattern for 8 lines."
   ]
  },
  {
   "cell_type": "markdown",
   "id": "2539c4b9-3a53-4dc4-8ea2-d62fcc5c4e88",
   "metadata": {},
   "source": [
    "* * * * * * * *  \n",
    "* * * * * * *  \n",
    "* * * * * *  \n",
    "* * * * *  \n",
    "* * * *  \n",
    "* * *  \n",
    "* *  \n",
    "*  "
   ]
  },
  {
   "cell_type": "code",
   "execution_count": 7,
   "id": "27765ad5-1ec0-422e-9c1c-f7c20bc1a1a8",
   "metadata": {},
   "outputs": [
    {
     "name": "stdout",
     "output_type": "stream",
     "text": [
      "* * * * * * * * \n",
      "* * * * * * * \n",
      "* * * * * * \n",
      "* * * * * \n",
      "* * * * \n",
      "* * * \n",
      "* * \n",
      "* \n"
     ]
    }
   ],
   "source": [
    "n=8\n",
    "for i in range(1,n+1):\n",
    "    for j in range(i,n+1):\n",
    "        print('*',end=' ')\n",
    "    print()"
   ]
  },
  {
   "cell_type": "code",
   "execution_count": null,
   "id": "0312af59-dd46-43d4-a16b-7d0ff5791309",
   "metadata": {},
   "outputs": [],
   "source": []
  },
  {
   "cell_type": "markdown",
   "id": "939c1309-5f87-4755-a098-edb265ac28fd",
   "metadata": {},
   "source": [
    "Write a Python program to convert them into a dictionary in a way that item from list1 is the key and item from list2 is the value.\n",
    "list1 = ['India', 'USA', 'China']\n",
    "\n",
    "list2 = [1, 2, 3]"
   ]
  },
  {
   "cell_type": "code",
   "execution_count": 10,
   "id": "acb61665-4963-40e9-92c1-474cb23160d9",
   "metadata": {},
   "outputs": [
    {
     "name": "stdout",
     "output_type": "stream",
     "text": [
      "{'India': 1, 'USA': 2, 'China': 3}\n"
     ]
    }
   ],
   "source": [
    "list1 = ['India', 'USA', 'China']\n",
    "list2 = [1, 2, 3]\n",
    "res_dict = dict(zip(list1,list2))\n",
    "print(res_dict)"
   ]
  },
  {
   "cell_type": "code",
   "execution_count": null,
   "id": "6467901b-37e3-4c51-8c73-c614e5d280d1",
   "metadata": {},
   "outputs": [],
   "source": []
  },
  {
   "cell_type": "markdown",
   "id": "fea0bf3e-2be1-404c-9eb7-f0b6f3b66536",
   "metadata": {},
   "source": [
    "Merge 2 dictionaries into 1.\n",
    "\n",
    "dict1 = {'India': 1, 'USA': 2, 'China': 3}\n",
    "\n",
    "dict2 = {'UK': 4, 'Japan': 5, 'Russia': 6}"
   ]
  },
  {
   "cell_type": "code",
   "execution_count": 7,
   "id": "d93a8a15-33a5-4bd0-a43d-c46ee4bd624b",
   "metadata": {},
   "outputs": [
    {
     "data": {
      "text/plain": [
       "{'India': 1, 'USA': 2, 'China': 3, 'UK': 4, 'Japan': 5, 'Russia': 6}"
      ]
     },
     "execution_count": 7,
     "metadata": {},
     "output_type": "execute_result"
    }
   ],
   "source": [
    "# Method1\n",
    "dict1 = {'India': 1, 'USA': 2, 'China': 3}\n",
    "dict2 = {'UK': 4, 'Japan': 5, 'Russia': 6}\n",
    "merge_dict = dict1.copy()\n",
    "merge_dict.update(dict2)\n",
    "merge_dict"
   ]
  },
  {
   "cell_type": "code",
   "execution_count": 9,
   "id": "92f92a47-b4b7-4e4f-86b0-1b2fb6d3f1dd",
   "metadata": {},
   "outputs": [
    {
     "data": {
      "text/plain": [
       "{'India': 1, 'USA': 2, 'China': 3, 'UK': 4, 'Japan': 5, 'Russia': 6}"
      ]
     },
     "execution_count": 9,
     "metadata": {},
     "output_type": "execute_result"
    }
   ],
   "source": [
    "# Method2 : using | operator\n",
    "dict1 = {'India': 1, 'USA': 2, 'China': 3}\n",
    "dict2 = {'UK': 4, 'Japan': 5, 'Russia': 6}\n",
    "merge_dict = dict1|dict2\n",
    "merge_dict"
   ]
  },
  {
   "cell_type": "code",
   "execution_count": 13,
   "id": "3f7f5700-f276-45eb-af55-b69733f0cc43",
   "metadata": {},
   "outputs": [
    {
     "name": "stdout",
     "output_type": "stream",
     "text": [
      "{'India': 1, 'USA': 2, 'China': 3, 'UK': 4, 'Japan': 5, 'Russia': 6}\n"
     ]
    }
   ],
   "source": [
    "# Method3 : using dictionary unpacking (**)\n",
    "dict1 = {'India': 1, 'USA': 2, 'China': 3}\n",
    "dict2 = {'UK': 4, 'Japan': 5, 'Russia': 6}\n",
    "merge_dict = {**dict1,**dict2}\n",
    "print(merge_dict)"
   ]
  },
  {
   "cell_type": "code",
   "execution_count": null,
   "id": "d647ae9b-198c-4bad-a575-4f3c511b4ea2",
   "metadata": {},
   "outputs": [],
   "source": []
  },
  {
   "cell_type": "markdown",
   "id": "644c996f-492f-456a-9276-40f94f69a9c0",
   "metadata": {},
   "source": [
    "Check if a value exists in a dictionary or not.\n",
    "\n",
    "sample_dict = {'India': 1, 'USA': 2, 'China': 3}\n",
    "\n",
    "check if 2 exists in the dictionary or not and print \"2 present in dictionary\" if it exists.\n"
   ]
  },
  {
   "cell_type": "code",
   "execution_count": 25,
   "id": "41595b81-ec0e-4dc8-b5dc-9d6622e250cb",
   "metadata": {},
   "outputs": [
    {
     "name": "stdout",
     "output_type": "stream",
     "text": [
      "2 present in dictionary\n"
     ]
    }
   ],
   "source": [
    "sample_dict = {'India': 1, 'USA': 2, 'China': 3}\n",
    "if 2 in sample_dict.values():\n",
    "    print('2 present in dictionary')"
   ]
  },
  {
   "cell_type": "code",
   "execution_count": null,
   "id": "74569ae1-1335-476a-a315-732083e26549",
   "metadata": {},
   "outputs": [],
   "source": []
  },
  {
   "cell_type": "markdown",
   "id": "8fa04f3b-d4f9-4721-b73e-d49d20f7a06e",
   "metadata": {},
   "source": [
    "Get the key of a minimum value from the following dictionary.\n",
    "\n",
    "sample_dict = {'India': 19, 'USA': 27, 'China': 76}"
   ]
  },
  {
   "cell_type": "code",
   "execution_count": 32,
   "id": "1739d91f-fb69-4102-ba95-fb58d2fd69f8",
   "metadata": {},
   "outputs": [
    {
     "name": "stdout",
     "output_type": "stream",
     "text": [
      "India\n"
     ]
    }
   ],
   "source": [
    "sample_dict = {'India': 19, 'USA': 27, 'China': 76}\n",
    "print(min(sample_dict,key=sample_dict.get))"
   ]
  },
  {
   "cell_type": "code",
   "execution_count": null,
   "id": "e8bec82d-81e8-433f-9bbe-5bfeb4a9cffd",
   "metadata": {},
   "outputs": [],
   "source": []
  },
  {
   "cell_type": "markdown",
   "id": "f2758d14-bba4-4043-9cc8-684ab9caeb1d",
   "metadata": {},
   "source": [
    "Check if two sets have any elements in common. If yes, display the common elements\n",
    "\n",
    "set1 = {10, 20, 30, 40, 50}\n",
    "\n",
    "set2 = {60, 70, 80, 90, 10}"
   ]
  },
  {
   "cell_type": "code",
   "execution_count": 37,
   "id": "37a3c53e-6e98-4d8e-8447-6a44775b6573",
   "metadata": {},
   "outputs": [
    {
     "name": "stdout",
     "output_type": "stream",
     "text": [
      "Common elemnt {10}\n"
     ]
    }
   ],
   "source": [
    "set1 = {10, 20, 30, 40, 50}\n",
    "set2 = {60, 70, 80, 90, 10}\n",
    "comm_element = set1.intersection(set2)\n",
    "if comm_element:\n",
    "    print('Common elemnt',comm_element)\n",
    "else:\n",
    "    print('No common element')"
   ]
  },
  {
   "cell_type": "code",
   "execution_count": null,
   "id": "a21efd97-5020-4e97-b1b2-480cb1ba3b97",
   "metadata": {},
   "outputs": [],
   "source": []
  },
  {
   "cell_type": "markdown",
   "id": "0b69ff6b-5d6a-4c03-bb79-6bd4e11b9abc",
   "metadata": {},
   "source": [
    "Remove items from set1 that are not common to both set1 and set2\n",
    "\n",
    "set1 = {10, 20, 30, 40, 50}\n",
    "\n",
    "set2 = {30, 40, 50, 60, 70}"
   ]
  },
  {
   "cell_type": "code",
   "execution_count": 43,
   "id": "b1dacee3-7323-4f76-af87-e0ea5e914469",
   "metadata": {},
   "outputs": [
    {
     "data": {
      "text/plain": [
       "{30, 40, 50}"
      ]
     },
     "execution_count": 43,
     "metadata": {},
     "output_type": "execute_result"
    }
   ],
   "source": [
    "set1 = {10, 20, 30, 40, 50}\n",
    "set2 = {30, 40, 50, 60, 70}\n",
    "set1.intersection_update(set2)\n",
    "set1"
   ]
  },
  {
   "cell_type": "code",
   "execution_count": null,
   "id": "ec62d1db-eb18-47b9-9f27-0fed8155ad0e",
   "metadata": {},
   "outputs": [],
   "source": []
  },
  {
   "cell_type": "markdown",
   "id": "1a34ce92-fe1f-4102-a159-ef8b12bf7cc6",
   "metadata": {},
   "source": [
    "Turn every item of a list into its square."
   ]
  },
  {
   "cell_type": "code",
   "execution_count": 53,
   "id": "a31d417b-02a0-4273-962c-eb41fb949c84",
   "metadata": {},
   "outputs": [
    {
     "name": "stdout",
     "output_type": "stream",
     "text": [
      "[1, 4, 9, 16, 25, 36, 49, 64, 81, 100]\n"
     ]
    }
   ],
   "source": [
    "numbers = [1, 2, 3, 4, 5, 6, 7,8,9,10]\n",
    "squares = []\n",
    "for i in numbers:\n",
    "    squares.append(i*i)\n",
    "print(squares)"
   ]
  },
  {
   "cell_type": "code",
   "execution_count": null,
   "id": "e8b28943-0ff3-4267-9b31-acd649a169a4",
   "metadata": {},
   "outputs": [],
   "source": []
  },
  {
   "cell_type": "code",
   "execution_count": null,
   "id": "9a3a69f1-f00b-48f4-957f-e6534f77fbf2",
   "metadata": {},
   "outputs": [],
   "source": []
  },
  {
   "cell_type": "markdown",
   "id": "bf7c4f09-83b5-4952-83ca-dc9336319757",
   "metadata": {},
   "source": [
    "Write a program that takes a number and checks whether it is a palindrome or not."
   ]
  },
  {
   "cell_type": "code",
   "execution_count": 62,
   "id": "e34a1512-0929-4251-b6ef-557bfb01d4ac",
   "metadata": {},
   "outputs": [
    {
     "name": "stdin",
     "output_type": "stream",
     "text": [
      "Enter number 12321\n"
     ]
    },
    {
     "name": "stdout",
     "output_type": "stream",
     "text": [
      "Entered number is a palindrome number.\n"
     ]
    }
   ],
   "source": [
    "num=int(input('Enter number'))\n",
    "n=num\n",
    "a = 0\n",
    "while n>0:\n",
    "    rem = n%10\n",
    "    a=a*10+rem\n",
    "    n=n//10\n",
    "if a==num:\n",
    "    print('Entered number is a palindrome number.')\n",
    "else:\n",
    "    print('Entered number is not a palindrome number.')"
   ]
  },
  {
   "cell_type": "code",
   "execution_count": null,
   "id": "cc806d79-d82d-490d-b90f-407015c4114b",
   "metadata": {},
   "outputs": [],
   "source": []
  },
  {
   "cell_type": "code",
   "execution_count": 70,
   "id": "7b196241-b538-4016-b724-1691bde20379",
   "metadata": {},
   "outputs": [
    {
     "name": "stdout",
     "output_type": "stream",
     "text": [
      "Entered number is an armstrong number.\n"
     ]
    }
   ],
   "source": [
    "num=153\n",
    "n=num\n",
    "sum=0\n",
    "\n",
    "while n>0:\n",
    "    rem=n%10\n",
    "    sum=sum+(rem**3)\n",
    "    n=n//10\n",
    "\n",
    "if num==sum:\n",
    "    print('Entered number is an armstrong number.')\n",
    "else:\n",
    "    print('Entered number is not an armstrong number.')"
   ]
  },
  {
   "cell_type": "code",
   "execution_count": null,
   "id": "3ad31c26-e2a0-48a5-970c-1925d85f3d12",
   "metadata": {},
   "outputs": [],
   "source": []
  },
  {
   "cell_type": "code",
   "execution_count": null,
   "id": "8b1a784d-7333-4cb4-8312-b62d23ce7b39",
   "metadata": {},
   "outputs": [],
   "source": []
  }
 ],
 "metadata": {
  "kernelspec": {
   "display_name": "Python 3 (ipykernel)",
   "language": "python",
   "name": "python3"
  },
  "language_info": {
   "codemirror_mode": {
    "name": "ipython",
    "version": 3
   },
   "file_extension": ".py",
   "mimetype": "text/x-python",
   "name": "python",
   "nbconvert_exporter": "python",
   "pygments_lexer": "ipython3",
   "version": "3.12.4"
  }
 },
 "nbformat": 4,
 "nbformat_minor": 5
}
