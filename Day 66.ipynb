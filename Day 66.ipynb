{
 "cells": [
  {
   "cell_type": "markdown",
   "id": "7988debf-c4f5-4174-a0ff-c004f2d49da0",
   "metadata": {},
   "source": [
    "##### 1 WAP to display prime numbers for a given range."
   ]
  },
  {
   "cell_type": "code",
   "execution_count": 1,
   "id": "4bcc3562-e233-43f5-a1b1-fd5fee3dea3a",
   "metadata": {},
   "outputs": [
    {
     "name": "stdout",
     "output_type": "stream",
     "text": [
      "1\n",
      "2\n",
      "3\n",
      "5\n",
      "7\n",
      "11\n",
      "13\n",
      "17\n",
      "19\n",
      "23\n",
      "29\n",
      "31\n",
      "37\n",
      "41\n",
      "43\n",
      "47\n",
      "53\n",
      "59\n",
      "61\n",
      "67\n",
      "71\n",
      "73\n",
      "79\n",
      "83\n",
      "89\n",
      "97\n"
     ]
    }
   ],
   "source": [
    "for num in range(1,101):\n",
    "    for i in range(2,num):\n",
    "        if num%i==0:\n",
    "            break\n",
    "    else:\n",
    "        print(num)"
   ]
  },
  {
   "cell_type": "markdown",
   "id": "d1b7821e-64d6-408d-ab0f-21f10723ff07",
   "metadata": {},
   "source": [
    "##### 2 Accept the percentage from the user and and display the grade according to the followinfg criteria:\n",
    "#####   below 25-D , 25-45 -C , 45-50 -B , 50-60 -B+ , 60-80 -A , above 80-A+"
   ]
  },
  {
   "cell_type": "code",
   "execution_count": 5,
   "id": "f9ff6760-9e6d-4cde-a441-9cc2125a6917",
   "metadata": {},
   "outputs": [
    {
     "name": "stdin",
     "output_type": "stream",
     "text": [
      "Enter your percentage : 81\n"
     ]
    },
    {
     "name": "stdout",
     "output_type": "stream",
     "text": [
      "Grade - A+\n"
     ]
    }
   ],
   "source": [
    "per = int(input(\"Enter your percentage :\"))\n",
    "if per < 25:\n",
    "    print(\"Grade - D\")\n",
    "elif per >= 25 and per <45:\n",
    "    print(\"Grade - C\")\n",
    "elif per >= 45 and per < 50:\n",
    "    print(\"Grade - B\")\n",
    "elif per >=50 and per < 60:\n",
    "    print(\"Grade - B+\")\n",
    "elif per >=60 and per < 80:\n",
    "    print(\"Grade - A\")\n",
    "elif per > 80:\n",
    "    print(\"Grade - A+\")"
   ]
  },
  {
   "cell_type": "markdown",
   "id": "c07561d5-30bb-4b96-b44d-73f6c9dfcc5a",
   "metadata": {},
   "source": [
    "##### 3 A company decided to give bonus to employee according to following criteria:\n",
    "#####   Time period of service , Bonus\n",
    "#####   more tha 10 years - 10%,>=6 and <=10 - 8% , less than 6 years - 5%"
   ]
  },
  {
   "cell_type": "code",
   "execution_count": 6,
   "id": "b2066e35-a48b-440c-b628-4c78488abc7c",
   "metadata": {},
   "outputs": [
    {
     "name": "stdin",
     "output_type": "stream",
     "text": [
      "Enter time period of service : 12\n",
      "Enter your salary : 50000\n"
     ]
    },
    {
     "name": "stdout",
     "output_type": "stream",
     "text": [
      "Bonus : 5000.0\n"
     ]
    }
   ],
   "source": [
    "yr = int(input(\"Enter time period of service :\"))\n",
    "salary = int(input(\"Enter your salary :\"))\n",
    "if yr > 10:\n",
    "    bonus = salary*(10/100)\n",
    "    print(\"Bonus :\",bonus)\n",
    "elif yr >=6 and yr <= 10:\n",
    "    bonus = salary*(8/100)\n",
    "    print(\"Bonus :\",bonus)\n",
    "elif yr < 6:\n",
    "    bonus = salary*(5/100)\n",
    "    print(\"Bonus :\",bonus)"
   ]
  },
  {
   "cell_type": "markdown",
   "id": "e41dafe8-03df-41ee-93d0-31e7bd651ff3",
   "metadata": {},
   "source": [
    "##### 4 Accept the market price from the user and calculate the Net amount to pay according to following criteria:\n",
    "##### >10000-20% , >7000 and <=10000 - 15% , <=7000 - 10%"
   ]
  },
  {
   "cell_type": "code",
   "execution_count": 11,
   "id": "ef30c1e4-b81f-42b6-9e2d-d28722949c9a",
   "metadata": {},
   "outputs": [
    {
     "name": "stdin",
     "output_type": "stream",
     "text": [
      "Enter market price 8000\n"
     ]
    },
    {
     "name": "stdout",
     "output_type": "stream",
     "text": [
      "Net amount to pay : 6800.0\n"
     ]
    }
   ],
   "source": [
    "mp=int(input(\"Enter market price\"))\n",
    "if mp > 10000:\n",
    "    Discount = mp*(20/100)\n",
    "elif mp > 7000 and mp <= 10000:\n",
    "    Discount = mp*(15/100)\n",
    "elif mp <7000:\n",
    "    Discount = mp*(10/100)\n",
    "\n",
    "print(\"Net amount to pay :\",mp-Discount)"
   ]
  },
  {
   "cell_type": "markdown",
   "id": "37d5f252-d45b-49b0-89ce-5840bb40758e",
   "metadata": {},
   "source": [
    "##### 5 WAP to accept % and display the category according to the following criteria :\n",
    "#####   <40-failed , >=40 & <55-fair , >=55 & <65- good , >=65-excellent"
   ]
  },
  {
   "cell_type": "code",
   "execution_count": 16,
   "id": "aa5ffbe2-7499-4ca4-b862-e54cbc801303",
   "metadata": {},
   "outputs": [
    {
     "name": "stdin",
     "output_type": "stream",
     "text": [
      "Enter percentage 81\n"
     ]
    },
    {
     "name": "stdout",
     "output_type": "stream",
     "text": [
      "Excellent\n"
     ]
    }
   ],
   "source": [
    "per = int(input(\"Enter percentage\"))\n",
    "if per < 40:\n",
    "    print(\"Failed\")\n",
    "elif per >=40 and per < 55:\n",
    "    print(\"Fair\")\n",
    "elif per >= 55 and per < 65:\n",
    "    print(\"Good\")\n",
    "elif per >= 65:\n",
    "    print(\"Excellent\")"
   ]
  },
  {
   "cell_type": "code",
   "execution_count": null,
   "id": "1110a9af-3433-4fa8-b1d1-1187be5fe7eb",
   "metadata": {},
   "outputs": [],
   "source": []
  }
 ],
 "metadata": {
  "kernelspec": {
   "display_name": "Python 3 (ipykernel)",
   "language": "python",
   "name": "python3"
  },
  "language_info": {
   "codemirror_mode": {
    "name": "ipython",
    "version": 3
   },
   "file_extension": ".py",
   "mimetype": "text/x-python",
   "name": "python",
   "nbconvert_exporter": "python",
   "pygments_lexer": "ipython3",
   "version": "3.12.4"
  }
 },
 "nbformat": 4,
 "nbformat_minor": 5
}
