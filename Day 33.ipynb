{
 "cells": [
  {
   "cell_type": "markdown",
   "id": "475f6abb-8773-4e59-8361-ff1da1b240fa",
   "metadata": {},
   "source": [
    "##### 1 WAP to print U using '*'"
   ]
  },
  {
   "cell_type": "code",
   "execution_count": 2,
   "id": "52f03112-d260-41a7-9b8c-4a1111aaabd1",
   "metadata": {},
   "outputs": [
    {
     "name": "stdout",
     "output_type": "stream",
     "text": [
      "*       * \n",
      "*       * \n",
      "*       * \n",
      "*       * \n",
      "*       * \n",
      "*       * \n",
      "  * * *   \n"
     ]
    }
   ],
   "source": [
    "for row in range(7):\n",
    "    for col in range(5):\n",
    "        if ((col==0 or col==4) and row!=6) or (row==6 and (col>0 and col<4)):\n",
    "            print('*',end=' ')\n",
    "        else:\n",
    "            print(' ',end=' ')\n",
    "    print()"
   ]
  },
  {
   "cell_type": "markdown",
   "id": "a63dfbaf-dbb3-4fc1-9f1c-91b2ad208b16",
   "metadata": {},
   "source": [
    "##### 2 WAP to print V using '*'"
   ]
  },
  {
   "cell_type": "code",
   "execution_count": 25,
   "id": "e692d6cc-5e31-41d7-9384-5b81fac9dec1",
   "metadata": {},
   "outputs": [
    {
     "name": "stdout",
     "output_type": "stream",
     "text": [
      "*      *\n",
      " *    * \n",
      "  *  *  \n",
      "   *    \n"
     ]
    }
   ],
   "source": [
    "i=0 \n",
    "j=6\n",
    "for row in range(4):\n",
    "    for col in range(7):\n",
    "        if row==col :\n",
    "            print('*',end='')\n",
    "        if row==i and col==j and i!=j:\n",
    "            print('*',end='')\n",
    "            i=i+1\n",
    "            j=j-1\n",
    "        else:\n",
    "            print(' ',end='')\n",
    "    print()"
   ]
  },
  {
   "cell_type": "markdown",
   "id": "8b43cd73-5c0c-40be-bed3-d60abd290dd4",
   "metadata": {},
   "source": [
    "##### 3 WAP to print W using '*'"
   ]
  },
  {
   "cell_type": "code",
   "execution_count": 35,
   "id": "28ba1f87-df64-46e3-86bf-11f8c531c1a0",
   "metadata": {},
   "outputs": [
    {
     "name": "stdout",
     "output_type": "stream",
     "text": [
      "*  *  *\n",
      "* * * *\n",
      "**   **\n",
      "*     *\n"
     ]
    }
   ],
   "source": [
    "for row in range(4):\n",
    "    for col in range(7):\n",
    "        if col==0 or col==6 or (row==2 and (col==1 or col==5)) or ((row==1 and (col==2 or col==4))) or (row==0 and col==3) :\n",
    "            print('*',end='')\n",
    "        else:\n",
    "            print(' ',end='')\n",
    "    print()"
   ]
  },
  {
   "cell_type": "markdown",
   "id": "f2d0b647-a03a-470d-94b6-95eab74164af",
   "metadata": {},
   "source": [
    "##### 4 WAP to print X using '*'"
   ]
  },
  {
   "cell_type": "code",
   "execution_count": 72,
   "id": "6269d7e2-1baf-4537-a15b-77d871eb0813",
   "metadata": {},
   "outputs": [
    {
     "name": "stdout",
     "output_type": "stream",
     "text": [
      "*       *\n",
      "  *   *  \n",
      "    *    \n",
      "  *  *   \n",
      "*      * \n"
     ]
    }
   ],
   "source": [
    "i=0\n",
    "j=4\n",
    "for row in range(5):\n",
    "    for col in range(5):\n",
    "        if  row==i and col==j:\n",
    "            print('*',end='')\n",
    "            i=i+1\n",
    "            j=j-1\n",
    "        elif row==col:\n",
    "            print('*',end=' ')\n",
    "        else:\n",
    "            print(' ',end=' ')\n",
    "    print()"
   ]
  },
  {
   "cell_type": "markdown",
   "id": "302d3fb7-adb7-42c1-8fca-c5c8578c884c",
   "metadata": {},
   "source": [
    "##### 5 WAP to print Y using '*'"
   ]
  },
  {
   "cell_type": "code",
   "execution_count": 70,
   "id": "416e2ea3-57fd-47aa-8fbc-0c69bcd8c9fe",
   "metadata": {},
   "outputs": [
    {
     "name": "stdout",
     "output_type": "stream",
     "text": [
      "*       * \n",
      "  *   *   \n",
      "    *     \n",
      "    *     \n",
      "    *     \n"
     ]
    }
   ],
   "source": [
    "for row in range(5):\n",
    "    for col in range(5):\n",
    "        if (col==2 and row>1) or (row==0 and (col==0 or col==4)) or (row==1 and (col==1 or col==3)):\n",
    "            print('*',end=' ')\n",
    "        else:\n",
    "            print(' ',end=' ')\n",
    "    print()"
   ]
  },
  {
   "cell_type": "markdown",
   "id": "75ca0295-7b4d-4f76-8058-973b9a2f6a0e",
   "metadata": {},
   "source": [
    "##### 6 WAP to print Z using '*'"
   ]
  },
  {
   "cell_type": "code",
   "execution_count": 105,
   "id": "5db3fcf0-b2bb-424a-b13e-7c710b1349d7",
   "metadata": {},
   "outputs": [
    {
     "name": "stdout",
     "output_type": "stream",
     "text": [
      "* * * * * * \n",
      "        *   \n",
      "      *     \n",
      "    *       \n",
      "  *         \n",
      "* * * * * * \n"
     ]
    }
   ],
   "source": [
    "i=1\n",
    "j=4\n",
    "for row in range(6):\n",
    "    for col in range(6):\n",
    "        if row==0 or row==5:\n",
    "            print('*',end=' ')\n",
    "        elif row==i and col==j:\n",
    "            print('*',end=' ')\n",
    "            i=i+1\n",
    "            j=j-1\n",
    "        else:\n",
    "            print(' ',end=' ')\n",
    "    print()"
   ]
  },
  {
   "cell_type": "markdown",
   "id": "591b2d1b-243f-4ee1-8f72-c1d7234445cc",
   "metadata": {},
   "source": [
    "##### 7 WAP to print hollow triangle"
   ]
  },
  {
   "cell_type": "code",
   "execution_count": 5,
   "id": "cffa0103-1ce0-42c7-9487-137cbdc8a2a5",
   "metadata": {},
   "outputs": [
    {
     "name": "stdin",
     "output_type": "stream",
     "text": [
      "Enter no. of rows 4\n"
     ]
    },
    {
     "name": "stdout",
     "output_type": "stream",
     "text": [
      "      *       \n",
      "    *   *     \n",
      "  *       *   \n",
      "* * * * * * * \n"
     ]
    }
   ],
   "source": [
    "n=int(input('Enter no. of rows'))\n",
    "for row in range(1,n+1):\n",
    "    for col in range(1,2*n):\n",
    "        if row==4 or col+row==5 or col-row==3:\n",
    "            print('*',end=' ')\n",
    "        else:\n",
    "            print(' ',end=' ')\n",
    "    print()"
   ]
  },
  {
   "cell_type": "markdown",
   "id": "119b1402-71c3-4d5b-b035-41e2029736fd",
   "metadata": {},
   "source": [
    "##### 8 WAP to print stars in hollow diamond shape"
   ]
  },
  {
   "cell_type": "code",
   "execution_count": 9,
   "id": "5acaf595-333c-4d11-97bb-2bd36ce10ae2",
   "metadata": {},
   "outputs": [
    {
     "name": "stdout",
     "output_type": "stream",
     "text": [
      "    *     \n",
      "  *   *   \n",
      "*       * \n",
      "  *   *   \n",
      "    *     \n"
     ]
    }
   ],
   "source": [
    "for row in range(5):\n",
    "    for col in range(5):\n",
    "        if row+col==2 or col-row==2 or row-col==2 or (row==3 and col==3):\n",
    "            print('*',end=' ')\n",
    "        else:\n",
    "            print(' ',end=' ')\n",
    "    print()"
   ]
  },
  {
   "cell_type": "markdown",
   "id": "3ebb6d74-7acc-4d10-9f3d-1ac0999a4600",
   "metadata": {},
   "source": [
    "##### 9 WAP to print stars in hollow square shape"
   ]
  },
  {
   "cell_type": "code",
   "execution_count": 17,
   "id": "2ebf0296-7dda-4d49-bcfa-9b2e0167f674",
   "metadata": {},
   "outputs": [
    {
     "name": "stdout",
     "output_type": "stream",
     "text": [
      "* * * * * \n",
      "*       * \n",
      "*       * \n",
      "*       * \n",
      "* * * * * \n"
     ]
    }
   ],
   "source": [
    "n=5\n",
    "for row in range(n):\n",
    "    for col in range(n):\n",
    "        if (row==0 or row==4) or ((col==0 or col==4) and (row>0 and row<4)):\n",
    "            print('*',end=' ')\n",
    "        else:\n",
    "            print(' ',end=' ')\n",
    "    print()"
   ]
  },
  {
   "cell_type": "markdown",
   "id": "84b4212f-2a73-42e0-b61e-b34fbde3f6b1",
   "metadata": {},
   "source": [
    "##### 10 WAP to print stars in hollow increasing triangle"
   ]
  },
  {
   "cell_type": "code",
   "execution_count": 21,
   "id": "727eae6d-5464-4464-93ef-9cabf55334ce",
   "metadata": {},
   "outputs": [
    {
     "name": "stdout",
     "output_type": "stream",
     "text": [
      "*         \n",
      "* *       \n",
      "*   *     \n",
      "*     *   \n",
      "* * * * * \n"
     ]
    }
   ],
   "source": [
    "n=5\n",
    "for row in range(n):\n",
    "    for col in range(5):\n",
    "        if col==0 or (row==4 and col!=0) or row==col:\n",
    "            print('*',end=' ')\n",
    "        else:\n",
    "            print(' ',end=' ')\n",
    "    print()"
   ]
  },
  {
   "cell_type": "code",
   "execution_count": null,
   "id": "c1881ccf-432b-4d8c-94c5-d67220ae422c",
   "metadata": {},
   "outputs": [],
   "source": []
  }
 ],
 "metadata": {
  "kernelspec": {
   "display_name": "Python 3 (ipykernel)",
   "language": "python",
   "name": "python3"
  },
  "language_info": {
   "codemirror_mode": {
    "name": "ipython",
    "version": 3
   },
   "file_extension": ".py",
   "mimetype": "text/x-python",
   "name": "python",
   "nbconvert_exporter": "python",
   "pygments_lexer": "ipython3",
   "version": "3.12.4"
  }
 },
 "nbformat": 4,
 "nbformat_minor": 5
}
