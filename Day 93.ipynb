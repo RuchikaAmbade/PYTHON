{
 "cells": [
  {
   "cell_type": "markdown",
   "id": "4e2dffb7-d8c8-4ebc-b1a2-eb1d4df23abd",
   "metadata": {},
   "source": [
    "##### 1 Create a 2D list with 1 on the border and 0 inside."
   ]
  },
  {
   "cell_type": "code",
   "execution_count": 9,
   "id": "57b62f8e-8d1c-4db2-a051-cbeb6d38d0bd",
   "metadata": {},
   "outputs": [
    {
     "name": "stdout",
     "output_type": "stream",
     "text": [
      "[[1, 1, 1, 1, 1], [1, 0, 0, 0, 1], [1, 0, 0, 0, 1], [1, 0, 0, 0, 1], [1, 1, 1, 1, 1]]\n"
     ]
    }
   ],
   "source": [
    "matrix = [[1 if i==0 or i==4 or j==0 or j==4 else 0 for j in range(5)] for i in range(5) ]\n",
    "print(matrix)"
   ]
  },
  {
   "cell_type": "markdown",
   "id": "6e1a50ea-8399-4e8e-8235-178f5361aa00",
   "metadata": {},
   "source": [
    "##### 2 Find the unique values and their counts in a list."
   ]
  },
  {
   "cell_type": "code",
   "execution_count": 12,
   "id": "d3d24509-c12d-4bbe-b26e-5264cf5aba39",
   "metadata": {},
   "outputs": [
    {
     "name": "stdout",
     "output_type": "stream",
     "text": [
      "Unique values : [1, 2, 3, 4, 5, 6]\n",
      "Counts: {1: 2, 2: 2, 3: 1, 4: 2, 5: 1, 6: 1}\n"
     ]
    }
   ],
   "source": [
    "lst = [1,2,3,2,4,1,5,4,6]\n",
    "unique_values = list(set(lst))\n",
    "counts = {x: lst.count(x) for x in unique_values}\n",
    "print('Unique values :',unique_values)\n",
    "print('Counts:',counts)"
   ]
  },
  {
   "cell_type": "markdown",
   "id": "501a9934-9b48-4ea6-bf3d-2c1de87071fa",
   "metadata": {},
   "source": [
    "##### 3 Create a list of lists with values ranging from 0 to 8"
   ]
  },
  {
   "cell_type": "code",
   "execution_count": 15,
   "id": "b9470a0f-40db-48ff-b3a4-1d791c558157",
   "metadata": {},
   "outputs": [
    {
     "name": "stdout",
     "output_type": "stream",
     "text": [
      "[[0, 1, 2], [3, 4, 5], [6, 7, 8]]\n"
     ]
    }
   ],
   "source": [
    "matrix = [[i+j*3 for i in range(3)]for j in range(3)]\n",
    "print(matrix)"
   ]
  },
  {
   "cell_type": "code",
   "execution_count": null,
   "id": "23df1c2e-f48a-43f2-9683-7c9fb48bbe7b",
   "metadata": {},
   "outputs": [],
   "source": []
  }
 ],
 "metadata": {
  "kernelspec": {
   "display_name": "Python 3 (ipykernel)",
   "language": "python",
   "name": "python3"
  },
  "language_info": {
   "codemirror_mode": {
    "name": "ipython",
    "version": 3
   },
   "file_extension": ".py",
   "mimetype": "text/x-python",
   "name": "python",
   "nbconvert_exporter": "python",
   "pygments_lexer": "ipython3",
   "version": "3.12.4"
  }
 },
 "nbformat": 4,
 "nbformat_minor": 5
}
