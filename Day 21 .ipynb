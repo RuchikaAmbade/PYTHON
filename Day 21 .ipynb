{
 "cells": [
  {
   "cell_type": "markdown",
   "id": "25a87c96-03be-4012-921a-11374b775840",
   "metadata": {},
   "source": [
    "##### 1 WAP to create a set."
   ]
  },
  {
   "cell_type": "code",
   "execution_count": 31,
   "id": "0101afe9-6771-49be-a691-8b389cb6f29e",
   "metadata": {},
   "outputs": [
    {
     "name": "stdout",
     "output_type": "stream",
     "text": [
      "<class 'set'>\n",
      "{1, 2, 3, 4}\n"
     ]
    }
   ],
   "source": [
    "set1={1,2,3,4}\n",
    "print(type(set1))\n",
    "print(set1)"
   ]
  },
  {
   "cell_type": "markdown",
   "id": "fcac38fb-eb27-45a6-868a-142ccf7fadec",
   "metadata": {},
   "source": [
    "##### 2 WAP to iterate over sets"
   ]
  },
  {
   "cell_type": "code",
   "execution_count": 68,
   "id": "ba8e8510-99b4-46cf-af0f-42f44b9e63d2",
   "metadata": {},
   "outputs": [
    {
     "name": "stdout",
     "output_type": "stream",
     "text": [
      "3\n",
      "4\n",
      "5\n",
      "7\n",
      "8\n"
     ]
    }
   ],
   "source": [
    "s2={8,3,4,5,7}\n",
    "for i in s2:\n",
    "    print(i)"
   ]
  },
  {
   "cell_type": "markdown",
   "id": "744aa7ad-571c-417a-b1a2-6af27ba27626",
   "metadata": {},
   "source": [
    "##### 3 WAP to add members to a set"
   ]
  },
  {
   "cell_type": "code",
   "execution_count": 33,
   "id": "4f29e719-a2f6-4e82-b660-84e9990c1f44",
   "metadata": {},
   "outputs": [
    {
     "data": {
      "text/plain": [
       "{1, 2, 3, 4, 5, 6, 7, 8}"
      ]
     },
     "execution_count": 33,
     "metadata": {},
     "output_type": "execute_result"
    }
   ],
   "source": [
    "set1.update({5,6,7,8})\n",
    "set1"
   ]
  },
  {
   "cell_type": "markdown",
   "id": "8f02d85a-31b9-4f1c-9d4f-dcdaa4b37acb",
   "metadata": {},
   "source": [
    "##### 4 WAP to remove an item from a set if it is present in a set."
   ]
  },
  {
   "cell_type": "code",
   "execution_count": 51,
   "id": "7d062fc0-d775-4dae-9b89-92bf82603ef7",
   "metadata": {},
   "outputs": [
    {
     "name": "stdin",
     "output_type": "stream",
     "text": [
      "Enter a number 8\n"
     ]
    },
    {
     "name": "stdout",
     "output_type": "stream",
     "text": [
      "{2, 3, 4, 5, 6, 7}\n"
     ]
    }
   ],
   "source": [
    "num=int(input('Enter a number'))\n",
    "s1={4,8,7,2,3,6,5}\n",
    "if num in s1:\n",
    "    s1.remove(num)\n",
    "    print(s1)\n",
    "else :\n",
    "    print(\"Entered number is not present in the list\")"
   ]
  },
  {
   "cell_type": "markdown",
   "id": "fcec952e-61ae-40bc-8938-67ad283ad659",
   "metadata": {},
   "source": [
    "#### 5 WAP to remove item from a given set"
   ]
  },
  {
   "cell_type": "code",
   "execution_count": 35,
   "id": "1011a13b-e41f-421e-8646-01e5a7c82743",
   "metadata": {},
   "outputs": [
    {
     "data": {
      "text/plain": [
       "{2, 3, 4, 5, 6, 7, 8}"
      ]
     },
     "execution_count": 35,
     "metadata": {},
     "output_type": "execute_result"
    }
   ],
   "source": [
    "set1.pop()         # to remove single element\n",
    "set1"
   ]
  },
  {
   "cell_type": "code",
   "execution_count": 37,
   "id": "35ed6566-a28c-46d7-9623-050cb9b0151d",
   "metadata": {},
   "outputs": [
    {
     "data": {
      "text/plain": [
       "{2, 3, 4, 6, 7, 8}"
      ]
     },
     "execution_count": 37,
     "metadata": {},
     "output_type": "execute_result"
    }
   ],
   "source": [
    "set1.remove(5)      # to remove a particular element\n",
    "set1"
   ]
  },
  {
   "cell_type": "code",
   "execution_count": 39,
   "id": "fa6491f2-467f-4baa-8a0d-989dccb6c5fc",
   "metadata": {},
   "outputs": [
    {
     "data": {
      "text/plain": [
       "set()"
      ]
     },
     "execution_count": 39,
     "metadata": {},
     "output_type": "execute_result"
    }
   ],
   "source": [
    "set1.clear()        # to remove all elements from a set\n",
    "set1"
   ]
  },
  {
   "cell_type": "code",
   "execution_count": 3,
   "id": "954fbc31-6791-4e1e-887f-b2756ec0518c",
   "metadata": {},
   "outputs": [
    {
     "data": {
      "text/plain": [
       "set()"
      ]
     },
     "execution_count": 3,
     "metadata": {},
     "output_type": "execute_result"
    }
   ],
   "source": [
    "set2={4,5,3,6,9}\n",
    "while set2:\n",
    "    set2.pop()\n",
    "set2"
   ]
  },
  {
   "cell_type": "markdown",
   "id": "8b2b8a80-9a7b-4c34-a306-cf91137bc985",
   "metadata": {},
   "source": [
    "##### 6 WAP to create an intersections of sets"
   ]
  },
  {
   "cell_type": "code",
   "execution_count": 6,
   "id": "75b7bf63-e5b7-4189-a874-4ac6bd1e2c8f",
   "metadata": {},
   "outputs": [
    {
     "data": {
      "text/plain": [
       "{4, 5}"
      ]
     },
     "execution_count": 6,
     "metadata": {},
     "output_type": "execute_result"
    }
   ],
   "source": [
    "A={1,2,3,4,5}\n",
    "B={4,5,6,7,8}\n",
    "A.intersection(B)"
   ]
  },
  {
   "cell_type": "markdown",
   "id": "b8d0e38b-7128-4900-a40c-2b0b195c5a40",
   "metadata": {},
   "source": [
    "##### 7 WAP to create a union of sets"
   ]
  },
  {
   "cell_type": "code",
   "execution_count": 9,
   "id": "d0056659-25ee-4fae-b986-cd5e71ffa07f",
   "metadata": {},
   "outputs": [
    {
     "data": {
      "text/plain": [
       "{1, 2, 3, 4, 5, 6, 7, 8}"
      ]
     },
     "execution_count": 9,
     "metadata": {},
     "output_type": "execute_result"
    }
   ],
   "source": [
    "A={1,2,3,4,5}\n",
    "B={4,5,6,7,8}\n",
    "A.union(B)"
   ]
  },
  {
   "cell_type": "markdown",
   "id": "169dcefd-5e5e-4920-8f66-5fbc95dd3b89",
   "metadata": {},
   "source": [
    "##### 8 WAP to create set difference"
   ]
  },
  {
   "cell_type": "code",
   "execution_count": 12,
   "id": "e68c3914-f744-4ba8-9add-63441b0cc52d",
   "metadata": {},
   "outputs": [
    {
     "name": "stdout",
     "output_type": "stream",
     "text": [
      "{1, 2, 3}\n",
      "{8, 6, 7}\n"
     ]
    }
   ],
   "source": [
    "A={1,2,3,4,5}\n",
    "B={4,5,6,7,8}\n",
    "print(A.difference(B))\n",
    "print(B.difference(A))"
   ]
  },
  {
   "cell_type": "markdown",
   "id": "4fc45e54-d022-4e06-b475-8e73778f6145",
   "metadata": {},
   "source": [
    "##### 9 WAP to create symmetric difference"
   ]
  },
  {
   "cell_type": "code",
   "execution_count": 14,
   "id": "80b3a569-f0d2-4dd6-a4c2-6d75705d38b4",
   "metadata": {},
   "outputs": [
    {
     "data": {
      "text/plain": [
       "{1, 2, 3, 6, 7, 8}"
      ]
     },
     "execution_count": 14,
     "metadata": {},
     "output_type": "execute_result"
    }
   ],
   "source": [
    "A={1,2,3,4,5}\n",
    "B={4,5,6,7,8}\n",
    "i=A.intersection(B)\n",
    "u=A.union(B)\n",
    "sym=u-i\n",
    "sym"
   ]
  },
  {
   "cell_type": "markdown",
   "id": "96e71412-43ed-4ba1-9e48-936c3e5fac6f",
   "metadata": {},
   "source": [
    "##### 10 WAP to check if a set is a subset of another set"
   ]
  },
  {
   "cell_type": "code",
   "execution_count": 22,
   "id": "bc09e26d-f2fe-49eb-ab51-9ab5182bd112",
   "metadata": {},
   "outputs": [
    {
     "data": {
      "text/plain": [
       "True"
      ]
     },
     "execution_count": 22,
     "metadata": {},
     "output_type": "execute_result"
    }
   ],
   "source": [
    "A={1,2,3,4,5}\n",
    "B={4,5}\n",
    "B.issubset(A)"
   ]
  },
  {
   "cell_type": "code",
   "execution_count": null,
   "id": "6f7e4d6f-4505-43bb-9139-e4d86a754979",
   "metadata": {},
   "outputs": [],
   "source": []
  }
 ],
 "metadata": {
  "kernelspec": {
   "display_name": "Python 3 (ipykernel)",
   "language": "python",
   "name": "python3"
  },
  "language_info": {
   "codemirror_mode": {
    "name": "ipython",
    "version": 3
   },
   "file_extension": ".py",
   "mimetype": "text/x-python",
   "name": "python",
   "nbconvert_exporter": "python",
   "pygments_lexer": "ipython3",
   "version": "3.12.4"
  }
 },
 "nbformat": 4,
 "nbformat_minor": 5
}
