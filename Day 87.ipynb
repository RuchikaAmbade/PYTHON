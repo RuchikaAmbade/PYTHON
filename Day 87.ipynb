{
 "cells": [
  {
   "cell_type": "markdown",
   "id": "e0c92b12-5eaa-4c64-a99d-91fb27856dd5",
   "metadata": {},
   "source": [
    "##### 1 WAP to create a list with values ranging from 0 to 9."
   ]
  },
  {
   "cell_type": "code",
   "execution_count": 2,
   "id": "6d235c0b-524f-447f-a34d-a5225b048444",
   "metadata": {},
   "outputs": [
    {
     "data": {
      "text/plain": [
       "[0, 1, 2, 3, 4, 5, 6, 7, 8, 9]"
      ]
     },
     "execution_count": 2,
     "metadata": {},
     "output_type": "execute_result"
    }
   ],
   "source": [
    "list=list(range(10))\n",
    "list"
   ]
  },
  {
   "cell_type": "markdown",
   "id": "a7e7db5b-3acd-4b51-a208-05d4fcabbdfc",
   "metadata": {},
   "source": [
    "##### 2 WAP to convert a list of integers to a list strings."
   ]
  },
  {
   "cell_type": "code",
   "execution_count": 5,
   "id": "5067d323-d8ef-4986-b35c-669b5ce7ffbe",
   "metadata": {},
   "outputs": [
    {
     "name": "stdout",
     "output_type": "stream",
     "text": [
      "['1', '2', '3', '4', '5']\n"
     ]
    }
   ],
   "source": [
    "list = [1,2,3,4,5]\n",
    "str_lst = [str(i) for i in list]\n",
    "print(str_lst)"
   ]
  },
  {
   "cell_type": "markdown",
   "id": "53a89149-2456-42af-b63e-dc883e3cabdc",
   "metadata": {},
   "source": [
    "##### 3 WAP to multiply all elements in a list by 2."
   ]
  },
  {
   "cell_type": "code",
   "execution_count": 13,
   "id": "266efdcb-9b13-4d4f-bcd9-eabbfcd19db0",
   "metadata": {},
   "outputs": [
    {
     "name": "stdout",
     "output_type": "stream",
     "text": [
      "[2, 4, 6, 8, 10]\n"
     ]
    }
   ],
   "source": [
    "lst = [1,2,3,4,5]\n",
    "multiplied_list = [x*2 for x in lst]\n",
    "print(multiplied_list)"
   ]
  },
  {
   "cell_type": "markdown",
   "id": "d6ff5034-db44-47f7-94c3-166aae10cab9",
   "metadata": {},
   "source": [
    "##### 4 WAP to extract odd numbers from a list of integers."
   ]
  },
  {
   "cell_type": "code",
   "execution_count": 16,
   "id": "27392ad5-fb80-4003-a703-73a74013f54e",
   "metadata": {},
   "outputs": [
    {
     "data": {
      "text/plain": [
       "[1, 3, 5, 7, 9]"
      ]
     },
     "execution_count": 16,
     "metadata": {},
     "output_type": "execute_result"
    }
   ],
   "source": [
    "lst = [1,2,3,4,5,6,7,8,9,10]\n",
    "odd_numbers = [x for x in lst if x%2 != 0]\n",
    "odd_numbers"
   ]
  },
  {
   "cell_type": "markdown",
   "id": "395c37bd-b4e7-4506-a357-a2ad2c4b63bb",
   "metadata": {},
   "source": [
    "##### 5 WAP to replace all odd numbers in a list with -1."
   ]
  },
  {
   "cell_type": "code",
   "execution_count": 19,
   "id": "f969ff1f-f508-4296-8d1f-03457a0dd07b",
   "metadata": {},
   "outputs": [
    {
     "name": "stdout",
     "output_type": "stream",
     "text": [
      "[-1, 2, -1, 4, -1, 6, -1, 8, -1, 10]\n"
     ]
    }
   ],
   "source": [
    "lst = [1,2,3,4,5,6,7,8,9,10]\n",
    "replaced_list = [-1 if x %2 != 0 else x for x in lst]\n",
    "print(replaced_list)"
   ]
  },
  {
   "cell_type": "code",
   "execution_count": null,
   "id": "290bbdbe-aac8-4593-bc28-859e3430917d",
   "metadata": {},
   "outputs": [],
   "source": []
  }
 ],
 "metadata": {
  "kernelspec": {
   "display_name": "Python 3 (ipykernel)",
   "language": "python",
   "name": "python3"
  },
  "language_info": {
   "codemirror_mode": {
    "name": "ipython",
    "version": 3
   },
   "file_extension": ".py",
   "mimetype": "text/x-python",
   "name": "python",
   "nbconvert_exporter": "python",
   "pygments_lexer": "ipython3",
   "version": "3.12.4"
  }
 },
 "nbformat": 4,
 "nbformat_minor": 5
}
