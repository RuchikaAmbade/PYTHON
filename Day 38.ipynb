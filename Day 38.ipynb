{
 "cells": [
  {
   "cell_type": "markdown",
   "id": "8c696836-bf7c-4dce-b42c-e5bf61489ccd",
   "metadata": {},
   "source": [
    "##### 1 WAP to check whether a file exists."
   ]
  },
  {
   "cell_type": "code",
   "execution_count": 9,
   "id": "385a5f14-8af0-4166-b9db-9d7353b39447",
   "metadata": {},
   "outputs": [
    {
     "name": "stdout",
     "output_type": "stream",
     "text": [
      "False\n",
      "False\n"
     ]
    }
   ],
   "source": [
    "import os.path\n",
    "print(os.path.isfile('Maths.txt'))\n",
    "print(os.path.isfile('main.py'))"
   ]
  },
  {
   "cell_type": "markdown",
   "id": "ba117caa-999f-4887-8578-51f65956f68e",
   "metadata": {},
   "source": [
    "##### 2 WAP to determine if a python shell is executing in 32bit or 64bit mode on OS"
   ]
  },
  {
   "cell_type": "code",
   "execution_count": 19,
   "id": "0f89f5c9-2ddf-49cc-9a37-a63e9a68281d",
   "metadata": {},
   "outputs": [
    {
     "name": "stdout",
     "output_type": "stream",
     "text": [
      "64\n"
     ]
    }
   ],
   "source": [
    "import struct\n",
    "print(struct.calcsize('P')*8)"
   ]
  },
  {
   "cell_type": "markdown",
   "id": "4159dc1c-70e2-491d-8ad2-971e3512560e",
   "metadata": {},
   "source": [
    "##### 3 WAP to get OS name, platform and release information"
   ]
  },
  {
   "cell_type": "code",
   "execution_count": 27,
   "id": "cf0edf11-9b2c-4135-8195-815da5cdcd9e",
   "metadata": {},
   "outputs": [
    {
     "name": "stdout",
     "output_type": "stream",
     "text": [
      "Nmae of the operating system: nt\n",
      "\n",
      "Name of thr OS system: Windows\n",
      "\n",
      "Version of the operating system: 11\n"
     ]
    }
   ],
   "source": [
    "import os\n",
    "import platform\n",
    "\n",
    "print('Nmae of the operating system:', os.name)\n",
    "print('\\nName of thr OS system:', platform.system())\n",
    "print('\\nVersion of the operating system:',platform.release())"
   ]
  },
  {
   "cell_type": "markdown",
   "id": "7bf520f5-20d2-4313-a719-6e5f965ca27a",
   "metadata": {},
   "source": [
    "##### 4 WAP to locate Python site packages"
   ]
  },
  {
   "cell_type": "code",
   "execution_count": 33,
   "id": "e250c318-8042-40a2-b742-f7d193782be0",
   "metadata": {},
   "outputs": [
    {
     "name": "stdout",
     "output_type": "stream",
     "text": [
      "['C:\\\\Users\\\\ruchi\\\\anaconda3', 'C:\\\\Users\\\\ruchi\\\\anaconda3\\\\Lib\\\\site-packages']\n"
     ]
    }
   ],
   "source": [
    "import site\n",
    "print(site.getsitepackages())"
   ]
  },
  {
   "cell_type": "markdown",
   "id": "70788f37-a36e-4eac-a6a5-bace29782278",
   "metadata": {},
   "source": [
    "##### 5 WAP to count no. of cpu's used"
   ]
  },
  {
   "cell_type": "code",
   "execution_count": 49,
   "id": "620f4a42-37be-4311-96d3-6c6277d0e58f",
   "metadata": {},
   "outputs": [
    {
     "name": "stdout",
     "output_type": "stream",
     "text": [
      "4\n"
     ]
    }
   ],
   "source": [
    "import multiprocessing\n",
    "cpu_count = multiprocessing.cpu_count()\n",
    "print(cpu_count)"
   ]
  },
  {
   "cell_type": "markdown",
   "id": "42bac742-2080-4d2a-9874-fa150fb7084d",
   "metadata": {},
   "source": [
    "##### 6 WAP to parse a string to float or integer"
   ]
  },
  {
   "cell_type": "code",
   "execution_count": 3,
   "id": "5dd39490-779b-43d9-bbf6-c74d96280345",
   "metadata": {},
   "outputs": [
    {
     "name": "stdout",
     "output_type": "stream",
     "text": [
      "47.3486\n",
      "47\n"
     ]
    }
   ],
   "source": [
    "num='47.3486'\n",
    "print(float(num))\n",
    "print(int(float(num)))"
   ]
  },
  {
   "cell_type": "markdown",
   "id": "1000e435-d720-4f7c-b67f-03eb7107239b",
   "metadata": {},
   "source": [
    "##### 7 WAP to print without a newline or space"
   ]
  },
  {
   "cell_type": "code",
   "execution_count": 11,
   "id": "f9eeedcc-b671-4801-8fed-5a49b0311baf",
   "metadata": {},
   "outputs": [
    {
     "name": "stdout",
     "output_type": "stream",
     "text": [
      "**********\n",
      "\n"
     ]
    }
   ],
   "source": [
    "for i in range(1,11):\n",
    "    print('*',end='')\n",
    "print('\\n')"
   ]
  },
  {
   "cell_type": "markdown",
   "id": "dc360a61-f28c-4d8c-a34b-fd370b267413",
   "metadata": {},
   "source": [
    "##### 8 WAP to determine the profiling of python programs"
   ]
  },
  {
   "cell_type": "code",
   "execution_count": 51,
   "id": "eb88e78d-14e7-4b31-8dba-1641a169ce9b",
   "metadata": {
    "scrolled": true
   },
   "outputs": [
    {
     "name": "stdout",
     "output_type": "stream",
     "text": [
      "3\n",
      "         29 function calls in 0.000 seconds\n",
      "\n",
      "   Ordered by: standard name\n",
      "\n",
      "   ncalls  tottime  percall  cumtime  percall filename:lineno(function)\n",
      "        1    0.000    0.000    0.000    0.000 3364518286.py:2(sum)\n",
      "        1    0.000    0.000    0.000    0.000 <string>:1(<module>)\n",
      "        1    0.000    0.000    0.000    0.000 iostream.py:137(_event_pipe)\n",
      "        1    0.000    0.000    0.000    0.000 iostream.py:258(schedule)\n",
      "        2    0.000    0.000    0.000    0.000 iostream.py:519(_is_master_process)\n",
      "        2    0.000    0.000    0.000    0.000 iostream.py:546(_schedule_flush)\n",
      "        2    0.000    0.000    0.000    0.000 iostream.py:624(write)\n",
      "        1    0.000    0.000    0.000    0.000 socket.py:621(send)\n",
      "        1    0.000    0.000    0.000    0.000 threading.py:1153(_wait_for_tstate_lock)\n",
      "        1    0.000    0.000    0.000    0.000 threading.py:1220(is_alive)\n",
      "        1    0.000    0.000    0.000    0.000 threading.py:601(is_set)\n",
      "        1    0.000    0.000    0.000    0.000 {built-in method builtins.exec}\n",
      "        2    0.000    0.000    0.000    0.000 {built-in method builtins.isinstance}\n",
      "        2    0.000    0.000    0.000    0.000 {built-in method builtins.len}\n",
      "        1    0.000    0.000    0.000    0.000 {built-in method builtins.print}\n",
      "        2    0.000    0.000    0.000    0.000 {built-in method nt.getpid}\n",
      "        2    0.000    0.000    0.000    0.000 {method '__exit__' of '_thread.RLock' objects}\n",
      "        1    0.000    0.000    0.000    0.000 {method 'acquire' of '_thread.lock' objects}\n",
      "        1    0.000    0.000    0.000    0.000 {method 'append' of 'collections.deque' objects}\n",
      "        1    0.000    0.000    0.000    0.000 {method 'disable' of '_lsprof.Profiler' objects}\n",
      "        2    0.000    0.000    0.000    0.000 {method 'write' of '_io.StringIO' objects}\n",
      "\n",
      "\n"
     ]
    }
   ],
   "source": [
    "import cProfile\n",
    "def sum():\n",
    "    print(1+2)\n",
    "\n",
    "cProfile.run('sum()')"
   ]
  },
  {
   "cell_type": "markdown",
   "id": "5af29d02-da37-488c-ab41-3a7989a841f6",
   "metadata": {},
   "source": [
    "##### 9 WAP to print STDEER"
   ]
  },
  {
   "cell_type": "code",
   "execution_count": 29,
   "id": "a526d9ae-59ea-472e-b0b1-6d9bfd952f43",
   "metadata": {},
   "outputs": [
    {
     "name": "stderr",
     "output_type": "stream",
     "text": [
      "abc efg xyz\n"
     ]
    }
   ],
   "source": [
    "from __future__ import print_function\n",
    "\n",
    "import sys\n",
    "def eprint(*args,**kwargs):\n",
    "    print(*args, file=sys.stderr, **kwargs)\n",
    "\n",
    "eprint('abc','efg','xyz')"
   ]
  },
  {
   "cell_type": "markdown",
   "id": "3636cd4c-a3a2-4af4-b32a-b1f67af5b79e",
   "metadata": {},
   "source": [
    "##### 10 WAP to get current usrename"
   ]
  },
  {
   "cell_type": "code",
   "execution_count": 37,
   "id": "8508f437-508f-415e-bdd5-baabb22f7404",
   "metadata": {},
   "outputs": [
    {
     "name": "stdout",
     "output_type": "stream",
     "text": [
      "ruchi\n"
     ]
    }
   ],
   "source": [
    "import getpass\n",
    "print(getpass.getuser())"
   ]
  },
  {
   "cell_type": "code",
   "execution_count": null,
   "id": "18fd18e1-5e80-4ba2-a966-8fcb9e67e336",
   "metadata": {},
   "outputs": [],
   "source": []
  }
 ],
 "metadata": {
  "kernelspec": {
   "display_name": "Python 3 (ipykernel)",
   "language": "python",
   "name": "python3"
  },
  "language_info": {
   "codemirror_mode": {
    "name": "ipython",
    "version": 3
   },
   "file_extension": ".py",
   "mimetype": "text/x-python",
   "name": "python",
   "nbconvert_exporter": "python",
   "pygments_lexer": "ipython3",
   "version": "3.12.4"
  }
 },
 "nbformat": 4,
 "nbformat_minor": 5
}
