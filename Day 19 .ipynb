{
 "cells": [
  {
   "cell_type": "markdown",
   "id": "cc2c8d78-0427-4330-b1b6-36ea46caf65e",
   "metadata": {},
   "source": [
    "##### 1 WAP to create a tuple"
   ]
  },
  {
   "cell_type": "code",
   "execution_count": 3,
   "id": "5a15555d-57e7-4265-9d80-0c11550451b2",
   "metadata": {},
   "outputs": [
    {
     "data": {
      "text/plain": [
       "(1, 4, 8, 7, 5, 2, 3, 3, 6)"
      ]
     },
     "execution_count": 3,
     "metadata": {},
     "output_type": "execute_result"
    }
   ],
   "source": [
    "t1=(1,4,8,7,5,2,3,3,6)\n",
    "t1"
   ]
  },
  {
   "cell_type": "markdown",
   "id": "163acef2-ff8c-49fe-bb14-f9eaf1ad02c9",
   "metadata": {},
   "source": [
    "##### 2 WAP to create a tuple with different data types"
   ]
  },
  {
   "cell_type": "code",
   "execution_count": 7,
   "id": "12299c8d-8ca8-42e2-90ef-8c918951f9d6",
   "metadata": {},
   "outputs": [
    {
     "data": {
      "text/plain": [
       "('Name', 24, 89.6, True)"
      ]
     },
     "execution_count": 7,
     "metadata": {},
     "output_type": "execute_result"
    }
   ],
   "source": [
    "t1=('Name',24,89.6,True)\n",
    "t1"
   ]
  },
  {
   "cell_type": "markdown",
   "id": "dff9859b-bfca-40b4-954d-3bf3c9ed9656",
   "metadata": {},
   "source": [
    "##### 3 WAP to create a tuple of numbers and print one item"
   ]
  },
  {
   "cell_type": "code",
   "execution_count": 7,
   "id": "165b1886-0f43-489a-92d8-904f60ac5997",
   "metadata": {},
   "outputs": [
    {
     "data": {
      "text/plain": [
       "2"
      ]
     },
     "execution_count": 7,
     "metadata": {},
     "output_type": "execute_result"
    }
   ],
   "source": [
    "t1=(4,8,7,5,2,3,6,6,9)\n",
    "t1[4]"
   ]
  },
  {
   "cell_type": "markdown",
   "id": "8c10a5c8-df0f-44f7-928b-547fbb598682",
   "metadata": {},
   "source": [
    "##### 4 WAP to unpack a tuple into several variables"
   ]
  },
  {
   "cell_type": "code",
   "execution_count": 15,
   "id": "42898784-596d-4dc6-a567-3d5af87d0079",
   "metadata": {},
   "outputs": [
    {
     "name": "stdout",
     "output_type": "stream",
     "text": [
      "a = 4\n",
      "b = 5\n",
      "c = 2\n",
      "d = 8\n"
     ]
    }
   ],
   "source": [
    "t1=(4,5,2,8)\n",
    "a,b,c,d = t1\n",
    "print(f'a = {a}')\n",
    "print(f'b = {b}')\n",
    "print(f'c = {c}')\n",
    "print(f'd = {d}')"
   ]
  },
  {
   "cell_type": "markdown",
   "id": "96cd958b-d44c-42c2-8c6c-bfa2d78a2b2a",
   "metadata": {},
   "source": [
    "##### 5 WAP to add an item into a tuple"
   ]
  },
  {
   "cell_type": "code",
   "execution_count": 35,
   "id": "d7af5833-1539-492b-8476-0f5e778577df",
   "metadata": {},
   "outputs": [
    {
     "data": {
      "text/plain": [
       "(4, 5, 2, 8, 9)"
      ]
     },
     "execution_count": 35,
     "metadata": {},
     "output_type": "execute_result"
    }
   ],
   "source": [
    "t1=(4,5,2,8)\n",
    "t1=t1+(9,)\n",
    "t1"
   ]
  },
  {
   "cell_type": "code",
   "execution_count": 37,
   "id": "6bf4c755-3125-42e6-a3fa-991f9b05947b",
   "metadata": {},
   "outputs": [
    {
     "data": {
      "text/plain": [
       "(4, 5, 2, 8, 9, 3, 5)"
      ]
     },
     "execution_count": 37,
     "metadata": {},
     "output_type": "execute_result"
    }
   ],
   "source": [
    "t1=t1+(3,5,)\n",
    "t1"
   ]
  },
  {
   "cell_type": "markdown",
   "id": "289331d1-ff2e-40c7-b15e-b0473c0394a9",
   "metadata": {},
   "source": [
    "##### 6 WAP to convert a tuple into a string"
   ]
  },
  {
   "cell_type": "code",
   "execution_count": 39,
   "id": "3fede89c-07fe-435a-9c85-62cb27cf6efa",
   "metadata": {},
   "outputs": [
    {
     "data": {
      "text/plain": [
       "'google'"
      ]
     },
     "execution_count": 39,
     "metadata": {},
     "output_type": "execute_result"
    }
   ],
   "source": [
    "t1=('g','o','o','g','l','e')\n",
    "string=''.join(t1)\n",
    "string"
   ]
  },
  {
   "cell_type": "code",
   "execution_count": 47,
   "id": "1c8938d2-0f90-4cd0-9283-eaf834d84eaf",
   "metadata": {},
   "outputs": [
    {
     "name": "stdout",
     "output_type": "stream",
     "text": [
      "google\n"
     ]
    }
   ],
   "source": [
    "t1=('g','o','o','g','l','e')\n",
    "string=''\n",
    "for i in t1:\n",
    "    string=string+i\n",
    "print(string)"
   ]
  },
  {
   "cell_type": "markdown",
   "id": "2b4351c9-8cc5-4b14-8b7a-0bd04dc84a18",
   "metadata": {},
   "source": [
    "##### 7 WAP to get the 4th element from the last element of a tuple"
   ]
  },
  {
   "cell_type": "code",
   "execution_count": 53,
   "id": "322b5c1b-b6b7-4fa2-9f90-c9c2f9baab70",
   "metadata": {},
   "outputs": [
    {
     "name": "stdout",
     "output_type": "stream",
     "text": [
      "7\n"
     ]
    }
   ],
   "source": [
    "t1=(8,7,5,4,1,3,2,6,9,7,2,5,6)\n",
    "if len(t1)<4:\n",
    "    print(\"The tuple has less than 4 elements.\")\n",
    "else:\n",
    "    print(t1[-4])\n"
   ]
  },
  {
   "cell_type": "markdown",
   "id": "660e1e14-450d-4093-b0f4-1dffe6802d1e",
   "metadata": {},
   "source": [
    "##### 8 WAP to create the clone(copy) of a tuple"
   ]
  },
  {
   "cell_type": "code",
   "execution_count": 67,
   "id": "13c87ceb-b71c-4374-a6f2-c1670d86dca3",
   "metadata": {},
   "outputs": [
    {
     "data": {
      "text/plain": [
       "('Hello', 24, 'xyz', False, 6)"
      ]
     },
     "execution_count": 67,
     "metadata": {},
     "output_type": "execute_result"
    }
   ],
   "source": [
    "t1=('Hello',24,'xyz',False,6)\n",
    "t2=(t1)\n",
    "t2"
   ]
  },
  {
   "cell_type": "markdown",
   "id": "b3f9eb63-470f-46fb-b5b2-f54752b8f09e",
   "metadata": {},
   "source": [
    "##### 9 WAP to find repeated items in a tuple"
   ]
  },
  {
   "cell_type": "code",
   "execution_count": 115,
   "id": "1de24824-5e0c-449b-a02c-c39c1dec7cb5",
   "metadata": {},
   "outputs": [
    {
     "data": {
      "text/plain": [
       "3"
      ]
     },
     "execution_count": 115,
     "metadata": {},
     "output_type": "execute_result"
    }
   ],
   "source": [
    "t1=(8,7,5,4,1,7,7)\n",
    "count=t1.count(7)\n",
    "count"
   ]
  },
  {
   "cell_type": "markdown",
   "id": "4521dc72-d36e-47c8-bca1-17777f96a880",
   "metadata": {},
   "source": [
    "##### 10 WAP to check whether an element exists within a tuple"
   ]
  },
  {
   "cell_type": "code",
   "execution_count": 119,
   "id": "a2d480b9-d795-43e9-81f4-a077a760b897",
   "metadata": {},
   "outputs": [
    {
     "data": {
      "text/plain": [
       "True"
      ]
     },
     "execution_count": 119,
     "metadata": {},
     "output_type": "execute_result"
    }
   ],
   "source": [
    "t1=('Hello',24,'xyz',False,6)\n",
    "24 in t1"
   ]
  },
  {
   "cell_type": "code",
   "execution_count": null,
   "id": "04e4c66d-3d5d-4a01-ac2a-e91252effd35",
   "metadata": {},
   "outputs": [],
   "source": []
  }
 ],
 "metadata": {
  "kernelspec": {
   "display_name": "Python 3 (ipykernel)",
   "language": "python",
   "name": "python3"
  },
  "language_info": {
   "codemirror_mode": {
    "name": "ipython",
    "version": 3
   },
   "file_extension": ".py",
   "mimetype": "text/x-python",
   "name": "python",
   "nbconvert_exporter": "python",
   "pygments_lexer": "ipython3",
   "version": "3.12.4"
  }
 },
 "nbformat": 4,
 "nbformat_minor": 5
}
