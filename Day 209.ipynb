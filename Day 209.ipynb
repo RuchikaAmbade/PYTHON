{
 "cells": [
  {
   "cell_type": "markdown",
   "id": "e770cd85-4e2e-4efd-86fa-2cc710eacf64",
   "metadata": {},
   "source": [
    "1. Write a python code to take in an integer input and store it in a variable a.\n"
   ]
  },
  {
   "cell_type": "code",
   "execution_count": 13,
   "id": "91659138-4cdd-4d76-aac4-bef6717f8fd4",
   "metadata": {},
   "outputs": [
    {
     "name": "stdin",
     "output_type": "stream",
     "text": [
      "Enter any integer number: 24\n"
     ]
    }
   ],
   "source": [
    "a = int(input('Enter any integer number:'))"
   ]
  },
  {
   "cell_type": "code",
   "execution_count": null,
   "id": "3d3789fc-312c-4fa3-859f-ec8c3f73ebc6",
   "metadata": {},
   "outputs": [],
   "source": []
  },
  {
   "cell_type": "markdown",
   "id": "1877b673-157b-4a93-935c-ca4f7fd34f68",
   "metadata": {},
   "source": [
    "2.Display a's typecast."
   ]
  },
  {
   "cell_type": "code",
   "execution_count": 15,
   "id": "66f9a955-f82a-42a0-8167-2bb0d038cf9d",
   "metadata": {},
   "outputs": [
    {
     "name": "stdout",
     "output_type": "stream",
     "text": [
      "<class 'int'>\n"
     ]
    }
   ],
   "source": [
    "print(type(a))"
   ]
  },
  {
   "cell_type": "code",
   "execution_count": null,
   "id": "d199e4d6-ec24-47eb-a6e4-b536ea3b5dbc",
   "metadata": {},
   "outputs": [],
   "source": []
  },
  {
   "cell_type": "markdown",
   "id": "cdc07f52-e654-4d8b-9ca7-6ad06d9c62a3",
   "metadata": {},
   "source": [
    "3.Print 'True' if a is greater than or equal to 5, 'False' otherwise"
   ]
  },
  {
   "cell_type": "code",
   "execution_count": 17,
   "id": "5a0bc1a9-fb13-497d-afc8-b3f22d88a9f9",
   "metadata": {},
   "outputs": [
    {
     "name": "stdout",
     "output_type": "stream",
     "text": [
      "True\n"
     ]
    }
   ],
   "source": [
    "if a>=5:\n",
    "    print('True')\n",
    "else:\n",
    "    print('False')"
   ]
  },
  {
   "cell_type": "code",
   "execution_count": null,
   "id": "91c853be-41c4-4012-94fe-c55045ed3127",
   "metadata": {},
   "outputs": [],
   "source": []
  },
  {
   "cell_type": "markdown",
   "id": "908041d8-f828-4c34-93c8-98a69edd69f1",
   "metadata": {},
   "source": [
    "4.Take a string input of your name and store it as a list of separate letters.\n",
    " e.g. if your name is Rahul, take input of your name and store it in a list containing ['R','a','h','u','l']. Name the list as 'l'. Print 'l'."
   ]
  },
  {
   "cell_type": "code",
   "execution_count": 19,
   "id": "6fded2f4-64e3-497b-b58f-2ebd1cb38062",
   "metadata": {},
   "outputs": [
    {
     "name": "stdin",
     "output_type": "stream",
     "text": [
      "Enter your name : Ruchika\n"
     ]
    },
    {
     "name": "stdout",
     "output_type": "stream",
     "text": [
      "['R', 'u', 'c', 'h', 'i', 'k', 'a']\n"
     ]
    }
   ],
   "source": [
    "name = input('Enter your name :')\n",
    "l=[i for i in name]\n",
    "print(l)"
   ]
  },
  {
   "cell_type": "code",
   "execution_count": 21,
   "id": "97fe69c1-d229-4f8d-95ef-32db5da20cc1",
   "metadata": {},
   "outputs": [
    {
     "name": "stdout",
     "output_type": "stream",
     "text": [
      "['R', 'u', 'c', 'h', 'i', 'k', 'a']\n"
     ]
    }
   ],
   "source": [
    "# or\n",
    "l2=[]\n",
    "for i in name:\n",
    "    l2.append(i)\n",
    "\n",
    "print(l2)"
   ]
  },
  {
   "cell_type": "code",
   "execution_count": null,
   "id": "4a0043e0-cc04-4d49-a8d8-0ad0264a78f5",
   "metadata": {},
   "outputs": [],
   "source": []
  },
  {
   "cell_type": "markdown",
   "id": "bb09e46b-7285-4ce0-8ed2-fffd80abca8f",
   "metadata": {},
   "source": [
    "5.Take a string input and print all the unique letters of the string.(pass in your string as all lowercase) e.g: string: 'india', output: {'i','n','d','a'}"
   ]
  },
  {
   "cell_type": "code",
   "execution_count": 25,
   "id": "0959be5a-b765-4628-8b42-4b483af74440",
   "metadata": {},
   "outputs": [
    {
     "name": "stdin",
     "output_type": "stream",
     "text": [
      "Enter input: India\n"
     ]
    },
    {
     "name": "stdout",
     "output_type": "stream",
     "text": [
      "{'a', 'd', 'n', 'i'}\n"
     ]
    }
   ],
   "source": [
    "string = input('Enter input:')\n",
    "string = string.lower()\n",
    "new_string = set(string)\n",
    "print(new_string)"
   ]
  },
  {
   "cell_type": "code",
   "execution_count": null,
   "id": "9959c3ce-8820-4899-98f6-8374b28c6d5f",
   "metadata": {},
   "outputs": [],
   "source": []
  },
  {
   "cell_type": "markdown",
   "id": "847e2167-62ed-4b72-9d60-55393265e383",
   "metadata": {},
   "source": [
    "6.Print the sum of numbers from 1 to n where n is the input by the user."
   ]
  },
  {
   "cell_type": "code",
   "execution_count": 27,
   "id": "fe0bd6c3-0e21-4638-a43e-78849da39cd1",
   "metadata": {},
   "outputs": [
    {
     "name": "stdin",
     "output_type": "stream",
     "text": [
      "Enter an integer: 10\n"
     ]
    },
    {
     "name": "stdout",
     "output_type": "stream",
     "text": [
      "55\n"
     ]
    }
   ],
   "source": [
    "n = int(input('Enter an integer:'))\n",
    "sum = 0\n",
    "for i in range(1,n+1):\n",
    "    sum=sum+i\n",
    "\n",
    "print(sum)"
   ]
  },
  {
   "cell_type": "code",
   "execution_count": null,
   "id": "20e3bc1e-27d2-422c-be35-2270c382990f",
   "metadata": {},
   "outputs": [],
   "source": []
  },
  {
   "cell_type": "markdown",
   "id": "14344cc3-380c-469b-8b49-a92deeeb2c60",
   "metadata": {},
   "source": [
    "7.Print all the even numbers between 1 to n where n is the input given by user."
   ]
  },
  {
   "cell_type": "code",
   "execution_count": 29,
   "id": "b81d1b1d-e8b7-4b9d-a7b3-c12a220f2df4",
   "metadata": {},
   "outputs": [
    {
     "name": "stdin",
     "output_type": "stream",
     "text": [
      " 10\n"
     ]
    },
    {
     "name": "stdout",
     "output_type": "stream",
     "text": [
      "2\n",
      "4\n",
      "6\n",
      "8\n",
      "10\n"
     ]
    }
   ],
   "source": [
    "n=int(input())\n",
    "for i in range(1,n+1):\n",
    "    if i%2==0:\n",
    "        print(i)"
   ]
  },
  {
   "cell_type": "code",
   "execution_count": 33,
   "id": "8781b512-c47f-48dd-b68d-0175e86da0ad",
   "metadata": {},
   "outputs": [
    {
     "name": "stdout",
     "output_type": "stream",
     "text": [
      "0\n",
      "2\n",
      "4\n",
      "6\n",
      "8\n",
      "10\n"
     ]
    }
   ],
   "source": [
    "# or\n",
    "for i in range(0,n+1,2):\n",
    "    print(i)"
   ]
  },
  {
   "cell_type": "code",
   "execution_count": null,
   "id": "a2da0bfc-ce8b-43b1-a7af-02f19d424fb3",
   "metadata": {},
   "outputs": [],
   "source": []
  },
  {
   "cell_type": "markdown",
   "id": "9330e907-5a75-4592-b2af-1bffd4f6d8ee",
   "metadata": {},
   "source": [
    "8.Print all the numbers from n to 1 in reverse order. e.g.: let n = 10, output = 10 9 8 7 6 5 4 3 2 1"
   ]
  },
  {
   "cell_type": "code",
   "execution_count": 35,
   "id": "b6c3e189-ae93-42a1-8df8-4db9d1cbe953",
   "metadata": {},
   "outputs": [
    {
     "name": "stdin",
     "output_type": "stream",
     "text": [
      " 10\n"
     ]
    },
    {
     "name": "stdout",
     "output_type": "stream",
     "text": [
      "10\n",
      "9\n",
      "8\n",
      "7\n",
      "6\n",
      "5\n",
      "4\n",
      "3\n",
      "2\n",
      "1\n"
     ]
    }
   ],
   "source": [
    "n=int(input())\n",
    "for i in range(n,0,-1):\n",
    "    print(i)"
   ]
  },
  {
   "cell_type": "code",
   "execution_count": null,
   "id": "0bc1ee05-ef24-4ee1-b3b8-67e63d5ad129",
   "metadata": {},
   "outputs": [],
   "source": []
  },
  {
   "cell_type": "markdown",
   "id": "b4e9bd39-ce97-4125-aa9e-f1dd3aabfa93",
   "metadata": {},
   "source": [
    "9.A factorial of a number is defined as n! = n*(n-1)(n-2)(n-3)*....*1. Write a python code to display factorial of a number n."
   ]
  },
  {
   "cell_type": "code",
   "execution_count": 45,
   "id": "541f60da-2db9-4944-8ad9-603ba232e1de",
   "metadata": {},
   "outputs": [
    {
     "name": "stdin",
     "output_type": "stream",
     "text": [
      " 3\n"
     ]
    },
    {
     "name": "stdout",
     "output_type": "stream",
     "text": [
      "6\n"
     ]
    }
   ],
   "source": [
    "n=int(input())\n",
    "for i in range(n-1,0,-1):\n",
    "    n=n*i\n",
    "\n",
    "print(n)"
   ]
  },
  {
   "cell_type": "code",
   "execution_count": null,
   "id": "03fa306a-c37f-4de9-9eaa-f29fb2e196b9",
   "metadata": {},
   "outputs": [],
   "source": []
  },
  {
   "cell_type": "markdown",
   "id": "3473d83f-3c80-456b-a854-0c2da6aec9a1",
   "metadata": {},
   "source": [
    "10. Print multiplication table of an integer n. \n",
    "- n x 1 = n\n",
    "- n x 2 = 2n\n",
    "- \n",
    "- \n",
    "- so on... till 10."
   ]
  },
  {
   "cell_type": "code",
   "execution_count": 47,
   "id": "c5728819-0363-4f07-916d-f422078a6a19",
   "metadata": {},
   "outputs": [
    {
     "name": "stdin",
     "output_type": "stream",
     "text": [
      " 5\n"
     ]
    },
    {
     "name": "stdout",
     "output_type": "stream",
     "text": [
      "5\n",
      "10\n",
      "15\n",
      "20\n",
      "25\n",
      "30\n",
      "35\n",
      "40\n",
      "45\n",
      "50\n"
     ]
    }
   ],
   "source": [
    "n = int(input())\n",
    "for i in range(1,11):\n",
    "    print(n*i)"
   ]
  },
  {
   "cell_type": "code",
   "execution_count": null,
   "id": "b8681950-1d07-4ad1-82cb-af29e3abbd57",
   "metadata": {},
   "outputs": [],
   "source": []
  }
 ],
 "metadata": {
  "kernelspec": {
   "display_name": "Python 3 (ipykernel)",
   "language": "python",
   "name": "python3"
  },
  "language_info": {
   "codemirror_mode": {
    "name": "ipython",
    "version": 3
   },
   "file_extension": ".py",
   "mimetype": "text/x-python",
   "name": "python",
   "nbconvert_exporter": "python",
   "pygments_lexer": "ipython3",
   "version": "3.12.4"
  }
 },
 "nbformat": 4,
 "nbformat_minor": 5
}
