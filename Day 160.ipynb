{
 "cells": [
  {
   "cell_type": "markdown",
   "id": "5514a613-52a9-4092-b546-355522203e40",
   "metadata": {},
   "source": [
    "#### WAP to check if the given string is a palindrome"
   ]
  },
  {
   "cell_type": "code",
   "execution_count": 2,
   "id": "146f36b8-94bf-4435-ae37-fa785ff64b1d",
   "metadata": {},
   "outputs": [
    {
     "name": "stdin",
     "output_type": "stream",
     "text": [
      "Enter any string 153\n"
     ]
    },
    {
     "name": "stdout",
     "output_type": "stream",
     "text": [
      "351\n",
      "Entered string is not a palindrome\n"
     ]
    }
   ],
   "source": [
    "string=str(input(\"Enter any string\"))\n",
    "reverse=\"\"\n",
    "for i in string:\n",
    "    reverse=i+reverse\n",
    "print(reverse)\n",
    "if string==reverse:\n",
    "    print(\"Entered string is a palindrome\")\n",
    "else:\n",
    "    print(\"Entered string is not a palindrome\")"
   ]
  },
  {
   "cell_type": "code",
   "execution_count": null,
   "id": "cce5615d-ca4f-4c33-8d74-578098adeefc",
   "metadata": {},
   "outputs": [],
   "source": []
  }
 ],
 "metadata": {
  "kernelspec": {
   "display_name": "Python 3 (ipykernel)",
   "language": "python",
   "name": "python3"
  },
  "language_info": {
   "codemirror_mode": {
    "name": "ipython",
    "version": 3
   },
   "file_extension": ".py",
   "mimetype": "text/x-python",
   "name": "python",
   "nbconvert_exporter": "python",
   "pygments_lexer": "ipython3",
   "version": "3.12.4"
  }
 },
 "nbformat": 4,
 "nbformat_minor": 5
}
