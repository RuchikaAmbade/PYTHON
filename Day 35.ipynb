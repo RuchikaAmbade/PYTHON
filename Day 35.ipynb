{
 "cells": [
  {
   "cell_type": "markdown",
   "id": "4f4349ee-376d-4913-92dd-365a7dd8e808",
   "metadata": {},
   "source": [
    "##### 1 WAP to print hollow triangle"
   ]
  },
  {
   "cell_type": "code",
   "execution_count": 37,
   "id": "8df64004-1649-4e6a-bace-331569637721",
   "metadata": {},
   "outputs": [
    {
     "name": "stdin",
     "output_type": "stream",
     "text": [
      "Enter no. of rows 4\n"
     ]
    },
    {
     "name": "stdout",
     "output_type": "stream",
     "text": [
      "      *       \n",
      "    *   *     \n",
      "  *       *   \n",
      "* * * * * * * \n"
     ]
    }
   ],
   "source": [
    "n=int(input('Enter no. of rows'))\n",
    "for row in range(1,n+1):\n",
    "    for col in range(1,2*n):\n",
    "        if row==4 or col+row==5 or col-row==3:\n",
    "            print('*',end=' ')\n",
    "        else:\n",
    "            print(' ',end=' ')\n",
    "    print()"
   ]
  },
  {
   "cell_type": "markdown",
   "id": "80c61c0a-fae5-4c5d-8f77-0b592cc04f74",
   "metadata": {},
   "source": [
    "##### 2 WAP to print stars in hollow diamond shape"
   ]
  },
  {
   "cell_type": "code",
   "execution_count": 55,
   "id": "3413d6bc-ca15-48ea-8995-b94c8834d2da",
   "metadata": {},
   "outputs": [
    {
     "name": "stdout",
     "output_type": "stream",
     "text": [
      "    *     \n",
      "  *   *   \n",
      "*       * \n",
      "  *   *   \n",
      "    *     \n"
     ]
    }
   ],
   "source": [
    "for row in range(5):\n",
    "    for col in range(5):\n",
    "        if row+col==2 or col-row==2 or row-col==2 or (row==3 and col==3):\n",
    "            print('*',end=' ')\n",
    "        else:\n",
    "            print(' ',end=' ')\n",
    "    print()"
   ]
  },
  {
   "cell_type": "markdown",
   "id": "a6f78091-22a7-4222-ac18-6ec3f7bbe46e",
   "metadata": {},
   "source": [
    "##### 3 WAP to print stars in hollow square shape"
   ]
  },
  {
   "cell_type": "code",
   "execution_count": 72,
   "id": "46d3030d-8c2f-4606-9941-eeadfd558b0d",
   "metadata": {},
   "outputs": [
    {
     "name": "stdout",
     "output_type": "stream",
     "text": [
      "* * * * * \n",
      "*       * \n",
      "*       * \n",
      "*       * \n",
      "* * * * * \n"
     ]
    }
   ],
   "source": [
    "n=5\n",
    "for row in range(n):\n",
    "    for col in range(n):\n",
    "        if (row==0 or row==4) or ((col==0 or col==4) and (row>0 and row<4)):\n",
    "            print('*',end=' ')\n",
    "        else:\n",
    "            print(' ',end=' ')\n",
    "    print()"
   ]
  },
  {
   "cell_type": "markdown",
   "id": "f345b42e-c40b-489d-b112-2343da690d93",
   "metadata": {},
   "source": [
    "##### 4 WAP to print stars in hollow increasing triangle"
   ]
  },
  {
   "cell_type": "code",
   "execution_count": 78,
   "id": "b3da1652-6c53-430e-a91c-5a21647e346a",
   "metadata": {},
   "outputs": [
    {
     "name": "stdout",
     "output_type": "stream",
     "text": [
      "*         \n",
      "* *       \n",
      "*   *     \n",
      "*     *   \n",
      "* * * * * \n"
     ]
    }
   ],
   "source": [
    "n=5\n",
    "for row in range(n):\n",
    "    for col in range(5):\n",
    "        if col==0 or (row==4 and col!=0) or row==col:\n",
    "            print('*',end=' ')\n",
    "        else:\n",
    "            print(' ',end=' ')\n",
    "    print()"
   ]
  },
  {
   "cell_type": "markdown",
   "id": "e8f7d19d-db24-4c41-a3d7-0e7f9ab9403d",
   "metadata": {},
   "source": [
    "##### 5 WAP to print stars in hollow decreasing triangle"
   ]
  },
  {
   "cell_type": "code",
   "execution_count": 84,
   "id": "23d8f50d-737e-4f98-9477-ea0f3eab8fb1",
   "metadata": {},
   "outputs": [
    {
     "name": "stdout",
     "output_type": "stream",
     "text": [
      "* * * * * \n",
      "*     *   \n",
      "*   *     \n",
      "* *       \n",
      "*         \n"
     ]
    }
   ],
   "source": [
    "n=5\n",
    "i=1\n",
    "j=3\n",
    "for row in range(n):\n",
    "    for col in range(n):\n",
    "        if col==0 or (row==0 and col!=0) :\n",
    "            print('*',end=' ')\n",
    "        elif row==i and col==j:\n",
    "            print('*',end=' ')\n",
    "            i=i+1\n",
    "            j=j-1\n",
    "        else:\n",
    "            print(' ',end=' ')\n",
    "    print()"
   ]
  },
  {
   "cell_type": "markdown",
   "id": "dd125646-5e93-4748-8824-5a118a9832e6",
   "metadata": {},
   "source": [
    "##### 6 WAP that prints the calendar for a given month and year"
   ]
  },
  {
   "cell_type": "code",
   "execution_count": 88,
   "id": "94d8b8b4-7f6a-4ca1-9313-73c549db427c",
   "metadata": {},
   "outputs": [
    {
     "name": "stdin",
     "output_type": "stream",
     "text": [
      "Enter year:  2002\n",
      "Enter month:  3\n"
     ]
    },
    {
     "name": "stdout",
     "output_type": "stream",
     "text": [
      "     March 2002\n",
      "Mo Tu We Th Fr Sa Su\n",
      "             1  2  3\n",
      " 4  5  6  7  8  9 10\n",
      "11 12 13 14 15 16 17\n",
      "18 19 20 21 22 23 24\n",
      "25 26 27 28 29 30 31\n",
      "\n"
     ]
    }
   ],
   "source": [
    "import calendar\n",
    "y = int(input('Enter year: '))\n",
    "m = int(input('Enter month: '))\n",
    "print(calendar.month(y,m))"
   ]
  },
  {
   "cell_type": "markdown",
   "id": "d236f255-8ead-4182-980b-1ba7b247d887",
   "metadata": {},
   "source": [
    "##### 7 WAP to print the following 'here document'"
   ]
  },
  {
   "cell_type": "code",
   "execution_count": 92,
   "id": "f3b01e5e-7108-4f37-8f5f-d2a3b3853281",
   "metadata": {},
   "outputs": [
    {
     "name": "stdout",
     "output_type": "stream",
     "text": [
      "\n",
      "a string that you \"don't\" have to escape\n",
      "This\n",
      "is a ......... multi-line\n",
      "heredoc string .........> example\n",
      "\n"
     ]
    }
   ],
   "source": [
    "print(\"\"\"\n",
    "a string that you \"don't\" have to escape\n",
    "This\n",
    "is a ......... multi-line\n",
    "heredoc string .........> example\n",
    "\"\"\")"
   ]
  },
  {
   "cell_type": "markdown",
   "id": "57023fb5-e562-4ebd-9b9d-87a843d1bca6",
   "metadata": {},
   "source": [
    "##### 8 WAP to get the volume of a sphere"
   ]
  },
  {
   "cell_type": "code",
   "execution_count": 98,
   "id": "a9cb80b8-61eb-4e87-aad5-e168d2286dab",
   "metadata": {},
   "outputs": [
    {
     "name": "stdout",
     "output_type": "stream",
     "text": [
      "Volume of sphere:  904.7786842338603\n"
     ]
    }
   ],
   "source": [
    "from math import pi\n",
    "r=6\n",
    "v=(4/3)*pi*(r**3)\n",
    "print('Volume of sphere: ',v)"
   ]
  },
  {
   "cell_type": "markdown",
   "id": "26f8b4d7-017a-4087-b87b-bd424db7d4a5",
   "metadata": {},
   "source": [
    "##### 9 WAP to calculate the difference between a given no. and 17, if the no. is greater than 17,return twice the absolute difference"
   ]
  },
  {
   "cell_type": "code",
   "execution_count": 114,
   "id": "ec649041-f13f-4786-93e5-c717beb6d61a",
   "metadata": {},
   "outputs": [
    {
     "name": "stdin",
     "output_type": "stream",
     "text": [
      "Enter any number 14\n"
     ]
    },
    {
     "name": "stdout",
     "output_type": "stream",
     "text": [
      "3\n"
     ]
    }
   ],
   "source": [
    "n=int(input('Enter any number'))\n",
    "if n<=17:\n",
    "    print(17-n)\n",
    "else:\n",
    "    print(2*(n-17))\n",
    "    "
   ]
  },
  {
   "cell_type": "markdown",
   "id": "830467f9-08d3-4891-9523-848a843bfa74",
   "metadata": {},
   "source": [
    "##### 10 WAP to calculate the sum of three given no. if the values are equal, return three times of their sum"
   ]
  },
  {
   "cell_type": "code",
   "execution_count": 118,
   "id": "5b682ee0-9a12-42c8-a042-3caf255c945e",
   "metadata": {},
   "outputs": [
    {
     "name": "stdin",
     "output_type": "stream",
     "text": [
      "Enter any number a: 1\n",
      "Enter any number b: 2\n",
      "Enter any number c: 3\n"
     ]
    },
    {
     "name": "stdout",
     "output_type": "stream",
     "text": [
      "6\n"
     ]
    }
   ],
   "source": [
    "a=int(input('Enter any number a:'))\n",
    "b=int(input('Enter any number b:'))\n",
    "c=int(input('Enter any number c:'))\n",
    "if a==b and b==c:\n",
    "    print((a+b+c)*3)\n",
    "else:\n",
    "    print(a+b+c)"
   ]
  },
  {
   "cell_type": "code",
   "execution_count": null,
   "id": "324ef75c-5e38-489a-b67c-96e33df2f7c1",
   "metadata": {},
   "outputs": [],
   "source": []
  }
 ],
 "metadata": {
  "kernelspec": {
   "display_name": "Python 3 (ipykernel)",
   "language": "python",
   "name": "python3"
  },
  "language_info": {
   "codemirror_mode": {
    "name": "ipython",
    "version": 3
   },
   "file_extension": ".py",
   "mimetype": "text/x-python",
   "name": "python",
   "nbconvert_exporter": "python",
   "pygments_lexer": "ipython3",
   "version": "3.12.4"
  }
 },
 "nbformat": 4,
 "nbformat_minor": 5
}
