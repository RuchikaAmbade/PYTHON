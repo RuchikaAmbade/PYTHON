{
 "cells": [
  {
   "cell_type": "markdown",
   "id": "d5941cd8-6093-47ee-85ed-544a5acc7faf",
   "metadata": {},
   "source": [
    "Write a Python program which accepts the radius of a circle from the user and compute the area"
   ]
  },
  {
   "cell_type": "code",
   "execution_count": 2,
   "id": "6c0d69b0-a5d9-49fb-86f6-783e348588ab",
   "metadata": {},
   "outputs": [
    {
     "name": "stdin",
     "output_type": "stream",
     "text": [
      "Enter the radius of a circle: 3.12\n"
     ]
    },
    {
     "name": "stdout",
     "output_type": "stream",
     "text": [
      "Area of a circle is 30.585484800000003\n"
     ]
    }
   ],
   "source": [
    "radius = float(input('Enter the radius of a circle:'))\n",
    "pi = 3.142\n",
    "area= pi*(radius**2)\n",
    "print('Area of a circle is',area)"
   ]
  },
  {
   "cell_type": "code",
   "execution_count": 4,
   "id": "918bd8d1-13af-43a9-98a4-9bd3149a3da7",
   "metadata": {},
   "outputs": [
    {
     "name": "stdin",
     "output_type": "stream",
     "text": [
      "Enter the radius of a circle: 3.12\n"
     ]
    },
    {
     "data": {
      "text/plain": [
       "30.581519527104483"
      ]
     },
     "execution_count": 4,
     "metadata": {},
     "output_type": "execute_result"
    }
   ],
   "source": [
    "import numpy as np\n",
    "def areaofcircle():\n",
    "    radius = float(input('Enter the radius of a circle:'))\n",
    "    area = np.pi*radius*radius\n",
    "    return area\n",
    "\n",
    "areaofcircle()"
   ]
  },
  {
   "cell_type": "code",
   "execution_count": null,
   "id": "eb67f85f-4054-4fbe-8bc0-b597090f0e0e",
   "metadata": {},
   "outputs": [],
   "source": []
  }
 ],
 "metadata": {
  "kernelspec": {
   "display_name": "Python 3 (ipykernel)",
   "language": "python",
   "name": "python3"
  },
  "language_info": {
   "codemirror_mode": {
    "name": "ipython",
    "version": 3
   },
   "file_extension": ".py",
   "mimetype": "text/x-python",
   "name": "python",
   "nbconvert_exporter": "python",
   "pygments_lexer": "ipython3",
   "version": "3.12.4"
  }
 },
 "nbformat": 4,
 "nbformat_minor": 5
}
