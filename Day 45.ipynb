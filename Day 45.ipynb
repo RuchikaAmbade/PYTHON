{
 "cells": [
  {
   "cell_type": "markdown",
   "id": "22780336-1c43-4e66-baf9-190597ba90fd",
   "metadata": {},
   "source": [
    "##### 1 WAP to prove that two string variables of the same value point to the same memory location."
   ]
  },
  {
   "cell_type": "code",
   "execution_count": 5,
   "id": "8bb2c434-871c-4a33-b2f9-4d158d9e0319",
   "metadata": {},
   "outputs": [
    {
     "name": "stdout",
     "output_type": "stream",
     "text": [
      "Memory location of str1 = 0x7ffa3ecf4050\n",
      "Memory location of str2 = 0x206712bbcc0\n"
     ]
    }
   ],
   "source": [
    "str1='Python'\n",
    "str2='python'\n",
    "print('Memory location of str1 =',hex(id(str1)))\n",
    "print('Memory location of str2 =',hex(id(str2)))"
   ]
  },
  {
   "cell_type": "markdown",
   "id": "775fd81c-994a-40f7-b510-7a6c0e4a132c",
   "metadata": {},
   "source": [
    "##### 2 WAP to create a bytearray from a list"
   ]
  },
  {
   "cell_type": "code",
   "execution_count": 11,
   "id": "2529344f-4184-4b1a-9656-ab2b3f102ba3",
   "metadata": {},
   "outputs": [
    {
     "name": "stdout",
     "output_type": "stream",
     "text": [
      "10\n",
      "20\n",
      "56\n",
      "35\n",
      "17\n",
      "99\n",
      "\n"
     ]
    }
   ],
   "source": [
    "nums=[10,20,56,35,17,99]\n",
    "values = bytearray(nums)\n",
    "\n",
    "for x in values:\n",
    "    print(x)\n",
    "\n",
    "print()"
   ]
  },
  {
   "cell_type": "markdown",
   "id": "c4e11caf-d70f-43ae-9b27-79d3582097f6",
   "metadata": {},
   "source": [
    "##### 3 WAP to round a floating-point number to a specified number of decimal places."
   ]
  },
  {
   "cell_type": "code",
   "execution_count": 5,
   "id": "c733c2a0-4efb-4d0a-99f5-f4b5077fd23b",
   "metadata": {},
   "outputs": [
    {
     "name": "stdout",
     "output_type": "stream",
     "text": [
      "The total order amount comes to 212.37478\n",
      "The total order amount comes to 212.37\n",
      "\n"
     ]
    }
   ],
   "source": [
    "order_amt = 212.37478\n",
    "print('The total order amount comes to',order_amt)\n",
    "print('The total order amount comes to',round(order_amt,2))\n",
    "print()"
   ]
  },
  {
   "cell_type": "markdown",
   "id": "efded240-7a2b-4b95-b623-27e724b4ea8f",
   "metadata": {},
   "source": [
    "##### 4 WAP to format a specified string and limit the length of a string"
   ]
  },
  {
   "cell_type": "code",
   "execution_count": 13,
   "id": "7434e253-2cdd-40a5-b1e0-22fe03445da0",
   "metadata": {},
   "outputs": [
    {
     "name": "stdout",
     "output_type": "stream",
     "text": [
      "Original string: 1234567890\n",
      "123456\n",
      "123456789\n",
      "1234567890\n"
     ]
    }
   ],
   "source": [
    "str_num = '1234567890'\n",
    "print('Original string:',str_num)\n",
    "print('%.6s' % str_num)\n",
    "print('%.9s' % str_num)\n",
    "print('%.10s' % str_num)"
   ]
  },
  {
   "cell_type": "markdown",
   "id": "43643062-8bf9-4113-82e2-21632692bd04",
   "metadata": {},
   "source": [
    "##### 5 WAP to determine if a variable is defined or not."
   ]
  },
  {
   "cell_type": "code",
   "execution_count": 21,
   "id": "192082fc-0e71-4816-9077-e0949e0ffe55",
   "metadata": {},
   "outputs": [
    {
     "name": "stdout",
     "output_type": "stream",
     "text": [
      "Variable is defined.\n",
      "Variable is not defined.\n"
     ]
    }
   ],
   "source": [
    "try:\n",
    "    x=1\n",
    "except NmaeError:\n",
    "    print('Variable is not defined.')\n",
    "else:\n",
    "    print('Variable is defined.')\n",
    "\n",
    "# for undefined variable\n",
    "\n",
    "try:\n",
    "    y\n",
    "except NameError:\n",
    "    print('Variable is not defined.')\n",
    "else:\n",
    "    print('Variable is defined.')"
   ]
  },
  {
   "cell_type": "code",
   "execution_count": null,
   "id": "da517e86-e3d4-4ba3-a8fe-c471b4fe8185",
   "metadata": {},
   "outputs": [],
   "source": []
  }
 ],
 "metadata": {
  "kernelspec": {
   "display_name": "Python 3 (ipykernel)",
   "language": "python",
   "name": "python3"
  },
  "language_info": {
   "codemirror_mode": {
    "name": "ipython",
    "version": 3
   },
   "file_extension": ".py",
   "mimetype": "text/x-python",
   "name": "python",
   "nbconvert_exporter": "python",
   "pygments_lexer": "ipython3",
   "version": "3.12.4"
  }
 },
 "nbformat": 4,
 "nbformat_minor": 5
}
