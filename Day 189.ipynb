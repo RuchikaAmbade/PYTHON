{
 "cells": [
  {
   "cell_type": "markdown",
   "id": "c0c225b9-2bbf-484c-b13b-343a1eea1d70",
   "metadata": {},
   "source": [
    "Python program to compare two strings and find out which has more characters"
   ]
  },
  {
   "cell_type": "code",
   "execution_count": 6,
   "id": "1161ee9c-283c-47e3-8b7e-d1a63ff84140",
   "metadata": {},
   "outputs": [
    {
     "name": "stdin",
     "output_type": "stream",
     "text": [
      "Enter first string Ruchika\n",
      "Enter second string Ambade\n"
     ]
    },
    {
     "name": "stdout",
     "output_type": "stream",
     "text": [
      "First string has more characters than first.\n"
     ]
    }
   ],
   "source": [
    "str1 = input('Enter first string')\n",
    "str2 = input('Enter second string')\n",
    "if str1==str2:\n",
    "    print('Both strings have equal character.')\n",
    "elif str1>str2:\n",
    "    print('First string has more characters than first.')\n",
    "else:\n",
    "    print('Second string has more characters than second.')"
   ]
  },
  {
   "cell_type": "code",
   "execution_count": null,
   "id": "80434fb4-64ce-48b1-87be-626d597fc0d3",
   "metadata": {},
   "outputs": [],
   "source": []
  }
 ],
 "metadata": {
  "kernelspec": {
   "display_name": "Python 3 (ipykernel)",
   "language": "python",
   "name": "python3"
  },
  "language_info": {
   "codemirror_mode": {
    "name": "ipython",
    "version": 3
   },
   "file_extension": ".py",
   "mimetype": "text/x-python",
   "name": "python",
   "nbconvert_exporter": "python",
   "pygments_lexer": "ipython3",
   "version": "3.12.4"
  }
 },
 "nbformat": 4,
 "nbformat_minor": 5
}
