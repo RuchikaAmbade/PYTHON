{
 "cells": [
  {
   "cell_type": "markdown",
   "id": "1b938794-d193-40b8-bee9-28f7bc00f391",
   "metadata": {},
   "source": [
    "##### 1 WAP to get the ASCII value of a character"
   ]
  },
  {
   "cell_type": "code",
   "execution_count": 3,
   "id": "756221fa-dbb8-4d9e-b48b-b685b1834abd",
   "metadata": {},
   "outputs": [
    {
     "name": "stdout",
     "output_type": "stream",
     "text": [
      "65\n",
      "97\n",
      "49\n",
      "64\n",
      "\n"
     ]
    }
   ],
   "source": [
    "print(ord('A'))\n",
    "print(ord('a'))\n",
    "print(ord('1'))\n",
    "print(ord('@'))\n",
    "print()"
   ]
  },
  {
   "cell_type": "markdown",
   "id": "288b79ef-d77c-4a8a-8af1-066492b1273e",
   "metadata": {},
   "source": [
    "##### 2 Given variables x=30 and y=20 write a Python program to print '30+20=50'"
   ]
  },
  {
   "cell_type": "code",
   "execution_count": 9,
   "id": "dde6c766-5a57-47b8-983b-af653275218f",
   "metadata": {},
   "outputs": [
    {
     "name": "stdout",
     "output_type": "stream",
     "text": [
      "\n",
      "30+20=50\n"
     ]
    }
   ],
   "source": [
    "x=30\n",
    "y=20\n",
    "print('\\n%d+%d=%d'%(x,y,x+y))"
   ]
  },
  {
   "cell_type": "markdown",
   "id": "fd2f9b20-280e-48d9-96d9-6dc6057136ac",
   "metadata": {},
   "source": [
    "##### 3 WAP to perform an action if a condition is true.\n",
    "##### Given a variable name,if the value is 1, display the string 'First day of a Month!' and do nothing if the value is not equal."
   ]
  },
  {
   "cell_type": "code",
   "execution_count": 21,
   "id": "a3c1f4e0-9c06-4bb9-9669-d3665c0ad4eb",
   "metadata": {},
   "outputs": [
    {
     "name": "stdin",
     "output_type": "stream",
     "text": [
      "Enter input 1\n"
     ]
    },
    {
     "name": "stdout",
     "output_type": "stream",
     "text": [
      "\n",
      "First day of a Month!\n",
      "\n"
     ]
    }
   ],
   "source": [
    "n=int(input('Enter input'))\n",
    "if n==1:\n",
    "    print('\\nFirst day of a Month!')\n",
    "    print()"
   ]
  },
  {
   "cell_type": "markdown",
   "id": "69746093-db21-4900-897e-d9f1c0d22e45",
   "metadata": {},
   "source": [
    "##### 4 WAP to swap two variables"
   ]
  },
  {
   "cell_type": "code",
   "execution_count": 27,
   "id": "42857075-5126-4e68-a472-4d65bd19447b",
   "metadata": {},
   "outputs": [
    {
     "name": "stdout",
     "output_type": "stream",
     "text": [
      "\n",
      "Before swap a=30 nd b=20\n",
      "\n",
      "After After swaping a=20 and b=30\n"
     ]
    }
   ],
   "source": [
    "a=30\n",
    "b=20\n",
    "print('\\nBefore swap a=%d nd b=%d'%(a,b))\n",
    "a,b=b,a\n",
    "print('\\nAfter After swaping a=%d and b=%d'%(a,b))"
   ]
  },
  {
   "cell_type": "markdown",
   "id": "0c371b1c-4ff9-46b3-8a2f-0bab81c14e00",
   "metadata": {},
   "source": [
    "##### 5 WAP to get the identity,Type and Value of an object"
   ]
  },
  {
   "cell_type": "code",
   "execution_count": 31,
   "id": "24d62b6b-f1da-4355-9578-53cca14593f9",
   "metadata": {},
   "outputs": [
    {
     "name": "stdout",
     "output_type": "stream",
     "text": [
      "\n",
      "Identity: 34\n",
      "\n",
      "Type: <class 'int'>\n",
      "\n",
      "Value 140713243524568\n"
     ]
    }
   ],
   "source": [
    "x=34\n",
    "print('\\nIdentity:',x)\n",
    "print('\\nType:',type(x))\n",
    "print('\\nValue',id(x))"
   ]
  },
  {
   "cell_type": "code",
   "execution_count": null,
   "id": "76241d67-faea-40ab-a8df-20765513c9fa",
   "metadata": {},
   "outputs": [],
   "source": []
  }
 ],
 "metadata": {
  "kernelspec": {
   "display_name": "Python 3 (ipykernel)",
   "language": "python",
   "name": "python3"
  },
  "language_info": {
   "codemirror_mode": {
    "name": "ipython",
    "version": 3
   },
   "file_extension": ".py",
   "mimetype": "text/x-python",
   "name": "python",
   "nbconvert_exporter": "python",
   "pygments_lexer": "ipython3",
   "version": "3.12.4"
  }
 },
 "nbformat": 4,
 "nbformat_minor": 5
}
