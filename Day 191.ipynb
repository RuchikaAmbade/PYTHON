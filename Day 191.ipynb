{
 "cells": [
  {
   "cell_type": "markdown",
   "id": "5ab5c65f-7efb-4dcf-bcb1-11e72485ac02",
   "metadata": {},
   "source": [
    "Python program to call the last element of the list by using the len() function."
   ]
  },
  {
   "cell_type": "code",
   "execution_count": 4,
   "id": "87c33efc-ffb4-4e2a-8b2e-ab81ad60d532",
   "metadata": {},
   "outputs": [
    {
     "data": {
      "text/plain": [
       "'jam'"
      ]
     },
     "execution_count": 4,
     "metadata": {},
     "output_type": "execute_result"
    }
   ],
   "source": [
    "gift_list=['socks', '4K drone', 'wine', 'jam']\n",
    "index_no = len(gift_list)-1\n",
    "ans = gift_list[index_no]\n",
    "ans"
   ]
  },
  {
   "cell_type": "markdown",
   "id": "cefa9ec9-b645-4220-b4af-8e0044714d7f",
   "metadata": {},
   "source": [
    "Python program to return the count of a given substring from a string"
   ]
  },
  {
   "cell_type": "code",
   "execution_count": 7,
   "id": "b6862f63-753e-41f5-9b74-415502d6b78a",
   "metadata": {},
   "outputs": [
    {
     "data": {
      "text/plain": [
       "2"
      ]
     },
     "execution_count": 7,
     "metadata": {},
     "output_type": "execute_result"
    }
   ],
   "source": [
    "str_1 = \"Emma is good developer. Emma is a writer\"\n",
    "substring = str_1.count('Emma')\n",
    "substring"
   ]
  },
  {
   "cell_type": "code",
   "execution_count": 9,
   "id": "2e5a0867-cb8d-4e51-9852-abdc54b4bad6",
   "metadata": {},
   "outputs": [
    {
     "name": "stdout",
     "output_type": "stream",
     "text": [
      "ntivPYAE\n"
     ]
    }
   ],
   "source": [
    "str1 = \"PYnAtivE\"\n",
    "lower_case = []\n",
    "upper_case = []\n",
    "for i in str1:\n",
    "    if i.islower():\n",
    "        lower_case.append(i)\n",
    "    else:\n",
    "        upper_case.append(i)\n",
    "\n",
    "sorted_str = ''.join(lower_case+upper_case)\n",
    "print(sorted_str)"
   ]
  },
  {
   "cell_type": "code",
   "execution_count": null,
   "id": "fcfdccb9-d745-44a3-8d9a-7b402a3b02f6",
   "metadata": {},
   "outputs": [],
   "source": []
  }
 ],
 "metadata": {
  "kernelspec": {
   "display_name": "Python 3 (ipykernel)",
   "language": "python",
   "name": "python3"
  },
  "language_info": {
   "codemirror_mode": {
    "name": "ipython",
    "version": 3
   },
   "file_extension": ".py",
   "mimetype": "text/x-python",
   "name": "python",
   "nbconvert_exporter": "python",
   "pygments_lexer": "ipython3",
   "version": "3.12.4"
  }
 },
 "nbformat": 4,
 "nbformat_minor": 5
}
