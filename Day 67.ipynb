{
 "cells": [
  {
   "cell_type": "markdown",
   "id": "c4110a83-9128-46cc-9ef4-2b5fa72cb659",
   "metadata": {},
   "source": [
    "##### 1 Accept the three sides of a triangle and chcek whether it is an equilateral, isosceles"
   ]
  },
  {
   "cell_type": "code",
   "execution_count": 10,
   "id": "0f47a2ef-9d65-4ebd-9131-659f0df28b58",
   "metadata": {},
   "outputs": [
    {
     "name": "stdin",
     "output_type": "stream",
     "text": [
      " 7\n",
      " 6\n",
      " 4\n"
     ]
    },
    {
     "name": "stdout",
     "output_type": "stream",
     "text": [
      "Scalene triangle\n"
     ]
    }
   ],
   "source": [
    "s1 = int(input())\n",
    "s2 = int(input())\n",
    "s3 = int(input())\n",
    "if s1==s2 and s2==s3:\n",
    "    print(\"Equilateral triangle\")\n",
    "elif (s1==s2 and s2!=s3) or (s2==s3 and s3!=s1) or (s3==s1 and s1!=s2):\n",
    "    print(\"Isoscelesc triangle\")\n",
    "elif s1!=s2 and s2!=s3:\n",
    "    print(\"Scalene triangle\")"
   ]
  },
  {
   "cell_type": "markdown",
   "id": "11836ced-988e-429f-ac26-56902db92409",
   "metadata": {},
   "source": [
    "##### 2 triangle is possible or not (triangle is possible only when sum of any two sides is greater than 3rd side)"
   ]
  },
  {
   "cell_type": "code",
   "execution_count": 13,
   "id": "4fcd6899-16f2-4a22-a412-c129e91fee8c",
   "metadata": {},
   "outputs": [
    {
     "name": "stdin",
     "output_type": "stream",
     "text": [
      " 5\n",
      " 3\n",
      " 8\n"
     ]
    },
    {
     "name": "stdout",
     "output_type": "stream",
     "text": [
      "Triangle is possible\n"
     ]
    }
   ],
   "source": [
    "s1 = int(input())\n",
    "s2 = int(input())\n",
    "s3 = int(input())\n",
    "if s1+s2==s3 or s2+s3==s1 or s3+s1==s2:\n",
    "    print(\"Triangle is possible\")\n",
    "else:\n",
    "    print(\"Triangle is not possible\")"
   ]
  },
  {
   "cell_type": "markdown",
   "id": "0a0fdd19-9d86-42ed-ad15-eac8eaa0d298",
   "metadata": {},
   "source": [
    "##### 3 WAP to print a square using *."
   ]
  },
  {
   "cell_type": "code",
   "execution_count": 19,
   "id": "9452acdd-3dc9-4e23-9053-1491ce24282b",
   "metadata": {},
   "outputs": [
    {
     "name": "stdin",
     "output_type": "stream",
     "text": [
      " 5\n"
     ]
    },
    {
     "name": "stdout",
     "output_type": "stream",
     "text": [
      "* * * * * \n",
      "* * * * * \n",
      "* * * * * \n",
      "* * * * * \n",
      "* * * * * \n"
     ]
    }
   ],
   "source": [
    "n=int(input())\n",
    "for i in range(1,n+1):\n",
    "    for j in range(1,n+1):\n",
    "        print(\"*\",end=\" \")\n",
    "    print()"
   ]
  },
  {
   "cell_type": "markdown",
   "id": "213d4fc4-2acd-4251-8136-899e95cd5e11",
   "metadata": {},
   "source": [
    "##### 4 WAP to print a upward triangle."
   ]
  },
  {
   "cell_type": "code",
   "execution_count": 2,
   "id": "aee48525-a02d-4500-94da-f81b62cf6b36",
   "metadata": {},
   "outputs": [
    {
     "name": "stdout",
     "output_type": "stream",
     "text": [
      "* \n",
      "* * \n",
      "* * * \n",
      "* * * * \n",
      "* * * * * \n"
     ]
    }
   ],
   "source": [
    "n=5\n",
    "for i in range(1,n+1):\n",
    "    for j in range(1,i+1):\n",
    "        print(\"*\",end=\" \")\n",
    "    print()"
   ]
  },
  {
   "cell_type": "markdown",
   "id": "fe560570-c507-4956-ac8f-4532da4ed51e",
   "metadata": {},
   "source": [
    "##### 5 WAP to print downward triangle."
   ]
  },
  {
   "cell_type": "code",
   "execution_count": 5,
   "id": "1027ddce-220a-4b85-8d98-41284c57d4a3",
   "metadata": {},
   "outputs": [
    {
     "name": "stdout",
     "output_type": "stream",
     "text": [
      "* * * * * \n",
      "* * * * \n",
      "* * * \n",
      "* * \n",
      "* \n"
     ]
    }
   ],
   "source": [
    "n=5\n",
    "for i in range(1,n+1):\n",
    "    for j in range(i,n+1):\n",
    "        print(\"*\",end=\" \")\n",
    "    print()"
   ]
  },
  {
   "cell_type": "code",
   "execution_count": null,
   "id": "770aace9-8d4a-4cdc-81d6-4ee63ece2dce",
   "metadata": {},
   "outputs": [],
   "source": []
  }
 ],
 "metadata": {
  "kernelspec": {
   "display_name": "Python 3 (ipykernel)",
   "language": "python",
   "name": "python3"
  },
  "language_info": {
   "codemirror_mode": {
    "name": "ipython",
    "version": 3
   },
   "file_extension": ".py",
   "mimetype": "text/x-python",
   "name": "python",
   "nbconvert_exporter": "python",
   "pygments_lexer": "ipython3",
   "version": "3.12.4"
  }
 },
 "nbformat": 4,
 "nbformat_minor": 5
}
