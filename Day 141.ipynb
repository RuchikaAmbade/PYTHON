{
 "cells": [
  {
   "cell_type": "markdown",
   "id": "11a538fc-df02-4f46-8c82-0af11f895378",
   "metadata": {},
   "source": [
    "##### WAP to accept % from the user and display the grade according to the criteria\n",
    "##### marks  >90    - Grade A\n",
    "##### >80 and <=90  - B\n",
    "##### >=60 and <=80 - C\n",
    "##### below 60      - D"
   ]
  },
  {
   "cell_type": "code",
   "execution_count": 3,
   "id": "3c7cc89c-231c-4c69-a558-09771d0b1a57",
   "metadata": {},
   "outputs": [
    {
     "name": "stdin",
     "output_type": "stream",
     "text": [
      "Enter your marks : 81\n"
     ]
    },
    {
     "name": "stdout",
     "output_type": "stream",
     "text": [
      "Grade - B\n"
     ]
    }
   ],
   "source": [
    "marks = int(input('Enter your marks :'))\n",
    "if marks>90:\n",
    "    print('Grade - A')\n",
    "elif marks>80 and marks<=90:\n",
    "    print('Grade - B')\n",
    "elif marks>=60 and marks<=80:\n",
    "    print('Grade - c')\n",
    "else:\n",
    "    print('Grade- D')"
   ]
  },
  {
   "cell_type": "markdown",
   "id": "71b9d2fa-ea48-4447-bcfd-c3b9ef706f00",
   "metadata": {},
   "source": [
    "##### WAP to accept the cost price of a bike and display the road tax to be paid \n",
    "##### according to the following criteria\n",
    "##### cost price >100000   - Tax 15%\n",
    "##### >50000 and <= 100000 - 10%\n",
    "##### <=50000              - 5%"
   ]
  },
  {
   "cell_type": "code",
   "execution_count": 10,
   "id": "a9149034-82bd-4bed-b12c-b94c983aa331",
   "metadata": {},
   "outputs": [
    {
     "name": "stdin",
     "output_type": "stream",
     "text": [
      "Enter cost price of bike : 150000\n"
     ]
    },
    {
     "name": "stdout",
     "output_type": "stream",
     "text": [
      "Road tax to be paid : 22500.0\n"
     ]
    }
   ],
   "source": [
    "price = int(input('Enter cost price of bike :'))\n",
    "if price >100000:\n",
    "    tax = (15/100)*price\n",
    "elif price>50000 and price<=100000:\n",
    "    tax = (10/100)*price\n",
    "elif price<=5000:\n",
    "    tax = (5/100)*price\n",
    "print('Road tax to be paid :',tax)"
   ]
  },
  {
   "cell_type": "code",
   "execution_count": null,
   "id": "7aef1e11-c3be-46af-a55f-32cd681ff562",
   "metadata": {},
   "outputs": [],
   "source": []
  }
 ],
 "metadata": {
  "kernelspec": {
   "display_name": "Python 3 (ipykernel)",
   "language": "python",
   "name": "python3"
  },
  "language_info": {
   "codemirror_mode": {
    "name": "ipython",
    "version": 3
   },
   "file_extension": ".py",
   "mimetype": "text/x-python",
   "name": "python",
   "nbconvert_exporter": "python",
   "pygments_lexer": "ipython3",
   "version": "3.12.4"
  }
 },
 "nbformat": 4,
 "nbformat_minor": 5
}
