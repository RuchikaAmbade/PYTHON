{
 "cells": [
  {
   "cell_type": "markdown",
   "id": "0631462c-408a-40a9-a257-fd13c2586cce",
   "metadata": {},
   "source": [
    "##### 1 Write a python code to take in an integer input and store it in a variable a."
   ]
  },
  {
   "cell_type": "code",
   "execution_count": 2,
   "id": "d55d1023-3681-4bf4-8719-be43d215ae90",
   "metadata": {},
   "outputs": [
    {
     "name": "stdin",
     "output_type": "stream",
     "text": [
      " 24\n"
     ]
    }
   ],
   "source": [
    "a = int(input())"
   ]
  },
  {
   "cell_type": "markdown",
   "id": "41a72e00-655d-4df8-abf4-7b6ffb166479",
   "metadata": {},
   "source": [
    "##### 2 Display a's typecast"
   ]
  },
  {
   "cell_type": "code",
   "execution_count": 5,
   "id": "7a6a077d-404a-4b7d-bff1-87c8db44625d",
   "metadata": {},
   "outputs": [
    {
     "name": "stdout",
     "output_type": "stream",
     "text": [
      "<class 'int'>\n"
     ]
    }
   ],
   "source": [
    "print(type(a))"
   ]
  },
  {
   "cell_type": "markdown",
   "id": "78a81bd7-ad88-41a1-9913-f4058a98c4ca",
   "metadata": {},
   "source": [
    "##### 3 Print 'True' if a is greater than or equal to 5 , 'False' otherwise"
   ]
  },
  {
   "cell_type": "code",
   "execution_count": 8,
   "id": "91655421-67b6-4cc0-96ff-fd1141e897ff",
   "metadata": {},
   "outputs": [
    {
     "name": "stdout",
     "output_type": "stream",
     "text": [
      "True\n"
     ]
    }
   ],
   "source": [
    "if (a>=5):\n",
    "    print('True')\n",
    "else:\n",
    "    print('Fallse')"
   ]
  },
  {
   "cell_type": "code",
   "execution_count": null,
   "id": "1c3d5f97-4ac5-44b8-a23f-84619d7207bb",
   "metadata": {},
   "outputs": [],
   "source": []
  }
 ],
 "metadata": {
  "kernelspec": {
   "display_name": "Python 3 (ipykernel)",
   "language": "python",
   "name": "python3"
  },
  "language_info": {
   "codemirror_mode": {
    "name": "ipython",
    "version": 3
   },
   "file_extension": ".py",
   "mimetype": "text/x-python",
   "name": "python",
   "nbconvert_exporter": "python",
   "pygments_lexer": "ipython3",
   "version": "3.12.4"
  }
 },
 "nbformat": 4,
 "nbformat_minor": 5
}
