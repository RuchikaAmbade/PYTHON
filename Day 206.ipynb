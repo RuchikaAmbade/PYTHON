{
 "cells": [
  {
   "cell_type": "markdown",
   "id": "c02fa41d-1d29-4344-b9ff-82b40fa13324",
   "metadata": {},
   "source": [
    "Find the roots of a quadratic equation defined by a.x^2 + b.x + c = 0\n"
   ]
  },
  {
   "cell_type": "code",
   "execution_count": 10,
   "id": "5df1348c-ba46-44fc-8428-3fd906e0ca59",
   "metadata": {},
   "outputs": [
    {
     "name": "stdout",
     "output_type": "stream",
     "text": [
      "Quadratic equation of the form ax**2 + bx + c = 0\n"
     ]
    },
    {
     "name": "stdin",
     "output_type": "stream",
     "text": [
      "a =  1\n",
      "b =  5\n",
      "c =  6\n"
     ]
    },
    {
     "name": "stdout",
     "output_type": "stream",
     "text": [
      "The roots are -2.0 , -3.0\n"
     ]
    }
   ],
   "source": [
    "print('Quadratic equation of the form ax**2 + bx + c = 0')\n",
    "a = int(input('a = '))\n",
    "b = int(input('b = '))\n",
    "c = int(input('c = '))\n",
    "\n",
    "root1 = (-b+(b**2 - 4*a*c)**0.5)/2*a\n",
    "root2 = (-b-(b**2 - 4*a*c)**0.5)/2*a\n",
    "\n",
    "print('The roots are',root1,',',root2)"
   ]
  },
  {
   "cell_type": "markdown",
   "id": "26051528-08eb-4cdc-aeb6-a9523131d1fa",
   "metadata": {},
   "source": [
    "Find the number of times all the letters in the strings occur."
   ]
  },
  {
   "cell_type": "code",
   "execution_count": null,
   "id": "441ca4f6-9751-4253-aad7-57c3ff3025a1",
   "metadata": {},
   "outputs": [],
   "source": []
  }
 ],
 "metadata": {
  "kernelspec": {
   "display_name": "Python 3 (ipykernel)",
   "language": "python",
   "name": "python3"
  },
  "language_info": {
   "codemirror_mode": {
    "name": "ipython",
    "version": 3
   },
   "file_extension": ".py",
   "mimetype": "text/x-python",
   "name": "python",
   "nbconvert_exporter": "python",
   "pygments_lexer": "ipython3",
   "version": "3.12.4"
  }
 },
 "nbformat": 4,
 "nbformat_minor": 5
}
