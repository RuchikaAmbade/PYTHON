{
 "cells": [
  {
   "cell_type": "markdown",
   "id": "e6255c95-b5be-440a-86f7-7bfac99eced4",
   "metadata": {},
   "source": [
    "##### WAP to print \"Hello\" if a>5 and a<or=10 ortherwise print \"Bye\". Accept input from user"
   ]
  },
  {
   "cell_type": "code",
   "execution_count": 7,
   "id": "4f2830fa-54ed-4e7c-9c17-f0ddf9d68348",
   "metadata": {},
   "outputs": [
    {
     "name": "stdin",
     "output_type": "stream",
     "text": [
      "Enter any number 6\n"
     ]
    },
    {
     "name": "stdout",
     "output_type": "stream",
     "text": [
      "Hello\n"
     ]
    }
   ],
   "source": [
    "a=int(input('Enter any number'))\n",
    "if a>5 and a<=10:\n",
    "    print('Hello')\n",
    "else:\n",
    "    print('Bye')"
   ]
  },
  {
   "cell_type": "markdown",
   "id": "109a7fb1-581c-438b-8ff8-01fd9a4b4dc2",
   "metadata": {},
   "source": [
    "##### WAP to check whether a number is three digit number or not"
   ]
  },
  {
   "cell_type": "code",
   "execution_count": 10,
   "id": "88ae07c9-5256-4120-9efc-56834e6eb7a4",
   "metadata": {},
   "outputs": [
    {
     "name": "stdin",
     "output_type": "stream",
     "text": [
      "Enter any number : 2426\n"
     ]
    },
    {
     "name": "stdout",
     "output_type": "stream",
     "text": [
      "Entered number is not a three digit number.\n"
     ]
    }
   ],
   "source": [
    "n = str(input('Enter any number :'))\n",
    "length = len(n)\n",
    "if length == 3:\n",
    "    print('Entered number is a three digit number.')\n",
    "else:\n",
    "    print('Entered number is not a three digit number.')"
   ]
  },
  {
   "cell_type": "code",
   "execution_count": null,
   "id": "f850fd76-6b05-4a8f-bc4d-46bd0f474f47",
   "metadata": {},
   "outputs": [],
   "source": []
  }
 ],
 "metadata": {
  "kernelspec": {
   "display_name": "Python 3 (ipykernel)",
   "language": "python",
   "name": "python3"
  },
  "language_info": {
   "codemirror_mode": {
    "name": "ipython",
    "version": 3
   },
   "file_extension": ".py",
   "mimetype": "text/x-python",
   "name": "python",
   "nbconvert_exporter": "python",
   "pygments_lexer": "ipython3",
   "version": "3.12.4"
  }
 },
 "nbformat": 4,
 "nbformat_minor": 5
}
