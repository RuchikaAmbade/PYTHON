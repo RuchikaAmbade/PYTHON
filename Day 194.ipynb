{
 "cells": [
  {
   "cell_type": "markdown",
   "id": "019058a1-68e6-44f3-bdb6-fd6c48427411",
   "metadata": {},
   "source": [
    "Write a program (function!) that takes a list and returns a new list that contains all the elements of the first list minus all the duplicates."
   ]
  },
  {
   "cell_type": "code",
   "execution_count": 2,
   "id": "cd0792ad-c2fa-4719-a2d7-519b629e460e",
   "metadata": {},
   "outputs": [
    {
     "data": {
      "text/plain": [
       "[1, 2, 3, 4]"
      ]
     },
     "execution_count": 2,
     "metadata": {},
     "output_type": "execute_result"
    }
   ],
   "source": [
    "def listduplicate(x):\n",
    "    y=[]\n",
    "    for i in x:\n",
    "        if i not in y:\n",
    "            y.append(i)\n",
    "    return y\n",
    "\n",
    "listduplicate([1,1,2,3,4,4])"
   ]
  },
  {
   "cell_type": "code",
   "execution_count": 10,
   "id": "b491f6fa-f7bd-4100-aa1b-302a6ff2f117",
   "metadata": {},
   "outputs": [
    {
     "data": {
      "text/plain": [
       "[1, 2, 3, 4]"
      ]
     },
     "execution_count": 10,
     "metadata": {},
     "output_type": "execute_result"
    }
   ],
   "source": [
    "# or\n",
    "def list1(x):\n",
    "    return list(set(x))\n",
    "\n",
    "list1([1,1,2,3,4,4])"
   ]
  },
  {
   "cell_type": "markdown",
   "id": "a560b05e-8dc8-4460-8d40-ea2c3fd427a6",
   "metadata": {},
   "source": [
    "Print multiplication table of 12 using recursion"
   ]
  },
  {
   "cell_type": "code",
   "execution_count": 17,
   "id": "21b2e9c4-3bb9-491e-9800-686b55a25184",
   "metadata": {},
   "outputs": [
    {
     "name": "stdout",
     "output_type": "stream",
     "text": [
      "20\n",
      "40\n",
      "60\n",
      "80\n",
      "100\n",
      "120\n",
      "140\n",
      "160\n",
      "180\n",
      "200\n"
     ]
    }
   ],
   "source": [
    "def table(n,i):\n",
    "    while i<=10:\n",
    "        print(n*i)\n",
    "        i=i+1\n",
    "\n",
    "table(20,1)"
   ]
  },
  {
   "cell_type": "markdown",
   "id": "2ea612dd-52b3-4252-9144-805e990d76ba",
   "metadata": {},
   "source": [
    "Write a function to calculate area and perimeter of a rectangle."
   ]
  },
  {
   "cell_type": "code",
   "execution_count": 22,
   "id": "ee010543-2af9-46b7-89ac-318435e94b82",
   "metadata": {},
   "outputs": [
    {
     "name": "stdout",
     "output_type": "stream",
     "text": [
      "The area of given rectangle is : 24\n",
      "The perimeter of a given rectangle is : 28\n"
     ]
    }
   ],
   "source": [
    "def rectangle(a,b):\n",
    "    print('The area of given rectangle is :',a*b)\n",
    "    print('The perimeter of a given rectangle is :',2*(a+b))\n",
    "\n",
    "rectangle(12,2)"
   ]
  },
  {
   "cell_type": "markdown",
   "id": "1785e827-3167-4873-96a7-9f6977264c60",
   "metadata": {},
   "source": [
    "Write a function to calculate area and circumference of a circle\n"
   ]
  },
  {
   "cell_type": "code",
   "execution_count": 32,
   "id": "211411d7-647f-4e8e-b4f8-3eba82c872c9",
   "metadata": {},
   "outputs": [
    {
     "name": "stdout",
     "output_type": "stream",
     "text": [
      "Area of a given circle is : 19.634954084936208\n",
      "Circumference of a given circle is : 15.707963267948966\n"
     ]
    }
   ],
   "source": [
    "def circle(r):\n",
    "    import numpy as np\n",
    "    area = np.pi*r*r\n",
    "    circumference = np.pi*2*r\n",
    "    print('Area of a given circle is :',area)\n",
    "    print('Circumference of a given circle is :',circumference)\n",
    "\n",
    "\n",
    "circle(2.5)"
   ]
  },
  {
   "cell_type": "markdown",
   "id": "bdadd889-cc9f-4666-a531-c63e04292d26",
   "metadata": {},
   "source": [
    "Write a function to calculate power of a number raised to other"
   ]
  },
  {
   "cell_type": "code",
   "execution_count": 28,
   "id": "8c16d61d-68af-4b08-90de-f8d81c0f1c30",
   "metadata": {},
   "outputs": [
    {
     "data": {
      "text/plain": [
       "8"
      ]
     },
     "execution_count": 28,
     "metadata": {},
     "output_type": "execute_result"
    }
   ],
   "source": [
    "def power(b,p):\n",
    "    power = b**p\n",
    "    return power\n",
    "\n",
    "power(2,3)"
   ]
  },
  {
   "cell_type": "code",
   "execution_count": null,
   "id": "cbf584f9-223f-4d6d-a757-5f50eef459f3",
   "metadata": {},
   "outputs": [],
   "source": []
  }
 ],
 "metadata": {
  "kernelspec": {
   "display_name": "Python 3 (ipykernel)",
   "language": "python",
   "name": "python3"
  },
  "language_info": {
   "codemirror_mode": {
    "name": "ipython",
    "version": 3
   },
   "file_extension": ".py",
   "mimetype": "text/x-python",
   "name": "python",
   "nbconvert_exporter": "python",
   "pygments_lexer": "ipython3",
   "version": "3.12.4"
  }
 },
 "nbformat": 4,
 "nbformat_minor": 5
}
