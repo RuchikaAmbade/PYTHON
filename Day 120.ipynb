{
 "cells": [
  {
   "cell_type": "markdown",
   "id": "5cd9ac48-bd1f-41b6-ba5e-9773f7d69b2a",
   "metadata": {},
   "source": [
    "##### WAP to print alphabet 'X' using '*'"
   ]
  },
  {
   "cell_type": "code",
   "execution_count": 10,
   "id": "1b525224-3a07-4462-b225-6eb69bbc0f81",
   "metadata": {},
   "outputs": [
    {
     "name": "stdout",
     "output_type": "stream",
     "text": [
      "*       * \n",
      "  *   *   \n",
      "    *     \n",
      "  *   *   \n",
      "*       * \n"
     ]
    }
   ],
   "source": [
    "i=0\n",
    "j=4\n",
    "for row in range(5):\n",
    "    for col in range(5):\n",
    "        if row==i and col==j:\n",
    "            print('*',end=' ')\n",
    "            i+=1\n",
    "            j-=1\n",
    "        elif row==col:\n",
    "            print('*',end=' ')\n",
    "        else:\n",
    "            print(' ',end=' ')\n",
    "    print()"
   ]
  },
  {
   "cell_type": "markdown",
   "id": "3e093994-1b83-47fb-b4ee-d2342f89d021",
   "metadata": {},
   "source": [
    "##### WAP to print alphabet 'Y' using '*'"
   ]
  },
  {
   "cell_type": "code",
   "execution_count": 28,
   "id": "5a421783-dcd3-4f33-beb1-af7d027038a8",
   "metadata": {},
   "outputs": [
    {
     "name": "stdout",
     "output_type": "stream",
     "text": [
      "*       * \n",
      "  *   *   \n",
      "    *     \n",
      "    *     \n",
      "    *     \n"
     ]
    }
   ],
   "source": [
    "i=0\n",
    "j=4\n",
    "for row in range(5):\n",
    "    for col in range(5):\n",
    "        if (col==2 and row>1)  or (row==col and col<2) or ():\n",
    "            print('*',end=' ')\n",
    "        elif row==i and col==j:\n",
    "            print('*',end=' ')\n",
    "            i=i+1\n",
    "            j=j-1\n",
    "        else:\n",
    "            print(' ',end=' ')\n",
    "    print()"
   ]
  },
  {
   "cell_type": "code",
   "execution_count": null,
   "id": "2a533bc4-e428-4cc5-ba4d-58041b841afd",
   "metadata": {},
   "outputs": [],
   "source": []
  }
 ],
 "metadata": {
  "kernelspec": {
   "display_name": "Python 3 (ipykernel)",
   "language": "python",
   "name": "python3"
  },
  "language_info": {
   "codemirror_mode": {
    "name": "ipython",
    "version": 3
   },
   "file_extension": ".py",
   "mimetype": "text/x-python",
   "name": "python",
   "nbconvert_exporter": "python",
   "pygments_lexer": "ipython3",
   "version": "3.12.4"
  }
 },
 "nbformat": 4,
 "nbformat_minor": 5
}
