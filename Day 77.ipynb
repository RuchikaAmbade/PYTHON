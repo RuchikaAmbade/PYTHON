{
 "cells": [
  {
   "cell_type": "markdown",
   "id": "5fdb97b6-78fb-4f67-9e89-9b300d1edf15",
   "metadata": {},
   "source": [
    "##### 1 WAP to remove duplicates from a list."
   ]
  },
  {
   "cell_type": "code",
   "execution_count": 3,
   "id": "371af09b-e2c6-4562-8508-98fb2959d651",
   "metadata": {},
   "outputs": [
    {
     "name": "stdout",
     "output_type": "stream",
     "text": [
      "[2, 1, 5, 4, 6]\n"
     ]
    }
   ],
   "source": [
    "list1=[4,2,5,1,5,4,6]\n",
    "for i in list1:\n",
    "    count1=list1.count(i)\n",
    "    if count1>1:\n",
    "        list1.remove(i)\n",
    "print(list1)"
   ]
  },
  {
   "cell_type": "markdown",
   "id": "6126c3ce-8871-4c8f-8ed3-fb8f0ac2dff1",
   "metadata": {},
   "source": [
    "##### 2 WAP to check if a list is empty or not."
   ]
  },
  {
   "cell_type": "code",
   "execution_count": 8,
   "id": "4672946e-91db-4d40-a0bd-217fb5633146",
   "metadata": {},
   "outputs": [
    {
     "name": "stdout",
     "output_type": "stream",
     "text": [
      "Empty list\n"
     ]
    }
   ],
   "source": [
    "my_list=[]\n",
    "if not my_list:\n",
    "    print(\"Empty list\")\n",
    "else:\n",
    "    print(\"List is not empty.\")"
   ]
  },
  {
   "cell_type": "markdown",
   "id": "74d28866-7b13-4f3f-9a1d-583888436439",
   "metadata": {},
   "source": [
    "##### 3 WAP to clone or copy a list."
   ]
  },
  {
   "cell_type": "code",
   "execution_count": 17,
   "id": "2992110c-1ca9-4e4d-b2aa-e300802581f8",
   "metadata": {},
   "outputs": [
    {
     "data": {
      "text/plain": [
       "['one', 'two', 'three', 'four']"
      ]
     },
     "execution_count": 17,
     "metadata": {},
     "output_type": "execute_result"
    }
   ],
   "source": [
    "list1=['one','two','three','four']\n",
    "list2=[]\n",
    "for i in list1:\n",
    "    list2.append(i)\n",
    "list2"
   ]
  },
  {
   "cell_type": "markdown",
   "id": "743a49e5-d02e-44c1-86b1-d11365336605",
   "metadata": {},
   "source": [
    "##### 4 WAP to find the list of words that are longer than n from a given list of words."
   ]
  },
  {
   "cell_type": "code",
   "execution_count": 22,
   "id": "d233c3d0-db2c-4335-a035-8f3150afa6e4",
   "metadata": {},
   "outputs": [
    {
     "data": {
      "text/plain": [
       "['code', 'poetry', 'logic']"
      ]
     },
     "execution_count": 22,
     "metadata": {},
     "output_type": "execute_result"
    }
   ],
   "source": [
    "my_list=[\"code\",\"is\",\"poetry\",\"in\",\"logic\"]\n",
    "n=3\n",
    "list1=[]\n",
    "for i in my_list:\n",
    "    if len(i)>n:\n",
    "        list1.append(i)\n",
    "list1"
   ]
  },
  {
   "cell_type": "markdown",
   "id": "941de69a-828e-45f1-b702-1ce0ed034795",
   "metadata": {},
   "source": [
    "##### 5 WAP that takes two lists and return true if they have at least one common member."
   ]
  },
  {
   "cell_type": "code",
   "execution_count": 25,
   "id": "dba0777e-581d-45fc-9196-3ef928a7f6dc",
   "metadata": {},
   "outputs": [
    {
     "name": "stdout",
     "output_type": "stream",
     "text": [
      "True\n",
      "True\n",
      "[1, 2, 3, 4, 5, 6] [7, 8, 9, 10]\n"
     ]
    }
   ],
   "source": [
    "list1=[1,2,3,4,5,6]\n",
    "list2=[5,6,7,8,9,10]\n",
    "for i in list1:\n",
    "    for j in list2:\n",
    "        if i==j:\n",
    "            print(True)\n",
    "            list2.remove(j)\n",
    "print(list1,list2)"
   ]
  },
  {
   "cell_type": "code",
   "execution_count": null,
   "id": "9ec546e5-cb18-4e0d-a76b-a70b337c1811",
   "metadata": {},
   "outputs": [],
   "source": []
  }
 ],
 "metadata": {
  "kernelspec": {
   "display_name": "Python 3 (ipykernel)",
   "language": "python",
   "name": "python3"
  },
  "language_info": {
   "codemirror_mode": {
    "name": "ipython",
    "version": 3
   },
   "file_extension": ".py",
   "mimetype": "text/x-python",
   "name": "python",
   "nbconvert_exporter": "python",
   "pygments_lexer": "ipython3",
   "version": "3.12.4"
  }
 },
 "nbformat": 4,
 "nbformat_minor": 5
}
