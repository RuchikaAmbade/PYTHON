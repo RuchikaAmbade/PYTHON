{
 "cells": [
  {
   "cell_type": "markdown",
   "id": "76554790-72b0-4a03-97b6-74be6d85b4cf",
   "metadata": {},
   "source": [
    "##### WAP to find maximum of three numbers"
   ]
  },
  {
   "cell_type": "code",
   "execution_count": 3,
   "id": "c4d20984-e498-49c6-a855-bcb033b8ad99",
   "metadata": {},
   "outputs": [
    {
     "name": "stdout",
     "output_type": "stream",
     "text": [
      "6\n"
     ]
    }
   ],
   "source": [
    "def max_of_two(x,y):\n",
    "    if x > y:\n",
    "        return x\n",
    "    return y\n",
    "\n",
    "def max_of_three(x,y,z):\n",
    "    return max_of_two(x,max_of_two(y,z))\n",
    "\n",
    "print(max_of_three(3,6,-5))"
   ]
  },
  {
   "cell_type": "markdown",
   "id": "ac8c2f0f-99ea-4808-b8aa-6f5de3d3ed55",
   "metadata": {},
   "source": [
    "##### WAP function to sum all the numbers in a list"
   ]
  },
  {
   "cell_type": "code",
   "execution_count": 6,
   "id": "366bbfdc-66a6-433b-88a6-45da8f6967eb",
   "metadata": {},
   "outputs": [
    {
     "name": "stdout",
     "output_type": "stream",
     "text": [
      "20\n"
     ]
    }
   ],
   "source": [
    "def sum(numbers):\n",
    "    total = 0\n",
    "\n",
    "    for x in numbers:\n",
    "        total += x\n",
    "\n",
    "    return total\n",
    "\n",
    "print(sum((8,2,3,0,7)))"
   ]
  },
  {
   "cell_type": "code",
   "execution_count": null,
   "id": "7c858ce1-93da-45f9-a261-cb793ab2ebae",
   "metadata": {},
   "outputs": [],
   "source": []
  }
 ],
 "metadata": {
  "kernelspec": {
   "display_name": "Python 3 (ipykernel)",
   "language": "python",
   "name": "python3"
  },
  "language_info": {
   "codemirror_mode": {
    "name": "ipython",
    "version": 3
   },
   "file_extension": ".py",
   "mimetype": "text/x-python",
   "name": "python",
   "nbconvert_exporter": "python",
   "pygments_lexer": "ipython3",
   "version": "3.12.4"
  }
 },
 "nbformat": 4,
 "nbformat_minor": 5
}
