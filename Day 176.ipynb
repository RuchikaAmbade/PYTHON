{
 "cells": [
  {
   "cell_type": "markdown",
   "id": "b4d69d24-f74c-4a4c-b946-72fc48874df9",
   "metadata": {},
   "source": [
    "Write a Python program to display the current date and time"
   ]
  },
  {
   "cell_type": "code",
   "execution_count": 2,
   "id": "e73050fc-1632-402e-874e-fc2324c5a027",
   "metadata": {},
   "outputs": [
    {
     "name": "stdout",
     "output_type": "stream",
     "text": [
      "Current date and time is : 2025-02-28 18:20:01.917329\n"
     ]
    }
   ],
   "source": [
    "import datetime\n",
    "now=datetime.datetime.now()\n",
    "print('Current date and time is :',now)"
   ]
  },
  {
   "cell_type": "code",
   "execution_count": null,
   "id": "83c491d8-2387-47bf-808e-85dbb9f46a20",
   "metadata": {},
   "outputs": [],
   "source": []
  }
 ],
 "metadata": {
  "kernelspec": {
   "display_name": "Python 3 (ipykernel)",
   "language": "python",
   "name": "python3"
  },
  "language_info": {
   "codemirror_mode": {
    "name": "ipython",
    "version": 3
   },
   "file_extension": ".py",
   "mimetype": "text/x-python",
   "name": "python",
   "nbconvert_exporter": "python",
   "pygments_lexer": "ipython3",
   "version": "3.12.4"
  }
 },
 "nbformat": 4,
 "nbformat_minor": 5
}
