{
 "cells": [
  {
   "cell_type": "markdown",
   "id": "9bc3c969-875e-475a-b579-6130ca11c6df",
   "metadata": {},
   "source": [
    "##### 1 WAP to caculate the sum of all numbers from 1 to a given number."
   ]
  },
  {
   "cell_type": "code",
   "execution_count": 3,
   "id": "402fcf65-eb27-4488-be20-60a7f14e3724",
   "metadata": {},
   "outputs": [
    {
     "name": "stdout",
     "output_type": "stream",
     "text": [
      "55\n"
     ]
    }
   ],
   "source": [
    "sum=0\n",
    "for i in range(1,11):\n",
    "    sum=sum+i\n",
    "print(sum)"
   ]
  },
  {
   "cell_type": "markdown",
   "id": "419f510f-f02d-46ac-b0d5-5460d048e8ed",
   "metadata": {},
   "source": [
    "##### 2 WAP to calculate the sum of all the odd numbers within the given range"
   ]
  },
  {
   "cell_type": "code",
   "execution_count": 10,
   "id": "c6f14e4c-ee32-4962-9b75-692822901698",
   "metadata": {},
   "outputs": [
    {
     "name": "stdout",
     "output_type": "stream",
     "text": [
      "49\n"
     ]
    }
   ],
   "source": [
    "sum=0\n",
    "for i in range(1,15):\n",
    "    if i%2!=0:\n",
    "        sum=sum+i\n",
    "print(sum)"
   ]
  },
  {
   "cell_type": "markdown",
   "id": "3b1392a3-767a-40cc-8413-3325b49766a3",
   "metadata": {},
   "source": [
    "##### 3 WAP to print multiplication table of a given number."
   ]
  },
  {
   "cell_type": "code",
   "execution_count": 21,
   "id": "700110f5-b832-49a6-ad52-96e5b4dceb47",
   "metadata": {},
   "outputs": [
    {
     "name": "stdout",
     "output_type": "stream",
     "text": [
      "15\n",
      "30\n",
      "45\n",
      "60\n",
      "75\n",
      "90\n",
      "105\n",
      "120\n",
      "135\n",
      "150\n"
     ]
    }
   ],
   "source": [
    "num=15\n",
    "for i in range(1,11):\n",
    "   print(num*i)"
   ]
  },
  {
   "cell_type": "markdown",
   "id": "f1ea961d-3191-4ded-b416-138bdd182029",
   "metadata": {},
   "source": [
    "##### 4 WAP to to display numbers from a list using a for loop"
   ]
  },
  {
   "cell_type": "code",
   "execution_count": 27,
   "id": "063c3abc-48af-4f9a-b191-78384e27e8bc",
   "metadata": {},
   "outputs": [
    {
     "name": "stdout",
     "output_type": "stream",
     "text": [
      "14\n",
      "67\n",
      "25\n",
      "81\n",
      "10\n",
      "30\n"
     ]
    }
   ],
   "source": [
    "my_list=[14,67,25,81,10,30]\n",
    "for i in my_list:\n",
    "    print(i)"
   ]
  },
  {
   "cell_type": "markdown",
   "id": "be0b9a41-1c08-485f-a449-7254ccdb2f32",
   "metadata": {},
   "source": [
    "##### 5 WAP to count the total no. of digits in a number"
   ]
  },
  {
   "cell_type": "code",
   "execution_count": 31,
   "id": "cb41c30e-c593-4483-b00e-52aac7275979",
   "metadata": {},
   "outputs": [
    {
     "name": "stdout",
     "output_type": "stream",
     "text": [
      "5\n"
     ]
    }
   ],
   "source": [
    "num=64587\n",
    "n=str(num)\n",
    "count=0\n",
    "for i in n:\n",
    "    count+=1\n",
    "print(count)"
   ]
  },
  {
   "cell_type": "code",
   "execution_count": null,
   "id": "bc470f6e-7774-4c0f-a0cd-3c63af8bb4e9",
   "metadata": {},
   "outputs": [],
   "source": []
  }
 ],
 "metadata": {
  "kernelspec": {
   "display_name": "Python 3 (ipykernel)",
   "language": "python",
   "name": "python3"
  },
  "language_info": {
   "codemirror_mode": {
    "name": "ipython",
    "version": 3
   },
   "file_extension": ".py",
   "mimetype": "text/x-python",
   "name": "python",
   "nbconvert_exporter": "python",
   "pygments_lexer": "ipython3",
   "version": "3.12.4"
  }
 },
 "nbformat": 4,
 "nbformat_minor": 5
}
