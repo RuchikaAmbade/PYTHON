{
 "cells": [
  {
   "cell_type": "markdown",
   "id": "14048eb2-f534-408f-9680-fca581f27279",
   "metadata": {},
   "source": [
    "##### Pattern 1"
   ]
  },
  {
   "cell_type": "code",
   "execution_count": 8,
   "id": "96e8e444-8d3e-499d-86fc-c33a92735be1",
   "metadata": {},
   "outputs": [
    {
     "name": "stdout",
     "output_type": "stream",
     "text": [
      "  1 1 1 1 1 \n",
      "    2 2 2 2 \n",
      "      3 3 3 \n",
      "        4 4 \n",
      "          5 \n"
     ]
    }
   ],
   "source": [
    "n=5\n",
    "for i in range(1,n+1):\n",
    "    for j in range(1,i+1):\n",
    "        print(' ',end=' ')\n",
    "    for j in range(i,n+1):\n",
    "        print(i,end=' ')\n",
    "    print()"
   ]
  },
  {
   "cell_type": "markdown",
   "id": "8085854c-e021-4a6c-ba2e-72434f58d2fa",
   "metadata": {},
   "source": [
    "##### Pattern 2"
   ]
  },
  {
   "cell_type": "code",
   "execution_count": 12,
   "id": "52bf2095-575a-4da6-ae7b-bac52d62b4ba",
   "metadata": {},
   "outputs": [
    {
     "name": "stdout",
     "output_type": "stream",
     "text": [
      "        1 \n",
      "      2 2 2 \n",
      "    3 3 3 3 3 \n",
      "  4 4 4 4 4 4 4 \n",
      "5 5 5 5 5 5 5 5 5 \n"
     ]
    }
   ],
   "source": [
    "n=5\n",
    "p=1\n",
    "for i in range(1,n+1):\n",
    "    for j in range(i,n):\n",
    "        print(' ',end=' ')\n",
    "    for j in range(1,i+1):\n",
    "        print(p,end=' ')\n",
    "    for j in range(2,i+1):\n",
    "        print(p,end=' ')\n",
    "    p=p+1\n",
    "    print()"
   ]
  },
  {
   "cell_type": "markdown",
   "id": "cad61640-f5cd-4f85-b50e-6d06fdedcc59",
   "metadata": {},
   "source": [
    "##### Pattern 3"
   ]
  },
  {
   "cell_type": "code",
   "execution_count": 18,
   "id": "e6cc1f1e-e093-42b9-9a23-1a58d76d966f",
   "metadata": {},
   "outputs": [
    {
     "name": "stdout",
     "output_type": "stream",
     "text": [
      "  1 1 1 1 1 1 1 1 1 \n",
      "    2 2 2 2 2 2 2 \n",
      "      3 3 3 3 3 \n",
      "        4 4 4 \n",
      "          5 \n"
     ]
    }
   ],
   "source": [
    "n=5\n",
    "p=1\n",
    "for i in range(1,n+1):\n",
    "    for j in range(1,i+1):\n",
    "        print(' ',end=' ')\n",
    "    for j in range(i,n+1):\n",
    "        print(p,end=' ')\n",
    "    for j in range(i+1,n+1):\n",
    "        print(p,end=' ')\n",
    "    p=p+1\n",
    "    print()"
   ]
  },
  {
   "cell_type": "markdown",
   "id": "35069e92-ad58-4562-9daf-437abf3ffbee",
   "metadata": {},
   "source": [
    "##### Pattern 4"
   ]
  },
  {
   "cell_type": "code",
   "execution_count": 1,
   "id": "d80a62b0-0219-4812-a6f2-1bcdce5cb853",
   "metadata": {},
   "outputs": [
    {
     "name": "stdout",
     "output_type": "stream",
     "text": [
      "5 \n",
      "4 4 \n",
      "3 3 3 \n",
      "2 2 2 2 \n",
      "1 1 1 1 1 \n"
     ]
    }
   ],
   "source": [
    "n=5\n",
    "for i in range(1,n+1):\n",
    "    for j in range(1,i+1):\n",
    "        print(n,end=' ')\n",
    "    n=n-1\n",
    "    print()"
   ]
  },
  {
   "cell_type": "markdown",
   "id": "93911209-0bff-4409-8a52-20b8c1493296",
   "metadata": {},
   "source": [
    "##### Pattern 5"
   ]
  },
  {
   "cell_type": "code",
   "execution_count": 7,
   "id": "1f21b5cf-d9b7-4b02-97fd-ba3591b14bd7",
   "metadata": {},
   "outputs": [
    {
     "name": "stdout",
     "output_type": "stream",
     "text": [
      "  5 5 5 5 5 \n",
      "    4 4 4 4 \n",
      "      3 3 3 \n",
      "        2 2 \n",
      "          1 \n"
     ]
    }
   ],
   "source": [
    "n=5 \n",
    "p=5\n",
    "for i in range(1,n+1):\n",
    "    for j in range(1,i+1):\n",
    "        print(' ',end=' ')\n",
    "    for j in range(i,n+1):\n",
    "        print(p,end=' ')\n",
    "    p=p-1\n",
    "    print()"
   ]
  },
  {
   "cell_type": "markdown",
   "id": "f07612ce-6ac7-46a6-a6aa-410c2421d69e",
   "metadata": {},
   "source": [
    "##### Pattern 6"
   ]
  },
  {
   "cell_type": "code",
   "execution_count": 23,
   "id": "d5ca8f4d-77f6-4112-8fe1-fd763792490d",
   "metadata": {},
   "outputs": [
    {
     "name": "stdout",
     "output_type": "stream",
     "text": [
      "        5 \n",
      "      4 4 4 \n",
      "    3 3 3 3 3 \n",
      "  2 2 2 2 2 2 2 \n",
      "1 1 1 1 1 1 1 1 1 \n"
     ]
    }
   ],
   "source": [
    "n=5\n",
    "p=n\n",
    "for i in range(1,n+1):\n",
    "    for j in range(i,n):\n",
    "        print(' ',end=' ')\n",
    "    for j in range(1,i+1):\n",
    "        print(p,end=' ')\n",
    "    for j in range(2,i+1):\n",
    "        print(p,end=' ')\n",
    "    p=p-1\n",
    "    print()"
   ]
  },
  {
   "cell_type": "markdown",
   "id": "1ed6889f-9613-4902-b274-126af6066ad1",
   "metadata": {},
   "source": [
    "##### Pattren 7"
   ]
  },
  {
   "cell_type": "code",
   "execution_count": 27,
   "id": "9bcf86a3-d557-4919-a3be-0db9db794e96",
   "metadata": {},
   "outputs": [
    {
     "name": "stdout",
     "output_type": "stream",
     "text": [
      "  5 5 5 5 5 5 5 5 5 \n",
      "    4 4 4 4 4 4 4 \n",
      "      3 3 3 3 3 \n",
      "        2 2 2 \n",
      "          1 \n"
     ]
    }
   ],
   "source": [
    "n=5\n",
    "p=n\n",
    "for i in range(1,n+1):\n",
    "    for j in range(1,i+1):\n",
    "        print(' ',end=' ')\n",
    "    for j in range(i,n+1):\n",
    "        print(p,end=' ')\n",
    "    for j in range(i+1,n+1):\n",
    "        print(p,end=' ')\n",
    "    p=p-1\n",
    "    print()"
   ]
  },
  {
   "cell_type": "markdown",
   "id": "9666a4fc-8081-47dc-8d96-2228525c307e",
   "metadata": {},
   "source": [
    "##### Pattern 8"
   ]
  },
  {
   "cell_type": "code",
   "execution_count": 29,
   "id": "7a07deb5-a2c5-42eb-b5cc-d9fe230da834",
   "metadata": {},
   "outputs": [
    {
     "name": "stdout",
     "output_type": "stream",
     "text": [
      "0 \n",
      "2 2 \n",
      "4 4 4 \n",
      "6 6 6 6 \n",
      "8 8 8 8 8 \n"
     ]
    }
   ],
   "source": [
    "n=5\n",
    "p=0\n",
    "for i in range(1,n+1):\n",
    "    for j in range(1,i+1):\n",
    "        print(p,end=' ')\n",
    "    p=p+2\n",
    "    print()"
   ]
  },
  {
   "cell_type": "markdown",
   "id": "be130a06-0e2f-4c82-9273-f0626c01be6f",
   "metadata": {},
   "source": [
    "##### Pattern 9"
   ]
  },
  {
   "cell_type": "code",
   "execution_count": 35,
   "id": "0e6295f8-a4a0-4576-a8c3-82ff6f45cda1",
   "metadata": {},
   "outputs": [
    {
     "name": "stdout",
     "output_type": "stream",
     "text": [
      "1 \n",
      "2 2 \n",
      "1 1 1 \n",
      "2 2 2 2 \n",
      "1 1 1 1 1 \n"
     ]
    }
   ],
   "source": [
    "n=5\n",
    "for i in range(1,n+1):\n",
    "    for j in range(1,i+1):\n",
    "        if i%2==0:\n",
    "            print(2,end=' ')\n",
    "        else:\n",
    "            print(1,end=' ')\n",
    "    print()"
   ]
  },
  {
   "cell_type": "markdown",
   "id": "56503896-63a3-44e8-908a-c5d46de09e03",
   "metadata": {},
   "source": [
    "##### Pattern 10"
   ]
  },
  {
   "cell_type": "code",
   "execution_count": 39,
   "id": "b6e50112-e93d-4e17-9b70-0d77f9e97679",
   "metadata": {},
   "outputs": [
    {
     "name": "stdout",
     "output_type": "stream",
     "text": [
      "  # # # # # \n",
      "    $ $ $ $ \n",
      "      # # # \n",
      "        $ $ \n",
      "          # \n"
     ]
    }
   ],
   "source": [
    "n=5\n",
    "for i in range(1,n+1):\n",
    "    for j in range(1,i+1):\n",
    "        print(' ',end=' ')\n",
    "    for j in range(i,n+1):\n",
    "        if i%2==0:\n",
    "            print('$',end=' ')\n",
    "        else:\n",
    "            print('#',end=' ')\n",
    "    print()"
   ]
  },
  {
   "cell_type": "code",
   "execution_count": null,
   "id": "9df94373-24cc-4d1b-b124-7d7962f5bded",
   "metadata": {},
   "outputs": [],
   "source": []
  }
 ],
 "metadata": {
  "kernelspec": {
   "display_name": "Python 3 (ipykernel)",
   "language": "python",
   "name": "python3"
  },
  "language_info": {
   "codemirror_mode": {
    "name": "ipython",
    "version": 3
   },
   "file_extension": ".py",
   "mimetype": "text/x-python",
   "name": "python",
   "nbconvert_exporter": "python",
   "pygments_lexer": "ipython3",
   "version": "3.12.4"
  }
 },
 "nbformat": 4,
 "nbformat_minor": 5
}
