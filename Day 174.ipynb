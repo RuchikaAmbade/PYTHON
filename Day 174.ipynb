{
 "cells": [
  {
   "cell_type": "markdown",
   "id": "7812f2e5-cb8a-4291-a989-a490800a0e23",
   "metadata": {},
   "source": [
    "Write a Python program to print the following string in a specific format (see the output). Sample String : \"Twinkle, twinkle, little star, How I wonder what you are! Up above the world so high, Like a diamond in the sky. Twinkle, twinkle, little star, How I wonder what you are\" Output :\n",
    "\n",
    "Twinkle, twinkle, little star,\n",
    "\n",
    "How I wonder what you are! \n",
    "   \n",
    "    Up above the world so high, \n",
    "    \n",
    "    Like a diamond in the sky. \n",
    "Twinkle, twinkle, little star,\n",
    "\n",
    "How I wonder what you are"
   ]
  },
  {
   "cell_type": "code",
   "execution_count": 2,
   "id": "c5266fce-0a7d-47ac-b1fd-3663210cf5d0",
   "metadata": {},
   "outputs": [
    {
     "name": "stdout",
     "output_type": "stream",
     "text": [
      "Twinkle, twinkle, little star,\n",
      "\tHow I wonder what you are! \n",
      "\t\tUp above the world so high, \n",
      "\t\tLike a diamond in the sky. \n",
      "Twinkle, twinkle, little star, \n",
      "\tHow I wonder what you are\n"
     ]
    }
   ],
   "source": [
    "print(\"Twinkle, twinkle, little star,\\n\\tHow I wonder what you are! \\n\\t\\tUp above the world so high, \\n\\t\\tLike a diamond in the sky. \\nTwinkle, twinkle, little star, \\n\\tHow I wonder what you are\")"
   ]
  },
  {
   "cell_type": "code",
   "execution_count": null,
   "id": "e10b2e38-a83d-41f0-8f2b-d37b04505da5",
   "metadata": {},
   "outputs": [],
   "source": []
  }
 ],
 "metadata": {
  "kernelspec": {
   "display_name": "Python 3 (ipykernel)",
   "language": "python",
   "name": "python3"
  },
  "language_info": {
   "codemirror_mode": {
    "name": "ipython",
    "version": 3
   },
   "file_extension": ".py",
   "mimetype": "text/x-python",
   "name": "python",
   "nbconvert_exporter": "python",
   "pygments_lexer": "ipython3",
   "version": "3.12.4"
  }
 },
 "nbformat": 4,
 "nbformat_minor": 5
}
