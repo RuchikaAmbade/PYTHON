{
 "cells": [
  {
   "cell_type": "markdown",
   "id": "4a8a75a5-0fce-4b74-ae24-01347079a9f8",
   "metadata": {},
   "source": [
    "##### 1 WAP to print all even numbers from a given list of numbers in the same order and stop printing any after 237 in the sequence."
   ]
  },
  {
   "cell_type": "code",
   "execution_count": 13,
   "id": "69792a7d-296a-4319-b076-c1a432c1e9bb",
   "metadata": {},
   "outputs": [
    {
     "name": "stdout",
     "output_type": "stream",
     "text": [
      "386\n",
      "248\n",
      "642\n",
      "237\n"
     ]
    }
   ],
   "source": [
    "numbers=[386,245,631,248,359,157,642,203,201,237,169,487,206,594,310,658,974]\n",
    "for i in numbers:\n",
    "    if i==237:\n",
    "        print(i)\n",
    "        break\n",
    "    elif i%2==0:\n",
    "        print(i)"
   ]
  },
  {
   "cell_type": "markdown",
   "id": "342a15c6-0975-4a6f-a523-5b4ae3a1a372",
   "metadata": {},
   "source": [
    "##### 2 WAP thet print out all colors from color list1 that are not present in list2"
   ]
  },
  {
   "cell_type": "code",
   "execution_count": 23,
   "id": "34e71394-0b8e-4427-9d8f-216efe159ec9",
   "metadata": {},
   "outputs": [
    {
     "data": {
      "text/plain": [
       "{'Black', 'White'}"
      ]
     },
     "execution_count": 23,
     "metadata": {},
     "output_type": "execute_result"
    }
   ],
   "source": [
    "list1=set(['White','Black','Red'])\n",
    "list2=set(['Red','Green'])\n",
    "new_list=list1 - list2\n",
    "new_list"
   ]
  },
  {
   "cell_type": "markdown",
   "id": "7e4a41b1-578e-48bb-8d47-f8bae70d30ff",
   "metadata": {},
   "source": [
    "##### 3 WAP program to sum there given integers. However, if two values are equal, the sum will be zero"
   ]
  },
  {
   "cell_type": "code",
   "execution_count": 31,
   "id": "e67bb94f-0921-48ed-9737-2a4260b6b744",
   "metadata": {},
   "outputs": [
    {
     "name": "stdout",
     "output_type": "stream",
     "text": [
      "6\n",
      "0\n"
     ]
    }
   ],
   "source": [
    "def sum(x,y,z):\n",
    "    if x==y or y==z or x==z:\n",
    "        sum=0\n",
    "    else:\n",
    "        sum=x+y+z\n",
    "    return sum\n",
    "\n",
    "print(sum(1,2,3))\n",
    "print(sum(2,3,2))"
   ]
  },
  {
   "cell_type": "markdown",
   "id": "d89b0675-f662-4c49-916e-f483445567a7",
   "metadata": {},
   "source": [
    "##### 4 WAP to sum two given integers.However, if the sum is between 15 and 20 it will return 20"
   ]
  },
  {
   "cell_type": "code",
   "execution_count": 3,
   "id": "609ab98e-6cb9-432f-a678-e83858638bd4",
   "metadata": {},
   "outputs": [
    {
     "name": "stdout",
     "output_type": "stream",
     "text": [
      "20\n",
      "21\n"
     ]
    }
   ],
   "source": [
    "def num(a,b):\n",
    "    sum=a+b\n",
    "    if sum in range(15,20):\n",
    "        return 20\n",
    "    else:\n",
    "        return sum\n",
    "\n",
    "print(num(10,6))\n",
    "print(num(12,9))"
   ]
  },
  {
   "cell_type": "markdown",
   "id": "c9994cfe-9428-46f1-9ad3-e6c2062a3a3a",
   "metadata": {},
   "source": [
    "##### 5 WAP to sum two given integers.However if the sum is bertween 15 and 20 it will return 20."
   ]
  },
  {
   "cell_type": "code",
   "execution_count": 21,
   "id": "1f69f2b4-7fd7-438b-bc76-fe9ef46ee852",
   "metadata": {},
   "outputs": [
    {
     "name": "stdout",
     "output_type": "stream",
     "text": [
      "True\n",
      "True\n",
      "False\n",
      "False\n"
     ]
    }
   ],
   "source": [
    "def num(x,y):\n",
    "    if x==y or x+y==5 or x-y==5:\n",
    "        return True\n",
    "    else:\n",
    "        return False\n",
    "\n",
    "print(num(5,5))\n",
    "print(num(10,5))\n",
    "print(num(70,68))\n",
    "print(num(7,3))"
   ]
  },
  {
   "cell_type": "markdown",
   "id": "fa0a1201-3743-40b5-aae8-14c1e33b18be",
   "metadata": {},
   "source": [
    "##### 6 WAP to add two objects if both objects are integers."
   ]
  },
  {
   "cell_type": "code",
   "execution_count": 27,
   "id": "b79300da-4eb8-45f8-857b-78d221944312",
   "metadata": {},
   "outputs": [
    {
     "name": "stdout",
     "output_type": "stream",
     "text": [
      "43\n",
      "Inputs must be integers\n"
     ]
    }
   ],
   "source": [
    "def sum(a,b):\n",
    "    if not (isinstance(a,int) and isinstance(b,int)):\n",
    "        return 'Inputs must be integers'\n",
    "    else:\n",
    "        return a+b\n",
    "\n",
    "print(sum(4,39))\n",
    "print(sum(2.5,8))"
   ]
  },
  {
   "cell_type": "markdown",
   "id": "5eea2910-edf9-4148-aac7-bac6b6fc1ef6",
   "metadata": {},
   "source": [
    "##### 7 WAP that displays your name,age,and address on three different lines"
   ]
  },
  {
   "cell_type": "code",
   "execution_count": 55,
   "id": "cce9d673-28f9-4105-a4f8-8ccc25af31f7",
   "metadata": {},
   "outputs": [
    {
     "name": "stdout",
     "output_type": "stream",
     "text": [
      "Name:Ruchika\n",
      "Age:22\n",
      "Address:Mumbai\n"
     ]
    }
   ],
   "source": [
    "def info():\n",
    "    name='Ruchika'\n",
    "    age=22\n",
    "    address='Mumbai'\n",
    "    print('Name:{}\\nAge:{}\\nAddress:{}'.format(name,age,address))\n",
    "\n",
    "info()"
   ]
  },
  {
   "cell_type": "markdown",
   "id": "05bce213-1560-4766-a269-d04b14e6c735",
   "metadata": {},
   "source": [
    "##### 8 WAP to solve (x+y)*(x+y)"
   ]
  },
  {
   "cell_type": "code",
   "execution_count": 69,
   "id": "b4f4dbfb-fc90-41f9-9f18-98c7bdf556f3",
   "metadata": {},
   "outputs": [
    {
     "data": {
      "text/plain": [
       "49"
      ]
     },
     "execution_count": 69,
     "metadata": {},
     "output_type": "execute_result"
    }
   ],
   "source": [
    "def num(x,y):\n",
    "    result=(x+y)*(x+y)\n",
    "    return result\n",
    "num(4,3)"
   ]
  },
  {
   "cell_type": "markdown",
   "id": "6e8b0586-83c0-4deb-9114-7a07c54a4e3d",
   "metadata": {},
   "source": [
    "##### 9 WAP to compute the future value of a specified principal amount, rate of interest and no. of years."
   ]
  },
  {
   "cell_type": "code",
   "execution_count": 75,
   "id": "09128961-4660-422f-804f-09c21e8b2fe4",
   "metadata": {},
   "outputs": [
    {
     "name": "stdout",
     "output_type": "stream",
     "text": [
      "12722.79\n"
     ]
    }
   ],
   "source": [
    "amt=10000\n",
    "int=3.5\n",
    "years=7\n",
    "future_value = amt *((1+(0.01*int))**years)\n",
    "print(round(future_value,2))"
   ]
  },
  {
   "cell_type": "markdown",
   "id": "b9e78dc4-cb9d-4cd3-b839-592f91bbb207",
   "metadata": {},
   "source": [
    "##### 10 WAP to calculate the distance between the two points(x1,y1) and (x2,y2)"
   ]
  },
  {
   "cell_type": "code",
   "execution_count": 87,
   "id": "e6946e32-4b11-43b6-8255-c7f39a61a4fb",
   "metadata": {},
   "outputs": [
    {
     "name": "stdout",
     "output_type": "stream",
     "text": [
      "6.324555320336759\n"
     ]
    }
   ],
   "source": [
    "import math\n",
    "p1 = [4,0]\n",
    "p2 = [6,6]\n",
    "distance = math.sqrt(((p1[0]-p2[0])**2)+((p1[1]-p2[1])**2))\n",
    "print(distance)"
   ]
  },
  {
   "cell_type": "code",
   "execution_count": null,
   "id": "ccbc9317-5199-44e0-a27f-7bcb617d48a2",
   "metadata": {},
   "outputs": [],
   "source": []
  }
 ],
 "metadata": {
  "kernelspec": {
   "display_name": "Python 3 (ipykernel)",
   "language": "python",
   "name": "python3"
  },
  "language_info": {
   "codemirror_mode": {
    "name": "ipython",
    "version": 3
   },
   "file_extension": ".py",
   "mimetype": "text/x-python",
   "name": "python",
   "nbconvert_exporter": "python",
   "pygments_lexer": "ipython3",
   "version": "3.12.4"
  }
 },
 "nbformat": 4,
 "nbformat_minor": 5
}
