{
 "cells": [
  {
   "cell_type": "markdown",
   "id": "e9a68c53-6bb0-403d-9760-2d2b0f45e36a",
   "metadata": {},
   "source": [
    "##### 1 WAP to check a given number is even or not."
   ]
  },
  {
   "cell_type": "code",
   "execution_count": 1,
   "id": "40c6ceee-b51c-49d8-bfbb-474c9320eef4",
   "metadata": {},
   "outputs": [
    {
     "name": "stdin",
     "output_type": "stream",
     "text": [
      " 8749\n"
     ]
    },
    {
     "name": "stdout",
     "output_type": "stream",
     "text": [
      "The entered number is odd\n"
     ]
    }
   ],
   "source": [
    "n=int(input())\n",
    "if n%2==0:\n",
    "    print(\"The entered number is even.\")\n",
    "else:\n",
    "    print(\"The entered number is odd\")"
   ]
  },
  {
   "cell_type": "markdown",
   "id": "44a40dc8-82d8-41ba-ac4b-bd603b3d2a15",
   "metadata": {},
   "source": [
    "##### 2 WAP to check whether a person is eligible for voting or not."
   ]
  },
  {
   "cell_type": "code",
   "execution_count": 6,
   "id": "b878595a-de44-4e1e-81df-ecbd38a1b1e0",
   "metadata": {},
   "outputs": [
    {
     "name": "stdin",
     "output_type": "stream",
     "text": [
      "Enter your age 22\n"
     ]
    },
    {
     "name": "stdout",
     "output_type": "stream",
     "text": [
      "Eligible for voting\n"
     ]
    }
   ],
   "source": [
    "age=int(input(\"Enter your age\"))\n",
    "if age>=18:\n",
    "    print(\"Eligible for voting\")\n",
    "else:\n",
    "    print(\"Not eligible for voting\")"
   ]
  },
  {
   "cell_type": "markdown",
   "id": "e0d22c81-b2d6-4e82-af14-bd08e7c1158a",
   "metadata": {},
   "source": [
    "##### 3 WAP to check whether a number is divisible by 7 or not."
   ]
  },
  {
   "cell_type": "code",
   "execution_count": 15,
   "id": "e4c0da4f-e215-4153-b04e-b218994ab816",
   "metadata": {},
   "outputs": [
    {
     "name": "stdin",
     "output_type": "stream",
     "text": [
      "Input a number: 42\n"
     ]
    },
    {
     "name": "stdout",
     "output_type": "stream",
     "text": [
      "Entered number is divisible by 7.\n"
     ]
    }
   ],
   "source": [
    "n=int(input(\"Input a number:\"))\n",
    "if n%7==0:\n",
    "    print(\"Entered number is divisible by 7.\")\n",
    "else:\n",
    "    print(\"Entered number is not divisible by 7.\")"
   ]
  },
  {
   "cell_type": "markdown",
   "id": "9d1dc6a4-ab59-4505-a053-438c32e1596a",
   "metadata": {},
   "source": [
    "##### 4 WAP to display \"Hello\" if a number entered by user is a multiple of 5,otherwise\n",
    "##### print \"Bye\"."
   ]
  },
  {
   "cell_type": "code",
   "execution_count": 34,
   "id": "28f9f0bb-d08b-4795-8abd-66159dccabed",
   "metadata": {},
   "outputs": [
    {
     "name": "stdin",
     "output_type": "stream",
     "text": [
      "Input any number: 85\n"
     ]
    },
    {
     "name": "stdout",
     "output_type": "stream",
     "text": [
      "Entered number is multiple of 5.\n",
      "Hello\n"
     ]
    }
   ],
   "source": [
    "num=int(input(\"Input any number:\"))\n",
    "if num%5 == 0:\n",
    "    print(\"Entered number is multiple of 5.\")\n",
    "    print(\"Hello\")\n",
    "else:\n",
    "    print(\"Entered number is not multiple of 5.\")\n",
    "    print(\"Bye\")"
   ]
  },
  {
   "cell_type": "markdown",
   "id": "a659b293-afd3-43de-a5d4-91f94966a009",
   "metadata": {},
   "source": [
    "##### 5 WAP to calculate the electricity bill according to the following criteria\n",
    "#####   first 100 units - no charge\n",
    "#####   next 100 units  - Rs 5 per unit\n",
    "#####   After 200 units - Rs 10 per unit"
   ]
  },
  {
   "cell_type": "code",
   "execution_count": 43,
   "id": "a9f086bd-1fc3-4ee4-91a3-9bb5276128ab",
   "metadata": {},
   "outputs": [
    {
     "name": "stdin",
     "output_type": "stream",
     "text": [
      "Enter number of units : 350\n"
     ]
    },
    {
     "name": "stdout",
     "output_type": "stream",
     "text": [
      "amount to pay is : 2000\n"
     ]
    }
   ],
   "source": [
    "unit = int(input(\"Enter number of units :\"))\n",
    "if unit <= 100:\n",
    "    print(\"amount to pay is No charge\")\n",
    "elif unit > 100 and unit <= 200:\n",
    "    amount = (unit - 100)*5\n",
    "    print(\"amount to pay is:\",amount)\n",
    "elif unit > 200:\n",
    "    amount = ( 500 + (unit-200)*10)\n",
    "    print(\"amount to pay is :\",amount)"
   ]
  },
  {
   "cell_type": "code",
   "execution_count": null,
   "id": "0bbd4b7a-eec2-4bfe-830a-12d8e7b9e5e3",
   "metadata": {},
   "outputs": [],
   "source": []
  }
 ],
 "metadata": {
  "kernelspec": {
   "display_name": "Python 3 (ipykernel)",
   "language": "python",
   "name": "python3"
  },
  "language_info": {
   "codemirror_mode": {
    "name": "ipython",
    "version": 3
   },
   "file_extension": ".py",
   "mimetype": "text/x-python",
   "name": "python",
   "nbconvert_exporter": "python",
   "pygments_lexer": "ipython3",
   "version": "3.12.4"
  }
 },
 "nbformat": 4,
 "nbformat_minor": 5
}
