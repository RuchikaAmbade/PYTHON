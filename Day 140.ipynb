{
 "cells": [
  {
   "cell_type": "markdown",
   "id": "c9dca654-f521-467d-9663-76a1b143c1bd",
   "metadata": {},
   "source": [
    "##### WAP to display the last digit of a number"
   ]
  },
  {
   "cell_type": "code",
   "execution_count": 1,
   "id": "17d72cde-72d8-463b-b756-3b8f78461785",
   "metadata": {},
   "outputs": [
    {
     "name": "stdin",
     "output_type": "stream",
     "text": [
      "Enter any number 2426\n"
     ]
    },
    {
     "name": "stdout",
     "output_type": "stream",
     "text": [
      "The last digit of the entered number is  6\n"
     ]
    }
   ],
   "source": [
    "n = int(input('Enter any number'))\n",
    "rem= n%10\n",
    "print('The last digit of the entered number is ',rem)"
   ]
  },
  {
   "cell_type": "markdown",
   "id": "4f395528-5e31-4c35-bbdb-1530ff65deae",
   "metadata": {},
   "source": [
    "##### WAP to check whether the last digit of a number is divisible by 3 or not"
   ]
  },
  {
   "cell_type": "code",
   "execution_count": 4,
   "id": "2ead807d-b5bb-42ec-99b0-00a8cb22e663",
   "metadata": {},
   "outputs": [
    {
     "name": "stdin",
     "output_type": "stream",
     "text": [
      "Enter any number 2426\n"
     ]
    },
    {
     "name": "stdout",
     "output_type": "stream",
     "text": [
      "Last digit of entered number is divisible by 3\n"
     ]
    }
   ],
   "source": [
    "n = int(input('Enter any number'))\n",
    "rem= n%10\n",
    "if rem%3 == 0:\n",
    "    print('Last digit of entered number is divisible by 3')\n",
    "else:\n",
    "    print('Last digit of entered number is not divisible by 3')"
   ]
  },
  {
   "cell_type": "code",
   "execution_count": null,
   "id": "457bc6b0-ba15-4afa-9ecf-d3c57f0e0682",
   "metadata": {},
   "outputs": [],
   "source": []
  }
 ],
 "metadata": {
  "kernelspec": {
   "display_name": "Python 3 (ipykernel)",
   "language": "python",
   "name": "python3"
  },
  "language_info": {
   "codemirror_mode": {
    "name": "ipython",
    "version": 3
   },
   "file_extension": ".py",
   "mimetype": "text/x-python",
   "name": "python",
   "nbconvert_exporter": "python",
   "pygments_lexer": "ipython3",
   "version": "3.12.4"
  }
 },
 "nbformat": 4,
 "nbformat_minor": 5
}
