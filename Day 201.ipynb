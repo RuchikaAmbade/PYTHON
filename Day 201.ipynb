{
 "cells": [
  {
   "cell_type": "code",
   "execution_count": 1,
   "id": "f259258a-2148-4c52-81c5-7e39a38720d5",
   "metadata": {},
   "outputs": [
    {
     "name": "stdout",
     "output_type": "stream",
     "text": [
      "  E D C B A \n",
      "    D C B A \n",
      "      C B A \n",
      "        B A \n",
      "          A \n"
     ]
    }
   ],
   "source": [
    "n=5\n",
    "k=69\n",
    "for i in range(1,n+1):\n",
    "    p=k\n",
    "    for j in range(1,i+1):\n",
    "        print(\" \",end=\" \")\n",
    "    for j in range(i,n+1):\n",
    "        print(chr(p),end=\" \")\n",
    "        p=p-1\n",
    "    k=k-1\n",
    "    print()"
   ]
  },
  {
   "cell_type": "code",
   "execution_count": null,
   "id": "529c96d3-bb96-4387-a7f3-c718f21a1010",
   "metadata": {},
   "outputs": [],
   "source": []
  }
 ],
 "metadata": {
  "kernelspec": {
   "display_name": "Python 3 (ipykernel)",
   "language": "python",
   "name": "python3"
  },
  "language_info": {
   "codemirror_mode": {
    "name": "ipython",
    "version": 3
   },
   "file_extension": ".py",
   "mimetype": "text/x-python",
   "name": "python",
   "nbconvert_exporter": "python",
   "pygments_lexer": "ipython3",
   "version": "3.12.4"
  }
 },
 "nbformat": 4,
 "nbformat_minor": 5
}
