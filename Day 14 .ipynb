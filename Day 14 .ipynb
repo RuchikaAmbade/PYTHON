{
 "cells": [
  {
   "cell_type": "markdown",
   "id": "1a882c64-2c76-4b8e-b2bc-fa2c44e7c644",
   "metadata": {},
   "source": [
    "##### 1 WAP to convert any decimal to binary"
   ]
  },
  {
   "cell_type": "code",
   "execution_count": 55,
   "id": "9c6bcedb-31d3-43be-ad29-986a889bba36",
   "metadata": {},
   "outputs": [
    {
     "name": "stdin",
     "output_type": "stream",
     "text": [
      "Enter any dcimal 98\n"
     ]
    },
    {
     "name": "stdout",
     "output_type": "stream",
     "text": [
      "1\n",
      "1\n",
      "0\n",
      "0\n",
      "0\n",
      "1\n",
      "0\n"
     ]
    }
   ],
   "source": [
    "n=int(input(\"Enter any dcimal\"))\n",
    "rem=0\n",
    "list1=[]\n",
    "while n>0:\n",
    "    rem=n%2\n",
    "    list1.append(rem)\n",
    "    n=n//2\n",
    "list1\n",
    "rev=list1[::-1]\n",
    "rev\n",
    "for i in rev:\n",
    "    print(i)"
   ]
  },
  {
   "cell_type": "markdown",
   "id": "82a28223-17ee-4ccf-a38e-fd36fa68f30d",
   "metadata": {},
   "source": [
    "##### 2 WAP to convert binary to decimal"
   ]
  },
  {
   "cell_type": "code",
   "execution_count": 25,
   "id": "1e47502a-1412-457f-8c11-7074ca2a83ca",
   "metadata": {},
   "outputs": [
    {
     "name": "stdin",
     "output_type": "stream",
     "text": [
      "Enter any binary number 1100010\n"
     ]
    },
    {
     "name": "stdout",
     "output_type": "stream",
     "text": [
      "98\n"
     ]
    }
   ],
   "source": [
    "num=str(input(\"Enter any binary number\"))\n",
    "n=len(num)\n",
    "sum=0\n",
    "for i in num:\n",
    "    res=int(i)*(2)**(n-1)\n",
    "    sum=sum+res\n",
    "    n=n-1\n",
    "print(sum)"
   ]
  },
  {
   "cell_type": "markdown",
   "id": "4d8a7d4f-c43e-4506-acd4-b2eed1e3443f",
   "metadata": {},
   "source": [
    "##### 3 WAP to convert any decimal to octal"
   ]
  },
  {
   "cell_type": "code",
   "execution_count": 27,
   "id": "6fb9c837-155a-475b-a7b9-d632bf316c8d",
   "metadata": {},
   "outputs": [
    {
     "name": "stdin",
     "output_type": "stream",
     "text": [
      "Enter any decimal num 47\n"
     ]
    },
    {
     "name": "stdout",
     "output_type": "stream",
     "text": [
      "5\n",
      "7\n"
     ]
    }
   ],
   "source": [
    "n=int(input(\"Enter any decimal num\"))\n",
    "rem=0\n",
    "list1=[]\n",
    "while n>0:\n",
    "    rem=n%8\n",
    "    list1.append(rem)\n",
    "    n=n//8\n",
    "list1\n",
    "rev=list1[::-1]\n",
    "rev\n",
    "for i in rev:\n",
    "    print(i)"
   ]
  },
  {
   "cell_type": "markdown",
   "id": "7c0a8bd1-2aae-4411-8012-41c1afc6dfa0",
   "metadata": {},
   "source": [
    "##### 4 WAP to convert octal to decimal number"
   ]
  },
  {
   "cell_type": "code",
   "execution_count": 5,
   "id": "cd975dcf-4ebe-4fc2-9fd0-9b9235aed262",
   "metadata": {},
   "outputs": [
    {
     "name": "stdout",
     "output_type": "stream",
     "text": [
      "47\n"
     ]
    }
   ],
   "source": [
    "num='57'\n",
    "n=len(num)\n",
    "sum=0\n",
    "for i in num:\n",
    "    res=int(i)*(8)**(n-1)\n",
    "    sum=sum+res\n",
    "    n=n-1\n",
    "print(sum)"
   ]
  },
  {
   "cell_type": "markdown",
   "id": "6a9ff918-bf7b-46a2-917e-337896c61b05",
   "metadata": {},
   "source": [
    "##### 5 WAP to convert any decimal to hexadecimal"
   ]
  },
  {
   "cell_type": "code",
   "execution_count": 27,
   "id": "a53d6964-eabe-480b-971e-a830321c8864",
   "metadata": {},
   "outputs": [
    {
     "name": "stdin",
     "output_type": "stream",
     "text": [
      "Enter any decimal number : 314\n"
     ]
    },
    {
     "name": "stdout",
     "output_type": "stream",
     "text": [
      "1\n",
      "3\n",
      "A\n"
     ]
    }
   ],
   "source": [
    "n=int(input(\"Enter any decimal number :\"))\n",
    "rem=0\n",
    "list1=[]\n",
    "while n>0:\n",
    "    rem=n%16\n",
    "    if rem==10:\n",
    "        rem=\"A\"\n",
    "    if rem==11:\n",
    "        rem=\"B\"\n",
    "    if rem==12:\n",
    "        rem=\"C\"\n",
    "    if rem==13:\n",
    "        rem=\"D\"\n",
    "    if rem==14:\n",
    "        rem=\"E\"\n",
    "    if rem==15:\n",
    "        rem=\"F\"\n",
    "    list1.append(rem)\n",
    "    n=n//16\n",
    "list1\n",
    "rev=list1[::-1]\n",
    "rev\n",
    "for i in rev:\n",
    "    print(i)"
   ]
  },
  {
   "cell_type": "markdown",
   "id": "d9a91ed3-912a-4579-9baf-2074364bb885",
   "metadata": {},
   "source": [
    "##### 6 WAP to convert hexadcimal to decimal"
   ]
  },
  {
   "cell_type": "code",
   "execution_count": 37,
   "id": "d1931a58-394b-4aa6-b6cf-5835fc7c684b",
   "metadata": {},
   "outputs": [
    {
     "name": "stdout",
     "output_type": "stream",
     "text": [
      "314\n"
     ]
    }
   ],
   "source": [
    "num='13A'\n",
    "n=len(num)\n",
    "sum=0\n",
    "for i in num:\n",
    "    if i=='A':\n",
    "        i=10\n",
    "    if i=='B':\n",
    "        i=11\n",
    "    if i=='C':\n",
    "        i=12\n",
    "    if i=='D':\n",
    "        i=13\n",
    "    if i=='E':\n",
    "        i=14\n",
    "    if i=='F':\n",
    "        i=15\n",
    "    res=int(i)*(16)**(n-1)\n",
    "    sum=sum+res\n",
    "    n=n-1\n",
    "print(sum)"
   ]
  },
  {
   "cell_type": "code",
   "execution_count": 42,
   "id": "dadf74e2-7ea5-43ac-b727-3040362f4f85",
   "metadata": {},
   "outputs": [
    {
     "name": "stdin",
     "output_type": "stream",
     "text": [
      "Enter base,first value : 5\n",
      "Enter base,second value : 6\n",
      "Enter value of height : 5\n"
     ]
    },
    {
     "name": "stdout",
     "output_type": "stream",
     "text": [
      "Area of Trapezoide : 27.5\n"
     ]
    }
   ],
   "source": [
    "##### 7  Area of trapezoide (A trapezoid is a quadrilateral with two sides parallel)\n",
    "a=int(input(\"Enter base,first value :\"))\n",
    "b=int(input(\"Enter base,second value :\"))\n",
    "h=int(input(\"Enter value of height :\"))\n",
    "area=((a+b)/2)*h\n",
    "print(\"Area of Trapezoide :\",area)"
   ]
  },
  {
   "cell_type": "code",
   "execution_count": 46,
   "id": "6eb9fa44-9c15-488e-b25e-cb055832255f",
   "metadata": {},
   "outputs": [
    {
     "name": "stdin",
     "output_type": "stream",
     "text": [
      "Enter value of length of base : 5\n",
      "Enter value of heigth of parallelogram : 6\n"
     ]
    },
    {
     "name": "stdout",
     "output_type": "stream",
     "text": [
      "Area of parallelogram : 30\n"
     ]
    }
   ],
   "source": [
    "##### 8 Area of parallelogram (A trapezoid is a quadrilateral with opposite sides parallel)\n",
    "b=int(input(\"Enter value of length of base :\"))\n",
    "h=int(input(\"Enter value of heigth of parallelogram :\"))\n",
    "area=b*h\n",
    "print(\"Area of parallelogram :\",area)"
   ]
  },
  {
   "cell_type": "code",
   "execution_count": 50,
   "id": "2a0a0326-b821-41ae-aace-3e74e3056ab0",
   "metadata": {},
   "outputs": [
    {
     "name": "stdin",
     "output_type": "stream",
     "text": [
      "Enter value of diameter : 8\n",
      "Enter length 45\n"
     ]
    },
    {
     "name": "stdout",
     "output_type": "stream",
     "text": [
      "Arc length is : 3.14\n"
     ]
    }
   ],
   "source": [
    "##### 9  Arc length\n",
    "d=int(input(\"Enter value of diameter :\"))\n",
    "r=d/2\n",
    "angle=int(input(\"Enter length\"))\n",
    "arc_len=(angle/360)*2*3.14*r\n",
    "print(\"Arc length is :\",arc_len)"
   ]
  },
  {
   "cell_type": "code",
   "execution_count": 60,
   "id": "0f5d5df5-c69b-40fc-9ed8-68884caea550",
   "metadata": {},
   "outputs": [
    {
     "name": "stdout",
     "output_type": "stream",
     "text": [
      "Two solutions Discriminant value is : 64\n"
     ]
    }
   ],
   "source": [
    "##### 10 \n",
    "# Discriminant of a quadratic equation is given by, delta=(b**2) - 4*a*c\n",
    "# Given data x=4 , y=0 , z=-4\n",
    "def discriminant(x,y,z):\n",
    "    delta=(y**2)-4*x*z\n",
    "    return delta\n",
    "\n",
    "discriminant(4,0,-4)\n",
    "\n",
    "if delta>0:\n",
    "    nature_of_roots=\"Two solutions\"\n",
    "elif delta==0:\n",
    "    nature_of_roots=\"One solution\"\n",
    "else:\n",
    "    nature_of_roots=\"No real solution\"\n",
    "print(nature_of_roots,\"Discriminant value is :\",delta)"
   ]
  },
  {
   "cell_type": "code",
   "execution_count": null,
   "id": "79b2cf12-62a5-4de3-9ed0-2d75e6cd57ca",
   "metadata": {},
   "outputs": [],
   "source": []
  }
 ],
 "metadata": {
  "kernelspec": {
   "display_name": "Python 3 (ipykernel)",
   "language": "python",
   "name": "python3"
  },
  "language_info": {
   "codemirror_mode": {
    "name": "ipython",
    "version": 3
   },
   "file_extension": ".py",
   "mimetype": "text/x-python",
   "name": "python",
   "nbconvert_exporter": "python",
   "pygments_lexer": "ipython3",
   "version": "3.12.4"
  }
 },
 "nbformat": 4,
 "nbformat_minor": 5
}
