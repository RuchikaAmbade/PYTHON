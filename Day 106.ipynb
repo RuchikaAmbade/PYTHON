{
 "cells": [
  {
   "cell_type": "markdown",
   "id": "0c756a66-e8dd-4ecd-803f-eeb74fe52a67",
   "metadata": {},
   "source": [
    "##### WAP to print 'D' using '*'"
   ]
  },
  {
   "cell_type": "code",
   "execution_count": 5,
   "id": "abb9402d-e2b5-4482-891a-de54d1292edf",
   "metadata": {},
   "outputs": [
    {
     "name": "stdout",
     "output_type": "stream",
     "text": [
      "* * * *   \n",
      "*       * \n",
      "*       * \n",
      "*       * \n",
      "*       * \n",
      "*       * \n",
      "* * * *   \n"
     ]
    }
   ],
   "source": [
    "for row in range(7):\n",
    "    for col in range(5):\n",
    "        if (col==0 or (col==4 and (row!=0 and row!=6))) or ((row==0 or row==6) and (col>0 and col<6 and col!=4)):\n",
    "            print('*',end=' ')\n",
    "        else:\n",
    "            print(' ',end=' ')\n",
    "    print()"
   ]
  },
  {
   "cell_type": "markdown",
   "id": "54ec2c94-cc83-4133-8244-af679d7e68fe",
   "metadata": {},
   "source": [
    "##### WAP to print 'E' using *"
   ]
  },
  {
   "cell_type": "code",
   "execution_count": 11,
   "id": "221e9c00-d1a4-48ed-83ce-2e5fb35448dc",
   "metadata": {},
   "outputs": [
    {
     "name": "stdout",
     "output_type": "stream",
     "text": [
      "* * * * * \n",
      "*         \n",
      "*         \n",
      "* * * * * \n",
      "*         \n",
      "*         \n",
      "* * * * * \n"
     ]
    }
   ],
   "source": [
    "for row in range(7):\n",
    "    for col in range(5):\n",
    "        if (col==0) or ((row==0 or row==3 or row==6) and (col!=0 and col!=0)):\n",
    "            print('*',end=' ')\n",
    "        else:\n",
    "            print(' ',end=' ')\n",
    "    print()"
   ]
  },
  {
   "cell_type": "markdown",
   "id": "ef811515-2613-432c-8614-1792ba42b37f",
   "metadata": {},
   "source": [
    "##### WAP to print 'F' using *"
   ]
  },
  {
   "cell_type": "code",
   "execution_count": 13,
   "id": "27b860f1-248b-4a38-9e2d-0a5eabe1c2c1",
   "metadata": {},
   "outputs": [
    {
     "name": "stdout",
     "output_type": "stream",
     "text": [
      "* * * * * \n",
      "*         \n",
      "*         \n",
      "* * * * * \n",
      "*         \n",
      "*         \n",
      "*         \n"
     ]
    }
   ],
   "source": [
    "for row in range(7):\n",
    "    for col in range(5):\n",
    "        if (col==0) or ((row==0 or row==3 ) and (col!=0 and col!=0)):\n",
    "            print('*',end=' ')\n",
    "        else:\n",
    "            print(' ',end=' ')\n",
    "    print()"
   ]
  },
  {
   "cell_type": "code",
   "execution_count": null,
   "id": "6734d740-1892-4db6-a8a2-87cc123e8500",
   "metadata": {},
   "outputs": [],
   "source": []
  }
 ],
 "metadata": {
  "kernelspec": {
   "display_name": "Python 3 (ipykernel)",
   "language": "python",
   "name": "python3"
  },
  "language_info": {
   "codemirror_mode": {
    "name": "ipython",
    "version": 3
   },
   "file_extension": ".py",
   "mimetype": "text/x-python",
   "name": "python",
   "nbconvert_exporter": "python",
   "pygments_lexer": "ipython3",
   "version": "3.12.4"
  }
 },
 "nbformat": 4,
 "nbformat_minor": 5
}
