{
 "cells": [
  {
   "cell_type": "markdown",
   "id": "dfa629b4-4bfc-499d-9a1a-c944e871cdbc",
   "metadata": {},
   "source": [
    "##### 1 WAP to convert a list of integers to a list of booleans where all non-zero values become True. "
   ]
  },
  {
   "cell_type": "code",
   "execution_count": 2,
   "id": "8225aa98-0e70-47fb-952f-d9e47e949db2",
   "metadata": {},
   "outputs": [
    {
     "name": "stdout",
     "output_type": "stream",
     "text": [
      "[True, True, False, True, True]\n"
     ]
    }
   ],
   "source": [
    "lst =[-2,-1,0,1,2]\n",
    "boolean_lst = [bool(x) for x in lst]\n",
    "print(boolean_lst)"
   ]
  },
  {
   "cell_type": "markdown",
   "id": "06e510bb-7536-4760-8dc2-51d4f912b049",
   "metadata": {},
   "source": [
    "##### 2 WAP to replace all even numbers in a list with their negative."
   ]
  },
  {
   "cell_type": "code",
   "execution_count": 5,
   "id": "99b30527-2f33-4ca5-8a47-3f379de0c4dc",
   "metadata": {},
   "outputs": [
    {
     "name": "stdout",
     "output_type": "stream",
     "text": [
      "[1, -2, 3, -4, 5, -6, 7, -8, 9, -10]\n"
     ]
    }
   ],
   "source": [
    "lst = [1,2,3,4,5,6,7,8,9,10]\n",
    "neg_even_lst = [-x if x%2==0 else x for x in lst]\n",
    "print(neg_even_lst)"
   ]
  },
  {
   "cell_type": "markdown",
   "id": "7199ae13-1475-4c3d-970a-bd040a57468f",
   "metadata": {},
   "source": [
    "##### 3 Create a 3x3 list of lists with random values and normalize it."
   ]
  },
  {
   "cell_type": "code",
   "execution_count": 9,
   "id": "0e437cc8-b8bc-4b67-be0c-4bb69ecfb61c",
   "metadata": {},
   "outputs": [
    {
     "name": "stdout",
     "output_type": "stream",
     "text": [
      "[[1.941622034684724, -1.0995217224875622, 0.07225115842778118], [0.21321762912710465, -0.8959540142390324, -0.7801569261990897], [-0.9531963694916684, 0.23954567562053294, 1.26219253455721]]\n"
     ]
    }
   ],
   "source": [
    "import random\n",
    "matrix = [[random.random() for _ in range(3)] for _ in range(3)]\n",
    "mean = sum(sum(row) for row in matrix)/9\n",
    "std = (sum((x-mean)**2 for row in matrix for x in row)/9)**0.5\n",
    "normalized_matrix = [[(x-mean)/std for x in row] for row in matrix]\n",
    "print(normalized_matrix)"
   ]
  },
  {
   "cell_type": "markdown",
   "id": "e129e5df-8279-4ea6-9efc-c3bc500c3c19",
   "metadata": {},
   "source": [
    "##### 4 Calculate the sum of th diagonal elements of a 3x3 matrix (list of lists)"
   ]
  },
  {
   "cell_type": "code",
   "execution_count": 14,
   "id": "acaef08c-8b3d-44ef-a2ff-9533ebf0d3b7",
   "metadata": {},
   "outputs": [
    {
     "name": "stdout",
     "output_type": "stream",
     "text": [
      "15\n"
     ]
    }
   ],
   "source": [
    "matrix = [[1,2,3],[4,5,6],[7,8,9]]\n",
    "diagonal_sum = sum(matrix[i][i] for i in range(3))\n",
    "print(diagonal_sum)"
   ]
  },
  {
   "cell_type": "markdown",
   "id": "b6a3b730-9c73-4a43-871f-8750056bb45e",
   "metadata": {},
   "source": [
    "##### 5 Fing the indices of non-zero elements in a list."
   ]
  },
  {
   "cell_type": "code",
   "execution_count": 18,
   "id": "8249b101-0063-467f-ac9b-456ee5ef2498",
   "metadata": {},
   "outputs": [
    {
     "name": "stdout",
     "output_type": "stream",
     "text": [
      "[0, 1, 4]\n"
     ]
    }
   ],
   "source": [
    "lst = [1,2,0,0,4,0]\n",
    "non_zero_indices = [i for i, x in enumerate(lst) if x!=0]\n",
    "print(non_zero_indices)"
   ]
  },
  {
   "cell_type": "code",
   "execution_count": null,
   "id": "28cc929f-cc50-42ed-a396-c9218b8360f1",
   "metadata": {},
   "outputs": [],
   "source": []
  }
 ],
 "metadata": {
  "kernelspec": {
   "display_name": "Python 3 (ipykernel)",
   "language": "python",
   "name": "python3"
  },
  "language_info": {
   "codemirror_mode": {
    "name": "ipython",
    "version": 3
   },
   "file_extension": ".py",
   "mimetype": "text/x-python",
   "name": "python",
   "nbconvert_exporter": "python",
   "pygments_lexer": "ipython3",
   "version": "3.12.4"
  }
 },
 "nbformat": 4,
 "nbformat_minor": 5
}
