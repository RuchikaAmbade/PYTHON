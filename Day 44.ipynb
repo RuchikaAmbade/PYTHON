{
 "cells": [
  {
   "cell_type": "markdown",
   "id": "32f3018c-eec7-4e4f-9961-b349ae3fc3fc",
   "metadata": {},
   "source": [
    "##### 1 WAP to remove the first item from a specified list"
   ]
  },
  {
   "cell_type": "code",
   "execution_count": 9,
   "id": "6124663e-fa85-4316-8b7b-54f9ee3d4016",
   "metadata": {},
   "outputs": [
    {
     "name": "stdout",
     "output_type": "stream",
     "text": [
      "Original list elements:\n",
      "['Red', 'Black', 'Green', 'White', 'Orange']\n",
      "After removing the first color\n",
      "['Black', 'Green', 'White', 'Orange']\n"
     ]
    }
   ],
   "source": [
    "color = ['Red','Black','Green','White','Orange']\n",
    "print('Original list elements:')\n",
    "print(color)\n",
    "del color[0]\n",
    "print('After removing the first color')\n",
    "print(color)"
   ]
  },
  {
   "cell_type": "markdown",
   "id": "a256f5ed-6e69-4762-9059-af3f82c259bf",
   "metadata": {},
   "source": [
    "##### 2 WAP that inputs a number and generates an error message if it is not a number"
   ]
  },
  {
   "cell_type": "code",
   "execution_count": 13,
   "id": "57375161-39bb-4890-b3db-1e11fb910ccc",
   "metadata": {},
   "outputs": [
    {
     "name": "stdin",
     "output_type": "stream",
     "text": [
      "Enter a number abc\n"
     ]
    },
    {
     "name": "stdout",
     "output_type": "stream",
     "text": [
      "This is not a number. Try again.\n",
      "\n"
     ]
    },
    {
     "name": "stdin",
     "output_type": "stream",
     "text": [
      "Enter a number 123\n"
     ]
    }
   ],
   "source": [
    "while True:\n",
    "    try:\n",
    "        a=int(input('Enter a number'))\n",
    "        break\n",
    "    except ValueError:\n",
    "        print('This is not a number. Try again.')\n",
    "        print()"
   ]
  },
  {
   "cell_type": "markdown",
   "id": "bb303151-f06b-41a1-81d6-5ef2ae9de4f5",
   "metadata": {},
   "source": [
    "##### 3 WAP to filter positive numbers from a list"
   ]
  },
  {
   "cell_type": "code",
   "execution_count": 25,
   "id": "a166e45c-7067-4000-8d02-73d204393ade",
   "metadata": {},
   "outputs": [
    {
     "name": "stdout",
     "output_type": "stream",
     "text": [
      "[1, 3, 7, 4]\n"
     ]
    }
   ],
   "source": [
    "my_list=[1,3,7,-81,4,-2,]\n",
    "list1=[]\n",
    "for i in my_list:\n",
    "    if i>0:\n",
    "        list1.append(i)\n",
    "print(list1)"
   ]
  },
  {
   "cell_type": "markdown",
   "id": "8cef58dc-015d-4b5f-8089-55e2ab9e26ee",
   "metadata": {},
   "source": [
    "##### 4 WAP to compute the product of a list of integers"
   ]
  },
  {
   "cell_type": "code",
   "execution_count": 41,
   "id": "ef81299f-50c1-47fe-90ac-3a48645a0f29",
   "metadata": {},
   "outputs": [
    {
     "name": "stdout",
     "output_type": "stream",
     "text": [
      "6000\n"
     ]
    }
   ],
   "source": [
    "nums=[10,20,30]\n",
    "product=1\n",
    "for i in nums:\n",
    "    product=product*i\n",
    "print(product)"
   ]
  },
  {
   "cell_type": "markdown",
   "id": "342e01a5-9d7c-448d-8874-e75536929873",
   "metadata": {},
   "source": [
    "##### 5 WAP to print Unicode characters"
   ]
  },
  {
   "cell_type": "code",
   "execution_count": 47,
   "id": "52e96a95-6c91-4fbe-a358-e4ac26ddfc19",
   "metadata": {},
   "outputs": [
    {
     "name": "stdout",
     "output_type": "stream",
     "text": [
      "\n",
      "Python\n",
      "\n"
     ]
    }
   ],
   "source": [
    "str = u'\\u0050\\u0079\\u0074\\u0068\\u006f\\u006e'\n",
    "print()\n",
    "print(str)\n",
    "print()"
   ]
  },
  {
   "cell_type": "code",
   "execution_count": null,
   "id": "6a558d45-b040-4568-b8b2-a610ed8eefa4",
   "metadata": {},
   "outputs": [],
   "source": []
  }
 ],
 "metadata": {
  "kernelspec": {
   "display_name": "Python 3 (ipykernel)",
   "language": "python",
   "name": "python3"
  },
  "language_info": {
   "codemirror_mode": {
    "name": "ipython",
    "version": 3
   },
   "file_extension": ".py",
   "mimetype": "text/x-python",
   "name": "python",
   "nbconvert_exporter": "python",
   "pygments_lexer": "ipython3",
   "version": "3.12.4"
  }
 },
 "nbformat": 4,
 "nbformat_minor": 5
}
