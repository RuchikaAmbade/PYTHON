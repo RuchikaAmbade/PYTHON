{
 "cells": [
  {
   "cell_type": "markdown",
   "id": "6b9ada6e-5263-4a72-a6bd-1ef42bd1d736",
   "metadata": {},
   "source": [
    "##### 1 WAP to accept a number from 1-12 and display name of the month and days in that month \n",
    "##### like 1 for january and number of days 31\n"
   ]
  },
  {
   "cell_type": "code",
   "execution_count": 20,
   "id": "439fe5ba-8b12-4433-8478-897836cce555",
   "metadata": {},
   "outputs": [
    {
     "name": "stdin",
     "output_type": "stream",
     "text": [
      "Enter number from 1 to 12 12\n"
     ]
    },
    {
     "name": "stdout",
     "output_type": "stream",
     "text": [
      "Month : December\n",
      "No. od days = 31\n"
     ]
    }
   ],
   "source": [
    "month = int(input('Enter number from 1 to 12'))\n",
    "if month == 1:\n",
    "    print('Month : January\\nNo. od days = 31')\n",
    "elif month == 2:\n",
    "    print('Month : February\\nNo. od days = 28 or 29')\n",
    "elif month == 3:\n",
    "    print('Month : March\\nNo. od days = 31')\n",
    "elif month == 4:\n",
    "    print('Month : April\\nNo. od days = 30')\n",
    "elif month == 5:\n",
    "    print('Month : May\\nNo. od days = 31')\n",
    "elif month == 6:\n",
    "    print('Month : June\\nNo. od days = 30')\n",
    "elif month == 7:\n",
    "    print('Month : July\\nNo. od days = 31')\n",
    "elif month == 8:\n",
    "    print('Month : August\\nNo. od days = 31')\n",
    "elif month == 9:\n",
    "    print('Month : September\\nNo. od days = 30')\n",
    "elif month == 10:\n",
    "    print('Month : October\\nNo. od days = 31')\n",
    "elif month == 11:\n",
    "    print('Month : November\\nNo. od days = 30')\n",
    "elif month == 12:\n",
    "    print('Month : December\\nNo. od days = 31')\n"
   ]
  },
  {
   "cell_type": "markdown",
   "id": "16c734cc-7f83-4f1c-8a5a-3712d4d7b56d",
   "metadata": {},
   "source": [
    "##### 2 Accept any city from the user and display monuments of that city."
   ]
  },
  {
   "cell_type": "code",
   "execution_count": 25,
   "id": "992e5e65-3106-4f7b-beca-c7cad3be2ce1",
   "metadata": {},
   "outputs": [
    {
     "name": "stdin",
     "output_type": "stream",
     "text": [
      "Enter city name : Jaipur\n"
     ]
    },
    {
     "name": "stdout",
     "output_type": "stream",
     "text": [
      "Jal Mahal\n"
     ]
    }
   ],
   "source": [
    "city = str(input('Enter city name :'))\n",
    "if city == 'Delhi':\n",
    "    print('Red fort')\n",
    "elif city== 'Agra':\n",
    "    print('Taj Mahal')\n",
    "elif city== 'Jaipur':\n",
    "    print('Jal Mahal')\n",
    "else:\n",
    "    print('Invalid Input : Enter correct name of city')"
   ]
  },
  {
   "cell_type": "code",
   "execution_count": null,
   "id": "6552f77c-5250-4bc5-9f2b-0a76127072e6",
   "metadata": {},
   "outputs": [],
   "source": []
  }
 ],
 "metadata": {
  "kernelspec": {
   "display_name": "Python 3 (ipykernel)",
   "language": "python",
   "name": "python3"
  },
  "language_info": {
   "codemirror_mode": {
    "name": "ipython",
    "version": 3
   },
   "file_extension": ".py",
   "mimetype": "text/x-python",
   "name": "python",
   "nbconvert_exporter": "python",
   "pygments_lexer": "ipython3",
   "version": "3.12.4"
  }
 },
 "nbformat": 4,
 "nbformat_minor": 5
}
