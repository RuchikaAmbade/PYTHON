{
 "cells": [
  {
   "cell_type": "markdown",
   "id": "1438c441-bc64-48a9-ab49-5b16adb4cc2a",
   "metadata": {},
   "source": [
    "##### WAP that takes a sequence of numbers and determines whether all the numbers are different from each other."
   ]
  },
  {
   "cell_type": "code",
   "execution_count": 3,
   "id": "514dce92-f481-42d8-a72a-1f5811357703",
   "metadata": {},
   "outputs": [
    {
     "name": "stdout",
     "output_type": "stream",
     "text": [
      "True\n",
      "False\n"
     ]
    }
   ],
   "source": [
    "def test_distinct(data):\n",
    "    if len(data) == len(set(data)):\n",
    "        return True\n",
    "    else:\n",
    "        return False\n",
    "\n",
    "print(test_distinct([1,2,3,4,5]))\n",
    "print(test_distinct([1,2,3,4,4]))"
   ]
  },
  {
   "cell_type": "markdown",
   "id": "2e0dc8aa-4d21-4dc4-b5bb-4aa6586fb7b3",
   "metadata": {},
   "source": [
    "##### WAP that create a string using the letters 'a','e','i','o','u' . Ensure that each character is used only once."
   ]
  },
  {
   "cell_type": "code",
   "execution_count": 6,
   "id": "9667e17e-8141-4286-9259-0b4098296f51",
   "metadata": {},
   "outputs": [
    {
     "name": "stdout",
     "output_type": "stream",
     "text": [
      "ueaoi\n"
     ]
    }
   ],
   "source": [
    "import random\n",
    "char_list = ['a','e','i','o','u']\n",
    "random.shuffle(char_list)\n",
    "print(''.join(char_list))"
   ]
  },
  {
   "cell_type": "markdown",
   "id": "7de17319-8ec9-4d71-b21a-79bed0563509",
   "metadata": {},
   "source": [
    "##### WAP that removes and prints every third number from a list of numbers until the list is empty."
   ]
  },
  {
   "cell_type": "code",
   "execution_count": 13,
   "id": "f5405626-0ce5-47e4-b8d8-b79eba0d5446",
   "metadata": {},
   "outputs": [
    {
     "name": "stdout",
     "output_type": "stream",
     "text": [
      "30\n",
      "60\n",
      "90\n",
      "40\n",
      "80\n",
      "50\n",
      "20\n",
      "70\n",
      "10\n"
     ]
    }
   ],
   "source": [
    "def remove_nums(int_list):\n",
    "    position = 3-1\n",
    "    idx = 0\n",
    "    len_list = len(int_list)\n",
    "\n",
    "    while len_list > 0:\n",
    "        idx = (position + idx) % len_list\n",
    "        print(int_list.pop(idx))\n",
    "        len_list -=1\n",
    "\n",
    "nums = [10,20,30,40,50,60,70,80,90]\n",
    "remove_nums(nums)"
   ]
  },
  {
   "cell_type": "code",
   "execution_count": null,
   "id": "2425702f-2a3c-4c68-ae39-7c3cc7ab7bca",
   "metadata": {},
   "outputs": [],
   "source": []
  }
 ],
 "metadata": {
  "kernelspec": {
   "display_name": "Python 3 (ipykernel)",
   "language": "python",
   "name": "python3"
  },
  "language_info": {
   "codemirror_mode": {
    "name": "ipython",
    "version": 3
   },
   "file_extension": ".py",
   "mimetype": "text/x-python",
   "name": "python",
   "nbconvert_exporter": "python",
   "pygments_lexer": "ipython3",
   "version": "3.12.4"
  }
 },
 "nbformat": 4,
 "nbformat_minor": 5
}
