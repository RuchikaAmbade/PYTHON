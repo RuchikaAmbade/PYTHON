{
 "cells": [
  {
   "cell_type": "markdown",
   "id": "0a700be5-e405-4dea-bd42-cdfa2569670d",
   "metadata": {},
   "source": [
    "Python program to swap the case: upper to lower / lower to upper case"
   ]
  },
  {
   "cell_type": "code",
   "execution_count": 24,
   "id": "b82a0a7f-beaa-47bd-b4d4-042aa84d22df",
   "metadata": {},
   "outputs": [
    {
     "name": "stdout",
     "output_type": "stream",
     "text": [
      "tHIS STRING EXAMPLE....WOW!!!\n",
      "this string example....wow!!!\n"
     ]
    }
   ],
   "source": [
    "str = 'This string example....wow!!!'\n",
    "print(str.swapcase())\n",
    "\n",
    "str = 'THIS STRING EXAMPLE....WOW!!!'\n",
    "print(str.swapcase())"
   ]
  },
  {
   "cell_type": "code",
   "execution_count": null,
   "id": "7223428e-36fd-4694-b5cd-4cbb73bc3253",
   "metadata": {},
   "outputs": [],
   "source": []
  },
  {
   "cell_type": "markdown",
   "id": "78ea8ae3-f44c-4cb7-b5fc-94fbfc96b567",
   "metadata": {},
   "source": [
    "Create a tuple \"cardinal_numbers\" with \"first\", \"second\" and \"third\" and get the 2nd cardinal number."
   ]
  },
  {
   "cell_type": "code",
   "execution_count": 7,
   "id": "8c290981-cce4-47e6-ad2e-84316e02b0df",
   "metadata": {},
   "outputs": [
    {
     "name": "stdout",
     "output_type": "stream",
     "text": [
      "second\n"
     ]
    }
   ],
   "source": [
    "cardinal_numbers = ('first','second','third')\n",
    "print(cardinal_numbers[1])"
   ]
  },
  {
   "cell_type": "code",
   "execution_count": null,
   "id": "349f5967-7091-4dcc-bded-b648238cd5a6",
   "metadata": {},
   "outputs": [],
   "source": []
  },
  {
   "cell_type": "markdown",
   "id": "5169ad7a-8a72-4d93-84c8-a28bd981fe33",
   "metadata": {},
   "source": [
    "Concatenate two strings together\n"
   ]
  },
  {
   "cell_type": "code",
   "execution_count": 12,
   "id": "ae652a4d-232c-46ef-81c2-e631fb454a50",
   "metadata": {},
   "outputs": [
    {
     "name": "stdout",
     "output_type": "stream",
     "text": [
      "Butterfly\n"
     ]
    }
   ],
   "source": [
    "str_left = 'Butter'\n",
    "str_right = 'fly'\n",
    "concat_str = str_left + str_right\n",
    "print(concat_str)"
   ]
  },
  {
   "cell_type": "code",
   "execution_count": null,
   "id": "fcbe4e3f-8fe5-4c01-ba32-0f3570d138b6",
   "metadata": {},
   "outputs": [],
   "source": []
  },
  {
   "cell_type": "markdown",
   "id": "8bde18d1-20b7-46de-badc-4dcb7cdbb22f",
   "metadata": {},
   "source": [
    "Display two strings together, with a space in between"
   ]
  },
  {
   "cell_type": "code",
   "execution_count": 15,
   "id": "8bc51117-3940-47df-9522-670ecf81184d",
   "metadata": {},
   "outputs": [
    {
     "name": "stdout",
     "output_type": "stream",
     "text": [
      "Data Science\n"
     ]
    }
   ],
   "source": [
    "str1 = 'Data'\n",
    "str2 = 'Science'\n",
    "print(str1 + ' ' + str2)"
   ]
  },
  {
   "cell_type": "code",
   "execution_count": null,
   "id": "54336810-cdea-4f9f-8da6-ca769e3ed7ef",
   "metadata": {},
   "outputs": [],
   "source": []
  },
  {
   "cell_type": "markdown",
   "id": "57e75a89-ef81-4114-aa75-f0c3939af38a",
   "metadata": {},
   "source": [
    "Python program to change the case of the strings"
   ]
  },
  {
   "cell_type": "code",
   "execution_count": 22,
   "id": "e8a7e88a-fe1f-45af-989c-90627bc34d2e",
   "metadata": {},
   "outputs": [
    {
     "name": "stdout",
     "output_type": "stream",
     "text": [
      "data\n",
      "science\n",
      "\n",
      "\n",
      "PYHTON\n",
      "PROGRAM\n"
     ]
    }
   ],
   "source": [
    "str1 = 'DATA'\n",
    "str2 = 'SCIENCE'\n",
    "print(str1.lower())\n",
    "print(str2.lower())\n",
    "\n",
    "print('\\n')\n",
    "str1 = 'pyhton'\n",
    "str2 = 'program'\n",
    "print(str1.upper())\n",
    "print(str2.upper())"
   ]
  },
  {
   "cell_type": "code",
   "execution_count": null,
   "id": "ae58c80a-00d8-471e-b892-87b1c11549f6",
   "metadata": {},
   "outputs": [],
   "source": []
  }
 ],
 "metadata": {
  "kernelspec": {
   "display_name": "Python 3 (ipykernel)",
   "language": "python",
   "name": "python3"
  },
  "language_info": {
   "codemirror_mode": {
    "name": "ipython",
    "version": 3
   },
   "file_extension": ".py",
   "mimetype": "text/x-python",
   "name": "python",
   "nbconvert_exporter": "python",
   "pygments_lexer": "ipython3",
   "version": "3.12.4"
  }
 },
 "nbformat": 4,
 "nbformat_minor": 5
}
