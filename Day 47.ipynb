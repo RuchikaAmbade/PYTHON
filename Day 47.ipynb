{
 "cells": [
  {
   "cell_type": "markdown",
   "id": "58a798aa-0fed-4006-8076-d2cf6e59a2b3",
   "metadata": {},
   "source": [
    "##### 1 WAP to check whether lowercase letters exists in a string."
   ]
  },
  {
   "cell_type": "code",
   "execution_count": 1,
   "id": "2544bc3a-490f-44dd-972d-4bf6146aafec",
   "metadata": {},
   "outputs": [
    {
     "name": "stdout",
     "output_type": "stream",
     "text": [
      "True\n"
     ]
    }
   ],
   "source": [
    "str1 = 'ABKDH3528795bsnsdsjdFSGDWD91'\n",
    "print(any(c.islower() for c in str1))"
   ]
  },
  {
   "cell_type": "markdown",
   "id": "ffcc61c3-1e0e-4751-bd75-e4c2160183eb",
   "metadata": {},
   "source": [
    "##### 2 WAP to add leaading zeros to a string"
   ]
  },
  {
   "cell_type": "code",
   "execution_count": 11,
   "id": "b0988171-5ee9-42de-89ed-f46167871d86",
   "metadata": {},
   "outputs": [
    {
     "name": "stdout",
     "output_type": "stream",
     "text": [
      "Original String: 122.22\n",
      "\n",
      "Added trailing zeros:\n",
      "122.2200\n",
      "122.220000\n",
      "\n",
      "Added leading zeros:\n",
      "00122.22\n",
      "0000122.22\n"
     ]
    }
   ],
   "source": [
    "str1 = '122.22'\n",
    "print('Original String:',str1)\n",
    "print('\\nAdded trailing zeros:')\n",
    "str1 = str1.ljust(8,'0')   \n",
    "print(str1)\n",
    "str1 = str1.ljust(10,'0')\n",
    "print(str1)\n",
    "\n",
    "print('\\nAdded leading zeros:')\n",
    "str1='122.22'\n",
    "str1 = str1.rjust(8,'0')\n",
    "print(str1)\n",
    "str1 = str1.rjust(10,'0')\n",
    "print(str1)"
   ]
  },
  {
   "cell_type": "markdown",
   "id": "65405dea-a866-48ec-a3c4-f9b39b15504b",
   "metadata": {},
   "source": [
    "##### 3 WAP that uses double quotes to display strings"
   ]
  },
  {
   "cell_type": "code",
   "execution_count": 19,
   "id": "0a29f91a-af88-46c7-adc3-db113f940f43",
   "metadata": {},
   "outputs": [
    {
     "name": "stdout",
     "output_type": "stream",
     "text": [
      "{\"Alex\": 1, \"Suresh\": 2, \"Agnessa\": 3}\n"
     ]
    }
   ],
   "source": [
    "import json\n",
    "data = {'Alex': 1, 'Suresh':2, 'Agnessa':3}\n",
    "json_string = json.dumps(data)\n",
    "print(json_string)"
   ]
  },
  {
   "cell_type": "markdown",
   "id": "6473093a-d166-4579-bb41-5c5757b1d791",
   "metadata": {},
   "source": [
    "##### 4 WAP to split a variable length string into variables."
   ]
  },
  {
   "cell_type": "code",
   "execution_count": 25,
   "id": "b70c8317-a542-48cf-9e04-c36a79269e74",
   "metadata": {},
   "outputs": [
    {
     "name": "stdout",
     "output_type": "stream",
     "text": [
      "a b c\n",
      "100 20.25\n"
     ]
    }
   ],
   "source": [
    "var_list = ['a','b','c']\n",
    "x,y,z = (var_list + [None]*3)[:3]\n",
    "print(x,y,z)\n",
    "var_list = [100,20.25]\n",
    "x,y = (var_list + [None]*2)[:2]\n",
    "print(x,y)"
   ]
  },
  {
   "cell_type": "markdown",
   "id": "11d5c6db-2901-452f-a68e-33b3d854bb4b",
   "metadata": {},
   "source": [
    "##### 5 WAP tp list the home directory without an absolute path."
   ]
  },
  {
   "cell_type": "code",
   "execution_count": 37,
   "id": "24d7bb89-6a1f-4564-9958-854a97c29756",
   "metadata": {},
   "outputs": [
    {
     "name": "stdout",
     "output_type": "stream",
     "text": [
      "C:\\Users\\ruchi\n"
     ]
    }
   ],
   "source": [
    "import os.path\n",
    "print(os.path.expanduser('~'))"
   ]
  },
  {
   "cell_type": "code",
   "execution_count": null,
   "id": "aab44838-5256-4fd3-b2a5-c5a534a7ce7a",
   "metadata": {},
   "outputs": [],
   "source": []
  }
 ],
 "metadata": {
  "kernelspec": {
   "display_name": "Python 3 (ipykernel)",
   "language": "python",
   "name": "python3"
  },
  "language_info": {
   "codemirror_mode": {
    "name": "ipython",
    "version": 3
   },
   "file_extension": ".py",
   "mimetype": "text/x-python",
   "name": "python",
   "nbconvert_exporter": "python",
   "pygments_lexer": "ipython3",
   "version": "3.12.4"
  }
 },
 "nbformat": 4,
 "nbformat_minor": 5
}
