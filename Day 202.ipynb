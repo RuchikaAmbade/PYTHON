{
 "cells": [
  {
   "cell_type": "markdown",
   "id": "f0e08029-8522-4fc7-94af-b762c4b81d11",
   "metadata": {},
   "source": [
    "Iterate through a string Using for Loop."
   ]
  },
  {
   "cell_type": "code",
   "execution_count": 4,
   "id": "bb54f7e4-b213-489b-8310-6ba283410d1d",
   "metadata": {},
   "outputs": [
    {
     "name": "stdout",
     "output_type": "stream",
     "text": [
      "['R', 'u', 'c', 'h', 'i', 'k', 'a']\n"
     ]
    }
   ],
   "source": [
    "h_letters = []\n",
    "str='Ruchika'\n",
    "for i in str:\n",
    "    h_letters.append(i)\n",
    "\n",
    "print(h_letters)"
   ]
  },
  {
   "cell_type": "code",
   "execution_count": null,
   "id": "fb4b63e2-87e2-45b8-9d84-9936c589c53f",
   "metadata": {},
   "outputs": [],
   "source": []
  },
  {
   "cell_type": "markdown",
   "id": "c4d8188d-a2c1-40ed-9a0e-b5bd2d0e5ff8",
   "metadata": {},
   "source": [
    "Iterate through a string Using List Comprehension"
   ]
  },
  {
   "cell_type": "code",
   "execution_count": 7,
   "id": "68c77f64-ae8b-4a1a-b397-c046bb15d14f",
   "metadata": {},
   "outputs": [
    {
     "name": "stdout",
     "output_type": "stream",
     "text": [
      "['R', 'u', 'c', 'h', 'i', 'k', 'a']\n"
     ]
    }
   ],
   "source": [
    "h_letters = [i for i in 'Ruchika']\n",
    "print(h_letters)"
   ]
  },
  {
   "cell_type": "code",
   "execution_count": null,
   "id": "5688aa6e-7cd1-47c4-b539-a4f54c827193",
   "metadata": {},
   "outputs": [],
   "source": []
  },
  {
   "cell_type": "markdown",
   "id": "acc9120b-6e71-427a-871f-b137186abffb",
   "metadata": {},
   "source": [
    "Write a program to check whether a number is divisible by 7 or not."
   ]
  },
  {
   "cell_type": "code",
   "execution_count": 10,
   "id": "e36f2451-1b73-43b0-9f63-420fbef7213e",
   "metadata": {},
   "outputs": [
    {
     "name": "stdin",
     "output_type": "stream",
     "text": [
      " 26\n"
     ]
    },
    {
     "name": "stdout",
     "output_type": "stream",
     "text": [
      "Number is not divisible by 7.\n"
     ]
    }
   ],
   "source": [
    "num = int(input())\n",
    "if num%7==0:\n",
    "    print('Number is divisible by 7.')\n",
    "else:\n",
    "    print('Number is not divisible by 7.')"
   ]
  },
  {
   "cell_type": "code",
   "execution_count": null,
   "id": "04e96139-7d5b-4064-b572-0e5e6c3b45bc",
   "metadata": {},
   "outputs": [],
   "source": []
  },
  {
   "cell_type": "code",
   "execution_count": null,
   "id": "82781260-c6a8-4fc2-a4d4-ed2615ada716",
   "metadata": {},
   "outputs": [],
   "source": [
    " Write a program to calculate the electricity bill (accept number of unit from user) according to the following criteria :\n",
    "             Unit                                                     Price  \n",
    "First 100 units                                               no charge\n",
    "Next 100 units                                              Rs 5 per unit\n",
    "After 200 units                                             Rs 10 per unit\n",
    "(For example if input unit is 350 than total bill amount is Rs2000)"
   ]
  },
  {
   "cell_type": "code",
   "execution_count": 12,
   "id": "0cd9d7b1-f151-4158-8797-2ea1c614a05e",
   "metadata": {},
   "outputs": [
    {
     "name": "stdin",
     "output_type": "stream",
     "text": [
      "Enter the number of electric unit : 344\n"
     ]
    },
    {
     "name": "stdout",
     "output_type": "stream",
     "text": [
      "Amount to pay : 1940\n"
     ]
    }
   ],
   "source": [
    "unit = int(input('Enter the number of electric unit :'))\n",
    "if unit<=100:\n",
    "    amt = 0\n",
    "elif unit>100 and unit<=200:\n",
    "    amt = (unit-100)*5\n",
    "elif unit>200:\n",
    "    amt = 500+(unit-200)*10\n",
    "\n",
    "print('Amount to pay :',amt)"
   ]
  },
  {
   "cell_type": "code",
   "execution_count": null,
   "id": "ff363dbb-56c9-488a-943c-0b22dfe0fde0",
   "metadata": {},
   "outputs": [],
   "source": []
  },
  {
   "cell_type": "code",
   "execution_count": null,
   "id": "f3affcff-7da1-4c6d-9545-d5db14aac5e8",
   "metadata": {},
   "outputs": [],
   "source": []
  }
 ],
 "metadata": {
  "kernelspec": {
   "display_name": "Python 3 (ipykernel)",
   "language": "python",
   "name": "python3"
  },
  "language_info": {
   "codemirror_mode": {
    "name": "ipython",
    "version": 3
   },
   "file_extension": ".py",
   "mimetype": "text/x-python",
   "name": "python",
   "nbconvert_exporter": "python",
   "pygments_lexer": "ipython3",
   "version": "3.12.4"
  }
 },
 "nbformat": 4,
 "nbformat_minor": 5
}
