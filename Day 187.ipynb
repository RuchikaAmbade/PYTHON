{
 "cells": [
  {
   "cell_type": "markdown",
   "id": "93cc160c-aad1-428e-a492-631e5931b0a2",
   "metadata": {},
   "source": [
    "Python code to remove all duplicates from a given string in Python"
   ]
  },
  {
   "cell_type": "code",
   "execution_count": 1,
   "id": "f5abb7c3-2441-4843-920f-528ca1743964",
   "metadata": {},
   "outputs": [
    {
     "name": "stdout",
     "output_type": "stream",
     "text": [
      "Datisvl\n"
     ]
    }
   ],
   "source": [
    "str = \"Dataisvital\"\n",
    "new_str = \"\"\n",
    "for i in str:\n",
    "    if i not in new_str:\n",
    "        new_str=new_str+i\n",
    "\n",
    "print(new_str)"
   ]
  },
  {
   "cell_type": "code",
   "execution_count": null,
   "id": "b7af3320-0bc1-4c8a-8819-80bcd7f1b2d9",
   "metadata": {},
   "outputs": [],
   "source": []
  }
 ],
 "metadata": {
  "kernelspec": {
   "display_name": "Python 3 (ipykernel)",
   "language": "python",
   "name": "python3"
  },
  "language_info": {
   "codemirror_mode": {
    "name": "ipython",
    "version": 3
   },
   "file_extension": ".py",
   "mimetype": "text/x-python",
   "name": "python",
   "nbconvert_exporter": "python",
   "pygments_lexer": "ipython3",
   "version": "3.12.4"
  }
 },
 "nbformat": 4,
 "nbformat_minor": 5
}
