{
 "cells": [
  {
   "cell_type": "markdown",
   "id": "a4e61275-d28b-4881-a03c-c29be0e722b2",
   "metadata": {},
   "source": [
    "##### WAP to reverse a string"
   ]
  },
  {
   "cell_type": "code",
   "execution_count": 7,
   "id": "165fa1c3-e872-441f-8c07-53e3ba930cb2",
   "metadata": {},
   "outputs": [
    {
     "name": "stdout",
     "output_type": "stream",
     "text": [
      "dlrow_olleH\n"
     ]
    }
   ],
   "source": [
    "input_string = 'Hello_world'\n",
    "reversed_string = input_string[::-1]\n",
    "print(reversed_string)"
   ]
  },
  {
   "cell_type": "markdown",
   "id": "9d4340f5-f8b9-4c0b-bb7d-3789044a8861",
   "metadata": {},
   "source": [
    "##### WAP to count vowels in a string"
   ]
  },
  {
   "cell_type": "code",
   "execution_count": 10,
   "id": "bc0cb648-02e1-4052-8073-a3602b28930c",
   "metadata": {},
   "outputs": [
    {
     "name": "stdout",
     "output_type": "stream",
     "text": [
      "3\n"
     ]
    }
   ],
   "source": [
    "s=\"Hello_world\"\n",
    "count = 0\n",
    "vowels = 'aeiouAEIOU'\n",
    "for char in s:\n",
    "    if char in vowels:\n",
    "        count+=1\n",
    "print(count)"
   ]
  },
  {
   "cell_type": "markdown",
   "id": "14e5ad86-65c0-4f02-942e-b93c7795e3a4",
   "metadata": {},
   "source": [
    "##### WAP to find factorial of a number"
   ]
  },
  {
   "cell_type": "code",
   "execution_count": 15,
   "id": "85877df0-4a34-47da-be82-1cc490ac4010",
   "metadata": {},
   "outputs": [
    {
     "name": "stdout",
     "output_type": "stream",
     "text": [
      "Factorial of  5 is 120\n"
     ]
    }
   ],
   "source": [
    "num = 5\n",
    "factorial = 1\n",
    "\n",
    "if num < 0:\n",
    "    print('Factorial is not defined for negative numbers.')\n",
    "elif num == 0:\n",
    "    print('Factorial of zero is 1')\n",
    "else:\n",
    "    for i in range(1,num+1):\n",
    "        factorial *= i\n",
    "    print('Factorial of ',num,'is',factorial)"
   ]
  },
  {
   "cell_type": "code",
   "execution_count": null,
   "id": "8d83cb9f-7770-4518-a030-84b2f7b090ce",
   "metadata": {},
   "outputs": [],
   "source": []
  }
 ],
 "metadata": {
  "kernelspec": {
   "display_name": "Python 3 (ipykernel)",
   "language": "python",
   "name": "python3"
  },
  "language_info": {
   "codemirror_mode": {
    "name": "ipython",
    "version": 3
   },
   "file_extension": ".py",
   "mimetype": "text/x-python",
   "name": "python",
   "nbconvert_exporter": "python",
   "pygments_lexer": "ipython3",
   "version": "3.12.4"
  }
 },
 "nbformat": 4,
 "nbformat_minor": 5
}
