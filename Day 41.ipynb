{
 "cells": [
  {
   "cell_type": "code",
   "execution_count": 3,
   "id": "33733b9e-caaa-410c-b1ea-afe453010c89",
   "metadata": {},
   "outputs": [],
   "source": [
    "##### 1 WAP to to find the available built-in modules"
   ]
  },
  {
   "cell_type": "code",
   "execution_count": 7,
   "id": "3777a050-4f8e-4e2f-bbbf-e09a7dabeed6",
   "metadata": {},
   "outputs": [
    {
     "name": "stdout",
     "output_type": "stream",
     "text": [
      "_abc,_ast,_bisect,_blake2,_codecs,_codecs_cn,_codecs_hk,_codecs_iso2022,_codecs_jp,_codecs_kr,_codec\n",
      "s_tw,_collections,_contextvars,_csv,_datetime,_functools,_heapq,_imp,_io,_json,_locale,_lsprof,_md5,\n",
      "_multibytecodec,_opcode,_operator,_pickle,_random,_sha1,_sha2,_sha3,_signal,_sre,_stat,_statistics,_\n",
      "string,_struct,_symtable,_thread,_tokenize,_tracemalloc,_typing,_warnings,_weakref,_winapi,_xxinterp\n",
      "channels,_xxsubinterpreters,array,atexit,audioop,binascii,builtins,cmath,errno,faulthandler,gc,itert\n",
      "ools,marshal,math,mmap,msvcrt,nt,sys,time,winreg,xxsubtype,zlib\n"
     ]
    }
   ],
   "source": [
    "import sys\n",
    "import textwrap\n",
    "module_name = ','.join(sorted(sys.builtin_module_names))\n",
    "print(textwrap.fill(module_name,width=100))"
   ]
  },
  {
   "cell_type": "code",
   "execution_count": 11,
   "id": "072e5901-cfd8-46e7-aead-8b853442d106",
   "metadata": {},
   "outputs": [],
   "source": [
    "##### 2 WAP to concatenate N strings"
   ]
  },
  {
   "cell_type": "code",
   "execution_count": 9,
   "id": "437b63ae-2575-4028-93d1-4b9019d30525",
   "metadata": {},
   "outputs": [
    {
     "name": "stdout",
     "output_type": "stream",
     "text": [
      "All Colors:Red-White-Black\n",
      "\n"
     ]
    }
   ],
   "source": [
    "list1=['Red','White','Black']\n",
    "colors = '-'.join(list1)\n",
    "print('All Colors:'+ colors)\n",
    "print()"
   ]
  },
  {
   "cell_type": "code",
   "execution_count": 15,
   "id": "5558c521-c95a-4d78-a2d5-49723b979d95",
   "metadata": {},
   "outputs": [],
   "source": [
    "##### 3 WAP to calculate the sum of all items of a container(tuple,list,set,dictionary)"
   ]
  },
  {
   "cell_type": "code",
   "execution_count": 13,
   "id": "0bf17817-fc43-4cf6-addb-ef315d8a1617",
   "metadata": {},
   "outputs": [
    {
     "name": "stdout",
     "output_type": "stream",
     "text": [
      "\n",
      "Sum of the container: 60\n",
      "\n"
     ]
    }
   ],
   "source": [
    "s=sum([10,20,30])\n",
    "print('\\nSum of the container:',s)\n",
    "print()"
   ]
  },
  {
   "cell_type": "code",
   "execution_count": 21,
   "id": "11347011-5a32-4c48-9bc7-2dd21caa3554",
   "metadata": {},
   "outputs": [],
   "source": [
    "##### 4 WAP to test whether all numbers in a list are greater thana certain number"
   ]
  },
  {
   "cell_type": "code",
   "execution_count": 19,
   "id": "772893b5-3e33-4ea3-888f-29e87aa12c53",
   "metadata": {},
   "outputs": [
    {
     "name": "stdout",
     "output_type": "stream",
     "text": [
      "False\n",
      "True\n"
     ]
    }
   ],
   "source": [
    "list1=[4,5,7,9]\n",
    "print(all(x>10 for x in list1))\n",
    "print(all(x<15 for x in list1))"
   ]
  },
  {
   "cell_type": "code",
   "execution_count": 33,
   "id": "e4b8482c-c1ff-48a3-a870-e9ab65217038",
   "metadata": {},
   "outputs": [],
   "source": [
    "##### 5 WAP to count the number of occurances of a specific character in a string"
   ]
  },
  {
   "cell_type": "code",
   "execution_count": 31,
   "id": "e1453dbd-76e8-44fc-967e-1bc63f796c26",
   "metadata": {},
   "outputs": [
    {
     "name": "stdout",
     "output_type": "stream",
     "text": [
      "3\n"
     ]
    }
   ],
   "source": [
    "s1='This is a test sting.'\n",
    "count=0\n",
    "for ch in s1:\n",
    "    if ch=='i':\n",
    "        count+=1\n",
    "print(count)"
   ]
  },
  {
   "cell_type": "code",
   "execution_count": null,
   "id": "8cd6d9eb-46a4-4474-8a78-3bbe350834bd",
   "metadata": {},
   "outputs": [],
   "source": []
  }
 ],
 "metadata": {
  "kernelspec": {
   "display_name": "Python 3 (ipykernel)",
   "language": "python",
   "name": "python3"
  },
  "language_info": {
   "codemirror_mode": {
    "name": "ipython",
    "version": 3
   },
   "file_extension": ".py",
   "mimetype": "text/x-python",
   "name": "python",
   "nbconvert_exporter": "python",
   "pygments_lexer": "ipython3",
   "version": "3.12.4"
  }
 },
 "nbformat": 4,
 "nbformat_minor": 5
}
