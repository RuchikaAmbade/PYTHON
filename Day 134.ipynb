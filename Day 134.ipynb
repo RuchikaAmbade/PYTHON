{
 "cells": [
  {
   "cell_type": "code",
   "execution_count": 1,
   "id": "a70e9fab-7afe-4f2d-a168-e8587ea7e397",
   "metadata": {},
   "outputs": [
    {
     "name": "stdin",
     "output_type": "stream",
     "text": [
      "Enter values of side 4\n"
     ]
    },
    {
     "name": "stdout",
     "output_type": "stream",
     "text": [
      "Area of square is : 16\n"
     ]
    }
   ],
   "source": [
    "# Area of square\n",
    "\n",
    "side = int(input('Enter values of side'))\n",
    "area = side*side\n",
    "print('Area of square is :',area)"
   ]
  },
  {
   "cell_type": "code",
   "execution_count": 3,
   "id": "36d79c81-0257-49e1-85ef-9f0725a442bb",
   "metadata": {},
   "outputs": [
    {
     "name": "stdin",
     "output_type": "stream",
     "text": [
      "Enter value of base 17\n",
      "Enter value of height 4\n"
     ]
    },
    {
     "name": "stdout",
     "output_type": "stream",
     "text": [
      "Area of a triangle is : 34.0\n"
     ]
    }
   ],
   "source": [
    "# Area of triangle\n",
    "\n",
    "base = int(input('Enter value of base'))\n",
    "height = int(input('Enter value of height'))\n",
    "area = (base*height)/2\n",
    "print('Area of a triangle is :',area)"
   ]
  },
  {
   "cell_type": "code",
   "execution_count": null,
   "id": "9ec56afa-d50d-4892-b30c-2d0319ff79b6",
   "metadata": {},
   "outputs": [],
   "source": []
  }
 ],
 "metadata": {
  "kernelspec": {
   "display_name": "Python 3 (ipykernel)",
   "language": "python",
   "name": "python3"
  },
  "language_info": {
   "codemirror_mode": {
    "name": "ipython",
    "version": 3
   },
   "file_extension": ".py",
   "mimetype": "text/x-python",
   "name": "python",
   "nbconvert_exporter": "python",
   "pygments_lexer": "ipython3",
   "version": "3.12.4"
  }
 },
 "nbformat": 4,
 "nbformat_minor": 5
}
