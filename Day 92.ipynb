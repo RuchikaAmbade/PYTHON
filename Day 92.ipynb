{
 "cells": [
  {
   "cell_type": "markdown",
   "id": "8fac945f-3d94-4f30-bedb-d3e64e977e54",
   "metadata": {},
   "source": [
    "##### 1 Find the mean of each row in a 2D list."
   ]
  },
  {
   "cell_type": "code",
   "execution_count": 3,
   "id": "4fbac2f7-8776-4bc6-ad28-22f458b1e677",
   "metadata": {},
   "outputs": [
    {
     "data": {
      "text/plain": [
       "[0.45338570411990525, 0.5591422859481984, 0.6125565594377727]"
      ]
     },
     "execution_count": 3,
     "metadata": {},
     "output_type": "execute_result"
    }
   ],
   "source": [
    "import random\n",
    "matrix = [[random.random() for _ in range(3)] for _ in range(3)]\n",
    "row_means = [sum(row)/len(row) for row in matrix]\n",
    "row_means"
   ]
  },
  {
   "cell_type": "markdown",
   "id": "4156cd9a-51fe-437f-b51b-0fd5743e2d53",
   "metadata": {},
   "source": [
    "##### 2 Create a random 4x4 list of lists and extract the diagonal elements."
   ]
  },
  {
   "cell_type": "code",
   "execution_count": 15,
   "id": "a339b623-76dc-4c5b-a98e-d10a54d64eb5",
   "metadata": {},
   "outputs": [
    {
     "data": {
      "text/plain": [
       "[0.28750561711038747,\n",
       " 0.8175692764328376,\n",
       " 0.9084368306714917,\n",
       " 0.1655801404367947]"
      ]
     },
     "execution_count": 15,
     "metadata": {},
     "output_type": "execute_result"
    }
   ],
   "source": [
    "import random\n",
    "matrix = [[random.random() for _ in range(4)] for _ in range(4)]\n",
    "diagonal_elements = [matrix[i][i] for i in range(4)]\n",
    "diagonal_elements"
   ]
  },
  {
   "cell_type": "markdown",
   "id": "26f855c2-d950-4920-bd48-2a38e352a64b",
   "metadata": {},
   "source": [
    "##### 3 Count the number of occurences of a specific value in a list."
   ]
  },
  {
   "cell_type": "code",
   "execution_count": 20,
   "id": "84fec052-73bc-4227-a2bb-d22a07aa5dee",
   "metadata": {},
   "outputs": [
    {
     "name": "stdout",
     "output_type": "stream",
     "text": [
      "3\n"
     ]
    }
   ],
   "source": [
    "lst = [1,4,8,7,4,9,4]\n",
    "count_of_4 = lst.count(4)\n",
    "print(count_of_4)"
   ]
  },
  {
   "cell_type": "markdown",
   "id": "a86456e9-1488-4086-8add-b87e8f75eb75",
   "metadata": {},
   "source": [
    "##### 4 Replace all values in a list with the mean of the list."
   ]
  },
  {
   "cell_type": "code",
   "execution_count": 31,
   "id": "1fe304f8-fe0e-44b5-a8d6-1bc95a7c75fa",
   "metadata": {},
   "outputs": [
    {
     "name": "stdout",
     "output_type": "stream",
     "text": [
      "[30.0, 30.0, 30.0, 30.0, 30.0]\n"
     ]
    }
   ],
   "source": [
    "lst = [10,20,30,40,50]\n",
    "mean_val = sum(lst)/len(lst)\n",
    "lst1=[mean_val] * len(lst)\n",
    "print(lst1)"
   ]
  },
  {
   "cell_type": "markdown",
   "id": "33d891ca-9cf7-4567-8d19-8359f4792ced",
   "metadata": {},
   "source": [
    "##### 5 Find the indices of the maximum and minimum values in a list."
   ]
  },
  {
   "cell_type": "code",
   "execution_count": 36,
   "id": "99abb435-cba5-41ec-baa5-cd4b804919f6",
   "metadata": {},
   "outputs": [
    {
     "name": "stdout",
     "output_type": "stream",
     "text": [
      "Index of max : 2\n",
      "Index of min : 3\n"
     ]
    }
   ],
   "source": [
    "lst = [5,2,8,1,7]\n",
    "max_index = lst.index(max(lst))\n",
    "min_index = lst.index(min(lst))\n",
    "print(\"Index of max :\",max_index)\n",
    "print(\"Index of min :\",min_index)"
   ]
  },
  {
   "cell_type": "code",
   "execution_count": null,
   "id": "e2ec2a3d-de97-45b0-976d-0f5a977db08d",
   "metadata": {},
   "outputs": [],
   "source": []
  }
 ],
 "metadata": {
  "kernelspec": {
   "display_name": "Python 3 (ipykernel)",
   "language": "python",
   "name": "python3"
  },
  "language_info": {
   "codemirror_mode": {
    "name": "ipython",
    "version": 3
   },
   "file_extension": ".py",
   "mimetype": "text/x-python",
   "name": "python",
   "nbconvert_exporter": "python",
   "pygments_lexer": "ipython3",
   "version": "3.12.4"
  }
 },
 "nbformat": 4,
 "nbformat_minor": 5
}
