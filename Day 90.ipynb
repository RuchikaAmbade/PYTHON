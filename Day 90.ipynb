{
 "cells": [
  {
   "cell_type": "markdown",
   "id": "515cda98-1975-4245-bf5a-a81d23ac667f",
   "metadata": {},
   "source": [
    "##### 1 WAP to reverse a list."
   ]
  },
  {
   "cell_type": "code",
   "execution_count": 41,
   "id": "6267b06d-fc5e-4648-9a41-da7f3f5fe345",
   "metadata": {},
   "outputs": [
    {
     "data": {
      "text/plain": [
       "[5, 4, 3, 2, 1]"
      ]
     },
     "execution_count": 41,
     "metadata": {},
     "output_type": "execute_result"
    }
   ],
   "source": [
    "lst=[1,2,3,4,5]\n",
    "reversed_lit = lst[::-1]\n",
    "reversed_lit"
   ]
  },
  {
   "cell_type": "markdown",
   "id": "34a9262e-1b8d-4c97-bad1-8defdbf2bef9",
   "metadata": {},
   "source": [
    "##### 2 WAP to create a 3x3 identity matrix as a list of list"
   ]
  },
  {
   "cell_type": "code",
   "execution_count": 10,
   "id": "047255ce-778f-4607-97b3-d4404f673726",
   "metadata": {},
   "outputs": [
    {
     "name": "stdout",
     "output_type": "stream",
     "text": [
      "[[1, 0, 0], [0, 1, 0], [0, 0, 1]]\n"
     ]
    }
   ],
   "source": [
    "identity_matrix = [[1 if i==j else 0 for j in range(3)] for i in range(3)]\n",
    "print(identity_matrix)"
   ]
  },
  {
   "cell_type": "markdown",
   "id": "c4e95fcc-5c57-4ebf-973e-f5ab74f19a4b",
   "metadata": {},
   "source": [
    "##### 3 Reshape a 1D list to a 2D list with 2 rows."
   ]
  },
  {
   "cell_type": "code",
   "execution_count": 1,
   "id": "67b15725-42b9-46d6-831d-3e489cc732ac",
   "metadata": {},
   "outputs": [
    {
     "data": {
      "text/plain": [
       "[[0, 1, 2, 3, 4], [5, 6, 7, 8, 9]]"
      ]
     },
     "execution_count": 1,
     "metadata": {},
     "output_type": "execute_result"
    }
   ],
   "source": [
    "list1 = list(range(10))\n",
    "reshaped_lst = [list1[:5],list1[5:]]\n",
    "reshaped_lst"
   ]
  },
  {
   "cell_type": "markdown",
   "id": "cc46c047-6ef2-4665-9229-6b776f0a5414",
   "metadata": {},
   "source": [
    "##### 4 Stack two lists vertically. "
   ]
  },
  {
   "cell_type": "code",
   "execution_count": 7,
   "id": "dd80bddc-a609-42d4-819b-a4688ab34ad8",
   "metadata": {},
   "outputs": [
    {
     "name": "stdout",
     "output_type": "stream",
     "text": [
      "[[1, 2, 3], [4, 5, 6]]\n"
     ]
    }
   ],
   "source": [
    "list1=[1,2,3]\n",
    "list2=[4,5,6]\n",
    "stacked_list = [list1,list2]\n",
    "print(stacked_list)"
   ]
  },
  {
   "cell_type": "markdown",
   "id": "7cd91944-3888-4060-8eb0-2f6750e53cf8",
   "metadata": {},
   "source": [
    "##### 5 Get the common items between two lists."
   ]
  },
  {
   "cell_type": "code",
   "execution_count": 12,
   "id": "fc1138cb-48ea-4b71-9af5-feca4c8feced",
   "metadata": {},
   "outputs": [
    {
     "name": "stdout",
     "output_type": "stream",
     "text": [
      "[3, 4, 5]\n"
     ]
    }
   ],
   "source": [
    "lst1=[1,2,3,4,5]\n",
    "lst2=[3,4,5,6,7]\n",
    "common_items = list(set(lst1) & set(lst2))\n",
    "print(common_items)"
   ]
  },
  {
   "cell_type": "code",
   "execution_count": null,
   "id": "23af0e17-0f85-4523-867b-f8675549ed92",
   "metadata": {},
   "outputs": [],
   "source": []
  }
 ],
 "metadata": {
  "kernelspec": {
   "display_name": "Python 3 (ipykernel)",
   "language": "python",
   "name": "python3"
  },
  "language_info": {
   "codemirror_mode": {
    "name": "ipython",
    "version": 3
   },
   "file_extension": ".py",
   "mimetype": "text/x-python",
   "name": "python",
   "nbconvert_exporter": "python",
   "pygments_lexer": "ipython3",
   "version": "3.12.4"
  }
 },
 "nbformat": 4,
 "nbformat_minor": 5
}
