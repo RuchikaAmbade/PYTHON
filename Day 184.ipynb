{
 "cells": [
  {
   "cell_type": "markdown",
   "id": "7ad9d7cd-6bc8-4506-b07a-23d69ebb8a5c",
   "metadata": {},
   "source": [
    "Python program to generate the prime numbers from 1 to N"
   ]
  },
  {
   "cell_type": "code",
   "execution_count": 23,
   "id": "a722296f-c0ec-43bf-9137-bc47b3aca3cd",
   "metadata": {},
   "outputs": [
    {
     "name": "stdin",
     "output_type": "stream",
     "text": [
      "Enter the range: 10\n"
     ]
    },
    {
     "name": "stdout",
     "output_type": "stream",
     "text": [
      "2\n",
      "3\n",
      "5\n",
      "7\n"
     ]
    }
   ],
   "source": [
    "N=int(input('Enter the range:'))\n",
    "for n in range(1,N):\n",
    "    if n>1:\n",
    "        for i in range(2,n):\n",
    "            if n%i==0:\n",
    "                break\n",
    "        else:\n",
    "            print(n)"
   ]
  },
  {
   "cell_type": "code",
   "execution_count": null,
   "id": "39b2f909-c107-4ebe-b140-7edc4d2d1d81",
   "metadata": {},
   "outputs": [],
   "source": []
  },
  {
   "cell_type": "markdown",
   "id": "681aea56-581a-4e31-ae59-4022d022d7cd",
   "metadata": {},
   "source": [
    "Python program to find the odd numbers in the list"
   ]
  },
  {
   "cell_type": "code",
   "execution_count": 21,
   "id": "c0a4e1e9-b66e-499d-bbab-4ad2a9026deb",
   "metadata": {},
   "outputs": [
    {
     "name": "stdout",
     "output_type": "stream",
     "text": [
      "The number of odd numbers in the list are: 4\n"
     ]
    }
   ],
   "source": [
    "numbers = [8,3,1,6,2,4,5,9]\n",
    "count=0\n",
    "for i in numbers:\n",
    "    if i%2!=0:\n",
    "        count+=1\n",
    "print('The number of odd numbers in the list are:',count)"
   ]
  },
  {
   "cell_type": "code",
   "execution_count": null,
   "id": "0cbc9481-c604-404e-be39-a82362533eb5",
   "metadata": {},
   "outputs": [],
   "source": []
  },
  {
   "cell_type": "markdown",
   "id": "18da877e-f62b-446c-b2b1-7cc7e1135e2d",
   "metadata": {},
   "source": [
    "Python program to find the largest number in a list without using built-in functions"
   ]
  },
  {
   "cell_type": "code",
   "execution_count": 25,
   "id": "cc2c29f1-4bcc-4392-91dc-cd57c7a3986c",
   "metadata": {},
   "outputs": [
    {
     "name": "stdout",
     "output_type": "stream",
     "text": [
      "9\n"
     ]
    }
   ],
   "source": [
    "numbers = [3,8,1,7,2,9,5,4]\n",
    "max_num = numbers[0]\n",
    "for i in numbers:\n",
    "    if i>max_num:\n",
    "        max_num = i\n",
    "\n",
    "print(max_num)"
   ]
  },
  {
   "cell_type": "code",
   "execution_count": null,
   "id": "18306c3b-d4ad-4c04-af6c-0ee353c47c85",
   "metadata": {},
   "outputs": [],
   "source": []
  },
  {
   "cell_type": "markdown",
   "id": "4c48cf0d-75c6-4e3a-afc5-228bbdaa10ff",
   "metadata": {},
   "source": [
    "Python program to insert a number to any position in a list"
   ]
  },
  {
   "cell_type": "code",
   "execution_count": 33,
   "id": "bb77a048-08f7-4651-980b-abc89b37cf1f",
   "metadata": {},
   "outputs": [
    {
     "name": "stdout",
     "output_type": "stream",
     "text": [
      "[3, 4, 1, 9, 6, 2, 8]\n"
     ]
    },
    {
     "name": "stdin",
     "output_type": "stream",
     "text": [
      "Enter the number to be inserted in a list: 10\n",
      "Enter the position : 3\n"
     ]
    },
    {
     "name": "stdout",
     "output_type": "stream",
     "text": [
      "[3, 4, 1, 10, 9, 6, 2, 8]\n"
     ]
    }
   ],
   "source": [
    "numbers = [3,4,1,9,6,2,8]\n",
    "print(numbers)\n",
    "x = int(input(\"Enter the number to be inserted in a list:\"))\n",
    "y = int(input('Enter the position :'))\n",
    "numbers.insert(y,x)\n",
    "print(numbers)"
   ]
  },
  {
   "cell_type": "code",
   "execution_count": null,
   "id": "05dc4651-baf7-4367-8ea6-5d258601f41b",
   "metadata": {},
   "outputs": [],
   "source": []
  },
  {
   "cell_type": "markdown",
   "id": "44f9de46-d5b8-48ce-9475-0c93d9bc171a",
   "metadata": {},
   "source": [
    "Python program to delete an element from a list by index"
   ]
  },
  {
   "cell_type": "code",
   "execution_count": 39,
   "id": "ba4a84d9-dd4b-4e7e-8d9d-3d3857f09af8",
   "metadata": {},
   "outputs": [
    {
     "name": "stdout",
     "output_type": "stream",
     "text": [
      "[3, 4, 1, 9, 6, 2, 8]\n"
     ]
    },
    {
     "name": "stdin",
     "output_type": "stream",
     "text": [
      "Enter position of element to be deleted from the list: 3\n"
     ]
    },
    {
     "name": "stdout",
     "output_type": "stream",
     "text": [
      "[3, 4, 1, 6, 2, 8]\n"
     ]
    }
   ],
   "source": [
    "numbers = [3,4,1,9,6,2,8]\n",
    "print(numbers)\n",
    "x=int(input('Enter position of element to be deleted from the list:'))\n",
    "numbers.pop(x)\n",
    "print(numbers)"
   ]
  },
  {
   "cell_type": "code",
   "execution_count": null,
   "id": "901d5355-9972-4c1c-a7e9-ab48dc36ff47",
   "metadata": {},
   "outputs": [],
   "source": []
  },
  {
   "cell_type": "markdown",
   "id": "919eb943-9c27-492a-bd24-e5ed37ca7c2f",
   "metadata": {},
   "source": [
    "Python program to check whether a string is palindrome or not"
   ]
  },
  {
   "cell_type": "code",
   "execution_count": 47,
   "id": "5a8ca86f-540e-45e0-8702-b3e9d8c62d1e",
   "metadata": {},
   "outputs": [
    {
     "name": "stdin",
     "output_type": "stream",
     "text": [
      " mom\n"
     ]
    },
    {
     "name": "stdout",
     "output_type": "stream",
     "text": [
      "The sting is palindrome.\n"
     ]
    }
   ],
   "source": [
    "word = str(input())\n",
    "rev_word = word[::-1]\n",
    "if word==rev_word:\n",
    "    print('The sting is palindrome.')\n",
    "else:\n",
    "    print('The sing is not palindrome.')"
   ]
  },
  {
   "cell_type": "code",
   "execution_count": null,
   "id": "df7386f0-c43b-49dc-bbba-3e18e8d325e7",
   "metadata": {},
   "outputs": [],
   "source": []
  },
  {
   "cell_type": "markdown",
   "id": "7fde2f76-73aa-43b4-b9c9-b514f5408ddb",
   "metadata": {},
   "source": [
    "Write a Python program to extend a list without append()/extend()."
   ]
  },
  {
   "cell_type": "code",
   "execution_count": 49,
   "id": "2aa983ca-2ea2-4d52-bd14-e099cd2f4372",
   "metadata": {},
   "outputs": [
    {
     "name": "stdout",
     "output_type": "stream",
     "text": [
      "[40, 50, 60, 10, 20, 30]\n"
     ]
    }
   ],
   "source": [
    "x = [10, 20, 30]\n",
    "y = [40, 50, 60]\n",
    "x[:0]=y\n",
    "print(x)"
   ]
  },
  {
   "cell_type": "code",
   "execution_count": 51,
   "id": "b0669646-5c44-4c49-b47c-0ac30793774b",
   "metadata": {},
   "outputs": [
    {
     "name": "stdout",
     "output_type": "stream",
     "text": [
      "[10, 20, 30, 40, 50, 60]\n"
     ]
    }
   ],
   "source": [
    "# or\n",
    "x = [10, 20, 30]\n",
    "y = [40, 50, 60]\n",
    "x[len(x):]=y\n",
    "print(x)"
   ]
  },
  {
   "cell_type": "code",
   "execution_count": null,
   "id": "4eff9237-0ed3-48eb-babc-f1c41c88df27",
   "metadata": {},
   "outputs": [],
   "source": []
  },
  {
   "cell_type": "markdown",
   "id": "fbb37ba6-b20c-458d-9e74-7aad0f53d60c",
   "metadata": {},
   "source": [
    "Python program to printsquare pattern with * symbols"
   ]
  },
  {
   "cell_type": "code",
   "execution_count": 61,
   "id": "74f5d2ba-f7ad-469c-af93-b96b5374d29a",
   "metadata": {},
   "outputs": [
    {
     "name": "stdout",
     "output_type": "stream",
     "text": [
      "* * * * * \n",
      "* * * * * \n",
      "* * * * * \n",
      "* * * * * \n",
      "* * * * * \n"
     ]
    }
   ],
   "source": [
    "n=5\n",
    "for i in range(n):\n",
    "    for j in range(n):\n",
    "        print('*',end=' ')\n",
    "    print()"
   ]
  },
  {
   "cell_type": "code",
   "execution_count": null,
   "id": "e6574af6-6c20-4997-9042-a361121d8991",
   "metadata": {},
   "outputs": [],
   "source": []
  },
  {
   "cell_type": "markdown",
   "id": "c27989cb-4c4c-4bf7-b558-4a4a1252d5d2",
   "metadata": {},
   "source": [
    "Python program to print square pattern with digit in every row"
   ]
  },
  {
   "cell_type": "code",
   "execution_count": 87,
   "id": "7d497f6c-36e9-4ae8-bb85-a6478619ff95",
   "metadata": {},
   "outputs": [
    {
     "name": "stdout",
     "output_type": "stream",
     "text": [
      "1 2 3 4 5 \n",
      "2 2 3 4 5 \n",
      "3 3 3 4 5 \n",
      "4 4 4 4 5 \n",
      "5 5 5 5 5 \n"
     ]
    }
   ],
   "source": [
    "n=5\n",
    "for i in range(1,n+1):\n",
    "    for j in range(1,n+1):\n",
    "        if j<=i:\n",
    "            print(i,end=' ')\n",
    "        else:\n",
    "            print(j,end=' ')\n",
    "    print()"
   ]
  },
  {
   "cell_type": "code",
   "execution_count": null,
   "id": "bcdc9d50-2ecd-4be3-b79a-44cff20c3533",
   "metadata": {},
   "outputs": [],
   "source": []
  },
  {
   "cell_type": "markdown",
   "id": "15901473-c110-4015-a88f-b63997e1e12f",
   "metadata": {},
   "source": [
    "Python program to print Pyramid pattern with + symbols"
   ]
  },
  {
   "cell_type": "code",
   "execution_count": 77,
   "id": "0305d1b7-0d0f-4113-9936-b1131b3aeea4",
   "metadata": {},
   "outputs": [
    {
     "name": "stdout",
     "output_type": "stream",
     "text": [
      "     + \n",
      "    + + \n",
      "   + + + \n",
      "  + + + + \n",
      " + + + + + \n"
     ]
    }
   ],
   "source": [
    "n=5\n",
    "for i in range(1,n+1):\n",
    "    for j in range(i,n+1):\n",
    "        print(' ',end='')\n",
    "    for j in range(1,i+1):\n",
    "        print('+',end=' ')\n",
    "    print()"
   ]
  },
  {
   "cell_type": "code",
   "execution_count": null,
   "id": "50b97328-491a-48a2-8df3-456c99a115eb",
   "metadata": {},
   "outputs": [],
   "source": []
  }
 ],
 "metadata": {
  "kernelspec": {
   "display_name": "Python 3 (ipykernel)",
   "language": "python",
   "name": "python3"
  },
  "language_info": {
   "codemirror_mode": {
    "name": "ipython",
    "version": 3
   },
   "file_extension": ".py",
   "mimetype": "text/x-python",
   "name": "python",
   "nbconvert_exporter": "python",
   "pygments_lexer": "ipython3",
   "version": "3.12.4"
  }
 },
 "nbformat": 4,
 "nbformat_minor": 5
}
