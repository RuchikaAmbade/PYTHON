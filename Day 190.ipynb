{
 "cells": [
  {
   "cell_type": "markdown",
   "id": "d5940f13-56de-4852-8641-4b98aa660d96",
   "metadata": {},
   "source": [
    "Python program to replace a part of string with another"
   ]
  },
  {
   "cell_type": "code",
   "execution_count": 2,
   "id": "1ca97ff6-9321-419f-8544-a91a060b4b14",
   "metadata": {},
   "outputs": [
    {
     "name": "stdout",
     "output_type": "stream",
     "text": [
      "Hi my name is John\n"
     ]
    }
   ],
   "source": [
    "a='Hi my name is Robert'\n",
    "b=a.replace('Robert','John')\n",
    "print(b)"
   ]
  },
  {
   "cell_type": "code",
   "execution_count": null,
   "id": "1397fe74-7a78-431b-99c1-26ecf007c76d",
   "metadata": {},
   "outputs": [],
   "source": []
  }
 ],
 "metadata": {
  "kernelspec": {
   "display_name": "Python 3 (ipykernel)",
   "language": "python",
   "name": "python3"
  },
  "language_info": {
   "codemirror_mode": {
    "name": "ipython",
    "version": 3
   },
   "file_extension": ".py",
   "mimetype": "text/x-python",
   "name": "python",
   "nbconvert_exporter": "python",
   "pygments_lexer": "ipython3",
   "version": "3.12.4"
  }
 },
 "nbformat": 4,
 "nbformat_minor": 5
}
