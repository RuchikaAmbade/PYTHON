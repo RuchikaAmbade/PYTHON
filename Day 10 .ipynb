{
 "cells": [
  {
   "cell_type": "markdown",
   "id": "f3a360cc-bdb2-44ca-b283-cd11081b59d6",
   "metadata": {},
   "source": [
    "#### 1 WAP to accept the electric units from the user and caculate the bill according to the following rates\n",
    "##### first 100 units: Free\n",
    "##### Next 200 units: Rs 2 per day\n",
    "##### Above 300 units: Rs 5 per day"
   ]
  },
  {
   "cell_type": "code",
   "execution_count": 5,
   "id": "5c50ca2d-11ce-4cb4-864d-181a074a441b",
   "metadata": {},
   "outputs": [
    {
     "name": "stdin",
     "output_type": "stream",
     "text": [
      "Enter units 700\n"
     ]
    },
    {
     "name": "stdout",
     "output_type": "stream",
     "text": [
      "2400\n"
     ]
    }
   ],
   "source": [
    "units=int(input(\"Enter units\"))\n",
    "Bill=0\n",
    "if units<=100:\n",
    "    Bill=0\n",
    "    print(Bill)\n",
    "elif units>100 and units<=300:\n",
    "    Bill=(num-100)*2\n",
    "    print(Bill)\n",
    "elif units>300:\n",
    "    Bill=400+(units-300)*5\n",
    "    print(Bill)"
   ]
  },
  {
   "cell_type": "markdown",
   "id": "bc73d2b8-280d-402d-9adb-6baa383132f2",
   "metadata": {},
   "source": [
    "#### 2 Accept the number of days from the user and calculate the charge for library according to the following:\n",
    "##### Till five days:Rs 2/day\n",
    "##### six to ten days:Rs 3/day\n",
    "##### 11 to 15 days: Rs 4/day\n",
    "##### After 15 days : Rs 5/day"
   ]
  },
  {
   "cell_type": "code",
   "execution_count": 22,
   "id": "6602ccd9-11c8-4475-936a-f0e98ffd35bf",
   "metadata": {},
   "outputs": [
    {
     "name": "stdin",
     "output_type": "stream",
     "text": [
      "Enter number of days : 2\n"
     ]
    },
    {
     "name": "stdout",
     "output_type": "stream",
     "text": [
      "Total charge to pay : 4\n"
     ]
    }
   ],
   "source": [
    "days=int(input(\"Enter number of days :\"))\n",
    "charge=0\n",
    "if days<=5:\n",
    "    charge=days*2\n",
    "elif days>=6 and days<=10:\n",
    "    charge=days*3\n",
    "elif days>=11 and days<=15:\n",
    "    charge=days*4\n",
    "elif days>15:\n",
    "    charge=days*5\n",
    "print(\"Total charge to pay :\",charge)"
   ]
  },
  {
   "cell_type": "markdown",
   "id": "aefdc7c6-8a41-4c2c-b786-dca1553d177c",
   "metadata": {},
   "source": [
    "#### 3 Accept the kilometers covered and calculate the bill according to the following criteria\n",
    "##### First 10 km : Rs 11/km\n",
    "##### next 90km : Rs 10/km\n",
    "##### After that : Rs 9/km"
   ]
  },
  {
   "cell_type": "code",
   "execution_count": 28,
   "id": "595b3dcb-fc20-4a13-88f5-345beb19adb3",
   "metadata": {},
   "outputs": [
    {
     "name": "stdin",
     "output_type": "stream",
     "text": [
      "Enter kilometers covered : 120\n"
     ]
    },
    {
     "name": "stdout",
     "output_type": "stream",
     "text": [
      "Total bill to pay : 1190\n"
     ]
    }
   ],
   "source": [
    "km=int(input(\"Enter kilometers covered :\"))\n",
    "bill=0\n",
    "if km<=10:\n",
    "    bill=km*11\n",
    "elif km<=90:\n",
    "    bill=(10*11)+(km-10)*10\n",
    "elif km>90:\n",
    "    bill=110+900+(km-100)*9\n",
    "print(\"Total bill to pay :\",bill)"
   ]
  },
  {
   "cell_type": "markdown",
   "id": "a84dd429-c6c2-402c-a549-f182d78af231",
   "metadata": {},
   "source": [
    "#### 4 Acceptthe marks of English, Math and Science , Social Studies Subject and diplay the stream allotted according to following\n",
    "##### All subjects more than 80marks - Science stream\n",
    "##### English>80and Math , Social Studies above 50 - Commerce stream\n",
    "##### English>80 and , Social studies >80 - Humanities"
   ]
  },
  {
   "cell_type": "code",
   "execution_count": 42,
   "id": "f24b0577-8e9f-4fbd-a489-c0d36967bc0d",
   "metadata": {},
   "outputs": [
    {
     "name": "stdin",
     "output_type": "stream",
     "text": [
      "Enter your marks of English : 96\n",
      "Enter your marks of Math : 82\n",
      "Enter your marks of Science : 87\n",
      "Enter your marks of social studies : 60\n"
     ]
    },
    {
     "name": "stdout",
     "output_type": "stream",
     "text": [
      "Commerce Stream\n"
     ]
    }
   ],
   "source": [
    "s1=int(input(\"Enter your marks of English :\"))\n",
    "s2=int(input(\"Enter your marks of Math :\"))\n",
    "s3=int(input(\"Enter your marks of Science :\"))\n",
    "s4=int(input(\"Enter your marks of social studies :\"))\n",
    "if s1>80 and s2>80 and s3>80 and s4>80:\n",
    "    print(\"Science stream\")\n",
    "elif s1>80 and s2>50 and s3>50:\n",
    "    print(\"Commerce Stream\")\n",
    "elif s1>80 and s4>80:\n",
    "    print(\"Humanities\")\n"
   ]
  },
  {
   "cell_type": "markdown",
   "id": "a359eaa8-90b6-40b6-a389-2a63a7472c66",
   "metadata": {},
   "source": [
    "#### 5 WAP to convert the month name to a number of days"
   ]
  },
  {
   "cell_type": "code",
   "execution_count": 49,
   "id": "6b0648e6-25e5-413c-850d-04723f0af4f8",
   "metadata": {},
   "outputs": [
    {
     "name": "stdout",
     "output_type": "stream",
     "text": [
      "No. of days in January are 31\n",
      "No. of days in February are 28 or 29\n",
      "No. of days in March are 31\n",
      "No. of days in April are 30\n",
      "No. of days in May are 31\n",
      "No. of days in June are 30\n",
      "No. of days in July are 31\n",
      "No. of days in August are 31\n",
      "No. of days in September are 30\n",
      "No. of days in October are 31\n",
      "No. of days in November are 30\n"
     ]
    }
   ],
   "source": [
    "m=[\"January\",\"February\",\"March\",\"April\",\"May\",\"June\",\"July\",\"August\",\"September\",\"October\",\"November\",\"Decemmber\"]\n",
    "for i in m:\n",
    "    if i==\"February\":\n",
    "        print(\"No. of days in\",i,\"are 28 or 29\")\n",
    "    elif i in (\"January\",\"March\",\"May\",\"July\",\"August\",\"October\",\"December\"):\n",
    "        print(\"No. of days in\",i,\"are 31\")\n",
    "    elif i in (\"April\",\"June\",\"September\",\"November\"):\n",
    "        print(\"No. of days in\",i, \"are 30\")"
   ]
  },
  {
   "cell_type": "markdown",
   "id": "47f2f238-018e-49ec-a06e-2bcc7e2ea55d",
   "metadata": {},
   "source": [
    "#### 6 WAP to print prime numbers "
   ]
  },
  {
   "cell_type": "code",
   "execution_count": 61,
   "id": "44baa453-947f-4a6b-a4bd-0e02936081f1",
   "metadata": {},
   "outputs": [
    {
     "name": "stdout",
     "output_type": "stream",
     "text": [
      "1\n",
      "2\n",
      "3\n",
      "5\n",
      "7\n",
      "11\n",
      "13\n",
      "17\n",
      "19\n",
      "23\n",
      "29\n",
      "31\n",
      "37\n",
      "41\n",
      "43\n",
      "47\n"
     ]
    }
   ],
   "source": [
    "for num in range(1,50):\n",
    "    for i in range(2,num):\n",
    "        if num%i==0:\n",
    "            break\n",
    "    else:\n",
    "        print(num)"
   ]
  },
  {
   "cell_type": "markdown",
   "id": "dccf06ab-dd22-4ab7-9bbf-cc4a83543f33",
   "metadata": {},
   "source": [
    "#### 7 WAP to find the factrial of a given number"
   ]
  },
  {
   "cell_type": "code",
   "execution_count": 86,
   "id": "3fa2dee5-ab15-4ef5-ad7f-8ad218946dd6",
   "metadata": {},
   "outputs": [
    {
     "name": "stdout",
     "output_type": "stream",
     "text": [
      "120\n"
     ]
    }
   ],
   "source": [
    "num=5\n",
    "fact=1\n",
    "for i in range(1,num+1):\n",
    "    fact=fact*i\n",
    "    i=i+1\n",
    "print(fact)"
   ]
  },
  {
   "cell_type": "markdown",
   "id": "7d9c52f6-8a76-427f-b4a9-7b15f63c8244",
   "metadata": {},
   "source": [
    "#### 8 WAP to get the Faboncci series between 0 to 10"
   ]
  },
  {
   "cell_type": "code",
   "execution_count": 98,
   "id": "a94b9ebd-6193-4cb6-a101-76ef1269aa15",
   "metadata": {},
   "outputs": [
    {
     "name": "stdout",
     "output_type": "stream",
     "text": [
      "1\n",
      "2\n",
      "3\n",
      "5\n",
      "8\n",
      "13\n",
      "21\n",
      "34\n",
      "55\n",
      "89\n"
     ]
    }
   ],
   "source": [
    "n1=0\n",
    "n2=1\n",
    "for i in range(0,10):\n",
    "    n3=n1+n2\n",
    "    n1=n2 \n",
    "    n2=n3\n",
    "    print(n3)"
   ]
  },
  {
   "cell_type": "markdown",
   "id": "aa9ab142-b19f-4e09-a3ab-13b68a558a77",
   "metadata": {},
   "source": [
    "#### 9 WAP to check if a given number is Armstrong number or not. "
   ]
  },
  {
   "cell_type": "code",
   "execution_count": 4,
   "id": "9d7d9648-1bfc-496a-9eab-11c2423e650a",
   "metadata": {},
   "outputs": [
    {
     "name": "stdin",
     "output_type": "stream",
     "text": [
      "Enter a number 153\n"
     ]
    },
    {
     "name": "stdout",
     "output_type": "stream",
     "text": [
      "153\n",
      "Entered number is an Armstrong number\n"
     ]
    }
   ],
   "source": [
    "n=int(input(\"Enter a number\"))\n",
    "a=str(n)\n",
    "sum=0\n",
    "for i in a:\n",
    "   sum=sum+int(i)**3\n",
    "print(sum)\n",
    "if sum==n:\n",
    "    print(\"Entered number is an Armstrong number\")\n",
    "else:\n",
    "    print(\"Entered number is not an Armstrong number\")"
   ]
  },
  {
   "cell_type": "markdown",
   "id": "07b79d7f-e3e9-4b4d-a33a-e9d8f927226f",
   "metadata": {},
   "source": [
    "#### 10 WAP to check the validity of password input by user"
   ]
  },
  {
   "cell_type": "code",
   "execution_count": 26,
   "id": "fb2a9a35-8577-4935-a21a-b0a199fa0a1d",
   "metadata": {},
   "outputs": [
    {
     "name": "stdin",
     "output_type": "stream",
     "text": [
      "Enter password Abcdefg123@\n"
     ]
    },
    {
     "name": "stdout",
     "output_type": "stream",
     "text": [
      "Valid password\n"
     ]
    }
   ],
   "source": [
    "password=input(\"Enter password\")\n",
    "has_valid_length=False\n",
    "has_lowercase=False\n",
    "has_upeercase=False\n",
    "has_digits=False\n",
    "has_special_character=False\n",
    "if (len(password)>=8) and (len(password)<=16):\n",
    "    has_valid_length=True\n",
    "    for i in password:\n",
    "        if i.islower():\n",
    "            has_lowercase=True\n",
    "        elif i.isupper():\n",
    "            has_upeercase=True\n",
    "        elif i.isdigit():\n",
    "            has_digits=True\n",
    "        elif (i=='@' or i=='#'or i=='$' or i=='&'or i=='*'):\n",
    "            has_special_character=True\n",
    "\n",
    "if(has_valid_length==True and has_lowercase==True and has_upeercase==True and has_digits==True and has_special_character==True):\n",
    "    print(\"Valid password\")\n",
    "else:\n",
    "    print(\"Invalid password\")"
   ]
  },
  {
   "cell_type": "code",
   "execution_count": null,
   "id": "a069d669-dfbf-408d-8eae-f3da9770c0d8",
   "metadata": {},
   "outputs": [],
   "source": []
  }
 ],
 "metadata": {
  "kernelspec": {
   "display_name": "Python 3 (ipykernel)",
   "language": "python",
   "name": "python3"
  },
  "language_info": {
   "codemirror_mode": {
    "name": "ipython",
    "version": 3
   },
   "file_extension": ".py",
   "mimetype": "text/x-python",
   "name": "python",
   "nbconvert_exporter": "python",
   "pygments_lexer": "ipython3",
   "version": "3.12.4"
  }
 },
 "nbformat": 4,
 "nbformat_minor": 5
}
