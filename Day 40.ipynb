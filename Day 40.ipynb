{
 "cells": [
  {
   "cell_type": "markdown",
   "id": "260e35cc-a366-47e5-aa56-41b36e9008eb",
   "metadata": {},
   "source": [
    "##### 1 WAP to calculate the body mass index"
   ]
  },
  {
   "cell_type": "code",
   "execution_count": 3,
   "id": "e76d1eff-9411-4207-9f32-967a78df7d67",
   "metadata": {},
   "outputs": [
    {
     "name": "stdin",
     "output_type": "stream",
     "text": [
      "Enter your height in feet: 5\n",
      "Enter your weight in kg: 40\n"
     ]
    },
    {
     "name": "stdout",
     "output_type": "stream",
     "text": [
      "Your body mass index is : 1.6\n"
     ]
    }
   ],
   "source": [
    "height=float(input('Enter your height in feet:'))\n",
    "weight=float(input('Enter your weight in kg:'))\n",
    "bmi=weight / (height*height)\n",
    "rounded_bmi=round(bmi,2)\n",
    "print('Your body mass index is :',rounded_bmi)"
   ]
  },
  {
   "cell_type": "markdown",
   "id": "344d52f0-4e26-4d5d-acb5-4a78523e31b3",
   "metadata": {},
   "source": [
    "##### 2 WAP to calculate the sum of digits of a number"
   ]
  },
  {
   "cell_type": "code",
   "execution_count": 7,
   "id": "aa1db3ea-d467-44ba-8dd4-bbde2862007e",
   "metadata": {},
   "outputs": [
    {
     "name": "stdout",
     "output_type": "stream",
     "text": [
      "16\n"
     ]
    }
   ],
   "source": [
    "num='5245'\n",
    "sum=0\n",
    "for i in num:\n",
    "    sum=sum+int(i)\n",
    "print(sum)"
   ]
  },
  {
   "cell_type": "markdown",
   "id": "9278bddf-5667-4a5c-96bc-54a8b8885861",
   "metadata": {},
   "source": [
    "##### 3 WAP to sort three integers without using conditional statements and loops"
   ]
  },
  {
   "cell_type": "code",
   "execution_count": 11,
   "id": "c85cc4b9-a6a0-405b-92e5-23ec1af7b3fc",
   "metadata": {},
   "outputs": [
    {
     "name": "stdin",
     "output_type": "stream",
     "text": [
      "Enter first number : 8\n",
      "Enter seconf number : 3\n",
      "Enter thired number : 7\n"
     ]
    },
    {
     "name": "stdout",
     "output_type": "stream",
     "text": [
      "Numbers in sorted oredr:  3 7 8\n"
     ]
    }
   ],
   "source": [
    "n1=int(input('Enter first number :'))\n",
    "n2=int(input('Enter seconf number :'))\n",
    "n3=int(input('Enter thired number :'))\n",
    "a=min(n1,n2,n3)\n",
    "c=max(n1,n2,n3)\n",
    "b=(n1+n2+n3)-a-c\n",
    "\n",
    "print('Numbers in sorted oredr: ',a,b,c)"
   ]
  },
  {
   "cell_type": "markdown",
   "id": "5991cf92-9a00-4bdd-8bd2-b1f205bd154d",
   "metadata": {},
   "source": [
    "##### 4 WAP to get the details of the math module"
   ]
  },
  {
   "cell_type": "code",
   "execution_count": 17,
   "id": "9431ff54-54fe-44d6-8b44-c849a7da5741",
   "metadata": {},
   "outputs": [
    {
     "name": "stdout",
     "output_type": "stream",
     "text": [
      "['__doc__', '__loader__', '__name__', '__package__', '__spec__', 'acos', 'acosh', 'asin', 'asinh', 'atan', 'atan2', 'atanh', 'cbrt', 'ceil', 'comb', 'copysign', 'cos', 'cosh', 'degrees', 'dist', 'e', 'erf', 'erfc', 'exp', 'exp2', 'expm1', 'fabs', 'factorial', 'floor', 'fmod', 'frexp', 'fsum', 'gamma', 'gcd', 'hypot', 'inf', 'isclose', 'isfinite', 'isinf', 'isnan', 'isqrt', 'lcm', 'ldexp', 'lgamma', 'log', 'log10', 'log1p', 'log2', 'modf', 'nan', 'nextafter', 'perm', 'pi', 'pow', 'prod', 'radians', 'remainder', 'sin', 'sinh', 'sqrt', 'sumprod', 'tan', 'tanh', 'tau', 'trunc', 'ulp']\n"
     ]
    }
   ],
   "source": [
    "import math\n",
    "math_ls = dir(math)\n",
    "print(math_ls)"
   ]
  },
  {
   "cell_type": "markdown",
   "id": "44240392-d524-4803-b5d3-7da619df4f80",
   "metadata": {},
   "source": [
    "##### 5 WAP to get copyright information and wite copyright information in python code"
   ]
  },
  {
   "cell_type": "code",
   "execution_count": 21,
   "id": "00d82990-893b-4701-a92a-173cf400ad21",
   "metadata": {},
   "outputs": [
    {
     "name": "stdout",
     "output_type": "stream",
     "text": [
      "nPython Copyrigt Information\n",
      "Copyright (c) 2001-2023 Python Software Foundation.\n",
      "All Rights Reserved.\n",
      "\n",
      "Copyright (c) 2000 BeOpen.com.\n",
      "All Rights Reserved.\n",
      "\n",
      "Copyright (c) 1995-2001 Corporation for National Research Initiatives.\n",
      "All Rights Reserved.\n",
      "\n",
      "Copyright (c) 1991-1995 Stichting Mathematisch Centrum, Amsterdam.\n",
      "All Rights Reserved.\n",
      "\n"
     ]
    }
   ],
   "source": [
    "import sys\n",
    "print('nPython Copyrigt Information')\n",
    "print(sys.copyright)\n",
    "print()"
   ]
  },
  {
   "cell_type": "code",
   "execution_count": null,
   "id": "93a15e30-4be3-4796-8535-7b0ed860bc7b",
   "metadata": {},
   "outputs": [],
   "source": []
  }
 ],
 "metadata": {
  "kernelspec": {
   "display_name": "Python 3 (ipykernel)",
   "language": "python",
   "name": "python3"
  },
  "language_info": {
   "codemirror_mode": {
    "name": "ipython",
    "version": 3
   },
   "file_extension": ".py",
   "mimetype": "text/x-python",
   "name": "python",
   "nbconvert_exporter": "python",
   "pygments_lexer": "ipython3",
   "version": "3.12.4"
  }
 },
 "nbformat": 4,
 "nbformat_minor": 5
}
