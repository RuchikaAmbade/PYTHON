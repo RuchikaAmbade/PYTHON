{
 "cells": [
  {
   "cell_type": "code",
   "execution_count": 51,
   "id": "49dd0bc3-284c-4f9f-ad89-f3e662f4ae62",
   "metadata": {},
   "outputs": [],
   "source": [
    "## Half Pramid"
   ]
  },
  {
   "cell_type": "code",
   "execution_count": 15,
   "id": "c78fa94e-52aa-406b-aba7-5c1d54c5b614",
   "metadata": {},
   "outputs": [
    {
     "name": "stdout",
     "output_type": "stream",
     "text": [
      "*\n",
      "**\n",
      "***\n",
      "****\n",
      "*****\n",
      "******\n"
     ]
    }
   ],
   "source": [
    "n=7\n",
    "for i in range(1,n):\n",
    "    for j in range(1,i+1):\n",
    "        print('*',end='')\n",
    "    print()"
   ]
  },
  {
   "cell_type": "code",
   "execution_count": 53,
   "id": "336385a0-3bd6-48ff-996a-34c306835cf4",
   "metadata": {},
   "outputs": [],
   "source": [
    "## Inverted Half Pyramid"
   ]
  },
  {
   "cell_type": "code",
   "execution_count": 23,
   "id": "1c32c201-a581-40e3-9796-757cb47e38d4",
   "metadata": {},
   "outputs": [
    {
     "name": "stdout",
     "output_type": "stream",
     "text": [
      "******\n",
      "*****\n",
      "****\n",
      "***\n",
      "**\n",
      "*\n"
     ]
    }
   ],
   "source": [
    "n=7\n",
    "for i in range(1,n):\n",
    "    for j in range(i,n):\n",
    "        print('*',end= '')\n",
    "    print()"
   ]
  },
  {
   "cell_type": "code",
   "execution_count": null,
   "id": "e98b252f-de2d-40c7-aba5-7cd4d49a4ea0",
   "metadata": {},
   "outputs": [],
   "source": []
  }
 ],
 "metadata": {
  "kernelspec": {
   "display_name": "Python 3 (ipykernel)",
   "language": "python",
   "name": "python3"
  },
  "language_info": {
   "codemirror_mode": {
    "name": "ipython",
    "version": 3
   },
   "file_extension": ".py",
   "mimetype": "text/x-python",
   "name": "python",
   "nbconvert_exporter": "python",
   "pygments_lexer": "ipython3",
   "version": "3.12.4"
  }
 },
 "nbformat": 4,
 "nbformat_minor": 5
}
