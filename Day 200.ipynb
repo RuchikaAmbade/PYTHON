{
 "cells": [
  {
   "cell_type": "markdown",
   "id": "36ba6399-aef7-439b-afe6-48564557cbfe",
   "metadata": {},
   "source": [
    "WAP to display the examination schedule.(extract the date from exam_st_date)"
   ]
  },
  {
   "cell_type": "code",
   "execution_count": 2,
   "id": "c99189c2-14d0-425f-84b5-cc1c8ee0bf4f",
   "metadata": {},
   "outputs": [
    {
     "name": "stdout",
     "output_type": "stream",
     "text": [
      "The examination will start from :11 /12 /2014\n"
     ]
    }
   ],
   "source": [
    "exam_st_date = (11,12,2014)\n",
    "print('The examination will start from :%i /%i /%i' % exam_st_date)"
   ]
  },
  {
   "cell_type": "code",
   "execution_count": null,
   "id": "9c1b23d9-94af-427c-bf3a-8ab2e2047eb1",
   "metadata": {},
   "outputs": [],
   "source": []
  }
 ],
 "metadata": {
  "kernelspec": {
   "display_name": "Python 3 (ipykernel)",
   "language": "python",
   "name": "python3"
  },
  "language_info": {
   "codemirror_mode": {
    "name": "ipython",
    "version": 3
   },
   "file_extension": ".py",
   "mimetype": "text/x-python",
   "name": "python",
   "nbconvert_exporter": "python",
   "pygments_lexer": "ipython3",
   "version": "3.12.4"
  }
 },
 "nbformat": 4,
 "nbformat_minor": 5
}
