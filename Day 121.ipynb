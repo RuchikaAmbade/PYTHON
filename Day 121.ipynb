{
 "cells": [
  {
   "cell_type": "markdown",
   "id": "3de334ea-abe8-4bef-99da-60be8c626388",
   "metadata": {},
   "source": [
    "##### WAP to print alphabet 'Z' using '*'"
   ]
  },
  {
   "cell_type": "code",
   "execution_count": 9,
   "id": "7acb320d-deef-401e-8816-a9cadf9f3e34",
   "metadata": {},
   "outputs": [
    {
     "name": "stdout",
     "output_type": "stream",
     "text": [
      "* * * * * * \n",
      "        *   \n",
      "      *     \n",
      "    *       \n",
      "  *         \n",
      "* * * * * * \n"
     ]
    }
   ],
   "source": [
    "i=1\n",
    "j=4\n",
    "for row in range(6):\n",
    "    for col in range(6):\n",
    "        if row==0 or row==5:\n",
    "            print('*',end=' ')\n",
    "        elif row==i and col==j:\n",
    "            print('*',end=' ')\n",
    "            i+=1\n",
    "            j-=1\n",
    "        else:\n",
    "            print(' ',end=' ')\n",
    "    print()"
   ]
  }
 ],
 "metadata": {
  "kernelspec": {
   "display_name": "Python 3 (ipykernel)",
   "language": "python",
   "name": "python3"
  },
  "language_info": {
   "codemirror_mode": {
    "name": "ipython",
    "version": 3
   },
   "file_extension": ".py",
   "mimetype": "text/x-python",
   "name": "python",
   "nbconvert_exporter": "python",
   "pygments_lexer": "ipython3",
   "version": "3.12.4"
  }
 },
 "nbformat": 4,
 "nbformat_minor": 5
}
