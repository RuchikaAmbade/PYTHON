{
 "cells": [
  {
   "cell_type": "markdown",
   "id": "483c3a39-2ee8-45fc-a177-e83b5855b10e",
   "metadata": {},
   "source": [
    "##### 1 WAP to convert a float to a ratio"
   ]
  },
  {
   "cell_type": "code",
   "execution_count": 41,
   "id": "0ed3e091-7732-4ba1-8a06-08a1e75f19a4",
   "metadata": {},
   "outputs": [
    {
     "name": "stdout",
     "output_type": "stream",
     "text": [
      "3/8\n"
     ]
    }
   ],
   "source": [
    "from fractions import Fraction\n",
    "value=0.375\n",
    "ratio = print(Fraction(value).limit_denominator())"
   ]
  },
  {
   "cell_type": "markdown",
   "id": "43101975-ed7e-43be-a460-a4e343e65477",
   "metadata": {},
   "source": [
    "##### 2 WAP to display numbers separated by commas as thousands"
   ]
  },
  {
   "cell_type": "code",
   "execution_count": 62,
   "id": "306ae0bc-dbe8-417a-9164-c3da0796a24f",
   "metadata": {},
   "outputs": [
    {
     "name": "stdout",
     "output_type": "stream",
     "text": [
      "345,628\n"
     ]
    }
   ],
   "source": [
    "num = 345628\n",
    "print(\"{:,}\".format(num))"
   ]
  },
  {
   "cell_type": "code",
   "execution_count": 64,
   "id": "8fbe326a-f72b-478c-a631-ae2871f981d0",
   "metadata": {},
   "outputs": [
    {
     "name": "stdout",
     "output_type": "stream",
     "text": [
      "124,350\n",
      "1,486,730\n",
      "45,000\n",
      "39,842,156\n"
     ]
    }
   ],
   "source": [
    "list1=[124350,1486730,45000,39842156]\n",
    "for num in list1:\n",
    "    print(\"{:,}\".format(num))"
   ]
  },
  {
   "cell_type": "markdown",
   "id": "645915c3-c766-45da-b41c-e103cd5f7765",
   "metadata": {},
   "source": [
    "##### 3 WAP to calculate distance between two points using latitude and longitude"
   ]
  },
  {
   "cell_type": "code",
   "execution_count": 17,
   "id": "776d50e8-b030-4bf1-a759-7d55ac28e97e",
   "metadata": {},
   "outputs": [
    {
     "name": "stdin",
     "output_type": "stream",
     "text": [
      "Enter starting latitude : 23.5\n",
      "Enter ending latitude : 67.5\n",
      "Enter starting longitude : 25.5\n",
      "Enter ending longitude : 69.5\n"
     ]
    },
    {
     "name": "stdout",
     "output_type": "stream",
     "text": [
      "The distance is 300.67km\n"
     ]
    }
   ],
   "source": [
    "lat1=float(input('Enter starting latitude :'))\n",
    "lon1=float(input('Enter ending latitude :'))\n",
    "lat2=float(input('Enter starting longitude :'))\n",
    "lon2=float(input('Enter ending longitude :'))\n",
    "from math import radians, sin, cos, acos\n",
    "# Convert latitude and longitude from degrees to radians\n",
    "\n",
    "lat1 = math.radians(lat1)\n",
    "lon1 = math.radians(lon1)\n",
    "lat2 = math.radians(lat2)\n",
    "lon2 = math.radians(lon2)\n",
    "\n",
    "dist = 6371.01 * acos(sin(lat1)*sin(lat2) + cos(lat1)*cos(lat2)*cos(lon1-lon2))\n",
    "print('The distance is %.2fkm' % dist)"
   ]
  },
  {
   "cell_type": "markdown",
   "id": "0dd66cd2-abcf-4e6a-8433-7ac29a8ef8b4",
   "metadata": {},
   "source": [
    "##### 4 WAP to calculate the area of a regular polygon"
   ]
  },
  {
   "cell_type": "code",
   "execution_count": 39,
   "id": "e78b4aea-4bf4-4eaf-a19e-8b82eb31c161",
   "metadata": {},
   "outputs": [
    {
     "name": "stdin",
     "output_type": "stream",
     "text": [
      "Number of sides : 4\n",
      "Length of a side 25\n"
     ]
    },
    {
     "name": "stdout",
     "output_type": "stream",
     "text": [
      "Area of a regular polygon is: 625.0000000000001\n"
     ]
    }
   ],
   "source": [
    "from math import tan, pi\n",
    "n = int(input(\"Number of sides :\"))\n",
    "l = float(input(\"Length of a side\"))\n",
    "area = n*(l**2)/(4*tan(pi/n))\n",
    "print('Area of a regular polygon is:', area )"
   ]
  },
  {
   "cell_type": "markdown",
   "id": "def85652-dad2-4c44-8f79-483a93749837",
   "metadata": {},
   "source": [
    "##### 5 WAP to find the roots of a quadratic function"
   ]
  },
  {
   "cell_type": "code",
   "execution_count": 62,
   "id": "2ca1ac0b-a51d-47cc-8bf7-a9ea0a449394",
   "metadata": {},
   "outputs": [
    {
     "name": "stdin",
     "output_type": "stream",
     "text": [
      "a : 5\n",
      "b : 20\n",
      "c : 10\n"
     ]
    },
    {
     "name": "stdout",
     "output_type": "stream",
     "text": [
      "There are two roots : -0.5857864376269049 and -0.5857864376269049\n"
     ]
    }
   ],
   "source": [
    "from math import sqrt\n",
    "a=float(input('a :'))\n",
    "b=float(input('b :'))\n",
    "c=float(input('c :'))\n",
    "\n",
    "d = (b**2) - 4*a*c   # discriminant \n",
    "if d>0:\n",
    "    num_roots = 2\n",
    "    m=(((-b) + sqrt (d))/(2*a))\n",
    "    n=(((-b) + sqrt (d))/(2*a))\n",
    "    print(\"There are two roots :\", m , 'and' , n )\n",
    "elif d==0:\n",
    "    num_roots = 1\n",
    "    m= (-b)/2*a\n",
    "    print(\"There is one root :\",m)\n",
    "else:\n",
    "    num_roots = 0\n",
    "    print(\"There is no root\",'Discriminant <0')\n",
    "    "
   ]
  },
  {
   "cell_type": "markdown",
   "id": "0d077f5d-7c92-4f0b-8aa9-0b105419cfed",
   "metadata": {},
   "source": [
    "##### 6"
   ]
  },
  {
   "cell_type": "code",
   "execution_count": 15,
   "id": "6b016270-080a-441a-bfaa-ac4d6d5fe257",
   "metadata": {},
   "outputs": [
    {
     "name": "stdout",
     "output_type": "stream",
     "text": [
      "  E D C B A \n",
      "    E D C B \n",
      "      E D C \n",
      "        E D \n",
      "          E \n"
     ]
    }
   ],
   "source": [
    "n=5 \n",
    "for i in range(1,n+1):\n",
    "    p=69\n",
    "    for j in range(1,i+1):\n",
    "        print(\" \",end=\" \")\n",
    "    for j in range(i,n+1):\n",
    "        print(chr(p),end=\" \")\n",
    "        p=p-1\n",
    "    print()"
   ]
  },
  {
   "cell_type": "markdown",
   "id": "1b06da4a-0f1e-42b0-81c7-3ed9afdf9836",
   "metadata": {},
   "source": [
    "##### 7"
   ]
  },
  {
   "cell_type": "code",
   "execution_count": 8,
   "id": "a33e504d-5d6e-4926-9b24-eac9837e0bc4",
   "metadata": {},
   "outputs": [
    {
     "name": "stdout",
     "output_type": "stream",
     "text": [
      "  E E E E E E \n",
      "    L L L L L \n",
      "      G G G G \n",
      "        O O O \n",
      "          O O \n",
      "            G \n"
     ]
    }
   ],
   "source": [
    "word='GOOGLE'\n",
    "n=len(word)\n",
    "p=n-1\n",
    "for i in range(1,n+1):\n",
    "    for j in range(1,i+1):\n",
    "        print(' ',end=' ')\n",
    "    for j in range(i,n+1):\n",
    "        print(word[p],end=' ')\n",
    "    p=p-1\n",
    "    print()"
   ]
  },
  {
   "cell_type": "markdown",
   "id": "dbf48740-fa3f-40e7-a1dd-91e6702a8111",
   "metadata": {},
   "source": [
    "##### 8"
   ]
  },
  {
   "cell_type": "code",
   "execution_count": 37,
   "id": "c6d21bca-7a73-4584-a226-3aa6740f4856",
   "metadata": {},
   "outputs": [
    {
     "name": "stdout",
     "output_type": "stream",
     "text": [
      "            D \n",
      "          R R R \n",
      "        O O O O O \n",
      "      C C C C C C C \n",
      "    E E E E E E E E E \n",
      "  R R R R R R R R R R R \n"
     ]
    }
   ],
   "source": [
    "word='RECORD'\n",
    "n=len(word)\n",
    "p=n-1\n",
    "for i in range(1,n+1):\n",
    "    \n",
    "    for j in range(i,n+1):\n",
    "        print(\" \",end=\" \")\n",
    "    for j in range(1,i+1):\n",
    "        print(word[p],end=' ')\n",
    "    for j in range(2,i+1):\n",
    "        print(word[p],end=' ')\n",
    "    p=p-1\n",
    "    print()"
   ]
  },
  {
   "cell_type": "markdown",
   "id": "f260eb82-2844-4f57-bb89-a91f0fed5040",
   "metadata": {},
   "source": [
    "##### 9"
   ]
  },
  {
   "cell_type": "code",
   "execution_count": 49,
   "id": "c2cbda9e-eca7-416c-9997-a788701650b5",
   "metadata": {},
   "outputs": [
    {
     "name": "stdout",
     "output_type": "stream",
     "text": [
      "  C C C C C \n",
      "    O O O O \n",
      "      D D D \n",
      "        E E \n",
      "          R \n"
     ]
    }
   ],
   "source": [
    "word='CODER'\n",
    "n=len(word)\n",
    "p=0\n",
    "for i in range(1,n+1):\n",
    "    for j in range(1,i+1):\n",
    "        print(' ',end=' ')\n",
    "    for j in range(i,n+1):\n",
    "        print(word[p],end=' ')\n",
    "    p=p+1\n",
    "    print()"
   ]
  },
  {
   "cell_type": "markdown",
   "id": "080f74f7-6fc3-453e-8b01-960fc5629b2a",
   "metadata": {},
   "source": [
    "##### 10"
   ]
  },
  {
   "cell_type": "code",
   "execution_count": 68,
   "id": "74ad406c-568b-4f94-88be-c8bf384a4e65",
   "metadata": {},
   "outputs": [
    {
     "name": "stdout",
     "output_type": "stream",
     "text": [
      "            P \n",
      "          Y Y Y \n",
      "        T T T T T \n",
      "      H H H H H H H \n",
      "    O O O O O O O O O \n",
      "  N N N N N N N N N N N \n"
     ]
    }
   ],
   "source": [
    "word='PYTHON'\n",
    "n=len(word)\n",
    "p=0\n",
    "for i in range(1,n+1):\n",
    "    for j in range(i,n+1):\n",
    "        print(' ',end=' ')\n",
    "    for j in range(1,i+1):\n",
    "        print(word[p],end=' ')\n",
    "    for j in range(2,i+1):\n",
    "        print(word[p],end=' ')\n",
    "    p=p+1\n",
    "    print()"
   ]
  },
  {
   "cell_type": "code",
   "execution_count": null,
   "id": "765e77e6-0b7f-404f-88d6-7d24bc903831",
   "metadata": {},
   "outputs": [],
   "source": []
  }
 ],
 "metadata": {
  "kernelspec": {
   "display_name": "Python 3 (ipykernel)",
   "language": "python",
   "name": "python3"
  },
  "language_info": {
   "codemirror_mode": {
    "name": "ipython",
    "version": 3
   },
   "file_extension": ".py",
   "mimetype": "text/x-python",
   "name": "python",
   "nbconvert_exporter": "python",
   "pygments_lexer": "ipython3",
   "version": "3.12.4"
  }
 },
 "nbformat": 4,
 "nbformat_minor": 5
}
