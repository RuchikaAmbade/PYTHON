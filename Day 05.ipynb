{
 "cells": [
  {
   "cell_type": "code",
   "execution_count": 17,
   "id": "e357a92b-58a1-4c95-8006-fe77192158a2",
   "metadata": {},
   "outputs": [
    {
     "name": "stdin",
     "output_type": "stream",
     "text": [
      "Enter number from 1 to 12 : 3\n"
     ]
    },
    {
     "name": "stdout",
     "output_type": "stream",
     "text": [
      "March\n",
      "No. of days = 31\n"
     ]
    }
   ],
   "source": [
    "#  1 WAP to accept a number from 1-12 and display name of the month and days in that month \n",
    "#like 1 for january and number of days 31\n",
    "\n",
    "month=int(input(\"Enter number from 1 to 12 :\"))\n",
    "if month==1:\n",
    "    print(\"January\")\n",
    "    print(\"No. of days = 31\")\n",
    "elif month==2:\n",
    "    print(\"Fabruary\")\n",
    "    print(\"No. of days = 28 or 29\")\n",
    "elif month==3:\n",
    "    print(\"March\")\n",
    "    print(\"No. of days = 31\")\n",
    "elif month==4:\n",
    "    print(\"April\")\n",
    "    print(\"No. of days = 30\")\n",
    "elif month==5:\n",
    "    print(\"May\")\n",
    "    print(\"No. of days = 31\")\n",
    "elif month==6:\n",
    "    print(\"June\")\n",
    "    print(\"No. of days = 30\")\n",
    "elif month==7:\n",
    "    print(\"July\")\n",
    "    print(\"No. of days = 31\")\n",
    "elif month==8:\n",
    "    print(\"August\")\n",
    "    print(\"No. of days = 31\")\n",
    "elif month==9:\n",
    "    print(\"September\")\n",
    "    print(\"No. of days = 30\")\n",
    "elif month==10:\n",
    "    print(\"October\")\n",
    "    print(\"No. of days = 31\")\n",
    "elif month==11:\n",
    "    print(\"November\")\n",
    "    print(\"No. of days = 30\")\n",
    "elif month==2:\n",
    "    print(\"December\")\n",
    "    print(\"No. of days = 31\")\n",
    "else:\n",
    "    print(\"Invalid input : Please enter no. between 1 to 12\")"
   ]
  },
  {
   "cell_type": "code",
   "execution_count": 27,
   "id": "c40a5b06-c901-4ae3-ad5d-4ff62645e7b0",
   "metadata": {},
   "outputs": [
    {
     "name": "stdin",
     "output_type": "stream",
     "text": [
      "Enter name of city : Jaipur\n"
     ]
    },
    {
     "name": "stdout",
     "output_type": "stream",
     "text": [
      "Jal Mahal\n"
     ]
    }
   ],
   "source": [
    "# 2 Accept any city from the user and display monument of that city\n",
    "city=str(input(\"Enter name of city :\"))\n",
    "if city==\"Delhi\":\n",
    "    print(\"Red fort\")\n",
    "elif city==\"Agra\":\n",
    "    print(\"Taj Mahal\")\n",
    "elif city==\"Jaipur\":\n",
    "    print(\"Jal Mahal\")\n",
    "else:\n",
    "    print(\"Invalid input : Enter correct name of city\")"
   ]
  },
  {
   "cell_type": "code",
   "execution_count": 31,
   "id": "1aa6ea4a-0e5d-42d4-9d47-bf32d460f7d1",
   "metadata": {},
   "outputs": [
    {
     "name": "stdin",
     "output_type": "stream",
     "text": [
      "Enter any number 8\n"
     ]
    },
    {
     "name": "stdout",
     "output_type": "stream",
     "text": [
      "Hello\n"
     ]
    }
   ],
   "source": [
    "# 3 WAP to print \"Hello\" if a>5 and a<or=10 ortherwise print \"Bye\". Accept input from user\n",
    "a=int(input(\"Enter any number\"))\n",
    "if a>5 and a<=10:\n",
    "    print(\"Hello\")\n",
    "else:\n",
    "    print(\"Bye\")"
   ]
  },
  {
   "cell_type": "code",
   "execution_count": 9,
   "id": "6c6b5fc2-97c5-4e68-a687-cade45c4ed4d",
   "metadata": {},
   "outputs": [
    {
     "name": "stdin",
     "output_type": "stream",
     "text": [
      "Enter any number : 149\n"
     ]
    },
    {
     "name": "stdout",
     "output_type": "stream",
     "text": [
      "Entered no. is a three digit number\n"
     ]
    }
   ],
   "source": [
    "# 4 WAP to check whether a number is three digit number or not\n",
    "n=str(input(\"Enter any number :\"))\n",
    "length=len(n)\n",
    "if length==3:\n",
    "    print(\"Entered no. is a three digit number\")\n",
    "else:\n",
    "    print(\"Entered no. is not a three digit number\")"
   ]
  },
  {
   "cell_type": "code",
   "execution_count": 1,
   "id": "69503830-5653-4796-9c0f-d0c2bacc9610",
   "metadata": {},
   "outputs": [
    {
     "name": "stdin",
     "output_type": "stream",
     "text": [
      "Enter your age 89\n"
     ]
    },
    {
     "name": "stdout",
     "output_type": "stream",
     "text": [
      "Senior citizen\n"
     ]
    }
   ],
   "source": [
    "# 5 WAP to chcek whether a person is senior citizen or not\n",
    "age=int(input(\"Enter your age\"))\n",
    "if age>=60:\n",
    "    print(\"Senior citizen\")\n",
    "else:\n",
    "    print(\"Not a senior citizen\")"
   ]
  },
  {
   "cell_type": "code",
   "execution_count": 19,
   "id": "7e352a69-78a7-4926-9923-589586f17977",
   "metadata": {},
   "outputs": [
    {
     "name": "stdin",
     "output_type": "stream",
     "text": [
      "Enter number a:  90\n",
      "Enter number b:  38\n"
     ]
    },
    {
     "name": "stdout",
     "output_type": "stream",
     "text": [
      "b is smaller than a\n"
     ]
    }
   ],
   "source": [
    "# 6 WAP to find the lowest number out of two numbers\n",
    "a=int(input(\"Enter number a: \"))\n",
    "b=int(input(\"Enter number b: \"))\n",
    "if a<b:\n",
    "    print(\"a is smaller than b\")\n",
    "elif b<a:\n",
    "    print(\"b is smaller than a\")\n",
    "else:\n",
    "    print(\"Both a and b are same or equal\")"
   ]
  },
  {
   "cell_type": "code",
   "execution_count": 3,
   "id": "e4c0dd11-27f6-404b-9b1f-c58c55d1d80c",
   "metadata": {},
   "outputs": [
    {
     "name": "stdin",
     "output_type": "stream",
     "text": [
      "Enter number a:  79\n",
      "Enter number b:  36\n"
     ]
    },
    {
     "name": "stdout",
     "output_type": "stream",
     "text": [
      "a is larger than b\n"
     ]
    }
   ],
   "source": [
    "# 7 WAP to find the Largest number out of two numbers\n",
    "a=int(input(\"Enter number a: \"))\n",
    "b=int(input(\"Enter number b: \"))\n",
    "if a>b:\n",
    "    print(\"a is larger than b\")\n",
    "elif b>a:\n",
    "    print(\"b is larger than a\")\n",
    "else:\n",
    "    print(\"Both a and b are same or equal\")"
   ]
  },
  {
   "cell_type": "code",
   "execution_count": 25,
   "id": "af6e1bdf-a2c3-44fa-9327-9bfe6af7dfe3",
   "metadata": {},
   "outputs": [
    {
     "name": "stdin",
     "output_type": "stream",
     "text": [
      "Enter any number 30\n"
     ]
    },
    {
     "name": "stdout",
     "output_type": "stream",
     "text": [
      "Number is divisible by 2 and 3 both\n"
     ]
    }
   ],
   "source": [
    "# 8 WAP to check whether a number is divisible by 2 and 3 both\n",
    "n=int(input(\"Enter any number\"))\n",
    "if n%2==0 and n%3==0:\n",
    "    print(\"Number is divisible by 2 and 3 both\")\n",
    "else:\n",
    "    print(\"Number is not divisible by both\")"
   ]
  },
  {
   "cell_type": "code",
   "execution_count": null,
   "id": "f6f7febb-b813-4a0f-83a8-c89383256824",
   "metadata": {},
   "outputs": [],
   "source": [
    "# 9 WAP to find largest no. out of three numbers expected from user\n",
    "a=int(input(\"Enter first number\"))\n",
    "b=int(input(\"Enter second number\"))\n",
    "c=int(input(\"Enter third number\"))\n",
    "if a>b and a>c:\n",
    "    print(\"a is largest among a,b and c \")\n",
    "elif b>a and b>c:\n",
    "    print(\"b is largest than a and c\")\n",
    "else:\n",
    "    print(\"c is largest than a and b\")"
   ]
  },
  {
   "cell_type": "code",
   "execution_count": 5,
   "id": "599d4469-48b8-4d35-8b28-e6292d37bf39",
   "metadata": {},
   "outputs": [
    {
     "name": "stdin",
     "output_type": "stream",
     "text": [
      "Enter temperature 109\n"
     ]
    },
    {
     "name": "stdout",
     "output_type": "stream",
     "text": [
      "Water is boiling\n"
     ]
    }
   ],
   "source": [
    "# 10 Accept the temperature in degree Celsius of water and check whether it is boiling or not\n",
    "temp=int(input(\"Enter temperature\"))\n",
    "if temp>=100:\n",
    "    print(\"Water is boiling\")\n",
    "else:\n",
    "    print(\"Water is not boiling\")"
   ]
  },
  {
   "cell_type": "code",
   "execution_count": null,
   "id": "23553665-3e45-4321-b970-8126d3cb44e2",
   "metadata": {},
   "outputs": [],
   "source": []
  }
 ],
 "metadata": {
  "kernelspec": {
   "display_name": "Python 3 (ipykernel)",
   "language": "python",
   "name": "python3"
  },
  "language_info": {
   "codemirror_mode": {
    "name": "ipython",
    "version": 3
   },
   "file_extension": ".py",
   "mimetype": "text/x-python",
   "name": "python",
   "nbconvert_exporter": "python",
   "pygments_lexer": "ipython3",
   "version": "3.12.4"
  }
 },
 "nbformat": 4,
 "nbformat_minor": 5
}
