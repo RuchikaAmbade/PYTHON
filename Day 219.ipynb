{
 "cells": [
  {
   "cell_type": "markdown",
   "id": "67b00347-0810-4ba6-9a92-6ab147af101f",
   "metadata": {},
   "source": [
    "1. Simple interest formula is given by:\n",
    "Simple Interest = (P x T x R)/100\n",
    "\n",
    "Write a python code to take in input of P, T and R and calculate the Simple Interest by defining a function sint"
   ]
  },
  {
   "cell_type": "code",
   "execution_count": 8,
   "id": "49e51100-aabf-45a5-a28b-dfd2e280bbc6",
   "metadata": {},
   "outputs": [
    {
     "name": "stdin",
     "output_type": "stream",
     "text": [
      "Enter principal amount : 8\n",
      "Enter time in years : 6\n",
      "Enter rate of interest : 8\n"
     ]
    },
    {
     "data": {
      "text/plain": [
       "3.84"
      ]
     },
     "execution_count": 8,
     "metadata": {},
     "output_type": "execute_result"
    }
   ],
   "source": [
    "def sint(p,t,r):\n",
    "    simple_interest = (p*t*r)/100\n",
    "    return simple_interest\n",
    "\n",
    "p = int(input('Enter principal amount :'))\n",
    "t = int(input('Enter time in years :'))\n",
    "r = int(input('Enter rate of interest :'))\n",
    "\n",
    "sint(p,t,r)"
   ]
  },
  {
   "cell_type": "markdown",
   "id": "cf038488-3c38-42ce-a193-0f3fed23c272",
   "metadata": {},
   "source": [
    "2. Find out if the number n is prime or not."
   ]
  },
  {
   "cell_type": "code",
   "execution_count": 16,
   "id": "43332184-4aff-4280-a82e-65305fdc7e67",
   "metadata": {},
   "outputs": [
    {
     "name": "stdin",
     "output_type": "stream",
     "text": [
      " 7\n"
     ]
    },
    {
     "name": "stdout",
     "output_type": "stream",
     "text": [
      "7 is a prime number\n"
     ]
    }
   ],
   "source": [
    "n = int(input())\n",
    "if n>1:\n",
    "    for i in range(2,int((n)**0.5)+1):\n",
    "        if n%i == 0:\n",
    "            print(n,'is not a prime number')\n",
    "            break\n",
    "    else:\n",
    "        print(n,'is a prime number')\n",
    "\n",
    "else:\n",
    "    print(n,'is not a prime number')"
   ]
  },
  {
   "cell_type": "markdown",
   "id": "198aafe8-2258-44c5-8f2c-c50a77e55a97",
   "metadata": {},
   "source": [
    "3. Find the maximum integer from an array of integers"
   ]
  },
  {
   "cell_type": "code",
   "execution_count": 24,
   "id": "8f8afbfb-0187-4cf3-af8d-4ac0ac976c3a",
   "metadata": {},
   "outputs": [
    {
     "name": "stdout",
     "output_type": "stream",
     "text": [
      "9\n"
     ]
    }
   ],
   "source": [
    "import numpy as np\n",
    "arr = np.array([8,4,6,5,7,9,2])\n",
    "max_num = arr[0]\n",
    "for i in arr:\n",
    "    if i>max_num:\n",
    "        max_num = i\n",
    "\n",
    "print(max_num)"
   ]
  },
  {
   "cell_type": "markdown",
   "id": "9d517e3d-33aa-4bd3-a39f-5906ef4c47d5",
   "metadata": {},
   "source": [
    "4. Swap the first and last elements of a list."
   ]
  },
  {
   "cell_type": "code",
   "execution_count": 26,
   "id": "b4f6a2b8-a456-4149-9936-1f8aaffc1036",
   "metadata": {},
   "outputs": [
    {
     "name": "stdout",
     "output_type": "stream",
     "text": [
      "[4, 2, 3, 1]\n"
     ]
    }
   ],
   "source": [
    "list1 = [1,2,3,4]\n",
    "list1[0],list1[-1] = list1[-1],list1[0]\n",
    "print(list1)"
   ]
  },
  {
   "cell_type": "markdown",
   "id": "22890542-1516-4b1d-afee-39581dc1fae1",
   "metadata": {},
   "source": [
    "5. Reverse the string \"Hello World\""
   ]
  },
  {
   "cell_type": "code",
   "execution_count": 30,
   "id": "144630fb-30ad-4334-91c9-894eae2fd1a9",
   "metadata": {},
   "outputs": [
    {
     "name": "stdout",
     "output_type": "stream",
     "text": [
      "dlroW olleH\n"
     ]
    }
   ],
   "source": [
    "string = 'Hello World'\n",
    "print(string[::-1])"
   ]
  },
  {
   "cell_type": "markdown",
   "id": "5bda48b9-cb7a-469d-8ba0-5c5dd0c819e5",
   "metadata": {},
   "source": [
    "6. Write a program to accept a string from the user and display characters that are present at an even index number. e.g. If input is \"Python\", print P,t,o"
   ]
  },
  {
   "cell_type": "code",
   "execution_count": 36,
   "id": "96fd0765-7836-4f16-9e47-0354b47bb09c",
   "metadata": {},
   "outputs": [
    {
     "name": "stdin",
     "output_type": "stream",
     "text": [
      "Enter any word Ruchika\n"
     ]
    },
    {
     "name": "stdout",
     "output_type": "stream",
     "text": [
      "R\n",
      "c\n",
      "i\n",
      "a\n"
     ]
    }
   ],
   "source": [
    "string = input('Enter any word')\n",
    "for i in range(0,len(string)):\n",
    "    if i%2==0:\n",
    "        print(string[i])"
   ]
  },
  {
   "cell_type": "markdown",
   "id": "7f49a4ca-ba00-402a-8400-7357ad983141",
   "metadata": {},
   "source": [
    "7. Write a program to remove characters from a string starting from zero up to n and return a new string with the remaining letters."
   ]
  },
  {
   "cell_type": "code",
   "execution_count": 38,
   "id": "fd2b06ce-d001-435d-9823-963eda029935",
   "metadata": {},
   "outputs": [
    {
     "name": "stdin",
     "output_type": "stream",
     "text": [
      " 3\n"
     ]
    },
    {
     "name": "stdout",
     "output_type": "stream",
     "text": [
      "hika\n"
     ]
    }
   ],
   "source": [
    "string = 'Ruchika'\n",
    "n = int(input())\n",
    "print(string[n::])"
   ]
  },
  {
   "cell_type": "markdown",
   "id": "01807255-cc16-43b3-bea0-52bbbccef5ff",
   "metadata": {},
   "source": [
    "8. From a given list of numbers print only those numbers which are divisible by 5"
   ]
  },
  {
   "cell_type": "code",
   "execution_count": 40,
   "id": "f062402f-6eb2-4a27-950f-9f11d055c820",
   "metadata": {},
   "outputs": [
    {
     "name": "stdout",
     "output_type": "stream",
     "text": [
      "100\n",
      "25\n",
      "40\n",
      "75\n"
     ]
    }
   ],
   "source": [
    "num_list = [100, 25, 33, 49, 53, 40, 75]\n",
    "for i in num_list:\n",
    "    if i%5==0:\n",
    "        print(i)"
   ]
  },
  {
   "cell_type": "markdown",
   "id": "a00388d2-cd3c-47be-9027-2d4ee1b5ee41",
   "metadata": {},
   "source": [
    "9. Print the following pattern.\n",
    "\n",
    "  1\n",
    "\n",
    "  2 2\n",
    "\n",
    "  3 3 3\n",
    "\n",
    "  4 4 4 4 \n",
    "\n",
    "  5 5 5 5 5"
   ]
  },
  {
   "cell_type": "code",
   "execution_count": 44,
   "id": "cb1dc9f7-af12-4dbe-a772-f1945f1c940b",
   "metadata": {},
   "outputs": [
    {
     "name": "stdout",
     "output_type": "stream",
     "text": [
      "1 \n",
      "2 2 \n",
      "3 3 3 \n",
      "4 4 4 4 \n",
      "5 5 5 5 5 \n"
     ]
    }
   ],
   "source": [
    "n = 5\n",
    "for i in range(1,n+1):\n",
    "    for j in range(1,i+1):\n",
    "        print(i,end=' ')\n",
    "    print()"
   ]
  },
  {
   "cell_type": "markdown",
   "id": "2f385022-bb54-4cd9-a0ae-05a523a10ac2",
   "metadata": {},
   "source": [
    "10. Given a two list of numbers, write a program to create a new list such that the new list should contain odd numbers from the first list and even numbers from the second list."
   ]
  },
  {
   "cell_type": "code",
   "execution_count": 1,
   "id": "fc77bd33-28ca-4f5e-8e65-c65d2f5cea03",
   "metadata": {},
   "outputs": [
    {
     "name": "stdout",
     "output_type": "stream",
     "text": [
      "[11, 25, 37, 40, 62, 80]\n"
     ]
    }
   ],
   "source": [
    "l1 = [11, 20, 25, 32, 37]\n",
    "l2 = [40, 47, 62, 75, 80]\n",
    "new_list = []\n",
    "for i in l1:\n",
    "    if i%2!=0:\n",
    "        new_list.append(i)\n",
    "\n",
    "for i in l2:\n",
    "    if i%2==0:\n",
    "        new_list.append(i)\n",
    "\n",
    "print(new_list)"
   ]
  },
  {
   "cell_type": "code",
   "execution_count": null,
   "id": "29189883-f546-4b66-8d3c-471551a78020",
   "metadata": {},
   "outputs": [],
   "source": []
  }
 ],
 "metadata": {
  "kernelspec": {
   "display_name": "Python 3 (ipykernel)",
   "language": "python",
   "name": "python3"
  },
  "language_info": {
   "codemirror_mode": {
    "name": "ipython",
    "version": 3
   },
   "file_extension": ".py",
   "mimetype": "text/x-python",
   "name": "python",
   "nbconvert_exporter": "python",
   "pygments_lexer": "ipython3",
   "version": "3.12.4"
  }
 },
 "nbformat": 4,
 "nbformat_minor": 5
}
