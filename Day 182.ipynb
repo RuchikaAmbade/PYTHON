{
 "cells": [
  {
   "cell_type": "markdown",
   "id": "8eb7c4f0-09e8-48da-a502-e58688f00ff9",
   "metadata": {},
   "source": [
    "Simple interest formula is given by: Simple Interest = (P x T x R)/100\n",
    "Write a python code to take in input of P, T and R and calculate the Simple Interest by defining a function sint"
   ]
  },
  {
   "cell_type": "code",
   "execution_count": 66,
   "id": "a149cc41-c701-4aeb-982e-ccb66bc5bc27",
   "metadata": {},
   "outputs": [
    {
     "name": "stdin",
     "output_type": "stream",
     "text": [
      "Principal Amount: 8\n",
      "Time: 6\n",
      "Rate of interest: 8\n"
     ]
    },
    {
     "name": "stdout",
     "output_type": "stream",
     "text": [
      "The simple interest is 3.84\n"
     ]
    }
   ],
   "source": [
    "def sint(p,r,t):\n",
    "    si = (p*r*t)/100\n",
    "    print('The simple interest is',si)\n",
    "\n",
    "p=int(input('Principal Amount:'))\n",
    "t=int(input('Time:'))\n",
    "r=int(input('Rate of interest:'))\n",
    "sint(p,r,t)"
   ]
  },
  {
   "cell_type": "markdown",
   "id": "295347bb-c2f0-4a59-a091-57d67d26251a",
   "metadata": {},
   "source": [
    "Find out if the number n is prime or not."
   ]
  },
  {
   "cell_type": "code",
   "execution_count": 64,
   "id": "e90ae304-3287-4ce1-b115-df387895d85e",
   "metadata": {},
   "outputs": [
    {
     "name": "stdout",
     "output_type": "stream",
     "text": [
      "11 is a prime number\n"
     ]
    }
   ],
   "source": [
    "n = 11\n",
    "for i in range(2,n):\n",
    "    if n%i==0:\n",
    "        print(n, 'is not a prime number')\n",
    "        break\n",
    "else:\n",
    "    print(n, 'is a prime number')"
   ]
  },
  {
   "cell_type": "markdown",
   "id": "f5c96b5e-70cd-4d5b-9ba1-4d843b9c0f2a",
   "metadata": {},
   "source": [
    "Find the maximum integer from an array of integers"
   ]
  },
  {
   "cell_type": "code",
   "execution_count": 48,
   "id": "40afd703-83f3-4cd3-82d6-307a27aa48ec",
   "metadata": {},
   "outputs": [
    {
     "name": "stdin",
     "output_type": "stream",
     "text": [
      "Size of array : 5\n",
      " 12\n",
      " 14\n",
      " 23\n",
      " 89\n",
      " 45\n"
     ]
    },
    {
     "name": "stdout",
     "output_type": "stream",
     "text": [
      "Largest value in the given array is  89\n"
     ]
    }
   ],
   "source": [
    "n=int(input('Size of array :'))\n",
    "arr=[]\n",
    "for i in range(n):\n",
    "    arr.append(int(input()))\n",
    "\n",
    "max=arr[0]\n",
    "for i in arr:\n",
    "    if i>max:\n",
    "        max = i\n",
    "print('Largest value in the given array is ',max)        "
   ]
  },
  {
   "cell_type": "markdown",
   "id": "73645095-10c4-42b6-81c8-12d7092dd679",
   "metadata": {},
   "source": [
    "Swap the first and last elements of a list."
   ]
  },
  {
   "cell_type": "code",
   "execution_count": 44,
   "id": "898e8c71-1250-4622-a74b-d18b079d6337",
   "metadata": {},
   "outputs": [
    {
     "name": "stdout",
     "output_type": "stream",
     "text": [
      "[12, 35, 9, 56, 24]\n"
     ]
    }
   ],
   "source": [
    "list1 = [24, 35, 9, 56, 12]\n",
    "list1[0],list1[-1] = list1[-1],list1[0]\n",
    "print(list1)"
   ]
  },
  {
   "cell_type": "markdown",
   "id": "372e41b9-f271-4be4-8a4a-47cba5df20d8",
   "metadata": {},
   "source": [
    "Reverse the string \"Hello World\""
   ]
  },
  {
   "cell_type": "code",
   "execution_count": 42,
   "id": "9c812784-83f2-4b52-9e2a-4e1cf2b756c3",
   "metadata": {},
   "outputs": [
    {
     "data": {
      "text/plain": [
       "'dlroW olleH'"
      ]
     },
     "execution_count": 42,
     "metadata": {},
     "output_type": "execute_result"
    }
   ],
   "source": [
    "word = 'Hello World'\n",
    "reverse_word = word[::-1]\n",
    "reverse_word"
   ]
  },
  {
   "cell_type": "markdown",
   "id": "acab021b-3fa6-4dc1-8d40-f7d88e36072f",
   "metadata": {},
   "source": [
    "Write a program to accept a string from the user and display characters that are present at an even index number. e.g. If input is \"Python\", print P,t,o"
   ]
  },
  {
   "cell_type": "code",
   "execution_count": 38,
   "id": "17e522bd-5205-4ef8-a28f-672281adc235",
   "metadata": {},
   "outputs": [
    {
     "name": "stdout",
     "output_type": "stream",
     "text": [
      "R\n",
      "c\n",
      "i\n",
      "a\n"
     ]
    }
   ],
   "source": [
    "word='Ruchika'\n",
    "size = len(word)\n",
    "for i in range(0,size,2):\n",
    "    print(word[i])"
   ]
  },
  {
   "cell_type": "markdown",
   "id": "e2fcbd20-a6e0-4f0f-82d7-7b5405239453",
   "metadata": {},
   "source": [
    "Write a program to remove characters from a string starting from zero up to n and return a new string with the remaining letters."
   ]
  },
  {
   "cell_type": "code",
   "execution_count": 28,
   "id": "dca7fc11-915d-4f3e-8e7c-f2f3407383ac",
   "metadata": {},
   "outputs": [
    {
     "name": "stdin",
     "output_type": "stream",
     "text": [
      " slicing\n",
      " 4\n"
     ]
    },
    {
     "name": "stdout",
     "output_type": "stream",
     "text": [
      "ing\n"
     ]
    }
   ],
   "source": [
    "word = str(input())\n",
    "n=int(input())\n",
    "new_word = word[n:]\n",
    "print(new_word)"
   ]
  },
  {
   "cell_type": "markdown",
   "id": "ce7e24ff-d5ba-4eed-80f1-8df60d467867",
   "metadata": {},
   "source": [
    "\n",
    "From a given list of numbers print only those numbers which are divisible by 5\n"
   ]
  },
  {
   "cell_type": "code",
   "execution_count": 26,
   "id": "b092380c-ec36-4cd7-a80d-a1cf68a7d0ec",
   "metadata": {},
   "outputs": [
    {
     "name": "stdout",
     "output_type": "stream",
     "text": [
      "100\n",
      "25\n",
      "40\n",
      "75\n"
     ]
    }
   ],
   "source": [
    "num_list = [100, 25, 33, 49, 53, 40, 75]\n",
    "for i in num_list:\n",
    "    if i%5==0:\n",
    "        print(i)"
   ]
  },
  {
   "cell_type": "markdown",
   "id": "fd014cba-6757-46f1-b305-d3cce045384e",
   "metadata": {},
   "source": [
    "Print the following pattern.\n",
    "\n",
    "1\n",
    "\n",
    "2 2\n",
    "\n",
    "3 3 3\n",
    "\n",
    "4 4 4 4\n",
    "\n",
    "5 5 5 5 5"
   ]
  },
  {
   "cell_type": "code",
   "execution_count": 24,
   "id": "f6e9be38-f5d6-43d5-bfce-c19385d853bc",
   "metadata": {},
   "outputs": [
    {
     "name": "stdout",
     "output_type": "stream",
     "text": [
      "1 \n",
      "2 2 \n",
      "3 3 3 \n",
      "4 4 4 4 \n",
      "5 5 5 5 5 \n"
     ]
    }
   ],
   "source": [
    "for i in range(1,6):\n",
    "    for j in range(1,i+1):\n",
    "        print(i,end=' ')\n",
    "    print()"
   ]
  },
  {
   "cell_type": "markdown",
   "id": "823b0fdb-9bd0-405b-b7d5-16affa1b6238",
   "metadata": {},
   "source": [
    "Given a two list of numbers, write a program to create a new list such that the new list should contain odd numbers from the first list and even numbers from the second list."
   ]
  },
  {
   "cell_type": "code",
   "execution_count": 19,
   "id": "a5187708-e0c5-40a8-bfcc-e20af4084ab5",
   "metadata": {},
   "outputs": [
    {
     "name": "stdout",
     "output_type": "stream",
     "text": [
      "[11, 25, 37, 40, 62, 80]\n"
     ]
    }
   ],
   "source": [
    "list1 = [11, 20, 25, 32, 37]\n",
    "list2 = [40, 47, 62, 75, 80]\n",
    "new_list=[]\n",
    "for i in list1:\n",
    "    if i%2!=0:\n",
    "        new_list.append(i)\n",
    "for i in list2:\n",
    "    if i%2==0:\n",
    "       new_list.append(i)\n",
    "\n",
    "print(new_list)"
   ]
  },
  {
   "cell_type": "code",
   "execution_count": null,
   "id": "959e63d0-4192-4aa8-ac47-fbfb8c498f50",
   "metadata": {},
   "outputs": [],
   "source": []
  }
 ],
 "metadata": {
  "kernelspec": {
   "display_name": "Python 3 (ipykernel)",
   "language": "python",
   "name": "python3"
  },
  "language_info": {
   "codemirror_mode": {
    "name": "ipython",
    "version": 3
   },
   "file_extension": ".py",
   "mimetype": "text/x-python",
   "name": "python",
   "nbconvert_exporter": "python",
   "pygments_lexer": "ipython3",
   "version": "3.12.4"
  }
 },
 "nbformat": 4,
 "nbformat_minor": 5
}
