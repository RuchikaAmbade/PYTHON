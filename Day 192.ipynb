{
 "cells": [
  {
   "cell_type": "markdown",
   "id": "4d2e9da7-8643-4c8f-b559-c1914384866b",
   "metadata": {},
   "source": [
    " Normalize the values in a list between 0 and 1"
   ]
  },
  {
   "cell_type": "code",
   "execution_count": 2,
   "id": "f4de8982-d7ff-47f9-9130-57b6a58e6bd1",
   "metadata": {},
   "outputs": [
    {
     "name": "stdout",
     "output_type": "stream",
     "text": [
      "[0.0, 0.375, 1.0, 0.125, 0.75]\n"
     ]
    }
   ],
   "source": [
    "lst = [2,5,10,3,8]\n",
    "min_val,max_val = min(lst),max(lst)\n",
    "normalized_lst = [(x - min_val) / (max_val - min_val)  for x in lst]\n",
    "print(normalized_lst)"
   ]
  },
  {
   "cell_type": "code",
   "execution_count": null,
   "id": "d8160cc0-4f47-443a-9fac-fc4f2d111da0",
   "metadata": {},
   "outputs": [],
   "source": []
  }
 ],
 "metadata": {
  "kernelspec": {
   "display_name": "Python 3 (ipykernel)",
   "language": "python",
   "name": "python3"
  },
  "language_info": {
   "codemirror_mode": {
    "name": "ipython",
    "version": 3
   },
   "file_extension": ".py",
   "mimetype": "text/x-python",
   "name": "python",
   "nbconvert_exporter": "python",
   "pygments_lexer": "ipython3",
   "version": "3.12.4"
  }
 },
 "nbformat": 4,
 "nbformat_minor": 5
}
