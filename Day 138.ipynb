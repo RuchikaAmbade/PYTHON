{
 "cells": [
  {
   "cell_type": "markdown",
   "id": "43c25685-c84b-48cc-89fb-2cadb1bd9f37",
   "metadata": {},
   "source": [
    "##### WAP to check whether a person is eligible for voting or not."
   ]
  },
  {
   "cell_type": "code",
   "execution_count": 1,
   "id": "0a08140b-5515-42a1-920f-e16864140fa5",
   "metadata": {},
   "outputs": [
    {
     "name": "stdin",
     "output_type": "stream",
     "text": [
      "Enter your age 22\n"
     ]
    },
    {
     "name": "stdout",
     "output_type": "stream",
     "text": [
      "Eligible for voting\n"
     ]
    }
   ],
   "source": [
    "a=int(input('Enter your age'))\n",
    "if a >= 18:\n",
    "    print('Eligible for voting')\n",
    "else:\n",
    "    print('Not eligible for voting')\n",
    "    "
   ]
  },
  {
   "cell_type": "markdown",
   "id": "a86b01ea-1a65-42a9-aecf-42a5402baa85",
   "metadata": {},
   "source": [
    "##### WAP to check whether a number is divisible by 7 or not"
   ]
  },
  {
   "cell_type": "code",
   "execution_count": 9,
   "id": "4cb97e0b-026e-4556-ac19-2585e97edbeb",
   "metadata": {},
   "outputs": [
    {
     "name": "stdin",
     "output_type": "stream",
     "text": [
      "Enter any number 63\n"
     ]
    },
    {
     "name": "stdout",
     "output_type": "stream",
     "text": [
      "Entered number is divisible by 7\n"
     ]
    }
   ],
   "source": [
    "num = int(input('Enter any number'))\n",
    "if num%7==0:\n",
    "    print('Entered number is divisible by 7')\n",
    "else:\n",
    "    print('Entered number is not divisible by 7')"
   ]
  }
 ],
 "metadata": {
  "kernelspec": {
   "display_name": "Python 3 (ipykernel)",
   "language": "python",
   "name": "python3"
  },
  "language_info": {
   "codemirror_mode": {
    "name": "ipython",
    "version": 3
   },
   "file_extension": ".py",
   "mimetype": "text/x-python",
   "name": "python",
   "nbconvert_exporter": "python",
   "pygments_lexer": "ipython3",
   "version": "3.12.4"
  }
 },
 "nbformat": 4,
 "nbformat_minor": 5
}
