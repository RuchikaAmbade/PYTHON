{
 "cells": [
  {
   "cell_type": "markdown",
   "id": "e8091fde-8e97-4d85-a495-e9fe3bf361c5",
   "metadata": {},
   "source": [
    "##### 1 WAP to display the last digit of a number."
   ]
  },
  {
   "cell_type": "code",
   "execution_count": 3,
   "id": "89a30c79-b736-4df1-ba40-49383c2be78f",
   "metadata": {},
   "outputs": [
    {
     "name": "stdin",
     "output_type": "stream",
     "text": [
      "Enter any number : 459\n"
     ]
    },
    {
     "name": "stdout",
     "output_type": "stream",
     "text": [
      "The last digit of entered number is  9\n"
     ]
    }
   ],
   "source": [
    "num = int(input(\"Enter any number :\"))\n",
    "rem=num%10\n",
    "print(\"The last digit of entered number is \",rem)"
   ]
  },
  {
   "cell_type": "markdown",
   "id": "a23f3939-b2b1-4089-a13c-8cf03f3eb344",
   "metadata": {},
   "source": [
    "##### 2 WAP to check whether the last digit of a number is divisible by 3 or not."
   ]
  },
  {
   "cell_type": "code",
   "execution_count": 12,
   "id": "c977de66-ab59-4274-a541-e8535188bd38",
   "metadata": {},
   "outputs": [
    {
     "name": "stdin",
     "output_type": "stream",
     "text": [
      "Input a number  3215\n"
     ]
    },
    {
     "name": "stdout",
     "output_type": "stream",
     "text": [
      "Entered number is not divisible by 3. \n"
     ]
    }
   ],
   "source": [
    "num = int(input(\"Input a number \"))\n",
    "rem = num%3\n",
    "if rem%3==0:\n",
    "    print(\"Entered number is divisible by 3.\")\n",
    "else:\n",
    "    print(\"Entered number is not divisible by 3. \")"
   ]
  },
  {
   "cell_type": "markdown",
   "id": "93a84e1e-17b5-4ebd-805b-8675d7f7e76e",
   "metadata": {},
   "source": [
    "##### 3  WAP to accept % from the user and display the grade according to the criteria\n",
    "#####    marks  >90    - Grade A\n",
    "#####    >80 and <=90  - B\n",
    "#####    >=60 and <=80 - C\n",
    "#####    below 60      - D"
   ]
  },
  {
   "cell_type": "code",
   "execution_count": 22,
   "id": "cc4bdb00-5865-4c16-b1b9-ffc86c18af32",
   "metadata": {},
   "outputs": [
    {
     "name": "stdin",
     "output_type": "stream",
     "text": [
      "Enter your marks : 90\n"
     ]
    },
    {
     "name": "stdout",
     "output_type": "stream",
     "text": [
      "Grade B\n"
     ]
    }
   ],
   "source": [
    "marks = int(input(\"Enter your marks :\"))\n",
    "if marks > 90 :\n",
    "    print(\"Grade A\")\n",
    "elif marks > 80 and marks <= 90:\n",
    "    print(\"Grade B\")\n",
    "elif marks >= 60 and marks <=80:\n",
    "    print(\"Grade C\")\n",
    "else:\n",
    "    print(\"Grade D\")"
   ]
  },
  {
   "cell_type": "markdown",
   "id": "cff87c06-73e0-45b3-afe5-af526f319c44",
   "metadata": {},
   "source": [
    "##### 4 WAP to accept the cost price of a bike and display the road tax to be paid according to the \n",
    "#####   following criteria\n",
    "#####   cost price >100000   - Tax 15%\n",
    "#####   >50000 and <= 100000 - 10%\n",
    "#####   <=50000              - 5%"
   ]
  },
  {
   "cell_type": "markdown",
   "id": "e78e4b82-bc2c-4def-b4b6-a91897aa51c5",
   "metadata": {},
   "source": [
    "price = int(input(\"Enter price of a bike.\"))\n",
    "tax=0\n",
    "if price > 100000:\n",
    "    tax= (15/10)*price\n",
    "elif price > 50000 and price < 100000:\n",
    "    tax = (10/100) * price\n",
    "elif price <= 50000:\n",
    "    tax = (5/100) * price\n",
    "print(\"Road tax to be paid :\", tax)"
   ]
  },
  {
   "cell_type": "markdown",
   "id": "a764ab18-82f1-429a-9272-9710bf871c6a",
   "metadata": {},
   "source": [
    "##### 5 WAP to check whether an year is leap year or not"
   ]
  },
  {
   "cell_type": "code",
   "execution_count": 24,
   "id": "30483c39-5746-494b-b50d-600a6cf3f5b3",
   "metadata": {},
   "outputs": [
    {
     "name": "stdin",
     "output_type": "stream",
     "text": [
      "Input year 2024\n"
     ]
    },
    {
     "name": "stdout",
     "output_type": "stream",
     "text": [
      "Leap year\n"
     ]
    }
   ],
   "source": [
    "yr = int(input(\"Input year\"))\n",
    "if yr%100==0:\n",
    "    if yr%400==0:\n",
    "        print(\"Leap year\")\n",
    "    else:\n",
    "        print(\"Not a leap year.\")\n",
    "\n",
    "else:\n",
    "    if yr%4==0:\n",
    "        print(\"Leap year\")\n",
    "    else:\n",
    "        print(\"Not a leap year.\")"
   ]
  },
  {
   "cell_type": "code",
   "execution_count": null,
   "id": "f168faff-c07a-478e-a892-00014d64143b",
   "metadata": {},
   "outputs": [],
   "source": []
  }
 ],
 "metadata": {
  "kernelspec": {
   "display_name": "Python 3 (ipykernel)",
   "language": "python",
   "name": "python3"
  },
  "language_info": {
   "codemirror_mode": {
    "name": "ipython",
    "version": 3
   },
   "file_extension": ".py",
   "mimetype": "text/x-python",
   "name": "python",
   "nbconvert_exporter": "python",
   "pygments_lexer": "ipython3",
   "version": "3.12.4"
  }
 },
 "nbformat": 4,
 "nbformat_minor": 5
}
