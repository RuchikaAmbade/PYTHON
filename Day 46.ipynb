{
 "cells": [
  {
   "cell_type": "markdown",
   "id": "986ea065-025f-44fd-ad02-8d7d56b90950",
   "metadata": {},
   "source": [
    "##### 1 WAP to empty a variable without destroying it"
   ]
  },
  {
   "cell_type": "code",
   "execution_count": 3,
   "id": "73bf9c44-e3a0-4d6a-8131-71f8ca9e8ff2",
   "metadata": {},
   "outputs": [
    {
     "name": "stdout",
     "output_type": "stream",
     "text": [
      "{}\n",
      "[]\n",
      "()\n"
     ]
    }
   ],
   "source": [
    "n=20\n",
    "d={'x':20}\n",
    "l=[1,2,3,4]\n",
    "t=(5,6,7,8)\n",
    "print(type(d)())\n",
    "print(type(l)())\n",
    "print(type(t)())"
   ]
  },
  {
   "cell_type": "markdown",
   "id": "35dda240-0080-455c-a62d-0f86ac9dab01",
   "metadata": {},
   "source": [
    "##### 2 WAP to check whether multiple variables have the same value"
   ]
  },
  {
   "cell_type": "code",
   "execution_count": 8,
   "id": "26ee9bfc-f9b4-43d9-8ea6-64ea332cc4e7",
   "metadata": {},
   "outputs": [
    {
     "name": "stdout",
     "output_type": "stream",
     "text": [
      "All variables have the same value!\n"
     ]
    }
   ],
   "source": [
    "x=20\n",
    "y=20\n",
    "z=20\n",
    "\n",
    "if x==y==z==20:\n",
    "    print('All variables have the same value!')"
   ]
  },
  {
   "cell_type": "markdown",
   "id": "e3065aca-3b88-4231-bc9e-ae0cb8a6825c",
   "metadata": {},
   "source": [
    "##### 3 WAP to sum all counts in a collection"
   ]
  },
  {
   "cell_type": "code",
   "execution_count": 14,
   "id": "30926266-2223-425a-89c6-087eb64b4a47",
   "metadata": {},
   "outputs": [
    {
     "name": "stdout",
     "output_type": "stream",
     "text": [
      "9\n"
     ]
    }
   ],
   "source": [
    "list1=[2,2,4,6,6,8,6,10,4]\n",
    "count=0\n",
    "for i in list1:\n",
    "    count=count+1\n",
    "print(count)"
   ]
  },
  {
   "cell_type": "code",
   "execution_count": 18,
   "id": "da55c01a-f91d-4638-bc03-bc83a41cf6f3",
   "metadata": {},
   "outputs": [
    {
     "name": "stdout",
     "output_type": "stream",
     "text": [
      "9\n"
     ]
    }
   ],
   "source": [
    "# or\n",
    "import collections\n",
    "num = [2,2,4,6,6,8,6,10,4]\n",
    "result = sum(collections.Counter(num).values())\n",
    "print(result)"
   ]
  },
  {
   "cell_type": "markdown",
   "id": "d75020ff-335d-4175-968c-b60e57463d4b",
   "metadata": {},
   "source": [
    "##### 4 WAP to get the actual module object for a given object."
   ]
  },
  {
   "cell_type": "code",
   "execution_count": 22,
   "id": "949dcca9-5bf5-45f5-9786-a476d5340ea6",
   "metadata": {},
   "outputs": [
    {
     "name": "stdout",
     "output_type": "stream",
     "text": [
      "<module 'math' (built-in)>\n"
     ]
    }
   ],
   "source": [
    "from inspect import getmodule\n",
    "from math import sqrt\n",
    "print(getmodule(sqrt))"
   ]
  },
  {
   "cell_type": "markdown",
   "id": "0c57863a-1cbd-4cd0-b0fa-30a468ba7f83",
   "metadata": {},
   "source": [
    "##### 5 WAP to check whether an integer fits in 64 bits"
   ]
  },
  {
   "cell_type": "code",
   "execution_count": 32,
   "id": "c85473e4-bf81-4106-939b-fe2b8a1d2715",
   "metadata": {},
   "outputs": [
    {
     "name": "stdout",
     "output_type": "stream",
     "text": [
      "64\n",
      "64\n"
     ]
    }
   ],
   "source": [
    "int_val = 30\n",
    "if int_val.bit_length()<=63:\n",
    "    print((-2**63).bit_length())\n",
    "    print((2**63).bit_length())"
   ]
  },
  {
   "cell_type": "code",
   "execution_count": null,
   "id": "89feb1e5-8681-404f-a845-9ea5b259180a",
   "metadata": {},
   "outputs": [],
   "source": []
  }
 ],
 "metadata": {
  "kernelspec": {
   "display_name": "Python 3 (ipykernel)",
   "language": "python",
   "name": "python3"
  },
  "language_info": {
   "codemirror_mode": {
    "name": "ipython",
    "version": 3
   },
   "file_extension": ".py",
   "mimetype": "text/x-python",
   "name": "python",
   "nbconvert_exporter": "python",
   "pygments_lexer": "ipython3",
   "version": "3.12.4"
  }
 },
 "nbformat": 4,
 "nbformat_minor": 5
}
