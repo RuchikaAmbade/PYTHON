{
 "cells": [
  {
   "cell_type": "markdown",
   "id": "8fbade3b-fdb9-4bde-b325-dc286e3feaf2",
   "metadata": {},
   "source": [
    "##### 1 WAP to find the lowest number out of two number."
   ]
  },
  {
   "cell_type": "code",
   "execution_count": 2,
   "id": "cc5f3215-8063-4820-a2f4-088dad98c7dc",
   "metadata": {},
   "outputs": [
    {
     "name": "stdin",
     "output_type": "stream",
     "text": [
      "Enter number a : 5\n",
      "Enter number b : 9\n"
     ]
    },
    {
     "name": "stdout",
     "output_type": "stream",
     "text": [
      "a is less than b.\n"
     ]
    }
   ],
   "source": [
    "a=int(input(\"Enter number a :\"))\n",
    "b=int(input(\"Enter number b :\"))\n",
    "if a<b:\n",
    "    print(\"a is less than b.\")\n",
    "elif b<a:\n",
    "    print(\"b is less than a\")\n",
    "else:\n",
    "    print(\"Both a and b are equal.\")"
   ]
  },
  {
   "cell_type": "markdown",
   "id": "096e7610-caf9-43e7-a32b-b19a0b73bab3",
   "metadata": {},
   "source": [
    "##### 2 WAP to find the Largest number out of two numbers"
   ]
  },
  {
   "cell_type": "code",
   "execution_count": 5,
   "id": "f927f5de-3484-481a-b2c5-06cf1711038f",
   "metadata": {},
   "outputs": [
    {
     "name": "stdin",
     "output_type": "stream",
     "text": [
      "Enter number a : 94\n",
      "Enter number b : 23\n"
     ]
    },
    {
     "name": "stdout",
     "output_type": "stream",
     "text": [
      "a is greater than b.\n"
     ]
    }
   ],
   "source": [
    "a=int(input(\"Enter number a :\"))\n",
    "b=int(input(\"Enter number b :\"))\n",
    "if a>b:\n",
    "    print(\"a is greater than b.\")\n",
    "elif b>a:\n",
    "    print(\"b is greater than a\")\n",
    "else:\n",
    "    print(\"Both a and b are equal.\")"
   ]
  },
  {
   "cell_type": "markdown",
   "id": "7d0a926f-9901-4234-b8e2-ff3f83ed8671",
   "metadata": {},
   "source": [
    "##### 3 WAP to check whether a number is divisible by 2 and 3 both"
   ]
  },
  {
   "cell_type": "code",
   "execution_count": 12,
   "id": "012a1a3c-b737-4b2e-8148-8e49077ad7fb",
   "metadata": {},
   "outputs": [
    {
     "name": "stdin",
     "output_type": "stream",
     "text": [
      "Enter a number 30\n"
     ]
    },
    {
     "name": "stdout",
     "output_type": "stream",
     "text": [
      "Entered number is divisible by both 2 and 3\n"
     ]
    }
   ],
   "source": [
    "n=int(input(\"Enter a number\"))\n",
    "if n%2==0 and n%3==0:\n",
    "    print(\"Entered number is divisible by both 2 and 3\")\n",
    "else:\n",
    "    print(\"Entered number is not divisible by 2 and 3\")"
   ]
  },
  {
   "cell_type": "markdown",
   "id": "1262d537-0aef-4a95-9393-92f3cae0b83b",
   "metadata": {},
   "source": [
    "##### 4 WAP to find largest number out of three numbers expected from user."
   ]
  },
  {
   "cell_type": "code",
   "execution_count": 16,
   "id": "366ceddd-1432-4cac-aacb-534a6ab74b4d",
   "metadata": {},
   "outputs": [
    {
     "name": "stdin",
     "output_type": "stream",
     "text": [
      "Enter number a : 45\n",
      "Enter number b : 98\n",
      "Enter number c : 30\n"
     ]
    },
    {
     "name": "stdout",
     "output_type": "stream",
     "text": [
      "b is greatest among a,b and c.\n"
     ]
    }
   ],
   "source": [
    "a=int(input(\"Enter number a :\"))\n",
    "b=int(input(\"Enter number b :\"))\n",
    "c=int(input(\"Enter number c :\"))\n",
    "if a>b and a>c:\n",
    "    print(\"a is greatest among a,b and c.\")\n",
    "elif b>a and b>c:\n",
    "    print(\"b is greatest among a,b and c.\")\n",
    "else:\n",
    "    print(\"c is the largest number.\")"
   ]
  },
  {
   "cell_type": "markdown",
   "id": "1c76844c-3a50-4ba4-8661-f6a92047d863",
   "metadata": {},
   "source": [
    "##### 5 WAP that accept temperature in degree celcius of water and check whether it is boiling or not."
   ]
  },
  {
   "cell_type": "code",
   "execution_count": 22,
   "id": "e1f95a62-7885-4593-b315-d8dda0678eff",
   "metadata": {},
   "outputs": [
    {
     "name": "stdin",
     "output_type": "stream",
     "text": [
      "Enter temperature of water. 106.48\n"
     ]
    },
    {
     "name": "stdout",
     "output_type": "stream",
     "text": [
      "Water is boiling.\n"
     ]
    }
   ],
   "source": [
    "temp = float(input(\"Enter temperature of water.\"))\n",
    "if temp >= 100:\n",
    "    print(\"Water is boiling.\")\n",
    "else:\n",
    "    print(\"Water is not boiling.\")"
   ]
  },
  {
   "cell_type": "code",
   "execution_count": null,
   "id": "a834d7c9-4f4d-42d1-9be6-2f5b2cbfb6d7",
   "metadata": {},
   "outputs": [],
   "source": []
  }
 ],
 "metadata": {
  "kernelspec": {
   "display_name": "Python 3 (ipykernel)",
   "language": "python",
   "name": "python3"
  },
  "language_info": {
   "codemirror_mode": {
    "name": "ipython",
    "version": 3
   },
   "file_extension": ".py",
   "mimetype": "text/x-python",
   "name": "python",
   "nbconvert_exporter": "python",
   "pygments_lexer": "ipython3",
   "version": "3.12.4"
  }
 },
 "nbformat": 4,
 "nbformat_minor": 5
}
