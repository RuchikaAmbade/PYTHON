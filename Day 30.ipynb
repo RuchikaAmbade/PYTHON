{
 "cells": [
  {
   "cell_type": "markdown",
   "id": "1ebaf1e2-a439-4884-940e-033c3b48ccc9",
   "metadata": {},
   "source": [
    "##### 1 WAP to print E using '*'"
   ]
  },
  {
   "cell_type": "code",
   "execution_count": 5,
   "id": "e85a9667-7874-4622-8022-7dc573b78b83",
   "metadata": {},
   "outputs": [
    {
     "name": "stdout",
     "output_type": "stream",
     "text": [
      "*****\n",
      "*    \n",
      "*    \n",
      "*****\n",
      "*    \n",
      "*    \n",
      "*****\n"
     ]
    }
   ],
   "source": [
    "for row in range(7):\n",
    "    for col in range(5):\n",
    "        if (col==0) or (row==0 or row==3 or row==6):\n",
    "            print('*',end='')\n",
    "        else:\n",
    "            print(' ',end='')\n",
    "    print()"
   ]
  },
  {
   "cell_type": "markdown",
   "id": "26de8e64-431a-4199-ab6e-c0b0f702f7bd",
   "metadata": {},
   "source": [
    "##### 2 WAP to print F using '*'"
   ]
  },
  {
   "cell_type": "code",
   "execution_count": 9,
   "id": "8dc76542-5dbb-4265-a439-9b7abdfcdf41",
   "metadata": {},
   "outputs": [
    {
     "name": "stdout",
     "output_type": "stream",
     "text": [
      "*****\n",
      "*    \n",
      "*    \n",
      "*****\n",
      "*    \n",
      "*    \n",
      "*    \n"
     ]
    }
   ],
   "source": [
    "for row in range(7):\n",
    "    for col in range(5):\n",
    "        if (col==0) or (row==0 or row==3):\n",
    "            print('*',end='')\n",
    "        else:\n",
    "            print(' ',end='')\n",
    "    print()"
   ]
  },
  {
   "cell_type": "markdown",
   "id": "3c7590fb-9cc2-4f58-91bd-08c2270a74b8",
   "metadata": {},
   "source": [
    "##### 3 WAP to print G using '*'"
   ]
  },
  {
   "cell_type": "code",
   "execution_count": 7,
   "id": "6bb75248-8631-4db6-9e4f-9ec8231a5d26",
   "metadata": {},
   "outputs": [
    {
     "name": "stdout",
     "output_type": "stream",
     "text": [
      "***** \n",
      "*     \n",
      "*     \n",
      "*  ***\n",
      "*   * \n",
      "*   * \n",
      "***** \n"
     ]
    }
   ],
   "source": [
    "for row in range(7):\n",
    "    for col in range(6):\n",
    "        if (col==0 or(col==4 and row!=1 and row!=2)) or (col==5 and row==3) or (col==3 and row==3) or ((row==0 or row==6) and col!=5) :\n",
    "            print('*',end='')\n",
    "        else:\n",
    "            print(' ',end='')\n",
    "    print()"
   ]
  },
  {
   "cell_type": "markdown",
   "id": "4b61338a-1145-484d-ac17-778ba9ee7168",
   "metadata": {},
   "source": [
    "##### 4 WAP to print H using '*'"
   ]
  },
  {
   "cell_type": "code",
   "execution_count": 11,
   "id": "854320a5-824b-440e-bd70-3985bba652f4",
   "metadata": {},
   "outputs": [
    {
     "name": "stdout",
     "output_type": "stream",
     "text": [
      "*   *\n",
      "*   *\n",
      "*   *\n",
      "*****\n",
      "*   *\n",
      "*   *\n",
      "*   *\n"
     ]
    }
   ],
   "source": [
    "for row in range(7):\n",
    "    for col in range(5):\n",
    "        if col==0 or col==4 or (row==3 and (col>0 and col<4)) :\n",
    "            print('*',end='')\n",
    "        else:\n",
    "            print(' ',end='')\n",
    "    print()"
   ]
  },
  {
   "cell_type": "markdown",
   "id": "7ed7ac1c-50d0-40ba-9ba9-d74395210fb3",
   "metadata": {},
   "source": [
    "##### 5 WAP to print I using '*'"
   ]
  },
  {
   "cell_type": "code",
   "execution_count": 17,
   "id": "34bdff77-ff34-4468-9b79-c16d26c99feb",
   "metadata": {},
   "outputs": [
    {
     "name": "stdout",
     "output_type": "stream",
     "text": [
      "*****\n",
      "  *  \n",
      "  *  \n",
      "  *  \n",
      "  *  \n",
      "  *  \n",
      "*****\n"
     ]
    }
   ],
   "source": [
    "for row in range(7):\n",
    "    for col in range(5):\n",
    "        if col==2 or row==0 or row==6:\n",
    "            print('*',end='')\n",
    "        else:\n",
    "            print(' ',end='')\n",
    "    print()"
   ]
  },
  {
   "cell_type": "markdown",
   "id": "a4ea6997-33a0-439f-a977-eb2eb5acf364",
   "metadata": {},
   "source": [
    "##### 6 WAP to find the common elements in two lists"
   ]
  },
  {
   "cell_type": "code",
   "execution_count": 3,
   "id": "93b5d139-4391-4884-a1b8-f434c1f215ea",
   "metadata": {},
   "outputs": [
    {
     "name": "stdout",
     "output_type": "stream",
     "text": [
      "[1, 4, 2]\n"
     ]
    }
   ],
   "source": [
    "l1=[1,4,2,5,8,9]\n",
    "l2=[7,2,1,4,3,6]\n",
    "common = []\n",
    "for i in l1:\n",
    "    if i in l2:\n",
    "        common.append(i)\n",
    "print(common)"
   ]
  },
  {
   "cell_type": "code",
   "execution_count": 13,
   "id": "dd0f5029-56e9-4325-a9f3-0c3369538563",
   "metadata": {},
   "outputs": [
    {
     "name": "stdout",
     "output_type": "stream",
     "text": [
      "1\n",
      "4\n",
      "2\n"
     ]
    }
   ],
   "source": [
    "# or \n",
    "l1=[1,4,2,5,8,9]\n",
    "l2=[7,2,1,4,3,6]\n",
    "for i in l1:\n",
    "    for j in l2:\n",
    "        if i==j:\n",
    "            print(i)"
   ]
  },
  {
   "cell_type": "markdown",
   "id": "c2ccc0ba-62a9-442a-8c36-655a70e58904",
   "metadata": {},
   "source": [
    "##### 7 WAP to print numbers from 1 to 5, except 3 using a for loop and continue statement"
   ]
  },
  {
   "cell_type": "code",
   "execution_count": 19,
   "id": "6d27d6e1-e862-4292-87d0-ed47a98f5b87",
   "metadata": {},
   "outputs": [
    {
     "name": "stdout",
     "output_type": "stream",
     "text": [
      "1\n",
      "2\n",
      "4\n",
      "5\n"
     ]
    }
   ],
   "source": [
    "for i in range(1,6):\n",
    "    if i==3:\n",
    "        continue\n",
    "    print(i)"
   ]
  },
  {
   "cell_type": "markdown",
   "id": "2c5b3030-ad3c-493f-9fc2-2b59f496d16e",
   "metadata": {},
   "source": [
    "##### 8 WAP to print numbers from 1 to 10. If a number is divisible by 4, stop the loop using a for loop and break statement."
   ]
  },
  {
   "cell_type": "code",
   "execution_count": 27,
   "id": "f126a20a-4072-4c45-a0f1-e4482a41f861",
   "metadata": {},
   "outputs": [
    {
     "name": "stdout",
     "output_type": "stream",
     "text": [
      "1\n",
      "2\n",
      "3\n"
     ]
    }
   ],
   "source": [
    "for i in range(1,11):\n",
    "    if i%4==0:\n",
    "        break\n",
    "    print(i)"
   ]
  },
  {
   "cell_type": "markdown",
   "id": "ab8e5967-9d0a-4bb0-a91b-2ca9276d1725",
   "metadata": {},
   "source": [
    "##### 9 WAP to print numbers from 1 to 10 .If a number is even skip it using a for loop and else clause"
   ]
  },
  {
   "cell_type": "code",
   "execution_count": 41,
   "id": "8d52c920-463e-4a13-a6aa-1fb3016146ee",
   "metadata": {},
   "outputs": [
    {
     "name": "stdout",
     "output_type": "stream",
     "text": [
      "1\n",
      "3\n",
      "5\n",
      "7\n",
      "9\n",
      "Hello\n"
     ]
    }
   ],
   "source": [
    "for i in range(1,11):\n",
    "    if i%2==0:\n",
    "        continue\n",
    "    print(i)\n",
    "else:\n",
    "    print('Hello')"
   ]
  },
  {
   "cell_type": "markdown",
   "id": "846d4bf1-87c1-4b1c-8428-d6f97a4c11a7",
   "metadata": {},
   "source": [
    "##### 10 WAP to print numbers from 1 to 10 .If a number is even berak it using a for loop and else clause"
   ]
  },
  {
   "cell_type": "code",
   "execution_count": 49,
   "id": "d8478b1e-0cbf-4cf4-9f01-3aaf3f2d969d",
   "metadata": {},
   "outputs": [
    {
     "name": "stdout",
     "output_type": "stream",
     "text": [
      "1\n"
     ]
    }
   ],
   "source": [
    "for i in range(1,11):\n",
    "    if i%2==0:\n",
    "        break\n",
    "    print(i)\n",
    "else:\n",
    "    print('Hello')"
   ]
  },
  {
   "cell_type": "code",
   "execution_count": null,
   "id": "480cc4c5-b82d-47f4-bb03-604761cdc4e1",
   "metadata": {},
   "outputs": [],
   "source": []
  }
 ],
 "metadata": {
  "kernelspec": {
   "display_name": "Python 3 (ipykernel)",
   "language": "python",
   "name": "python3"
  },
  "language_info": {
   "codemirror_mode": {
    "name": "ipython",
    "version": 3
   },
   "file_extension": ".py",
   "mimetype": "text/x-python",
   "name": "python",
   "nbconvert_exporter": "python",
   "pygments_lexer": "ipython3",
   "version": "3.12.4"
  }
 },
 "nbformat": 4,
 "nbformat_minor": 5
}
