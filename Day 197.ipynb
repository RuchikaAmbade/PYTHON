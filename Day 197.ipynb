{
 "cells": [
  {
   "cell_type": "markdown",
   "id": "11a7d19b-f5a0-4aa1-9aaf-98d9f48356b7",
   "metadata": {},
   "source": [
    "Reverse a given integer number e.g: input: 5619, output: 9165"
   ]
  },
  {
   "cell_type": "code",
   "execution_count": 8,
   "id": "5332574c-2ec9-481a-8eb3-c6c6775a1ef2",
   "metadata": {},
   "outputs": [
    {
     "name": "stdout",
     "output_type": "stream",
     "text": [
      "9165\n"
     ]
    }
   ],
   "source": [
    "n=5619\n",
    "rem=0\n",
    "rev=0\n",
    "while n>0:\n",
    "    rem=n%10\n",
    "    rev=(rev*10)+rem\n",
    "    n=n//10\n",
    "\n",
    "print(rev)"
   ]
  },
  {
   "cell_type": "code",
   "execution_count": null,
   "id": "02ada0d5-37c8-4f37-931a-66eb46142317",
   "metadata": {},
   "outputs": [],
   "source": []
  },
  {
   "cell_type": "markdown",
   "id": "12b234b7-bf29-4684-a57d-ce840eb7542a",
   "metadata": {},
   "source": [
    "Print the following pattern."
   ]
  },
  {
   "cell_type": "markdown",
   "id": "47c87ffd-c787-49ed-9a48-c61c75ec62b3",
   "metadata": {},
   "source": [
    "* \n",
    "* * \n",
    "* * * \n",
    "* * * * \n",
    "* * * * * \n",
    "* * * * \n",
    "* * * \n",
    "* * \n",
    "* "
   ]
  },
  {
   "cell_type": "code",
   "execution_count": 17,
   "id": "313e6d67-6a4a-4fb3-afbb-01c6bb24b2c9",
   "metadata": {},
   "outputs": [
    {
     "name": "stdout",
     "output_type": "stream",
     "text": [
      "* \n",
      "* * \n",
      "* * * \n",
      "* * * * \n",
      "* * * * * \n",
      "* * * * \n",
      "* * * \n",
      "* * \n",
      "* \n"
     ]
    }
   ],
   "source": [
    "n=5\n",
    "for i in range(1,n+1):\n",
    "    for j in range(1,i+1):\n",
    "        print('*',end=' ')\n",
    "    print()\n",
    "\n",
    "for i in range(2,n+1):\n",
    "    for j in range(i,n+1):\n",
    "        print('*',end=' ')\n",
    "    print()"
   ]
  },
  {
   "cell_type": "code",
   "execution_count": null,
   "id": "6ade024c-495d-4a4c-8cbc-257da9992bac",
   "metadata": {},
   "outputs": [],
   "source": []
  },
  {
   "cell_type": "markdown",
   "id": "6cf70dfc-cebb-499e-85ed-3fa1d4c2f098",
   "metadata": {},
   "source": [
    "Return the count of a given substring from a string."
   ]
  },
  {
   "cell_type": "code",
   "execution_count": 20,
   "id": "17c54aa0-9374-4727-891c-616da3d9dc9e",
   "metadata": {},
   "outputs": [
    {
     "name": "stdout",
     "output_type": "stream",
     "text": [
      "2\n"
     ]
    }
   ],
   "source": [
    "string = \"India is a developing country. India is a democracy\"\n",
    "substring_count = string.count('India')\n",
    "print(substring_count)"
   ]
  },
  {
   "cell_type": "code",
   "execution_count": 22,
   "id": "5d7aa2a4-7ce1-435e-b886-4e5b1e8ab698",
   "metadata": {},
   "outputs": [
    {
     "name": "stdout",
     "output_type": "stream",
     "text": [
      "2\n"
     ]
    }
   ],
   "source": [
    "# or\n",
    "string = \"India is a developing country. India is a democracy\"\n",
    "cnt = 0\n",
    "str = string.split(' ')\n",
    "for i in str:\n",
    "    if i=='India':\n",
    "        cnt+=1\n",
    "\n",
    "print(cnt)"
   ]
  },
  {
   "cell_type": "code",
   "execution_count": null,
   "id": "1dd059da-7f06-4655-93f4-c0c3e976a1af",
   "metadata": {},
   "outputs": [],
   "source": []
  },
  {
   "cell_type": "markdown",
   "id": "3389578c-c53e-4446-9e07-7eccad6a1eac",
   "metadata": {},
   "source": [
    "Count the number of vowels in the given string."
   ]
  },
  {
   "cell_type": "code",
   "execution_count": 25,
   "id": "f5576675-0741-4f0b-a56a-451676e9cfc5",
   "metadata": {},
   "outputs": [
    {
     "name": "stdin",
     "output_type": "stream",
     "text": [
      " typewriter\n"
     ]
    },
    {
     "name": "stdout",
     "output_type": "stream",
     "text": [
      "Count of vowels in a given string is  3\n"
     ]
    }
   ],
   "source": [
    "a = input().lower()\n",
    "count=0\n",
    "for x in a:\n",
    "    if x=='a' or x=='e' or x=='i' or x=='o' or x=='u':\n",
    "        count+=1\n",
    "\n",
    "print('Count of vowels in a given string is ', count)"
   ]
  },
  {
   "cell_type": "code",
   "execution_count": null,
   "id": "67a2fd2c-a76d-432d-a854-8430b2974437",
   "metadata": {},
   "outputs": [],
   "source": []
  },
  {
   "cell_type": "markdown",
   "id": "f6f3f817-4f30-4124-acba-bb42c23a0d36",
   "metadata": {},
   "source": [
    "Calculate salary of an employee.\n",
    "\n",
    "If their score>5 salary = salary + score x 0.1 x salary\n",
    "\n",
    "If thei score<=5, salary = salary + score x 0.05 x salary"
   ]
  },
  {
   "cell_type": "code",
   "execution_count": 28,
   "id": "ea9896b8-a0b6-47c6-85e7-d3b2154bb78e",
   "metadata": {},
   "outputs": [
    {
     "name": "stdin",
     "output_type": "stream",
     "text": [
      "Enter score\n",
      " 7\n",
      "Enter salary\n",
      " 20000\n"
     ]
    },
    {
     "name": "stdout",
     "output_type": "stream",
     "text": [
      "Your salary is  34000.0\n"
     ]
    }
   ],
   "source": [
    "score = int(input('Enter score\\n'))\n",
    "salary = int(input('Enter salary\\n'))\n",
    "if score>5:\n",
    "    salary = salary + score*0.1*salary\n",
    "else:\n",
    "    salary = salary + score*0.05*salary\n",
    "\n",
    "print('Your salary is ',salary)"
   ]
  },
  {
   "cell_type": "code",
   "execution_count": null,
   "id": "230a9ff3-9268-40ca-8cc9-21f8188b0a01",
   "metadata": {},
   "outputs": [],
   "source": []
  }
 ],
 "metadata": {
  "kernelspec": {
   "display_name": "Python 3 (ipykernel)",
   "language": "python",
   "name": "python3"
  },
  "language_info": {
   "codemirror_mode": {
    "name": "ipython",
    "version": 3
   },
   "file_extension": ".py",
   "mimetype": "text/x-python",
   "name": "python",
   "nbconvert_exporter": "python",
   "pygments_lexer": "ipython3",
   "version": "3.12.4"
  }
 },
 "nbformat": 4,
 "nbformat_minor": 5
}
