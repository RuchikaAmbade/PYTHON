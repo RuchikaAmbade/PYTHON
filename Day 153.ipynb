{
 "cells": [
  {
   "cell_type": "markdown",
   "id": "003fce21-4448-4cff-9a4f-0cd8086694a5",
   "metadata": {},
   "source": [
    "##### WAP to determine if a variable is defined or not"
   ]
  },
  {
   "cell_type": "code",
   "execution_count": 1,
   "id": "2ab99e61-b2f5-4b9d-815d-0d916c445a97",
   "metadata": {},
   "outputs": [
    {
     "name": "stdout",
     "output_type": "stream",
     "text": [
      "Variable is defined.\n",
      "Variable is not defined.\n"
     ]
    }
   ],
   "source": [
    "try:\n",
    "    x=1\n",
    "except NmaeError:\n",
    "    print('Variable is not defined.')\n",
    "else:\n",
    "    print('Variable is defined.')\n",
    "\n",
    "# for undefined variable\n",
    "\n",
    "try:\n",
    "    y\n",
    "except NameError:\n",
    "    print('Variable is not defined.')\n",
    "else:\n",
    "    print('Variable is defined.')"
   ]
  },
  {
   "cell_type": "code",
   "execution_count": null,
   "id": "c5adc7e0-6aaa-4a25-89bc-f4929168c349",
   "metadata": {},
   "outputs": [],
   "source": []
  }
 ],
 "metadata": {
  "kernelspec": {
   "display_name": "Python 3 (ipykernel)",
   "language": "python",
   "name": "python3"
  },
  "language_info": {
   "codemirror_mode": {
    "name": "ipython",
    "version": 3
   },
   "file_extension": ".py",
   "mimetype": "text/x-python",
   "name": "python",
   "nbconvert_exporter": "python",
   "pygments_lexer": "ipython3",
   "version": "3.12.4"
  }
 },
 "nbformat": 4,
 "nbformat_minor": 5
}
