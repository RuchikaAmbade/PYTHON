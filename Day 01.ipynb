{
 "cells": [
  {
   "cell_type": "code",
   "execution_count": null,
   "id": "3f4bcd2c-41ed-4e98-80b0-78d971832cbb",
   "metadata": {},
   "outputs": [],
   "source": [
    "# Arithmatic Operators using input fuction"
   ]
  },
  {
   "cell_type": "code",
   "execution_count": null,
   "id": "cc775cd4-522f-484b-b791-73bdcfb24846",
   "metadata": {},
   "outputs": [],
   "source": [
    "# Addition\n",
    "n1=int(input(\"Enter first number\"))\n",
    "n2=int(input(\"Enter second number\"))\n",
    "result=n1+n2\n",
    "print(\"Addition of n1 and n2 is: \",result)"
   ]
  },
  {
   "cell_type": "code",
   "execution_count": 3,
   "id": "376fc2fe-9f30-4b91-8c2c-794dec1292d7",
   "metadata": {},
   "outputs": [
    {
     "name": "stdin",
     "output_type": "stream",
     "text": [
      "Enter first number 800\n",
      "Enter second number 9\n"
     ]
    },
    {
     "name": "stdout",
     "output_type": "stream",
     "text": [
      "Difference of n1 and n2 is:  791\n"
     ]
    }
   ],
   "source": [
    "# Subtraction\n",
    "n1=int(input(\"Enter first number\"))\n",
    "n2=int(input(\"Enter second number\"))\n",
    "result=n1-n2\n",
    "print(\"Difference of n1 and n2 is: \",result)"
   ]
  },
  {
   "cell_type": "code",
   "execution_count": 5,
   "id": "01dfc955-96fd-4603-a905-85636b0ed52d",
   "metadata": {},
   "outputs": [
    {
     "name": "stdin",
     "output_type": "stream",
     "text": [
      "Enter first number 12\n",
      "Enter second number 5\n"
     ]
    },
    {
     "name": "stdout",
     "output_type": "stream",
     "text": [
      "Multiplication of n1 and n2 is:  60\n"
     ]
    }
   ],
   "source": [
    "# Multiplication\n",
    "n1=int(input(\"Enter first number\"))\n",
    "n2=int(input(\"Enter second number\"))\n",
    "result=n1*n2\n",
    "print(\"Multiplication of n1 and n2 is: \",result)"
   ]
  },
  {
   "cell_type": "code",
   "execution_count": 7,
   "id": "87646b15-0df3-4040-b27a-c74df4c65740",
   "metadata": {},
   "outputs": [
    {
     "name": "stdin",
     "output_type": "stream",
     "text": [
      "Enter first number 105\n",
      "Enter second number 5\n"
     ]
    },
    {
     "name": "stdout",
     "output_type": "stream",
     "text": [
      "Division of n1 and n2 is:  21.0\n"
     ]
    }
   ],
   "source": [
    "# Division\n",
    "n1=int(input(\"Enter first number\"))\n",
    "n2=int(input(\"Enter second number\"))\n",
    "result=n1/n2\n",
    "print(\"Division of n1 and n2 is: \",result)"
   ]
  },
  {
   "cell_type": "code",
   "execution_count": 9,
   "id": "2c877891-c343-4a36-9337-3edfd3bce4cf",
   "metadata": {},
   "outputs": [
    {
     "name": "stdin",
     "output_type": "stream",
     "text": [
      "Enter first number 50\n",
      "Enter second number 3\n"
     ]
    },
    {
     "name": "stdout",
     "output_type": "stream",
     "text": [
      "Floor division of n1 and n2 is:  16\n"
     ]
    }
   ],
   "source": [
    "# Floor division\n",
    "n1=int(input(\"Enter first number\"))\n",
    "n2=int(input(\"Enter second number\"))\n",
    "result=n1//n2\n",
    "print(\"Floor division of n1 and n2 is: \",result)"
   ]
  },
  {
   "cell_type": "code",
   "execution_count": 11,
   "id": "4bdb681a-4630-42da-8e90-492df1608e46",
   "metadata": {},
   "outputs": [
    {
     "name": "stdin",
     "output_type": "stream",
     "text": [
      "Enter first number 50\n",
      "Enter second number 3\n"
     ]
    },
    {
     "name": "stdout",
     "output_type": "stream",
     "text": [
      "Modulo of n1 and n2 is:  2\n"
     ]
    }
   ],
   "source": [
    "# Module\n",
    "n1=int(input(\"Enter first number\"))\n",
    "n2=int(input(\"Enter second number\"))\n",
    "result=n1%n2\n",
    "print(\"Modulo of n1 and n2 is: \",result)"
   ]
  },
  {
   "cell_type": "code",
   "execution_count": 13,
   "id": "78ab54c1-b824-48e8-8a2d-27fcd5d65a24",
   "metadata": {},
   "outputs": [
    {
     "name": "stdin",
     "output_type": "stream",
     "text": [
      "Enter first number 7\n",
      "Enter second number 5\n"
     ]
    },
    {
     "name": "stdout",
     "output_type": "stream",
     "text": [
      "Value of n1 to the power n2 is:  16807\n"
     ]
    }
   ],
   "source": [
    "#Power\n",
    "n1=int(input(\"Enter first number\"))\n",
    "n2=int(input(\"Enter second number\"))\n",
    "result=n1**n2\n",
    "print(\"Value of n1 to the power n2 is: \",result)"
   ]
  },
  {
   "cell_type": "code",
   "execution_count": null,
   "id": "1e0ecc26-5557-4e6d-a540-3586750e13e8",
   "metadata": {},
   "outputs": [],
   "source": [
    "# Area of square"
   ]
  },
  {
   "cell_type": "code",
   "execution_count": 17,
   "id": "de0567d7-269e-47e7-a1b2-86690340d135",
   "metadata": {},
   "outputs": [
    {
     "name": "stdin",
     "output_type": "stream",
     "text": [
      "Enter value of side 4\n"
     ]
    },
    {
     "name": "stdout",
     "output_type": "stream",
     "text": [
      "Area of square is : 16\n"
     ]
    }
   ],
   "source": [
    "side=int(input(\"Enter value of side\"))\n",
    "area = side*side\n",
    "print(\"Area of square is :\",area)"
   ]
  },
  {
   "cell_type": "code",
   "execution_count": null,
   "id": "d0a6f7d4-dce1-4012-a25b-5d8dd8ee7809",
   "metadata": {},
   "outputs": [],
   "source": [
    "# Area of rectangle"
   ]
  },
  {
   "cell_type": "code",
   "execution_count": 23,
   "id": "351487bc-d3f7-4326-923a-e2bfe357d092",
   "metadata": {},
   "outputs": [
    {
     "name": "stdin",
     "output_type": "stream",
     "text": [
      "Enter value of length 6\n",
      "Enter value of breadth 4\n"
     ]
    },
    {
     "name": "stdout",
     "output_type": "stream",
     "text": [
      "Area of rectangle is : 24\n"
     ]
    }
   ],
   "source": [
    "length=int(input(\"Enter value of length\"))\n",
    "breadth=int(input(\"Enter value of breadth\"))\n",
    "area=length*breadth\n",
    "print(\"Area of rectangle is :\",area)"
   ]
  },
  {
   "cell_type": "code",
   "execution_count": null,
   "id": "ffdeba45-5ebf-46b1-9501-9ecdd126c73d",
   "metadata": {},
   "outputs": [],
   "source": [
    "# Area of triangle"
   ]
  },
  {
   "cell_type": "code",
   "execution_count": 27,
   "id": "4640e299-6442-4f2a-b0b2-84bb48e8b22d",
   "metadata": {},
   "outputs": [
    {
     "name": "stdin",
     "output_type": "stream",
     "text": [
      "Enter value of base 5\n",
      "Enter value of height 4\n"
     ]
    },
    {
     "name": "stdout",
     "output_type": "stream",
     "text": [
      "Area of triangle is : 10.0\n"
     ]
    }
   ],
   "source": [
    "base=int(input(\"Enter value of base\"))\n",
    "height=int(input(\"Enter value of height\"))\n",
    "area=(base*height)/2\n",
    "print(\"Area of triangle is :\",area)"
   ]
  },
  {
   "cell_type": "code",
   "execution_count": null,
   "id": "5a0808e4-6bbf-4ea7-a26a-dd23c43773ed",
   "metadata": {},
   "outputs": [],
   "source": []
  }
 ],
 "metadata": {
  "kernelspec": {
   "display_name": "Python 3 (ipykernel)",
   "language": "python",
   "name": "python3"
  },
  "language_info": {
   "codemirror_mode": {
    "name": "ipython",
    "version": 3
   },
   "file_extension": ".py",
   "mimetype": "text/x-python",
   "name": "python",
   "nbconvert_exporter": "python",
   "pygments_lexer": "ipython3",
   "version": "3.12.4"
  }
 },
 "nbformat": 4,
 "nbformat_minor": 5
}
