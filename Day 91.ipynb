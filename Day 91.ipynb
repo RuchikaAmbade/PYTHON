{
 "cells": [
  {
   "cell_type": "markdown",
   "id": "16bea733-301e-4827-96f7-bb41bfc3507b",
   "metadata": {},
   "source": [
    "##### 1 Create a 5x5 list of lists with row values ranging from 0 to 4."
   ]
  },
  {
   "cell_type": "code",
   "execution_count": 1,
   "id": "c9df746b-4fc9-46b9-8181-06888233b94f",
   "metadata": {},
   "outputs": [
    {
     "name": "stdout",
     "output_type": "stream",
     "text": [
      "[[0, 1, 2, 3, 4], [0, 1, 2, 3, 4], [0, 1, 2, 3, 4], [0, 1, 2, 3, 4], [0, 1, 2, 3, 4]]\n"
     ]
    }
   ],
   "source": [
    "matrix = [[i for i in range(5)] for _ in range(5)]\n",
    "print(matrix)"
   ]
  },
  {
   "cell_type": "markdown",
   "id": "6b615731-f8e4-4a2c-8bf2-d691f2f43728",
   "metadata": {},
   "source": [
    "##### 2 Find the index of the maximum value in a list."
   ]
  },
  {
   "cell_type": "code",
   "execution_count": 5,
   "id": "275ee79f-0c3d-428f-bfee-6a81292796c2",
   "metadata": {},
   "outputs": [
    {
     "name": "stdout",
     "output_type": "stream",
     "text": [
      "3\n"
     ]
    }
   ],
   "source": [
    "lst = [3,7,1,10,4]\n",
    "max_index = lst.index(max(lst))\n",
    "print(max_index)"
   ]
  },
  {
   "cell_type": "markdown",
   "id": "12274c42-4e94-46b2-86bb-738225a9810b",
   "metadata": {},
   "source": [
    "##### 3 Normalize the values in a list between 0 and 1."
   ]
  },
  {
   "cell_type": "code",
   "execution_count": 10,
   "id": "e09c1417-d63f-40b1-ab14-254d76a20bf6",
   "metadata": {},
   "outputs": [
    {
     "name": "stdout",
     "output_type": "stream",
     "text": [
      "[0.0, 0.375, 1.0, 0.125, 0.75]\n"
     ]
    }
   ],
   "source": [
    "lst = [2,5,10,3,8]\n",
    "min_val,max_val = min(lst),max(lst)\n",
    "normalized_lst = [(x - min_val) / (max_val - min_val)  for x in lst]\n",
    "print(normalized_lst)"
   ]
  },
  {
   "cell_type": "markdown",
   "id": "2b5fb8ef-c6c4-48a7-945b-d52501caeb8d",
   "metadata": {},
   "source": [
    "##### 4 Calculate the dot product of two lists."
   ]
  },
  {
   "cell_type": "code",
   "execution_count": 14,
   "id": "6ec5c33c-0f8f-4847-bcab-09ddde01eff8",
   "metadata": {},
   "outputs": [
    {
     "name": "stdout",
     "output_type": "stream",
     "text": [
      "32\n"
     ]
    }
   ],
   "source": [
    "lst1=[1,2,3]\n",
    "lst2=[4,5,6]\n",
    "dot_product= sum(x*y for x,y in zip(lst1,lst2))\n",
    "print(dot_product)"
   ]
  },
  {
   "cell_type": "markdown",
   "id": "ae3cdc20-58f7-458f-92b1-1fdfef380e56",
   "metadata": {},
   "source": [
    "##### 5 Count the number of elements in a list within a specific range."
   ]
  },
  {
   "cell_type": "code",
   "execution_count": 18,
   "id": "ef487654-1e04-4ddc-a4c2-061c7e8087b3",
   "metadata": {},
   "outputs": [
    {
     "name": "stdout",
     "output_type": "stream",
     "text": [
      "4\n"
     ]
    }
   ],
   "source": [
    "lst=[2,5,8,10,12,15]\n",
    "count_within_range = sum(5<=x<=12 for x in lst)\n",
    "print(count_within_range)"
   ]
  },
  {
   "cell_type": "code",
   "execution_count": null,
   "id": "6f713da9-2207-4f74-9c2b-b9097f1b2a32",
   "metadata": {},
   "outputs": [],
   "source": []
  }
 ],
 "metadata": {
  "kernelspec": {
   "display_name": "Python 3 (ipykernel)",
   "language": "python",
   "name": "python3"
  },
  "language_info": {
   "codemirror_mode": {
    "name": "ipython",
    "version": 3
   },
   "file_extension": ".py",
   "mimetype": "text/x-python",
   "name": "python",
   "nbconvert_exporter": "python",
   "pygments_lexer": "ipython3",
   "version": "3.12.4"
  }
 },
 "nbformat": 4,
 "nbformat_minor": 5
}
