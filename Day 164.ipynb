{
 "cells": [
  {
   "cell_type": "code",
   "execution_count": 3,
   "id": "f69107a4-a5bb-4984-966a-eaa170dfffa3",
   "metadata": {},
   "outputs": [],
   "source": [
    "# Write a python code to take in an integer input and store it in a variable a."
   ]
  },
  {
   "cell_type": "code",
   "execution_count": 1,
   "id": "08dc7956-4a41-4aa2-b8d4-396e062ab0c2",
   "metadata": {},
   "outputs": [
    {
     "name": "stdin",
     "output_type": "stream",
     "text": [
      " 24\n"
     ]
    }
   ],
   "source": [
    "a = int(input())"
   ]
  },
  {
   "cell_type": "code",
   "execution_count": 5,
   "id": "995fa043-1207-43b8-aeef-36c56eb23b1a",
   "metadata": {},
   "outputs": [],
   "source": [
    "# Display a's typecast."
   ]
  },
  {
   "cell_type": "code",
   "execution_count": 9,
   "id": "4d3fa4af-175d-42b8-8e40-8b303dffe840",
   "metadata": {},
   "outputs": [
    {
     "name": "stdout",
     "output_type": "stream",
     "text": [
      "<class 'int'>\n"
     ]
    }
   ],
   "source": [
    "print(type(a))"
   ]
  },
  {
   "cell_type": "code",
   "execution_count": null,
   "id": "3d0dec95-35fb-4347-a03d-8e45617cce56",
   "metadata": {},
   "outputs": [],
   "source": [
    "# Print 'True' if a is greater than or equal to 5, 'False' otherwise"
   ]
  },
  {
   "cell_type": "code",
   "execution_count": 11,
   "id": "40ddfa2c-856b-4047-9ab0-1fda86395bbb",
   "metadata": {},
   "outputs": [
    {
     "name": "stdout",
     "output_type": "stream",
     "text": [
      "Ture\n"
     ]
    }
   ],
   "source": [
    "if a >= 5 :\n",
    "    print('Ture')\n",
    "else:\n",
    "    print('Flase')"
   ]
  },
  {
   "cell_type": "code",
   "execution_count": 13,
   "id": "a57efa9d-96af-41f3-b466-6d676330c3da",
   "metadata": {},
   "outputs": [],
   "source": [
    "# Take a string input of your name and store it as a list of separate letters. e.g. if your name is Rahul, take input of your name and store it in a list containing ['R','a','h','u','l']. Name the list as 'l'. Print 'l'."
   ]
  },
  {
   "cell_type": "code",
   "execution_count": 16,
   "id": "2bb9229b-5e68-421c-9bff-c045bae9196f",
   "metadata": {},
   "outputs": [
    {
     "name": "stdin",
     "output_type": "stream",
     "text": [
      " Ruchika\n"
     ]
    },
    {
     "name": "stdout",
     "output_type": "stream",
     "text": [
      "['R', 'u', 'c', 'h', 'i', 'k', 'a']\n"
     ]
    }
   ],
   "source": [
    "name = str(input())\n",
    "l1 = list(name)\n",
    "print(l1)"
   ]
  },
  {
   "cell_type": "code",
   "execution_count": null,
   "id": "9e7ef062-0065-476b-a48f-12386b44f044",
   "metadata": {},
   "outputs": [],
   "source": []
  },
  {
   "cell_type": "code",
   "execution_count": null,
   "id": "6f928a01-fd2a-4d09-a8b7-f4079aee7ef6",
   "metadata": {},
   "outputs": [],
   "source": [
    "# Take a string input and print all the unique letters of the string.(pass in your string as all lowercase) e.g: string: 'india', output: {'i','n','d','a'}"
   ]
  },
  {
   "cell_type": "code",
   "execution_count": 18,
   "id": "dfdfc2a7-acc4-442c-8aec-fe10e09fa9d4",
   "metadata": {},
   "outputs": [
    {
     "name": "stdin",
     "output_type": "stream",
     "text": [
      " seema\n"
     ]
    },
    {
     "name": "stdout",
     "output_type": "stream",
     "text": [
      "{'s', 'a', 'm', 'e'}\n"
     ]
    }
   ],
   "source": [
    "string = str(input())\n",
    "s = set(string)\n",
    "print(s)"
   ]
  },
  {
   "cell_type": "code",
   "execution_count": null,
   "id": "ed13975b-86ef-4e9b-b868-0146fed32a44",
   "metadata": {},
   "outputs": [],
   "source": [
    "# Print the sum of numbers from 1 to n where n is the input by the user."
   ]
  },
  {
   "cell_type": "code",
   "execution_count": 22,
   "id": "04b2510a-18b2-46ce-9e7f-25c78e9c850b",
   "metadata": {},
   "outputs": [
    {
     "name": "stdin",
     "output_type": "stream",
     "text": [
      " 10\n"
     ]
    },
    {
     "name": "stdout",
     "output_type": "stream",
     "text": [
      "55\n"
     ]
    }
   ],
   "source": [
    "n = int(input())\n",
    "sum = 0\n",
    "for i in range(1,n+1):\n",
    "    sum = sum+i\n",
    "    i = n+1\n",
    "print(sum)"
   ]
  },
  {
   "cell_type": "code",
   "execution_count": 26,
   "id": "41a90c2d-b818-4e51-8661-ba58f5fe9499",
   "metadata": {},
   "outputs": [
    {
     "name": "stdout",
     "output_type": "stream",
     "text": [
      "55\n"
     ]
    }
   ],
   "source": [
    "n = 10\n",
    "for i in range(1,n):\n",
    "    n= n+i\n",
    "print(n)"
   ]
  },
  {
   "cell_type": "code",
   "execution_count": null,
   "id": "709fdabf-44eb-4cc5-958c-2144ceca6808",
   "metadata": {},
   "outputs": [],
   "source": [
    "# Print all the even numbers between 1 to n where n is the input given by user."
   ]
  },
  {
   "cell_type": "code",
   "execution_count": 36,
   "id": "6b4968e4-7fb1-4f8a-8b04-4e77f1e6c1e8",
   "metadata": {},
   "outputs": [
    {
     "name": "stdin",
     "output_type": "stream",
     "text": [
      " 10\n"
     ]
    },
    {
     "name": "stdout",
     "output_type": "stream",
     "text": [
      "2\n",
      "4\n",
      "6\n",
      "8\n",
      "10\n"
     ]
    }
   ],
   "source": [
    "n = int(input())\n",
    "for i in range(1,n+1):\n",
    "    if i%2 == 0:\n",
    "        print(i)"
   ]
  },
  {
   "cell_type": "code",
   "execution_count": null,
   "id": "46494bb6-76fc-4984-93fd-e18fbf1ff46c",
   "metadata": {},
   "outputs": [],
   "source": [
    "# Print all the numbers from n to 1 in reverse order. e.g.: let n = 10, output = 10 9 8 7 6 5 4 3 2 1"
   ]
  },
  {
   "cell_type": "code",
   "execution_count": 44,
   "id": "4c00db7d-15af-4b15-ba62-7654f14d336f",
   "metadata": {},
   "outputs": [
    {
     "name": "stdin",
     "output_type": "stream",
     "text": [
      " 10\n"
     ]
    },
    {
     "name": "stdout",
     "output_type": "stream",
     "text": [
      "10\n",
      "9\n",
      "8\n",
      "7\n",
      "6\n",
      "5\n",
      "4\n",
      "3\n",
      "2\n",
      "1\n"
     ]
    }
   ],
   "source": [
    "n=int(input())\n",
    "for i in range(n,0,-1):\n",
    "    print(i)"
   ]
  },
  {
   "cell_type": "code",
   "execution_count": null,
   "id": "f7fb5c51-a49b-4fd2-968e-d812d3e7dab6",
   "metadata": {},
   "outputs": [],
   "source": [
    "# A factorial of a number is defined as n! = n*(n-1)(n-2)(n-3)*....*1. Write a python code to display factorial of a number n."
   ]
  },
  {
   "cell_type": "code",
   "execution_count": 60,
   "id": "bb7c9b44-397a-4a8e-9ddf-9a67b8a06fc9",
   "metadata": {},
   "outputs": [
    {
     "name": "stdin",
     "output_type": "stream",
     "text": [
      " 5\n"
     ]
    },
    {
     "name": "stdout",
     "output_type": "stream",
     "text": [
      "120\n"
     ]
    }
   ],
   "source": [
    "n = int(input())\n",
    "a = 1\n",
    "for i in range(1,n+1):\n",
    "    a= a*i\n",
    "    i = i-1\n",
    "print(a)"
   ]
  },
  {
   "cell_type": "code",
   "execution_count": 62,
   "id": "dd28fdd2-b4e0-421f-ad2d-ad3063042106",
   "metadata": {},
   "outputs": [],
   "source": [
    "# Print multiplication table of an integer n.\n",
    "# n x 1 = n\n",
    "# n x 2 = 2n\n",
    "# so on... till 10."
   ]
  },
  {
   "cell_type": "code",
   "execution_count": 70,
   "id": "6af506ca-6712-46fc-a491-b4650038c359",
   "metadata": {},
   "outputs": [
    {
     "name": "stdout",
     "output_type": "stream",
     "text": [
      "2\n",
      "4\n",
      "6\n",
      "8\n",
      "10\n",
      "12\n",
      "14\n",
      "16\n",
      "18\n",
      "20\n"
     ]
    }
   ],
   "source": [
    "n=2\n",
    "for i in range(1,11):\n",
    "   print(n*i)"
   ]
  },
  {
   "cell_type": "code",
   "execution_count": 74,
   "id": "755009be-6a9a-4872-8ecd-5a32bf4b5241",
   "metadata": {},
   "outputs": [
    {
     "name": "stdout",
     "output_type": "stream",
     "text": [
      "2\n",
      "4\n",
      "6\n",
      "8\n",
      "10\n",
      "12\n",
      "14\n",
      "16\n",
      "18\n",
      "20\n"
     ]
    }
   ],
   "source": [
    "n = 2\n",
    "a= 1\n",
    "for i in range(1,11):\n",
    "    a= n*i\n",
    "    print(a)"
   ]
  },
  {
   "cell_type": "code",
   "execution_count": null,
   "id": "c20fa392-6097-484a-8dd1-f28c5e891c19",
   "metadata": {},
   "outputs": [],
   "source": []
  }
 ],
 "metadata": {
  "kernelspec": {
   "display_name": "Python 3 (ipykernel)",
   "language": "python",
   "name": "python3"
  },
  "language_info": {
   "codemirror_mode": {
    "name": "ipython",
    "version": 3
   },
   "file_extension": ".py",
   "mimetype": "text/x-python",
   "name": "python",
   "nbconvert_exporter": "python",
   "pygments_lexer": "ipython3",
   "version": "3.12.4"
  }
 },
 "nbformat": 4,
 "nbformat_minor": 5
}
