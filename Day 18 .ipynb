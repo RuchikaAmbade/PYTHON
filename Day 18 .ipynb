{
 "cells": [
  {
   "cell_type": "markdown",
   "id": "2f53169e-aecb-4f27-9b1a-33bb41674804",
   "metadata": {},
   "source": [
    "##### 1"
   ]
  },
  {
   "cell_type": "code",
   "execution_count": 3,
   "id": "deaa83e5-181d-444b-b688-cc04b0f08989",
   "metadata": {},
   "outputs": [
    {
     "data": {
      "text/plain": [
       "23"
      ]
     },
     "execution_count": 3,
     "metadata": {},
     "output_type": "execute_result"
    }
   ],
   "source": [
    "def add(a,b):\n",
    "    res=a+b\n",
    "    return res\n",
    "\n",
    "add(9,14)"
   ]
  },
  {
   "cell_type": "markdown",
   "id": "0fba3106-ec25-4ef3-8152-af4c91c7439b",
   "metadata": {},
   "source": [
    "##### 2"
   ]
  },
  {
   "cell_type": "code",
   "execution_count": 9,
   "id": "a6262086-95dc-4128-a797-71a57831fc97",
   "metadata": {},
   "outputs": [
    {
     "name": "stdout",
     "output_type": "stream",
     "text": [
      "Multiplication of 'a' and 'b' is : 56\n"
     ]
    }
   ],
   "source": [
    "def multiply(a,b):\n",
    "    res=a*b\n",
    "    print(\"Multiplication of 'a' and 'b' is :\",res)\n",
    "\n",
    "multiply(8,7)"
   ]
  },
  {
   "cell_type": "markdown",
   "id": "67add9ef-0ce2-4042-9ed7-398684cd8142",
   "metadata": {},
   "source": [
    "##### 3"
   ]
  },
  {
   "cell_type": "code",
   "execution_count": 13,
   "id": "4c80a097-3d91-48e6-a895-bba1161f906a",
   "metadata": {},
   "outputs": [
    {
     "data": {
      "text/plain": [
       "3.0"
      ]
     },
     "execution_count": 13,
     "metadata": {},
     "output_type": "execute_result"
    }
   ],
   "source": [
    "def divide():\n",
    "    a=6\n",
    "    b=2\n",
    "    c=a/b\n",
    "    return c\n",
    "\n",
    "divide()"
   ]
  },
  {
   "cell_type": "markdown",
   "id": "8d940bc9-1f65-40be-adb8-de094fadf271",
   "metadata": {},
   "source": [
    "##### 4"
   ]
  },
  {
   "cell_type": "code",
   "execution_count": 15,
   "id": "f160eaff-5137-42a4-a415-8dfa893c29aa",
   "metadata": {},
   "outputs": [
    {
     "name": "stdout",
     "output_type": "stream",
     "text": [
      "Subraction of 'a' and 'b' : 82\n"
     ]
    }
   ],
   "source": [
    "def subtract():\n",
    "    a=89\n",
    "    b=7\n",
    "    c=a-b\n",
    "    print(\"Subraction of 'a' and 'b' :\",c)\n",
    "\n",
    "subtract()"
   ]
  },
  {
   "cell_type": "markdown",
   "id": "89fd4e74-d961-4807-8fdb-5cffbdf7ef2b",
   "metadata": {},
   "source": [
    "##### 5"
   ]
  },
  {
   "cell_type": "code",
   "execution_count": 17,
   "id": "de95752e-3277-4fb8-b74c-03d3ba372792",
   "metadata": {},
   "outputs": [
    {
     "data": {
      "text/plain": [
       "64"
      ]
     },
     "execution_count": 17,
     "metadata": {},
     "output_type": "execute_result"
    }
   ],
   "source": [
    "# area of square\n",
    "def area_of_square(s):\n",
    "    area=s**2\n",
    "    return area\n",
    "\n",
    "area_of_square(8)"
   ]
  },
  {
   "cell_type": "markdown",
   "id": "f7326575-cfb3-47cb-bf4b-9edb1ad3a5c4",
   "metadata": {},
   "source": [
    "##### 6 Diamond pattern"
   ]
  },
  {
   "cell_type": "code",
   "execution_count": 20,
   "id": "e9bde79c-cd19-43e4-a0bb-6f3e9a04047b",
   "metadata": {},
   "outputs": [
    {
     "name": "stdout",
     "output_type": "stream",
     "text": [
      "          A \n",
      "        B B B \n",
      "      C C C C C \n",
      "    D D D D D D D \n",
      "  E E E E E E E E E \n",
      "    F F F F F F F \n",
      "      G G G G G \n",
      "        H H H \n",
      "          I \n"
     ]
    }
   ],
   "source": [
    "n=5\n",
    "p=65\n",
    "for i in range(1,n+1):\n",
    "    for j in range(i,n+1):\n",
    "        print(\" \",end=\" \")\n",
    "    for j in range(1,i+1):\n",
    "        print(chr(p),end=\" \")\n",
    "    for j in range(2,i+1):\n",
    "        print(chr(p),end=\" \")\n",
    "    p=p+1\n",
    "    print()\n",
    "for i in range(2,n+1):\n",
    "    for j in range(1,i+1):\n",
    "        print(\" \",end=\" \")\n",
    "    for j in range(i,n+1):\n",
    "        print(chr(p),end=\" \")\n",
    "    for j in range(i+1,n+1):\n",
    "        print(chr(p),end=\" \")\n",
    "    p=p+1\n",
    "    print()"
   ]
  },
  {
   "cell_type": "markdown",
   "id": "23abf502-03e1-4077-ac25-66bf88ccd937",
   "metadata": {},
   "source": [
    "##### 7 pattern : Change in column characters"
   ]
  },
  {
   "cell_type": "code",
   "execution_count": 30,
   "id": "e62bad72-6b51-46d2-b4ff-ed246652790f",
   "metadata": {},
   "outputs": [
    {
     "name": "stdout",
     "output_type": "stream",
     "text": [
      "A \n",
      "A B \n",
      "A B C \n",
      "A B C D \n",
      "A B C D E \n"
     ]
    }
   ],
   "source": [
    "n=5\n",
    "for i in range(1,n+1):\n",
    "    p=65\n",
    "    for j in range(1,i+1):\n",
    "        print(chr(p),end=\" \")\n",
    "        p=p+1\n",
    "    print()"
   ]
  },
  {
   "cell_type": "markdown",
   "id": "d60e7c5c-07d0-4439-b23a-9d2da3160147",
   "metadata": {},
   "source": [
    "##### 8"
   ]
  },
  {
   "cell_type": "code",
   "execution_count": 40,
   "id": "92c3c082-7f39-47cb-992e-5a85950bc358",
   "metadata": {},
   "outputs": [
    {
     "name": "stdout",
     "output_type": "stream",
     "text": [
      "  A B C D E \n",
      "    A B C D \n",
      "      A B C \n",
      "        A B \n",
      "          A \n"
     ]
    }
   ],
   "source": [
    "n=5\n",
    "for i in range(1,n+1):\n",
    "    p=65\n",
    "    for j in range(1,i+1):\n",
    "        print(\" \",end=\" \")\n",
    "    for j in range(i,n+1):\n",
    "        print(chr(p),end=\" \")\n",
    "        p=p+1\n",
    "    print()"
   ]
  },
  {
   "cell_type": "markdown",
   "id": "9fc00154-d7aa-4449-bfd8-f5a654d4cc92",
   "metadata": {},
   "source": [
    "##### 9  Hill pattern"
   ]
  },
  {
   "cell_type": "code",
   "execution_count": 69,
   "id": "23d5dee3-f299-4147-a6de-b65978e6cba2",
   "metadata": {},
   "outputs": [
    {
     "name": "stdout",
     "output_type": "stream",
     "text": [
      "          A \n",
      "        A B C \n",
      "      A B C D E \n",
      "    A B C D E F G \n",
      "  A B C D E F G H I \n"
     ]
    }
   ],
   "source": [
    "n=5\n",
    "for i in range(1,n+1):\n",
    "    p=65\n",
    "    for j in range(i,n+1):\n",
    "        print(\" \",end=\" \")\n",
    "    for j in range(1,i+1):\n",
    "        print(chr(p),end=\" \")\n",
    "        p=p+1\n",
    "    for j in range(2,i+1):\n",
    "        print(chr(p),end=\" \")\n",
    "        p=p+1\n",
    "    print()"
   ]
  },
  {
   "cell_type": "markdown",
   "id": "726213dc-7ff9-4f99-8ff3-889cfe927774",
   "metadata": {},
   "source": [
    "##### 10 "
   ]
  },
  {
   "cell_type": "code",
   "execution_count": 73,
   "id": "ced07dc7-eaee-4871-87fb-f342979a5913",
   "metadata": {},
   "outputs": [
    {
     "name": "stdout",
     "output_type": "stream",
     "text": [
      "          A \n",
      "        A B C \n",
      "      A B C D E \n",
      "    A B C D E F G \n",
      "  A B C D E F G H I \n",
      "    A B C D E F G \n",
      "      A B C D E \n",
      "        A B C \n",
      "          A \n"
     ]
    }
   ],
   "source": [
    "n=5\n",
    "for i in range(1,n+1):\n",
    "    p=65\n",
    "    for j in range(i,n+1):\n",
    "        print(\" \",end=\" \")\n",
    "    for j in range(1,i+1):\n",
    "        print(chr(p),end=\" \")\n",
    "        p=p+1\n",
    "    for j in range(2,i+1):\n",
    "        print(chr(p),end=\" \")\n",
    "        p=p+1\n",
    "    print()\n",
    "for i in range(2,n+1):\n",
    "    p=65\n",
    "    for j in range(1,i+1):\n",
    "        print(\" \",end=\" \")\n",
    "    for j in range(i,n+1):\n",
    "        print(chr(p),end=\" \")\n",
    "        p=p+1\n",
    "    for j in range(i+1,n+1):\n",
    "        print(chr(p),end=\" \")\n",
    "        p=p+1\n",
    "    print()"
   ]
  },
  {
   "cell_type": "code",
   "execution_count": null,
   "id": "bb3fbe07-9e37-4a6c-be1f-20eb5d86ac9a",
   "metadata": {},
   "outputs": [],
   "source": []
  }
 ],
 "metadata": {
  "kernelspec": {
   "display_name": "Python 3 (ipykernel)",
   "language": "python",
   "name": "python3"
  },
  "language_info": {
   "codemirror_mode": {
    "name": "ipython",
    "version": 3
   },
   "file_extension": ".py",
   "mimetype": "text/x-python",
   "name": "python",
   "nbconvert_exporter": "python",
   "pygments_lexer": "ipython3",
   "version": "3.12.4"
  }
 },
 "nbformat": 4,
 "nbformat_minor": 5
}
