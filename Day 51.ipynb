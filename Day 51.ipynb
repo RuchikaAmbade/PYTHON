{
 "cells": [
  {
   "cell_type": "markdown",
   "id": "469c1825-ea56-44bc-aee2-60f301a3415b",
   "metadata": {},
   "source": [
    "##### 1 WAP that takes a sequence of numbers and determines whether all the numbers are different from each other"
   ]
  },
  {
   "cell_type": "code",
   "execution_count": 3,
   "id": "d59e8f24-f232-4fe4-9ee7-94f4a8b73199",
   "metadata": {},
   "outputs": [
    {
     "name": "stdout",
     "output_type": "stream",
     "text": [
      "True\n",
      "False\n"
     ]
    }
   ],
   "source": [
    "def test_distinct(data):\n",
    "    if len(data)==len(set(data)):\n",
    "        return True\n",
    "    else:\n",
    "        return False\n",
    "\n",
    "print(test_distinct([1,5,7,9]))\n",
    "print(test_distinct([2,4,5,5,7,9]))"
   ]
  },
  {
   "cell_type": "markdown",
   "id": "e6d17838-74f1-45ba-bf33-9e68402a0ed6",
   "metadata": {},
   "source": [
    "##### 2 WAP that creates all posiible strings using the letters 'a','e','i','o','u' and 'I'.Ensure that each character is used only once"
   ]
  },
  {
   "cell_type": "code",
   "execution_count": 6,
   "id": "da61b042-6887-440e-a237-409e91736c5c",
   "metadata": {},
   "outputs": [
    {
     "name": "stdout",
     "output_type": "stream",
     "text": [
      "ieaou\n"
     ]
    }
   ],
   "source": [
    "import random\n",
    "char_list = ['a','e','i','o','u']\n",
    "random.shuffle(char_list)\n",
    "print(''.join(char_list))"
   ]
  },
  {
   "cell_type": "markdown",
   "id": "536ef691-4c1f-45a8-8edd-d232e2d918c6",
   "metadata": {},
   "source": [
    "##### 3 WAP that removes and prints every third number from a list of numbers until the list is empty"
   ]
  },
  {
   "cell_type": "code",
   "execution_count": 3,
   "id": "3382ee07-b111-4330-ad8f-b7c1c1c6cfab",
   "metadata": {},
   "outputs": [
    {
     "name": "stdout",
     "output_type": "stream",
     "text": [
      "Removed:30\n",
      "Removed:60\n",
      "Removed:90\n",
      "Removed:40\n",
      "Removed:80\n",
      "Removed:50\n",
      "Removed:20\n",
      "Removed:70\n",
      "Removed:10\n"
     ]
    }
   ],
   "source": [
    "def remove_every_third(numbers):\n",
    "    index=2\n",
    "    while len(numbers)>0:\n",
    "        index = index%len(numbers)\n",
    "        print(f'Removed:{numbers.pop(index)}')\n",
    "        index += 2\n",
    "\n",
    "numbers = [10,20,30,40,50,60,70,80,90]\n",
    "remove_every_third(numbers)"
   ]
  },
  {
   "cell_type": "markdown",
   "id": "c5679ce9-00b2-4a4e-ad46-465b973c8664",
   "metadata": {},
   "source": [
    "##### 4 WAP to make combinations of 3 digits"
   ]
  },
  {
   "cell_type": "code",
   "execution_count": 15,
   "id": "31dda77c-b3f7-4085-be80-621ce93a8fe6",
   "metadata": {},
   "outputs": [
    {
     "name": "stdout",
     "output_type": "stream",
     "text": [
      "999\n"
     ]
    }
   ],
   "source": [
    "numbers = []\n",
    "\n",
    "for num in range(1000):\n",
    "    num = str(num).zfill(3)\n",
    "\n",
    "print(num)\n",
    "numbers.append(num)\n"
   ]
  },
  {
   "cell_type": "markdown",
   "id": "eddf1bcc-b76c-4c91-a4fb-8aa5ac12ed2e",
   "metadata": {},
   "source": [
    "##### 5 WAP that prints long text, converts it to a list,and prints all the words and frequency of each word"
   ]
  },
  {
   "cell_type": "code",
   "execution_count": 17,
   "id": "3288da6f-2751-4772-ad76-9ed10f9ea1a3",
   "metadata": {},
   "outputs": [
    {
     "name": "stdout",
     "output_type": "stream",
     "text": [
      "String:\n",
      " In a village of La Mancha, the name of which I have no desire to call to mind, there lived not long since one of those gentelmen\n",
      "that keep a lance in the lance-rack,an old buckler,a lean hack, and a greyhound for coursing. \n",
      "\n",
      "List:\n",
      " ['In', 'a', 'village', 'of', 'La', 'Mancha,', 'the', 'name', 'of', 'which', 'I', 'have', 'no', 'desire', 'to', 'call', 'to', 'mind,', 'there', 'lived', 'not', 'long', 'since', 'one', 'of', 'those', 'gentelmen', 'that', 'keep', 'a', 'lance', 'in', 'the', 'lance-rack,an', 'old', 'buckler,a', 'lean', 'hack,', 'and', 'a', 'greyhound', 'for', 'coursing.'] \n",
      "\n",
      "Pairs (words and Frequencies :\n",
      " [('In', 1), ('a', 3), ('village', 1), ('of', 3), ('La', 1), ('Mancha,', 1), ('the', 2), ('name', 1), ('of', 3), ('which', 1), ('I', 1), ('have', 1), ('no', 1), ('desire', 1), ('to', 2), ('call', 1), ('to', 2), ('mind,', 1), ('there', 1), ('lived', 1), ('not', 1), ('long', 1), ('since', 1), ('one', 1), ('of', 3), ('those', 1), ('gentelmen', 1), ('that', 1), ('keep', 1), ('a', 3), ('lance', 1), ('in', 1), ('the', 2), ('lance-rack,an', 1), ('old', 1), ('buckler,a', 1), ('lean', 1), ('hack,', 1), ('and', 1), ('a', 3), ('greyhound', 1), ('for', 1), ('coursing.', 1)]\n"
     ]
    }
   ],
   "source": [
    "string_words=\"\"\"In a village of La Mancha, the name of which I have no desire to call to mind, there lived not long since one of those gentelmen\n",
    "that keep a lance in the lance-rack,an old buckler,a lean hack, and a greyhound for coursing.\"\"\"\n",
    "word_list = string_words.split()\n",
    "word_freq = [word_list.count(n) for n in word_list]\n",
    "\n",
    "print('String:\\n {} \\n'.format(string_words))\n",
    "print('List:\\n {} \\n'.format(str(word_list)))\n",
    "print('Pairs (words and Frequencies :\\n {}'.format(str(list(zip(word_list,word_freq)))))"
   ]
  },
  {
   "cell_type": "code",
   "execution_count": null,
   "id": "f12bd16b-1f46-46a4-8499-0995415fc1fc",
   "metadata": {},
   "outputs": [],
   "source": []
  }
 ],
 "metadata": {
  "kernelspec": {
   "display_name": "Python 3 (ipykernel)",
   "language": "python",
   "name": "python3"
  },
  "language_info": {
   "codemirror_mode": {
    "name": "ipython",
    "version": 3
   },
   "file_extension": ".py",
   "mimetype": "text/x-python",
   "name": "python",
   "nbconvert_exporter": "python",
   "pygments_lexer": "ipython3",
   "version": "3.12.4"
  }
 },
 "nbformat": 4,
 "nbformat_minor": 5
}
