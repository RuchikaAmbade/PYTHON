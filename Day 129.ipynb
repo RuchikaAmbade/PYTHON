{
 "cells": [
  {
   "cell_type": "markdown",
   "id": "057ba572-f421-4d39-92d6-5667341a4b99",
   "metadata": {},
   "source": [
    "##### WAP to determine whether a given year is a leap year."
   ]
  },
  {
   "cell_type": "code",
   "execution_count": 3,
   "id": "83b6aa0a-c0cb-4faa-b673-e2208ec4fe47",
   "metadata": {},
   "outputs": [
    {
     "name": "stdout",
     "output_type": "stream",
     "text": [
      "False\n",
      "True\n"
     ]
    }
   ],
   "source": [
    "def leap_year(y):\n",
    "    if y%400 == 0:\n",
    "        return True\n",
    "    if y%100 == 0:\n",
    "        return False\n",
    "    if y%4 == 0:\n",
    "        return True\n",
    "    else:\n",
    "        return False\n",
    "\n",
    "print(leap_year(1900))\n",
    "print(leap_year(2004))"
   ]
  },
  {
   "cell_type": "code",
   "execution_count": null,
   "id": "42015a27-7ee0-4935-891a-286e2bccfc1a",
   "metadata": {},
   "outputs": [],
   "source": []
  }
 ],
 "metadata": {
  "kernelspec": {
   "display_name": "Python 3 (ipykernel)",
   "language": "python",
   "name": "python3"
  },
  "language_info": {
   "codemirror_mode": {
    "name": "ipython",
    "version": 3
   },
   "file_extension": ".py",
   "mimetype": "text/x-python",
   "name": "python",
   "nbconvert_exporter": "python",
   "pygments_lexer": "ipython3",
   "version": "3.12.4"
  }
 },
 "nbformat": 4,
 "nbformat_minor": 5
}
