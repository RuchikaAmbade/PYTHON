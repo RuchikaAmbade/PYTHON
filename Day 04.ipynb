{
 "cells": [
  {
   "cell_type": "code",
   "execution_count": 5,
   "id": "26cdf115-9ba2-45f9-9f3e-e7de99a2ec07",
   "metadata": {},
   "outputs": [
    {
     "name": "stdin",
     "output_type": "stream",
     "text": [
      "Enter your age : 10\n"
     ]
    },
    {
     "name": "stdout",
     "output_type": "stream",
     "text": [
      "Not eligible for voting\n"
     ]
    }
   ],
   "source": [
    "# 1 WAP to check whether a person is eligible for vating or not \n",
    "\n",
    "a=int(input(\"Enter your age :\"))\n",
    "if a>=18:\n",
    "    print(\"Eligible for voting\")\n",
    "else:\n",
    "    print(\"Not eligible for voting\")"
   ]
  },
  {
   "cell_type": "code",
   "execution_count": 9,
   "id": "0e0ad9e3-28b3-43f9-af05-901e13411e1e",
   "metadata": {},
   "outputs": [
    {
     "name": "stdin",
     "output_type": "stream",
     "text": [
      "Enter any number 56\n"
     ]
    },
    {
     "name": "stdout",
     "output_type": "stream",
     "text": [
      "Number is divisible by 7\n"
     ]
    }
   ],
   "source": [
    "# 2 WAP to check whether a number is divisible by 7 or not\n",
    "\n",
    "num=int(input(\"Enter any number\"))\n",
    "if num%7==0:\n",
    "    print(\"Number is divisible by 7\")\n",
    "else:\n",
    "    print(\"Number is not divisible by 7\")"
   ]
  },
  {
   "cell_type": "code",
   "execution_count": 13,
   "id": "2a4a9d60-89f8-4466-84e5-2d3fc836175c",
   "metadata": {},
   "outputs": [
    {
     "name": "stdin",
     "output_type": "stream",
     "text": [
      "Enter any number 35\n"
     ]
    },
    {
     "name": "stdout",
     "output_type": "stream",
     "text": [
      "Given number is multiple of 5\n"
     ]
    }
   ],
   "source": [
    "# 3 WAP to display \"Hello\" if a number entered by user is a multiple of 5, o.w. print \"Bye\"\n",
    "\n",
    "n=int(input(\"Enter any number\"))\n",
    "if n%5==0:\n",
    "    print(\"Given number is multiple of 5\")\n",
    "else:\n",
    "    print(\"Given number is not multiple of 5\")"
   ]
  },
  {
   "cell_type": "code",
   "execution_count": 19,
   "id": "7b136d87-6f5f-421a-8eb6-30a93901107a",
   "metadata": {},
   "outputs": [
    {
     "name": "stdin",
     "output_type": "stream",
     "text": [
      "Enter nu. of units 350\n"
     ]
    },
    {
     "name": "stdout",
     "output_type": "stream",
     "text": [
      "amt to pay is : 2000\n"
     ]
    }
   ],
   "source": [
    "'''# 4 WAP to calculate the electricity bill according to the following criteria\n",
    "first 100 units - no charge\n",
    "next 100 units  - Rs 5 per unit\n",
    "After 200 units - Rs 10 per unit'''\n",
    "\n",
    "n=int(input(\"Enter nu. of units\"))\n",
    "if n<=100:\n",
    "    print(\"amt to pay=0\")\n",
    "elif n>100 and n<=200:\n",
    "    print(\"amt to pay is :\",(n-100)*5)\n",
    "else:\n",
    "    print(\"amt to pay is :\",500+(n-200)*10)"
   ]
  },
  {
   "cell_type": "code",
   "execution_count": 21,
   "id": "b9865f7f-8d48-4f3c-8744-8143d2e63de9",
   "metadata": {},
   "outputs": [
    {
     "name": "stdin",
     "output_type": "stream",
     "text": [
      "Enter any number 457\n"
     ]
    },
    {
     "name": "stdout",
     "output_type": "stream",
     "text": [
      "The last digit of a given num is : 7\n"
     ]
    }
   ],
   "source": [
    "# 5 WAP to display the last digit of a number\n",
    "\n",
    "num=int(input(\"Enter any number\"))\n",
    "rem=num%10\n",
    "print(\"The last digit of a given num is :\",rem)"
   ]
  },
  {
   "cell_type": "code",
   "execution_count": 23,
   "id": "a8566f3e-b8ab-43c7-95f4-f526ba12fc2d",
   "metadata": {},
   "outputs": [
    {
     "name": "stdin",
     "output_type": "stream",
     "text": [
      "Enter any number 4579\n"
     ]
    },
    {
     "name": "stdout",
     "output_type": "stream",
     "text": [
      "Last digit of a given number is divisible by 3\n"
     ]
    }
   ],
   "source": [
    "# 6 WAP to check whether the last digit of a number is divisible by 3 or not\n",
    "\n",
    "n=int(input(\"Enter any number\"))\n",
    "rem=n%10\n",
    "if rem%3==0:\n",
    "    print(\"Last digit of a given number is divisible by 3\")\n",
    "else:\n",
    "    print(\"Last digit of a given number is not divisible by 3\")"
   ]
  },
  {
   "cell_type": "code",
   "execution_count": 29,
   "id": "5c5558cc-262c-400d-9e2a-998764376595",
   "metadata": {},
   "outputs": [
    {
     "name": "stdin",
     "output_type": "stream",
     "text": [
      "Enter your marks : 75\n"
     ]
    },
    {
     "name": "stdout",
     "output_type": "stream",
     "text": [
      "Grade-C\n"
     ]
    }
   ],
   "source": [
    "''' # 7 WAP to accept % from the user and display the grade according to the criteria\n",
    "marks  >90    - Grade A\n",
    ">80 and <=90  - B\n",
    ">=60 and <=80 - C\n",
    "below 60      - D'''\n",
    "\n",
    "marks=int(input(\"Enter your marks :\"))\n",
    "if marks>90:\n",
    "    print(\"Grade-A\")\n",
    "elif marks>80 and marks<=90:\n",
    "    print(\"Grade-B\")\n",
    "elif marks>=60 and marks<=80:\n",
    "    print(\"Grade-C\")\n",
    "else:\n",
    "    print(\"Grade-D\")"
   ]
  },
  {
   "cell_type": "code",
   "execution_count": 9,
   "id": "25b2a1ab-1df6-4d94-a661-0c4e4bd58115",
   "metadata": {},
   "outputs": [
    {
     "name": "stdin",
     "output_type": "stream",
     "text": [
      "Enetr price : 150000\n"
     ]
    },
    {
     "name": "stdout",
     "output_type": "stream",
     "text": [
      "Road tax to be paid is: 7500.0\n"
     ]
    }
   ],
   "source": [
    "''' 8 WAP to accept the cost price of a bike and display the road tax to be paid according to the \n",
    "following criteria\n",
    "cost price >100000   - Tax 15%\n",
    ">50000 and <= 100000 - 10%\n",
    "<=50000              - 5%'''\n",
    "\n",
    "price=int(input(\"Enetr price :\"))\n",
    "RT=0\n",
    "if price>100000:\n",
    "    RT=(15/100)*price\n",
    "if price>50000 and price<=100000:\n",
    "    RT=(10/100)*price\n",
    "else:\n",
    "    RT=(5/100)*price\n",
    "print(\"Road tax to be paid is:\",RT)"
   ]
  },
  {
   "cell_type": "code",
   "execution_count": 11,
   "id": "709fdfe2-c853-451a-a429-c7ad5de55bda",
   "metadata": {},
   "outputs": [
    {
     "name": "stdin",
     "output_type": "stream",
     "text": [
      "Enter year 2024\n"
     ]
    },
    {
     "name": "stdout",
     "output_type": "stream",
     "text": [
      "Entered year ia leap year\n"
     ]
    }
   ],
   "source": [
    "# 9 WAP to check whether an year is leap year or not\n",
    "\n",
    "yr=int(input(\"Enter year\"))\n",
    "if yr%400==0:\n",
    "    if yr%100==0:\n",
    "        print(\"Entered year is leap year\")\n",
    "    else:\n",
    "        print(\"Entered year is not leap year\")\n",
    "else:\n",
    "    if yr%4==0:\n",
    "        print(\"Entered year ia leap year\")\n",
    "    else:\n",
    "        print(\"Entered year is not leap year\")"
   ]
  },
  {
   "cell_type": "code",
   "execution_count": 7,
   "id": "ec38d15a-272f-428e-a7fa-48477dd3ef82",
   "metadata": {},
   "outputs": [
    {
     "name": "stdin",
     "output_type": "stream",
     "text": [
      "Enter any number from 1 to 7 2\n"
     ]
    },
    {
     "name": "stdout",
     "output_type": "stream",
     "text": [
      "Monday\n"
     ]
    }
   ],
   "source": [
    "# 10 WAP to accept a number from 1 to 7 and display the name of the day like 1 for sunday, 2 for monday\n",
    "\n",
    "n=int(input(\"Enter any number from 1 to 7\"))\n",
    "if n==1:\n",
    "    print(\"Sunday\")\n",
    "elif n==2:\n",
    "    print(\"Monday\")\n",
    "elif n==3:\n",
    "    print(\"Tuesnday\")\n",
    "elif n==4:\n",
    "    print(\"Wednesday\")\n",
    "elif n==5:\n",
    "    print(\"Thursday\")\n",
    "elif n==6:\n",
    "    print(\"Friday\")\n",
    "elif n==7:\n",
    "    print(\"Saturday\")\n",
    "else:\n",
    "    print(\"Wrong input\")"
   ]
  },
  {
   "cell_type": "code",
   "execution_count": null,
   "id": "9419a000-708d-4a1e-ab80-91b042621904",
   "metadata": {},
   "outputs": [],
   "source": []
  }
 ],
 "metadata": {
  "kernelspec": {
   "display_name": "Python 3 (ipykernel)",
   "language": "python",
   "name": "python3"
  },
  "language_info": {
   "codemirror_mode": {
    "name": "ipython",
    "version": 3
   },
   "file_extension": ".py",
   "mimetype": "text/x-python",
   "name": "python",
   "nbconvert_exporter": "python",
   "pygments_lexer": "ipython3",
   "version": "3.12.4"
  }
 },
 "nbformat": 4,
 "nbformat_minor": 5
}
