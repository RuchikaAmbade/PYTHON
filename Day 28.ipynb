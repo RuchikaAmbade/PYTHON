{
 "cells": [
  {
   "cell_type": "markdown",
   "id": "4d3e142e-7c5c-41bf-9b68-c0aafee1c108",
   "metadata": {},
   "source": [
    "##### 1 left triangle pattern"
   ]
  },
  {
   "cell_type": "code",
   "execution_count": 1,
   "id": "2df5cd50-9769-445d-8da5-f9085cddb3b6",
   "metadata": {},
   "outputs": [
    {
     "name": "stdout",
     "output_type": "stream",
     "text": [
      "  1 2 3 4 5 \n",
      "    1 2 3 4 \n",
      "      1 2 3 \n",
      "        1 2 \n",
      "          1 \n"
     ]
    }
   ],
   "source": [
    "n=5\n",
    "for i in range(1,n+1):\n",
    "    p=1\n",
    "    for j in range(1,i+1):\n",
    "        print(' ',end=' ')\n",
    "    for j in range(i,n+1):\n",
    "        print(p,end=' ')\n",
    "        p=p+1\n",
    "    print()"
   ]
  },
  {
   "cell_type": "markdown",
   "id": "50157126-3dbd-4a08-af0e-aba93d909886",
   "metadata": {},
   "source": [
    "##### 2 Hill pattern"
   ]
  },
  {
   "cell_type": "code",
   "execution_count": 9,
   "id": "4eb4e15c-eafe-4b71-8308-fa2796dbb738",
   "metadata": {},
   "outputs": [
    {
     "name": "stdout",
     "output_type": "stream",
     "text": [
      "          1 \n",
      "        1 2 3 \n",
      "      1 2 3 4 5 \n",
      "    1 2 3 4 5 6 7 \n",
      "  1 2 3 4 5 6 7 8 9 \n"
     ]
    }
   ],
   "source": [
    "n=5\n",
    "for i in range(1,n+1):\n",
    "    p=1\n",
    "    for j in range(i,n+1):\n",
    "        print(' ',end=' ')\n",
    "    for j in range(1,i+1):\n",
    "        print(p,end=' ')\n",
    "        p=p+1\n",
    "    for j in range(2,i+1):\n",
    "        print(p,end=' ')\n",
    "        p=p+1\n",
    "    print()     "
   ]
  },
  {
   "cell_type": "markdown",
   "id": "f5f2aae8-74c5-4c31-84fd-7a28c2fd65cd",
   "metadata": {},
   "source": [
    "##### Pattern 3"
   ]
  },
  {
   "cell_type": "code",
   "execution_count": 13,
   "id": "7867d064-6f81-4d0c-ba98-4b6e89b6bb3c",
   "metadata": {},
   "outputs": [
    {
     "name": "stdout",
     "output_type": "stream",
     "text": [
      "5 \n",
      "5 4 \n",
      "5 4 3 \n",
      "5 4 3 2 \n",
      "5 4 3 2 1 \n"
     ]
    }
   ],
   "source": [
    "n=5\n",
    "for i in range(1,n+1):\n",
    "    p=n\n",
    "    for j in range(1,i+1):\n",
    "        print(p,end=' ')\n",
    "        p=p-1\n",
    "    print()"
   ]
  },
  {
   "cell_type": "markdown",
   "id": "54aabd06-c694-4478-b8b5-8de5139910f9",
   "metadata": {},
   "source": [
    "##### Pattern 4"
   ]
  },
  {
   "cell_type": "code",
   "execution_count": 33,
   "id": "e8127139-8b92-4500-a296-7c75bcbd90ac",
   "metadata": {},
   "outputs": [
    {
     "name": "stdout",
     "output_type": "stream",
     "text": [
      "  5 4 3 2 1 \n",
      "    4 3 2 1 \n",
      "      3 2 1 \n",
      "        2 1 \n",
      "          1 \n"
     ]
    }
   ],
   "source": [
    "n=5\n",
    "k=5\n",
    "for i in range(1,n+1):\n",
    "    p=k\n",
    "    for j in range(1,i+1):\n",
    "        print(' ',end=' ')\n",
    "    for j in range(i,n+1):\n",
    "        print(p,end=' ')\n",
    "        p=p-1\n",
    "    k=k-1\n",
    "    print()"
   ]
  },
  {
   "cell_type": "markdown",
   "id": "0087bd11-238f-45bd-bcd4-3dd041c83e39",
   "metadata": {},
   "source": [
    "##### Pattern 5"
   ]
  },
  {
   "cell_type": "code",
   "execution_count": 79,
   "id": "4cce90a1-fe6c-4aa0-bdc0-bea6100e4b13",
   "metadata": {},
   "outputs": [
    {
     "name": "stdout",
     "output_type": "stream",
     "text": [
      "          1 \n",
      "        1 2 1 \n",
      "      1 2 3 2 1 \n",
      "    1 2 3 4 3 2 1 \n",
      "  1 2 3 4 5 4 3 2 1 \n"
     ]
    }
   ],
   "source": [
    "n=5\n",
    "for i in range(1,n+1):\n",
    "    p=1\n",
    "    for j in range(i,n+1):\n",
    "        print(' ',end=' ')\n",
    "    for j in range(1,i):\n",
    "        print(p,end=' ')\n",
    "        p=p+1\n",
    "    for j in range(1,i+1):\n",
    "        print(p,end=' ')\n",
    "        p=p-1\n",
    "    print()"
   ]
  },
  {
   "cell_type": "markdown",
   "id": "74924124-b676-4363-837c-ff2866fb9cdd",
   "metadata": {},
   "source": [
    "##### Programms using for loop"
   ]
  },
  {
   "cell_type": "markdown",
   "id": "18538f9f-48f0-4546-9760-db19612c4858",
   "metadata": {},
   "source": [
    "##### 6 WAP to print the character of a string"
   ]
  },
  {
   "cell_type": "code",
   "execution_count": 9,
   "id": "82907c8d-5fb6-42d6-99f2-5d373559bf02",
   "metadata": {},
   "outputs": [
    {
     "name": "stdout",
     "output_type": "stream",
     "text": [
      "P\n",
      "y\n",
      "t\n",
      "h\n",
      "o\n",
      "n\n"
     ]
    }
   ],
   "source": [
    "s='Python'\n",
    "for i in s:\n",
    "    print(i)"
   ]
  },
  {
   "cell_type": "markdown",
   "id": "5107ae20-149e-498a-b80b-d77d3e1fa08f",
   "metadata": {},
   "source": [
    "##### 7 WAP to find the largest number in a list"
   ]
  },
  {
   "cell_type": "code",
   "execution_count": 17,
   "id": "8aec2802-566f-464b-90d1-f77bc70e71ea",
   "metadata": {},
   "outputs": [
    {
     "name": "stdout",
     "output_type": "stream",
     "text": [
      "9\n"
     ]
    }
   ],
   "source": [
    "l1=[8,4,7,3,2,1,5,9]\n",
    "largest=l1[0]\n",
    "for i in l1:\n",
    "    if i>largest:\n",
    "        largest=i\n",
    "print(i)"
   ]
  },
  {
   "cell_type": "markdown",
   "id": "29973cd2-910b-4d88-9897-2c2cafe93998",
   "metadata": {},
   "source": [
    "##### 8 WAP to find the average of numbers in a list"
   ]
  },
  {
   "cell_type": "code",
   "execution_count": 33,
   "id": "63e99ac1-ec53-4385-b5cc-7659c824137b",
   "metadata": {},
   "outputs": [
    {
     "name": "stdout",
     "output_type": "stream",
     "text": [
      "4.875\n"
     ]
    }
   ],
   "source": [
    "l1=[8,4,7,3,2,1,5,9]\n",
    "n=len(l1)\n",
    "sum=0\n",
    "for i in l1:\n",
    "    sum=sum+i\n",
    "    avg=sum/n\n",
    "print(avg)"
   ]
  },
  {
   "cell_type": "markdown",
   "id": "d5a7e3e1-55b1-4b86-bbba-5400946b9280",
   "metadata": {},
   "source": [
    "##### 9 WAP to print all uppercase letters in a string"
   ]
  },
  {
   "cell_type": "code",
   "execution_count": 41,
   "id": "c16b59a3-ec19-46bb-8d25-b633fa822b9a",
   "metadata": {},
   "outputs": [
    {
     "name": "stdout",
     "output_type": "stream",
     "text": [
      "L\n",
      "P\n"
     ]
    }
   ],
   "source": [
    "s='Learning_Python'\n",
    "for i in s:\n",
    "    if i.isupper():\n",
    "        print(i)"
   ]
  },
  {
   "cell_type": "markdown",
   "id": "64e7a77b-a1c0-49b5-9727-867b8dca513c",
   "metadata": {},
   "source": [
    "##### 10 WAP to count the number of vowels in a string"
   ]
  },
  {
   "cell_type": "code",
   "execution_count": 53,
   "id": "b304fa42-ad5f-4d81-aed2-f53d02705711",
   "metadata": {},
   "outputs": [
    {
     "name": "stdout",
     "output_type": "stream",
     "text": [
      "4\n"
     ]
    }
   ],
   "source": [
    "s='Learning_Python'\n",
    "count=0\n",
    "vowels='AEIOUaeiou'\n",
    "for i in s:\n",
    "    if i in vowels:\n",
    "        count+=1\n",
    "print(count)"
   ]
  }
 ],
 "metadata": {
  "kernelspec": {
   "display_name": "Python 3 (ipykernel)",
   "language": "python",
   "name": "python3"
  },
  "language_info": {
   "codemirror_mode": {
    "name": "ipython",
    "version": 3
   },
   "file_extension": ".py",
   "mimetype": "text/x-python",
   "name": "python",
   "nbconvert_exporter": "python",
   "pygments_lexer": "ipython3",
   "version": "3.12.4"
  }
 },
 "nbformat": 4,
 "nbformat_minor": 5
}
