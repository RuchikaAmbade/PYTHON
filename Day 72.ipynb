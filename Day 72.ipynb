{
 "cells": [
  {
   "cell_type": "markdown",
   "id": "4b0256db-5299-454b-bda7-7a81ebb1d85b",
   "metadata": {},
   "source": [
    "##### 1 WAP to check if the given string is a palindrome,"
   ]
  },
  {
   "cell_type": "code",
   "execution_count": 9,
   "id": "f5c4bbfc-e450-4715-ad65-2e8bcc3e8efa",
   "metadata": {},
   "outputs": [
    {
     "name": "stdout",
     "output_type": "stream",
     "text": [
      "noom\n",
      "String is not palindrome\n"
     ]
    }
   ],
   "source": [
    "string=\"moon\"\n",
    "reverse=\"\"\n",
    "for i in string:\n",
    "    reverse=i+reverse\n",
    "print(reverse)\n",
    "if string==reverse:\n",
    "    print(\"String is a palindrome\")\n",
    "else:\n",
    "    print(\"String is not palindrome\")"
   ]
  },
  {
   "cell_type": "markdown",
   "id": "d637c61f-679e-4695-8256-a88adf1f04d2",
   "metadata": {},
   "source": [
    "##### 2 WAP to accept a word from the usre and reverse it."
   ]
  },
  {
   "cell_type": "code",
   "execution_count": 4,
   "id": "50202fd4-0793-4581-b63d-89464c1166d7",
   "metadata": {},
   "outputs": [
    {
     "name": "stdin",
     "output_type": "stream",
     "text": [
      " Google\n"
     ]
    },
    {
     "name": "stdout",
     "output_type": "stream",
     "text": [
      "elgooG\n"
     ]
    }
   ],
   "source": [
    "word = str(input())\n",
    "reverse=\"\"\n",
    "for i in word:\n",
    "    reverse=i+reverse\n",
    "print(reverse)"
   ]
  },
  {
   "cell_type": "markdown",
   "id": "ebd196b9-1120-4cb0-a957-3fa9e7c00f89",
   "metadata": {},
   "source": [
    "##### 3 WAP to count number of even and odd numbers from a series of numbers."
   ]
  },
  {
   "cell_type": "code",
   "execution_count": 19,
   "id": "c43167f0-2ca4-4959-9274-6560f5ea10c2",
   "metadata": {},
   "outputs": [
    {
     "name": "stdout",
     "output_type": "stream",
     "text": [
      "Count of even numbers : 24\n",
      "Count of odd numbers : 25\n"
     ]
    }
   ],
   "source": [
    "count1=0\n",
    "count2=0\n",
    "for i in range(1,50):\n",
    "    if i%2==0:\n",
    "        count1=count1+1\n",
    "    elif i%2!=0:\n",
    "        count2=count2+1\n",
    "\n",
    "print(\"Count of even numbers :\",count1)\n",
    "print(\"Count of odd numbers :\", count2)"
   ]
  },
  {
   "cell_type": "markdown",
   "id": "4a59b50c-a059-476a-ad70-5c2b5a691d86",
   "metadata": {},
   "source": [
    "##### 4 WAP to accept the electric units from the user and caculate the bill according    the following rates\n",
    "#####   first 100 units: Free\n",
    "#####   Next 200 units: Rs 2 per day\n",
    "#####   Above 300 units: Rs 5 per day"
   ]
  },
  {
   "cell_type": "code",
   "execution_count": 27,
   "id": "df148a10-d4bd-4cef-b6f0-c686aff50d4f",
   "metadata": {},
   "outputs": [
    {
     "name": "stdin",
     "output_type": "stream",
     "text": [
      "Enter units : 120\n"
     ]
    },
    {
     "name": "stdout",
     "output_type": "stream",
     "text": [
      "Total amount of bill to pay : 40\n"
     ]
    }
   ],
   "source": [
    "units = int(input(\"Enter units :\"))\n",
    "if units <= 100:\n",
    "    Bill = 0\n",
    "if units > 100 and units <= 300:\n",
    "    Bill=(units - 100) * 2\n",
    "if units > 300:\n",
    "    Bill = 400+(units-300)*5\n",
    "\n",
    "print(\"Total amount of bill to pay :\",Bill)"
   ]
  },
  {
   "cell_type": "markdown",
   "id": "98156f6a-bbec-4592-82f3-bfdf1f21e67c",
   "metadata": {},
   "source": [
    "##### 5 Accept the number of days from the user and calculate the charge for library according to the following:\n",
    "#####   Till five days:Rs 2/day\n",
    "#####   six to ten days:Rs 3/day\n",
    "#####   11 to 15 days: Rs 4/day\n",
    "#####   After 15 days : Rs 5/day"
   ]
  },
  {
   "cell_type": "code",
   "execution_count": 34,
   "id": "e37667da-c164-4784-b00d-fdbdc4d065d0",
   "metadata": {},
   "outputs": [
    {
     "name": "stdin",
     "output_type": "stream",
     "text": [
      "Enter number of days: 10\n"
     ]
    },
    {
     "name": "stdout",
     "output_type": "stream",
     "text": [
      "Charge to pay : 30\n"
     ]
    }
   ],
   "source": [
    "days = int(input(\"Enter number of days:\"))\n",
    "if days <= 5 :\n",
    "    charge = days * 2\n",
    "elif days >= 6 and days <=10:\n",
    "    charge = days * 3\n",
    "elif days >= 11 and days <=15:\n",
    "    charge = days * 4\n",
    "elif days >= 15:\n",
    "    charge = days * 5\n",
    "\n",
    "print(\"Charge to pay :\",charge)"
   ]
  },
  {
   "cell_type": "code",
   "execution_count": null,
   "id": "3b610bc2-d036-42c7-aaad-6928070efb82",
   "metadata": {},
   "outputs": [],
   "source": []
  }
 ],
 "metadata": {
  "kernelspec": {
   "display_name": "Python 3 (ipykernel)",
   "language": "python",
   "name": "python3"
  },
  "language_info": {
   "codemirror_mode": {
    "name": "ipython",
    "version": 3
   },
   "file_extension": ".py",
   "mimetype": "text/x-python",
   "name": "python",
   "nbconvert_exporter": "python",
   "pygments_lexer": "ipython3",
   "version": "3.12.4"
  }
 },
 "nbformat": 4,
 "nbformat_minor": 5
}
