{
 "cells": [
  {
   "cell_type": "markdown",
   "id": "4c1ea634-cef0-47f1-b074-2befb27e0f34",
   "metadata": {},
   "source": [
    "#### Patterns"
   ]
  },
  {
   "cell_type": "markdown",
   "id": "abc3b0bc-1e5d-4b07-8872-288d40fb42c5",
   "metadata": {},
   "source": [
    "##### 1"
   ]
  },
  {
   "cell_type": "code",
   "execution_count": 9,
   "id": "419391c2-b76d-4170-b893-ac72e5a31cd7",
   "metadata": {},
   "outputs": [
    {
     "name": "stdout",
     "output_type": "stream",
     "text": [
      "          S \n",
      "        S S S \n",
      "      S S S S S \n",
      "    S S S S S S S \n",
      "  S S S S S S S S S \n",
      "    S S S S S S S \n",
      "      S S S S S \n",
      "        S S S \n",
      "          S \n"
     ]
    }
   ],
   "source": [
    "n=5\n",
    "for i in range(1,n+1):\n",
    "    for j in range(i,n+1):\n",
    "        print(' ',end=' ')\n",
    "    for j in range(1,i+1):\n",
    "        print('S',end=' ')\n",
    "    for j in range(2,i+1):\n",
    "        print('S',end=' ')\n",
    "    print()\n",
    "\n",
    "for i in range(2,n+1):\n",
    "    for j in range(1,i+1):\n",
    "        print(' ',end=' ')\n",
    "    for j in range(i,n+1):\n",
    "        print('S',end=' ')\n",
    "    for j in range(i+1,n+1):\n",
    "        print('S',end=' ')\n",
    "    print()"
   ]
  },
  {
   "cell_type": "markdown",
   "id": "4059a4d1-d63c-4ecb-a22a-4d0f52509d7e",
   "metadata": {},
   "source": [
    "##### 2"
   ]
  },
  {
   "cell_type": "code",
   "execution_count": 6,
   "id": "29dfd3ba-50a5-4e67-ba5e-118d5aa6e020",
   "metadata": {},
   "outputs": [
    {
     "name": "stdout",
     "output_type": "stream",
     "text": [
      "  A A A A A \n",
      "    B B B B \n",
      "      C C C \n",
      "        D D \n",
      "          E \n"
     ]
    }
   ],
   "source": [
    "n=5\n",
    "p=65\n",
    "for i in range(1,n+1):\n",
    "    for j in range(1,i+1):\n",
    "        print(' ',end=' ')\n",
    "    for j in range(i,n+1):\n",
    "        print(chr(p),end=' ')\n",
    "    p=p+1\n",
    "    print()"
   ]
  },
  {
   "cell_type": "markdown",
   "id": "9033c84b-cd10-4e3d-b42f-c35be6505c68",
   "metadata": {},
   "source": [
    "##### 3"
   ]
  },
  {
   "cell_type": "code",
   "execution_count": 10,
   "id": "857f8a7c-e1a6-476a-8f74-939731974752",
   "metadata": {},
   "outputs": [
    {
     "name": "stdout",
     "output_type": "stream",
     "text": [
      "          A \n",
      "        B B B \n",
      "      C C C C C \n",
      "    D D D D D D D \n",
      "  E E E E E E E E E \n"
     ]
    }
   ],
   "source": [
    "n=5\n",
    "p=65\n",
    "for i in range(1,n+1):\n",
    "    for j in range(i,n+1):\n",
    "        print(' ',end=' ')\n",
    "    for j in range(1,i+1):\n",
    "        print(chr(p),end=' ')\n",
    "    for j in range(2,i+1):\n",
    "        print(chr(p),end=' ')\n",
    "    p=p+1\n",
    "    print()"
   ]
  },
  {
   "cell_type": "markdown",
   "id": "4960a4d9-1d19-4192-b070-ae7d08a23336",
   "metadata": {},
   "source": [
    "##### 4"
   ]
  },
  {
   "cell_type": "code",
   "execution_count": 12,
   "id": "73f3bf48-2509-46c1-90ed-8d9ae53f5c81",
   "metadata": {},
   "outputs": [
    {
     "name": "stdout",
     "output_type": "stream",
     "text": [
      "  A A A A A A A A A \n",
      "    B B B B B B B \n",
      "      C C C C C \n",
      "        D D D \n",
      "          E \n"
     ]
    }
   ],
   "source": [
    "n=5\n",
    "p=65\n",
    "for i in range(1,n+1):\n",
    "    for j in range(1,i+1):\n",
    "        print(' ',end=' ')\n",
    "    for j in range(i,n+1):\n",
    "        print(chr(p),end=' ')\n",
    "    for j in range(i+1,n+1):\n",
    "        print(chr(p),end=' ')\n",
    "    p=p+1\n",
    "    print()"
   ]
  },
  {
   "cell_type": "markdown",
   "id": "0aab5b01-1820-42ee-999c-16fa20275c95",
   "metadata": {},
   "source": [
    "##### 5"
   ]
  },
  {
   "cell_type": "code",
   "execution_count": 39,
   "id": "ff4c388c-96ef-4443-9f7b-14699ae9ee17",
   "metadata": {},
   "outputs": [
    {
     "name": "stdout",
     "output_type": "stream",
     "text": [
      "  E E E E E \n",
      "    D D D D \n",
      "      C C C \n",
      "        B B \n",
      "          A \n"
     ]
    }
   ],
   "source": [
    "n=5\n",
    "p=69\n",
    "for i in range(1,n+1):\n",
    "    for j in range(1,i+1):\n",
    "        print(' ',end=' ')\n",
    "    for j in range(i,n+1):\n",
    "        print(chr(p),end=' ')\n",
    "    p=p-1\n",
    "    print()"
   ]
  },
  {
   "cell_type": "markdown",
   "id": "90d773a5-ca2f-454b-ae40-5cc1e397d64a",
   "metadata": {},
   "source": [
    "##### 6"
   ]
  },
  {
   "cell_type": "code",
   "execution_count": 41,
   "id": "aebc158e-43d5-4d42-99e8-f375d90b2a0b",
   "metadata": {},
   "outputs": [
    {
     "name": "stdout",
     "output_type": "stream",
     "text": [
      "          E \n",
      "        D D D \n",
      "      C C C C C \n",
      "    B B B B B B B \n",
      "  A A A A A A A A A \n"
     ]
    }
   ],
   "source": [
    "n=5\n",
    "p=69\n",
    "for i in range(1,n+1):\n",
    "    for j in range(i,n+1):\n",
    "        print(' ',end=' ')\n",
    "    for j in range(1,i+1):\n",
    "        print(chr(p),end=' ')\n",
    "    for j in range(2,i+1):\n",
    "        print(chr(p),end=' ')\n",
    "    p=p-1\n",
    "    print()"
   ]
  },
  {
   "cell_type": "markdown",
   "id": "da21167c-987a-46a6-bd16-d4a9856019fe",
   "metadata": {},
   "source": [
    "##### 7"
   ]
  },
  {
   "cell_type": "code",
   "execution_count": 45,
   "id": "94a8248d-be3e-4d04-aeb1-3bad344a1dcb",
   "metadata": {},
   "outputs": [
    {
     "name": "stdout",
     "output_type": "stream",
     "text": [
      "  E E E E E E E E E \n",
      "    D D D D D D D \n",
      "      C C C C C \n",
      "        B B B \n",
      "          A \n"
     ]
    }
   ],
   "source": [
    "n=5\n",
    "p=69\n",
    "for i in range(1,n+1):\n",
    "    for j in range(1,i+1):\n",
    "        print(' ',end=' ')\n",
    "    for j in range(i,n+1):\n",
    "        print(chr(p),end=' ')\n",
    "    for j in range(i+1,n+1):\n",
    "        print(chr(p),end=' ')\n",
    "    p=p-1\n",
    "    print()"
   ]
  },
  {
   "cell_type": "markdown",
   "id": "e3f2e6b7-d9b3-4f8c-a368-3c170d28c43b",
   "metadata": {},
   "source": [
    "##### 8"
   ]
  },
  {
   "cell_type": "code",
   "execution_count": 55,
   "id": "75ab65f6-da3b-4ce1-aa12-8b5ac97b5aaf",
   "metadata": {},
   "outputs": [
    {
     "name": "stdout",
     "output_type": "stream",
     "text": [
      "  z z z z z \n",
      "    0 0 0 0 \n",
      "      z z z \n",
      "        0 0 \n",
      "          z \n"
     ]
    }
   ],
   "source": [
    "n=5\n",
    "for i in range(1,n+1):\n",
    "    for j in range(1,i+1):\n",
    "        print(' ',end=' ')\n",
    "    for j in range(i,n+1):\n",
    "        if i%2==0:\n",
    "            print('0',end=' ')\n",
    "        else:\n",
    "            print('z',end=' ')\n",
    "    print()"
   ]
  },
  {
   "cell_type": "markdown",
   "id": "952b72ed-4f05-40b7-8b66-2baa0638197d",
   "metadata": {},
   "source": [
    "##### 9"
   ]
  },
  {
   "cell_type": "code",
   "execution_count": 61,
   "id": "49c82eff-d49f-4915-b4bd-730dff99276c",
   "metadata": {},
   "outputs": [
    {
     "name": "stdout",
     "output_type": "stream",
     "text": [
      "          A \n",
      "        # # # \n",
      "      A A A A A \n",
      "    # # # # # # # \n",
      "  A A A A A A A A A \n"
     ]
    }
   ],
   "source": [
    "n=5\n",
    "for i in range(1,n+1):\n",
    "    for j in range(i,n+1):\n",
    "        print(' ',end=' ')\n",
    "    for j in range(1,i+1):\n",
    "        if i%2==0:\n",
    "            print('#',end=' ')\n",
    "        else:\n",
    "            print('A',end=' ')\n",
    "    for j in range(2,i+1):\n",
    "        if i%2==0:\n",
    "            print('#',end=' ')\n",
    "        else:\n",
    "            print('A',end=' ')\n",
    "    print()"
   ]
  },
  {
   "cell_type": "markdown",
   "id": "da30b03e-1949-4e29-a9e4-36bf87c4b672",
   "metadata": {},
   "source": [
    "##### 10"
   ]
  },
  {
   "cell_type": "code",
   "execution_count": 67,
   "id": "83e2aced-7f00-4a84-b670-f4fdf0437bad",
   "metadata": {},
   "outputs": [
    {
     "name": "stdout",
     "output_type": "stream",
     "text": [
      "  z z z z z z z z z \n",
      "    0 0 0 0 0 0 0 \n",
      "      z z z z z \n",
      "        0 0 0 \n",
      "          z \n"
     ]
    }
   ],
   "source": [
    "n=5\n",
    "for i in range(1,n+1):\n",
    "    for j in range(1,i+1):\n",
    "        print(' ',end=' ')\n",
    "    for j in range(i,n+1):\n",
    "        if i%2==0:\n",
    "            print('0',end=' ')\n",
    "        else:\n",
    "            print('z',end=' ')\n",
    "    for j in range(i+1,n+1):\n",
    "        if i%2==0:\n",
    "            print('0',end=' ')\n",
    "        else:\n",
    "            print('z',end=' ')\n",
    "    print()"
   ]
  },
  {
   "cell_type": "code",
   "execution_count": null,
   "id": "1a75c63a-d402-4f18-97a9-0323fa21221d",
   "metadata": {},
   "outputs": [],
   "source": []
  }
 ],
 "metadata": {
  "kernelspec": {
   "display_name": "Python 3 (ipykernel)",
   "language": "python",
   "name": "python3"
  },
  "language_info": {
   "codemirror_mode": {
    "name": "ipython",
    "version": 3
   },
   "file_extension": ".py",
   "mimetype": "text/x-python",
   "name": "python",
   "nbconvert_exporter": "python",
   "pygments_lexer": "ipython3",
   "version": "3.12.4"
  }
 },
 "nbformat": 4,
 "nbformat_minor": 5
}
