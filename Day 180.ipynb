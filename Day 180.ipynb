{
 "cells": [
  {
   "cell_type": "markdown",
   "id": "84fa3e44-ad9e-482d-b93d-e7ebf5857be9",
   "metadata": {},
   "source": [
    "#### 1.Python program to interchange first and last elements in a list"
   ]
  },
  {
   "cell_type": "code",
   "execution_count": 14,
   "id": "0626f6b8-d787-407f-a2ec-f701ecdee1e4",
   "metadata": {},
   "outputs": [
    {
     "data": {
      "text/plain": [
       "[27, 24, 14, 12]"
      ]
     },
     "execution_count": 14,
     "metadata": {},
     "output_type": "execute_result"
    }
   ],
   "source": [
    "list1 = [12,24,14,27]\n",
    "list1[0],list1[-1] = list1[-1],list1[0]\n",
    "list1"
   ]
  },
  {
   "cell_type": "markdown",
   "id": "0e4f3fb6-27a4-4f68-8711-f0f8039a95e1",
   "metadata": {},
   "source": [
    "#### 2.Python program to swap two elements in a list"
   ]
  },
  {
   "cell_type": "code",
   "execution_count": 16,
   "id": "65091fd9-624a-4515-98ce-06584d709863",
   "metadata": {},
   "outputs": [
    {
     "data": {
      "text/plain": [
       "[26, 21, 14, 24]"
      ]
     },
     "execution_count": 16,
     "metadata": {},
     "output_type": "execute_result"
    }
   ],
   "source": [
    "def swap_position(list,pos1,pos2):\n",
    "    list[pos1],list[pos2]=list[pos2],list[pos1]\n",
    "    return list\n",
    "\n",
    "list=[14,21,26,24]\n",
    "swap_position(list,0,2)"
   ]
  },
  {
   "cell_type": "markdown",
   "id": "417c5c55-c9cf-48c7-bfda-6f9e7a9773a9",
   "metadata": {},
   "source": [
    "#### 3.Find the length of list"
   ]
  },
  {
   "cell_type": "code",
   "execution_count": 18,
   "id": "da809a5c-c2a6-4d63-a100-a0e72519668a",
   "metadata": {},
   "outputs": [
    {
     "data": {
      "text/plain": [
       "4"
      ]
     },
     "execution_count": 18,
     "metadata": {},
     "output_type": "execute_result"
    }
   ],
   "source": [
    "list=[14,21,26,24]\n",
    "len(list)"
   ]
  },
  {
   "cell_type": "code",
   "execution_count": 20,
   "id": "749586fd-e852-4baa-aea0-175c0dc6d637",
   "metadata": {},
   "outputs": [
    {
     "name": "stdout",
     "output_type": "stream",
     "text": [
      "4\n"
     ]
    }
   ],
   "source": [
    "# or\n",
    "list=[14,21,26,24]\n",
    "count = 0\n",
    "for i in list:\n",
    "    count+=1\n",
    "print(count)"
   ]
  },
  {
   "cell_type": "markdown",
   "id": "a4489844-3ef9-48fb-b79d-6d34930b7e60",
   "metadata": {},
   "source": [
    "#### 4.Reversing a List in Python"
   ]
  },
  {
   "cell_type": "code",
   "execution_count": 22,
   "id": "55b0601f-f892-472b-a752-2841259f4683",
   "metadata": {},
   "outputs": [
    {
     "data": {
      "text/plain": [
       "[24, 26, 21, 14]"
      ]
     },
     "execution_count": 22,
     "metadata": {},
     "output_type": "execute_result"
    }
   ],
   "source": [
    "list=[14,21,26,24]\n",
    "rev_list = list[::-1]\n",
    "rev_list"
   ]
  },
  {
   "cell_type": "markdown",
   "id": "aec08acf-f4fc-4498-86a7-d3fe7d717ffb",
   "metadata": {},
   "source": [
    "#### 5. Copying a list"
   ]
  },
  {
   "cell_type": "code",
   "execution_count": 24,
   "id": "ac17473b-3435-4951-912a-73260000dedd",
   "metadata": {},
   "outputs": [
    {
     "data": {
      "text/plain": [
       "[14, 21, 26, 24]"
      ]
     },
     "execution_count": 24,
     "metadata": {},
     "output_type": "execute_result"
    }
   ],
   "source": [
    "list=[14,21,26,24]\n",
    "copy_list = list.copy()\n",
    "copy_list"
   ]
  },
  {
   "cell_type": "code",
   "execution_count": 26,
   "id": "525e2584-b3ed-4936-a213-517d4925e447",
   "metadata": {},
   "outputs": [
    {
     "name": "stdout",
     "output_type": "stream",
     "text": [
      "[14, 21, 26, 24]\n"
     ]
    }
   ],
   "source": [
    "list=[14,21,26,24]\n",
    "copy_list = []\n",
    "for i in list:\n",
    "    copy_list.append(i)\n",
    "print(copy_list)"
   ]
  },
  {
   "cell_type": "markdown",
   "id": "7218144c-ccdb-4e8c-8eea-118d6e0d3464",
   "metadata": {},
   "source": [
    "#### 6.Count occurrences of an element in a list"
   ]
  },
  {
   "cell_type": "code",
   "execution_count": 48,
   "id": "2fc71b00-2bd8-4210-ab50-2daacd70f857",
   "metadata": {},
   "outputs": [
    {
     "name": "stdout",
     "output_type": "stream",
     "text": [
      "2\n"
     ]
    }
   ],
   "source": [
    "list=[14,21,26,24,26]\n",
    "num=26\n",
    "\n",
    "count=0\n",
    "for i in list:\n",
    "    if i==num:\n",
    "        count +=1\n",
    "\n",
    "print(count)"
   ]
  },
  {
   "cell_type": "markdown",
   "id": "c988960f-0bfa-4d6f-8a30-40af2c9dd2b6",
   "metadata": {},
   "source": [
    "#### 7.Find sum and average of List in Python"
   ]
  },
  {
   "cell_type": "code",
   "execution_count": 28,
   "id": "1fe4d974-ca42-41cb-a1de-df079bb476f8",
   "metadata": {},
   "outputs": [
    {
     "name": "stdout",
     "output_type": "stream",
     "text": [
      "Sum of elements of a given list is: 85\n",
      "Average of a given list is : 21.25\n"
     ]
    }
   ],
   "source": [
    "list=[14,21,26,24]\n",
    "sum=0\n",
    "for i in list:\n",
    "    sum+=i\n",
    "print('Sum of elements of a given list is:',sum)\n",
    "\n",
    "avg=sum/len(list)\n",
    "print('Average of a given list is :',avg)"
   ]
  },
  {
   "cell_type": "markdown",
   "id": "7cae331e-5194-4c3c-b7d1-21a06e57dbab",
   "metadata": {},
   "source": [
    "#### 8.Sum of  all number in List"
   ]
  },
  {
   "cell_type": "code",
   "execution_count": 30,
   "id": "8d89b225-1854-4cbb-8f7c-ba6e6cbe9bc7",
   "metadata": {},
   "outputs": [
    {
     "name": "stdout",
     "output_type": "stream",
     "text": [
      "Sum of elements of a given list is: 85\n"
     ]
    }
   ],
   "source": [
    "list=[14,21,26,24]\n",
    "sum=0\n",
    "for i in list:\n",
    "    sum+=i\n",
    "print('Sum of elements of a given list is:',sum)"
   ]
  },
  {
   "cell_type": "markdown",
   "id": "0291b40f-91bb-4ad1-96c9-85747006dd77",
   "metadata": {},
   "source": [
    "#### 9.Take list from user and do Product of all number in list"
   ]
  },
  {
   "cell_type": "code",
   "execution_count": 42,
   "id": "67033946-fcb1-4c3c-a4bf-be291c51d15f",
   "metadata": {},
   "outputs": [
    {
     "name": "stdin",
     "output_type": "stream",
     "text": [
      "Enter comma separated numbers : 1,2,3,4\n"
     ]
    },
    {
     "name": "stdout",
     "output_type": "stream",
     "text": [
      "[1, 2, 3, 4]\n",
      "Product of elements in a given list is  24\n"
     ]
    }
   ],
   "source": [
    "num=(input('Enter comma separated numbers :'))\n",
    "num_list = num.split(',')\n",
    "new_list = [int(i) for i in num_list]\n",
    "print(new_list)\n",
    "\n",
    "res = 1\n",
    "for i in new_list:\n",
    "    res=res*i\n",
    "\n",
    "print('Product of elements in a given list is ',res)"
   ]
  },
  {
   "cell_type": "markdown",
   "id": "08c20566-1a8f-4e03-ba80-fa47d4467a40",
   "metadata": {},
   "source": [
    "#### 10.Python program to find smallest number in a list"
   ]
  },
  {
   "cell_type": "code",
   "execution_count": 44,
   "id": "931d23c4-888c-4d4e-b20f-0e5681ce4786",
   "metadata": {},
   "outputs": [
    {
     "name": "stdout",
     "output_type": "stream",
     "text": [
      "7\n"
     ]
    }
   ],
   "source": [
    "list=[14,21,26,7,24]\n",
    "smallest_num = list[0]\n",
    "\n",
    "for i in list:\n",
    "    if i<smallest_num:\n",
    "        smallest_num = i\n",
    "\n",
    "print(smallest_num)"
   ]
  },
  {
   "cell_type": "code",
   "execution_count": null,
   "id": "9ad50973-63da-4911-b021-924407a1bd5f",
   "metadata": {},
   "outputs": [],
   "source": []
  }
 ],
 "metadata": {
  "kernelspec": {
   "display_name": "Python 3 (ipykernel)",
   "language": "python",
   "name": "python3"
  },
  "language_info": {
   "codemirror_mode": {
    "name": "ipython",
    "version": 3
   },
   "file_extension": ".py",
   "mimetype": "text/x-python",
   "name": "python",
   "nbconvert_exporter": "python",
   "pygments_lexer": "ipython3",
   "version": "3.12.4"
  }
 },
 "nbformat": 4,
 "nbformat_minor": 5
}
