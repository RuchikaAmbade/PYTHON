{
 "cells": [
  {
   "cell_type": "code",
   "execution_count": 3,
   "id": "f9a23c3b-1d9f-426d-b150-7545eaa2fca9",
   "metadata": {},
   "outputs": [],
   "source": [
    "##### 1 WAP to sum the first n positive integers"
   ]
  },
  {
   "cell_type": "code",
   "execution_count": 1,
   "id": "22d1e531-9bb6-46c6-8f4f-e4a42e8a1a74",
   "metadata": {},
   "outputs": [
    {
     "name": "stdout",
     "output_type": "stream",
     "text": [
      "55\n"
     ]
    }
   ],
   "source": [
    "n=1\n",
    "sum=0\n",
    "while (n<=10):\n",
    "    sum=sum+n\n",
    "    n=n+1\n",
    "print(sum)"
   ]
  },
  {
   "cell_type": "code",
   "execution_count": 15,
   "id": "82ce4209-48a4-4f08-bd94-19c41e3d7e9f",
   "metadata": {},
   "outputs": [],
   "source": [
    "##### 2 WAP to convert height (in feet abd inches) to centimeters"
   ]
  },
  {
   "cell_type": "code",
   "execution_count": 13,
   "id": "a33f68df-b829-4560-879d-9bf6f31a7fc3",
   "metadata": {},
   "outputs": [
    {
     "name": "stdin",
     "output_type": "stream",
     "text": [
      "feet: 4\n",
      "inches: 11\n"
     ]
    },
    {
     "name": "stdout",
     "output_type": "stream",
     "text": [
      "your height is : 149 cm\n"
     ]
    }
   ],
   "source": [
    "h_ft=int(input('feet:'))\n",
    "h_in=int(input('inches:'))\n",
    "total_ht=(ht_ft*12)+h_in\n",
    "h_cm=round(total_ht*2.54,1)\n",
    "print('your height is : %d cm' %h_cm)"
   ]
  },
  {
   "cell_type": "code",
   "execution_count": 27,
   "id": "a0410806-aae0-4949-8f8c-7b406af1073d",
   "metadata": {},
   "outputs": [],
   "source": [
    "##### 3 WAP to calculate the hypotaneous of a right angled triangle."
   ]
  },
  {
   "cell_type": "code",
   "execution_count": 17,
   "id": "5fd3b0cd-57a0-4f7b-9898-ed9d43ce6fc0",
   "metadata": {},
   "outputs": [
    {
     "name": "stdin",
     "output_type": "stream",
     "text": [
      "a: 3\n",
      "b: 4\n"
     ]
    },
    {
     "name": "stdout",
     "output_type": "stream",
     "text": [
      "The length of the hypothenious is: 5.0\n"
     ]
    }
   ],
   "source": [
    "from math import sqrt\n",
    "a=float(input('a:'))\n",
    "b=float(input('b:'))\n",
    "c=sqrt(a**2 + b**2)\n",
    "print('The length of the hypothenious is:',c)"
   ]
  },
  {
   "cell_type": "code",
   "execution_count": 29,
   "id": "971b4dc7-09b1-4fe1-9ffb-6c388ebcd906",
   "metadata": {},
   "outputs": [],
   "source": [
    "##### 4 WAP to convert the distance (in feet) to inches,yards,and miles"
   ]
  },
  {
   "cell_type": "code",
   "execution_count": 25,
   "id": "330ab6f8-de39-447d-8e29-cd304604d88e",
   "metadata": {},
   "outputs": [
    {
     "name": "stdout",
     "output_type": "stream",
     "text": [
      "The distance in inches is %i 1200\n",
      "The distance in inches is %2f 33.333333333333336\n",
      "The distance in inches is %2f 0.01893939393939394\n"
     ]
    }
   ],
   "source": [
    "d_feet=100\n",
    "d_inches = d_feet*12\n",
    "d_yards = d_feet/3\n",
    "d_miles = d_feet/5280\n",
    "print('The distance in inches is %i',d_inches)\n",
    "print('The distance in inches is %2f',d_yards)\n",
    "print('The distance in inches is %2f',d_miles)"
   ]
  },
  {
   "cell_type": "code",
   "execution_count": 5,
   "id": "631d20dd-ace6-4ee7-919b-7eba7adf5265",
   "metadata": {},
   "outputs": [],
   "source": [
    "##### 5 WAP to convert all units of time into seconds"
   ]
  },
  {
   "cell_type": "code",
   "execution_count": 3,
   "id": "487499a9-591e-447b-ae5a-36d7879f1d58",
   "metadata": {},
   "outputs": [
    {
     "name": "stdin",
     "output_type": "stream",
     "text": [
      "Input seconds:  10\n",
      "Input minutes:  20\n",
      "Input hours:  5\n",
      "Input seconds:  4\n"
     ]
    },
    {
     "name": "stdout",
     "output_type": "stream",
     "text": [
      "The amount of seconds: 364810\n"
     ]
    }
   ],
   "source": [
    "seconds = int(input('Input seconds: '))\n",
    "minutes = int(input('Input minutes: '))*60\n",
    "hours = int(input('Input hours: '))*3600\n",
    "days = int(input('Input seconds: '))*3600*24\n",
    "time = days + hours + seconds + minutes\n",
    "print('The amount of seconds:',time)"
   ]
  },
  {
   "cell_type": "code",
   "execution_count": null,
   "id": "bc3a7617-af48-4970-9393-60fcbb03e335",
   "metadata": {},
   "outputs": [],
   "source": []
  }
 ],
 "metadata": {
  "kernelspec": {
   "display_name": "Python 3 (ipykernel)",
   "language": "python",
   "name": "python3"
  },
  "language_info": {
   "codemirror_mode": {
    "name": "ipython",
    "version": 3
   },
   "file_extension": ".py",
   "mimetype": "text/x-python",
   "name": "python",
   "nbconvert_exporter": "python",
   "pygments_lexer": "ipython3",
   "version": "3.12.4"
  }
 },
 "nbformat": 4,
 "nbformat_minor": 5
}
