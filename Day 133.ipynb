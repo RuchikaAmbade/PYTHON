{
 "cells": [
  {
   "cell_type": "code",
   "execution_count": null,
   "id": "186136a7-8d89-4dbc-9ba9-0390269afd2e",
   "metadata": {},
   "outputs": [],
   "source": [
    "# Arithmatic operrators using input function"
   ]
  },
  {
   "cell_type": "code",
   "execution_count": 1,
   "id": "bccbaf51-3e2f-4b60-a331-f6e2df70f387",
   "metadata": {},
   "outputs": [
    {
     "name": "stdin",
     "output_type": "stream",
     "text": [
      "Enter first number 8\n",
      "Enter second number 6\n"
     ]
    },
    {
     "name": "stdout",
     "output_type": "stream",
     "text": [
      "Addition of n1 and n2 is: 14\n"
     ]
    }
   ],
   "source": [
    "# Addition\n",
    "n1= int(input('Enter first number'))\n",
    "n2= int(input('Enter second number'))\n",
    "result = n1+n2\n",
    "print('Addition of n1 and n2 is:',result)"
   ]
  },
  {
   "cell_type": "code",
   "execution_count": 11,
   "id": "3be81a93-9567-4930-8ed0-9ffc76433340",
   "metadata": {},
   "outputs": [
    {
     "name": "stdout",
     "output_type": "stream",
     "text": [
      "Subtraction of n1 and n2 is: 2\n"
     ]
    }
   ],
   "source": [
    "# subtraction\n",
    "def subtract(n1,n2):\n",
    "    result=n1-n2\n",
    "    return print(\"Subtraction of n1 and n2 is:\",result)\n",
    "\n",
    "subtract(31,29)"
   ]
  },
  {
   "cell_type": "code",
   "execution_count": null,
   "id": "5b0a0758-fe1d-4b71-9704-218e78ae1f63",
   "metadata": {},
   "outputs": [],
   "source": []
  }
 ],
 "metadata": {
  "kernelspec": {
   "display_name": "Python 3 (ipykernel)",
   "language": "python",
   "name": "python3"
  },
  "language_info": {
   "codemirror_mode": {
    "name": "ipython",
    "version": 3
   },
   "file_extension": ".py",
   "mimetype": "text/x-python",
   "name": "python",
   "nbconvert_exporter": "python",
   "pygments_lexer": "ipython3",
   "version": "3.12.4"
  }
 },
 "nbformat": 4,
 "nbformat_minor": 5
}
