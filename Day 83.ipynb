{
 "cells": [
  {
   "cell_type": "markdown",
   "id": "3c81976a-32b3-4013-a241-9a5eebb8ea98",
   "metadata": {},
   "source": [
    "##### 1 WAP to find out what version of Python you are using."
   ]
  },
  {
   "cell_type": "code",
   "execution_count": 13,
   "id": "97474483-8187-406c-be19-34d76e616c6d",
   "metadata": {},
   "outputs": [
    {
     "name": "stdout",
     "output_type": "stream",
     "text": [
      "Version\n",
      "3.12.4 | packaged by Anaconda, Inc. | (main, Jun 18 2024, 15:03:56) [MSC v.1929 64 bit (AMD64)]\n",
      "Version_info\n",
      "sys.version_info(major=3, minor=12, micro=4, releaselevel='final', serial=0)\n"
     ]
    }
   ],
   "source": [
    "import sys\n",
    "print('Version')\n",
    "print(sys.version)\n",
    "print('Version_info')\n",
    "print(sys.version_info)"
   ]
  },
  {
   "cell_type": "markdown",
   "id": "4948f90b-e1e1-45ac-b677-04479c66942f",
   "metadata": {},
   "source": [
    "##### 2 WAP to display the currebt date and time."
   ]
  },
  {
   "cell_type": "code",
   "execution_count": 25,
   "id": "ce21f3d3-4a87-41f7-be5a-4cf5825c90b8",
   "metadata": {},
   "outputs": [
    {
     "name": "stdout",
     "output_type": "stream",
     "text": [
      "Current date and time\n",
      "2024-11-06 19:45:51\n"
     ]
    }
   ],
   "source": [
    "import datetime\n",
    "now = datetime.datetime.now()\n",
    "print('Current date and time')\n",
    "print(now.strftime('%Y-%m-%d %H:%M:%S'))"
   ]
  },
  {
   "cell_type": "markdown",
   "id": "1972ac91-7933-49de-84a0-e18320747291",
   "metadata": {},
   "source": [
    "##### 3 WAP that calculates the area of a circle based on the radius entered by the user."
   ]
  },
  {
   "cell_type": "code",
   "execution_count": 31,
   "id": "2b2e6b2b-d559-43b8-9e2a-d1eaa71c39d4",
   "metadata": {},
   "outputs": [
    {
     "name": "stdin",
     "output_type": "stream",
     "text": [
      "input the radius of the circle : 2.54\n"
     ]
    },
    {
     "name": "stdout",
     "output_type": "stream",
     "text": [
      "The area of the circle with radius2.54is :20.268299163899908\n"
     ]
    }
   ],
   "source": [
    "from math import pi\n",
    "r= float(input('input the radius of the circle :'))\n",
    "area=pi*(r**2)\n",
    "print('The area of the circle with radius' + str(r) + 'is :' + str(area))"
   ]
  },
  {
   "cell_type": "markdown",
   "id": "c819278a-9585-4168-a98b-33fb1b238f1d",
   "metadata": {},
   "source": [
    "##### 4 WAP that accepts the user's first and last name and prints them in reverse order with a space between them."
   ]
  },
  {
   "cell_type": "code",
   "execution_count": 34,
   "id": "0b2d9607-4026-48d8-bd27-f9fe07aed164",
   "metadata": {},
   "outputs": [
    {
     "name": "stdin",
     "output_type": "stream",
     "text": [
      "Input your first name :  Ruchika\n",
      "Input your last name :  Ambade\n"
     ]
    },
    {
     "name": "stdout",
     "output_type": "stream",
     "text": [
      "Hello  Ambade Ruchika\n"
     ]
    }
   ],
   "source": [
    "fname = input('Input your first name : ')\n",
    "lname = input('Input your last name : ')\n",
    "print('Hello ',lname , fname)"
   ]
  },
  {
   "cell_type": "code",
   "execution_count": null,
   "id": "585b3df9-da56-44c3-91f6-9ee43e3a8a7e",
   "metadata": {},
   "outputs": [],
   "source": []
  }
 ],
 "metadata": {
  "kernelspec": {
   "display_name": "Python 3 (ipykernel)",
   "language": "python",
   "name": "python3"
  },
  "language_info": {
   "codemirror_mode": {
    "name": "ipython",
    "version": 3
   },
   "file_extension": ".py",
   "mimetype": "text/x-python",
   "name": "python",
   "nbconvert_exporter": "python",
   "pygments_lexer": "ipython3",
   "version": "3.12.4"
  }
 },
 "nbformat": 4,
 "nbformat_minor": 5
}
