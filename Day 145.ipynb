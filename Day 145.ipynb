{
 "cells": [
  {
   "cell_type": "markdown",
   "id": "c78ab852-93d2-4b36-866c-9322698562e1",
   "metadata": {},
   "source": [
    "##### WAP to check whwther a person is senior citizen or not"
   ]
  },
  {
   "cell_type": "code",
   "execution_count": 5,
   "id": "30721b3b-69a4-4f1b-91ae-2301447765b9",
   "metadata": {},
   "outputs": [
    {
     "name": "stdin",
     "output_type": "stream",
     "text": [
      "Enter your age : 22\n"
     ]
    },
    {
     "name": "stdout",
     "output_type": "stream",
     "text": [
      "No senior citizen\n"
     ]
    }
   ],
   "source": [
    "age = int(input('Enter your age :'))\n",
    "if age >= 60:\n",
    "    print('Senior citizen')\n",
    "else:\n",
    "    print('No senior citizen')"
   ]
  },
  {
   "cell_type": "markdown",
   "id": "5ae22c91-6179-4b6d-b435-e1a43f57c7c5",
   "metadata": {},
   "source": [
    "##### WAP to find the lowest number out of two numbers."
   ]
  },
  {
   "cell_type": "code",
   "execution_count": 16,
   "id": "5fc95ec0-b5eb-497b-98a1-7c1a74c647f7",
   "metadata": {},
   "outputs": [
    {
     "name": "stdin",
     "output_type": "stream",
     "text": [
      "Enter number a : 24\n",
      "Enter number b : 26\n"
     ]
    },
    {
     "name": "stdout",
     "output_type": "stream",
     "text": [
      "a is smaller number\n"
     ]
    }
   ],
   "source": [
    "a = int(input('Enter number a :'))\n",
    "b = int(input('Enter number b :'))\n",
    "if a > b:\n",
    "    print('b is smaller number')\n",
    "elif b>a:\n",
    "    print('a is smaller number')\n",
    "else:\n",
    "    print('a and b are same')"
   ]
  },
  {
   "cell_type": "code",
   "execution_count": null,
   "id": "c96492e3-f8a3-4401-ae7d-8100d1555268",
   "metadata": {},
   "outputs": [],
   "source": []
  }
 ],
 "metadata": {
  "kernelspec": {
   "display_name": "Python 3 (ipykernel)",
   "language": "python",
   "name": "python3"
  },
  "language_info": {
   "codemirror_mode": {
    "name": "ipython",
    "version": 3
   },
   "file_extension": ".py",
   "mimetype": "text/x-python",
   "name": "python",
   "nbconvert_exporter": "python",
   "pygments_lexer": "ipython3",
   "version": "3.12.4"
  }
 },
 "nbformat": 4,
 "nbformat_minor": 5
}
